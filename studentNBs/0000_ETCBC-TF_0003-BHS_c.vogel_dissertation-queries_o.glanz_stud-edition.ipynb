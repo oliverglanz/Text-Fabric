{
 "cells": [
  {
   "cell_type": "markdown",
   "metadata": {},
   "source": [
    "# Queries on Chris Vogel's dissertation claims\n",
    "## How to write nicely with `Markup`"
   ]
  },
  {
   "cell_type": "markdown",
   "metadata": {},
   "source": [
    "Check this out!\n",
    "\n",
    "https://github.com/adam-p/markdown-here/wiki/Markdown-Cheatsheet\n"
   ]
  },
  {
   "cell_type": "markdown",
   "metadata": {},
   "source": [
    "## Getting TF ready"
   ]
  },
  {
   "cell_type": "code",
   "execution_count": 1,
   "metadata": {},
   "outputs": [],
   "source": [
    "%load_ext autoreload\n",
    "%autoreload 2"
   ]
  },
  {
   "cell_type": "code",
   "execution_count": 2,
   "metadata": {},
   "outputs": [],
   "source": [
    "# First, I have to laod different modules that I use for analyzing the data and for plotting:\n",
    "import sys, os, collections\n",
    "import pandas as pd\n",
    "import numpy as np\n",
    "import seaborn as sns\n",
    "import matplotlib.pyplot as plt; plt.rcdefaults()\n",
    "from matplotlib.pyplot import figure\n",
    "from collections import Counter\n",
    "\n",
    "# Second, I have to load the Text Fabric app\n",
    "from tf.fabric import Fabric\n",
    "from tf.app import use"
   ]
  },
  {
   "cell_type": "code",
   "execution_count": 3,
   "metadata": {},
   "outputs": [
    {
     "name": "stdout",
     "output_type": "stream",
     "text": [
      "\tconnecting to online GitHub repo annotation/app-bhsa ... connected\n",
      "\tcode/__init__.py...downloaded\n",
      "\tcode/app.py...downloaded\n",
      "\tcode/config.py...downloaded\n",
      "\tcode/static...directory\n",
      "\t\tcode/static/display.css...downloaded\n",
      "\t\tcode/static/logo.png...downloaded\n",
      "\tOK\n",
      "Using TF-app in /Users/mrkensly/text-fabric-data/annotation/app-bhsa/code:\n",
      "\trv1.1=#35e4fee27a1cd6f0a5caea9118129349ddb0604e (latest release)\n",
      "\tconnecting to online GitHub repo etcbc/bhsa ... connected\n",
      "Using data in /Users/mrkensly/text-fabric-data/etcbc/bhsa/tf/c:\n",
      "\trv1.6=#bac4a9f5a2bbdede96ba6caea45e762fe88f88c5 (latest release)\n",
      "\tconnecting to online GitHub repo etcbc/phono ... connected\n",
      "Using data in /Users/mrkensly/text-fabric-data/etcbc/phono/tf/c:\n",
      "\tr1.2=#1ac68e976ee4a7f23eb6bb4c6f401a033d0ec169 (latest release)\n",
      "\tconnecting to online GitHub repo etcbc/parallels ... connected\n",
      "Using data in /Users/mrkensly/text-fabric-data/etcbc/parallels/tf/c:\n",
      "\tr1.2=#395dfe2cb69c261862fab9f0289e594a52121d5c (latest release)\n",
      "   |     0.00s No structure info in otext, the structure part of the T-API cannot be used\n"
     ]
    },
    {
     "data": {
      "text/html": [
       "<b>Documentation:</b> <a target=\"_blank\" href=\"https://etcbc.github.io/bhsa\" title=\"provenance of BHSA = Biblia Hebraica Stuttgartensia Amstelodamensis\">BHSA</a> <a target=\"_blank\" href=\"https://annotation.github.io/text-fabric/Writing/Hebrew\" title=\"('Hebrew characters and transcriptions',)\">Character table</a> <a target=\"_blank\" href=\"https://etcbc.github.io/bhsa/features/0_home\" title=\"BHSA feature documentation\">Feature docs</a> <a target=\"_blank\" href=\"https://github.com/annotation/app-bhsa\" title=\"bhsa API documentation\">bhsa API</a> <a target=\"_blank\" href=\"https://annotation.github.io/text-fabric/Api/Fabric/\" title=\"text-fabric-api\">Text-Fabric API 7.8.2</a> <a target=\"_blank\" href=\"https://annotation.github.io/text-fabric/Use/Search/\" title=\"Search Templates Introduction and Reference\">Search Reference</a><details open><summary><b>Loaded features</b>:</summary>\n",
       "<p><b>BHSA = Biblia Hebraica Stuttgartensia Amstelodamensis</b>: <a target=\"_blank\" href=\"https://etcbc.github.io/bhsa/features/book\" title=\"/Users/mrkensly/text-fabric-data/etcbc/bhsa/tf/c/book.tf\">book</a>  <a target=\"_blank\" href=\"https://etcbc.github.io/bhsa/features/book@ll\" title=\"/Users/mrkensly/text-fabric-data/etcbc/bhsa/tf/c/book@am.tf\">book@ll</a>  <a target=\"_blank\" href=\"https://etcbc.github.io/bhsa/features/chapter\" title=\"/Users/mrkensly/text-fabric-data/etcbc/bhsa/tf/c/chapter.tf\">chapter</a>  <a target=\"_blank\" href=\"https://etcbc.github.io/bhsa/features/code\" title=\"/Users/mrkensly/text-fabric-data/etcbc/bhsa/tf/c/code.tf\">code</a>  <a target=\"_blank\" href=\"https://etcbc.github.io/bhsa/features/det\" title=\"/Users/mrkensly/text-fabric-data/etcbc/bhsa/tf/c/det.tf\">det</a>  <a target=\"_blank\" href=\"https://etcbc.github.io/bhsa/features/freq_lex\" title=\"/Users/mrkensly/text-fabric-data/etcbc/bhsa/tf/c/freq_lex.tf\">freq_lex</a>  <a target=\"_blank\" href=\"https://etcbc.github.io/bhsa/features/function\" title=\"/Users/mrkensly/text-fabric-data/etcbc/bhsa/tf/c/function.tf\">function</a>  <a target=\"_blank\" href=\"https://etcbc.github.io/bhsa/features/g_cons\" title=\"/Users/mrkensly/text-fabric-data/etcbc/bhsa/tf/c/g_cons.tf\">g_cons</a>  <a target=\"_blank\" href=\"https://etcbc.github.io/bhsa/features/g_cons_utf8\" title=\"/Users/mrkensly/text-fabric-data/etcbc/bhsa/tf/c/g_cons_utf8.tf\">g_cons_utf8</a>  <a target=\"_blank\" href=\"https://etcbc.github.io/bhsa/features/g_lex\" title=\"/Users/mrkensly/text-fabric-data/etcbc/bhsa/tf/c/g_lex.tf\">g_lex</a>  <a target=\"_blank\" href=\"https://etcbc.github.io/bhsa/features/g_lex_utf8\" title=\"/Users/mrkensly/text-fabric-data/etcbc/bhsa/tf/c/g_lex_utf8.tf\">g_lex_utf8</a>  <a target=\"_blank\" href=\"https://etcbc.github.io/bhsa/features/g_word\" title=\"/Users/mrkensly/text-fabric-data/etcbc/bhsa/tf/c/g_word.tf\">g_word</a>  <a target=\"_blank\" href=\"https://etcbc.github.io/bhsa/features/g_word_utf8\" title=\"/Users/mrkensly/text-fabric-data/etcbc/bhsa/tf/c/g_word_utf8.tf\">g_word_utf8</a>  <a target=\"_blank\" href=\"https://etcbc.github.io/bhsa/features/gloss\" title=\"/Users/mrkensly/text-fabric-data/etcbc/bhsa/tf/c/gloss.tf\">gloss</a>  <a target=\"_blank\" href=\"https://etcbc.github.io/bhsa/features/gn\" title=\"/Users/mrkensly/text-fabric-data/etcbc/bhsa/tf/c/gn.tf\">gn</a>  <a target=\"_blank\" href=\"https://etcbc.github.io/bhsa/features/label\" title=\"/Users/mrkensly/text-fabric-data/etcbc/bhsa/tf/c/label.tf\">label</a>  <a target=\"_blank\" href=\"https://etcbc.github.io/bhsa/features/language\" title=\"/Users/mrkensly/text-fabric-data/etcbc/bhsa/tf/c/language.tf\">language</a>  <a target=\"_blank\" href=\"https://etcbc.github.io/bhsa/features/lex\" title=\"/Users/mrkensly/text-fabric-data/etcbc/bhsa/tf/c/lex.tf\">lex</a>  <a target=\"_blank\" href=\"https://etcbc.github.io/bhsa/features/lex_utf8\" title=\"/Users/mrkensly/text-fabric-data/etcbc/bhsa/tf/c/lex_utf8.tf\">lex_utf8</a>  <a target=\"_blank\" href=\"https://etcbc.github.io/bhsa/features/ls\" title=\"/Users/mrkensly/text-fabric-data/etcbc/bhsa/tf/c/ls.tf\">ls</a>  <a target=\"_blank\" href=\"https://etcbc.github.io/bhsa/features/nametype\" title=\"/Users/mrkensly/text-fabric-data/etcbc/bhsa/tf/c/nametype.tf\">nametype</a>  <a target=\"_blank\" href=\"https://etcbc.github.io/bhsa/features/nme\" title=\"/Users/mrkensly/text-fabric-data/etcbc/bhsa/tf/c/nme.tf\">nme</a>  <a target=\"_blank\" href=\"https://etcbc.github.io/bhsa/features/nu\" title=\"/Users/mrkensly/text-fabric-data/etcbc/bhsa/tf/c/nu.tf\">nu</a>  <a target=\"_blank\" href=\"https://etcbc.github.io/bhsa/features/number\" title=\"/Users/mrkensly/text-fabric-data/etcbc/bhsa/tf/c/number.tf\">number</a>  <a target=\"_blank\" href=\"https://etcbc.github.io/bhsa/features/otype\" title=\"/Users/mrkensly/text-fabric-data/etcbc/bhsa/tf/c/otype.tf\">otype</a>  <a target=\"_blank\" href=\"https://etcbc.github.io/bhsa/features/pdp\" title=\"/Users/mrkensly/text-fabric-data/etcbc/bhsa/tf/c/pdp.tf\">pdp</a>  <a target=\"_blank\" href=\"https://etcbc.github.io/bhsa/features/pfm\" title=\"/Users/mrkensly/text-fabric-data/etcbc/bhsa/tf/c/pfm.tf\">pfm</a>  <a target=\"_blank\" href=\"https://etcbc.github.io/bhsa/features/prs\" title=\"/Users/mrkensly/text-fabric-data/etcbc/bhsa/tf/c/prs.tf\">prs</a>  <a target=\"_blank\" href=\"https://etcbc.github.io/bhsa/features/prs_gn\" title=\"/Users/mrkensly/text-fabric-data/etcbc/bhsa/tf/c/prs_gn.tf\">prs_gn</a>  <a target=\"_blank\" href=\"https://etcbc.github.io/bhsa/features/prs_nu\" title=\"/Users/mrkensly/text-fabric-data/etcbc/bhsa/tf/c/prs_nu.tf\">prs_nu</a>  <a target=\"_blank\" href=\"https://etcbc.github.io/bhsa/features/prs_ps\" title=\"/Users/mrkensly/text-fabric-data/etcbc/bhsa/tf/c/prs_ps.tf\">prs_ps</a>  <a target=\"_blank\" href=\"https://etcbc.github.io/bhsa/features/ps\" title=\"/Users/mrkensly/text-fabric-data/etcbc/bhsa/tf/c/ps.tf\">ps</a>  <a target=\"_blank\" href=\"https://etcbc.github.io/bhsa/features/qere\" title=\"/Users/mrkensly/text-fabric-data/etcbc/bhsa/tf/c/qere.tf\">qere</a>  <a target=\"_blank\" href=\"https://etcbc.github.io/bhsa/features/qere_trailer\" title=\"/Users/mrkensly/text-fabric-data/etcbc/bhsa/tf/c/qere_trailer.tf\">qere_trailer</a>  <a target=\"_blank\" href=\"https://etcbc.github.io/bhsa/features/qere_trailer_utf8\" title=\"/Users/mrkensly/text-fabric-data/etcbc/bhsa/tf/c/qere_trailer_utf8.tf\">qere_trailer_utf8</a>  <a target=\"_blank\" href=\"https://etcbc.github.io/bhsa/features/qere_utf8\" title=\"/Users/mrkensly/text-fabric-data/etcbc/bhsa/tf/c/qere_utf8.tf\">qere_utf8</a>  <a target=\"_blank\" href=\"https://etcbc.github.io/bhsa/features/rank_lex\" title=\"/Users/mrkensly/text-fabric-data/etcbc/bhsa/tf/c/rank_lex.tf\">rank_lex</a>  <a target=\"_blank\" href=\"https://etcbc.github.io/bhsa/features/rela\" title=\"/Users/mrkensly/text-fabric-data/etcbc/bhsa/tf/c/rela.tf\">rela</a>  <a target=\"_blank\" href=\"https://etcbc.github.io/bhsa/features/sp\" title=\"/Users/mrkensly/text-fabric-data/etcbc/bhsa/tf/c/sp.tf\">sp</a>  <a target=\"_blank\" href=\"https://etcbc.github.io/bhsa/features/st\" title=\"/Users/mrkensly/text-fabric-data/etcbc/bhsa/tf/c/st.tf\">st</a>  <a target=\"_blank\" href=\"https://etcbc.github.io/bhsa/features/tab\" title=\"/Users/mrkensly/text-fabric-data/etcbc/bhsa/tf/c/tab.tf\">tab</a>  <a target=\"_blank\" href=\"https://etcbc.github.io/bhsa/features/trailer\" title=\"/Users/mrkensly/text-fabric-data/etcbc/bhsa/tf/c/trailer.tf\">trailer</a>  <a target=\"_blank\" href=\"https://etcbc.github.io/bhsa/features/trailer_utf8\" title=\"/Users/mrkensly/text-fabric-data/etcbc/bhsa/tf/c/trailer_utf8.tf\">trailer_utf8</a>  <a target=\"_blank\" href=\"https://etcbc.github.io/bhsa/features/txt\" title=\"/Users/mrkensly/text-fabric-data/etcbc/bhsa/tf/c/txt.tf\">txt</a>  <a target=\"_blank\" href=\"https://etcbc.github.io/bhsa/features/typ\" title=\"/Users/mrkensly/text-fabric-data/etcbc/bhsa/tf/c/typ.tf\">typ</a>  <a target=\"_blank\" href=\"https://etcbc.github.io/bhsa/features/uvf\" title=\"/Users/mrkensly/text-fabric-data/etcbc/bhsa/tf/c/uvf.tf\">uvf</a>  <a target=\"_blank\" href=\"https://etcbc.github.io/bhsa/features/vbe\" title=\"/Users/mrkensly/text-fabric-data/etcbc/bhsa/tf/c/vbe.tf\">vbe</a>  <a target=\"_blank\" href=\"https://etcbc.github.io/bhsa/features/vbs\" title=\"/Users/mrkensly/text-fabric-data/etcbc/bhsa/tf/c/vbs.tf\">vbs</a>  <a target=\"_blank\" href=\"https://etcbc.github.io/bhsa/features/verse\" title=\"/Users/mrkensly/text-fabric-data/etcbc/bhsa/tf/c/verse.tf\">verse</a>  <a target=\"_blank\" href=\"https://etcbc.github.io/bhsa/features/voc_lex\" title=\"/Users/mrkensly/text-fabric-data/etcbc/bhsa/tf/c/voc_lex.tf\">voc_lex</a>  <a target=\"_blank\" href=\"https://etcbc.github.io/bhsa/features/voc_lex_utf8\" title=\"/Users/mrkensly/text-fabric-data/etcbc/bhsa/tf/c/voc_lex_utf8.tf\">voc_lex_utf8</a>  <a target=\"_blank\" href=\"https://etcbc.github.io/bhsa/features/vs\" title=\"/Users/mrkensly/text-fabric-data/etcbc/bhsa/tf/c/vs.tf\">vs</a>  <a target=\"_blank\" href=\"https://etcbc.github.io/bhsa/features/vt\" title=\"/Users/mrkensly/text-fabric-data/etcbc/bhsa/tf/c/vt.tf\">vt</a>  <b><i><a target=\"_blank\" href=\"https://etcbc.github.io/bhsa/features/mother\" title=\"/Users/mrkensly/text-fabric-data/etcbc/bhsa/tf/c/mother.tf\">mother</a></i></b>  <b><i><a target=\"_blank\" href=\"https://etcbc.github.io/bhsa/features/oslots\" title=\"/Users/mrkensly/text-fabric-data/etcbc/bhsa/tf/c/oslots.tf\">oslots</a></i></b> </p><p><b>Parallel Passages</b>: <b><i><a target=\"_blank\" href=\"https://nbviewer.jupyter.org/github/etcbc/parallels/blob/master/programs/parallels.ipynb\" title=\"/Users/mrkensly/text-fabric-data/etcbc/parallels/tf/c/crossref.tf\">crossref</a></i></b> </p><p><b>Phonetic Transcriptions</b>: <a target=\"_blank\" href=\"https://nbviewer.jupyter.org/github/etcbc/phono/blob/master/programs/phono.ipynb\" title=\"/Users/mrkensly/text-fabric-data/etcbc/phono/tf/c/phono.tf\">phono</a>  <a target=\"_blank\" href=\"https://nbviewer.jupyter.org/github/etcbc/phono/blob/master/programs/phono.ipynb\" title=\"/Users/mrkensly/text-fabric-data/etcbc/phono/tf/c/phono_trailer.tf\">phono_trailer</a> </p></details>"
      ],
      "text/plain": [
       "<IPython.core.display.HTML object>"
      ]
     },
     "metadata": {},
     "output_type": "display_data"
    },
    {
     "data": {
      "text/html": [
       "<style>\n",
       "@font-face {\n",
       "  font-family: \"Ezra SIL\";\n",
       "  src:\n",
       "    local(\"SILEOT.ttf\"),\n",
       "    url(\"https://github.com/annotation/text-fabric/blob/master/tf/server/static/fonts/SILEOT.woff?raw=true\");\n",
       "}\n",
       ".features {\n",
       "    font-family: monospace;\n",
       "    font-size: medium;\n",
       "    font-weight: bold;\n",
       "    color: #0a6611;\n",
       "    display: flex;\n",
       "    flex-flow: column nowrap;\n",
       "    padding: 0.1em;\n",
       "    margin: 0.1em;\n",
       "    direction: ltr;\n",
       "}\n",
       ".features div,.features span {\n",
       "    padding: 0;\n",
       "    margin: -0.1rem 0;\n",
       "}\n",
       ".features .f {\n",
       "    font-family: sans-serif;\n",
       "    font-size: x-small;\n",
       "    font-weight: normal;\n",
       "    color: #5555bb;\n",
       "}\n",
       ".features .xft {\n",
       "  color: #000000;\n",
       "  background-color: #eeeeee;\n",
       "  font-size: medium;\n",
       "  margin: 0.1em 0em;\n",
       "}\n",
       ".features .xft .f {\n",
       "  color: #000000;\n",
       "  background-color: #eeeeee;\n",
       "  font-style: italic;\n",
       "  font-size: small;\n",
       "  font-weight: normal;\n",
       "}\n",
       ".ltr {\n",
       "    direction: ltr ! important;\n",
       "}\n",
       ".verse {\n",
       "    display: flex;\n",
       "    flex-flow: row wrap;\n",
       "    direction: rtl;\n",
       "}\n",
       ".vl {\n",
       "    display: flex;\n",
       "    flex-flow: column nowrap;\n",
       "    justify-content: flex-end;\n",
       "    align-items: flex-end;\n",
       "    direction: ltr;\n",
       "    width: 100%;\n",
       "}\n",
       ".outeritem {\n",
       "    display: flex;\n",
       "    flex-flow: row wrap;\n",
       "    direction: rtl;\n",
       "}\n",
       ".sentence,.clause,.phrase {\n",
       "    margin-top: -1.2em;\n",
       "    margin-left: 1em;\n",
       "    background: #ffffff none repeat scroll 0 0;\n",
       "    padding: 0 0.3em;\n",
       "    border-style: solid;\n",
       "    border-radius: 0.2em;\n",
       "    font-size: small;\n",
       "    display: block;\n",
       "    width: fit-content;\n",
       "    max-width: fit-content;\n",
       "    direction: ltr;\n",
       "}\n",
       ".atoms {\n",
       "    display: flex;\n",
       "    flex-flow: row wrap;\n",
       "    margin: 0.3em;\n",
       "    padding: 0.3em;\n",
       "    direction: rtl;\n",
       "    background-color: #ffffff;\n",
       "}\n",
       ".satom,.catom,.patom {\n",
       "    margin: 0.3em;\n",
       "    padding: 0.3em;\n",
       "    border-radius: 0.3em;\n",
       "    border-style: solid;\n",
       "    display: flex;\n",
       "    flex-flow: column nowrap;\n",
       "    direction: rtl;\n",
       "    background-color: #ffffff;\n",
       "}\n",
       ".sentence {\n",
       "    border-color: #aa3333;\n",
       "    border-width: 1px;\n",
       "}\n",
       ".clause {\n",
       "    border-color: #aaaa33;\n",
       "    border-width: 1px;\n",
       "}\n",
       ".phrase {\n",
       "    border-color: #33aaaa;\n",
       "    border-width: 1px;\n",
       "}\n",
       ".satom {\n",
       "    border-color: #aa3333;\n",
       "    border-width: 4px;\n",
       "}\n",
       ".catom {\n",
       "    border-color: #aaaa33;\n",
       "    border-width: 3px;\n",
       "}\n",
       ".patom {\n",
       "    border-color: #33aaaa;\n",
       "    border-width: 3px;\n",
       "}\n",
       ".word {\n",
       "    padding: 0.1em;\n",
       "    margin: 0.1em;\n",
       "    border-radius: 0.1em;\n",
       "    border: 1px solid #cccccc;\n",
       "    display: flex;\n",
       "    flex-flow: column nowrap;\n",
       "    direction: rtl;\n",
       "    background-color: #ffffff;\n",
       "}\n",
       ".lextp {\n",
       "    padding: 0.1em;\n",
       "    margin: 0.1em;\n",
       "    border-radius: 0.1em;\n",
       "    border: 2px solid #888888;\n",
       "    width: fit-content;\n",
       "    display: flex;\n",
       "    flex-flow: column nowrap;\n",
       "    direction: rtl;\n",
       "    background-color: #ffffff;\n",
       "}\n",
       ".occs {\n",
       "    font-size: x-small;\n",
       "}\n",
       ".satom.l,.catom.l,.patom.l {\n",
       "    border-left-style: dotted\n",
       "}\n",
       ".satom.r,.catom.r,.patom.r {\n",
       "    border-right-style: dotted\n",
       "}\n",
       ".satom.lno,.catom.lno,.patom.lno {\n",
       "    border-left-style: none\n",
       "}\n",
       ".satom.rno,.catom.rno,.patom.rno {\n",
       "    border-right-style: none\n",
       "}\n",
       ".tr,.tr a:visited,.tr a:link {\n",
       "    font-family: sans-serif;\n",
       "    font-size: large;\n",
       "    color: #000044;\n",
       "    direction: ltr;\n",
       "    text-decoration: none;\n",
       "}\n",
       ".trb,.trb a:visited,.trb a:link {\n",
       "    font-family: sans-serif;\n",
       "    font-size: normal;\n",
       "    direction: ltr;\n",
       "    text-decoration: none;\n",
       "}\n",
       ".prb,.prb a:visited,.prb a:link {\n",
       "    font-family: sans-serif;\n",
       "    font-size: large;\n",
       "    direction: ltr;\n",
       "    text-decoration: none;\n",
       "}\n",
       ".h,.h a:visited,.h a:link {\n",
       "    font-family: \"Ezra SIL\", \"SBL Hebrew\", sans-serif;\n",
       "    font-size: large;\n",
       "    color: #000044;\n",
       "    direction: rtl;\n",
       "    text-decoration: none;\n",
       "}\n",
       ".hb,.hb a:visited,.hb a:link {\n",
       "    font-family: \"Ezra SIL\", \"SBL Hebrew\", sans-serif;\n",
       "    font-size: large;\n",
       "    line-height: 2;\n",
       "    direction: rtl;\n",
       "    text-decoration: none;\n",
       "}\n",
       ".vn {\n",
       "  font-size: small !important;\n",
       "  padding-right: 1em;\n",
       "}\n",
       ".rela,.function,.typ {\n",
       "    font-family: monospace;\n",
       "    font-size: small;\n",
       "    color: #0000bb;\n",
       "}\n",
       ".pdp,.pdp a:visited,.pdp a:link {\n",
       "    font-family: monospace;\n",
       "    font-size: medium;\n",
       "    color: #0000bb;\n",
       "    text-decoration: none;\n",
       "}\n",
       ".voc_lex {\n",
       "    font-family: monospace;\n",
       "    font-size: medium;\n",
       "    color: #0000bb;\n",
       "}\n",
       ".vs {\n",
       "    font-family: monospace;\n",
       "    font-size: medium;\n",
       "    font-weight: bold;\n",
       "    color: #0000bb;\n",
       "}\n",
       ".vt {\n",
       "    font-family: monospace;\n",
       "    font-size: medium;\n",
       "    font-weight: bold;\n",
       "    color: #0000bb;\n",
       "}\n",
       ".gloss {\n",
       "    font-family: sans-serif;\n",
       "    font-size: small;\n",
       "    font-weight: normal;\n",
       "    color: #444444;\n",
       "}\n",
       ".vrs {\n",
       "    font-family: sans-serif;\n",
       "    font-size: small;\n",
       "    font-weight: bold;\n",
       "    color: #444444;\n",
       "}\n",
       ".nd {\n",
       "    font-family: monospace;\n",
       "    font-size: x-small;\n",
       "    color: #999999;\n",
       "}\n",
       ".hl {\n",
       "    background-color: #ffee66;\n",
       "}\n",
       "\n",
       "tr.tf, td.tf, th.tf {\n",
       "  text-align: left;\n",
       "}\n",
       "\n",
       "span.hldot {\n",
       "\tbackground-color: var(--hl-strong);\n",
       "\tborder: 0.2rem solid var(--hl-rim);\n",
       "\tborder-radius: 0.4rem;\n",
       "\t/*\n",
       "\tdisplay: inline-block;\n",
       "\twidth: 0.8rem;\n",
       "\theight: 0.8rem;\n",
       "\t*/\n",
       "}\n",
       "span.hl {\n",
       "\tbackground-color: var(--hl-strong);\n",
       "\tborder-width: 0;\n",
       "\tborder-radius: 0.1rem;\n",
       "\tborder-style: solid;\n",
       "}\n",
       "\n",
       "span.hlup {\n",
       "\tborder-color: var(--hl-dark);\n",
       "\tborder-width: 0.1rem;\n",
       "\tborder-style: solid;\n",
       "\tborder-radius: 0.2rem;\n",
       "  padding: 0.2rem;\n",
       "}\n",
       "\n",
       ":root {\n",
       "\t--hl-strong:        hsla( 60, 100%,  70%, 0.9  );\n",
       "\t--hl-rim:           hsla( 55, 100%,  60%, 0.9  );\n",
       "\t--hl-dark:          hsla( 55, 100%,  40%, 0.9  );\n",
       "}\n",
       "</style>"
      ],
      "text/plain": [
       "<IPython.core.display.HTML object>"
      ]
     },
     "metadata": {},
     "output_type": "display_data"
    },
    {
     "data": {
      "text/html": [
       "<details open><summary><b>API members</b>:</summary>\n",
       "<a target=\"_blank\" href=\"https://annotation.github.io/text-fabric/Api/Computed/#computed-data\" title=\"doc\">C Computed</a>, <a target=\"_blank\" href=\"https://annotation.github.io/text-fabric/Api/Computed/#computed-data\" title=\"doc\">Call AllComputeds</a>, <a target=\"_blank\" href=\"https://annotation.github.io/text-fabric/Api/Computed/#computed-data\" title=\"doc\">Cs ComputedString</a><br/>\n",
       "<a target=\"_blank\" href=\"https://annotation.github.io/text-fabric/Api/Features/#edge-features\" title=\"doc\">E Edge</a>, <a target=\"_blank\" href=\"https://annotation.github.io/text-fabric/Api/Features/#edge-features\" title=\"doc\">Eall AllEdges</a>, <a target=\"_blank\" href=\"https://annotation.github.io/text-fabric/Api/Features/#edge-features\" title=\"doc\">Es EdgeString</a><br/>\n",
       "<a target=\"_blank\" href=\"https://annotation.github.io/text-fabric/Api/Fabric/#loading\" title=\"doc\">ensureLoaded</a>, <a target=\"_blank\" href=\"https://annotation.github.io/text-fabric/Api/Fabric/#loading\" title=\"doc\">TF</a>, <a target=\"_blank\" href=\"https://annotation.github.io/text-fabric/Api/Fabric/#loading\" title=\"doc\">ignored</a>, <a target=\"_blank\" href=\"https://annotation.github.io/text-fabric/Api/Fabric/#loading\" title=\"doc\">loadLog</a><br/>\n",
       "<a target=\"_blank\" href=\"https://annotation.github.io/text-fabric/Api/Locality/#locality\" title=\"doc\">L Locality</a><br/>\n",
       "<a target=\"_blank\" href=\"https://annotation.github.io/text-fabric/Api/Misc/#messaging\" title=\"doc\">cache</a>, <a target=\"_blank\" href=\"https://annotation.github.io/text-fabric/Api/Misc/#messaging\" title=\"doc\">error</a>, <a target=\"_blank\" href=\"https://annotation.github.io/text-fabric/Api/Misc/#messaging\" title=\"doc\">indent</a>, <a target=\"_blank\" href=\"https://annotation.github.io/text-fabric/Api/Misc/#messaging\" title=\"doc\">info</a>, <a target=\"_blank\" href=\"https://annotation.github.io/text-fabric/Api/Misc/#messaging\" title=\"doc\">isSilent</a>, <a target=\"_blank\" href=\"https://annotation.github.io/text-fabric/Api/Misc/#messaging\" title=\"doc\">reset</a>, <a target=\"_blank\" href=\"https://annotation.github.io/text-fabric/Api/Misc/#messaging\" title=\"doc\">setSilent</a>, <a target=\"_blank\" href=\"https://annotation.github.io/text-fabric/Api/Misc/#messaging\" title=\"doc\">silentOff</a>, <a target=\"_blank\" href=\"https://annotation.github.io/text-fabric/Api/Misc/#messaging\" title=\"doc\">silentOn</a>, <a target=\"_blank\" href=\"https://annotation.github.io/text-fabric/Api/Misc/#messaging\" title=\"doc\">warning</a><br/>\n",
       "<a target=\"_blank\" href=\"https://annotation.github.io/text-fabric/Api/Nodes/#navigating-nodes\" title=\"doc\">N Nodes</a>, <a target=\"_blank\" href=\"https://annotation.github.io/text-fabric/Api/Nodes/#navigating-nodes\" title=\"doc\">sortKey</a>, <a target=\"_blank\" href=\"https://annotation.github.io/text-fabric/Api/Nodes/#navigating-nodes\" title=\"doc\">sortKeyTuple</a>, <a target=\"_blank\" href=\"https://annotation.github.io/text-fabric/Api/Nodes/#navigating-nodes\" title=\"doc\">otypeRank</a>, <a target=\"_blank\" href=\"https://annotation.github.io/text-fabric/Api/Nodes/#navigating-nodes\" title=\"doc\">sortNodes</a><br/>\n",
       "<a target=\"_blank\" href=\"https://annotation.github.io/text-fabric/Api/Features/#node-features\" title=\"doc\">F Feature</a>, <a target=\"_blank\" href=\"https://annotation.github.io/text-fabric/Api/Features/#node-features\" title=\"doc\">Fall AllFeatures</a>, <a target=\"_blank\" href=\"https://annotation.github.io/text-fabric/Api/Features/#node-features\" title=\"doc\">Fs FeatureString</a><br/>\n",
       "<a target=\"_blank\" href=\"https://annotation.github.io/text-fabric/Api/Search/#search\" title=\"doc\">S Search</a><br/>\n",
       "<a target=\"_blank\" href=\"https://annotation.github.io/text-fabric/Api/Text/#text\" title=\"doc\">T Text</a></details>"
      ],
      "text/plain": [
       "<IPython.core.display.HTML object>"
      ]
     },
     "metadata": {},
     "output_type": "display_data"
    }
   ],
   "source": [
    "A = use('bhsa', hoist=globals())"
   ]
  },
  {
   "cell_type": "markdown",
   "metadata": {},
   "source": [
    "## Dissertation Queries..."
   ]
  },
  {
   "cell_type": "markdown",
   "metadata": {},
   "source": [
    "### Claim 1\n",
    "The legitimacy of David’s kingship is further confirmed through the special title \"nagib\" mentioned in the speech of the tribes in 2 Sam 5:2 that identifies him as YHWH’s viceregent and Saul’s rightful successor.\n",
    "\n",
    "To prove this claim, we will make a search at word level to identify all the instances where the word is used."
   ]
  },
  {
   "cell_type": "code",
   "execution_count": 4,
   "metadata": {},
   "outputs": [
    {
     "name": "stdout",
     "output_type": "stream",
     "text": [
      "  0.61s 44 results\n"
     ]
    },
    {
     "data": {
      "text/html": [
       "<table>\n",
       "<tr class=\"tf\">\n",
       "  <th class=\"tf\">n</th><th class=\"tf\">p</th>\n",
       "  <th class=\"tf\">verse</th><th>word</th>\n",
       "</tr>\n",
       "\n",
       "<tr class=\"tf\"><td class=\"tf\">1</td><td class=\"tf\"> <a href=\"https://shebanq.ancient-data.org/hebrew/text?book=Samuel_I&amp;chapter=9&amp;verse=16&amp;version=c&amp;mr=m&amp;qw=q&amp;tp=txt_p&amp;tr=hb&amp;wget=v&amp;qget=v&amp;nget=vt\" title=\"show this passage in SHEBANQ\" sec=\"1_Samuel 9:16\">1_Samuel 9:16</a></td><td class=\"tf\"><span class=\"hb\"><a class=\"vn\" href=\"https://shebanq.ancient-data.org/hebrew/text?book=Samuel_I&amp;chapter=9&amp;verse=16&amp;version=c&amp;mr=m&amp;qw=q&amp;tp=txt_p&amp;tr=hb&amp;wget=v&amp;qget=v&amp;nget=vt\" title=\"1_Samuel 9:16\" sec=\"1_Samuel 9:16\"></a>כָּעֵ֣ת׀ מָחָ֡ר אֶשְׁלַח֩ אֵלֶ֨יךָ אִ֜ישׁ מֵאֶ֣רֶץ בִּנְיָמִ֗ן וּמְשַׁחְתֹּ֤ו לְ<span  class=\"hl\" >נָגִיד֙ </span>עַל־עַמִּ֣י יִשְׂרָאֵ֔ל וְהֹושִׁ֥יעַ אֶת־עַמִּ֖י מִיַּ֣ד פְּלִשְׁתִּ֑ים כִּ֤י רָאִ֨יתִי֙ אֶת־עַמִּ֔י כִּ֛י בָּ֥אָה צַעֲקָתֹ֖ו אֵלָֽי׃ </span></td><td class=\"tf\"><span class=\"hb\"><span  class=\"hl\" >נָגִיד֙ </span></span></td></tr>\n",
       "<tr class=\"tf\"><td class=\"tf\">2</td><td class=\"tf\"> <a href=\"https://shebanq.ancient-data.org/hebrew/text?book=Samuel_I&amp;chapter=10&amp;verse=1&amp;version=c&amp;mr=m&amp;qw=q&amp;tp=txt_p&amp;tr=hb&amp;wget=v&amp;qget=v&amp;nget=vt\" title=\"show this passage in SHEBANQ\" sec=\"1_Samuel 10:1\">1_Samuel 10:1</a></td><td class=\"tf\"><span class=\"hb\"><a class=\"vn\" href=\"https://shebanq.ancient-data.org/hebrew/text?book=Samuel_I&amp;chapter=10&amp;verse=1&amp;version=c&amp;mr=m&amp;qw=q&amp;tp=txt_p&amp;tr=hb&amp;wget=v&amp;qget=v&amp;nget=vt\" title=\"1_Samuel 10:1\" sec=\"1_Samuel 10:1\"></a>וַיִּקַּ֨ח שְׁמוּאֵ֜ל אֶת־פַּ֥ךְ הַשֶּׁ֛מֶן וַיִּצֹ֥ק עַל־רֹאשֹׁ֖ו וַיִּשָּׁקֵ֑הוּ וַיֹּ֕אמֶר הֲלֹ֗וא כִּֽי־מְשָׁחֲךָ֧ יְהוָ֛ה עַל־נַחֲלָתֹ֖ו לְ<span  class=\"hl\" >נָגִֽיד׃ </span></span></td><td class=\"tf\"><span class=\"hb\"><span  class=\"hl\" >נָגִֽיד׃ </span></span></td></tr>\n",
       "<tr class=\"tf\"><td class=\"tf\">3</td><td class=\"tf\"> <a href=\"https://shebanq.ancient-data.org/hebrew/text?book=Samuel_I&amp;chapter=13&amp;verse=14&amp;version=c&amp;mr=m&amp;qw=q&amp;tp=txt_p&amp;tr=hb&amp;wget=v&amp;qget=v&amp;nget=vt\" title=\"show this passage in SHEBANQ\" sec=\"1_Samuel 13:14\">1_Samuel 13:14</a></td><td class=\"tf\"><span class=\"hb\"><a class=\"vn\" href=\"https://shebanq.ancient-data.org/hebrew/text?book=Samuel_I&amp;chapter=13&amp;verse=14&amp;version=c&amp;mr=m&amp;qw=q&amp;tp=txt_p&amp;tr=hb&amp;wget=v&amp;qget=v&amp;nget=vt\" title=\"1_Samuel 13:14\" sec=\"1_Samuel 13:14\"></a>וְעַתָּ֖ה מַמְלַכְתְּךָ֣ לֹא־תָק֑וּם בִּקֵּשׁ֩ יְהוָ֨ה לֹ֜ו אִ֣ישׁ כִּלְבָבֹ֗ו וַיְצַוֵּ֨הוּ יְהוָ֤ה לְ<span  class=\"hl\" >נָגִיד֙ </span>עַל־עַמֹּ֔ו כִּ֚י לֹ֣א שָׁמַ֔רְתָּ אֵ֥ת אֲשֶֽׁר־צִוְּךָ֖ יְהוָֽה׃ פ </span></td><td class=\"tf\"><span class=\"hb\"><span  class=\"hl\" >נָגִיד֙ </span></span></td></tr>\n",
       "<tr class=\"tf\"><td class=\"tf\">4</td><td class=\"tf\"> <a href=\"https://shebanq.ancient-data.org/hebrew/text?book=Samuel_I&amp;chapter=25&amp;verse=30&amp;version=c&amp;mr=m&amp;qw=q&amp;tp=txt_p&amp;tr=hb&amp;wget=v&amp;qget=v&amp;nget=vt\" title=\"show this passage in SHEBANQ\" sec=\"1_Samuel 25:30\">1_Samuel 25:30</a></td><td class=\"tf\"><span class=\"hb\"><a class=\"vn\" href=\"https://shebanq.ancient-data.org/hebrew/text?book=Samuel_I&amp;chapter=25&amp;verse=30&amp;version=c&amp;mr=m&amp;qw=q&amp;tp=txt_p&amp;tr=hb&amp;wget=v&amp;qget=v&amp;nget=vt\" title=\"1_Samuel 25:30\" sec=\"1_Samuel 25:30\"></a>וְהָיָ֗ה כִּֽי־יַעֲשֶׂ֤ה יְהוָה֙ לַֽאדֹנִ֔י כְּכֹ֛ל אֲשֶׁר־דִּבֶּ֥ר אֶת־הַטֹּובָ֖ה עָלֶ֑יךָ וְצִוְּךָ֥ לְ<span  class=\"hl\" >נָגִ֖יד </span>עַל־יִשְׂרָאֵֽל׃ </span></td><td class=\"tf\"><span class=\"hb\"><span  class=\"hl\" >נָגִ֖יד </span></span></td></tr>\n",
       "<tr class=\"tf\"><td class=\"tf\">5</td><td class=\"tf\"> <a href=\"https://shebanq.ancient-data.org/hebrew/text?book=Samuel_II&amp;chapter=5&amp;verse=2&amp;version=c&amp;mr=m&amp;qw=q&amp;tp=txt_p&amp;tr=hb&amp;wget=v&amp;qget=v&amp;nget=vt\" title=\"show this passage in SHEBANQ\" sec=\"2_Samuel 5:2\">2_Samuel 5:2</a></td><td class=\"tf\"><span class=\"hb\"><a class=\"vn\" href=\"https://shebanq.ancient-data.org/hebrew/text?book=Samuel_II&amp;chapter=5&amp;verse=2&amp;version=c&amp;mr=m&amp;qw=q&amp;tp=txt_p&amp;tr=hb&amp;wget=v&amp;qget=v&amp;nget=vt\" title=\"2_Samuel 5:2\" sec=\"2_Samuel 5:2\"></a>גַּם־אֶתְמֹ֣ול גַּם־שִׁלְשֹׁ֗ום בִּהְיֹ֨ות שָׁא֥וּל מֶ֨לֶךְ֙ עָלֵ֔ינוּ אַתָּ֗ה הָיִ֛יתָ הַמֹּוצִ֥יא וְהַמֵּבִ֖יא אֶת־יִשְׂרָאֵ֑ל וַיֹּ֨אמֶר יְהוָ֜ה לְךָ֗ אַתָּ֨ה תִרְעֶ֤ה אֶת־עַמִּי֙ אֶת־יִשְׂרָאֵ֔ל וְאַתָּ֛ה תִּהְיֶ֥ה לְ<span  class=\"hl\" >נָגִ֖יד </span>עַל־יִשְׂרָאֵֽל׃ </span></td><td class=\"tf\"><span class=\"hb\"><span  class=\"hl\" >נָגִ֖יד </span></span></td></tr>\n",
       "<tr class=\"tf\"><td class=\"tf\">6</td><td class=\"tf\"> <a href=\"https://shebanq.ancient-data.org/hebrew/text?book=Samuel_II&amp;chapter=6&amp;verse=21&amp;version=c&amp;mr=m&amp;qw=q&amp;tp=txt_p&amp;tr=hb&amp;wget=v&amp;qget=v&amp;nget=vt\" title=\"show this passage in SHEBANQ\" sec=\"2_Samuel 6:21\">2_Samuel 6:21</a></td><td class=\"tf\"><span class=\"hb\"><a class=\"vn\" href=\"https://shebanq.ancient-data.org/hebrew/text?book=Samuel_II&amp;chapter=6&amp;verse=21&amp;version=c&amp;mr=m&amp;qw=q&amp;tp=txt_p&amp;tr=hb&amp;wget=v&amp;qget=v&amp;nget=vt\" title=\"2_Samuel 6:21\" sec=\"2_Samuel 6:21\"></a>וַיֹּ֣אמֶר דָּוִד֮ אֶל־מִיכַל֒ לִפְנֵ֣י יְהוָ֗ה אֲשֶׁ֨ר בָּֽחַר־בִּ֤י מֵֽאָבִיךְ֙ וּמִכָּל־בֵּיתֹ֔ו לְצַוֹּ֨ת אֹתִ֥י <span  class=\"hl\" >נָגִ֛יד </span>עַל־עַ֥ם יְהוָ֖ה עַל־יִשְׂרָאֵ֑ל וְשִׂחַקְתִּ֖י לִפְנֵ֥י יְהוָֽה׃ </span></td><td class=\"tf\"><span class=\"hb\"><span  class=\"hl\" >נָגִ֛יד </span></span></td></tr>\n",
       "<tr class=\"tf\"><td class=\"tf\">7</td><td class=\"tf\"> <a href=\"https://shebanq.ancient-data.org/hebrew/text?book=Samuel_II&amp;chapter=7&amp;verse=8&amp;version=c&amp;mr=m&amp;qw=q&amp;tp=txt_p&amp;tr=hb&amp;wget=v&amp;qget=v&amp;nget=vt\" title=\"show this passage in SHEBANQ\" sec=\"2_Samuel 7:8\">2_Samuel 7:8</a></td><td class=\"tf\"><span class=\"hb\"><a class=\"vn\" href=\"https://shebanq.ancient-data.org/hebrew/text?book=Samuel_II&amp;chapter=7&amp;verse=8&amp;version=c&amp;mr=m&amp;qw=q&amp;tp=txt_p&amp;tr=hb&amp;wget=v&amp;qget=v&amp;nget=vt\" title=\"2_Samuel 7:8\" sec=\"2_Samuel 7:8\"></a>וְ֠עַתָּה כֹּֽה־תֹאמַ֞ר לְעַבְדִּ֣י לְדָוִ֗ד כֹּ֤ה אָמַר֙ יְהוָ֣ה צְבָאֹ֔ות אֲנִ֤י לְקַחְתִּ֨יךָ֙ מִן־הַנָּוֶ֔ה מֵאַחַ֖ר הַצֹּ֑אן לִֽהְיֹ֣ות <span  class=\"hl\" >נָגִ֔יד </span>עַל־עַמִּ֖י עַל־יִשְׂרָאֵֽל׃ </span></td><td class=\"tf\"><span class=\"hb\"><span  class=\"hl\" >נָגִ֔יד </span></span></td></tr>\n",
       "<tr class=\"tf\"><td class=\"tf\">8</td><td class=\"tf\"> <a href=\"https://shebanq.ancient-data.org/hebrew/text?book=Reges_I&amp;chapter=1&amp;verse=35&amp;version=c&amp;mr=m&amp;qw=q&amp;tp=txt_p&amp;tr=hb&amp;wget=v&amp;qget=v&amp;nget=vt\" title=\"show this passage in SHEBANQ\" sec=\"1_Kings 1:35\">1_Kings 1:35</a></td><td class=\"tf\"><span class=\"hb\"><a class=\"vn\" href=\"https://shebanq.ancient-data.org/hebrew/text?book=Reges_I&amp;chapter=1&amp;verse=35&amp;version=c&amp;mr=m&amp;qw=q&amp;tp=txt_p&amp;tr=hb&amp;wget=v&amp;qget=v&amp;nget=vt\" title=\"1_Kings 1:35\" sec=\"1_Kings 1:35\"></a>וַעֲלִיתֶ֣ם אַחֲרָ֗יו וּבָא֙ וְיָשַׁ֣ב עַל־כִּסְאִ֔י וְה֥וּא יִמְלֹ֖ךְ תַּחְתָּ֑י וְאֹתֹ֤ו צִוִּ֨יתִי֙ לִֽהְיֹ֣ות <span  class=\"hl\" >נָגִ֔יד </span>עַל־יִשְׂרָאֵ֖ל וְעַל־יְהוּדָֽה׃ </span></td><td class=\"tf\"><span class=\"hb\"><span  class=\"hl\" >נָגִ֔יד </span></span></td></tr>\n",
       "<tr class=\"tf\"><td class=\"tf\">9</td><td class=\"tf\"> <a href=\"https://shebanq.ancient-data.org/hebrew/text?book=Reges_I&amp;chapter=14&amp;verse=7&amp;version=c&amp;mr=m&amp;qw=q&amp;tp=txt_p&amp;tr=hb&amp;wget=v&amp;qget=v&amp;nget=vt\" title=\"show this passage in SHEBANQ\" sec=\"1_Kings 14:7\">1_Kings 14:7</a></td><td class=\"tf\"><span class=\"hb\"><a class=\"vn\" href=\"https://shebanq.ancient-data.org/hebrew/text?book=Reges_I&amp;chapter=14&amp;verse=7&amp;version=c&amp;mr=m&amp;qw=q&amp;tp=txt_p&amp;tr=hb&amp;wget=v&amp;qget=v&amp;nget=vt\" title=\"1_Kings 14:7\" sec=\"1_Kings 14:7\"></a>לְכִ֞י אִמְרִ֣י לְיָרָבְעָ֗ם כֹּֽה־אָמַ֤ר יְהוָה֙ אֱלֹהֵ֣י יִשְׂרָאֵ֔ל יַ֛עַן אֲשֶׁ֥ר הֲרִימֹתִ֖יךָ מִתֹּ֣וךְ הָעָ֑ם וָאֶתֶּנְךָ֣ <span  class=\"hl\" >נָגִ֔יד </span>עַ֖ל עַמִּ֥י יִשְׂרָאֵֽל׃ </span></td><td class=\"tf\"><span class=\"hb\"><span  class=\"hl\" >נָגִ֔יד </span></span></td></tr>\n",
       "<tr class=\"tf\"><td class=\"tf\">10</td><td class=\"tf\"> <a href=\"https://shebanq.ancient-data.org/hebrew/text?book=Reges_I&amp;chapter=16&amp;verse=2&amp;version=c&amp;mr=m&amp;qw=q&amp;tp=txt_p&amp;tr=hb&amp;wget=v&amp;qget=v&amp;nget=vt\" title=\"show this passage in SHEBANQ\" sec=\"1_Kings 16:2\">1_Kings 16:2</a></td><td class=\"tf\"><span class=\"hb\"><a class=\"vn\" href=\"https://shebanq.ancient-data.org/hebrew/text?book=Reges_I&amp;chapter=16&amp;verse=2&amp;version=c&amp;mr=m&amp;qw=q&amp;tp=txt_p&amp;tr=hb&amp;wget=v&amp;qget=v&amp;nget=vt\" title=\"1_Kings 16:2\" sec=\"1_Kings 16:2\"></a>יַ֗עַן אֲשֶׁ֤ר הֲרִימֹתִ֨יךָ֙ מִן־הֶ֣עָפָ֔ר וָאֶתֶּנְךָ֣ <span  class=\"hl\" >נָגִ֔יד </span>עַ֖ל עַמִּ֣י יִשְׂרָאֵ֑ל וַתֵּ֣לֶךְ׀ בְּדֶ֣רֶךְ יָרָבְעָ֗ם וַֽתַּחֲטִא֙ אֶת־עַמִּ֣י יִשְׂרָאֵ֔ל לְהַכְעִיסֵ֖נִי בְּחַטֹּאתָֽם׃ </span></td><td class=\"tf\"><span class=\"hb\"><span  class=\"hl\" >נָגִ֔יד </span></span></td></tr></table>"
      ],
      "text/plain": [
       "<IPython.core.display.HTML object>"
      ]
     },
     "metadata": {},
     "output_type": "display_data"
    }
   ],
   "source": [
    "Nagibsearch1='''\n",
    "word lex=NGJD/\n",
    "'''\n",
    "Nagibsearch1  = A.search(Nagibsearch1)\n",
    "A.table(Nagibsearch1, start=1, end=10, condensed=True)"
   ]
  },
  {
   "cell_type": "markdown",
   "metadata": {},
   "source": [
    "A simple search at word level reveals that the hebrew text normally uses the title \"nagib\" to refer to ruler and leader. It is therefore accurate for Mr Vogel to advance that \"nagib\" is in fact a title to backup the legitimacy of the Davidic Reign.\n",
    "#### My question is since \"nagib\" is so normal, why does it have som much meaning to Mr Vogel?"
   ]
  },
  {
   "cell_type": "markdown",
   "metadata": {},
   "source": [
    "### Claim 2\n",
    "a survey of the previous three occurrences of the combination \"basar+ esem\" reveals that this is a technical phrase denoting kinship."
   ]
  },
  {
   "cell_type": "code",
   "execution_count": 11,
   "metadata": {
    "scrolled": true
   },
   "outputs": [
    {
     "name": "stdout",
     "output_type": "stream",
     "text": [
      "  1.29s 12 results\n"
     ]
    },
    {
     "data": {
      "text/html": [
       "<table>\n",
       "<tr class=\"tf\">\n",
       "  <th class=\"tf\">n</th><th class=\"tf\">p</th>\n",
       "  <th class=\"tf\">verse</th><th>word</th><th>word</th><th>word</th><th>word</th><th>clause</th>\n",
       "</tr>\n",
       "\n",
       "<tr class=\"tf\"><td class=\"tf\">1</td><td class=\"tf\"> <a href=\"https://shebanq.ancient-data.org/hebrew/text?book=Genesis&amp;chapter=2&amp;verse=23&amp;version=c&amp;mr=m&amp;qw=q&amp;tp=txt_p&amp;tr=hb&amp;wget=v&amp;qget=v&amp;nget=vt\" title=\"show this passage in SHEBANQ\" sec=\"Genesis 2:23\">Genesis 2:23</a></td><td class=\"tf\"><span class=\"hb\"><a class=\"vn\" href=\"https://shebanq.ancient-data.org/hebrew/text?book=Genesis&amp;chapter=2&amp;verse=23&amp;version=c&amp;mr=m&amp;qw=q&amp;tp=txt_p&amp;tr=hb&amp;wget=v&amp;qget=v&amp;nget=vt\" title=\"Genesis 2:23\" sec=\"Genesis 2:23\"></a>וַיֹּאמֶר֮ הָֽאָדָם֒ <span  class=\"hlup\" >זֹ֣את </span><span  class=\"hlup\" >הַ</span><span  class=\"hlup\" >פַּ֗עַם </span><span  class=\"hl hlup\" >עֶ֚צֶם </span><span  class=\"hlup\" >מֵֽ</span><span  class=\"hl hlup\" >עֲצָמַ֔י </span><span  class=\"hlup\" >וּ</span><span  class=\"hl hlup\" >בָשָׂ֖ר </span><span  class=\"hlup\" >מִ</span><span  class=\"hl hlup\" >בְּשָׂרִ֑י </span>לְזֹאת֙ יִקָּרֵ֣א אִשָּׁ֔ה כִּ֥י מֵאִ֖ישׁ לֻֽקֳחָה־זֹּֽאת׃ </span></td><td class=\"tf\"><span class=\"hb\"><span  class=\"hl hlup\" >עֶ֚צֶם </span></span></td><td class=\"tf\"><span class=\"hb\"><span  class=\"hl hlup\" >עֲצָמַ֔י </span></span></td><td class=\"tf\"><span class=\"hb\"><span  class=\"hl hlup\" >בָשָׂ֖ר </span></span></td><td class=\"tf\"><span class=\"hb\"><span  class=\"hl hlup\" >בְּשָׂרִ֑י </span></span></td><td class=\"tf\"><span class=\"hb\"><span  class=\"hlup\" >זֹ֣את </span><span  class=\"hlup\" >הַ</span><span  class=\"hlup\" >פַּ֗עַם </span><span  class=\"hl hlup\" >עֶ֚צֶם </span><span  class=\"hlup\" >מֵֽ</span><span  class=\"hl hlup\" >עֲצָמַ֔י </span><span  class=\"hlup\" >וּ</span><span  class=\"hl hlup\" >בָשָׂ֖ר </span><span  class=\"hlup\" >מִ</span><span  class=\"hl hlup\" >בְּשָׂרִ֑י </span></span></td></tr>\n",
       "<tr class=\"tf\"><td class=\"tf\">2</td><td class=\"tf\"> <a href=\"https://shebanq.ancient-data.org/hebrew/text?book=Genesis&amp;chapter=29&amp;verse=14&amp;version=c&amp;mr=m&amp;qw=q&amp;tp=txt_p&amp;tr=hb&amp;wget=v&amp;qget=v&amp;nget=vt\" title=\"show this passage in SHEBANQ\" sec=\"Genesis 29:14\">Genesis 29:14</a></td><td class=\"tf\"><span class=\"hb\"><a class=\"vn\" href=\"https://shebanq.ancient-data.org/hebrew/text?book=Genesis&amp;chapter=29&amp;verse=14&amp;version=c&amp;mr=m&amp;qw=q&amp;tp=txt_p&amp;tr=hb&amp;wget=v&amp;qget=v&amp;nget=vt\" title=\"Genesis 29:14\" sec=\"Genesis 29:14\"></a>וַיֹּ֤אמֶר לֹו֙ לָבָ֔ן <span  class=\"hlup\" >אַ֛ךְ </span><span  class=\"hl hlup\" >עַצְמִ֥י </span><span  class=\"hlup\" >וּ</span><span  class=\"hl hlup\" >בְשָׂרִ֖י </span><span  class=\"hlup\" >אָ֑תָּה </span>וַיֵּ֥שֶׁב עִמֹּ֖ו חֹ֥דֶשׁ יָמִֽים׃ </span></td><td class=\"tf\"><span class=\"hb\"><span  class=\"hl hlup\" >בְשָׂרִ֖י </span></span></td><td class=\"tf\"><span class=\"hb\"><span  class=\"hlup\" >אַ֛ךְ </span><span  class=\"hl hlup\" >עַצְמִ֥י </span><span  class=\"hlup\" >וּ</span><span  class=\"hl hlup\" >בְשָׂרִ֖י </span><span  class=\"hlup\" >אָ֑תָּה </span></span></td><td class=\"tf\"><span class=\"hb\"><span  class=\"hl hlup\" >עַצְמִ֥י </span></span></td></tr>\n",
       "<tr class=\"tf\"><td class=\"tf\">3</td><td class=\"tf\"> <a href=\"https://shebanq.ancient-data.org/hebrew/text?book=Judices&amp;chapter=9&amp;verse=2&amp;version=c&amp;mr=m&amp;qw=q&amp;tp=txt_p&amp;tr=hb&amp;wget=v&amp;qget=v&amp;nget=vt\" title=\"show this passage in SHEBANQ\" sec=\"Judges 9:2\">Judges 9:2</a></td><td class=\"tf\"><span class=\"hb\"><a class=\"vn\" href=\"https://shebanq.ancient-data.org/hebrew/text?book=Judices&amp;chapter=9&amp;verse=2&amp;version=c&amp;mr=m&amp;qw=q&amp;tp=txt_p&amp;tr=hb&amp;wget=v&amp;qget=v&amp;nget=vt\" title=\"Judges 9:2\" sec=\"Judges 9:2\"></a>דַּבְּרוּ־נָ֞א בְּאָזְנֵ֨י כָל־בַּעֲלֵ֣י שְׁכֶם֮ מַה־טֹּ֣וב לָכֶם֒ הַמְשֹׁ֨ל בָּכֶ֜ם שִׁבְעִ֣ים אִ֗ישׁ כֹּ֚ל בְּנֵ֣י יְרֻבַּ֔עַל אִם־מְשֹׁ֥ל בָּכֶ֖ם אִ֣ישׁ אֶחָ֑ד וּזְכַרְתֶּ֕ם <span  class=\"hlup\" >כִּֽי־</span><span  class=\"hl hlup\" >עַצְמֵכֶ֥ם </span><span  class=\"hlup\" >וּ</span><span  class=\"hl hlup\" >בְשַׂרְכֶ֖ם </span><span  class=\"hlup\" >אָנִֽי׃ </span></span></td><td class=\"tf\"><span class=\"hb\"><span  class=\"hlup\" >כִּֽי־</span><span  class=\"hl hlup\" >עַצְמֵכֶ֥ם </span><span  class=\"hlup\" >וּ</span><span  class=\"hl hlup\" >בְשַׂרְכֶ֖ם </span><span  class=\"hlup\" >אָנִֽי׃ </span></span></td><td class=\"tf\"><span class=\"hb\"><span  class=\"hl hlup\" >עַצְמֵכֶ֥ם </span></span></td><td class=\"tf\"><span class=\"hb\"><span  class=\"hl hlup\" >בְשַׂרְכֶ֖ם </span></span></td></tr>\n",
       "<tr class=\"tf\"><td class=\"tf\">4</td><td class=\"tf\"> <a href=\"https://shebanq.ancient-data.org/hebrew/text?book=Samuel_II&amp;chapter=5&amp;verse=1&amp;version=c&amp;mr=m&amp;qw=q&amp;tp=txt_p&amp;tr=hb&amp;wget=v&amp;qget=v&amp;nget=vt\" title=\"show this passage in SHEBANQ\" sec=\"2_Samuel 5:1\">2_Samuel 5:1</a></td><td class=\"tf\"><span class=\"hb\"><a class=\"vn\" href=\"https://shebanq.ancient-data.org/hebrew/text?book=Samuel_II&amp;chapter=5&amp;verse=1&amp;version=c&amp;mr=m&amp;qw=q&amp;tp=txt_p&amp;tr=hb&amp;wget=v&amp;qget=v&amp;nget=vt\" title=\"2_Samuel 5:1\" sec=\"2_Samuel 5:1\"></a>וַיָּבֹ֜אוּ כָּל־שִׁבְטֵ֧י יִשְׂרָאֵ֛ל אֶל־דָּוִ֖ד חֶבְרֹ֑ונָה וַיֹּאמְר֣וּ לֵאמֹ֔ר הִנְנ֛וּ <span  class=\"hl hlup\" >עַצְמְךָ֥ </span><span  class=\"hlup\" >וּֽ</span><span  class=\"hl hlup\" >בְשָׂרְךָ֖ </span><span  class=\"hlup\" >אֲנָֽחְנוּ׃ </span></span></td><td class=\"tf\"><span class=\"hb\"><span  class=\"hl hlup\" >עַצְמְךָ֥ </span><span  class=\"hlup\" >וּֽ</span><span  class=\"hl hlup\" >בְשָׂרְךָ֖ </span><span  class=\"hlup\" >אֲנָֽחְנוּ׃ </span></span></td><td class=\"tf\"><span class=\"hb\"><span  class=\"hl hlup\" >עַצְמְךָ֥ </span></span></td><td class=\"tf\"><span class=\"hb\"><span  class=\"hl hlup\" >בְשָׂרְךָ֖ </span></span></td></tr>\n",
       "<tr class=\"tf\"><td class=\"tf\">5</td><td class=\"tf\"> <a href=\"https://shebanq.ancient-data.org/hebrew/text?book=Samuel_II&amp;chapter=19&amp;verse=13&amp;version=c&amp;mr=m&amp;qw=q&amp;tp=txt_p&amp;tr=hb&amp;wget=v&amp;qget=v&amp;nget=vt\" title=\"show this passage in SHEBANQ\" sec=\"2_Samuel 19:13\">2_Samuel 19:13</a></td><td class=\"tf\"><span class=\"hb\"><a class=\"vn\" href=\"https://shebanq.ancient-data.org/hebrew/text?book=Samuel_II&amp;chapter=19&amp;verse=13&amp;version=c&amp;mr=m&amp;qw=q&amp;tp=txt_p&amp;tr=hb&amp;wget=v&amp;qget=v&amp;nget=vt\" title=\"2_Samuel 19:13\" sec=\"2_Samuel 19:13\"></a>אַחַ֣י אַתֶּ֔ם <span  class=\"hl hlup\" >עַצְמִ֥י </span><span  class=\"hlup\" >וּ</span><span  class=\"hl hlup\" >בְשָׂרִ֖י </span><span  class=\"hlup\" >אַתֶּ֑ם </span>וְלָ֧מָּה תִהְי֛וּ אַחֲרֹנִ֖ים לְהָשִׁ֥יב אֶת־הַמֶּֽלֶךְ׃ </span></td><td class=\"tf\"><span class=\"hb\"><span  class=\"hl hlup\" >עַצְמִ֥י </span><span  class=\"hlup\" >וּ</span><span  class=\"hl hlup\" >בְשָׂרִ֖י </span><span  class=\"hlup\" >אַתֶּ֑ם </span></span></td><td class=\"tf\"><span class=\"hb\"><span  class=\"hl hlup\" >בְשָׂרִ֖י </span></span></td><td class=\"tf\"><span class=\"hb\"><span  class=\"hl hlup\" >עַצְמִ֥י </span></span></td></tr>\n",
       "<tr class=\"tf\"><td class=\"tf\">6</td><td class=\"tf\"> <a href=\"https://shebanq.ancient-data.org/hebrew/text?book=Samuel_II&amp;chapter=19&amp;verse=14&amp;version=c&amp;mr=m&amp;qw=q&amp;tp=txt_p&amp;tr=hb&amp;wget=v&amp;qget=v&amp;nget=vt\" title=\"show this passage in SHEBANQ\" sec=\"2_Samuel 19:14\">2_Samuel 19:14</a></td><td class=\"tf\"><span class=\"hb\"><a class=\"vn\" href=\"https://shebanq.ancient-data.org/hebrew/text?book=Samuel_II&amp;chapter=19&amp;verse=14&amp;version=c&amp;mr=m&amp;qw=q&amp;tp=txt_p&amp;tr=hb&amp;wget=v&amp;qget=v&amp;nget=vt\" title=\"2_Samuel 19:14\" sec=\"2_Samuel 19:14\"></a>וְלַֽעֲמָשָׂא֙ תֹּֽמְר֔וּ <span  class=\"hlup\" >הֲ</span><span  class=\"hlup\" >לֹ֛וא </span><span  class=\"hl hlup\" >עַצְמִ֥י </span><span  class=\"hlup\" >וּ</span><span  class=\"hl hlup\" >בְשָׂרִ֖י </span><span  class=\"hlup\" >אָ֑תָּה </span>כֹּ֣ה יַֽעֲשֶׂה־לִּ֤י אֱלֹהִים֙ וְכֹ֣ה יֹוסִ֔יף אִם־לֹ֠א שַׂר־צָבָ֞א תִּהְיֶ֧ה לְפָנַ֛י כָּל־הַיָּמִ֖ים תַּ֥חַת יֹואָֽב׃ </span></td><td class=\"tf\"><span class=\"hb\"><span  class=\"hl hlup\" >עַצְמִ֥י </span></span></td><td class=\"tf\"><span class=\"hb\"><span  class=\"hl hlup\" >בְשָׂרִ֖י </span></span></td><td class=\"tf\"><span class=\"hb\"><span  class=\"hlup\" >הֲ</span><span  class=\"hlup\" >לֹ֛וא </span><span  class=\"hl hlup\" >עַצְמִ֥י </span><span  class=\"hlup\" >וּ</span><span  class=\"hl hlup\" >בְשָׂרִ֖י </span><span  class=\"hlup\" >אָ֑תָּה </span></span></td></tr>\n",
       "<tr class=\"tf\"><td class=\"tf\">7</td><td class=\"tf\"> <a href=\"https://shebanq.ancient-data.org/hebrew/text?book=Psalmi&amp;chapter=102&amp;verse=6&amp;version=c&amp;mr=m&amp;qw=q&amp;tp=txt_p&amp;tr=hb&amp;wget=v&amp;qget=v&amp;nget=vt\" title=\"show this passage in SHEBANQ\" sec=\"Psalms 102:6\">Psalms 102:6</a></td><td class=\"tf\"><span class=\"hb\"><a class=\"vn\" href=\"https://shebanq.ancient-data.org/hebrew/text?book=Psalmi&amp;chapter=102&amp;verse=6&amp;version=c&amp;mr=m&amp;qw=q&amp;tp=txt_p&amp;tr=hb&amp;wget=v&amp;qget=v&amp;nget=vt\" title=\"Psalms 102:6\" sec=\"Psalms 102:6\"><span  class=\"hlup\" ></span></a><span  class=\"hlup\" >מִ</span><span  class=\"hlup\" >קֹּ֥ול </span><span  class=\"hlup\" >אַנְחָתִ֑י </span><span  class=\"hlup\" >דָּבְקָ֥ה </span><span  class=\"hl hlup\" >עַ֝צְמִ֗י </span><span  class=\"hlup\" >לִ</span><span  class=\"hl hlup\" >בְשָׂרִֽי׃ </span></span></td><td class=\"tf\"><span class=\"hb\"><span  class=\"hlup\" >מִ</span><span  class=\"hlup\" >קֹּ֥ול </span><span  class=\"hlup\" >אַנְחָתִ֑י </span><span  class=\"hlup\" >דָּבְקָ֥ה </span><span  class=\"hl hlup\" >עַ֝צְמִ֗י </span><span  class=\"hlup\" >לִ</span><span  class=\"hl hlup\" >בְשָׂרִֽי׃ </span></span></td><td class=\"tf\"><span class=\"hb\"><span  class=\"hl hlup\" >עַ֝צְמִ֗י </span></span></td><td class=\"tf\"><span class=\"hb\"><span  class=\"hl hlup\" >בְשָׂרִֽי׃ </span></span></td></tr>\n",
       "<tr class=\"tf\"><td class=\"tf\">8</td><td class=\"tf\"> <a href=\"https://shebanq.ancient-data.org/hebrew/text?book=Iob&amp;chapter=2&amp;verse=5&amp;version=c&amp;mr=m&amp;qw=q&amp;tp=txt_p&amp;tr=hb&amp;wget=v&amp;qget=v&amp;nget=vt\" title=\"show this passage in SHEBANQ\" sec=\"Job 2:5\">Job 2:5</a></td><td class=\"tf\"><span class=\"hb\"><a class=\"vn\" href=\"https://shebanq.ancient-data.org/hebrew/text?book=Iob&amp;chapter=2&amp;verse=5&amp;version=c&amp;mr=m&amp;qw=q&amp;tp=txt_p&amp;tr=hb&amp;wget=v&amp;qget=v&amp;nget=vt\" title=\"Job 2:5\" sec=\"Job 2:5\"></a>אוּלָם֙ שְֽׁלַֽח־נָ֣א יָֽדְךָ֔ <span  class=\"hlup\" >וְ</span><span  class=\"hlup\" >גַ֥ע </span><span  class=\"hlup\" >אֶל־</span><span  class=\"hl hlup\" >עַצְמֹ֖ו </span><span  class=\"hlup\" >וְ</span><span  class=\"hlup\" >אֶל־</span><span  class=\"hl hlup\" >בְּשָׂרֹ֑ו </span>אִם־לֹ֥א אֶל־פָּנֶ֖יךָ יְבָרֲכֶֽךָּ׃ </span></td><td class=\"tf\"><span class=\"hb\"><span  class=\"hl hlup\" >עַצְמֹ֖ו </span></span></td><td class=\"tf\"><span class=\"hb\"><span  class=\"hl hlup\" >בְּשָׂרֹ֑ו </span></span></td><td class=\"tf\"><span class=\"hb\"><span  class=\"hlup\" >וְ</span><span  class=\"hlup\" >גַ֥ע </span><span  class=\"hlup\" >אֶל־</span><span  class=\"hl hlup\" >עַצְמֹ֖ו </span><span  class=\"hlup\" >וְ</span><span  class=\"hlup\" >אֶל־</span><span  class=\"hl hlup\" >בְּשָׂרֹ֑ו </span></span></td></tr>\n",
       "<tr class=\"tf\"><td class=\"tf\">9</td><td class=\"tf\"> <a href=\"https://shebanq.ancient-data.org/hebrew/text?book=Chronica_I&amp;chapter=11&amp;verse=1&amp;version=c&amp;mr=m&amp;qw=q&amp;tp=txt_p&amp;tr=hb&amp;wget=v&amp;qget=v&amp;nget=vt\" title=\"show this passage in SHEBANQ\" sec=\"1_Chronicles 11:1\">1_Chronicles 11:1</a></td><td class=\"tf\"><span class=\"hb\"><a class=\"vn\" href=\"https://shebanq.ancient-data.org/hebrew/text?book=Chronica_I&amp;chapter=11&amp;verse=1&amp;version=c&amp;mr=m&amp;qw=q&amp;tp=txt_p&amp;tr=hb&amp;wget=v&amp;qget=v&amp;nget=vt\" title=\"1_Chronicles 11:1\" sec=\"1_Chronicles 11:1\"></a>וַיִּקָּבְצ֧וּ כָֽל־יִשְׂרָאֵ֛ל אֶל־דָּוִ֖יד חֶבְרֹ֣ונָה לֵאמֹ֑ר <span  class=\"hlup\" >הִנֵּ֛ה </span><span  class=\"hl hlup\" >עַצְמְךָ֥ </span><span  class=\"hlup\" >וּֽ</span><span  class=\"hl hlup\" >בְשָׂרְךָ֖ </span><span  class=\"hlup\" >אֲנָֽחְנוּ׃ </span></span></td><td class=\"tf\"><span class=\"hb\"><span  class=\"hl hlup\" >בְשָׂרְךָ֖ </span></span></td><td class=\"tf\"><span class=\"hb\"><span  class=\"hl hlup\" >עַצְמְךָ֥ </span></span></td><td class=\"tf\"><span class=\"hb\"><span  class=\"hlup\" >הִנֵּ֛ה </span><span  class=\"hl hlup\" >עַצְמְךָ֥ </span><span  class=\"hlup\" >וּֽ</span><span  class=\"hl hlup\" >בְשָׂרְךָ֖ </span><span  class=\"hlup\" >אֲנָֽחְנוּ׃ </span></span></td></tr></table>"
      ],
      "text/plain": [
       "<IPython.core.display.HTML object>"
      ]
     },
     "metadata": {},
     "output_type": "display_data"
    }
   ],
   "source": [
    "BOFl1='''\n",
    "clause\n",
    "    word lex=<YM/\n",
    "    < word lex=BFR/\n",
    "'''\n",
    "BOFl1  = A.search(BOFl1)\n",
    "A.table (BOFl1, start=1, end=10, condensed=True)"
   ]
  },
  {
   "cell_type": "markdown",
   "metadata": {},
   "source": [
    "This are instances where \"basar and esem\" appears close to each other. It appears that the Vogel is right in his conclusion that every time this expression appears it is in the context of accepting or negating someone to the fold"
   ]
  },
  {
   "cell_type": "code",
   "execution_count": null,
   "metadata": {},
   "outputs": [],
   "source": []
  }
 ],
 "metadata": {
  "kernelspec": {
   "display_name": "Python 3",
   "language": "python",
   "name": "python3"
  },
  "language_info": {
   "codemirror_mode": {
    "name": "ipython",
    "version": 3
   },
   "file_extension": ".py",
   "mimetype": "text/x-python",
   "name": "python",
   "nbconvert_exporter": "python",
   "pygments_lexer": "ipython3",
   "version": "3.7.3"
  },
  "toc": {
   "base_numbering": 1,
   "nav_menu": {},
   "number_sections": true,
   "sideBar": true,
   "skip_h1_title": false,
   "title_cell": "Table of Contents",
   "title_sidebar": "Contents",
   "toc_cell": false,
   "toc_position": {
    "height": "calc(100% - 180px)",
    "left": "10px",
    "top": "150px",
    "width": "287px"
   },
   "toc_section_display": true,
   "toc_window_display": true
  }
 },
 "nbformat": 4,
 "nbformat_minor": 2
}

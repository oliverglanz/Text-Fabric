{
 "cells": [
  {
   "cell_type": "markdown",
   "metadata": {},
   "source": [
    "# Daniel 11 Research"
   ]
  },
  {
   "cell_type": "markdown",
   "metadata": {},
   "source": [
    "### The TF prelude..."
   ]
  },
  {
   "cell_type": "code",
   "execution_count": 1,
   "metadata": {},
   "outputs": [],
   "source": [
    "%load_ext autoreload\n",
    "%autoreload 2"
   ]
  },
  {
   "cell_type": "code",
   "execution_count": 2,
   "metadata": {},
   "outputs": [],
   "source": [
    "# First, I have to laod different modules that I use for analyzing the data and for plotting:\n",
    "import sys, os, collections\n",
    "import pandas as pd\n",
    "import numpy as np\n",
    "import seaborn as sns\n",
    "import matplotlib.pyplot as plt; plt.rcdefaults()\n",
    "from matplotlib.pyplot import figure\n",
    "from collections import Counter\n",
    "\n",
    "# Second, I have to load the Text Fabric app\n",
    "from tf.fabric import Fabric\n",
    "from tf.app import use"
   ]
  },
  {
   "cell_type": "code",
   "execution_count": 3,
   "metadata": {},
   "outputs": [
    {
     "name": "stdout",
     "output_type": "stream",
     "text": [
      "\tconnecting to online GitHub repo annotation/app-bhsa ... connected\n",
      "Using TF-app in C:\\Users\\Oliver Glanz/text-fabric-data/annotation/app-bhsa/code:\n",
      "\trv1.2=#5fdf1778d51d938bfe80b37b415e36618e50190c (latest release)\n",
      "\tconnecting to online GitHub repo etcbc/bhsa ... connected\n",
      "Using data in C:\\Users\\Oliver Glanz/text-fabric-data/etcbc/bhsa/tf/c:\n",
      "\trv1.6=#bac4a9f5a2bbdede96ba6caea45e762fe88f88c5 (latest release)\n",
      "\tconnecting to online GitHub repo etcbc/phono ... connected\n",
      "Using data in C:\\Users\\Oliver Glanz/text-fabric-data/etcbc/phono/tf/c:\n",
      "\tr1.2 (latest release)\n",
      "\tconnecting to online GitHub repo etcbc/parallels ... connected\n",
      "Using data in C:\\Users\\Oliver Glanz/text-fabric-data/etcbc/parallels/tf/c:\n",
      "\tr1.2 (latest release)\n",
      "   |     0.00s No structure info in otext, the structure part of the T-API cannot be used\n"
     ]
    },
    {
     "data": {
      "text/html": [
       "<b>Documentation:</b> <a target=\"_blank\" href=\"https://etcbc.github.io/bhsa\" title=\"provenance of BHSA = Biblia Hebraica Stuttgartensia Amstelodamensis\">BHSA</a> <a target=\"_blank\" href=\"https://annotation.github.io/text-fabric/Writing/Hebrew\" title=\"('Hebrew characters and transcriptions',)\">Character table</a> <a target=\"_blank\" href=\"https://etcbc.github.io/bhsa/features/0_home\" title=\"BHSA feature documentation\">Feature docs</a> <a target=\"_blank\" href=\"https://github.com/annotation/app-bhsa\" title=\"bhsa API documentation\">bhsa API</a> <a target=\"_blank\" href=\"https://annotation.github.io/text-fabric/Api/Fabric/\" title=\"text-fabric-api\">Text-Fabric API 7.8.5</a> <a target=\"_blank\" href=\"https://annotation.github.io/text-fabric/Use/Search/\" title=\"Search Templates Introduction and Reference\">Search Reference</a><details open><summary><b>Loaded features</b>:</summary>\n",
       "<p><b>BHSA = Biblia Hebraica Stuttgartensia Amstelodamensis</b>: <a target=\"_blank\" href=\"https://etcbc.github.io/bhsa/features/book\" title=\"C:\\Users\\Oliver Glanz/text-fabric-data/etcbc/bhsa/tf/c/book.tf\">book</a>  <a target=\"_blank\" href=\"https://etcbc.github.io/bhsa/features/book@ll\" title=\"C:\\Users\\Oliver Glanz/text-fabric-data/etcbc/bhsa/tf/c/book@am.tf\">book@ll</a>  <a target=\"_blank\" href=\"https://etcbc.github.io/bhsa/features/chapter\" title=\"C:\\Users\\Oliver Glanz/text-fabric-data/etcbc/bhsa/tf/c/chapter.tf\">chapter</a>  <a target=\"_blank\" href=\"https://etcbc.github.io/bhsa/features/code\" title=\"C:\\Users\\Oliver Glanz/text-fabric-data/etcbc/bhsa/tf/c/code.tf\">code</a>  <a target=\"_blank\" href=\"https://etcbc.github.io/bhsa/features/det\" title=\"C:\\Users\\Oliver Glanz/text-fabric-data/etcbc/bhsa/tf/c/det.tf\">det</a>  <a target=\"_blank\" href=\"https://etcbc.github.io/bhsa/features/domain\" title=\"C:\\Users\\Oliver Glanz/text-fabric-data/etcbc/bhsa/tf/c/domain.tf\">domain</a>  <a target=\"_blank\" href=\"https://etcbc.github.io/bhsa/features/freq_lex\" title=\"C:\\Users\\Oliver Glanz/text-fabric-data/etcbc/bhsa/tf/c/freq_lex.tf\">freq_lex</a>  <a target=\"_blank\" href=\"https://etcbc.github.io/bhsa/features/function\" title=\"C:\\Users\\Oliver Glanz/text-fabric-data/etcbc/bhsa/tf/c/function.tf\">function</a>  <a target=\"_blank\" href=\"https://etcbc.github.io/bhsa/features/g_cons\" title=\"C:\\Users\\Oliver Glanz/text-fabric-data/etcbc/bhsa/tf/c/g_cons.tf\">g_cons</a>  <a target=\"_blank\" href=\"https://etcbc.github.io/bhsa/features/g_cons_utf8\" title=\"C:\\Users\\Oliver Glanz/text-fabric-data/etcbc/bhsa/tf/c/g_cons_utf8.tf\">g_cons_utf8</a>  <a target=\"_blank\" href=\"https://etcbc.github.io/bhsa/features/g_lex\" title=\"C:\\Users\\Oliver Glanz/text-fabric-data/etcbc/bhsa/tf/c/g_lex.tf\">g_lex</a>  <a target=\"_blank\" href=\"https://etcbc.github.io/bhsa/features/g_lex_utf8\" title=\"C:\\Users\\Oliver Glanz/text-fabric-data/etcbc/bhsa/tf/c/g_lex_utf8.tf\">g_lex_utf8</a>  <a target=\"_blank\" href=\"https://etcbc.github.io/bhsa/features/g_word\" title=\"C:\\Users\\Oliver Glanz/text-fabric-data/etcbc/bhsa/tf/c/g_word.tf\">g_word</a>  <a target=\"_blank\" href=\"https://etcbc.github.io/bhsa/features/g_word_utf8\" title=\"C:\\Users\\Oliver Glanz/text-fabric-data/etcbc/bhsa/tf/c/g_word_utf8.tf\">g_word_utf8</a>  <a target=\"_blank\" href=\"https://etcbc.github.io/bhsa/features/gloss\" title=\"C:\\Users\\Oliver Glanz/text-fabric-data/etcbc/bhsa/tf/c/gloss.tf\">gloss</a>  <a target=\"_blank\" href=\"https://etcbc.github.io/bhsa/features/gn\" title=\"C:\\Users\\Oliver Glanz/text-fabric-data/etcbc/bhsa/tf/c/gn.tf\">gn</a>  <a target=\"_blank\" href=\"https://etcbc.github.io/bhsa/features/label\" title=\"C:\\Users\\Oliver Glanz/text-fabric-data/etcbc/bhsa/tf/c/label.tf\">label</a>  <a target=\"_blank\" href=\"https://etcbc.github.io/bhsa/features/language\" title=\"C:\\Users\\Oliver Glanz/text-fabric-data/etcbc/bhsa/tf/c/language.tf\">language</a>  <a target=\"_blank\" href=\"https://etcbc.github.io/bhsa/features/lex\" title=\"C:\\Users\\Oliver Glanz/text-fabric-data/etcbc/bhsa/tf/c/lex.tf\">lex</a>  <a target=\"_blank\" href=\"https://etcbc.github.io/bhsa/features/lex_utf8\" title=\"C:\\Users\\Oliver Glanz/text-fabric-data/etcbc/bhsa/tf/c/lex_utf8.tf\">lex_utf8</a>  <a target=\"_blank\" href=\"https://etcbc.github.io/bhsa/features/ls\" title=\"C:\\Users\\Oliver Glanz/text-fabric-data/etcbc/bhsa/tf/c/ls.tf\">ls</a>  <a target=\"_blank\" href=\"https://etcbc.github.io/bhsa/features/nametype\" title=\"C:\\Users\\Oliver Glanz/text-fabric-data/etcbc/bhsa/tf/c/nametype.tf\">nametype</a>  <a target=\"_blank\" href=\"https://etcbc.github.io/bhsa/features/nme\" title=\"C:\\Users\\Oliver Glanz/text-fabric-data/etcbc/bhsa/tf/c/nme.tf\">nme</a>  <a target=\"_blank\" href=\"https://etcbc.github.io/bhsa/features/nu\" title=\"C:\\Users\\Oliver Glanz/text-fabric-data/etcbc/bhsa/tf/c/nu.tf\">nu</a>  <a target=\"_blank\" href=\"https://etcbc.github.io/bhsa/features/number\" title=\"C:\\Users\\Oliver Glanz/text-fabric-data/etcbc/bhsa/tf/c/number.tf\">number</a>  <a target=\"_blank\" href=\"https://etcbc.github.io/bhsa/features/otype\" title=\"C:\\Users\\Oliver Glanz/text-fabric-data/etcbc/bhsa/tf/c/otype.tf\">otype</a>  <a target=\"_blank\" href=\"https://etcbc.github.io/bhsa/features/pargr\" title=\"C:\\Users\\Oliver Glanz/text-fabric-data/etcbc/bhsa/tf/c/pargr.tf\">pargr</a>  <a target=\"_blank\" href=\"https://etcbc.github.io/bhsa/features/pdp\" title=\"C:\\Users\\Oliver Glanz/text-fabric-data/etcbc/bhsa/tf/c/pdp.tf\">pdp</a>  <a target=\"_blank\" href=\"https://etcbc.github.io/bhsa/features/pfm\" title=\"C:\\Users\\Oliver Glanz/text-fabric-data/etcbc/bhsa/tf/c/pfm.tf\">pfm</a>  <a target=\"_blank\" href=\"https://etcbc.github.io/bhsa/features/prs\" title=\"C:\\Users\\Oliver Glanz/text-fabric-data/etcbc/bhsa/tf/c/prs.tf\">prs</a>  <a target=\"_blank\" href=\"https://etcbc.github.io/bhsa/features/prs_gn\" title=\"C:\\Users\\Oliver Glanz/text-fabric-data/etcbc/bhsa/tf/c/prs_gn.tf\">prs_gn</a>  <a target=\"_blank\" href=\"https://etcbc.github.io/bhsa/features/prs_nu\" title=\"C:\\Users\\Oliver Glanz/text-fabric-data/etcbc/bhsa/tf/c/prs_nu.tf\">prs_nu</a>  <a target=\"_blank\" href=\"https://etcbc.github.io/bhsa/features/prs_ps\" title=\"C:\\Users\\Oliver Glanz/text-fabric-data/etcbc/bhsa/tf/c/prs_ps.tf\">prs_ps</a>  <a target=\"_blank\" href=\"https://etcbc.github.io/bhsa/features/ps\" title=\"C:\\Users\\Oliver Glanz/text-fabric-data/etcbc/bhsa/tf/c/ps.tf\">ps</a>  <a target=\"_blank\" href=\"https://etcbc.github.io/bhsa/features/qere\" title=\"C:\\Users\\Oliver Glanz/text-fabric-data/etcbc/bhsa/tf/c/qere.tf\">qere</a>  <a target=\"_blank\" href=\"https://etcbc.github.io/bhsa/features/qere_trailer\" title=\"C:\\Users\\Oliver Glanz/text-fabric-data/etcbc/bhsa/tf/c/qere_trailer.tf\">qere_trailer</a>  <a target=\"_blank\" href=\"https://etcbc.github.io/bhsa/features/qere_trailer_utf8\" title=\"C:\\Users\\Oliver Glanz/text-fabric-data/etcbc/bhsa/tf/c/qere_trailer_utf8.tf\">qere_trailer_utf8</a>  <a target=\"_blank\" href=\"https://etcbc.github.io/bhsa/features/qere_utf8\" title=\"C:\\Users\\Oliver Glanz/text-fabric-data/etcbc/bhsa/tf/c/qere_utf8.tf\">qere_utf8</a>  <a target=\"_blank\" href=\"https://etcbc.github.io/bhsa/features/rank_lex\" title=\"C:\\Users\\Oliver Glanz/text-fabric-data/etcbc/bhsa/tf/c/rank_lex.tf\">rank_lex</a>  <a target=\"_blank\" href=\"https://etcbc.github.io/bhsa/features/rela\" title=\"C:\\Users\\Oliver Glanz/text-fabric-data/etcbc/bhsa/tf/c/rela.tf\">rela</a>  <a target=\"_blank\" href=\"https://etcbc.github.io/bhsa/features/sp\" title=\"C:\\Users\\Oliver Glanz/text-fabric-data/etcbc/bhsa/tf/c/sp.tf\">sp</a>  <a target=\"_blank\" href=\"https://etcbc.github.io/bhsa/features/st\" title=\"C:\\Users\\Oliver Glanz/text-fabric-data/etcbc/bhsa/tf/c/st.tf\">st</a>  <a target=\"_blank\" href=\"https://etcbc.github.io/bhsa/features/tab\" title=\"C:\\Users\\Oliver Glanz/text-fabric-data/etcbc/bhsa/tf/c/tab.tf\">tab</a>  <a target=\"_blank\" href=\"https://etcbc.github.io/bhsa/features/trailer\" title=\"C:\\Users\\Oliver Glanz/text-fabric-data/etcbc/bhsa/tf/c/trailer.tf\">trailer</a>  <a target=\"_blank\" href=\"https://etcbc.github.io/bhsa/features/trailer_utf8\" title=\"C:\\Users\\Oliver Glanz/text-fabric-data/etcbc/bhsa/tf/c/trailer_utf8.tf\">trailer_utf8</a>  <a target=\"_blank\" href=\"https://etcbc.github.io/bhsa/features/txt\" title=\"C:\\Users\\Oliver Glanz/text-fabric-data/etcbc/bhsa/tf/c/txt.tf\">txt</a>  <a target=\"_blank\" href=\"https://etcbc.github.io/bhsa/features/typ\" title=\"C:\\Users\\Oliver Glanz/text-fabric-data/etcbc/bhsa/tf/c/typ.tf\">typ</a>  <a target=\"_blank\" href=\"https://etcbc.github.io/bhsa/features/uvf\" title=\"C:\\Users\\Oliver Glanz/text-fabric-data/etcbc/bhsa/tf/c/uvf.tf\">uvf</a>  <a target=\"_blank\" href=\"https://etcbc.github.io/bhsa/features/vbe\" title=\"C:\\Users\\Oliver Glanz/text-fabric-data/etcbc/bhsa/tf/c/vbe.tf\">vbe</a>  <a target=\"_blank\" href=\"https://etcbc.github.io/bhsa/features/vbs\" title=\"C:\\Users\\Oliver Glanz/text-fabric-data/etcbc/bhsa/tf/c/vbs.tf\">vbs</a>  <a target=\"_blank\" href=\"https://etcbc.github.io/bhsa/features/verse\" title=\"C:\\Users\\Oliver Glanz/text-fabric-data/etcbc/bhsa/tf/c/verse.tf\">verse</a>  <a target=\"_blank\" href=\"https://etcbc.github.io/bhsa/features/voc_lex\" title=\"C:\\Users\\Oliver Glanz/text-fabric-data/etcbc/bhsa/tf/c/voc_lex.tf\">voc_lex</a>  <a target=\"_blank\" href=\"https://etcbc.github.io/bhsa/features/voc_lex_utf8\" title=\"C:\\Users\\Oliver Glanz/text-fabric-data/etcbc/bhsa/tf/c/voc_lex_utf8.tf\">voc_lex_utf8</a>  <a target=\"_blank\" href=\"https://etcbc.github.io/bhsa/features/vs\" title=\"C:\\Users\\Oliver Glanz/text-fabric-data/etcbc/bhsa/tf/c/vs.tf\">vs</a>  <a target=\"_blank\" href=\"https://etcbc.github.io/bhsa/features/vt\" title=\"C:\\Users\\Oliver Glanz/text-fabric-data/etcbc/bhsa/tf/c/vt.tf\">vt</a>  <b><i><a target=\"_blank\" href=\"https://etcbc.github.io/bhsa/features/mother\" title=\"C:\\Users\\Oliver Glanz/text-fabric-data/etcbc/bhsa/tf/c/mother.tf\">mother</a></i></b>  <b><i><a target=\"_blank\" href=\"https://etcbc.github.io/bhsa/features/oslots\" title=\"C:\\Users\\Oliver Glanz/text-fabric-data/etcbc/bhsa/tf/c/oslots.tf\">oslots</a></i></b> </p><p><b>Parallel Passages</b>: <b><i><a target=\"_blank\" href=\"https://nbviewer.jupyter.org/github/etcbc/parallels/blob/master/programs/parallels.ipynb\" title=\"C:\\Users\\Oliver Glanz/text-fabric-data/etcbc/parallels/tf/c/crossref.tf\">crossref</a></i></b> </p><p><b>Phonetic Transcriptions</b>: <a target=\"_blank\" href=\"https://nbviewer.jupyter.org/github/etcbc/phono/blob/master/programs/phono.ipynb\" title=\"C:\\Users\\Oliver Glanz/text-fabric-data/etcbc/phono/tf/c/phono.tf\">phono</a>  <a target=\"_blank\" href=\"https://nbviewer.jupyter.org/github/etcbc/phono/blob/master/programs/phono.ipynb\" title=\"C:\\Users\\Oliver Glanz/text-fabric-data/etcbc/phono/tf/c/phono_trailer.tf\">phono_trailer</a> </p></details>"
      ],
      "text/plain": [
       "<IPython.core.display.HTML object>"
      ]
     },
     "metadata": {},
     "output_type": "display_data"
    },
    {
     "data": {
      "text/html": [
       "<style>\n",
       "@font-face {\n",
       "  font-family: \"Ezra SIL\";\n",
       "  src:\n",
       "    local(\"SILEOT.ttf\"),\n",
       "    url(\"https://github.com/annotation/text-fabric/blob/master/tf/server/static/fonts/SILEOT.woff?raw=true\");\n",
       "}\n",
       ".features {\n",
       "    font-family: monospace;\n",
       "    font-size: medium;\n",
       "    font-weight: bold;\n",
       "    color: #0a6611;\n",
       "    display: flex;\n",
       "    flex-flow: column nowrap;\n",
       "    padding: 0.1em;\n",
       "    margin: 0.1em;\n",
       "    direction: ltr;\n",
       "}\n",
       ".features div,.features span {\n",
       "    padding: 0;\n",
       "    margin: -0.1rem 0;\n",
       "}\n",
       ".features .f {\n",
       "    font-family: sans-serif;\n",
       "    font-size: x-small;\n",
       "    font-weight: normal;\n",
       "    color: #5555bb;\n",
       "}\n",
       ".features .xft {\n",
       "  color: #000000;\n",
       "  background-color: #eeeeee;\n",
       "  font-size: medium;\n",
       "  margin: 0.1em 0em;\n",
       "}\n",
       ".features .xft .f {\n",
       "  color: #000000;\n",
       "  background-color: #eeeeee;\n",
       "  font-style: italic;\n",
       "  font-size: small;\n",
       "  font-weight: normal;\n",
       "}\n",
       ".ltr {\n",
       "    direction: ltr ! important;\n",
       "}\n",
       ".verse {\n",
       "    display: flex;\n",
       "    flex-flow: row wrap;\n",
       "    direction: rtl;\n",
       "}\n",
       ".vl {\n",
       "    display: flex;\n",
       "    flex-flow: column nowrap;\n",
       "    justify-content: flex-end;\n",
       "    align-items: flex-end;\n",
       "    direction: ltr;\n",
       "    width: 100%;\n",
       "}\n",
       ".outeritem {\n",
       "    display: flex;\n",
       "    flex-flow: row wrap;\n",
       "    direction: rtl;\n",
       "}\n",
       ".sentence,.clause,.phrase {\n",
       "    margin-top: -1.2em;\n",
       "    margin-left: 1em;\n",
       "    background: #ffffff none repeat scroll 0 0;\n",
       "    padding: 0 0.3em;\n",
       "    border-style: solid;\n",
       "    border-radius: 0.2em;\n",
       "    font-size: small;\n",
       "    display: block;\n",
       "    width: fit-content;\n",
       "    max-width: fit-content;\n",
       "    direction: ltr;\n",
       "}\n",
       ".atoms {\n",
       "    display: flex;\n",
       "    flex-flow: row wrap;\n",
       "    margin: 0.3em;\n",
       "    padding: 0.3em;\n",
       "    direction: rtl;\n",
       "    background-color: #ffffff;\n",
       "}\n",
       ".satom,.catom,.patom {\n",
       "    margin: 0.3em;\n",
       "    padding: 0.3em;\n",
       "    border-radius: 0.3em;\n",
       "    border-style: solid;\n",
       "    display: flex;\n",
       "    flex-flow: column nowrap;\n",
       "    direction: rtl;\n",
       "    background-color: #ffffff;\n",
       "}\n",
       ".sentence {\n",
       "    border-color: #aa3333;\n",
       "    border-width: 1px;\n",
       "}\n",
       ".clause {\n",
       "    border-color: #aaaa33;\n",
       "    border-width: 1px;\n",
       "}\n",
       ".phrase {\n",
       "    border-color: #33aaaa;\n",
       "    border-width: 1px;\n",
       "}\n",
       ".satom {\n",
       "    border-color: #aa3333;\n",
       "    border-width: 4px;\n",
       "}\n",
       ".catom {\n",
       "    border-color: #aaaa33;\n",
       "    border-width: 3px;\n",
       "}\n",
       ".patom {\n",
       "    border-color: #33aaaa;\n",
       "    border-width: 3px;\n",
       "}\n",
       ".word {\n",
       "    padding: 0.1em;\n",
       "    margin: 0.1em;\n",
       "    border-radius: 0.1em;\n",
       "    border: 1px solid #cccccc;\n",
       "    display: flex;\n",
       "    flex-flow: column nowrap;\n",
       "    direction: rtl;\n",
       "    background-color: #ffffff;\n",
       "}\n",
       ".lextp {\n",
       "    padding: 0.1em;\n",
       "    margin: 0.1em;\n",
       "    border-radius: 0.1em;\n",
       "    border: 2px solid #888888;\n",
       "    width: fit-content;\n",
       "    display: flex;\n",
       "    flex-flow: column nowrap;\n",
       "    direction: rtl;\n",
       "    background-color: #ffffff;\n",
       "}\n",
       ".occs {\n",
       "    font-size: x-small;\n",
       "}\n",
       ".satom.l,.catom.l,.patom.l {\n",
       "    border-left-style: dotted\n",
       "}\n",
       ".satom.r,.catom.r,.patom.r {\n",
       "    border-right-style: dotted\n",
       "}\n",
       ".satom.lno,.catom.lno,.patom.lno {\n",
       "    border-left-style: none\n",
       "}\n",
       ".satom.rno,.catom.rno,.patom.rno {\n",
       "    border-right-style: none\n",
       "}\n",
       ".tr,.tr a:visited,.tr a:link {\n",
       "    font-family: sans-serif;\n",
       "    font-size: large;\n",
       "    color: #000044;\n",
       "    direction: ltr;\n",
       "    text-decoration: none;\n",
       "}\n",
       ".trb,.trb a:visited,.trb a:link {\n",
       "    font-family: sans-serif;\n",
       "    font-size: normal;\n",
       "    direction: ltr;\n",
       "    text-decoration: none;\n",
       "}\n",
       ".prb,.prb a:visited,.prb a:link {\n",
       "    font-family: sans-serif;\n",
       "    font-size: large;\n",
       "    direction: ltr;\n",
       "    text-decoration: none;\n",
       "}\n",
       ".h,.h a:visited,.h a:link {\n",
       "    font-family: \"Ezra SIL\", \"SBL Hebrew\", sans-serif;\n",
       "    font-size: large;\n",
       "    color: #000044;\n",
       "    direction: rtl;\n",
       "    text-decoration: none;\n",
       "}\n",
       ".hb,.hb a:visited,.hb a:link {\n",
       "    font-family: \"Ezra SIL\", \"SBL Hebrew\", sans-serif;\n",
       "    font-size: large;\n",
       "    line-height: 2;\n",
       "    direction: rtl;\n",
       "    text-decoration: none;\n",
       "}\n",
       ".vn {\n",
       "  font-size: small !important;\n",
       "  padding-right: 1em;\n",
       "}\n",
       ".rela,.function,.typ {\n",
       "    font-family: monospace;\n",
       "    font-size: small;\n",
       "    color: #0000bb;\n",
       "}\n",
       ".pdp,.pdp a:visited,.pdp a:link {\n",
       "    font-family: monospace;\n",
       "    font-size: medium;\n",
       "    color: #0000bb;\n",
       "    text-decoration: none;\n",
       "}\n",
       ".voc_lex {\n",
       "    font-family: monospace;\n",
       "    font-size: medium;\n",
       "    color: #0000bb;\n",
       "}\n",
       ".vs {\n",
       "    font-family: monospace;\n",
       "    font-size: medium;\n",
       "    font-weight: bold;\n",
       "    color: #0000bb;\n",
       "}\n",
       ".vt {\n",
       "    font-family: monospace;\n",
       "    font-size: medium;\n",
       "    font-weight: bold;\n",
       "    color: #0000bb;\n",
       "}\n",
       ".gloss {\n",
       "    font-family: sans-serif;\n",
       "    font-size: small;\n",
       "    font-weight: normal;\n",
       "    color: #444444;\n",
       "}\n",
       ".vrs {\n",
       "    font-family: sans-serif;\n",
       "    font-size: small;\n",
       "    font-weight: bold;\n",
       "    color: #444444;\n",
       "}\n",
       ".nd {\n",
       "    font-family: monospace;\n",
       "    font-size: x-small;\n",
       "    color: #999999;\n",
       "}\n",
       ".hl {\n",
       "    background-color: #ffee66;\n",
       "}\n",
       "\n",
       "tr.tf, td.tf, th.tf {\n",
       "  text-align: left;\n",
       "}\n",
       "\n",
       "span.hldot {\n",
       "\tbackground-color: var(--hl-strong);\n",
       "\tborder: 0.2rem solid var(--hl-rim);\n",
       "\tborder-radius: 0.4rem;\n",
       "\t/*\n",
       "\tdisplay: inline-block;\n",
       "\twidth: 0.8rem;\n",
       "\theight: 0.8rem;\n",
       "\t*/\n",
       "}\n",
       "span.hl {\n",
       "\tbackground-color: var(--hl-strong);\n",
       "\tborder-width: 0;\n",
       "\tborder-radius: 0.1rem;\n",
       "\tborder-style: solid;\n",
       "}\n",
       "\n",
       "span.hlup {\n",
       "\tborder-color: var(--hl-dark);\n",
       "\tborder-width: 0.1rem;\n",
       "\tborder-style: solid;\n",
       "\tborder-radius: 0.2rem;\n",
       "  padding: 0.2rem;\n",
       "}\n",
       "\n",
       ":root {\n",
       "\t--hl-strong:        hsla( 60, 100%,  70%, 0.9  );\n",
       "\t--hl-rim:           hsla( 55, 100%,  60%, 0.9  );\n",
       "\t--hl-dark:          hsla( 55, 100%,  40%, 0.9  );\n",
       "}\n",
       "</style>"
      ],
      "text/plain": [
       "<IPython.core.display.HTML object>"
      ]
     },
     "metadata": {},
     "output_type": "display_data"
    },
    {
     "data": {
      "text/html": [
       "<details open><summary><b>API members</b>:</summary>\n",
       "<a target=\"_blank\" href=\"https://annotation.github.io/text-fabric/Api/Computed/#computed-data\" title=\"doc\">C Computed</a>, <a target=\"_blank\" href=\"https://annotation.github.io/text-fabric/Api/Computed/#computed-data\" title=\"doc\">Call AllComputeds</a>, <a target=\"_blank\" href=\"https://annotation.github.io/text-fabric/Api/Computed/#computed-data\" title=\"doc\">Cs ComputedString</a><br/>\n",
       "<a target=\"_blank\" href=\"https://annotation.github.io/text-fabric/Api/Features/#edge-features\" title=\"doc\">E Edge</a>, <a target=\"_blank\" href=\"https://annotation.github.io/text-fabric/Api/Features/#edge-features\" title=\"doc\">Eall AllEdges</a>, <a target=\"_blank\" href=\"https://annotation.github.io/text-fabric/Api/Features/#edge-features\" title=\"doc\">Es EdgeString</a><br/>\n",
       "<a target=\"_blank\" href=\"https://annotation.github.io/text-fabric/Api/Fabric/#loading\" title=\"doc\">ensureLoaded</a>, <a target=\"_blank\" href=\"https://annotation.github.io/text-fabric/Api/Fabric/#loading\" title=\"doc\">TF</a>, <a target=\"_blank\" href=\"https://annotation.github.io/text-fabric/Api/Fabric/#loading\" title=\"doc\">ignored</a>, <a target=\"_blank\" href=\"https://annotation.github.io/text-fabric/Api/Fabric/#loading\" title=\"doc\">loadLog</a><br/>\n",
       "<a target=\"_blank\" href=\"https://annotation.github.io/text-fabric/Api/Locality/#locality\" title=\"doc\">L Locality</a><br/>\n",
       "<a target=\"_blank\" href=\"https://annotation.github.io/text-fabric/Api/Misc/#messaging\" title=\"doc\">cache</a>, <a target=\"_blank\" href=\"https://annotation.github.io/text-fabric/Api/Misc/#messaging\" title=\"doc\">error</a>, <a target=\"_blank\" href=\"https://annotation.github.io/text-fabric/Api/Misc/#messaging\" title=\"doc\">indent</a>, <a target=\"_blank\" href=\"https://annotation.github.io/text-fabric/Api/Misc/#messaging\" title=\"doc\">info</a>, <a target=\"_blank\" href=\"https://annotation.github.io/text-fabric/Api/Misc/#messaging\" title=\"doc\">isSilent</a>, <a target=\"_blank\" href=\"https://annotation.github.io/text-fabric/Api/Misc/#messaging\" title=\"doc\">reset</a>, <a target=\"_blank\" href=\"https://annotation.github.io/text-fabric/Api/Misc/#messaging\" title=\"doc\">setSilent</a>, <a target=\"_blank\" href=\"https://annotation.github.io/text-fabric/Api/Misc/#messaging\" title=\"doc\">silentOff</a>, <a target=\"_blank\" href=\"https://annotation.github.io/text-fabric/Api/Misc/#messaging\" title=\"doc\">silentOn</a>, <a target=\"_blank\" href=\"https://annotation.github.io/text-fabric/Api/Misc/#messaging\" title=\"doc\">warning</a><br/>\n",
       "<a target=\"_blank\" href=\"https://annotation.github.io/text-fabric/Api/Nodes/#navigating-nodes\" title=\"doc\">N Nodes</a>, <a target=\"_blank\" href=\"https://annotation.github.io/text-fabric/Api/Nodes/#navigating-nodes\" title=\"doc\">sortKey</a>, <a target=\"_blank\" href=\"https://annotation.github.io/text-fabric/Api/Nodes/#navigating-nodes\" title=\"doc\">sortKeyTuple</a>, <a target=\"_blank\" href=\"https://annotation.github.io/text-fabric/Api/Nodes/#navigating-nodes\" title=\"doc\">otypeRank</a>, <a target=\"_blank\" href=\"https://annotation.github.io/text-fabric/Api/Nodes/#navigating-nodes\" title=\"doc\">sortNodes</a><br/>\n",
       "<a target=\"_blank\" href=\"https://annotation.github.io/text-fabric/Api/Features/#node-features\" title=\"doc\">F Feature</a>, <a target=\"_blank\" href=\"https://annotation.github.io/text-fabric/Api/Features/#node-features\" title=\"doc\">Fall AllFeatures</a>, <a target=\"_blank\" href=\"https://annotation.github.io/text-fabric/Api/Features/#node-features\" title=\"doc\">Fs FeatureString</a><br/>\n",
       "<a target=\"_blank\" href=\"https://annotation.github.io/text-fabric/Api/Search/#search\" title=\"doc\">S Search</a><br/>\n",
       "<a target=\"_blank\" href=\"https://annotation.github.io/text-fabric/Api/Text/#text\" title=\"doc\">T Text</a></details>"
      ],
      "text/plain": [
       "<IPython.core.display.HTML object>"
      ]
     },
     "metadata": {},
     "output_type": "display_data"
    }
   ],
   "source": [
    "A = use('bhsa', hoist=globals())"
   ]
  },
  {
   "attachments": {
    "Dan11_1a.png": {
     "image/png": "[encoded data removed]"
    }
   },
   "cell_type": "markdown",
   "metadata": {},
   "source": [
    "# Dan 11:1\n",
    "## Linguistic Challenges\n",
    "### clause no01\n",
    "There is an unexpected congruence between the personal pronoun (`prps`) as subject and the subject suffix (`prs`) of the predicate complement (`PreC`). Both are 1sgC.\n",
    "![Dan11_1a.png](attachment:Dan11_1a.png)\n",
    "\n",
    "In the following query I seek to find other cases in which such a congruence takes place. "
   ]
  },
  {
   "cell_type": "code",
   "execution_count": 4,
   "metadata": {},
   "outputs": [
    {
     "name": "stdout",
     "output_type": "stream",
     "text": [
      "XXXX (True, frozenset({'Subj'}))\n",
      "XXXX (True, frozenset({'prps'}))\n",
      "XXXX (True, frozenset({'p1', 'p2'}))\n",
      "XXXX (True, frozenset({'PreC'}))\n",
      "XXXX (True, frozenset({'p1', 'p3', 'p2'}))\n",
      "  1.65s 12 results\n"
     ]
    },
    {
     "data": {
      "text/html": [
       "<table>\n",
       "<tr class=\"tf\">\n",
       "  <th class=\"tf\">n</th><th class=\"tf\">p</th>\n",
       "  <th class=\"tf\">verse</th><th>word</th><th>word</th><th>clause</th><th>phrase</th><th>phrase</th>\n",
       "</tr>\n",
       "\n",
       "<tr class=\"tf\"><td class=\"tf\">1</td><td class=\"tf\"> <a href=\"https://shebanq.ancient-data.org/hebrew/text?book=Leviticus&amp;chapter=26&amp;verse=34&amp;version=c&amp;mr=m&amp;qw=q&amp;tp=txt_p&amp;tr=hb&amp;wget=v&amp;qget=v&amp;nget=vt\" title=\"show this passage in SHEBANQ\" sec=\"Leviticus 26:34\">Leviticus 26:34</a></td><td class=\"tf\"><span class=\"hb\"><a class=\"vn\" href=\"https://shebanq.ancient-data.org/hebrew/text?book=Leviticus&amp;chapter=26&amp;verse=34&amp;version=c&amp;mr=m&amp;qw=q&amp;tp=txt_p&amp;tr=hb&amp;wget=v&amp;qget=v&amp;nget=vt\" title=\"Leviticus 26:34\" sec=\"Leviticus 26:34\"></a>אָז֩ תִּרְצֶ֨ה הָאָ֜רֶץ אֶת־שַׁבְּתֹתֶ֗יהָ כֹּ֚ל יְמֵ֣י הֳשַּׁמָּ֔ה <span  class=\"hlup\" >וְ</span><span  class=\"hl hlup\" >אַתֶּ֖ם </span><span  class=\"hlup\" >בְּ</span><span  class=\"hlup\" >אֶ֣רֶץ </span><span  class=\"hl hlup\" >אֹיְבֵיכֶ֑ם </span>אָ֚ז תִּשְׁבַּ֣ת הָאָ֔רֶץ וְהִרְצָ֖ת אֶת־שַׁבְּתֹתֶֽיהָ׃ </span></td><td class=\"tf\"><span class=\"hb\"><span  class=\"hl hlup\" >אַתֶּ֖ם </span></span></td><td class=\"tf\"><span class=\"hb\"><span  class=\"hl hlup\" >אֹיְבֵיכֶ֑ם </span></span></td><td class=\"tf\"><span class=\"hb\"><span  class=\"hlup\" >וְ</span><span  class=\"hl hlup\" >אַתֶּ֖ם </span><span  class=\"hlup\" >בְּ</span><span  class=\"hlup\" >אֶ֣רֶץ </span><span  class=\"hl hlup\" >אֹיְבֵיכֶ֑ם </span></span></td><td class=\"tf\"><span class=\"hb\"><span  class=\"hl hlup\" >אַתֶּ֖ם </span></span></td><td class=\"tf\"><span class=\"hb\"><span  class=\"hlup\" >בְּ</span><span  class=\"hlup\" >אֶ֣רֶץ </span><span  class=\"hl hlup\" >אֹיְבֵיכֶ֑ם </span></span></td></tr>\n",
       "<tr class=\"tf\"><td class=\"tf\">2</td><td class=\"tf\"> <a href=\"https://shebanq.ancient-data.org/hebrew/text?book=Judices&amp;chapter=6&amp;verse=15&amp;version=c&amp;mr=m&amp;qw=q&amp;tp=txt_p&amp;tr=hb&amp;wget=v&amp;qget=v&amp;nget=vt\" title=\"show this passage in SHEBANQ\" sec=\"Judges 6:15\">Judges 6:15</a></td><td class=\"tf\"><span class=\"hb\"><a class=\"vn\" href=\"https://shebanq.ancient-data.org/hebrew/text?book=Judices&amp;chapter=6&amp;verse=15&amp;version=c&amp;mr=m&amp;qw=q&amp;tp=txt_p&amp;tr=hb&amp;wget=v&amp;qget=v&amp;nget=vt\" title=\"Judges 6:15\" sec=\"Judges 6:15\"></a>וַיֹּ֤אמֶר אֵלָיו֙ בִּ֣י אֲדֹנָ֔י בַּמָּ֥ה אֹושִׁ֖יעַ אֶת־יִשְׂרָאֵ֑ל הִנֵּ֤ה אַלְפִּי֙ הַדַּ֣ל בִּמְנַשֶּׁ֔ה <span  class=\"hlup\" >וְ</span><span  class=\"hl hlup\" >אָנֹכִ֥י </span><span  class=\"hlup\" >הַ</span><span  class=\"hlup\" >צָּעִ֖יר </span><span  class=\"hlup\" >בְּ</span><span  class=\"hlup\" >בֵ֥ית </span><span  class=\"hl hlup\" >אָבִֽי׃ </span></span></td><td class=\"tf\"><span class=\"hb\"><span  class=\"hlup\" >וְ</span><span  class=\"hl hlup\" >אָנֹכִ֥י </span><span  class=\"hlup\" >הַ</span><span  class=\"hlup\" >צָּעִ֖יר </span><span  class=\"hlup\" >בְּ</span><span  class=\"hlup\" >בֵ֥ית </span><span  class=\"hl hlup\" >אָבִֽי׃ </span></span></td><td class=\"tf\"><span class=\"hb\"><span  class=\"hl hlup\" >אָבִֽי׃ </span></span></td><td class=\"tf\"><span class=\"hb\"><span  class=\"hl hlup\" >אָנֹכִ֥י </span></span></td><td class=\"tf\"><span class=\"hb\"><span  class=\"hlup\" >הַ</span><span  class=\"hlup\" >צָּעִ֖יר </span><span  class=\"hlup\" >בְּ</span><span  class=\"hlup\" >בֵ֥ית </span><span  class=\"hl hlup\" >אָבִֽי׃ </span></span></td><td class=\"tf\"><span class=\"hb\"><span  class=\"hl hlup\" >אָנֹכִ֥י </span></span></td></tr>\n",
       "<tr class=\"tf\"><td class=\"tf\">3</td><td class=\"tf\"> <a href=\"https://shebanq.ancient-data.org/hebrew/text?book=Samuel_I&amp;chapter=12&amp;verse=14&amp;version=c&amp;mr=m&amp;qw=q&amp;tp=txt_p&amp;tr=hb&amp;wget=v&amp;qget=v&amp;nget=vt\" title=\"show this passage in SHEBANQ\" sec=\"1_Samuel 12:14\">1_Samuel 12:14</a></td><td class=\"tf\"><span class=\"hb\"><a class=\"vn\" href=\"https://shebanq.ancient-data.org/hebrew/text?book=Samuel_I&amp;chapter=12&amp;verse=14&amp;version=c&amp;mr=m&amp;qw=q&amp;tp=txt_p&amp;tr=hb&amp;wget=v&amp;qget=v&amp;nget=vt\" title=\"1_Samuel 12:14\" sec=\"1_Samuel 12:14\"></a>אִם־תִּֽירְא֣וּ אֶת־יְהוָ֗ה וַעֲבַדְתֶּ֤ם אֹתֹו֙ וּשְׁמַעְתֶּ֣ם בְּקֹלֹ֔ו וְלֹ֥א תַמְר֖וּ אֶת־פִּ֣י יְהוָ֑ה <span  class=\"hlup\" >וִ</span><span  class=\"hlup\" >הְיִתֶ֣ם </span><span  class=\"hlup\" >גַּם־</span><span  class=\"hl hlup\" >אַתֶּ֗ם </span><span  class=\"hlup\" >וְ</span><span  class=\"hlup\" >גַם־</span><span  class=\"hlup\" >הַ</span><span  class=\"hlup\" >מֶּ֨לֶךְ֙ </span>אֲשֶׁ֣ר מָלַ֣ךְ עֲלֵיכֶ֔ם <span  class=\"hlup\" >אַחַ֖ר </span><span  class=\"hlup\" >יְהוָ֥ה </span><span  class=\"hl hlup\" >אֱלֹהֵיכֶֽם׃ </span></span></td><td class=\"tf\"><span class=\"hb\"><span  class=\"hlup\" >גַּם־</span><span  class=\"hl hlup\" >אַתֶּ֗ם </span><span  class=\"hlup\" >וְ</span><span  class=\"hlup\" >גַם־</span><span  class=\"hlup\" >הַ</span><span  class=\"hlup\" >מֶּ֨לֶךְ֙ </span></span></td><td class=\"tf\"><span class=\"hb\"><span  class=\"hlup\" >אַחַ֖ר </span><span  class=\"hlup\" >יְהוָ֥ה </span><span  class=\"hl hlup\" >אֱלֹהֵיכֶֽם׃ </span></span></td><td class=\"tf\"><span class=\"hb\"><span  class=\"hl hlup\" >אַתֶּ֗ם </span></span></td><td class=\"tf\"><span class=\"hb\"><span  class=\"hlup\" >וִ</span><span  class=\"hlup\" >הְיִתֶ֣ם </span><span  class=\"hlup\" >גַּם־</span><span  class=\"hl hlup\" >אַתֶּ֗ם </span><span  class=\"hlup\" >וְ</span><span  class=\"hlup\" >גַם־</span><span  class=\"hlup\" >הַ</span><span  class=\"hlup\" >מֶּ֨לֶךְ֙ </span><span  class=\"hlup\" >אַחַ֖ר </span><span  class=\"hlup\" >יְהוָ֥ה </span><span  class=\"hl hlup\" >אֱלֹהֵיכֶֽם׃ </span></span></td><td class=\"tf\"><span class=\"hb\"><span  class=\"hl hlup\" >אֱלֹהֵיכֶֽם׃ </span></span></td></tr>\n",
       "<tr class=\"tf\"><td class=\"tf\">4</td><td class=\"tf\"> <a href=\"https://shebanq.ancient-data.org/hebrew/text?book=Samuel_I&amp;chapter=21&amp;verse=2&amp;version=c&amp;mr=m&amp;qw=q&amp;tp=txt_p&amp;tr=hb&amp;wget=v&amp;qget=v&amp;nget=vt\" title=\"show this passage in SHEBANQ\" sec=\"1_Samuel 21:2\">1_Samuel 21:2</a></td><td class=\"tf\"><span class=\"hb\"><a class=\"vn\" href=\"https://shebanq.ancient-data.org/hebrew/text?book=Samuel_I&amp;chapter=21&amp;verse=2&amp;version=c&amp;mr=m&amp;qw=q&amp;tp=txt_p&amp;tr=hb&amp;wget=v&amp;qget=v&amp;nget=vt\" title=\"1_Samuel 21:2\" sec=\"1_Samuel 21:2\"></a>וַיָּבֹ֤א דָוִד֙ נֹ֔בֶה אֶל־אֲחִימֶ֖לֶךְ הַכֹּהֵ֑ן וַיֶּחֱרַ֨ד אֲחִימֶ֜לֶךְ לִקְרַ֣את דָּוִ֗ד וַיֹּ֤אמֶר לֹו֙ <span  class=\"hlup\" >מַדּ֤וּעַ </span><span  class=\"hl hlup\" >אַתָּה֙ </span><span  class=\"hlup\" >לְ</span><span  class=\"hl hlup\" >בַדֶּ֔ךָ </span>וְאִ֖ישׁ אֵ֥ין אִתָּֽךְ׃ </span></td><td class=\"tf\"><span class=\"hb\"><span  class=\"hl hlup\" >אַתָּה֙ </span></span></td><td class=\"tf\"><span class=\"hb\"><span  class=\"hlup\" >לְ</span><span  class=\"hl hlup\" >בַדֶּ֔ךָ </span></span></td><td class=\"tf\"><span class=\"hb\"><span  class=\"hlup\" >מַדּ֤וּעַ </span><span  class=\"hl hlup\" >אַתָּה֙ </span><span  class=\"hlup\" >לְ</span><span  class=\"hl hlup\" >בַדֶּ֔ךָ </span></span></td><td class=\"tf\"><span class=\"hb\"><span  class=\"hl hlup\" >אַתָּה֙ </span></span></td><td class=\"tf\"><span class=\"hb\"><span  class=\"hl hlup\" >בַדֶּ֔ךָ </span></span></td></tr>\n",
       "<tr class=\"tf\"><td class=\"tf\">5</td><td class=\"tf\"> <a href=\"https://shebanq.ancient-data.org/hebrew/text?book=Ezechiel&amp;chapter=16&amp;verse=45&amp;version=c&amp;mr=m&amp;qw=q&amp;tp=txt_p&amp;tr=hb&amp;wget=v&amp;qget=v&amp;nget=vt\" title=\"show this passage in SHEBANQ\" sec=\"Ezekiel 16:45\">Ezekiel 16:45</a></td><td class=\"tf\"><span class=\"hb\"><a class=\"vn\" href=\"https://shebanq.ancient-data.org/hebrew/text?book=Ezechiel&amp;chapter=16&amp;verse=45&amp;version=c&amp;mr=m&amp;qw=q&amp;tp=txt_p&amp;tr=hb&amp;wget=v&amp;qget=v&amp;nget=vt\" title=\"Ezekiel 16:45\" sec=\"Ezekiel 16:45\"></a><span  class=\"hlup\" >בַּת־</span><span  class=\"hl hlup\" >אִמֵּ֣ךְ </span><span  class=\"hl hlup\" >אַ֔תְּ </span>גֹּעֶ֥לֶת אִישָׁ֖הּ וּבָנֶ֑יהָ <span  class=\"hlup\" >וַ</span><span  class=\"hlup\" >אֲחֹ֨ות </span><span  class=\"hl hlup\" >אֲחֹותֵ֜ךְ </span><span  class=\"hl hlup\" >אַ֗תְּ </span>אֲשֶׁ֤ר גָּֽעֲ֨לוּ֙ אַנְשֵׁיהֶ֣ן וּבְנֵיהֶ֔ן אִמְּכֶ֣ן חִתִּ֔ית וַאֲבִיכֶ֖ן אֱמֹרִֽי׃ </span></td><td class=\"tf\"><span class=\"hb\"><span  class=\"hlup\" >וַ</span><span  class=\"hlup\" >אֲחֹ֨ות </span><span  class=\"hl hlup\" >אֲחֹותֵ֜ךְ </span><span  class=\"hl hlup\" >אַ֗תְּ </span></span></td><td class=\"tf\"><span class=\"hb\"><span  class=\"hl hlup\" >אֲחֹותֵ֜ךְ </span></span></td><td class=\"tf\"><span class=\"hb\"><span  class=\"hl hlup\" >אִמֵּ֣ךְ </span></span></td><td class=\"tf\"><span class=\"hb\"><span  class=\"hl hlup\" >אַ֔תְּ </span></span></td><td class=\"tf\"><span class=\"hb\"><span  class=\"hl hlup\" >אַ֗תְּ </span></span></td><td class=\"tf\"><span class=\"hb\"><span  class=\"hlup\" >בַּת־</span><span  class=\"hl hlup\" >אִמֵּ֣ךְ </span></span></td><td class=\"tf\"><span class=\"hb\"><span  class=\"hl hlup\" >אַ֔תְּ </span></span></td><td class=\"tf\"><span class=\"hb\"><span  class=\"hlup\" >אֲחֹ֨ות </span><span  class=\"hl hlup\" >אֲחֹותֵ֜ךְ </span></span></td><td class=\"tf\"><span class=\"hb\"><span  class=\"hl hlup\" >אַ֗תְּ </span></span></td><td class=\"tf\"><span class=\"hb\"><span  class=\"hlup\" >בַּת־</span><span  class=\"hl hlup\" >אִמֵּ֣ךְ </span><span  class=\"hl hlup\" >אַ֔תְּ </span></span></td></tr>\n",
       "<tr class=\"tf\"><td class=\"tf\">6</td><td class=\"tf\"> <a href=\"https://shebanq.ancient-data.org/hebrew/text?book=Canticum&amp;chapter=6&amp;verse=3&amp;version=c&amp;mr=m&amp;qw=q&amp;tp=txt_p&amp;tr=hb&amp;wget=v&amp;qget=v&amp;nget=vt\" title=\"show this passage in SHEBANQ\" sec=\"Song_of_songs 6:3\">Song_of_songs 6:3</a></td><td class=\"tf\"><span class=\"hb\"><a class=\"vn\" href=\"https://shebanq.ancient-data.org/hebrew/text?book=Canticum&amp;chapter=6&amp;verse=3&amp;version=c&amp;mr=m&amp;qw=q&amp;tp=txt_p&amp;tr=hb&amp;wget=v&amp;qget=v&amp;nget=vt\" title=\"Song_of_songs 6:3\" sec=\"Song_of_songs 6:3\"></a><span  class=\"hl hlup\" >אֲנִ֤י </span><span  class=\"hlup\" >לְ</span><span  class=\"hl hlup\" >דֹודִי֙ </span>וְדֹודִ֣י לִ֔י הָרֹעֶ֖ה בַּשֹּׁושַׁנִּֽים׃ ס </span></td><td class=\"tf\"><span class=\"hb\"><span  class=\"hl hlup\" >אֲנִ֤י </span><span  class=\"hlup\" >לְ</span><span  class=\"hl hlup\" >דֹודִי֙ </span></span></td><td class=\"tf\"><span class=\"hb\"><span  class=\"hl hlup\" >אֲנִ֤י </span></span></td><td class=\"tf\"><span class=\"hb\"><span  class=\"hlup\" >לְ</span><span  class=\"hl hlup\" >דֹודִי֙ </span></span></td><td class=\"tf\"><span class=\"hb\"><span  class=\"hl hlup\" >אֲנִ֤י </span></span></td><td class=\"tf\"><span class=\"hb\"><span  class=\"hl hlup\" >דֹודִי֙ </span></span></td></tr>\n",
       "<tr class=\"tf\"><td class=\"tf\">7</td><td class=\"tf\"> <a href=\"https://shebanq.ancient-data.org/hebrew/text?book=Canticum&amp;chapter=7&amp;verse=11&amp;version=c&amp;mr=m&amp;qw=q&amp;tp=txt_p&amp;tr=hb&amp;wget=v&amp;qget=v&amp;nget=vt\" title=\"show this passage in SHEBANQ\" sec=\"Song_of_songs 7:11\">Song_of_songs 7:11</a></td><td class=\"tf\"><span class=\"hb\"><a class=\"vn\" href=\"https://shebanq.ancient-data.org/hebrew/text?book=Canticum&amp;chapter=7&amp;verse=11&amp;version=c&amp;mr=m&amp;qw=q&amp;tp=txt_p&amp;tr=hb&amp;wget=v&amp;qget=v&amp;nget=vt\" title=\"Song_of_songs 7:11\" sec=\"Song_of_songs 7:11\"></a><span  class=\"hl hlup\" >אֲנִ֣י </span><span  class=\"hlup\" >לְ</span><span  class=\"hl hlup\" >דֹודִ֔י </span>וְעָלַ֖י תְּשׁוּקָתֹֽו׃ ס </span></td><td class=\"tf\"><span class=\"hb\"><span  class=\"hl hlup\" >אֲנִ֣י </span></span></td><td class=\"tf\"><span class=\"hb\"><span  class=\"hl hlup\" >אֲנִ֣י </span><span  class=\"hlup\" >לְ</span><span  class=\"hl hlup\" >דֹודִ֔י </span></span></td><td class=\"tf\"><span class=\"hb\"><span  class=\"hl hlup\" >אֲנִ֣י </span></span></td><td class=\"tf\"><span class=\"hb\"><span  class=\"hl hlup\" >דֹודִ֔י </span></span></td><td class=\"tf\"><span class=\"hb\"><span  class=\"hlup\" >לְ</span><span  class=\"hl hlup\" >דֹודִ֔י </span></span></td></tr>\n",
       "<tr class=\"tf\"><td class=\"tf\">8</td><td class=\"tf\"> <a href=\"https://shebanq.ancient-data.org/hebrew/text?book=Daniel&amp;chapter=11&amp;verse=1&amp;version=c&amp;mr=m&amp;qw=q&amp;tp=txt_p&amp;tr=hb&amp;wget=v&amp;qget=v&amp;nget=vt\" title=\"show this passage in SHEBANQ\" sec=\"Daniel 11:1\">Daniel 11:1</a></td><td class=\"tf\"><span class=\"hb\"><a class=\"vn\" href=\"https://shebanq.ancient-data.org/hebrew/text?book=Daniel&amp;chapter=11&amp;verse=1&amp;version=c&amp;mr=m&amp;qw=q&amp;tp=txt_p&amp;tr=hb&amp;wget=v&amp;qget=v&amp;nget=vt\" title=\"Daniel 11:1\" sec=\"Daniel 11:1\"><span  class=\"hlup\" ></span></a><span  class=\"hlup\" >וַ</span><span  class=\"hl hlup\" >אֲנִי֙ </span><span  class=\"hlup\" >בִּ</span><span  class=\"hlup\" >שְׁנַ֣ת </span><span  class=\"hlup\" >אַחַ֔ת </span><span  class=\"hlup\" >לְ</span><span  class=\"hlup\" >דָרְיָ֖וֶשׁ </span><span  class=\"hlup\" >הַ</span><span  class=\"hlup\" >מָּדִ֑י </span><span  class=\"hl hlup\" >עָמְדִ֛י </span><span  class=\"hlup\" >לְ</span><span  class=\"hlup\" >מַחֲזִ֥יק </span><span  class=\"hlup\" >וּ</span><span  class=\"hlup\" >לְ</span><span  class=\"hlup\" >מָעֹ֖וז </span><span  class=\"hlup\" >לֹֽו׃ </span></span></td><td class=\"tf\"><span class=\"hb\"><span  class=\"hlup\" >וַ</span><span  class=\"hl hlup\" >אֲנִי֙ </span><span  class=\"hlup\" >בִּ</span><span  class=\"hlup\" >שְׁנַ֣ת </span><span  class=\"hlup\" >אַחַ֔ת </span><span  class=\"hlup\" >לְ</span><span  class=\"hlup\" >דָרְיָ֖וֶשׁ </span><span  class=\"hlup\" >הַ</span><span  class=\"hlup\" >מָּדִ֑י </span><span  class=\"hl hlup\" >עָמְדִ֛י </span><span  class=\"hlup\" >לְ</span><span  class=\"hlup\" >מַחֲזִ֥יק </span><span  class=\"hlup\" >וּ</span><span  class=\"hlup\" >לְ</span><span  class=\"hlup\" >מָעֹ֖וז </span><span  class=\"hlup\" >לֹֽו׃ </span></span></td><td class=\"tf\"><span class=\"hb\"><span  class=\"hl hlup\" >אֲנִי֙ </span></span></td><td class=\"tf\"><span class=\"hb\"><span  class=\"hl hlup\" >אֲנִי֙ </span></span></td><td class=\"tf\"><span class=\"hb\"><span  class=\"hl hlup\" >עָמְדִ֛י </span></span></td><td class=\"tf\"><span class=\"hb\"><span  class=\"hl hlup\" >עָמְדִ֛י </span></span></td></tr>\n",
       "<tr class=\"tf\"><td class=\"tf\">9</td><td class=\"tf\"> <a href=\"https://shebanq.ancient-data.org/hebrew/text?book=Chronica_I&amp;chapter=28&amp;verse=2&amp;version=c&amp;mr=m&amp;qw=q&amp;tp=txt_p&amp;tr=hb&amp;wget=v&amp;qget=v&amp;nget=vt\" title=\"show this passage in SHEBANQ\" sec=\"1_Chronicles 28:2\">1_Chronicles 28:2</a></td><td class=\"tf\"><span class=\"hb\"><a class=\"vn\" href=\"https://shebanq.ancient-data.org/hebrew/text?book=Chronica_I&amp;chapter=28&amp;verse=2&amp;version=c&amp;mr=m&amp;qw=q&amp;tp=txt_p&amp;tr=hb&amp;wget=v&amp;qget=v&amp;nget=vt\" title=\"1_Chronicles 28:2\" sec=\"1_Chronicles 28:2\"></a>וַיָּ֨קָם דָּוִ֤יד הַמֶּ֨לֶךְ֙ עַל־רַגְלָ֔יו וַיֹּ֕אמֶר שְׁמָע֖וּנִי אַחַ֣י וְעַמִּ֑י <span  class=\"hl hlup\" >אֲנִ֣י </span><span  class=\"hlup\" >עִם־</span><span  class=\"hl hlup\" >לְבָבִ֡י </span>לִבְנֹות֩ בֵּ֨ית מְנוּחָ֜ה לַאֲרֹ֣ון בְּרִית־יְהוָ֗ה וְלַהֲדֹם֙ רַגְלֵ֣י אֱלֹהֵ֔ינוּ וַהֲכִינֹ֖ותִי לִבְנֹֽות׃ </span></td><td class=\"tf\"><span class=\"hb\"><span  class=\"hl hlup\" >אֲנִ֣י </span><span  class=\"hlup\" >עִם־</span><span  class=\"hl hlup\" >לְבָבִ֡י </span></span></td><td class=\"tf\"><span class=\"hb\"><span  class=\"hl hlup\" >אֲנִ֣י </span></span></td><td class=\"tf\"><span class=\"hb\"><span  class=\"hlup\" >עִם־</span><span  class=\"hl hlup\" >לְבָבִ֡י </span></span></td><td class=\"tf\"><span class=\"hb\"><span  class=\"hl hlup\" >אֲנִ֣י </span></span></td><td class=\"tf\"><span class=\"hb\"><span  class=\"hl hlup\" >לְבָבִ֡י </span></span></td></tr>\n",
       "<tr class=\"tf\"><td class=\"tf\">10</td><td class=\"tf\"> <a href=\"https://shebanq.ancient-data.org/hebrew/text?book=Chronica_II&amp;chapter=21&amp;verse=15&amp;version=c&amp;mr=m&amp;qw=q&amp;tp=txt_p&amp;tr=hb&amp;wget=v&amp;qget=v&amp;nget=vt\" title=\"show this passage in SHEBANQ\" sec=\"2_Chronicles 21:15\">2_Chronicles 21:15</a></td><td class=\"tf\"><span class=\"hb\"><a class=\"vn\" href=\"https://shebanq.ancient-data.org/hebrew/text?book=Chronica_II&amp;chapter=21&amp;verse=15&amp;version=c&amp;mr=m&amp;qw=q&amp;tp=txt_p&amp;tr=hb&amp;wget=v&amp;qget=v&amp;nget=vt\" title=\"2_Chronicles 21:15\" sec=\"2_Chronicles 21:15\"></a><span  class=\"hlup\" >וְ</span><span  class=\"hl hlup\" >אַתָּ֛ה </span><span  class=\"hlup\" >בָּ</span><span  class=\"hlup\" >חֳלָיִ֥ים </span><span  class=\"hlup\" >רַבִּ֖ים </span><span  class=\"hlup\" >בְּ</span><span  class=\"hlup\" >מַחֲלֵ֣ה </span><span  class=\"hl hlup\" >מֵעֶ֑יךָ </span>עַד־יֵצְא֤וּ מֵעֶ֨יךָ֙ מִן־הַחֹ֔לִי יָמִ֖ים עַל־יָמִֽים׃ </span></td><td class=\"tf\"><span class=\"hb\"><span  class=\"hl hlup\" >אַתָּ֛ה </span></span></td><td class=\"tf\"><span class=\"hb\"><span  class=\"hlup\" >בָּ</span><span  class=\"hlup\" >חֳלָיִ֥ים </span><span  class=\"hlup\" >רַבִּ֖ים </span><span  class=\"hlup\" >בְּ</span><span  class=\"hlup\" >מַחֲלֵ֣ה </span><span  class=\"hl hlup\" >מֵעֶ֑יךָ </span></span></td><td class=\"tf\"><span class=\"hb\"><span  class=\"hl hlup\" >אַתָּ֛ה </span></span></td><td class=\"tf\"><span class=\"hb\"><span  class=\"hlup\" >וְ</span><span  class=\"hl hlup\" >אַתָּ֛ה </span><span  class=\"hlup\" >בָּ</span><span  class=\"hlup\" >חֳלָיִ֥ים </span><span  class=\"hlup\" >רַבִּ֖ים </span><span  class=\"hlup\" >בְּ</span><span  class=\"hlup\" >מַחֲלֵ֣ה </span><span  class=\"hl hlup\" >מֵעֶ֑יךָ </span></span></td><td class=\"tf\"><span class=\"hb\"><span  class=\"hl hlup\" >מֵעֶ֑יךָ </span></span></td></tr>\n",
       "<tr class=\"tf\"><td class=\"tf\">11</td><td class=\"tf\"> <a href=\"https://shebanq.ancient-data.org/hebrew/text?book=Chronica_II&amp;chapter=35&amp;verse=21&amp;version=c&amp;mr=m&amp;qw=q&amp;tp=txt_p&amp;tr=hb&amp;wget=v&amp;qget=v&amp;nget=vt\" title=\"show this passage in SHEBANQ\" sec=\"2_Chronicles 35:21\">2_Chronicles 35:21</a></td><td class=\"tf\"><span class=\"hb\"><a class=\"vn\" href=\"https://shebanq.ancient-data.org/hebrew/text?book=Chronica_II&amp;chapter=35&amp;verse=21&amp;version=c&amp;mr=m&amp;qw=q&amp;tp=txt_p&amp;tr=hb&amp;wget=v&amp;qget=v&amp;nget=vt\" title=\"2_Chronicles 35:21\" sec=\"2_Chronicles 35:21\"></a>וַיִּשְׁלַ֣ח אֵלָ֣יו מַלְאָכִ֣ים׀ לֵאמֹר֩׀ מַה־לִּ֨י וָלָ֜ךְ מֶ֣לֶךְ יְהוּדָ֗ה <span  class=\"hlup\" >לֹא־</span><span  class=\"hl hlup\" >עָלֶ֨יךָ </span><span  class=\"hl hlup\" >אַתָּ֤ה </span><span  class=\"hlup\" >הַ</span><span  class=\"hlup\" >יֹּום֙ </span>כִּ֚י אֶל־בֵּ֣ית מִלְחַמְתִּ֔י וֵאלֹהִ֖ים אָמַ֣ר לְבַֽהֲלֵ֑נִי חֲדַל־לְךָ֛ מֵאֱלֹהִ֥ים אֲשֶׁר־עִמִּ֖י וְאַל־יַשְׁחִיתֶֽךָ׃ </span></td><td class=\"tf\"><span class=\"hb\"><span  class=\"hlup\" >לֹא־</span><span  class=\"hl hlup\" >עָלֶ֨יךָ </span><span  class=\"hl hlup\" >אַתָּ֤ה </span><span  class=\"hlup\" >הַ</span><span  class=\"hlup\" >יֹּום֙ </span></span></td><td class=\"tf\"><span class=\"hb\"><span  class=\"hl hlup\" >עָלֶ֨יךָ </span></span></td><td class=\"tf\"><span class=\"hb\"><span  class=\"hl hlup\" >אַתָּ֤ה </span></span></td><td class=\"tf\"><span class=\"hb\"><span  class=\"hl hlup\" >עָלֶ֨יךָ </span></span></td><td class=\"tf\"><span class=\"hb\"><span  class=\"hl hlup\" >אַתָּ֤ה </span></span></td></tr></table>"
      ],
      "text/plain": [
       "<IPython.core.display.HTML object>"
      ]
     },
     "metadata": {},
     "output_type": "display_data"
    }
   ],
   "source": [
    "CongruenceOfSubjectandPreCSuffix='''\n",
    "clause\n",
    "    phrase function=Subj\n",
    "        w1:word sp=prps ps=p1|p2\n",
    "    phrase function=PreC\n",
    "        w2:word prs_ps=p1|p2|p3\n",
    "w1 .ps=prs_ps. w2\n",
    "'''\n",
    "CongruenceOfSubjectandPreCSuffix  = A.search(CongruenceOfSubjectandPreCSuffix)\n",
    "A.table(CongruenceOfSubjectandPreCSuffix, start=1, end=12, condensed=True)"
   ]
  },
  {
   "cell_type": "markdown",
   "metadata": {},
   "source": [
    "### Results and Questions\n",
    "- As can be seen the case in Dan 11:1 is exceptional and does nowhere else appear. The other 11 cases do not count as the suffix does not appear on the head of the `PreC`and is either part of a prepositional phrase or a regens-rectum construction (cf. Judges 6:15). The following query shows a more restricted query that excludes prepositional phrases and regens-rectum constructions by defining that the suffixed word needs to stand at the head of the `PreC` phrase and cannot be attached to a preposition (`prep`):"
   ]
  },
  {
   "cell_type": "code",
   "execution_count": 5,
   "metadata": {},
   "outputs": [
    {
     "name": "stdout",
     "output_type": "stream",
     "text": [
      "XXXX (True, frozenset({'Subj'}))\n",
      "XXXX (True, frozenset({'prps'}))\n",
      "XXXX (True, frozenset({'p1', 'p2'}))\n",
      "XXXX (True, frozenset({'PreC'}))\n",
      "XXXX (True, frozenset({'p1', 'p3', 'p2'}))\n",
      "XXXX (False, frozenset({'prep'}))\n",
      "  1.75s 1 result\n"
     ]
    },
    {
     "data": {
      "text/html": [
       "<table>\n",
       "<tr class=\"tf\">\n",
       "  <th class=\"tf\">n</th><th class=\"tf\">p</th>\n",
       "  <th class=\"tf\">verse</th><th>clause</th><th>word</th><th>phrase</th><th>phrase</th><th>word</th>\n",
       "</tr>\n",
       "\n",
       "<tr class=\"tf\"><td class=\"tf\">1</td><td class=\"tf\"> <a href=\"https://shebanq.ancient-data.org/hebrew/text?book=Daniel&amp;chapter=11&amp;verse=1&amp;version=c&amp;mr=m&amp;qw=q&amp;tp=txt_p&amp;tr=hb&amp;wget=v&amp;qget=v&amp;nget=vt\" title=\"show this passage in SHEBANQ\" sec=\"Daniel 11:1\">Daniel 11:1</a></td><td class=\"tf\"><span class=\"hb\"><a class=\"vn\" href=\"https://shebanq.ancient-data.org/hebrew/text?book=Daniel&amp;chapter=11&amp;verse=1&amp;version=c&amp;mr=m&amp;qw=q&amp;tp=txt_p&amp;tr=hb&amp;wget=v&amp;qget=v&amp;nget=vt\" title=\"Daniel 11:1\" sec=\"Daniel 11:1\"><span  class=\"hlup\" ></span></a><span  class=\"hlup\" >וַ</span><span  class=\"hl hlup\" >אֲנִי֙ </span><span  class=\"hlup\" >בִּ</span><span  class=\"hlup\" >שְׁנַ֣ת </span><span  class=\"hlup\" >אַחַ֔ת </span><span  class=\"hlup\" >לְ</span><span  class=\"hlup\" >דָרְיָ֖וֶשׁ </span><span  class=\"hlup\" >הַ</span><span  class=\"hlup\" >מָּדִ֑י </span><span  class=\"hl hlup\" >עָמְדִ֛י </span><span  class=\"hlup\" >לְ</span><span  class=\"hlup\" >מַחֲזִ֥יק </span><span  class=\"hlup\" >וּ</span><span  class=\"hlup\" >לְ</span><span  class=\"hlup\" >מָעֹ֖וז </span><span  class=\"hlup\" >לֹֽו׃ </span></span></td><td class=\"tf\"><span class=\"hb\"><span  class=\"hlup\" >וַ</span><span  class=\"hl hlup\" >אֲנִי֙ </span><span  class=\"hlup\" >בִּ</span><span  class=\"hlup\" >שְׁנַ֣ת </span><span  class=\"hlup\" >אַחַ֔ת </span><span  class=\"hlup\" >לְ</span><span  class=\"hlup\" >דָרְיָ֖וֶשׁ </span><span  class=\"hlup\" >הַ</span><span  class=\"hlup\" >מָּדִ֑י </span><span  class=\"hl hlup\" >עָמְדִ֛י </span><span  class=\"hlup\" >לְ</span><span  class=\"hlup\" >מַחֲזִ֥יק </span><span  class=\"hlup\" >וּ</span><span  class=\"hlup\" >לְ</span><span  class=\"hlup\" >מָעֹ֖וז </span><span  class=\"hlup\" >לֹֽו׃ </span></span></td><td class=\"tf\"><span class=\"hb\"><span  class=\"hl hlup\" >אֲנִי֙ </span></span></td><td class=\"tf\"><span class=\"hb\"><span  class=\"hl hlup\" >אֲנִי֙ </span></span></td><td class=\"tf\"><span class=\"hb\"><span  class=\"hl hlup\" >עָמְדִ֛י </span></span></td><td class=\"tf\"><span class=\"hb\"><span  class=\"hl hlup\" >עָמְדִ֛י </span></span></td></tr></table>"
      ],
      "text/plain": [
       "<IPython.core.display.HTML object>"
      ]
     },
     "metadata": {},
     "output_type": "display_data"
    }
   ],
   "source": [
    "CongruenceOfSubjectandSubjectSuffixAtPreCHead='''\n",
    "clause\n",
    "    p1:phrase function=Subj\n",
    "        w1:word sp=prps ps=p1|p2\n",
    "    p2:phrase function=PreC\n",
    "        w2:word prs_ps=p1|p2|p3 sp#prep\n",
    "w1 .ps=prs_ps. w2\n",
    "p2 =: w2\n",
    "'''\n",
    "CongruenceOfSubjectandSubjectSuffixAtPreCHead  = A.search(CongruenceOfSubjectandSubjectSuffixAtPreCHead)\n",
    "A.table(CongruenceOfSubjectandSubjectSuffixAtPreCHead, start=1, end=12, condensed=True)"
   ]
  },
  {
   "cell_type": "markdown",
   "metadata": {},
   "source": [
    "- One would expect that the the `PreC` (עֹמֶד) is actually made out of a participal form of עמד (as is done in the Syriaca: || c l עֹמֵד cf 𝔖 ||) instead of the nominal form עֹמֶד. However, the above queries also searches for participal `PreC`'s. Thus, even when changing the analysis of עֹמֶד into עֹמֵד the syntax of the first clause of Dan 11:1 would still represent an unkown grammatical construction (assuming this is classical or transitional Biblical Hebrew).\n",
    "- As a potential translation one could suggest \"I *am/was doing* my standing...\". However, in classical/transitional Biblical Hebrew nominal clauses (`NmCl`) do not assume a *word of doing* but a *word of being*. This could have changed in late Biblical Hebrew, however. Research on this matter would be required..."
   ]
  },
  {
   "cell_type": "code",
   "execution_count": null,
   "metadata": {},
   "outputs": [],
   "source": []
  }
 ],
 "metadata": {
  "kernelspec": {
   "display_name": "Python 3",
   "language": "python",
   "name": "python3"
  },
  "language_info": {
   "codemirror_mode": {
    "name": "ipython",
    "version": 3
   },
   "file_extension": ".py",
   "mimetype": "text/x-python",
   "name": "python",
   "nbconvert_exporter": "python",
   "pygments_lexer": "ipython3",
   "version": "3.7.0"
  },
  "toc": {
   "base_numbering": 1,
   "nav_menu": {},
   "number_sections": true,
   "sideBar": true,
   "skip_h1_title": false,
   "title_cell": "Table of Contents",
   "title_sidebar": "Contents",
   "toc_cell": false,
   "toc_position": {
    "height": "calc(100% - 180px)",
    "left": "10px",
    "top": "150px",
    "width": "287px"
   },
   "toc_section_display": true,
   "toc_window_display": true
  }
 },
 "nbformat": 4,
 "nbformat_minor": 2
}

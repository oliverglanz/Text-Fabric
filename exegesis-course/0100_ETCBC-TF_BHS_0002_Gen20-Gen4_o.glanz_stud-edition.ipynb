{
 "cells": [
  {
   "cell_type": "markdown",
   "metadata": {},
   "source": [
    "# Genesis 20: From Exegetical Question to TF Query\n",
    "Before we get started make sure that you run in the Anaconda prompt the following command:\n",
    "\n",
    "`pip install --upgrade text-fabric`\n",
    "\n",
    "\n",
    "## Getting TF ready"
   ]
  },
  {
   "cell_type": "code",
   "execution_count": 1,
   "metadata": {},
   "outputs": [],
   "source": [
    "%load_ext autoreload\n",
    "%autoreload 2"
   ]
  },
  {
   "cell_type": "code",
   "execution_count": 2,
   "metadata": {},
   "outputs": [],
   "source": [
    "# First, I have to laod different modules that I use for analyzing the data and for plotting:\n",
    "import sys, os, collections\n",
    "import pandas as pd\n",
    "import numpy as np\n",
    "import seaborn as sns\n",
    "import matplotlib.pyplot as plt; plt.rcdefaults()\n",
    "from matplotlib.pyplot import figure\n",
    "from collections import Counter\n",
    "\n",
    "# Second, I have to load the Text Fabric app\n",
    "from tf.fabric import Fabric\n",
    "from tf.app import use"
   ]
  },
  {
   "cell_type": "code",
   "execution_count": 3,
   "metadata": {},
   "outputs": [
    {
     "name": "stdout",
     "output_type": "stream",
     "text": [
      "\tconnecting to online GitHub repo annotation/app-bhsa ... connected\n",
      "Using TF-app in C:\\Users\\Oliver Glanz/text-fabric-data/annotation/app-bhsa/code:\n",
      "\trv1.2=#5fdf1778d51d938bfe80b37b415e36618e50190c (latest release)\n",
      "\tconnecting to online GitHub repo etcbc/bhsa ... connected\n",
      "Using data in C:\\Users\\Oliver Glanz/text-fabric-data/etcbc/bhsa/tf/c:\n",
      "\trv1.6=#bac4a9f5a2bbdede96ba6caea45e762fe88f88c5 (latest release)\n",
      "\tconnecting to online GitHub repo etcbc/phono ... connected\n",
      "Using data in C:\\Users\\Oliver Glanz/text-fabric-data/etcbc/phono/tf/c:\n",
      "\tr1.2=#1ac68e976ee4a7f23eb6bb4c6f401a033d0ec169 (latest release)\n",
      "\tconnecting to online GitHub repo etcbc/parallels ... connected\n",
      "Using data in C:\\Users\\Oliver Glanz/text-fabric-data/etcbc/parallels/tf/c:\n",
      "\tr1.2=#395dfe2cb69c261862fab9f0289e594a52121d5c (latest release)\n",
      "   |     0.00s No structure info in otext, the structure part of the T-API cannot be used\n"
     ]
    },
    {
     "data": {
      "text/html": [
       "<b>Documentation:</b> <a target=\"_blank\" href=\"https://etcbc.github.io/bhsa\" title=\"provenance of BHSA = Biblia Hebraica Stuttgartensia Amstelodamensis\">BHSA</a> <a target=\"_blank\" href=\"https://annotation.github.io/text-fabric/Writing/Hebrew\" title=\"('Hebrew characters and transcriptions',)\">Character table</a> <a target=\"_blank\" href=\"https://etcbc.github.io/bhsa/features/0_home\" title=\"BHSA feature documentation\">Feature docs</a> <a target=\"_blank\" href=\"https://github.com/annotation/app-bhsa\" title=\"bhsa API documentation\">bhsa API</a> <a target=\"_blank\" href=\"https://annotation.github.io/text-fabric/Api/Fabric/\" title=\"text-fabric-api\">Text-Fabric API 7.9.1</a> <a target=\"_blank\" href=\"https://annotation.github.io/text-fabric/Use/Search/\" title=\"Search Templates Introduction and Reference\">Search Reference</a><details open><summary><b>Loaded features</b>:</summary>\n",
       "<p><b>BHSA = Biblia Hebraica Stuttgartensia Amstelodamensis</b>: <a target=\"_blank\" href=\"https://etcbc.github.io/bhsa/features/book\" title=\"C:\\Users\\Oliver Glanz/text-fabric-data/etcbc/bhsa/tf/c/book.tf\">book</a>  <a target=\"_blank\" href=\"https://etcbc.github.io/bhsa/features/book@ll\" title=\"C:\\Users\\Oliver Glanz/text-fabric-data/etcbc/bhsa/tf/c/book@am.tf\">book@ll</a>  <a target=\"_blank\" href=\"https://etcbc.github.io/bhsa/features/chapter\" title=\"C:\\Users\\Oliver Glanz/text-fabric-data/etcbc/bhsa/tf/c/chapter.tf\">chapter</a>  <a target=\"_blank\" href=\"https://etcbc.github.io/bhsa/features/code\" title=\"C:\\Users\\Oliver Glanz/text-fabric-data/etcbc/bhsa/tf/c/code.tf\">code</a>  <a target=\"_blank\" href=\"https://etcbc.github.io/bhsa/features/det\" title=\"C:\\Users\\Oliver Glanz/text-fabric-data/etcbc/bhsa/tf/c/det.tf\">det</a>  <a target=\"_blank\" href=\"https://etcbc.github.io/bhsa/features/domain\" title=\"C:\\Users\\Oliver Glanz/text-fabric-data/etcbc/bhsa/tf/c/domain.tf\">domain</a>  <a target=\"_blank\" href=\"https://etcbc.github.io/bhsa/features/freq_lex\" title=\"C:\\Users\\Oliver Glanz/text-fabric-data/etcbc/bhsa/tf/c/freq_lex.tf\">freq_lex</a>  <a target=\"_blank\" href=\"https://etcbc.github.io/bhsa/features/function\" title=\"C:\\Users\\Oliver Glanz/text-fabric-data/etcbc/bhsa/tf/c/function.tf\">function</a>  <a target=\"_blank\" href=\"https://etcbc.github.io/bhsa/features/g_cons\" title=\"C:\\Users\\Oliver Glanz/text-fabric-data/etcbc/bhsa/tf/c/g_cons.tf\">g_cons</a>  <a target=\"_blank\" href=\"https://etcbc.github.io/bhsa/features/g_cons_utf8\" title=\"C:\\Users\\Oliver Glanz/text-fabric-data/etcbc/bhsa/tf/c/g_cons_utf8.tf\">g_cons_utf8</a>  <a target=\"_blank\" href=\"https://etcbc.github.io/bhsa/features/g_lex\" title=\"C:\\Users\\Oliver Glanz/text-fabric-data/etcbc/bhsa/tf/c/g_lex.tf\">g_lex</a>  <a target=\"_blank\" href=\"https://etcbc.github.io/bhsa/features/g_lex_utf8\" title=\"C:\\Users\\Oliver Glanz/text-fabric-data/etcbc/bhsa/tf/c/g_lex_utf8.tf\">g_lex_utf8</a>  <a target=\"_blank\" href=\"https://etcbc.github.io/bhsa/features/g_word\" title=\"C:\\Users\\Oliver Glanz/text-fabric-data/etcbc/bhsa/tf/c/g_word.tf\">g_word</a>  <a target=\"_blank\" href=\"https://etcbc.github.io/bhsa/features/g_word_utf8\" title=\"C:\\Users\\Oliver Glanz/text-fabric-data/etcbc/bhsa/tf/c/g_word_utf8.tf\">g_word_utf8</a>  <a target=\"_blank\" href=\"https://etcbc.github.io/bhsa/features/gloss\" title=\"C:\\Users\\Oliver Glanz/text-fabric-data/etcbc/bhsa/tf/c/gloss.tf\">gloss</a>  <a target=\"_blank\" href=\"https://etcbc.github.io/bhsa/features/gn\" title=\"C:\\Users\\Oliver Glanz/text-fabric-data/etcbc/bhsa/tf/c/gn.tf\">gn</a>  <a target=\"_blank\" href=\"https://etcbc.github.io/bhsa/features/label\" title=\"C:\\Users\\Oliver Glanz/text-fabric-data/etcbc/bhsa/tf/c/label.tf\">label</a>  <a target=\"_blank\" href=\"https://etcbc.github.io/bhsa/features/language\" title=\"C:\\Users\\Oliver Glanz/text-fabric-data/etcbc/bhsa/tf/c/language.tf\">language</a>  <a target=\"_blank\" href=\"https://etcbc.github.io/bhsa/features/lex\" title=\"C:\\Users\\Oliver Glanz/text-fabric-data/etcbc/bhsa/tf/c/lex.tf\">lex</a>  <a target=\"_blank\" href=\"https://etcbc.github.io/bhsa/features/lex_utf8\" title=\"C:\\Users\\Oliver Glanz/text-fabric-data/etcbc/bhsa/tf/c/lex_utf8.tf\">lex_utf8</a>  <a target=\"_blank\" href=\"https://etcbc.github.io/bhsa/features/ls\" title=\"C:\\Users\\Oliver Glanz/text-fabric-data/etcbc/bhsa/tf/c/ls.tf\">ls</a>  <a target=\"_blank\" href=\"https://etcbc.github.io/bhsa/features/nametype\" title=\"C:\\Users\\Oliver Glanz/text-fabric-data/etcbc/bhsa/tf/c/nametype.tf\">nametype</a>  <a target=\"_blank\" href=\"https://etcbc.github.io/bhsa/features/nme\" title=\"C:\\Users\\Oliver Glanz/text-fabric-data/etcbc/bhsa/tf/c/nme.tf\">nme</a>  <a target=\"_blank\" href=\"https://etcbc.github.io/bhsa/features/nu\" title=\"C:\\Users\\Oliver Glanz/text-fabric-data/etcbc/bhsa/tf/c/nu.tf\">nu</a>  <a target=\"_blank\" href=\"https://etcbc.github.io/bhsa/features/number\" title=\"C:\\Users\\Oliver Glanz/text-fabric-data/etcbc/bhsa/tf/c/number.tf\">number</a>  <a target=\"_blank\" href=\"https://etcbc.github.io/bhsa/features/otype\" title=\"C:\\Users\\Oliver Glanz/text-fabric-data/etcbc/bhsa/tf/c/otype.tf\">otype</a>  <a target=\"_blank\" href=\"https://etcbc.github.io/bhsa/features/pargr\" title=\"C:\\Users\\Oliver Glanz/text-fabric-data/etcbc/bhsa/tf/c/pargr.tf\">pargr</a>  <a target=\"_blank\" href=\"https://etcbc.github.io/bhsa/features/pdp\" title=\"C:\\Users\\Oliver Glanz/text-fabric-data/etcbc/bhsa/tf/c/pdp.tf\">pdp</a>  <a target=\"_blank\" href=\"https://etcbc.github.io/bhsa/features/pfm\" title=\"C:\\Users\\Oliver Glanz/text-fabric-data/etcbc/bhsa/tf/c/pfm.tf\">pfm</a>  <a target=\"_blank\" href=\"https://etcbc.github.io/bhsa/features/prs\" title=\"C:\\Users\\Oliver Glanz/text-fabric-data/etcbc/bhsa/tf/c/prs.tf\">prs</a>  <a target=\"_blank\" href=\"https://etcbc.github.io/bhsa/features/prs_gn\" title=\"C:\\Users\\Oliver Glanz/text-fabric-data/etcbc/bhsa/tf/c/prs_gn.tf\">prs_gn</a>  <a target=\"_blank\" href=\"https://etcbc.github.io/bhsa/features/prs_nu\" title=\"C:\\Users\\Oliver Glanz/text-fabric-data/etcbc/bhsa/tf/c/prs_nu.tf\">prs_nu</a>  <a target=\"_blank\" href=\"https://etcbc.github.io/bhsa/features/prs_ps\" title=\"C:\\Users\\Oliver Glanz/text-fabric-data/etcbc/bhsa/tf/c/prs_ps.tf\">prs_ps</a>  <a target=\"_blank\" href=\"https://etcbc.github.io/bhsa/features/ps\" title=\"C:\\Users\\Oliver Glanz/text-fabric-data/etcbc/bhsa/tf/c/ps.tf\">ps</a>  <a target=\"_blank\" href=\"https://etcbc.github.io/bhsa/features/qere\" title=\"C:\\Users\\Oliver Glanz/text-fabric-data/etcbc/bhsa/tf/c/qere.tf\">qere</a>  <a target=\"_blank\" href=\"https://etcbc.github.io/bhsa/features/qere_trailer\" title=\"C:\\Users\\Oliver Glanz/text-fabric-data/etcbc/bhsa/tf/c/qere_trailer.tf\">qere_trailer</a>  <a target=\"_blank\" href=\"https://etcbc.github.io/bhsa/features/qere_trailer_utf8\" title=\"C:\\Users\\Oliver Glanz/text-fabric-data/etcbc/bhsa/tf/c/qere_trailer_utf8.tf\">qere_trailer_utf8</a>  <a target=\"_blank\" href=\"https://etcbc.github.io/bhsa/features/qere_utf8\" title=\"C:\\Users\\Oliver Glanz/text-fabric-data/etcbc/bhsa/tf/c/qere_utf8.tf\">qere_utf8</a>  <a target=\"_blank\" href=\"https://etcbc.github.io/bhsa/features/rank_lex\" title=\"C:\\Users\\Oliver Glanz/text-fabric-data/etcbc/bhsa/tf/c/rank_lex.tf\">rank_lex</a>  <a target=\"_blank\" href=\"https://etcbc.github.io/bhsa/features/rela\" title=\"C:\\Users\\Oliver Glanz/text-fabric-data/etcbc/bhsa/tf/c/rela.tf\">rela</a>  <a target=\"_blank\" href=\"https://etcbc.github.io/bhsa/features/sp\" title=\"C:\\Users\\Oliver Glanz/text-fabric-data/etcbc/bhsa/tf/c/sp.tf\">sp</a>  <a target=\"_blank\" href=\"https://etcbc.github.io/bhsa/features/st\" title=\"C:\\Users\\Oliver Glanz/text-fabric-data/etcbc/bhsa/tf/c/st.tf\">st</a>  <a target=\"_blank\" href=\"https://etcbc.github.io/bhsa/features/tab\" title=\"C:\\Users\\Oliver Glanz/text-fabric-data/etcbc/bhsa/tf/c/tab.tf\">tab</a>  <a target=\"_blank\" href=\"https://etcbc.github.io/bhsa/features/trailer\" title=\"C:\\Users\\Oliver Glanz/text-fabric-data/etcbc/bhsa/tf/c/trailer.tf\">trailer</a>  <a target=\"_blank\" href=\"https://etcbc.github.io/bhsa/features/trailer_utf8\" title=\"C:\\Users\\Oliver Glanz/text-fabric-data/etcbc/bhsa/tf/c/trailer_utf8.tf\">trailer_utf8</a>  <a target=\"_blank\" href=\"https://etcbc.github.io/bhsa/features/txt\" title=\"C:\\Users\\Oliver Glanz/text-fabric-data/etcbc/bhsa/tf/c/txt.tf\">txt</a>  <a target=\"_blank\" href=\"https://etcbc.github.io/bhsa/features/typ\" title=\"C:\\Users\\Oliver Glanz/text-fabric-data/etcbc/bhsa/tf/c/typ.tf\">typ</a>  <a target=\"_blank\" href=\"https://etcbc.github.io/bhsa/features/uvf\" title=\"C:\\Users\\Oliver Glanz/text-fabric-data/etcbc/bhsa/tf/c/uvf.tf\">uvf</a>  <a target=\"_blank\" href=\"https://etcbc.github.io/bhsa/features/vbe\" title=\"C:\\Users\\Oliver Glanz/text-fabric-data/etcbc/bhsa/tf/c/vbe.tf\">vbe</a>  <a target=\"_blank\" href=\"https://etcbc.github.io/bhsa/features/vbs\" title=\"C:\\Users\\Oliver Glanz/text-fabric-data/etcbc/bhsa/tf/c/vbs.tf\">vbs</a>  <a target=\"_blank\" href=\"https://etcbc.github.io/bhsa/features/verse\" title=\"C:\\Users\\Oliver Glanz/text-fabric-data/etcbc/bhsa/tf/c/verse.tf\">verse</a>  <a target=\"_blank\" href=\"https://etcbc.github.io/bhsa/features/voc_lex\" title=\"C:\\Users\\Oliver Glanz/text-fabric-data/etcbc/bhsa/tf/c/voc_lex.tf\">voc_lex</a>  <a target=\"_blank\" href=\"https://etcbc.github.io/bhsa/features/voc_lex_utf8\" title=\"C:\\Users\\Oliver Glanz/text-fabric-data/etcbc/bhsa/tf/c/voc_lex_utf8.tf\">voc_lex_utf8</a>  <a target=\"_blank\" href=\"https://etcbc.github.io/bhsa/features/vs\" title=\"C:\\Users\\Oliver Glanz/text-fabric-data/etcbc/bhsa/tf/c/vs.tf\">vs</a>  <a target=\"_blank\" href=\"https://etcbc.github.io/bhsa/features/vt\" title=\"C:\\Users\\Oliver Glanz/text-fabric-data/etcbc/bhsa/tf/c/vt.tf\">vt</a>  <b><i><a target=\"_blank\" href=\"https://etcbc.github.io/bhsa/features/mother\" title=\"C:\\Users\\Oliver Glanz/text-fabric-data/etcbc/bhsa/tf/c/mother.tf\">mother</a></i></b>  <b><i><a target=\"_blank\" href=\"https://etcbc.github.io/bhsa/features/oslots\" title=\"C:\\Users\\Oliver Glanz/text-fabric-data/etcbc/bhsa/tf/c/oslots.tf\">oslots</a></i></b> </p><p><b>Parallel Passages</b>: <b><i><a target=\"_blank\" href=\"https://nbviewer.jupyter.org/github/etcbc/parallels/blob/master/programs/parallels.ipynb\" title=\"C:\\Users\\Oliver Glanz/text-fabric-data/etcbc/parallels/tf/c/crossref.tf\">crossref</a></i></b> </p><p><b>Phonetic Transcriptions</b>: <a target=\"_blank\" href=\"https://nbviewer.jupyter.org/github/etcbc/phono/blob/master/programs/phono.ipynb\" title=\"C:\\Users\\Oliver Glanz/text-fabric-data/etcbc/phono/tf/c/phono.tf\">phono</a>  <a target=\"_blank\" href=\"https://nbviewer.jupyter.org/github/etcbc/phono/blob/master/programs/phono.ipynb\" title=\"C:\\Users\\Oliver Glanz/text-fabric-data/etcbc/phono/tf/c/phono_trailer.tf\">phono_trailer</a> </p></details>"
      ],
      "text/plain": [
       "<IPython.core.display.HTML object>"
      ]
     },
     "metadata": {},
     "output_type": "display_data"
    },
    {
     "data": {
      "text/html": [
       "<style>\n",
       "@font-face {\n",
       "  font-family: \"Ezra SIL\";\n",
       "  src:\n",
       "    local(\"SILEOT.ttf\"),\n",
       "    url(\"https://github.com/annotation/text-fabric/blob/master/tf/server/static/fonts/SILEOT.woff?raw=true\");\n",
       "}\n",
       ".features {\n",
       "    font-family: monospace;\n",
       "    font-size: medium;\n",
       "    font-weight: bold;\n",
       "    color: #0a6611;\n",
       "    display: flex;\n",
       "    flex-flow: column nowrap;\n",
       "    padding: 0.1em;\n",
       "    margin: 0.1em;\n",
       "    direction: ltr;\n",
       "}\n",
       ".features div,.features span {\n",
       "    padding: 0;\n",
       "    margin: -0.1rem 0;\n",
       "}\n",
       ".features .f {\n",
       "    font-family: sans-serif;\n",
       "    font-size: x-small;\n",
       "    font-weight: normal;\n",
       "    color: #5555bb;\n",
       "}\n",
       ".features .xft {\n",
       "  color: #000000;\n",
       "  background-color: #eeeeee;\n",
       "  font-size: medium;\n",
       "  margin: 0.1em 0em;\n",
       "}\n",
       ".features .xft .f {\n",
       "  color: #000000;\n",
       "  background-color: #eeeeee;\n",
       "  font-style: italic;\n",
       "  font-size: small;\n",
       "  font-weight: normal;\n",
       "}\n",
       ".ltr {\n",
       "    direction: ltr ! important;\n",
       "}\n",
       ".verse {\n",
       "    display: flex;\n",
       "    flex-flow: row wrap;\n",
       "    direction: rtl;\n",
       "}\n",
       ".vl {\n",
       "    display: flex;\n",
       "    flex-flow: column nowrap;\n",
       "    justify-content: flex-end;\n",
       "    align-items: flex-end;\n",
       "    direction: ltr;\n",
       "    width: 100%;\n",
       "}\n",
       ".outeritem {\n",
       "    display: flex;\n",
       "    flex-flow: row wrap;\n",
       "    direction: rtl;\n",
       "}\n",
       ".sentence,.clause,.phrase {\n",
       "    margin-top: -1.2em;\n",
       "    margin-left: 1em;\n",
       "    background: #ffffff none repeat scroll 0 0;\n",
       "    padding: 0 0.3em;\n",
       "    border-style: solid;\n",
       "    border-radius: 0.2em;\n",
       "    font-size: small;\n",
       "    display: block;\n",
       "    width: fit-content;\n",
       "    max-width: fit-content;\n",
       "    direction: ltr;\n",
       "}\n",
       ".atoms {\n",
       "    display: flex;\n",
       "    flex-flow: row wrap;\n",
       "    margin: 0.3em;\n",
       "    padding: 0.3em;\n",
       "    direction: rtl;\n",
       "    background-color: #ffffff;\n",
       "}\n",
       ".satom,.catom,.patom {\n",
       "    margin: 0.3em;\n",
       "    padding: 0.3em;\n",
       "    border-radius: 0.3em;\n",
       "    border-style: solid;\n",
       "    display: flex;\n",
       "    flex-flow: column nowrap;\n",
       "    direction: rtl;\n",
       "    background-color: #ffffff;\n",
       "}\n",
       ".sentence {\n",
       "    border-color: #aa3333;\n",
       "    border-width: 1px;\n",
       "}\n",
       ".clause {\n",
       "    border-color: #aaaa33;\n",
       "    border-width: 1px;\n",
       "}\n",
       ".phrase {\n",
       "    border-color: #33aaaa;\n",
       "    border-width: 1px;\n",
       "}\n",
       ".satom {\n",
       "    border-color: #aa3333;\n",
       "    border-width: 4px;\n",
       "}\n",
       ".catom {\n",
       "    border-color: #aaaa33;\n",
       "    border-width: 3px;\n",
       "}\n",
       ".patom {\n",
       "    border-color: #33aaaa;\n",
       "    border-width: 3px;\n",
       "}\n",
       ".word {\n",
       "    padding: 0.1em;\n",
       "    margin: 0.1em;\n",
       "    border-radius: 0.1em;\n",
       "    border: 1px solid #cccccc;\n",
       "    display: flex;\n",
       "    flex-flow: column nowrap;\n",
       "    direction: rtl;\n",
       "    background-color: #ffffff;\n",
       "}\n",
       ".lextp {\n",
       "    padding: 0.1em;\n",
       "    margin: 0.1em;\n",
       "    border-radius: 0.1em;\n",
       "    border: 2px solid #888888;\n",
       "    width: fit-content;\n",
       "    display: flex;\n",
       "    flex-flow: column nowrap;\n",
       "    direction: rtl;\n",
       "    background-color: #ffffff;\n",
       "}\n",
       ".occs {\n",
       "    font-size: x-small;\n",
       "}\n",
       ".satom.l,.catom.l,.patom.l {\n",
       "    border-left-style: dotted\n",
       "}\n",
       ".satom.r,.catom.r,.patom.r {\n",
       "    border-right-style: dotted\n",
       "}\n",
       ".satom.lno,.catom.lno,.patom.lno {\n",
       "    border-left-style: none\n",
       "}\n",
       ".satom.rno,.catom.rno,.patom.rno {\n",
       "    border-right-style: none\n",
       "}\n",
       ".tr,.tr a:visited,.tr a:link {\n",
       "    font-family: sans-serif;\n",
       "    font-size: large;\n",
       "    color: #000044;\n",
       "    direction: ltr;\n",
       "    text-decoration: none;\n",
       "}\n",
       ".trb,.trb a:visited,.trb a:link {\n",
       "    font-family: sans-serif;\n",
       "    font-size: normal;\n",
       "    direction: ltr;\n",
       "    text-decoration: none;\n",
       "}\n",
       ".prb,.prb a:visited,.prb a:link {\n",
       "    font-family: sans-serif;\n",
       "    font-size: large;\n",
       "    direction: ltr;\n",
       "    text-decoration: none;\n",
       "}\n",
       ".h,.h a:visited,.h a:link {\n",
       "    font-family: \"Ezra SIL\", \"SBL Hebrew\", sans-serif;\n",
       "    font-size: large;\n",
       "    color: #000044;\n",
       "    direction: rtl;\n",
       "    text-decoration: none;\n",
       "}\n",
       ".hb,.hb a:visited,.hb a:link {\n",
       "    font-family: \"Ezra SIL\", \"SBL Hebrew\", sans-serif;\n",
       "    font-size: large;\n",
       "    line-height: 2;\n",
       "    direction: rtl;\n",
       "    text-decoration: none;\n",
       "}\n",
       ".vn {\n",
       "  font-size: small !important;\n",
       "  padding-right: 1em;\n",
       "}\n",
       ".rela,.function,.typ {\n",
       "    font-family: monospace;\n",
       "    font-size: small;\n",
       "    color: #0000bb;\n",
       "}\n",
       ".pdp,.pdp a:visited,.pdp a:link {\n",
       "    font-family: monospace;\n",
       "    font-size: medium;\n",
       "    color: #0000bb;\n",
       "    text-decoration: none;\n",
       "}\n",
       ".voc_lex {\n",
       "    font-family: monospace;\n",
       "    font-size: medium;\n",
       "    color: #0000bb;\n",
       "}\n",
       ".vs {\n",
       "    font-family: monospace;\n",
       "    font-size: medium;\n",
       "    font-weight: bold;\n",
       "    color: #0000bb;\n",
       "}\n",
       ".vt {\n",
       "    font-family: monospace;\n",
       "    font-size: medium;\n",
       "    font-weight: bold;\n",
       "    color: #0000bb;\n",
       "}\n",
       ".gloss {\n",
       "    font-family: sans-serif;\n",
       "    font-size: small;\n",
       "    font-weight: normal;\n",
       "    color: #444444;\n",
       "}\n",
       ".vrs {\n",
       "    font-family: sans-serif;\n",
       "    font-size: small;\n",
       "    font-weight: bold;\n",
       "    color: #444444;\n",
       "}\n",
       ".nd {\n",
       "    font-family: monospace;\n",
       "    font-size: x-small;\n",
       "    color: #999999;\n",
       "}\n",
       ".hl {\n",
       "    background-color: #ffee66;\n",
       "}\n",
       "\n",
       "tr.tf, td.tf, th.tf {\n",
       "  text-align: left;\n",
       "}\n",
       "\n",
       "span.hldot {\n",
       "\tbackground-color: var(--hl-strong);\n",
       "\tborder: 0.2rem solid var(--hl-rim);\n",
       "\tborder-radius: 0.4rem;\n",
       "\t/*\n",
       "\tdisplay: inline-block;\n",
       "\twidth: 0.8rem;\n",
       "\theight: 0.8rem;\n",
       "\t*/\n",
       "}\n",
       "span.hl {\n",
       "\tbackground-color: var(--hl-strong);\n",
       "\tborder-width: 0;\n",
       "\tborder-radius: 0.1rem;\n",
       "\tborder-style: solid;\n",
       "}\n",
       "\n",
       "span.hlup {\n",
       "\tborder-color: var(--hl-dark);\n",
       "\tborder-width: 0.1rem;\n",
       "\tborder-style: solid;\n",
       "\tborder-radius: 0.2rem;\n",
       "  padding: 0.2rem;\n",
       "}\n",
       "\n",
       ":root {\n",
       "\t--hl-strong:        hsla( 60, 100%,  70%, 0.9  );\n",
       "\t--hl-rim:           hsla( 55, 100%,  60%, 0.9  );\n",
       "\t--hl-dark:          hsla( 55, 100%,  40%, 0.9  );\n",
       "}\n",
       "</style>"
      ],
      "text/plain": [
       "<IPython.core.display.HTML object>"
      ]
     },
     "metadata": {},
     "output_type": "display_data"
    },
    {
     "data": {
      "text/html": [
       "<details open><summary><b>API members</b>:</summary>\n",
       "<a target=\"_blank\" href=\"https://annotation.github.io/text-fabric/Api/Computed/#computed-data\" title=\"doc\">C Computed</a>, <a target=\"_blank\" href=\"https://annotation.github.io/text-fabric/Api/Computed/#computed-data\" title=\"doc\">Call AllComputeds</a>, <a target=\"_blank\" href=\"https://annotation.github.io/text-fabric/Api/Computed/#computed-data\" title=\"doc\">Cs ComputedString</a><br/>\n",
       "<a target=\"_blank\" href=\"https://annotation.github.io/text-fabric/Api/Features/#edge-features\" title=\"doc\">E Edge</a>, <a target=\"_blank\" href=\"https://annotation.github.io/text-fabric/Api/Features/#edge-features\" title=\"doc\">Eall AllEdges</a>, <a target=\"_blank\" href=\"https://annotation.github.io/text-fabric/Api/Features/#edge-features\" title=\"doc\">Es EdgeString</a><br/>\n",
       "<a target=\"_blank\" href=\"https://annotation.github.io/text-fabric/Api/Fabric/#loading\" title=\"doc\">ensureLoaded</a>, <a target=\"_blank\" href=\"https://annotation.github.io/text-fabric/Api/Fabric/#loading\" title=\"doc\">TF</a>, <a target=\"_blank\" href=\"https://annotation.github.io/text-fabric/Api/Fabric/#loading\" title=\"doc\">ignored</a>, <a target=\"_blank\" href=\"https://annotation.github.io/text-fabric/Api/Fabric/#loading\" title=\"doc\">loadLog</a><br/>\n",
       "<a target=\"_blank\" href=\"https://annotation.github.io/text-fabric/Api/Locality/#locality\" title=\"doc\">L Locality</a><br/>\n",
       "<a target=\"_blank\" href=\"https://annotation.github.io/text-fabric/Api/Misc/#messaging\" title=\"doc\">cache</a>, <a target=\"_blank\" href=\"https://annotation.github.io/text-fabric/Api/Misc/#messaging\" title=\"doc\">error</a>, <a target=\"_blank\" href=\"https://annotation.github.io/text-fabric/Api/Misc/#messaging\" title=\"doc\">indent</a>, <a target=\"_blank\" href=\"https://annotation.github.io/text-fabric/Api/Misc/#messaging\" title=\"doc\">info</a>, <a target=\"_blank\" href=\"https://annotation.github.io/text-fabric/Api/Misc/#messaging\" title=\"doc\">isSilent</a>, <a target=\"_blank\" href=\"https://annotation.github.io/text-fabric/Api/Misc/#messaging\" title=\"doc\">reset</a>, <a target=\"_blank\" href=\"https://annotation.github.io/text-fabric/Api/Misc/#messaging\" title=\"doc\">setSilent</a>, <a target=\"_blank\" href=\"https://annotation.github.io/text-fabric/Api/Misc/#messaging\" title=\"doc\">silentOff</a>, <a target=\"_blank\" href=\"https://annotation.github.io/text-fabric/Api/Misc/#messaging\" title=\"doc\">silentOn</a>, <a target=\"_blank\" href=\"https://annotation.github.io/text-fabric/Api/Misc/#messaging\" title=\"doc\">warning</a><br/>\n",
       "<a target=\"_blank\" href=\"https://annotation.github.io/text-fabric/Api/Nodes/#navigating-nodes\" title=\"doc\">N Nodes</a>, <a target=\"_blank\" href=\"https://annotation.github.io/text-fabric/Api/Nodes/#navigating-nodes\" title=\"doc\">sortKey</a>, <a target=\"_blank\" href=\"https://annotation.github.io/text-fabric/Api/Nodes/#navigating-nodes\" title=\"doc\">sortKeyTuple</a>, <a target=\"_blank\" href=\"https://annotation.github.io/text-fabric/Api/Nodes/#navigating-nodes\" title=\"doc\">otypeRank</a>, <a target=\"_blank\" href=\"https://annotation.github.io/text-fabric/Api/Nodes/#navigating-nodes\" title=\"doc\">sortNodes</a><br/>\n",
       "<a target=\"_blank\" href=\"https://annotation.github.io/text-fabric/Api/Features/#node-features\" title=\"doc\">F Feature</a>, <a target=\"_blank\" href=\"https://annotation.github.io/text-fabric/Api/Features/#node-features\" title=\"doc\">Fall AllFeatures</a>, <a target=\"_blank\" href=\"https://annotation.github.io/text-fabric/Api/Features/#node-features\" title=\"doc\">Fs FeatureString</a><br/>\n",
       "<a target=\"_blank\" href=\"https://annotation.github.io/text-fabric/Api/Search/#search\" title=\"doc\">S Search</a><br/>\n",
       "<a target=\"_blank\" href=\"https://annotation.github.io/text-fabric/Api/Text/#text\" title=\"doc\">T Text</a></details>"
      ],
      "text/plain": [
       "<IPython.core.display.HTML object>"
      ]
     },
     "metadata": {},
     "output_type": "display_data"
    }
   ],
   "source": [
    "A = use('bhsa', hoist=globals())"
   ]
  },
  {
   "cell_type": "markdown",
   "metadata": {},
   "source": [
    "## the *valence* taking: rape or wedding?\n",
    "As we saw in the previous notebook the use of the word of LQX[ in Gen 2:1 is rather ambigious. Lets search for all those cases where LQX has as direct object a female (`gn=f`) proper name (`sp=nmpr`)."
   ]
  },
  {
   "cell_type": "code",
   "execution_count": 27,
   "metadata": {},
   "outputs": [
    {
     "name": "stdout",
     "output_type": "stream",
     "text": [
      "  1.36s 24 results\n"
     ]
    },
    {
     "data": {
      "text/html": [
       "<table>\n",
       "<tr class=\"tf\">\n",
       "  <th class=\"tf\">n</th><th class=\"tf\">p</th>\n",
       "  <th class=\"tf\">verse</th><th>word</th><th>clause</th><th>phrase</th><th>phrase</th><th>word</th>\n",
       "</tr>\n",
       "\n",
       "<tr class=\"tf\"><td class=\"tf\">1</td><td class=\"tf\"> <a href=\"https://shebanq.ancient-data.org/hebrew/text?book=Genesis&amp;chapter=11&amp;verse=31&amp;version=c&amp;mr=m&amp;qw=q&amp;tp=txt_p&amp;tr=hb&amp;wget=v&amp;qget=v&amp;nget=vt\" title=\"show this passage in SHEBANQ\" sec=\"Genesis 11:31\">Genesis 11:31</a></td><td class=\"tf\"><span class=\"hb\"><a class=\"vn\" href=\"https://shebanq.ancient-data.org/hebrew/text?book=Genesis&amp;chapter=11&amp;verse=31&amp;version=c&amp;mr=m&amp;qw=q&amp;tp=txt_p&amp;tr=hb&amp;wget=v&amp;qget=v&amp;nget=vt\" title=\"Genesis 11:31\" sec=\"Genesis 11:31\"></a><span  class=\"hlup\" >וַ</span><span  class=\"hl hlup\" >יִּקַּ֨ח </span><span  class=\"hlup\" >תֶּ֜רַח </span><span  class=\"hlup\" >אֶת־</span><span  class=\"hlup\" >אַבְרָ֣ם </span><span  class=\"hlup\" >בְּנֹ֗ו </span><span  class=\"hlup\" >וְ</span><span  class=\"hlup\" >אֶת־</span><span  class=\"hlup\" >לֹ֤וט </span><span  class=\"hlup\" >בֶּן־</span><span  class=\"hlup\" >הָרָן֙ </span><span  class=\"hlup\" >בֶּן־</span><span  class=\"hlup\" >בְּנֹ֔ו </span><span  class=\"hlup\" >וְ</span><span  class=\"hlup\" >אֵת֙ </span><span  class=\"hl hlup\" >שָׂרַ֣י </span><span  class=\"hlup\" >כַּלָּתֹ֔ו </span><span  class=\"hlup\" >אֵ֖שֶׁת </span><span  class=\"hlup\" >אַבְרָ֣ם </span><span  class=\"hlup\" >בְּנֹ֑ו </span>וַיֵּצְא֨וּ אִתָּ֜ם מֵא֣וּר כַּשְׂדִּ֗ים לָלֶ֨כֶת֙ אַ֣רְצָה כְּנַ֔עַן וַיָּבֹ֥אוּ עַד־חָרָ֖ן וַיֵּ֥שְׁבוּ שָֽׁם׃ </span></td><td class=\"tf\"><span class=\"hb\"><span  class=\"hl hlup\" >שָׂרַ֣י </span></span></td><td class=\"tf\"><span class=\"hb\"><span  class=\"hlup\" >וַ</span><span  class=\"hl hlup\" >יִּקַּ֨ח </span><span  class=\"hlup\" >תֶּ֜רַח </span><span  class=\"hlup\" >אֶת־</span><span  class=\"hlup\" >אַבְרָ֣ם </span><span  class=\"hlup\" >בְּנֹ֗ו </span><span  class=\"hlup\" >וְ</span><span  class=\"hlup\" >אֶת־</span><span  class=\"hlup\" >לֹ֤וט </span><span  class=\"hlup\" >בֶּן־</span><span  class=\"hlup\" >הָרָן֙ </span><span  class=\"hlup\" >בֶּן־</span><span  class=\"hlup\" >בְּנֹ֔ו </span><span  class=\"hlup\" >וְ</span><span  class=\"hlup\" >אֵת֙ </span><span  class=\"hl hlup\" >שָׂרַ֣י </span><span  class=\"hlup\" >כַּלָּתֹ֔ו </span><span  class=\"hlup\" >אֵ֖שֶׁת </span><span  class=\"hlup\" >אַבְרָ֣ם </span><span  class=\"hlup\" >בְּנֹ֑ו </span></span></td><td class=\"tf\"><span class=\"hb\"><span  class=\"hl hlup\" >יִּקַּ֨ח </span></span></td><td class=\"tf\"><span class=\"hb\"><span  class=\"hlup\" >אֶת־</span><span  class=\"hlup\" >אַבְרָ֣ם </span><span  class=\"hlup\" >בְּנֹ֗ו </span><span  class=\"hlup\" >וְ</span><span  class=\"hlup\" >אֶת־</span><span  class=\"hlup\" >לֹ֤וט </span><span  class=\"hlup\" >בֶּן־</span><span  class=\"hlup\" >הָרָן֙ </span><span  class=\"hlup\" >בֶּן־</span><span  class=\"hlup\" >בְּנֹ֔ו </span><span  class=\"hlup\" >וְ</span><span  class=\"hlup\" >אֵת֙ </span><span  class=\"hl hlup\" >שָׂרַ֣י </span><span  class=\"hlup\" >כַּלָּתֹ֔ו </span><span  class=\"hlup\" >אֵ֖שֶׁת </span><span  class=\"hlup\" >אַבְרָ֣ם </span><span  class=\"hlup\" >בְּנֹ֑ו </span></span></td><td class=\"tf\"><span class=\"hb\"><span  class=\"hl hlup\" >יִּקַּ֨ח </span></span></td></tr></table>"
      ],
      "text/plain": [
       "<IPython.core.display.HTML object>"
      ]
     },
     "metadata": {},
     "output_type": "display_data"
    }
   ],
   "source": [
    "LQXvalence1='''\n",
    "clause\n",
    "    phrase function=Pred\n",
    "        word lex=LQX[\n",
    "    phrase function=Objc\n",
    "        word sp=nmpr gn=f nu=sg\n",
    "'''\n",
    "LQXvalence1  = A.search(LQXvalence1)\n",
    "A.table(LQXvalence1, start=1, end=1, condensed=True)"
   ]
  },
  {
   "cell_type": "code",
   "execution_count": 28,
   "metadata": {},
   "outputs": [
    {
     "name": "stdout",
     "output_type": "stream",
     "text": [
      "  1.68s 19 results\n"
     ]
    },
    {
     "data": {
      "text/html": [
       "<table>\n",
       "<tr class=\"tf\">\n",
       "  <th class=\"tf\">n</th><th class=\"tf\">p</th>\n",
       "  <th class=\"tf\">verse</th><th>word</th><th>word</th><th>word</th><th>phrase</th><th>phrase</th><th>word</th><th>phrase</th><th>word</th><th>clause</th>\n",
       "</tr>\n",
       "\n",
       "<tr class=\"tf\"><td class=\"tf\">1</td><td class=\"tf\"> <a href=\"https://shebanq.ancient-data.org/hebrew/text?book=Genesis&amp;chapter=25&amp;verse=20&amp;version=c&amp;mr=m&amp;qw=q&amp;tp=txt_p&amp;tr=hb&amp;wget=v&amp;qget=v&amp;nget=vt\" title=\"show this passage in SHEBANQ\" sec=\"Genesis 25:20\">Genesis 25:20</a></td><td class=\"tf\"><span class=\"hb\"><a class=\"vn\" href=\"https://shebanq.ancient-data.org/hebrew/text?book=Genesis&amp;chapter=25&amp;verse=20&amp;version=c&amp;mr=m&amp;qw=q&amp;tp=txt_p&amp;tr=hb&amp;wget=v&amp;qget=v&amp;nget=vt\" title=\"Genesis 25:20\" sec=\"Genesis 25:20\"></a>וַיְהִ֤י יִצְחָק֙ בֶּן־אַרְבָּעִ֣ים שָׁנָ֔ה <span  class=\"hlup\" >בְּ</span><span  class=\"hl hlup\" >קַחְתֹּ֣ו </span><span  class=\"hlup\" >אֶת־</span><span  class=\"hl hlup\" >רִבְקָ֗ה </span><span  class=\"hl hlup\" >בַּת־</span><span  class=\"hlup\" >בְּתוּאֵל֙ </span><span  class=\"hlup\" >הָֽ</span><span  class=\"hlup\" >אֲרַמִּ֔י </span><span  class=\"hlup\" >מִ</span><span  class=\"hlup\" >פַּדַּ֖ן </span><span  class=\"hlup\" >אֲרָ֑ם </span><span  class=\"hl hlup\" >אֲחֹ֛ות </span><span  class=\"hlup\" >לָבָ֥ן </span><span  class=\"hlup\" >הָ</span><span  class=\"hlup\" >אֲרַמִּ֖י </span><span  class=\"hlup\" >לֹ֥ו </span><span  class=\"hlup\" >לְ</span><span  class=\"hl hlup\" >אִשָּֽׁה׃ </span></span></td><td class=\"tf\"><span class=\"hb\"><span  class=\"hl hlup\" >אִשָּֽׁה׃ </span></span></td><td class=\"tf\"><span class=\"hb\"><span  class=\"hl hlup\" >קַחְתֹּ֣ו </span></span></td><td class=\"tf\"><span class=\"hb\"><span  class=\"hl hlup\" >רִבְקָ֗ה </span></span></td><td class=\"tf\"><span class=\"hb\"><span  class=\"hlup\" >בְּ</span><span  class=\"hl hlup\" >קַחְתֹּ֣ו </span></span></td><td class=\"tf\"><span class=\"hb\"><span  class=\"hlup\" >אֶת־</span><span  class=\"hl hlup\" >רִבְקָ֗ה </span><span  class=\"hl hlup\" >בַּת־</span><span  class=\"hlup\" >בְּתוּאֵל֙ </span><span  class=\"hlup\" >הָֽ</span><span  class=\"hlup\" >אֲרַמִּ֔י </span><span  class=\"hlup\" >מִ</span><span  class=\"hlup\" >פַּדַּ֖ן </span><span  class=\"hlup\" >אֲרָ֑ם </span><span  class=\"hl hlup\" >אֲחֹ֛ות </span><span  class=\"hlup\" >לָבָ֥ן </span><span  class=\"hlup\" >הָ</span><span  class=\"hlup\" >אֲרַמִּ֖י </span></span></td><td class=\"tf\"><span class=\"hb\"><span  class=\"hl hlup\" >בַּת־</span></span></td><td class=\"tf\"><span class=\"hb\"><span  class=\"hlup\" >לְ</span><span  class=\"hl hlup\" >אִשָּֽׁה׃ </span></span></td><td class=\"tf\"><span class=\"hb\"><span  class=\"hl hlup\" >אֲחֹ֛ות </span></span></td><td class=\"tf\"><span class=\"hb\"><span  class=\"hlup\" >בְּ</span><span  class=\"hl hlup\" >קַחְתֹּ֣ו </span><span  class=\"hlup\" >אֶת־</span><span  class=\"hl hlup\" >רִבְקָ֗ה </span><span  class=\"hl hlup\" >בַּת־</span><span  class=\"hlup\" >בְּתוּאֵל֙ </span><span  class=\"hlup\" >הָֽ</span><span  class=\"hlup\" >אֲרַמִּ֔י </span><span  class=\"hlup\" >מִ</span><span  class=\"hlup\" >פַּדַּ֖ן </span><span  class=\"hlup\" >אֲרָ֑ם </span><span  class=\"hl hlup\" >אֲחֹ֛ות </span><span  class=\"hlup\" >לָבָ֥ן </span><span  class=\"hlup\" >הָ</span><span  class=\"hlup\" >אֲרַמִּ֖י </span><span  class=\"hlup\" >לֹ֥ו </span><span  class=\"hlup\" >לְ</span><span  class=\"hl hlup\" >אִשָּֽׁה׃ </span></span></td></tr>\n",
       "<tr class=\"tf\"><td class=\"tf\">2</td><td class=\"tf\"> <a href=\"https://shebanq.ancient-data.org/hebrew/text?book=Genesis&amp;chapter=28&amp;verse=9&amp;version=c&amp;mr=m&amp;qw=q&amp;tp=txt_p&amp;tr=hb&amp;wget=v&amp;qget=v&amp;nget=vt\" title=\"show this passage in SHEBANQ\" sec=\"Genesis 28:9\">Genesis 28:9</a></td><td class=\"tf\"><span class=\"hb\"><a class=\"vn\" href=\"https://shebanq.ancient-data.org/hebrew/text?book=Genesis&amp;chapter=28&amp;verse=9&amp;version=c&amp;mr=m&amp;qw=q&amp;tp=txt_p&amp;tr=hb&amp;wget=v&amp;qget=v&amp;nget=vt\" title=\"Genesis 28:9\" sec=\"Genesis 28:9\"></a>וַיֵּ֥לֶךְ עֵשָׂ֖ו אֶל־יִשְׁמָעֵ֑אל <span  class=\"hlup\" >וַ</span><span  class=\"hl hlup\" >יִּקַּ֡ח </span><span  class=\"hlup\" >אֶֽת־</span><span  class=\"hl hlup\" >מָחֲלַ֣ת׀ </span><span  class=\"hl hlup\" >בַּת־</span><span  class=\"hlup\" >יִשְׁמָעֵ֨אל </span><span  class=\"hlup\" >בֶּן־</span><span  class=\"hlup\" >אַבְרָהָ֜ם </span><span  class=\"hl hlup\" >אֲחֹ֧ות </span><span  class=\"hlup\" >נְבָיֹ֛ות </span><span  class=\"hlup\" >עַל־</span><span  class=\"hlup\" >נָשָׁ֖יו </span><span  class=\"hlup\" >לֹ֥ו </span><span  class=\"hlup\" >לְ</span><span  class=\"hl hlup\" >אִשָּֽׁה׃ ס </span></span></td><td class=\"tf\"><span class=\"hb\"><span  class=\"hl hlup\" >מָחֲלַ֣ת׀ </span></span></td><td class=\"tf\"><span class=\"hb\"><span  class=\"hl hlup\" >בַּת־</span></span></td><td class=\"tf\"><span class=\"hb\"><span  class=\"hl hlup\" >יִּקַּ֡ח </span></span></td><td class=\"tf\"><span class=\"hb\"><span  class=\"hlup\" >אֶֽת־</span><span  class=\"hl hlup\" >מָחֲלַ֣ת׀ </span><span  class=\"hl hlup\" >בַּת־</span><span  class=\"hlup\" >יִשְׁמָעֵ֨אל </span><span  class=\"hlup\" >בֶּן־</span><span  class=\"hlup\" >אַבְרָהָ֜ם </span><span  class=\"hl hlup\" >אֲחֹ֧ות </span><span  class=\"hlup\" >נְבָיֹ֛ות </span></span></td><td class=\"tf\"><span class=\"hb\"><span  class=\"hl hlup\" >אֲחֹ֧ות </span></span></td><td class=\"tf\"><span class=\"hb\"><span  class=\"hlup\" >לְ</span><span  class=\"hl hlup\" >אִשָּֽׁה׃ ס </span></span></td><td class=\"tf\"><span class=\"hb\"><span  class=\"hlup\" >וַ</span><span  class=\"hl hlup\" >יִּקַּ֡ח </span><span  class=\"hlup\" >אֶֽת־</span><span  class=\"hl hlup\" >מָחֲלַ֣ת׀ </span><span  class=\"hl hlup\" >בַּת־</span><span  class=\"hlup\" >יִשְׁמָעֵ֨אל </span><span  class=\"hlup\" >בֶּן־</span><span  class=\"hlup\" >אַבְרָהָ֜ם </span><span  class=\"hl hlup\" >אֲחֹ֧ות </span><span  class=\"hlup\" >נְבָיֹ֛ות </span><span  class=\"hlup\" >עַל־</span><span  class=\"hlup\" >נָשָׁ֖יו </span><span  class=\"hlup\" >לֹ֥ו </span><span  class=\"hlup\" >לְ</span><span  class=\"hl hlup\" >אִשָּֽׁה׃ ס </span></span></td><td class=\"tf\"><span class=\"hb\"><span  class=\"hl hlup\" >אִשָּֽׁה׃ ס </span></span></td><td class=\"tf\"><span class=\"hb\"><span  class=\"hl hlup\" >יִּקַּ֡ח </span></span></td></tr>\n",
       "<tr class=\"tf\"><td class=\"tf\">3</td><td class=\"tf\"> <a href=\"https://shebanq.ancient-data.org/hebrew/text?book=Genesis&amp;chapter=34&amp;verse=4&amp;version=c&amp;mr=m&amp;qw=q&amp;tp=txt_p&amp;tr=hb&amp;wget=v&amp;qget=v&amp;nget=vt\" title=\"show this passage in SHEBANQ\" sec=\"Genesis 34:4\">Genesis 34:4</a></td><td class=\"tf\"><span class=\"hb\"><a class=\"vn\" href=\"https://shebanq.ancient-data.org/hebrew/text?book=Genesis&amp;chapter=34&amp;verse=4&amp;version=c&amp;mr=m&amp;qw=q&amp;tp=txt_p&amp;tr=hb&amp;wget=v&amp;qget=v&amp;nget=vt\" title=\"Genesis 34:4\" sec=\"Genesis 34:4\"></a>וַיֹּ֣אמֶר שְׁכֶ֔ם אֶל־חֲמֹ֥ור אָבִ֖יו לֵאמֹ֑ר <span  class=\"hl hlup\" >קַֽח־</span><span  class=\"hlup\" >לִ֛י </span><span  class=\"hlup\" >אֶת־</span><span  class=\"hlup\" >הַ</span><span  class=\"hl hlup\" >יַּלְדָּ֥ה </span><span  class=\"hlup\" >הַ</span><span  class=\"hl hlup\" >זֹּ֖את </span><span  class=\"hlup\" >לְ</span><span  class=\"hl hlup\" >אִשָּֽׁה׃ </span></span></td><td class=\"tf\"><span class=\"hb\"><span  class=\"hl hlup\" >קַֽח־</span></span></td><td class=\"tf\"><span class=\"hb\"><span  class=\"hlup\" >אֶת־</span><span  class=\"hlup\" >הַ</span><span  class=\"hl hlup\" >יַּלְדָּ֥ה </span><span  class=\"hlup\" >הַ</span><span  class=\"hl hlup\" >זֹּ֖את </span></span></td><td class=\"tf\"><span class=\"hb\"><span  class=\"hlup\" >לְ</span><span  class=\"hl hlup\" >אִשָּֽׁה׃ </span></span></td><td class=\"tf\"><span class=\"hb\"><span  class=\"hl hlup\" >קַֽח־</span></span></td><td class=\"tf\"><span class=\"hb\"><span  class=\"hl hlup\" >יַּלְדָּ֥ה </span></span></td><td class=\"tf\"><span class=\"hb\"><span  class=\"hl hlup\" >קַֽח־</span><span  class=\"hlup\" >לִ֛י </span><span  class=\"hlup\" >אֶת־</span><span  class=\"hlup\" >הַ</span><span  class=\"hl hlup\" >יַּלְדָּ֥ה </span><span  class=\"hlup\" >הַ</span><span  class=\"hl hlup\" >זֹּ֖את </span><span  class=\"hlup\" >לְ</span><span  class=\"hl hlup\" >אִשָּֽׁה׃ </span></span></td><td class=\"tf\"><span class=\"hb\"><span  class=\"hl hlup\" >זֹּ֖את </span></span></td><td class=\"tf\"><span class=\"hb\"><span  class=\"hl hlup\" >אִשָּֽׁה׃ </span></span></td></tr>\n",
       "<tr class=\"tf\"><td class=\"tf\">4</td><td class=\"tf\"> <a href=\"https://shebanq.ancient-data.org/hebrew/text?book=Exodus&amp;chapter=6&amp;verse=20&amp;version=c&amp;mr=m&amp;qw=q&amp;tp=txt_p&amp;tr=hb&amp;wget=v&amp;qget=v&amp;nget=vt\" title=\"show this passage in SHEBANQ\" sec=\"Exodus 6:20\">Exodus 6:20</a></td><td class=\"tf\"><span class=\"hb\"><a class=\"vn\" href=\"https://shebanq.ancient-data.org/hebrew/text?book=Exodus&amp;chapter=6&amp;verse=20&amp;version=c&amp;mr=m&amp;qw=q&amp;tp=txt_p&amp;tr=hb&amp;wget=v&amp;qget=v&amp;nget=vt\" title=\"Exodus 6:20\" sec=\"Exodus 6:20\"></a><span  class=\"hlup\" >וַ</span><span  class=\"hl hlup\" >יִּקַּ֨ח </span><span  class=\"hlup\" >עַמְרָ֜ם </span><span  class=\"hlup\" >אֶת־</span><span  class=\"hl hlup\" >יֹוכֶ֤בֶד </span><span  class=\"hl hlup\" >דֹּֽדָתֹו֙ </span><span  class=\"hlup\" >לֹ֣ו </span><span  class=\"hlup\" >לְ</span><span  class=\"hl hlup\" >אִשָּׁ֔ה </span>וַתֵּ֣לֶד לֹ֔ו אֶֽת־אַהֲרֹ֖ן וְאֶת־מֹשֶׁ֑ה וּשְׁנֵי֙ חַיֵּ֣י עַמְרָ֔ם שֶׁ֧בַע וּשְׁלֹשִׁ֛ים וּמְאַ֖ת שָׁנָֽה׃ </span></td><td class=\"tf\"><span class=\"hb\"><span  class=\"hlup\" >וַ</span><span  class=\"hl hlup\" >יִּקַּ֨ח </span><span  class=\"hlup\" >עַמְרָ֜ם </span><span  class=\"hlup\" >אֶת־</span><span  class=\"hl hlup\" >יֹוכֶ֤בֶד </span><span  class=\"hl hlup\" >דֹּֽדָתֹו֙ </span><span  class=\"hlup\" >לֹ֣ו </span><span  class=\"hlup\" >לְ</span><span  class=\"hl hlup\" >אִשָּׁ֔ה </span></span></td><td class=\"tf\"><span class=\"hb\"><span  class=\"hl hlup\" >יִּקַּ֨ח </span></span></td><td class=\"tf\"><span class=\"hb\"><span  class=\"hl hlup\" >יֹוכֶ֤בֶד </span></span></td><td class=\"tf\"><span class=\"hb\"><span  class=\"hl hlup\" >דֹּֽדָתֹו֙ </span></span></td><td class=\"tf\"><span class=\"hb\"><span  class=\"hl hlup\" >אִשָּׁ֔ה </span></span></td><td class=\"tf\"><span class=\"hb\"><span  class=\"hl hlup\" >יִּקַּ֨ח </span></span></td><td class=\"tf\"><span class=\"hb\"><span  class=\"hlup\" >אֶת־</span><span  class=\"hl hlup\" >יֹוכֶ֤בֶד </span><span  class=\"hl hlup\" >דֹּֽדָתֹו֙ </span></span></td><td class=\"tf\"><span class=\"hb\"><span  class=\"hlup\" >לְ</span><span  class=\"hl hlup\" >אִשָּׁ֔ה </span></span></td></tr>\n",
       "<tr class=\"tf\"><td class=\"tf\">5</td><td class=\"tf\"> <a href=\"https://shebanq.ancient-data.org/hebrew/text?book=Exodus&amp;chapter=6&amp;verse=23&amp;version=c&amp;mr=m&amp;qw=q&amp;tp=txt_p&amp;tr=hb&amp;wget=v&amp;qget=v&amp;nget=vt\" title=\"show this passage in SHEBANQ\" sec=\"Exodus 6:23\">Exodus 6:23</a></td><td class=\"tf\"><span class=\"hb\"><a class=\"vn\" href=\"https://shebanq.ancient-data.org/hebrew/text?book=Exodus&amp;chapter=6&amp;verse=23&amp;version=c&amp;mr=m&amp;qw=q&amp;tp=txt_p&amp;tr=hb&amp;wget=v&amp;qget=v&amp;nget=vt\" title=\"Exodus 6:23\" sec=\"Exodus 6:23\"></a><span  class=\"hlup\" >וַ</span><span  class=\"hl hlup\" >יִּקַּ֨ח </span><span  class=\"hlup\" >אַהֲרֹ֜ן </span><span  class=\"hlup\" >אֶת־</span><span  class=\"hl hlup\" >אֱלִישֶׁ֧בַע </span><span  class=\"hl hlup\" >בַּת־</span><span  class=\"hlup\" >עַמִּינָדָ֛ב </span><span  class=\"hl hlup\" >אֲחֹ֥ות </span><span  class=\"hlup\" >נַחְשֹׁ֖ון </span><span  class=\"hlup\" >לֹ֣ו </span><span  class=\"hlup\" >לְ</span><span  class=\"hl hlup\" >אִשָּׁ֑ה </span>וַתֵּ֣לֶד לֹ֗ו אֶת־נָדָב֙ וְאֶת־אֲבִיה֔וּא אֶת־אֶלְעָזָ֖ר וְאֶת־אִֽיתָמָֽר׃ </span></td><td class=\"tf\"><span class=\"hb\"><span  class=\"hl hlup\" >אֲחֹ֥ות </span></span></td><td class=\"tf\"><span class=\"hb\"><span  class=\"hl hlup\" >אִשָּׁ֑ה </span></span></td><td class=\"tf\"><span class=\"hb\"><span  class=\"hl hlup\" >יִּקַּ֨ח </span></span></td><td class=\"tf\"><span class=\"hb\"><span  class=\"hlup\" >אֶת־</span><span  class=\"hl hlup\" >אֱלִישֶׁ֧בַע </span><span  class=\"hl hlup\" >בַּת־</span><span  class=\"hlup\" >עַמִּינָדָ֛ב </span><span  class=\"hl hlup\" >אֲחֹ֥ות </span><span  class=\"hlup\" >נַחְשֹׁ֖ון </span></span></td><td class=\"tf\"><span class=\"hb\"><span  class=\"hlup\" >לְ</span><span  class=\"hl hlup\" >אִשָּׁ֑ה </span></span></td><td class=\"tf\"><span class=\"hb\"><span  class=\"hlup\" >וַ</span><span  class=\"hl hlup\" >יִּקַּ֨ח </span><span  class=\"hlup\" >אַהֲרֹ֜ן </span><span  class=\"hlup\" >אֶת־</span><span  class=\"hl hlup\" >אֱלִישֶׁ֧בַע </span><span  class=\"hl hlup\" >בַּת־</span><span  class=\"hlup\" >עַמִּינָדָ֛ב </span><span  class=\"hl hlup\" >אֲחֹ֥ות </span><span  class=\"hlup\" >נַחְשֹׁ֖ון </span><span  class=\"hlup\" >לֹ֣ו </span><span  class=\"hlup\" >לְ</span><span  class=\"hl hlup\" >אִשָּׁ֑ה </span></span></td><td class=\"tf\"><span class=\"hb\"><span  class=\"hl hlup\" >יִּקַּ֨ח </span></span></td><td class=\"tf\"><span class=\"hb\"><span  class=\"hl hlup\" >אֱלִישֶׁ֧בַע </span></span></td><td class=\"tf\"><span class=\"hb\"><span  class=\"hl hlup\" >בַּת־</span></span></td></tr></table>"
      ],
      "text/plain": [
       "<IPython.core.display.HTML object>"
      ]
     },
     "metadata": {},
     "output_type": "display_data"
    }
   ],
   "source": [
    "LQXvalence2='''\n",
    "clause\n",
    "    phrase\n",
    "        word lex=LQX[\n",
    "    phrase function=Objc\n",
    "        word gn=f nu=sg\n",
    "    phrase function=Cmpl\n",
    "        word lex=>CH/\n",
    "'''\n",
    "LQXvalence2  = A.search(LQXvalence2)\n",
    "A.table(LQXvalence2, start=1, end=5, condensed=True)\n",
    "\n",
    "#SHEBANQ query results are here: https://shebanq.ancient-data.org/hebrew/query?version=2017&id=493"
   ]
  },
  {
   "cell_type": "markdown",
   "metadata": {},
   "source": [
    "The findings suggest that Gen 20:2 seeks to play with the reader's bias and immitates for the reader the bias of Abraham. Abimelech probably raped Sara and he is just another Sodomite who has no moral boundaries. Well, turns out, that this is not the case. See the next query..."
   ]
  },
  {
   "cell_type": "markdown",
   "metadata": {},
   "source": [
    "## Finding *background* clauses in the narrative section\n",
    "Narrative chains are sometimes interrupted by the narrator in order to provide background information that are supposed to chance the interpretative course of the reader and challange the reader's bias.\n",
    "We can find these cases by searching for clauses that belong to the narrative domain (`domain=N`) but excluding that these clauses belong to the foreground tense Way. We exclude those tenses with `#` (`typ#WayX|Way0`)."
   ]
  },
  {
   "cell_type": "code",
   "execution_count": 29,
   "metadata": {},
   "outputs": [
    {
     "name": "stdout",
     "output_type": "stream",
     "text": [
      "  0.13s 4 results\n"
     ]
    },
    {
     "data": {
      "text/html": [
       "<table>\n",
       "<tr class=\"tf\">\n",
       "  <th class=\"tf\">n</th><th class=\"tf\">p</th>\n",
       "  <th class=\"tf\">verse</th><th>clause</th>\n",
       "</tr>\n",
       "\n",
       "<tr class=\"tf\"><td class=\"tf\">1</td><td class=\"tf\"> <a href=\"https://shebanq.ancient-data.org/hebrew/text?book=Genesis&amp;chapter=20&amp;verse=4&amp;version=c&amp;mr=m&amp;qw=q&amp;tp=txt_p&amp;tr=hb&amp;wget=v&amp;qget=v&amp;nget=vt\" title=\"show this passage in SHEBANQ\" sec=\"Genesis 20:4\">Genesis 20:4</a></td><td class=\"tf\"><span class=\"hb\"><a class=\"vn\" href=\"https://shebanq.ancient-data.org/hebrew/text?book=Genesis&amp;chapter=20&amp;verse=4&amp;version=c&amp;mr=m&amp;qw=q&amp;tp=txt_p&amp;tr=hb&amp;wget=v&amp;qget=v&amp;nget=vt\" title=\"Genesis 20:4\" sec=\"Genesis 20:4\"></a><span  class=\"hlup\"  style=\"border-color: blue;\" >וַ</span><span  class=\"hlup\"  style=\"border-color: blue;\" >אֲבִימֶ֕לֶךְ </span><span  class=\"hlup\"  style=\"border-color: blue;\" >לֹ֥א </span><span  class=\"hlup\"  style=\"border-color: blue;\" >קָרַ֖ב </span><span  class=\"hlup\"  style=\"border-color: blue;\" >אֵלֶ֑יהָ </span>וַיֹּאמַ֕ר אֲדֹנָ֕י הֲגֹ֥וי גַּם־צַדִּ֖יק תַּהֲרֹֽג׃ </span></td><td class=\"tf\"><span class=\"hb\"><span  class=\"hlup\"  style=\"border-color: blue;\" >וַ</span><span  class=\"hlup\"  style=\"border-color: blue;\" >אֲבִימֶ֕לֶךְ </span><span  class=\"hlup\"  style=\"border-color: blue;\" >לֹ֥א </span><span  class=\"hlup\"  style=\"border-color: blue;\" >קָרַ֖ב </span><span  class=\"hlup\"  style=\"border-color: blue;\" >אֵלֶ֑יהָ </span></span></td></tr>\n",
       "<tr class=\"tf\"><td class=\"tf\">2</td><td class=\"tf\"> <a href=\"https://shebanq.ancient-data.org/hebrew/text?book=Genesis&amp;chapter=20&amp;verse=6&amp;version=c&amp;mr=m&amp;qw=q&amp;tp=txt_p&amp;tr=hb&amp;wget=v&amp;qget=v&amp;nget=vt\" title=\"show this passage in SHEBANQ\" sec=\"Genesis 20:6\">Genesis 20:6</a></td><td class=\"tf\"><span class=\"hb\"><a class=\"vn\" href=\"https://shebanq.ancient-data.org/hebrew/text?book=Genesis&amp;chapter=20&amp;verse=6&amp;version=c&amp;mr=m&amp;qw=q&amp;tp=txt_p&amp;tr=hb&amp;wget=v&amp;qget=v&amp;nget=vt\" title=\"Genesis 20:6\" sec=\"Genesis 20:6\"></a>וַיֹּאמֶר֩ אֵלָ֨יו הָֽאֱלֹהִ֜ים בַּחֲלֹ֗ם גַּ֣ם אָנֹכִ֤י יָדַ֨עְתִּי֙ כִּ֤י בְתָם־לְבָבְךָ֙ עָשִׂ֣יתָ זֹּ֔את וָאֶחְשֹׂ֧ךְ גַּם־אָנֹכִ֛י אֹֽותְךָ֖ מֵחֲטֹו־לִ֑י <span  class=\"hlup\"  style=\"border-color: blue;\" >עַל־</span><span  class=\"hlup\"  style=\"border-color: blue;\" >כֵּ֥ן </span><span  class=\"hlup\"  style=\"border-color: blue;\" >לֹא־</span><span  class=\"hlup\"  style=\"border-color: blue;\" >נְתַתִּ֖יךָ </span>לִנְגֹּ֥עַ אֵלֶֽיהָ׃ </span></td><td class=\"tf\"><span class=\"hb\"><span  class=\"hlup\"  style=\"border-color: blue;\" >עַל־</span><span  class=\"hlup\"  style=\"border-color: blue;\" >כֵּ֥ן </span><span  class=\"hlup\"  style=\"border-color: blue;\" >לֹא־</span><span  class=\"hlup\"  style=\"border-color: blue;\" >נְתַתִּ֖יךָ </span></span></td></tr>\n",
       "<tr class=\"tf\"><td class=\"tf\">3</td><td class=\"tf\"> <a href=\"https://shebanq.ancient-data.org/hebrew/text?book=Genesis&amp;chapter=20&amp;verse=16&amp;version=c&amp;mr=m&amp;qw=q&amp;tp=txt_p&amp;tr=hb&amp;wget=v&amp;qget=v&amp;nget=vt\" title=\"show this passage in SHEBANQ\" sec=\"Genesis 20:16\">Genesis 20:16</a></td><td class=\"tf\"><span class=\"hb\"><a class=\"vn\" href=\"https://shebanq.ancient-data.org/hebrew/text?book=Genesis&amp;chapter=20&amp;verse=16&amp;version=c&amp;mr=m&amp;qw=q&amp;tp=txt_p&amp;tr=hb&amp;wget=v&amp;qget=v&amp;nget=vt\" title=\"Genesis 20:16\" sec=\"Genesis 20:16\"></a><span  class=\"hlup\"  style=\"border-color: blue;\" >וּ</span><span  class=\"hlup\"  style=\"border-color: blue;\" >לְ</span><span  class=\"hlup\"  style=\"border-color: blue;\" >שָׂרָ֣ה </span><span  class=\"hlup\"  style=\"border-color: blue;\" >אָמַ֗ר </span>הִנֵּ֨ה נָתַ֜תִּי אֶ֤לֶף כֶּ֨סֶף֙ לְאָחִ֔יךְ הִנֵּ֤ה הוּא־לָךְ֙ כְּס֣וּת עֵינַ֔יִם לְכֹ֖ל אֲשֶׁ֣ר אִתָּ֑ךְ וְאֵ֥ת כֹּ֖ל וְנֹכָֽחַת׃ </span></td><td class=\"tf\"><span class=\"hb\"><span  class=\"hlup\"  style=\"border-color: blue;\" >וּ</span><span  class=\"hlup\"  style=\"border-color: blue;\" >לְ</span><span  class=\"hlup\"  style=\"border-color: blue;\" >שָׂרָ֣ה </span><span  class=\"hlup\"  style=\"border-color: blue;\" >אָמַ֗ר </span></span></td></tr>\n",
       "<tr class=\"tf\"><td class=\"tf\">4</td><td class=\"tf\"> <a href=\"https://shebanq.ancient-data.org/hebrew/text?book=Genesis&amp;chapter=20&amp;verse=18&amp;version=c&amp;mr=m&amp;qw=q&amp;tp=txt_p&amp;tr=hb&amp;wget=v&amp;qget=v&amp;nget=vt\" title=\"show this passage in SHEBANQ\" sec=\"Genesis 20:18\">Genesis 20:18</a></td><td class=\"tf\"><span class=\"hb\"><a class=\"vn\" href=\"https://shebanq.ancient-data.org/hebrew/text?book=Genesis&amp;chapter=20&amp;verse=18&amp;version=c&amp;mr=m&amp;qw=q&amp;tp=txt_p&amp;tr=hb&amp;wget=v&amp;qget=v&amp;nget=vt\" title=\"Genesis 20:18\" sec=\"Genesis 20:18\"><span  class=\"hlup\"  style=\"border-color: blue;\" ></span></a><span  class=\"hlup\"  style=\"border-color: blue;\" >כִּֽי־</span><span  class=\"hlup\"  style=\"border-color: blue;\" >עָצֹ֤ר </span><span  class=\"hlup\"  style=\"border-color: blue;\" >עָצַר֙ </span><span  class=\"hlup\"  style=\"border-color: blue;\" >יְהוָ֔ה </span><span  class=\"hlup\"  style=\"border-color: blue;\" >בְּעַ֥ד </span><span  class=\"hlup\"  style=\"border-color: blue;\" >כָּל־</span><span  class=\"hlup\"  style=\"border-color: blue;\" >רֶ֖חֶם </span><span  class=\"hlup\"  style=\"border-color: blue;\" >לְ</span><span  class=\"hlup\"  style=\"border-color: blue;\" >בֵ֣ית </span><span  class=\"hlup\"  style=\"border-color: blue;\" >אֲבִימֶ֑לֶךְ </span><span  class=\"hlup\"  style=\"border-color: blue;\" >עַל־</span><span  class=\"hlup\"  style=\"border-color: blue;\" >דְּבַ֥ר </span><span  class=\"hlup\"  style=\"border-color: blue;\" >שָׂרָ֖ה </span><span  class=\"hlup\"  style=\"border-color: blue;\" >אֵ֥שֶׁת </span><span  class=\"hlup\"  style=\"border-color: blue;\" >אַבְרָהָֽם׃ ס </span></span></td><td class=\"tf\"><span class=\"hb\"><span  class=\"hlup\"  style=\"border-color: blue;\" >כִּֽי־</span><span  class=\"hlup\"  style=\"border-color: blue;\" >עָצֹ֤ר </span><span  class=\"hlup\"  style=\"border-color: blue;\" >עָצַר֙ </span><span  class=\"hlup\"  style=\"border-color: blue;\" >יְהוָ֔ה </span><span  class=\"hlup\"  style=\"border-color: blue;\" >בְּעַ֥ד </span><span  class=\"hlup\"  style=\"border-color: blue;\" >כָּל־</span><span  class=\"hlup\"  style=\"border-color: blue;\" >רֶ֖חֶם </span><span  class=\"hlup\"  style=\"border-color: blue;\" >לְ</span><span  class=\"hlup\"  style=\"border-color: blue;\" >בֵ֣ית </span><span  class=\"hlup\"  style=\"border-color: blue;\" >אֲבִימֶ֑לֶךְ </span><span  class=\"hlup\"  style=\"border-color: blue;\" >עַל־</span><span  class=\"hlup\"  style=\"border-color: blue;\" >דְּבַ֥ר </span><span  class=\"hlup\"  style=\"border-color: blue;\" >שָׂרָ֖ה </span><span  class=\"hlup\"  style=\"border-color: blue;\" >אֵ֥שֶׁת </span><span  class=\"hlup\"  style=\"border-color: blue;\" >אַבְרָהָֽם׃ ס </span></span></td></tr></table>"
      ],
      "text/plain": [
       "<IPython.core.display.HTML object>"
      ]
     },
     "metadata": {},
     "output_type": "display_data"
    }
   ],
   "source": [
    "NarrativeBackground = '''\n",
    "verse book=Genesis chapter=20\n",
    "    clause domain=N typ#WayX|Way0 rela=NA\n",
    "'''\n",
    "NarrativeBackground  = A.search(NarrativeBackground)\n",
    "A.table(NarrativeBackground, start=1, end=40, condensed=True, colorMap={1: 'blue', 2: 'blue', 3: 'blue', 4: 'blue'})"
   ]
  },
  {
   "cell_type": "markdown",
   "metadata": {},
   "source": [
    "What does this tell us?\n",
    "\n",
    "Well, for the first finding in Gen 20:4 the text tries to shake up the bias of the reader (cf. \"Abimelek probably raped Sara\"). No! He did not! He is a gentlemen and you might want to know that before you continue reading/watching the story!"
   ]
  },
  {
   "cell_type": "markdown",
   "metadata": {},
   "source": [
    "## finding syntactical incongruences in Genesis 20\n",
    "Lets see whether we find cases in which the subject in a clause has a different number then the prediate."
   ]
  },
  {
   "cell_type": "code",
   "execution_count": 30,
   "metadata": {},
   "outputs": [
    {
     "name": "stdout",
     "output_type": "stream",
     "text": [
      "  1.41s 3 results\n"
     ]
    },
    {
     "data": {
      "text/html": [
       "<table>\n",
       "<tr class=\"tf\">\n",
       "  <th class=\"tf\">n</th><th class=\"tf\">p</th>\n",
       "  <th class=\"tf\">verse</th><th>word</th><th>word</th><th>clause</th><th>phrase</th><th>phrase</th>\n",
       "</tr>\n",
       "\n",
       "<tr class=\"tf\"><td class=\"tf\">1</td><td class=\"tf\"> <a href=\"https://shebanq.ancient-data.org/hebrew/text?book=Genesis&amp;chapter=20&amp;verse=3&amp;version=c&amp;mr=m&amp;qw=q&amp;tp=txt_p&amp;tr=hb&amp;wget=v&amp;qget=v&amp;nget=vt\" title=\"show this passage in SHEBANQ\" sec=\"Genesis 20:3\">Genesis 20:3</a></td><td class=\"tf\"><span class=\"hb\"><a class=\"vn\" href=\"https://shebanq.ancient-data.org/hebrew/text?book=Genesis&amp;chapter=20&amp;verse=3&amp;version=c&amp;mr=m&amp;qw=q&amp;tp=txt_p&amp;tr=hb&amp;wget=v&amp;qget=v&amp;nget=vt\" title=\"Genesis 20:3\" sec=\"Genesis 20:3\"></a><span  class=\"hlup\" >וַ</span><span  class=\"hl hlup\" >יָּבֹ֧א </span><span  class=\"hl hlup\" >אֱלֹהִ֛ים </span><span  class=\"hlup\" >אֶל־</span><span  class=\"hlup\" >אֲבִימֶ֖לֶךְ </span><span  class=\"hlup\" >בַּ</span><span  class=\"hlup\" >חֲלֹ֣ום </span><span  class=\"hlup\" >הַ</span><span  class=\"hlup\" >לָּ֑יְלָה </span>וַיֹּ֣אמֶר לֹ֗ו הִנְּךָ֥ מֵת֙ עַל־הָאִשָּׁ֣ה אֲשֶׁר־לָקַ֔חְתָּ וְהִ֖וא בְּעֻ֥לַת בָּֽעַל׃ </span></td><td class=\"tf\"><span class=\"hb\"><span  class=\"hl hlup\" >יָּבֹ֧א </span></span></td><td class=\"tf\"><span class=\"hb\"><span  class=\"hl hlup\" >אֱלֹהִ֛ים </span></span></td><td class=\"tf\"><span class=\"hb\"><span  class=\"hlup\" >וַ</span><span  class=\"hl hlup\" >יָּבֹ֧א </span><span  class=\"hl hlup\" >אֱלֹהִ֛ים </span><span  class=\"hlup\" >אֶל־</span><span  class=\"hlup\" >אֲבִימֶ֖לֶךְ </span><span  class=\"hlup\" >בַּ</span><span  class=\"hlup\" >חֲלֹ֣ום </span><span  class=\"hlup\" >הַ</span><span  class=\"hlup\" >לָּ֑יְלָה </span></span></td><td class=\"tf\"><span class=\"hb\"><span  class=\"hl hlup\" >יָּבֹ֧א </span></span></td><td class=\"tf\"><span class=\"hb\"><span  class=\"hl hlup\" >אֱלֹהִ֛ים </span></span></td></tr>\n",
       "<tr class=\"tf\"><td class=\"tf\">2</td><td class=\"tf\"> <a href=\"https://shebanq.ancient-data.org/hebrew/text?book=Genesis&amp;chapter=20&amp;verse=6&amp;version=c&amp;mr=m&amp;qw=q&amp;tp=txt_p&amp;tr=hb&amp;wget=v&amp;qget=v&amp;nget=vt\" title=\"show this passage in SHEBANQ\" sec=\"Genesis 20:6\">Genesis 20:6</a></td><td class=\"tf\"><span class=\"hb\"><a class=\"vn\" href=\"https://shebanq.ancient-data.org/hebrew/text?book=Genesis&amp;chapter=20&amp;verse=6&amp;version=c&amp;mr=m&amp;qw=q&amp;tp=txt_p&amp;tr=hb&amp;wget=v&amp;qget=v&amp;nget=vt\" title=\"Genesis 20:6\" sec=\"Genesis 20:6\"></a><span  class=\"hlup\" >וַ</span><span  class=\"hl hlup\" >יֹּאמֶר֩ </span><span  class=\"hlup\" >אֵלָ֨יו </span><span  class=\"hlup\" >הָֽ</span><span  class=\"hl hlup\" >אֱלֹהִ֜ים </span><span  class=\"hlup\" >בַּ</span><span  class=\"hlup\" >חֲלֹ֗ם </span>גַּ֣ם אָנֹכִ֤י יָדַ֨עְתִּי֙ כִּ֤י בְתָם־לְבָבְךָ֙ עָשִׂ֣יתָ זֹּ֔את וָאֶחְשֹׂ֧ךְ גַּם־אָנֹכִ֛י אֹֽותְךָ֖ מֵחֲטֹו־לִ֑י עַל־כֵּ֥ן לֹא־נְתַתִּ֖יךָ לִנְגֹּ֥עַ אֵלֶֽיהָ׃ </span></td><td class=\"tf\"><span class=\"hb\"><span  class=\"hl hlup\" >אֱלֹהִ֜ים </span></span></td><td class=\"tf\"><span class=\"hb\"><span  class=\"hlup\" >וַ</span><span  class=\"hl hlup\" >יֹּאמֶר֩ </span><span  class=\"hlup\" >אֵלָ֨יו </span><span  class=\"hlup\" >הָֽ</span><span  class=\"hl hlup\" >אֱלֹהִ֜ים </span><span  class=\"hlup\" >בַּ</span><span  class=\"hlup\" >חֲלֹ֗ם </span></span></td><td class=\"tf\"><span class=\"hb\"><span  class=\"hl hlup\" >יֹּאמֶר֩ </span></span></td><td class=\"tf\"><span class=\"hb\"><span  class=\"hlup\" >הָֽ</span><span  class=\"hl hlup\" >אֱלֹהִ֜ים </span></span></td><td class=\"tf\"><span class=\"hb\"><span  class=\"hl hlup\" >יֹּאמֶר֩ </span></span></td></tr>\n",
       "<tr class=\"tf\"><td class=\"tf\">3</td><td class=\"tf\"> <a href=\"https://shebanq.ancient-data.org/hebrew/text?book=Genesis&amp;chapter=20&amp;verse=17&amp;version=c&amp;mr=m&amp;qw=q&amp;tp=txt_p&amp;tr=hb&amp;wget=v&amp;qget=v&amp;nget=vt\" title=\"show this passage in SHEBANQ\" sec=\"Genesis 20:17\">Genesis 20:17</a></td><td class=\"tf\"><span class=\"hb\"><a class=\"vn\" href=\"https://shebanq.ancient-data.org/hebrew/text?book=Genesis&amp;chapter=20&amp;verse=17&amp;version=c&amp;mr=m&amp;qw=q&amp;tp=txt_p&amp;tr=hb&amp;wget=v&amp;qget=v&amp;nget=vt\" title=\"Genesis 20:17\" sec=\"Genesis 20:17\"></a>וַיִּתְפַּלֵּ֥ל אַבְרָהָ֖ם אֶל־הָאֱלֹהִ֑ים <span  class=\"hlup\" >וַ</span><span  class=\"hl hlup\" >יִּרְפָּ֨א </span><span  class=\"hl hlup\" >אֱלֹהִ֜ים </span><span  class=\"hlup\" >אֶת־</span><span  class=\"hlup\" >אֲבִימֶ֧לֶךְ </span><span  class=\"hlup\" >וְ</span><span  class=\"hlup\" >אֶת־</span><span  class=\"hlup\" >אִשְׁתֹּ֛ו </span><span  class=\"hlup\" >וְ</span><span  class=\"hlup\" >אַמְהֹתָ֖יו </span>וַיֵּלֵֽדוּ׃ </span></td><td class=\"tf\"><span class=\"hb\"><span  class=\"hl hlup\" >יִּרְפָּ֨א </span></span></td><td class=\"tf\"><span class=\"hb\"><span  class=\"hl hlup\" >אֱלֹהִ֜ים </span></span></td><td class=\"tf\"><span class=\"hb\"><span  class=\"hlup\" >וַ</span><span  class=\"hl hlup\" >יִּרְפָּ֨א </span><span  class=\"hl hlup\" >אֱלֹהִ֜ים </span><span  class=\"hlup\" >אֶת־</span><span  class=\"hlup\" >אֲבִימֶ֧לֶךְ </span><span  class=\"hlup\" >וְ</span><span  class=\"hlup\" >אֶת־</span><span  class=\"hlup\" >אִשְׁתֹּ֛ו </span><span  class=\"hlup\" >וְ</span><span  class=\"hlup\" >אַמְהֹתָ֖יו </span></span></td><td class=\"tf\"><span class=\"hb\"><span  class=\"hl hlup\" >יִּרְפָּ֨א </span></span></td><td class=\"tf\"><span class=\"hb\"><span  class=\"hl hlup\" >אֱלֹהִ֜ים </span></span></td></tr></table>"
      ],
      "text/plain": [
       "<IPython.core.display.HTML object>"
      ]
     },
     "metadata": {},
     "output_type": "display_data"
    }
   ],
   "source": [
    "SyntaxIncongruency1 = '''\n",
    "verse book=Genesis chapter=20\n",
    "    clause\n",
    "        phrase function=Pred\n",
    "            w1:word\n",
    "        phrase function=Subj\n",
    "            w2:word sp=subs\n",
    "w1 .nu#nu. w2\n",
    "'''\n",
    "SyntaxIncongruency1 = A.search(SyntaxIncongruency1)\n",
    "A.table(SyntaxIncongruency1, start=1, end=40, condensed=True)"
   ]
  },
  {
   "cell_type": "markdown",
   "metadata": {},
   "source": [
    "Well, that was not surprising. Didn't we all expect that the morphological plural of >LHJM does not say anything about the semantic (i.e. the real) number of God. God is one! [Deut 6:4](https://shebanq.ancient-data.org/hebrew/text?book=Deuteronomium&chapter=6&verse=4&version=2017), [Deut 4:35](https://shebanq.ancient-data.org/hebrew/text?book=Deuteronomium&chapter=4&verse=35&version=2017), [Deut 4:39](https://shebanq.ancient-data.org/hebrew/text?book=Deuteronomium&chapter=4&verse=39&version=2017).\n",
    "\n",
    "But lets double check do we find cases where the number of >LHJM and its prediate match? You might want to execute the command `S.relationsLegend()`in order to see what operator you would have to replace `#` with in order to have matching values for the `nu` feature."
   ]
  },
  {
   "cell_type": "code",
   "execution_count": null,
   "metadata": {},
   "outputs": [],
   "source": [
    "# Task 1\n",
    "# check out the relations operators by running the following code:\n",
    "S.relationsLegend()"
   ]
  },
  {
   "cell_type": "markdown",
   "metadata": {},
   "source": [
    "You can study how these relational operators are used by looking at the examples in this notebook: https://nbviewer.jupyter.org/github/annotation/tutorials/blob/master/bhsa/searchRelations.ipynb"
   ]
  },
  {
   "cell_type": "code",
   "execution_count": null,
   "metadata": {},
   "outputs": [],
   "source": [
    "# Task 2\n",
    "# search for clauses in Gen 20 in which we find >LHJM/ as subject\n",
    "# with a predicate, where both words (subject and predicate) match in number.\n",
    "# Look at your final result. Isn't there a surprising result? What might it tell you about Abraham's theology?\n"
   ]
  },
  {
   "cell_type": "markdown",
   "metadata": {},
   "source": [
    "## Text-grammatical rarities\n",
    "Isn't the text-syntactical construction in Gen 20:9-10 weird? Why should the speaker and addressee be introduced for a second time when the same speaker is still speaking to the same addressee?"
   ]
  },
  {
   "cell_type": "code",
   "execution_count": 34,
   "metadata": {},
   "outputs": [
    {
     "name": "stdout",
     "output_type": "stream",
     "text": [
      "  4.67s 1 result\n"
     ]
    },
    {
     "data": {
      "text/html": [
       "<table>\n",
       "<tr class=\"tf\">\n",
       "  <th class=\"tf\">n</th><th class=\"tf\">p</th>\n",
       "  <th class=\"tf\">verse</th><th>clause</th><th>clause</th><th>word</th><th>word</th><th>phrase</th><th>phrase</th><th>phrase</th><th>word</th>\n",
       "</tr>\n",
       "\n",
       "<tr class=\"tf\"><td class=\"tf\">1</td><td class=\"tf\"> <a href=\"https://shebanq.ancient-data.org/hebrew/text?book=Genesis&amp;chapter=20&amp;verse=9&amp;version=c&amp;mr=m&amp;qw=q&amp;tp=txt_p&amp;tr=hb&amp;wget=v&amp;qget=v&amp;nget=vt\" title=\"show this passage in SHEBANQ\" sec=\"Genesis 20:9\">Genesis 20:9</a></td><td class=\"tf\"><span class=\"hb\"><a class=\"vn\" href=\"https://shebanq.ancient-data.org/hebrew/text?book=Genesis&amp;chapter=20&amp;verse=9&amp;version=c&amp;mr=m&amp;qw=q&amp;tp=txt_p&amp;tr=hb&amp;wget=v&amp;qget=v&amp;nget=vt\" title=\"Genesis 20:9\" sec=\"Genesis 20:9\"></a><span  class=\"hlup\" >וַ</span><span  class=\"hl hlup\" >יִּקְרָ֨א </span><span  class=\"hl hlup\" >אֲבִימֶ֜לֶךְ </span><span  class=\"hlup\" >לְ</span><span  class=\"hl hlup\" >אַבְרָהָ֗ם </span>וַיֹּ֨אמֶר לֹ֜ו <span  class=\"hlup\" >מֶֽה־</span><span  class=\"hlup\" >עָשִׂ֤יתָ </span><span  class=\"hlup\" >לָּ֨נוּ֙ </span>וּמֶֽה־חָטָ֣אתִי לָ֔ךְ כִּֽי־הֵבֵ֧אתָ עָלַ֛י וְעַל־מַמְלַכְתִּ֖י חֲטָאָ֣ה גְדֹלָ֑ה מַעֲשִׂים֙ אֲשֶׁ֣ר לֹא־יֵֽעָשׂ֔וּ עָשִׂ֖יתָ עִמָּדִֽי׃ </span></td><td class=\"tf\"><span class=\"hb\"><span  class=\"hlup\" >וַ</span><span  class=\"hl hlup\" >יִּקְרָ֨א </span><span  class=\"hl hlup\" >אֲבִימֶ֜לֶךְ </span><span  class=\"hlup\" >לְ</span><span  class=\"hl hlup\" >אַבְרָהָ֗ם </span></span></td><td class=\"tf\"><span class=\"hb\"><span  class=\"hlup\" >מֶֽה־</span><span  class=\"hlup\" >עָשִׂ֤יתָ </span><span  class=\"hlup\" >לָּ֨נוּ֙ </span></span></td><td class=\"tf\"><span class=\"hb\"><span  class=\"hl hlup\" >יִּקְרָ֨א </span></span></td><td class=\"tf\"><span class=\"hb\"><span  class=\"hl hlup\" >אֲבִימֶ֜לֶךְ </span></span></td><td class=\"tf\"><span class=\"hb\"><span  class=\"hl hlup\" >יִּקְרָ֨א </span></span></td><td class=\"tf\"><span class=\"hb\"><span  class=\"hl hlup\" >אֲבִימֶ֜לֶךְ </span></span></td><td class=\"tf\"><span class=\"hb\"><span  class=\"hlup\" >לְ</span><span  class=\"hl hlup\" >אַבְרָהָ֗ם </span></span></td><td class=\"tf\"><span class=\"hb\"><span  class=\"hl hlup\" >אַבְרָהָ֗ם </span></span></td></tr>\n",
       "<tr class=\"tf\"><td class=\"tf\">2</td><td class=\"tf\"> <a href=\"https://shebanq.ancient-data.org/hebrew/text?book=Genesis&amp;chapter=20&amp;verse=10&amp;version=c&amp;mr=m&amp;qw=q&amp;tp=txt_p&amp;tr=hb&amp;wget=v&amp;qget=v&amp;nget=vt\" title=\"show this passage in SHEBANQ\" sec=\"Genesis 20:10\">Genesis 20:10</a></td><td class=\"tf\"><span class=\"hb\"><a class=\"vn\" href=\"https://shebanq.ancient-data.org/hebrew/text?book=Genesis&amp;chapter=20&amp;verse=10&amp;version=c&amp;mr=m&amp;qw=q&amp;tp=txt_p&amp;tr=hb&amp;wget=v&amp;qget=v&amp;nget=vt\" title=\"Genesis 20:10\" sec=\"Genesis 20:10\"></a><span  class=\"hlup\" >וַ</span><span  class=\"hl hlup\" >יֹּ֥אמֶר </span><span  class=\"hl hlup\" >אֲבִימֶ֖לֶךְ </span><span  class=\"hlup\" >אֶל־</span><span  class=\"hl hlup\" >אַבְרָהָ֑ם </span>מָ֣ה רָאִ֔יתָ כִּ֥י עָשִׂ֖יתָ אֶת־הַדָּבָ֥ר הַזֶּֽה׃ </span></td><td class=\"tf\"><span class=\"hb\"><span  class=\"hl hlup\" >יֹּ֥אמֶר </span></span></td><td class=\"tf\"><span class=\"hb\"><span  class=\"hl hlup\" >אֲבִימֶ֖לֶךְ </span></span></td><td class=\"tf\"><span class=\"hb\"><span  class=\"hlup\" >אֶל־</span><span  class=\"hl hlup\" >אַבְרָהָ֑ם </span></span></td><td class=\"tf\"><span class=\"hb\"><span  class=\"hl hlup\" >יֹּ֥אמֶר </span></span></td><td class=\"tf\"><span class=\"hb\"><span  class=\"hlup\" >וַ</span><span  class=\"hl hlup\" >יֹּ֥אמֶר </span><span  class=\"hl hlup\" >אֲבִימֶ֖לֶךְ </span><span  class=\"hlup\" >אֶל־</span><span  class=\"hl hlup\" >אַבְרָהָ֑ם </span></span></td><td class=\"tf\"><span class=\"hb\"><span  class=\"hl hlup\" >אֲבִימֶ֖לֶךְ </span></span></td><td class=\"tf\"><span class=\"hb\"><span  class=\"hl hlup\" >אַבְרָהָ֑ם </span></span></td></tr></table>"
      ],
      "text/plain": [
       "<IPython.core.display.HTML object>"
      ]
     },
     "metadata": {},
     "output_type": "display_data"
    }
   ],
   "source": [
    "TwoSpeachesSameSpeaker = '''\n",
    "verse book=Genesis chapter=20\n",
    "        c1:clause domain=N\n",
    "            phrase function=Pred\n",
    "                word lex=DBR[|QR>[|>MR[\n",
    "            phrase function=Subj\n",
    "                speakerA:word\n",
    "            phrase function=Cmpl\n",
    "                addresseeA:word\n",
    "        <3: c2:clause domain=Q\n",
    "c3:clause domain=N\n",
    "            phrase function=Pred\n",
    "                word lex=DBR[|QR>[|>MR[\n",
    "            phrase function=Subj\n",
    "                speakerB:word lex*\n",
    "            phrase function=Cmpl\n",
    "                addresseeB:word lex*\n",
    "                \n",
    "c1 < c3\n",
    "c1 <50: c3\n",
    "speakerA .lex=lex. speakerB\n",
    "addresseeA .lex=lex. addresseeB\n",
    "'''\n",
    "TwoSpeachesSameSpeaker = A.search(TwoSpeachesSameSpeaker)\n",
    "A.table(TwoSpeachesSameSpeaker, start=1, end=20, condensed=True)"
   ]
  },
  {
   "cell_type": "code",
   "execution_count": null,
   "metadata": {},
   "outputs": [],
   "source": [
    "TwoSpeachesSameSpeaker = '''\n",
    "verse book=Genesis chapter=20\n",
    "  c1:clause domain=N\n",
    "   phrase function=Pred\n",
    "     word lex=DBR[|QR>[|>MR[\n",
    "   phrase function=Subj\n",
    "     speakerA:word lex*\n",
    "   phrase function=Cmpl\n",
    "     addresseeB:word lex*\n",
    "  <3: clause domain=Q\n",
    "c2:clause domain=N\n",
    "  phrase function=Pred\n",
    "    word lex=DBR[|QR>[|>MR[\n",
    "  phrase function=Subj\n",
    "    speakera:word lex*\n",
    "  phrase function=Cmpl\n",
    "    addresseeb:word lex*\n",
    "\n",
    "c1 < c2\n",
    "c1 <50: c2\n",
    "\n",
    "speakerA .lex=lex. speakera\n",
    "addresseeB .lex=lex. addresseeb\n",
    "'''\n",
    "TwoSpeachesSameSpeaker = A.search(TwoSpeachesSameSpeaker)\n",
    "A.table(TwoSpeachesSameSpeaker, start=1, end=20, condensed=True)"
   ]
  },
  {
   "cell_type": "code",
   "execution_count": null,
   "metadata": {},
   "outputs": [],
   "source": [
    "# Task 3\n",
    "# change the code and find all cases of this phenomenon in Gen 16 \n",
    "# (we could search the entire OT but that would take too long for this time)\n",
    "# What observation do you make? And what does that mean for our case in Gen 20?"
   ]
  },
  {
   "cell_type": "markdown",
   "metadata": {},
   "source": [
    "I have formulated the relevant query in SHEBANQ with the following results:\n",
    "https://shebanq.ancient-data.org/hebrew/query?version=2017&id=491\n",
    "\n",
    "Look at the results. What do you learn for our case in Gen 20:9-10 and the general text-linguistic phenomenon?"
   ]
  },
  {
   "cell_type": "markdown",
   "metadata": {},
   "source": [
    "# Genesis 4:1\n",
    "Lets investigate the case in Gen 4:1 and build a query that informs us about how to treat the issue and how to respond to the scholarly debate!\n",
    "I did some queries in SHEBANQ that should inform your own query building:\n",
    "\n",
    "\n",
    "https://shebanq.ancient-data.org/hebrew/query?version=2017&id=946\n",
    "\n",
    "https://shebanq.ancient-data.org/hebrew/query?version=2017&id=947\n",
    "\n",
    "https://shebanq.ancient-data.org/hebrew/query?version=2017&id=948"
   ]
  },
  {
   "cell_type": "code",
   "execution_count": 44,
   "metadata": {},
   "outputs": [],
   "source": [
    "# Task 4\n",
    "# Study the SHEBANQ queries and rebuild all queries as TF queries."
   ]
  },
  {
   "cell_type": "code",
   "execution_count": 45,
   "metadata": {},
   "outputs": [],
   "source": [
    "# Task 5\n",
    "# Look at the GT (stands for Greek Text = Septuagint) and check how it is rendered there.\n",
    "# How do the GT translators treat our case?"
   ]
  },
  {
   "cell_type": "code",
   "execution_count": null,
   "metadata": {},
   "outputs": [],
   "source": [
    "# Task 6\n",
    "# Write up a short conclusion. What is your decision on the matter. How should one translate the phrase in question, \n",
    "# and what is right/wrong about the argumentation that you find in Jacques Doukhan's commentary on Genesis?"
   ]
  },
  {
   "cell_type": "code",
   "execution_count": null,
   "metadata": {},
   "outputs": [],
   "source": []
  }
 ],
 "metadata": {
  "kernelspec": {
   "display_name": "Python 3",
   "language": "python",
   "name": "python3"
  },
  "language_info": {
   "codemirror_mode": {
    "name": "ipython",
    "version": 3
   },
   "file_extension": ".py",
   "mimetype": "text/x-python",
   "name": "python",
   "nbconvert_exporter": "python",
   "pygments_lexer": "ipython3",
   "version": "3.7.4"
  },
  "toc": {
   "base_numbering": 1,
   "nav_menu": {},
   "number_sections": true,
   "sideBar": true,
   "skip_h1_title": false,
   "title_cell": "Table of Contents",
   "title_sidebar": "Contents",
   "toc_cell": false,
   "toc_position": {
    "height": "calc(100% - 180px)",
    "left": "10px",
    "top": "150px",
    "width": "165px"
   },
   "toc_section_display": true,
   "toc_window_display": true
  }
 },
 "nbformat": 4,
 "nbformat_minor": 2
}

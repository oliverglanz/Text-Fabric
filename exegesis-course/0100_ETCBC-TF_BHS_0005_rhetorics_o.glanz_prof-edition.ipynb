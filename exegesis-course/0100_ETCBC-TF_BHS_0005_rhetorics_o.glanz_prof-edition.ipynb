{
 "cells": [
  {
   "cell_type": "markdown",
   "metadata": {},
   "source": [
    "# Queries for Rhetorical Analysis\n",
    "## Getting TF ready"
   ]
  },
  {
   "cell_type": "code",
   "execution_count": 6,
   "metadata": {},
   "outputs": [
    {
     "name": "stdout",
     "output_type": "stream",
     "text": [
      "The autoreload extension is already loaded. To reload it, use:\n",
      "  %reload_ext autoreload\n"
     ]
    }
   ],
   "source": [
    "%load_ext autoreload\n",
    "%autoreload 2"
   ]
  },
  {
   "cell_type": "code",
   "execution_count": 7,
   "metadata": {},
   "outputs": [],
   "source": [
    "# First, I have to laod different modules that I use for analyzing the data and for plotting:\n",
    "import sys, os, collections\n",
    "import pandas as pd\n",
    "import numpy as np\n",
    "import seaborn as sns\n",
    "import matplotlib.pyplot as plt; plt.rcdefaults()\n",
    "from matplotlib.pyplot import figure\n",
    "from collections import Counter\n",
    "\n",
    "# Second, I have to load the Text Fabric app\n",
    "from tf.fabric import Fabric\n",
    "from tf.app import use"
   ]
  },
  {
   "cell_type": "code",
   "execution_count": 8,
   "metadata": {},
   "outputs": [
    {
     "name": "stdout",
     "output_type": "stream",
     "text": [
      "\tconnecting to online GitHub repo annotation/app-bhsa ... failed\n",
      "GitHub says: 403 {'message': \"API rate limit exceeded for 93.229.46.177. (But here's the good news: Authenticated requests get a higher rate limit. Check out the documentation for more details.)\", 'documentation_url': 'https://developer.github.com/v3/#rate-limiting'}\n",
      "The offline TF-app may not be the latest\n",
      "Using TF-app in C:\\Users\\Oliver Glanz/text-fabric-data/annotation/app-bhsa/code:\n",
      "\trv1.2=#5fdf1778d51d938bfe80b37b415e36618e50190c (latest? release)\n",
      "\tconnecting to online GitHub repo etcbc/bhsa ... failed\n",
      "GitHub says: 403 {'message': \"API rate limit exceeded for 93.229.46.177. (But here's the good news: Authenticated requests get a higher rate limit. Check out the documentation for more details.)\", 'documentation_url': 'https://developer.github.com/v3/#rate-limiting'}\n",
      "The offline data may not be the latest\n",
      "Using data in C:\\Users\\Oliver Glanz/text-fabric-data/etcbc/bhsa/tf/c:\n",
      "\trv1.6 (latest? release)\n",
      "\tconnecting to online GitHub repo etcbc/phono ... failed\n",
      "GitHub says: 403 {'message': \"API rate limit exceeded for 93.229.46.177. (But here's the good news: Authenticated requests get a higher rate limit. Check out the documentation for more details.)\", 'documentation_url': 'https://developer.github.com/v3/#rate-limiting'}\n",
      "The offline data may not be the latest\n",
      "Using data in C:\\Users\\Oliver Glanz/text-fabric-data/etcbc/phono/tf/c:\n",
      "\tr1.2 (latest? release)\n",
      "\tconnecting to online GitHub repo etcbc/parallels ... failed\n",
      "GitHub says: 403 {'message': \"API rate limit exceeded for 93.229.46.177. (But here's the good news: Authenticated requests get a higher rate limit. Check out the documentation for more details.)\", 'documentation_url': 'https://developer.github.com/v3/#rate-limiting'}\n",
      "The offline data may not be the latest\n",
      "Using data in C:\\Users\\Oliver Glanz/text-fabric-data/etcbc/parallels/tf/c:\n",
      "\tr1.2 (latest? release)\n",
      "   |     0.00s No structure info in otext, the structure part of the T-API cannot be used\n"
     ]
    },
    {
     "data": {
      "text/html": [
       "<b>Documentation:</b> <a target=\"_blank\" href=\"https://etcbc.github.io/bhsa\" title=\"provenance of BHSA = Biblia Hebraica Stuttgartensia Amstelodamensis\">BHSA</a> <a target=\"_blank\" href=\"https://annotation.github.io/text-fabric/Writing/Hebrew\" title=\"('Hebrew characters and transcriptions',)\">Character table</a> <a target=\"_blank\" href=\"https://etcbc.github.io/bhsa/features/0_home\" title=\"BHSA feature documentation\">Feature docs</a> <a target=\"_blank\" href=\"https://github.com/annotation/app-bhsa\" title=\"bhsa API documentation\">bhsa API</a> <a target=\"_blank\" href=\"https://annotation.github.io/text-fabric/Api/Fabric/\" title=\"text-fabric-api\">Text-Fabric API 7.8.10</a> <a target=\"_blank\" href=\"https://annotation.github.io/text-fabric/Use/Search/\" title=\"Search Templates Introduction and Reference\">Search Reference</a><details open><summary><b>Loaded features</b>:</summary>\n",
       "<p><b>BHSA = Biblia Hebraica Stuttgartensia Amstelodamensis</b>: <a target=\"_blank\" href=\"https://etcbc.github.io/bhsa/features/book\" title=\"C:\\Users\\Oliver Glanz/text-fabric-data/etcbc/bhsa/tf/c/book.tf\">book</a>  <a target=\"_blank\" href=\"https://etcbc.github.io/bhsa/features/book@ll\" title=\"C:\\Users\\Oliver Glanz/text-fabric-data/etcbc/bhsa/tf/c/book@am.tf\">book@ll</a>  <a target=\"_blank\" href=\"https://etcbc.github.io/bhsa/features/chapter\" title=\"C:\\Users\\Oliver Glanz/text-fabric-data/etcbc/bhsa/tf/c/chapter.tf\">chapter</a>  <a target=\"_blank\" href=\"https://etcbc.github.io/bhsa/features/code\" title=\"C:\\Users\\Oliver Glanz/text-fabric-data/etcbc/bhsa/tf/c/code.tf\">code</a>  <a target=\"_blank\" href=\"https://etcbc.github.io/bhsa/features/det\" title=\"C:\\Users\\Oliver Glanz/text-fabric-data/etcbc/bhsa/tf/c/det.tf\">det</a>  <a target=\"_blank\" href=\"https://etcbc.github.io/bhsa/features/domain\" title=\"C:\\Users\\Oliver Glanz/text-fabric-data/etcbc/bhsa/tf/c/domain.tf\">domain</a>  <a target=\"_blank\" href=\"https://etcbc.github.io/bhsa/features/freq_lex\" title=\"C:\\Users\\Oliver Glanz/text-fabric-data/etcbc/bhsa/tf/c/freq_lex.tf\">freq_lex</a>  <a target=\"_blank\" href=\"https://etcbc.github.io/bhsa/features/function\" title=\"C:\\Users\\Oliver Glanz/text-fabric-data/etcbc/bhsa/tf/c/function.tf\">function</a>  <a target=\"_blank\" href=\"https://etcbc.github.io/bhsa/features/g_cons\" title=\"C:\\Users\\Oliver Glanz/text-fabric-data/etcbc/bhsa/tf/c/g_cons.tf\">g_cons</a>  <a target=\"_blank\" href=\"https://etcbc.github.io/bhsa/features/g_cons_utf8\" title=\"C:\\Users\\Oliver Glanz/text-fabric-data/etcbc/bhsa/tf/c/g_cons_utf8.tf\">g_cons_utf8</a>  <a target=\"_blank\" href=\"https://etcbc.github.io/bhsa/features/g_lex\" title=\"C:\\Users\\Oliver Glanz/text-fabric-data/etcbc/bhsa/tf/c/g_lex.tf\">g_lex</a>  <a target=\"_blank\" href=\"https://etcbc.github.io/bhsa/features/g_lex_utf8\" title=\"C:\\Users\\Oliver Glanz/text-fabric-data/etcbc/bhsa/tf/c/g_lex_utf8.tf\">g_lex_utf8</a>  <a target=\"_blank\" href=\"https://etcbc.github.io/bhsa/features/g_word\" title=\"C:\\Users\\Oliver Glanz/text-fabric-data/etcbc/bhsa/tf/c/g_word.tf\">g_word</a>  <a target=\"_blank\" href=\"https://etcbc.github.io/bhsa/features/g_word_utf8\" title=\"C:\\Users\\Oliver Glanz/text-fabric-data/etcbc/bhsa/tf/c/g_word_utf8.tf\">g_word_utf8</a>  <a target=\"_blank\" href=\"https://etcbc.github.io/bhsa/features/gloss\" title=\"C:\\Users\\Oliver Glanz/text-fabric-data/etcbc/bhsa/tf/c/gloss.tf\">gloss</a>  <a target=\"_blank\" href=\"https://etcbc.github.io/bhsa/features/gn\" title=\"C:\\Users\\Oliver Glanz/text-fabric-data/etcbc/bhsa/tf/c/gn.tf\">gn</a>  <a target=\"_blank\" href=\"https://etcbc.github.io/bhsa/features/label\" title=\"C:\\Users\\Oliver Glanz/text-fabric-data/etcbc/bhsa/tf/c/label.tf\">label</a>  <a target=\"_blank\" href=\"https://etcbc.github.io/bhsa/features/language\" title=\"C:\\Users\\Oliver Glanz/text-fabric-data/etcbc/bhsa/tf/c/language.tf\">language</a>  <a target=\"_blank\" href=\"https://etcbc.github.io/bhsa/features/lex\" title=\"C:\\Users\\Oliver Glanz/text-fabric-data/etcbc/bhsa/tf/c/lex.tf\">lex</a>  <a target=\"_blank\" href=\"https://etcbc.github.io/bhsa/features/lex_utf8\" title=\"C:\\Users\\Oliver Glanz/text-fabric-data/etcbc/bhsa/tf/c/lex_utf8.tf\">lex_utf8</a>  <a target=\"_blank\" href=\"https://etcbc.github.io/bhsa/features/ls\" title=\"C:\\Users\\Oliver Glanz/text-fabric-data/etcbc/bhsa/tf/c/ls.tf\">ls</a>  <a target=\"_blank\" href=\"https://etcbc.github.io/bhsa/features/nametype\" title=\"C:\\Users\\Oliver Glanz/text-fabric-data/etcbc/bhsa/tf/c/nametype.tf\">nametype</a>  <a target=\"_blank\" href=\"https://etcbc.github.io/bhsa/features/nme\" title=\"C:\\Users\\Oliver Glanz/text-fabric-data/etcbc/bhsa/tf/c/nme.tf\">nme</a>  <a target=\"_blank\" href=\"https://etcbc.github.io/bhsa/features/nu\" title=\"C:\\Users\\Oliver Glanz/text-fabric-data/etcbc/bhsa/tf/c/nu.tf\">nu</a>  <a target=\"_blank\" href=\"https://etcbc.github.io/bhsa/features/number\" title=\"C:\\Users\\Oliver Glanz/text-fabric-data/etcbc/bhsa/tf/c/number.tf\">number</a>  <a target=\"_blank\" href=\"https://etcbc.github.io/bhsa/features/otype\" title=\"C:\\Users\\Oliver Glanz/text-fabric-data/etcbc/bhsa/tf/c/otype.tf\">otype</a>  <a target=\"_blank\" href=\"https://etcbc.github.io/bhsa/features/pargr\" title=\"C:\\Users\\Oliver Glanz/text-fabric-data/etcbc/bhsa/tf/c/pargr.tf\">pargr</a>  <a target=\"_blank\" href=\"https://etcbc.github.io/bhsa/features/pdp\" title=\"C:\\Users\\Oliver Glanz/text-fabric-data/etcbc/bhsa/tf/c/pdp.tf\">pdp</a>  <a target=\"_blank\" href=\"https://etcbc.github.io/bhsa/features/pfm\" title=\"C:\\Users\\Oliver Glanz/text-fabric-data/etcbc/bhsa/tf/c/pfm.tf\">pfm</a>  <a target=\"_blank\" href=\"https://etcbc.github.io/bhsa/features/prs\" title=\"C:\\Users\\Oliver Glanz/text-fabric-data/etcbc/bhsa/tf/c/prs.tf\">prs</a>  <a target=\"_blank\" href=\"https://etcbc.github.io/bhsa/features/prs_gn\" title=\"C:\\Users\\Oliver Glanz/text-fabric-data/etcbc/bhsa/tf/c/prs_gn.tf\">prs_gn</a>  <a target=\"_blank\" href=\"https://etcbc.github.io/bhsa/features/prs_nu\" title=\"C:\\Users\\Oliver Glanz/text-fabric-data/etcbc/bhsa/tf/c/prs_nu.tf\">prs_nu</a>  <a target=\"_blank\" href=\"https://etcbc.github.io/bhsa/features/prs_ps\" title=\"C:\\Users\\Oliver Glanz/text-fabric-data/etcbc/bhsa/tf/c/prs_ps.tf\">prs_ps</a>  <a target=\"_blank\" href=\"https://etcbc.github.io/bhsa/features/ps\" title=\"C:\\Users\\Oliver Glanz/text-fabric-data/etcbc/bhsa/tf/c/ps.tf\">ps</a>  <a target=\"_blank\" href=\"https://etcbc.github.io/bhsa/features/qere\" title=\"C:\\Users\\Oliver Glanz/text-fabric-data/etcbc/bhsa/tf/c/qere.tf\">qere</a>  <a target=\"_blank\" href=\"https://etcbc.github.io/bhsa/features/qere_trailer\" title=\"C:\\Users\\Oliver Glanz/text-fabric-data/etcbc/bhsa/tf/c/qere_trailer.tf\">qere_trailer</a>  <a target=\"_blank\" href=\"https://etcbc.github.io/bhsa/features/qere_trailer_utf8\" title=\"C:\\Users\\Oliver Glanz/text-fabric-data/etcbc/bhsa/tf/c/qere_trailer_utf8.tf\">qere_trailer_utf8</a>  <a target=\"_blank\" href=\"https://etcbc.github.io/bhsa/features/qere_utf8\" title=\"C:\\Users\\Oliver Glanz/text-fabric-data/etcbc/bhsa/tf/c/qere_utf8.tf\">qere_utf8</a>  <a target=\"_blank\" href=\"https://etcbc.github.io/bhsa/features/rank_lex\" title=\"C:\\Users\\Oliver Glanz/text-fabric-data/etcbc/bhsa/tf/c/rank_lex.tf\">rank_lex</a>  <a target=\"_blank\" href=\"https://etcbc.github.io/bhsa/features/rela\" title=\"C:\\Users\\Oliver Glanz/text-fabric-data/etcbc/bhsa/tf/c/rela.tf\">rela</a>  <a target=\"_blank\" href=\"https://etcbc.github.io/bhsa/features/sp\" title=\"C:\\Users\\Oliver Glanz/text-fabric-data/etcbc/bhsa/tf/c/sp.tf\">sp</a>  <a target=\"_blank\" href=\"https://etcbc.github.io/bhsa/features/st\" title=\"C:\\Users\\Oliver Glanz/text-fabric-data/etcbc/bhsa/tf/c/st.tf\">st</a>  <a target=\"_blank\" href=\"https://etcbc.github.io/bhsa/features/tab\" title=\"C:\\Users\\Oliver Glanz/text-fabric-data/etcbc/bhsa/tf/c/tab.tf\">tab</a>  <a target=\"_blank\" href=\"https://etcbc.github.io/bhsa/features/trailer\" title=\"C:\\Users\\Oliver Glanz/text-fabric-data/etcbc/bhsa/tf/c/trailer.tf\">trailer</a>  <a target=\"_blank\" href=\"https://etcbc.github.io/bhsa/features/trailer_utf8\" title=\"C:\\Users\\Oliver Glanz/text-fabric-data/etcbc/bhsa/tf/c/trailer_utf8.tf\">trailer_utf8</a>  <a target=\"_blank\" href=\"https://etcbc.github.io/bhsa/features/txt\" title=\"C:\\Users\\Oliver Glanz/text-fabric-data/etcbc/bhsa/tf/c/txt.tf\">txt</a>  <a target=\"_blank\" href=\"https://etcbc.github.io/bhsa/features/typ\" title=\"C:\\Users\\Oliver Glanz/text-fabric-data/etcbc/bhsa/tf/c/typ.tf\">typ</a>  <a target=\"_blank\" href=\"https://etcbc.github.io/bhsa/features/uvf\" title=\"C:\\Users\\Oliver Glanz/text-fabric-data/etcbc/bhsa/tf/c/uvf.tf\">uvf</a>  <a target=\"_blank\" href=\"https://etcbc.github.io/bhsa/features/vbe\" title=\"C:\\Users\\Oliver Glanz/text-fabric-data/etcbc/bhsa/tf/c/vbe.tf\">vbe</a>  <a target=\"_blank\" href=\"https://etcbc.github.io/bhsa/features/vbs\" title=\"C:\\Users\\Oliver Glanz/text-fabric-data/etcbc/bhsa/tf/c/vbs.tf\">vbs</a>  <a target=\"_blank\" href=\"https://etcbc.github.io/bhsa/features/verse\" title=\"C:\\Users\\Oliver Glanz/text-fabric-data/etcbc/bhsa/tf/c/verse.tf\">verse</a>  <a target=\"_blank\" href=\"https://etcbc.github.io/bhsa/features/voc_lex\" title=\"C:\\Users\\Oliver Glanz/text-fabric-data/etcbc/bhsa/tf/c/voc_lex.tf\">voc_lex</a>  <a target=\"_blank\" href=\"https://etcbc.github.io/bhsa/features/voc_lex_utf8\" title=\"C:\\Users\\Oliver Glanz/text-fabric-data/etcbc/bhsa/tf/c/voc_lex_utf8.tf\">voc_lex_utf8</a>  <a target=\"_blank\" href=\"https://etcbc.github.io/bhsa/features/vs\" title=\"C:\\Users\\Oliver Glanz/text-fabric-data/etcbc/bhsa/tf/c/vs.tf\">vs</a>  <a target=\"_blank\" href=\"https://etcbc.github.io/bhsa/features/vt\" title=\"C:\\Users\\Oliver Glanz/text-fabric-data/etcbc/bhsa/tf/c/vt.tf\">vt</a>  <b><i><a target=\"_blank\" href=\"https://etcbc.github.io/bhsa/features/mother\" title=\"C:\\Users\\Oliver Glanz/text-fabric-data/etcbc/bhsa/tf/c/mother.tf\">mother</a></i></b>  <b><i><a target=\"_blank\" href=\"https://etcbc.github.io/bhsa/features/oslots\" title=\"C:\\Users\\Oliver Glanz/text-fabric-data/etcbc/bhsa/tf/c/oslots.tf\">oslots</a></i></b> </p><p><b>Parallel Passages</b>: <b><i><a target=\"_blank\" href=\"https://nbviewer.jupyter.org/github/etcbc/parallels/blob/master/programs/parallels.ipynb\" title=\"C:\\Users\\Oliver Glanz/text-fabric-data/etcbc/parallels/tf/c/crossref.tf\">crossref</a></i></b> </p><p><b>Phonetic Transcriptions</b>: <a target=\"_blank\" href=\"https://nbviewer.jupyter.org/github/etcbc/phono/blob/master/programs/phono.ipynb\" title=\"C:\\Users\\Oliver Glanz/text-fabric-data/etcbc/phono/tf/c/phono.tf\">phono</a>  <a target=\"_blank\" href=\"https://nbviewer.jupyter.org/github/etcbc/phono/blob/master/programs/phono.ipynb\" title=\"C:\\Users\\Oliver Glanz/text-fabric-data/etcbc/phono/tf/c/phono_trailer.tf\">phono_trailer</a> </p></details>"
      ],
      "text/plain": [
       "<IPython.core.display.HTML object>"
      ]
     },
     "metadata": {},
     "output_type": "display_data"
    },
    {
     "data": {
      "text/html": [
       "<style>\n",
       "@font-face {\n",
       "  font-family: \"Ezra SIL\";\n",
       "  src:\n",
       "    local(\"SILEOT.ttf\"),\n",
       "    url(\"https://github.com/annotation/text-fabric/blob/master/tf/server/static/fonts/SILEOT.woff?raw=true\");\n",
       "}\n",
       ".features {\n",
       "    font-family: monospace;\n",
       "    font-size: medium;\n",
       "    font-weight: bold;\n",
       "    color: #0a6611;\n",
       "    display: flex;\n",
       "    flex-flow: column nowrap;\n",
       "    padding: 0.1em;\n",
       "    margin: 0.1em;\n",
       "    direction: ltr;\n",
       "}\n",
       ".features div,.features span {\n",
       "    padding: 0;\n",
       "    margin: -0.1rem 0;\n",
       "}\n",
       ".features .f {\n",
       "    font-family: sans-serif;\n",
       "    font-size: x-small;\n",
       "    font-weight: normal;\n",
       "    color: #5555bb;\n",
       "}\n",
       ".features .xft {\n",
       "  color: #000000;\n",
       "  background-color: #eeeeee;\n",
       "  font-size: medium;\n",
       "  margin: 0.1em 0em;\n",
       "}\n",
       ".features .xft .f {\n",
       "  color: #000000;\n",
       "  background-color: #eeeeee;\n",
       "  font-style: italic;\n",
       "  font-size: small;\n",
       "  font-weight: normal;\n",
       "}\n",
       ".ltr {\n",
       "    direction: ltr ! important;\n",
       "}\n",
       ".verse {\n",
       "    display: flex;\n",
       "    flex-flow: row wrap;\n",
       "    direction: rtl;\n",
       "}\n",
       ".vl {\n",
       "    display: flex;\n",
       "    flex-flow: column nowrap;\n",
       "    justify-content: flex-end;\n",
       "    align-items: flex-end;\n",
       "    direction: ltr;\n",
       "    width: 100%;\n",
       "}\n",
       ".outeritem {\n",
       "    display: flex;\n",
       "    flex-flow: row wrap;\n",
       "    direction: rtl;\n",
       "}\n",
       ".sentence,.clause,.phrase {\n",
       "    margin-top: -1.2em;\n",
       "    margin-left: 1em;\n",
       "    background: #ffffff none repeat scroll 0 0;\n",
       "    padding: 0 0.3em;\n",
       "    border-style: solid;\n",
       "    border-radius: 0.2em;\n",
       "    font-size: small;\n",
       "    display: block;\n",
       "    width: fit-content;\n",
       "    max-width: fit-content;\n",
       "    direction: ltr;\n",
       "}\n",
       ".atoms {\n",
       "    display: flex;\n",
       "    flex-flow: row wrap;\n",
       "    margin: 0.3em;\n",
       "    padding: 0.3em;\n",
       "    direction: rtl;\n",
       "    background-color: #ffffff;\n",
       "}\n",
       ".satom,.catom,.patom {\n",
       "    margin: 0.3em;\n",
       "    padding: 0.3em;\n",
       "    border-radius: 0.3em;\n",
       "    border-style: solid;\n",
       "    display: flex;\n",
       "    flex-flow: column nowrap;\n",
       "    direction: rtl;\n",
       "    background-color: #ffffff;\n",
       "}\n",
       ".sentence {\n",
       "    border-color: #aa3333;\n",
       "    border-width: 1px;\n",
       "}\n",
       ".clause {\n",
       "    border-color: #aaaa33;\n",
       "    border-width: 1px;\n",
       "}\n",
       ".phrase {\n",
       "    border-color: #33aaaa;\n",
       "    border-width: 1px;\n",
       "}\n",
       ".satom {\n",
       "    border-color: #aa3333;\n",
       "    border-width: 4px;\n",
       "}\n",
       ".catom {\n",
       "    border-color: #aaaa33;\n",
       "    border-width: 3px;\n",
       "}\n",
       ".patom {\n",
       "    border-color: #33aaaa;\n",
       "    border-width: 3px;\n",
       "}\n",
       ".word {\n",
       "    padding: 0.1em;\n",
       "    margin: 0.1em;\n",
       "    border-radius: 0.1em;\n",
       "    border: 1px solid #cccccc;\n",
       "    display: flex;\n",
       "    flex-flow: column nowrap;\n",
       "    direction: rtl;\n",
       "    background-color: #ffffff;\n",
       "}\n",
       ".lextp {\n",
       "    padding: 0.1em;\n",
       "    margin: 0.1em;\n",
       "    border-radius: 0.1em;\n",
       "    border: 2px solid #888888;\n",
       "    width: fit-content;\n",
       "    display: flex;\n",
       "    flex-flow: column nowrap;\n",
       "    direction: rtl;\n",
       "    background-color: #ffffff;\n",
       "}\n",
       ".occs {\n",
       "    font-size: x-small;\n",
       "}\n",
       ".satom.l,.catom.l,.patom.l {\n",
       "    border-left-style: dotted\n",
       "}\n",
       ".satom.r,.catom.r,.patom.r {\n",
       "    border-right-style: dotted\n",
       "}\n",
       ".satom.lno,.catom.lno,.patom.lno {\n",
       "    border-left-style: none\n",
       "}\n",
       ".satom.rno,.catom.rno,.patom.rno {\n",
       "    border-right-style: none\n",
       "}\n",
       ".tr,.tr a:visited,.tr a:link {\n",
       "    font-family: sans-serif;\n",
       "    font-size: large;\n",
       "    color: #000044;\n",
       "    direction: ltr;\n",
       "    text-decoration: none;\n",
       "}\n",
       ".trb,.trb a:visited,.trb a:link {\n",
       "    font-family: sans-serif;\n",
       "    font-size: normal;\n",
       "    direction: ltr;\n",
       "    text-decoration: none;\n",
       "}\n",
       ".prb,.prb a:visited,.prb a:link {\n",
       "    font-family: sans-serif;\n",
       "    font-size: large;\n",
       "    direction: ltr;\n",
       "    text-decoration: none;\n",
       "}\n",
       ".h,.h a:visited,.h a:link {\n",
       "    font-family: \"Ezra SIL\", \"SBL Hebrew\", sans-serif;\n",
       "    font-size: large;\n",
       "    color: #000044;\n",
       "    direction: rtl;\n",
       "    text-decoration: none;\n",
       "}\n",
       ".hb,.hb a:visited,.hb a:link {\n",
       "    font-family: \"Ezra SIL\", \"SBL Hebrew\", sans-serif;\n",
       "    font-size: large;\n",
       "    line-height: 2;\n",
       "    direction: rtl;\n",
       "    text-decoration: none;\n",
       "}\n",
       ".vn {\n",
       "  font-size: small !important;\n",
       "  padding-right: 1em;\n",
       "}\n",
       ".rela,.function,.typ {\n",
       "    font-family: monospace;\n",
       "    font-size: small;\n",
       "    color: #0000bb;\n",
       "}\n",
       ".pdp,.pdp a:visited,.pdp a:link {\n",
       "    font-family: monospace;\n",
       "    font-size: medium;\n",
       "    color: #0000bb;\n",
       "    text-decoration: none;\n",
       "}\n",
       ".voc_lex {\n",
       "    font-family: monospace;\n",
       "    font-size: medium;\n",
       "    color: #0000bb;\n",
       "}\n",
       ".vs {\n",
       "    font-family: monospace;\n",
       "    font-size: medium;\n",
       "    font-weight: bold;\n",
       "    color: #0000bb;\n",
       "}\n",
       ".vt {\n",
       "    font-family: monospace;\n",
       "    font-size: medium;\n",
       "    font-weight: bold;\n",
       "    color: #0000bb;\n",
       "}\n",
       ".gloss {\n",
       "    font-family: sans-serif;\n",
       "    font-size: small;\n",
       "    font-weight: normal;\n",
       "    color: #444444;\n",
       "}\n",
       ".vrs {\n",
       "    font-family: sans-serif;\n",
       "    font-size: small;\n",
       "    font-weight: bold;\n",
       "    color: #444444;\n",
       "}\n",
       ".nd {\n",
       "    font-family: monospace;\n",
       "    font-size: x-small;\n",
       "    color: #999999;\n",
       "}\n",
       ".hl {\n",
       "    background-color: #ffee66;\n",
       "}\n",
       "\n",
       "tr.tf, td.tf, th.tf {\n",
       "  text-align: left;\n",
       "}\n",
       "\n",
       "span.hldot {\n",
       "\tbackground-color: var(--hl-strong);\n",
       "\tborder: 0.2rem solid var(--hl-rim);\n",
       "\tborder-radius: 0.4rem;\n",
       "\t/*\n",
       "\tdisplay: inline-block;\n",
       "\twidth: 0.8rem;\n",
       "\theight: 0.8rem;\n",
       "\t*/\n",
       "}\n",
       "span.hl {\n",
       "\tbackground-color: var(--hl-strong);\n",
       "\tborder-width: 0;\n",
       "\tborder-radius: 0.1rem;\n",
       "\tborder-style: solid;\n",
       "}\n",
       "\n",
       "span.hlup {\n",
       "\tborder-color: var(--hl-dark);\n",
       "\tborder-width: 0.1rem;\n",
       "\tborder-style: solid;\n",
       "\tborder-radius: 0.2rem;\n",
       "  padding: 0.2rem;\n",
       "}\n",
       "\n",
       ":root {\n",
       "\t--hl-strong:        hsla( 60, 100%,  70%, 0.9  );\n",
       "\t--hl-rim:           hsla( 55, 100%,  60%, 0.9  );\n",
       "\t--hl-dark:          hsla( 55, 100%,  40%, 0.9  );\n",
       "}\n",
       "</style>"
      ],
      "text/plain": [
       "<IPython.core.display.HTML object>"
      ]
     },
     "metadata": {},
     "output_type": "display_data"
    },
    {
     "data": {
      "text/html": [
       "<details open><summary><b>API members</b>:</summary>\n",
       "<a target=\"_blank\" href=\"https://annotation.github.io/text-fabric/Api/Computed/#computed-data\" title=\"doc\">C Computed</a>, <a target=\"_blank\" href=\"https://annotation.github.io/text-fabric/Api/Computed/#computed-data\" title=\"doc\">Call AllComputeds</a>, <a target=\"_blank\" href=\"https://annotation.github.io/text-fabric/Api/Computed/#computed-data\" title=\"doc\">Cs ComputedString</a><br/>\n",
       "<a target=\"_blank\" href=\"https://annotation.github.io/text-fabric/Api/Features/#edge-features\" title=\"doc\">E Edge</a>, <a target=\"_blank\" href=\"https://annotation.github.io/text-fabric/Api/Features/#edge-features\" title=\"doc\">Eall AllEdges</a>, <a target=\"_blank\" href=\"https://annotation.github.io/text-fabric/Api/Features/#edge-features\" title=\"doc\">Es EdgeString</a><br/>\n",
       "<a target=\"_blank\" href=\"https://annotation.github.io/text-fabric/Api/Fabric/#loading\" title=\"doc\">ensureLoaded</a>, <a target=\"_blank\" href=\"https://annotation.github.io/text-fabric/Api/Fabric/#loading\" title=\"doc\">TF</a>, <a target=\"_blank\" href=\"https://annotation.github.io/text-fabric/Api/Fabric/#loading\" title=\"doc\">ignored</a>, <a target=\"_blank\" href=\"https://annotation.github.io/text-fabric/Api/Fabric/#loading\" title=\"doc\">loadLog</a><br/>\n",
       "<a target=\"_blank\" href=\"https://annotation.github.io/text-fabric/Api/Locality/#locality\" title=\"doc\">L Locality</a><br/>\n",
       "<a target=\"_blank\" href=\"https://annotation.github.io/text-fabric/Api/Misc/#messaging\" title=\"doc\">cache</a>, <a target=\"_blank\" href=\"https://annotation.github.io/text-fabric/Api/Misc/#messaging\" title=\"doc\">error</a>, <a target=\"_blank\" href=\"https://annotation.github.io/text-fabric/Api/Misc/#messaging\" title=\"doc\">indent</a>, <a target=\"_blank\" href=\"https://annotation.github.io/text-fabric/Api/Misc/#messaging\" title=\"doc\">info</a>, <a target=\"_blank\" href=\"https://annotation.github.io/text-fabric/Api/Misc/#messaging\" title=\"doc\">isSilent</a>, <a target=\"_blank\" href=\"https://annotation.github.io/text-fabric/Api/Misc/#messaging\" title=\"doc\">reset</a>, <a target=\"_blank\" href=\"https://annotation.github.io/text-fabric/Api/Misc/#messaging\" title=\"doc\">setSilent</a>, <a target=\"_blank\" href=\"https://annotation.github.io/text-fabric/Api/Misc/#messaging\" title=\"doc\">silentOff</a>, <a target=\"_blank\" href=\"https://annotation.github.io/text-fabric/Api/Misc/#messaging\" title=\"doc\">silentOn</a>, <a target=\"_blank\" href=\"https://annotation.github.io/text-fabric/Api/Misc/#messaging\" title=\"doc\">warning</a><br/>\n",
       "<a target=\"_blank\" href=\"https://annotation.github.io/text-fabric/Api/Nodes/#navigating-nodes\" title=\"doc\">N Nodes</a>, <a target=\"_blank\" href=\"https://annotation.github.io/text-fabric/Api/Nodes/#navigating-nodes\" title=\"doc\">sortKey</a>, <a target=\"_blank\" href=\"https://annotation.github.io/text-fabric/Api/Nodes/#navigating-nodes\" title=\"doc\">sortKeyTuple</a>, <a target=\"_blank\" href=\"https://annotation.github.io/text-fabric/Api/Nodes/#navigating-nodes\" title=\"doc\">otypeRank</a>, <a target=\"_blank\" href=\"https://annotation.github.io/text-fabric/Api/Nodes/#navigating-nodes\" title=\"doc\">sortNodes</a><br/>\n",
       "<a target=\"_blank\" href=\"https://annotation.github.io/text-fabric/Api/Features/#node-features\" title=\"doc\">F Feature</a>, <a target=\"_blank\" href=\"https://annotation.github.io/text-fabric/Api/Features/#node-features\" title=\"doc\">Fall AllFeatures</a>, <a target=\"_blank\" href=\"https://annotation.github.io/text-fabric/Api/Features/#node-features\" title=\"doc\">Fs FeatureString</a><br/>\n",
       "<a target=\"_blank\" href=\"https://annotation.github.io/text-fabric/Api/Search/#search\" title=\"doc\">S Search</a><br/>\n",
       "<a target=\"_blank\" href=\"https://annotation.github.io/text-fabric/Api/Text/#text\" title=\"doc\">T Text</a></details>"
      ],
      "text/plain": [
       "<IPython.core.display.HTML object>"
      ]
     },
     "metadata": {},
     "output_type": "display_data"
    }
   ],
   "source": [
    "A = use('bhsa', hoist=globals())"
   ]
  },
  {
   "cell_type": "markdown",
   "metadata": {},
   "source": [
    "## Word plays with same sounding words but different lexemes"
   ]
  },
  {
   "cell_type": "markdown",
   "metadata": {},
   "source": [
    "The feature comparison operators are really powerful! Here they are:\n",
    "\n",
    "\n",
    "| .f.       | left.f = right.f       |\n",
    "| :---       | :---                   |\n",
    "| .f=g.     | left.f = right.g       |\n",
    "| .f\\~r\\~g. | left.f matches right.g |\n",
    "| .f\\#g.    | left.f \\# right.g      |\n",
    "| .f\\>g.    | left.f \\> right.g      |\n",
    "| .f\\<g.    | left.f \\> right.g      |\n",
    "\n",
    "Think for example of the wordplay in Jer 1:11-12:\n",
    "\n",
    "![](https://puzprq.dm.files.1drv.com/y4pwQwVijchIZZDDryPVmuCJ3X5GnuF3eHaQ1IseGGVwcrxdD09Nn8s_B9l48gTsGTslZt5ibsb0_sSNIJkQkm4IWymxlM5vkTvwwZgabTWTFehrRkq3LTu6VXf3V23HU01xqnrYnpRPEedus_DUdGWPgkdnwOlsebRhVjAMTB1jxqmvRvKnIwKIdVFHM5wn-WFpGJ-Ox6-uMTnMm8_d4idag/Annotation%202019-06-11%20173703.png) \n",
    "\n",
    "How could you find all cases where we have two different words that are sharing the same consonants."
   ]
  },
  {
   "cell_type": "code",
   "execution_count": 9,
   "metadata": {},
   "outputs": [
    {
     "name": "stdout",
     "output_type": "stream",
     "text": [
      "  0.57s 1 result\n"
     ]
    },
    {
     "data": {
      "text/html": [
       "<table>\n",
       "<tr class=\"tf\">\n",
       "  <th class=\"tf\">n</th><th class=\"tf\">p</th>\n",
       "  <th class=\"tf\">verse</th><th>word</th>\n",
       "</tr>\n",
       "\n",
       "<tr class=\"tf\"><td class=\"tf\">1</td><td class=\"tf\"> <a href=\"https://shebanq.ancient-data.org/hebrew/text?book=Jeremia&amp;chapter=1&amp;verse=11&amp;version=c&amp;mr=m&amp;qw=q&amp;tp=txt_p&amp;tr=hb&amp;wget=v&amp;qget=v&amp;nget=vt\" title=\"show this passage in SHEBANQ\" sec=\"Jeremiah 1:11\">Jeremiah 1:11</a></td><td class=\"tf\"><span class=\"hb\"><a class=\"vn\" href=\"https://shebanq.ancient-data.org/hebrew/text?book=Jeremia&amp;chapter=1&amp;verse=11&amp;version=c&amp;mr=m&amp;qw=q&amp;tp=txt_p&amp;tr=hb&amp;wget=v&amp;qget=v&amp;nget=vt\" title=\"Jeremiah 1:11\" sec=\"Jeremiah 1:11\"></a>וַיְהִ֤י דְבַר־יְהוָה֙ אֵלַ֣י לֵאמֹ֔ר מָה־אַתָּ֥ה רֹאֶ֖ה יִרְמְיָ֑הוּ וָאֹמַ֕ר מַקֵּ֥ל <span  class=\"hl\" >שָׁקֵ֖ד </span>אֲנִ֥י רֹאֶֽה׃ </span></td><td class=\"tf\"><span class=\"hb\"><span  class=\"hl\" >שָׁקֵ֖ד </span></span></td></tr>\n",
       "<tr class=\"tf\"><td class=\"tf\">2</td><td class=\"tf\"> <a href=\"https://shebanq.ancient-data.org/hebrew/text?book=Jeremia&amp;chapter=1&amp;verse=12&amp;version=c&amp;mr=m&amp;qw=q&amp;tp=txt_p&amp;tr=hb&amp;wget=v&amp;qget=v&amp;nget=vt\" title=\"show this passage in SHEBANQ\" sec=\"Jeremiah 1:12\">Jeremiah 1:12</a></td><td class=\"tf\"><span class=\"hb\"><a class=\"vn\" href=\"https://shebanq.ancient-data.org/hebrew/text?book=Jeremia&amp;chapter=1&amp;verse=12&amp;version=c&amp;mr=m&amp;qw=q&amp;tp=txt_p&amp;tr=hb&amp;wget=v&amp;qget=v&amp;nget=vt\" title=\"Jeremiah 1:12\" sec=\"Jeremiah 1:12\"></a>וַיֹּ֧אמֶר יְהוָ֛ה אֵלַ֖י הֵיטַ֣בְתָּ לִרְאֹ֑ות כִּֽי־<span  class=\"hl\" >שֹׁקֵ֥ד </span>אֲנִ֛י עַל־דְּבָרִ֖י לַעֲשֹׂתֹֽו׃ פ </span></td><td class=\"tf\"><span class=\"hb\"><span  class=\"hl\" >שֹׁקֵ֥ד </span></span></td></tr></table>"
      ],
      "text/plain": [
       "<IPython.core.display.HTML object>"
      ]
     },
     "metadata": {},
     "output_type": "display_data"
    }
   ],
   "source": [
    "DiffLexSameCons = '''\n",
    "chapter book=Jeremia chapter=1\n",
    "    w1:word\n",
    "    <20: w2:word\n",
    "w1 < w2\n",
    "w1 .g_cons=g_cons. w2\n",
    "w1 .lex#lex. w2\n",
    "'''\n",
    "DiffLexSameCons  = A.search(DiffLexSameCons)\n",
    "A.table(DiffLexSameCons, start=1, end=2, condensed=True)"
   ]
  },
  {
   "cell_type": "markdown",
   "metadata": {},
   "source": [
    "## Finding Anaphers"
   ]
  },
  {
   "cell_type": "markdown",
   "metadata": {},
   "source": [
    "In MQL this would be done this way:\n",
    "```\n",
    "select all objects where\n",
    "[book book IN (Threni)\n",
    "\t[clause\n",
    "\t\t[word FOCUS FIRST [word AS samecons]\n",
    "            NOTEXIST [word sp IN (prep,conj,art)]\n",
    "        ]\n",
    "\t]\n",
    "    [clause]*\n",
    "\t[clause\n",
    "\t\t[word FOCUS FIRST [word FOCUS g_cons = samecons.g_cons]]\n",
    "\t]\n",
    "]\n",
    "```"
   ]
  },
  {
   "cell_type": "code",
   "execution_count": 10,
   "metadata": {},
   "outputs": [
    {
     "name": "stdout",
     "output_type": "stream",
     "text": [
      "  2.61s 76 results\n"
     ]
    },
    {
     "data": {
      "text/html": [
       "<table>\n",
       "<tr class=\"tf\">\n",
       "  <th class=\"tf\">n</th><th class=\"tf\">p</th>\n",
       "  <th class=\"tf\">verse</th><th>clause</th><th>clause</th><th>clause</th><th>word</th><th>word</th><th>word</th><th>word</th>\n",
       "</tr>\n",
       "\n",
       "<tr class=\"tf\"><td class=\"tf\">1</td><td class=\"tf\"> <a href=\"https://shebanq.ancient-data.org/hebrew/text?book=Threni&amp;chapter=1&amp;verse=1&amp;version=c&amp;mr=m&amp;qw=q&amp;tp=txt_p&amp;tr=hb&amp;wget=v&amp;qget=v&amp;nget=vt\" title=\"show this passage in SHEBANQ\" sec=\"Lamentations 1:1\">Lamentations 1:1</a></td><td class=\"tf\"><span class=\"hb\"><a class=\"vn\" href=\"https://shebanq.ancient-data.org/hebrew/text?book=Threni&amp;chapter=1&amp;verse=1&amp;version=c&amp;mr=m&amp;qw=q&amp;tp=txt_p&amp;tr=hb&amp;wget=v&amp;qget=v&amp;nget=vt\" title=\"Lamentations 1:1\" sec=\"Lamentations 1:1\"></a>אֵיכָ֣ה׀ יָשְׁבָ֣ה בָדָ֗ד הָעִיר֙ <span  class=\"hl hlup\" >רַבָּ֣תִי </span><span  class=\"hlup\" >עָ֔ם </span><span  class=\"hl hlup\" >הָיְתָ֖ה </span><span  class=\"hlup\" >כְּ</span><span  class=\"hlup\" >אַלְמָנָ֑ה </span><span  class=\"hl hlup\" >רַבָּ֣תִי </span><span  class=\"hlup\" >בַ</span><span  class=\"hlup\" ></span><span  class=\"hlup\" >גֹּויִ֗ם </span><span  class=\"hlup\" >שָׂרָ֨תִי֙ </span><span  class=\"hlup\" >בַּ</span><span  class=\"hlup\" ></span><span  class=\"hlup\" >מְּדִינֹ֔ות </span><span  class=\"hl hlup\" >הָיְתָ֖ה </span><span  class=\"hlup\" >לָ</span><span  class=\"hlup\" >מַֽס׃ ס </span></span></td><td class=\"tf\"><span class=\"hb\"><span  class=\"hl hlup\" >רַבָּ֣תִי </span><span  class=\"hlup\" >עָ֔ם </span></span></td><td class=\"tf\"><span class=\"hb\"><span  class=\"hl hlup\" >הָיְתָ֖ה </span><span  class=\"hlup\" >כְּ</span><span  class=\"hlup\" >אַלְמָנָ֑ה </span><span  class=\"hl hlup\" >רַבָּ֣תִי </span><span  class=\"hlup\" >בַ</span><span  class=\"hlup\" ></span><span  class=\"hlup\" >גֹּויִ֗ם </span></span></td><td class=\"tf\"><span class=\"hb\"><span  class=\"hlup\" >שָׂרָ֨תִי֙ </span><span  class=\"hlup\" >בַּ</span><span  class=\"hlup\" ></span><span  class=\"hlup\" >מְּדִינֹ֔ות </span><span  class=\"hl hlup\" >הָיְתָ֖ה </span><span  class=\"hlup\" >לָ</span><span  class=\"hlup\" >מַֽס׃ ס </span></span></td><td class=\"tf\"><span class=\"hb\"><span  class=\"hl hlup\" >הָיְתָ֖ה </span></span></td><td class=\"tf\"><span class=\"hb\"><span  class=\"hl hlup\" >רַבָּ֣תִי </span></span></td><td class=\"tf\"><span class=\"hb\"><span  class=\"hl hlup\" >הָיְתָ֖ה </span></span></td><td class=\"tf\"><span class=\"hb\"><span  class=\"hl hlup\" >רַבָּ֣תִי </span></span></td></tr>\n",
       "<tr class=\"tf\"><td class=\"tf\">2</td><td class=\"tf\"> <a href=\"https://shebanq.ancient-data.org/hebrew/text?book=Threni&amp;chapter=1&amp;verse=2&amp;version=c&amp;mr=m&amp;qw=q&amp;tp=txt_p&amp;tr=hb&amp;wget=v&amp;qget=v&amp;nget=vt\" title=\"show this passage in SHEBANQ\" sec=\"Lamentations 1:2\">Lamentations 1:2</a></td><td class=\"tf\"><span class=\"hb\"><a class=\"vn\" href=\"https://shebanq.ancient-data.org/hebrew/text?book=Threni&amp;chapter=1&amp;verse=2&amp;version=c&amp;mr=m&amp;qw=q&amp;tp=txt_p&amp;tr=hb&amp;wget=v&amp;qget=v&amp;nget=vt\" title=\"Lamentations 1:2\" sec=\"Lamentations 1:2\"></a>בָּכֹ֨ו תִבְכֶּ֜ה בַּלַּ֗יְלָה וְדִמְעָתָהּ֙ עַ֣ל לֶֽחֱיָ֔הּ <span  class=\"hlup\" >אֵֽין־</span><span  class=\"hlup\" >לָ֥הּ </span><span  class=\"hlup\" >מְנַחֵ֖ם </span><span  class=\"hlup\" >מִ</span><span  class=\"hl hlup\" >כָּל־</span><span  class=\"hlup\" >אֹהֲבֶ֑יהָ </span><span  class=\"hl hlup\" >כָּל־</span><span  class=\"hlup\" >רֵעֶ֨יהָ֙ </span><span  class=\"hlup\" >בָּ֣גְדוּ </span><span  class=\"hlup\" >בָ֔הּ </span>הָ֥יוּ לָ֖הּ לְאֹיְבִֽים׃ ס </span></td><td class=\"tf\"><span class=\"hb\"><span  class=\"hlup\" >אֵֽין־</span><span  class=\"hlup\" >לָ֥הּ </span><span  class=\"hlup\" >מְנַחֵ֖ם </span><span  class=\"hlup\" >מִ</span><span  class=\"hl hlup\" >כָּל־</span><span  class=\"hlup\" >אֹהֲבֶ֑יהָ </span></span></td><td class=\"tf\"><span class=\"hb\"><span  class=\"hl hlup\" >כָּל־</span><span  class=\"hlup\" >רֵעֶ֨יהָ֙ </span><span  class=\"hlup\" >בָּ֣גְדוּ </span><span  class=\"hlup\" >בָ֔הּ </span></span></td><td class=\"tf\"><span class=\"hb\"><span  class=\"hl hlup\" >כָּל־</span></span></td><td class=\"tf\"><span class=\"hb\"><span  class=\"hl hlup\" >כָּל־</span></span></td></tr>\n",
       "<tr class=\"tf\"><td class=\"tf\">3</td><td class=\"tf\"> <a href=\"https://shebanq.ancient-data.org/hebrew/text?book=Threni&amp;chapter=1&amp;verse=3&amp;version=c&amp;mr=m&amp;qw=q&amp;tp=txt_p&amp;tr=hb&amp;wget=v&amp;qget=v&amp;nget=vt\" title=\"show this passage in SHEBANQ\" sec=\"Lamentations 1:3\">Lamentations 1:3</a></td><td class=\"tf\"><span class=\"hb\"><a class=\"vn\" href=\"https://shebanq.ancient-data.org/hebrew/text?book=Threni&amp;chapter=1&amp;verse=3&amp;version=c&amp;mr=m&amp;qw=q&amp;tp=txt_p&amp;tr=hb&amp;wget=v&amp;qget=v&amp;nget=vt\" title=\"Lamentations 1:3\" sec=\"Lamentations 1:3\"></a>גָּֽלְתָ֨ה יְהוּדָ֤ה מֵעֹ֨נִי֙ וּמֵרֹ֣ב עֲבֹדָ֔ה הִ֚יא יָשְׁבָ֣ה בַגֹּויִ֔ם לֹ֥א מָצְאָ֖ה מָנֹ֑וחַ <span  class=\"hl hlup\" >כָּל־</span><span  class=\"hlup\" >רֹדְפֶ֥יהָ </span><span  class=\"hlup\" >הִשִּׂיג֖וּהָ </span><span  class=\"hlup\" >בֵּ֥ין </span><span  class=\"hlup\" >הַ</span><span  class=\"hlup\" >מְּצָרִֽים׃ ס </span></span></td><td class=\"tf\"><span class=\"hb\"><span  class=\"hl hlup\" >כָּל־</span></span></td><td class=\"tf\"><span class=\"hb\"><span  class=\"hl hlup\" >כָּל־</span><span  class=\"hlup\" >רֹדְפֶ֥יהָ </span><span  class=\"hlup\" >הִשִּׂיג֖וּהָ </span><span  class=\"hlup\" >בֵּ֥ין </span><span  class=\"hlup\" >הַ</span><span  class=\"hlup\" >מְּצָרִֽים׃ ס </span></span></td></tr>\n",
       "<tr class=\"tf\"><td class=\"tf\">4</td><td class=\"tf\"> <a href=\"https://shebanq.ancient-data.org/hebrew/text?book=Threni&amp;chapter=1&amp;verse=4&amp;version=c&amp;mr=m&amp;qw=q&amp;tp=txt_p&amp;tr=hb&amp;wget=v&amp;qget=v&amp;nget=vt\" title=\"show this passage in SHEBANQ\" sec=\"Lamentations 1:4\">Lamentations 1:4</a></td><td class=\"tf\"><span class=\"hb\"><a class=\"vn\" href=\"https://shebanq.ancient-data.org/hebrew/text?book=Threni&amp;chapter=1&amp;verse=4&amp;version=c&amp;mr=m&amp;qw=q&amp;tp=txt_p&amp;tr=hb&amp;wget=v&amp;qget=v&amp;nget=vt\" title=\"Lamentations 1:4\" sec=\"Lamentations 1:4\"></a>דַּרְכֵ֨י צִיֹּ֜ון אֲבֵלֹ֗ות מִבְּלִי֙ בָּאֵ֣י מֹועֵ֔ד <span  class=\"hl hlup\" >כָּל־</span><span  class=\"hlup\" >שְׁעָרֶ֨יהָ֙ </span><span  class=\"hlup\" >שֹֽׁומֵמִ֔ין </span>כֹּהֲנֶ֖יהָ נֶאֱנָחִ֑ים בְּתוּלֹתֶ֥יהָ נוּגֹ֖ות וְהִ֥יא מַר־לָֽהּ׃ ס </span></td><td class=\"tf\"><span class=\"hb\"><span  class=\"hl hlup\" >כָּל־</span><span  class=\"hlup\" >שְׁעָרֶ֨יהָ֙ </span><span  class=\"hlup\" >שֹֽׁומֵמִ֔ין </span></span></td><td class=\"tf\"><span class=\"hb\"><span  class=\"hl hlup\" >כָּל־</span></span></td></tr>\n",
       "<tr class=\"tf\"><td class=\"tf\">5</td><td class=\"tf\"> <a href=\"https://shebanq.ancient-data.org/hebrew/text?book=Threni&amp;chapter=1&amp;verse=6&amp;version=c&amp;mr=m&amp;qw=q&amp;tp=txt_p&amp;tr=hb&amp;wget=v&amp;qget=v&amp;nget=vt\" title=\"show this passage in SHEBANQ\" sec=\"Lamentations 1:6\">Lamentations 1:6</a></td><td class=\"tf\"><span class=\"hb\"><a class=\"vn\" href=\"https://shebanq.ancient-data.org/hebrew/text?book=Threni&amp;chapter=1&amp;verse=6&amp;version=c&amp;mr=m&amp;qw=q&amp;tp=txt_p&amp;tr=hb&amp;wget=v&amp;qget=v&amp;nget=vt\" title=\"Lamentations 1:6\" sec=\"Lamentations 1:6\"></a>וַיֵּצֵ֥א מִבַּת־צִיֹּ֖ון כָּל־הֲדָרָ֑הּ הָי֣וּ שָׂרֶ֗יהָ כְּאַיָּלִים֙ <span  class=\"hl hlup\" >לֹא־</span><span  class=\"hlup\" >מָצְא֣וּ </span><span  class=\"hlup\" >מִרְעֶ֔ה </span><span  class=\"hlup\" >וַ</span><span  class=\"hlup\" >יֵּלְכ֥וּ </span><span  class=\"hlup\" >בְ</span><span  class=\"hl hlup\" >לֹא־</span><span  class=\"hlup\" >כֹ֖חַ </span><span  class=\"hlup\" >לִ</span><span  class=\"hlup\" >פְנֵ֥י </span><span  class=\"hlup\" >רֹודֵֽף׃ ס </span></span></td><td class=\"tf\"><span class=\"hb\"><span  class=\"hl hlup\" >לֹא־</span></span></td><td class=\"tf\"><span class=\"hb\"><span  class=\"hl hlup\" >לֹא־</span><span  class=\"hlup\" >מָצְא֣וּ </span><span  class=\"hlup\" >מִרְעֶ֔ה </span></span></td><td class=\"tf\"><span class=\"hb\"><span  class=\"hlup\" >וַ</span><span  class=\"hlup\" >יֵּלְכ֥וּ </span><span  class=\"hlup\" >בְ</span><span  class=\"hl hlup\" >לֹא־</span><span  class=\"hlup\" >כֹ֖חַ </span><span  class=\"hlup\" >לִ</span><span  class=\"hlup\" >פְנֵ֥י </span><span  class=\"hlup\" >רֹודֵֽף׃ ס </span></span></td><td class=\"tf\"><span class=\"hb\"><span  class=\"hl hlup\" >לֹא־</span></span></td></tr>\n",
       "<tr class=\"tf\"><td class=\"tf\">6</td><td class=\"tf\"> <a href=\"https://shebanq.ancient-data.org/hebrew/text?book=Threni&amp;chapter=1&amp;verse=7&amp;version=c&amp;mr=m&amp;qw=q&amp;tp=txt_p&amp;tr=hb&amp;wget=v&amp;qget=v&amp;nget=vt\" title=\"show this passage in SHEBANQ\" sec=\"Lamentations 1:7\">Lamentations 1:7</a></td><td class=\"tf\"><span class=\"hb\"><a class=\"vn\" href=\"https://shebanq.ancient-data.org/hebrew/text?book=Threni&amp;chapter=1&amp;verse=7&amp;version=c&amp;mr=m&amp;qw=q&amp;tp=txt_p&amp;tr=hb&amp;wget=v&amp;qget=v&amp;nget=vt\" title=\"Lamentations 1:7\" sec=\"Lamentations 1:7\"></a><span  class=\"hlup\" >זָֽכְרָ֣ה </span><span  class=\"hlup\" >יְרוּשָׁלִַ֗ם </span><span  class=\"hl hlup\" >יְמֵ֤י </span><span  class=\"hlup\" >עָנְיָהּ֙ </span><span  class=\"hlup\" >וּ</span><span  class=\"hlup\" >מְרוּדֶ֔יהָ </span><span  class=\"hlup\" >כֹּ֚ל </span><span  class=\"hlup\" >מַחֲמֻדֶ֔יהָ </span><span  class=\"hlup\" >אֲשֶׁ֥ר </span><span  class=\"hlup\" >הָי֖וּ </span><span  class=\"hlup\" >מִ֣</span><span  class=\"hl hlup\" >ימֵי </span><span  class=\"hlup\" >קֶ֑דֶם </span>בִּנְפֹ֧ל עַמָּ֣הּ בְּיַד־צָ֗ר וְאֵ֤ין עֹוזֵר֙ לָ֔הּ רָא֣וּהָ צָרִ֔ים שָׂחֲק֖וּ עַ֥ל מִשְׁבַּתֶּֽהָ׃ ס </span></td><td class=\"tf\"><span class=\"hb\"><span  class=\"hl hlup\" >יְמֵ֤י </span></span></td><td class=\"tf\"><span class=\"hb\"><span  class=\"hl hlup\" >ימֵי </span></span></td><td class=\"tf\"><span class=\"hb\"><span  class=\"hlup\" >זָֽכְרָ֣ה </span><span  class=\"hlup\" >יְרוּשָׁלִַ֗ם </span><span  class=\"hl hlup\" >יְמֵ֤י </span><span  class=\"hlup\" >עָנְיָהּ֙ </span><span  class=\"hlup\" >וּ</span><span  class=\"hlup\" >מְרוּדֶ֔יהָ </span><span  class=\"hlup\" >כֹּ֚ל </span><span  class=\"hlup\" >מַחֲמֻדֶ֔יהָ </span></span></td><td class=\"tf\"><span class=\"hb\"><span  class=\"hlup\" >אֲשֶׁ֥ר </span><span  class=\"hlup\" >הָי֖וּ </span><span  class=\"hlup\" >מִ֣</span><span  class=\"hl hlup\" >ימֵי </span><span  class=\"hlup\" >קֶ֑דֶם </span></span></td></tr>\n",
       "<tr class=\"tf\"><td class=\"tf\">7</td><td class=\"tf\"> <a href=\"https://shebanq.ancient-data.org/hebrew/text?book=Threni&amp;chapter=1&amp;verse=14&amp;version=c&amp;mr=m&amp;qw=q&amp;tp=txt_p&amp;tr=hb&amp;wget=v&amp;qget=v&amp;nget=vt\" title=\"show this passage in SHEBANQ\" sec=\"Lamentations 1:14\">Lamentations 1:14</a></td><td class=\"tf\"><span class=\"hb\"><a class=\"vn\" href=\"https://shebanq.ancient-data.org/hebrew/text?book=Threni&amp;chapter=1&amp;verse=14&amp;version=c&amp;mr=m&amp;qw=q&amp;tp=txt_p&amp;tr=hb&amp;wget=v&amp;qget=v&amp;nget=vt\" title=\"Lamentations 1:14\" sec=\"Lamentations 1:14\"></a><span  class=\"hlup\" >נִשְׂקַד֩ </span><span  class=\"hl hlup\" >עֹ֨ל </span><span  class=\"hlup\" >פְּשָׁעַ֜י </span><span  class=\"hlup\" >בְּ</span><span  class=\"hlup\" >יָדֹ֗ו </span>יִשְׂתָּֽרְג֛וּ <span  class=\"hlup\" >עָל֥וּ </span><span  class=\"hl hlup\" >עַל־</span><span  class=\"hlup\" >צַוָּארִ֖י </span>הִכְשִׁ֣יל כֹּחִ֑י <span  class=\"hlup\" >נְתָנַ֣נִי </span><span  class=\"hl hlup\" >אֲדֹנָ֔י </span><span  class=\"hlup\" >בִּ</span><span  class=\"hlup\" >ידֵ֖י </span>לֹא־אוּכַ֥ל קֽוּם׃ ס </span></td><td class=\"tf\"><span class=\"hb\"><span  class=\"hl hlup\" >עֹ֨ל </span></span></td><td class=\"tf\"><span class=\"hb\"><span  class=\"hlup\" >נִשְׂקַד֩ </span><span  class=\"hl hlup\" >עֹ֨ל </span><span  class=\"hlup\" >פְּשָׁעַ֜י </span><span  class=\"hlup\" >בְּ</span><span  class=\"hlup\" >יָדֹ֗ו </span></span></td><td class=\"tf\"><span class=\"hb\"><span  class=\"hl hlup\" >עַל־</span></span></td><td class=\"tf\"><span class=\"hb\"><span  class=\"hlup\" >עָל֥וּ </span><span  class=\"hl hlup\" >עַל־</span><span  class=\"hlup\" >צַוָּארִ֖י </span></span></td><td class=\"tf\"><span class=\"hb\"><span  class=\"hlup\" >נְתָנַ֣נִי </span><span  class=\"hl hlup\" >אֲדֹנָ֔י </span><span  class=\"hlup\" >בִּ</span><span  class=\"hlup\" >ידֵ֖י </span></span></td><td class=\"tf\"><span class=\"hb\"><span  class=\"hl hlup\" >אֲדֹנָ֔י </span></span></td></tr>\n",
       "<tr class=\"tf\"><td class=\"tf\">8</td><td class=\"tf\"> <a href=\"https://shebanq.ancient-data.org/hebrew/text?book=Threni&amp;chapter=1&amp;verse=15&amp;version=c&amp;mr=m&amp;qw=q&amp;tp=txt_p&amp;tr=hb&amp;wget=v&amp;qget=v&amp;nget=vt\" title=\"show this passage in SHEBANQ\" sec=\"Lamentations 1:15\">Lamentations 1:15</a></td><td class=\"tf\"><span class=\"hb\"><a class=\"vn\" href=\"https://shebanq.ancient-data.org/hebrew/text?book=Threni&amp;chapter=1&amp;verse=15&amp;version=c&amp;mr=m&amp;qw=q&amp;tp=txt_p&amp;tr=hb&amp;wget=v&amp;qget=v&amp;nget=vt\" title=\"Lamentations 1:15\" sec=\"Lamentations 1:15\"></a><span  class=\"hlup\" >סִלָּ֨ה </span><span  class=\"hlup\" >כָל־</span><span  class=\"hlup\" >אַבִּירַ֤י׀ </span><span  class=\"hl hlup\" >אֲדֹנָי֙ </span><span  class=\"hlup\" >בְּ</span><span  class=\"hlup\" >קִרְבִּ֔י </span>קָרָ֥א עָלַ֛י מֹועֵ֖ד לִשְׁבֹּ֣ר בַּחוּרָ֑י <span  class=\"hlup\" >גַּ֚ת </span><span  class=\"hlup\" >דָּרַ֣ךְ </span><span  class=\"hl hlup\" >אֲדֹנָ֔י </span><span  class=\"hlup\" >לִ</span><span  class=\"hlup\" >בְתוּלַ֖ת </span><span  class=\"hlup\" >בַּת־</span><span  class=\"hlup\" >יְהוּדָֽה׃ ס </span></span></td><td class=\"tf\"><span class=\"hb\"><span  class=\"hl hlup\" >אֲדֹנָ֔י </span></span></td><td class=\"tf\"><span class=\"hb\"><span  class=\"hlup\" >סִלָּ֨ה </span><span  class=\"hlup\" >כָל־</span><span  class=\"hlup\" >אַבִּירַ֤י׀ </span><span  class=\"hl hlup\" >אֲדֹנָי֙ </span><span  class=\"hlup\" >בְּ</span><span  class=\"hlup\" >קִרְבִּ֔י </span></span></td><td class=\"tf\"><span class=\"hb\"><span  class=\"hl hlup\" >אֲדֹנָי֙ </span></span></td><td class=\"tf\"><span class=\"hb\"><span  class=\"hlup\" >גַּ֚ת </span><span  class=\"hlup\" >דָּרַ֣ךְ </span><span  class=\"hl hlup\" >אֲדֹנָ֔י </span><span  class=\"hlup\" >לִ</span><span  class=\"hlup\" >בְתוּלַ֖ת </span><span  class=\"hlup\" >בַּת־</span><span  class=\"hlup\" >יְהוּדָֽה׃ ס </span></span></td></tr>\n",
       "<tr class=\"tf\"><td class=\"tf\">9</td><td class=\"tf\"> <a href=\"https://shebanq.ancient-data.org/hebrew/text?book=Threni&amp;chapter=1&amp;verse=17&amp;version=c&amp;mr=m&amp;qw=q&amp;tp=txt_p&amp;tr=hb&amp;wget=v&amp;qget=v&amp;nget=vt\" title=\"show this passage in SHEBANQ\" sec=\"Lamentations 1:17\">Lamentations 1:17</a></td><td class=\"tf\"><span class=\"hb\"><a class=\"vn\" href=\"https://shebanq.ancient-data.org/hebrew/text?book=Threni&amp;chapter=1&amp;verse=17&amp;version=c&amp;mr=m&amp;qw=q&amp;tp=txt_p&amp;tr=hb&amp;wget=v&amp;qget=v&amp;nget=vt\" title=\"Lamentations 1:17\" sec=\"Lamentations 1:17\"></a>פֵּֽרְשָׂ֨ה צִיֹּ֜ון בְּיָדֶ֗יהָ אֵ֤ין מְנַחֵם֙ לָ֔הּ <span  class=\"hlup\" >צִוָּ֧ה </span><span  class=\"hl hlup\" >יְהוָ֛ה </span><span  class=\"hlup\" >לְ</span><span  class=\"hlup\" >יַעֲקֹ֖ב </span><span  class=\"hlup\" >סְבִיבָ֣יו </span><span  class=\"hlup\" >צָרָ֑יו </span>הָיְתָ֧ה יְרוּשָׁלִַ֛ם לְנִדָּ֖ה בֵּינֵיהֶֽם׃ ס </span></td><td class=\"tf\"><span class=\"hb\"><span  class=\"hl hlup\" >יְהוָ֛ה </span></span></td><td class=\"tf\"><span class=\"hb\"><span  class=\"hlup\" >צִוָּ֧ה </span><span  class=\"hl hlup\" >יְהוָ֛ה </span><span  class=\"hlup\" >לְ</span><span  class=\"hlup\" >יַעֲקֹ֖ב </span><span  class=\"hlup\" >סְבִיבָ֣יו </span><span  class=\"hlup\" >צָרָ֑יו </span></span></td></tr>\n",
       "<tr class=\"tf\"><td class=\"tf\">10</td><td class=\"tf\"> <a href=\"https://shebanq.ancient-data.org/hebrew/text?book=Threni&amp;chapter=1&amp;verse=18&amp;version=c&amp;mr=m&amp;qw=q&amp;tp=txt_p&amp;tr=hb&amp;wget=v&amp;qget=v&amp;nget=vt\" title=\"show this passage in SHEBANQ\" sec=\"Lamentations 1:18\">Lamentations 1:18</a></td><td class=\"tf\"><span class=\"hb\"><a class=\"vn\" href=\"https://shebanq.ancient-data.org/hebrew/text?book=Threni&amp;chapter=1&amp;verse=18&amp;version=c&amp;mr=m&amp;qw=q&amp;tp=txt_p&amp;tr=hb&amp;wget=v&amp;qget=v&amp;nget=vt\" title=\"Lamentations 1:18\" sec=\"Lamentations 1:18\"></a><span  class=\"hlup\" >צַדִּ֥יק </span><span  class=\"hlup\" >ה֛וּא </span><span  class=\"hl hlup\" >יְהוָ֖ה </span>כִּ֣י פִ֣יהוּ מָרִ֑יתִי שִׁמְעוּ־נָ֣א כָל־הָֽעַמִּ֗ים וּרְאוּ֙ מַכְאֹבִ֔י בְּתוּלֹתַ֥י וּבַחוּרַ֖י הָלְכ֥וּ בַשֶּֽׁבִי׃ ס </span></td><td class=\"tf\"><span class=\"hb\"><span  class=\"hlup\" >צַדִּ֥יק </span><span  class=\"hlup\" >ה֛וּא </span><span  class=\"hl hlup\" >יְהוָ֖ה </span></span></td><td class=\"tf\"><span class=\"hb\"><span  class=\"hl hlup\" >יְהוָ֖ה </span></span></td></tr></table>"
      ],
      "text/plain": [
       "<IPython.core.display.HTML object>"
      ]
     },
     "metadata": {},
     "output_type": "display_data"
    }
   ],
   "source": [
    "Anapher1 = '''\n",
    "book book=Threni\n",
    "    c1:clause\n",
    "        w1:word sp#prep|conj|art\n",
    "    c2:clause\n",
    "        w2:word\n",
    "c1 <10: c2\n",
    "c1   <  c2\n",
    "w1 .g_cons=g_cons. w2\n",
    "'''\n",
    "Anapher1  = A.search(Anapher1)\n",
    "A.table(Anapher1, start=1, end=10, condensed=True)"
   ]
  },
  {
   "cell_type": "markdown",
   "metadata": {},
   "source": [
    "## Syntactical Parallelism"
   ]
  },
  {
   "cell_type": "code",
   "execution_count": 11,
   "metadata": {},
   "outputs": [
    {
     "name": "stdout",
     "output_type": "stream",
     "text": [
      "  1.91s 10 results\n"
     ]
    },
    {
     "data": {
      "text/html": [
       "<table>\n",
       "<tr class=\"tf\">\n",
       "  <th class=\"tf\">n</th><th class=\"tf\">p</th>\n",
       "  <th class=\"tf\">verse</th><th>word</th><th>clause</th><th>clause</th><th>word</th><th>phrase</th><th>phrase</th><th>phrase</th><th>phrase</th><th>phrase</th><th>phrase</th><th>phrase</th><th>phrase</th>\n",
       "</tr>\n",
       "\n",
       "<tr class=\"tf\"><td class=\"tf\">1</td><td class=\"tf\"> <a href=\"https://shebanq.ancient-data.org/hebrew/text?book=Psalmi&amp;chapter=1&amp;verse=1&amp;version=c&amp;mr=m&amp;qw=q&amp;tp=txt_p&amp;tr=hb&amp;wget=v&amp;qget=v&amp;nget=vt\" title=\"show this passage in SHEBANQ\" sec=\"Psalms 1:1\">Psalms 1:1</a></td><td class=\"tf\"><span class=\"hb\"><a class=\"vn\" href=\"https://shebanq.ancient-data.org/hebrew/text?book=Psalmi&amp;chapter=1&amp;verse=1&amp;version=c&amp;mr=m&amp;qw=q&amp;tp=txt_p&amp;tr=hb&amp;wget=v&amp;qget=v&amp;nget=vt\" title=\"Psalms 1:1\" sec=\"Psalms 1:1\"></a>אַ֥שְֽׁרֵי־הָאִ֗ישׁ אֲשֶׁ֤ר׀ לֹ֥א הָלַךְ֮ בַּעֲצַ֪ת רְשָׁ֫עִ֥ים <span  class=\"hl hlup\"  style=\"background-color: magenta;border-color: magenta;\" >וּ</span><span  class=\"hlup\"  style=\"border-color: magenta;\" >בְ</span><span  class=\"hlup\"  style=\"border-color: magenta;\" >דֶ֣רֶךְ </span><span  class=\"hlup\"  style=\"border-color: magenta;\" >חַ֭טָּאִים </span><span  class=\"hlup\"  style=\"border-color: magenta;\" >לֹ֥א </span><span  class=\"hlup\"  style=\"border-color: magenta;\" >עָמָ֑ד </span><span  class=\"hl hlup\"  style=\"background-color: magenta;border-color: magenta;\" >וּ</span><span  class=\"hlup\"  style=\"border-color: magenta;\" >בְ</span><span  class=\"hlup\"  style=\"border-color: magenta;\" >מֹושַׁ֥ב </span><span  class=\"hlup\"  style=\"border-color: magenta;\" >לֵ֝צִ֗ים </span><span  class=\"hlup\"  style=\"border-color: magenta;\" >לֹ֣א </span><span  class=\"hlup\"  style=\"border-color: magenta;\" >יָשָֽׁב׃ </span></span></td><td class=\"tf\"><span class=\"hb\"><span  class=\"hl hlup\"  style=\"background-color: magenta;border-color: magenta;\" >וּ</span></span></td><td class=\"tf\"><span class=\"hb\"><span  class=\"hl hlup\"  style=\"background-color: magenta;border-color: magenta;\" >וּ</span><span  class=\"hlup\"  style=\"border-color: magenta;\" >בְ</span><span  class=\"hlup\"  style=\"border-color: magenta;\" >דֶ֣רֶךְ </span><span  class=\"hlup\"  style=\"border-color: magenta;\" >חַ֭טָּאִים </span><span  class=\"hlup\"  style=\"border-color: magenta;\" >לֹ֥א </span><span  class=\"hlup\"  style=\"border-color: magenta;\" >עָמָ֑ד </span></span></td><td class=\"tf\"><span class=\"hb\"><span  class=\"hl hlup\"  style=\"background-color: magenta;border-color: magenta;\" >וּ</span><span  class=\"hlup\"  style=\"border-color: magenta;\" >בְ</span><span  class=\"hlup\"  style=\"border-color: magenta;\" >מֹושַׁ֥ב </span><span  class=\"hlup\"  style=\"border-color: magenta;\" >לֵ֝צִ֗ים </span><span  class=\"hlup\"  style=\"border-color: magenta;\" >לֹ֣א </span><span  class=\"hlup\"  style=\"border-color: magenta;\" >יָשָֽׁב׃ </span></span></td><td class=\"tf\"><span class=\"hb\"><span  class=\"hl hlup\"  style=\"background-color: magenta;border-color: magenta;\" >וּ</span></span></td><td class=\"tf\"><span class=\"hb\"><span  class=\"hl hlup\"  style=\"background-color: magenta;border-color: magenta;\" >וּ</span></span></td><td class=\"tf\"><span class=\"hb\"><span  class=\"hlup\"  style=\"border-color: magenta;\" >בְ</span><span  class=\"hlup\"  style=\"border-color: magenta;\" >דֶ֣רֶךְ </span><span  class=\"hlup\"  style=\"border-color: magenta;\" >חַ֭טָּאִים </span></span></td><td class=\"tf\"><span class=\"hb\"><span  class=\"hlup\"  style=\"border-color: magenta;\" >לֹ֥א </span></span></td><td class=\"tf\"><span class=\"hb\"><span  class=\"hlup\"  style=\"border-color: magenta;\" >עָמָ֑ד </span></span></td><td class=\"tf\"><span class=\"hb\"><span  class=\"hl hlup\"  style=\"background-color: magenta;border-color: magenta;\" >וּ</span></span></td><td class=\"tf\"><span class=\"hb\"><span  class=\"hlup\"  style=\"border-color: magenta;\" >בְ</span><span  class=\"hlup\"  style=\"border-color: magenta;\" >מֹושַׁ֥ב </span><span  class=\"hlup\"  style=\"border-color: magenta;\" >לֵ֝צִ֗ים </span></span></td><td class=\"tf\"><span class=\"hb\"><span  class=\"hlup\"  style=\"border-color: magenta;\" >לֹ֣א </span></span></td><td class=\"tf\"><span class=\"hb\"><span  class=\"hlup\"  style=\"border-color: magenta;\" >יָשָֽׁב׃ </span></span></td></tr>\n",
       "<tr class=\"tf\"><td class=\"tf\">2</td><td class=\"tf\"> <a href=\"https://shebanq.ancient-data.org/hebrew/text?book=Psalmi&amp;chapter=13&amp;verse=2&amp;version=c&amp;mr=m&amp;qw=q&amp;tp=txt_p&amp;tr=hb&amp;wget=v&amp;qget=v&amp;nget=vt\" title=\"show this passage in SHEBANQ\" sec=\"Psalms 13:2\">Psalms 13:2</a></td><td class=\"tf\"><span class=\"hb\"><a class=\"vn\" href=\"https://shebanq.ancient-data.org/hebrew/text?book=Psalmi&amp;chapter=13&amp;verse=2&amp;version=c&amp;mr=m&amp;qw=q&amp;tp=txt_p&amp;tr=hb&amp;wget=v&amp;qget=v&amp;nget=vt\" title=\"Psalms 13:2\" sec=\"Psalms 13:2\"></a>עַד־אָ֣נָה יְ֭הוָה תִּשְׁכָּחֵ֣נִי נֶ֑צַח <span  class=\"hl hlup\"  style=\"background-color: magenta;border-color: magenta;\" >עַד־</span><span  class=\"hl hlup\"  style=\"background-color: magenta;border-color: magenta;\" >אָ֓נָה׀ </span><span  class=\"hlup\"  style=\"border-color: magenta;\" >תַּסְתִּ֖יר </span><span  class=\"hlup\"  style=\"border-color: magenta;\" >אֶת־</span><span  class=\"hlup\"  style=\"border-color: magenta;\" >פָּנֶ֣יךָ </span><span  class=\"hlup\"  style=\"border-color: magenta;\" >מִמֶּֽנִּי׃ </span></span></td><td class=\"tf\"><span class=\"hb\"><span  class=\"hl hlup\"  style=\"background-color: magenta;border-color: magenta;\" >עַד־</span><span  class=\"hl hlup\"  style=\"background-color: magenta;border-color: magenta;\" >אָ֓נָה׀ </span></span></td><td class=\"tf\"><span class=\"hb\"><span  class=\"hlup\"  style=\"border-color: magenta;\" >תַּסְתִּ֖יר </span></span></td><td class=\"tf\"><span class=\"hb\"><span  class=\"hl hlup\"  style=\"background-color: magenta;border-color: magenta;\" >עַד־</span></span></td><td class=\"tf\"><span class=\"hb\"><span  class=\"hlup\"  style=\"border-color: magenta;\" >אֶת־</span><span  class=\"hlup\"  style=\"border-color: magenta;\" >פָּנֶ֣יךָ </span></span></td><td class=\"tf\"><span class=\"hb\"><span  class=\"hlup\"  style=\"border-color: magenta;\" >מִמֶּֽנִּי׃ </span></span></td><td class=\"tf\"><span class=\"hb\"><span  class=\"hl hlup\"  style=\"background-color: magenta;border-color: magenta;\" >אָ֓נָה׀ </span></span></td><td class=\"tf\"><span class=\"hb\"><span  class=\"hl hlup\"  style=\"background-color: magenta;border-color: magenta;\" >עַד־</span><span  class=\"hl hlup\"  style=\"background-color: magenta;border-color: magenta;\" >אָ֓נָה׀ </span><span  class=\"hlup\"  style=\"border-color: magenta;\" >תַּסְתִּ֖יר </span><span  class=\"hlup\"  style=\"border-color: magenta;\" >אֶת־</span><span  class=\"hlup\"  style=\"border-color: magenta;\" >פָּנֶ֣יךָ </span><span  class=\"hlup\"  style=\"border-color: magenta;\" >מִמֶּֽנִּי׃ </span></span></td></tr>\n",
       "<tr class=\"tf\"><td class=\"tf\">3</td><td class=\"tf\"> <a href=\"https://shebanq.ancient-data.org/hebrew/text?book=Psalmi&amp;chapter=13&amp;verse=3&amp;version=c&amp;mr=m&amp;qw=q&amp;tp=txt_p&amp;tr=hb&amp;wget=v&amp;qget=v&amp;nget=vt\" title=\"show this passage in SHEBANQ\" sec=\"Psalms 13:3\">Psalms 13:3</a></td><td class=\"tf\"><span class=\"hb\"><a class=\"vn\" href=\"https://shebanq.ancient-data.org/hebrew/text?book=Psalmi&amp;chapter=13&amp;verse=3&amp;version=c&amp;mr=m&amp;qw=q&amp;tp=txt_p&amp;tr=hb&amp;wget=v&amp;qget=v&amp;nget=vt\" title=\"Psalms 13:3\" sec=\"Psalms 13:3\"></a><span  class=\"hl hlup\"  style=\"background-color: magenta;border-color: magenta;\" >עַד־</span><span  class=\"hl hlup\"  style=\"background-color: magenta;border-color: magenta;\" >אָ֨נָה </span><span  class=\"hlup\"  style=\"border-color: magenta;\" >אָשִׁ֪ית </span><span  class=\"hlup\"  style=\"border-color: magenta;\" >עֵצֹ֡ות </span><span  class=\"hlup\"  style=\"border-color: magenta;\" >בְּ</span><span  class=\"hlup\"  style=\"border-color: magenta;\" >נַפְשִׁ֗י </span>יָגֹ֣ון בִּלְבָבִ֣י יֹומָ֑ם עַד־אָ֓נָה׀ יָר֖וּם אֹיְבִ֣י עָלָֽי׃ </span></td><td class=\"tf\"><span class=\"hb\"><span  class=\"hl hlup\"  style=\"background-color: magenta;border-color: magenta;\" >עַד־</span><span  class=\"hl hlup\"  style=\"background-color: magenta;border-color: magenta;\" >אָ֨נָה </span></span></td><td class=\"tf\"><span class=\"hb\"><span  class=\"hlup\"  style=\"border-color: magenta;\" >אָשִׁ֪ית </span></span></td><td class=\"tf\"><span class=\"hb\"><span  class=\"hlup\"  style=\"border-color: magenta;\" >עֵצֹ֡ות </span></span></td><td class=\"tf\"><span class=\"hb\"><span  class=\"hlup\"  style=\"border-color: magenta;\" >בְּ</span><span  class=\"hlup\"  style=\"border-color: magenta;\" >נַפְשִׁ֗י </span></span></td><td class=\"tf\"><span class=\"hb\"><span  class=\"hl hlup\"  style=\"background-color: magenta;border-color: magenta;\" >עַד־</span></span></td><td class=\"tf\"><span class=\"hb\"><span  class=\"hl hlup\"  style=\"background-color: magenta;border-color: magenta;\" >אָ֨נָה </span></span></td><td class=\"tf\"><span class=\"hb\"><span  class=\"hl hlup\"  style=\"background-color: magenta;border-color: magenta;\" >עַד־</span><span  class=\"hl hlup\"  style=\"background-color: magenta;border-color: magenta;\" >אָ֨נָה </span><span  class=\"hlup\"  style=\"border-color: magenta;\" >אָשִׁ֪ית </span><span  class=\"hlup\"  style=\"border-color: magenta;\" >עֵצֹ֡ות </span><span  class=\"hlup\"  style=\"border-color: magenta;\" >בְּ</span><span  class=\"hlup\"  style=\"border-color: magenta;\" >נַפְשִׁ֗י </span></span></td></tr>\n",
       "<tr class=\"tf\"><td class=\"tf\">4</td><td class=\"tf\"> <a href=\"https://shebanq.ancient-data.org/hebrew/text?book=Psalmi&amp;chapter=22&amp;verse=25&amp;version=c&amp;mr=m&amp;qw=q&amp;tp=txt_p&amp;tr=hb&amp;wget=v&amp;qget=v&amp;nget=vt\" title=\"show this passage in SHEBANQ\" sec=\"Psalms 22:25\">Psalms 22:25</a></td><td class=\"tf\"><span class=\"hb\"><a class=\"vn\" href=\"https://shebanq.ancient-data.org/hebrew/text?book=Psalmi&amp;chapter=22&amp;verse=25&amp;version=c&amp;mr=m&amp;qw=q&amp;tp=txt_p&amp;tr=hb&amp;wget=v&amp;qget=v&amp;nget=vt\" title=\"Psalms 22:25\" sec=\"Psalms 22:25\"></a>כִּ֤י לֹֽא־בָזָ֨ה <span  class=\"hl hlup\"  style=\"background-color: magenta;border-color: magenta;\" >וְ</span><span  class=\"hlup\"  style=\"border-color: magenta;\" >לֹ֪א </span><span  class=\"hlup\"  style=\"border-color: magenta;\" >שִׁקַּ֡ץ </span><span  class=\"hlup\"  style=\"border-color: magenta;\" >עֱנ֬וּת </span><span  class=\"hlup\"  style=\"border-color: magenta;\" >עָנִ֗י </span><span  class=\"hl hlup\"  style=\"background-color: magenta;border-color: magenta;\" >וְ</span><span  class=\"hlup\"  style=\"border-color: magenta;\" >לֹא־</span><span  class=\"hlup\"  style=\"border-color: magenta;\" >הִסְתִּ֣יר </span><span  class=\"hlup\"  style=\"border-color: magenta;\" >פָּנָ֣יו </span><span  class=\"hlup\"  style=\"border-color: magenta;\" >מִמֶּ֑נּוּ </span>וּֽבְשַׁוְּעֹ֖ו אֵלָ֣יו שָׁמֵֽעַ׃ </span></td><td class=\"tf\"><span class=\"hb\"><span  class=\"hl hlup\"  style=\"background-color: magenta;border-color: magenta;\" >וְ</span></span></td><td class=\"tf\"><span class=\"hb\"><span  class=\"hl hlup\"  style=\"background-color: magenta;border-color: magenta;\" >וְ</span></span></td><td class=\"tf\"><span class=\"hb\"><span  class=\"hl hlup\"  style=\"background-color: magenta;border-color: magenta;\" >וְ</span><span  class=\"hlup\"  style=\"border-color: magenta;\" >לֹ֪א </span><span  class=\"hlup\"  style=\"border-color: magenta;\" >שִׁקַּ֡ץ </span><span  class=\"hlup\"  style=\"border-color: magenta;\" >עֱנ֬וּת </span><span  class=\"hlup\"  style=\"border-color: magenta;\" >עָנִ֗י </span></span></td><td class=\"tf\"><span class=\"hb\"><span  class=\"hl hlup\"  style=\"background-color: magenta;border-color: magenta;\" >וְ</span><span  class=\"hlup\"  style=\"border-color: magenta;\" >לֹא־</span><span  class=\"hlup\"  style=\"border-color: magenta;\" >הִסְתִּ֣יר </span><span  class=\"hlup\"  style=\"border-color: magenta;\" >פָּנָ֣יו </span><span  class=\"hlup\"  style=\"border-color: magenta;\" >מִמֶּ֑נּוּ </span></span></td><td class=\"tf\"><span class=\"hb\"><span  class=\"hl hlup\"  style=\"background-color: magenta;border-color: magenta;\" >וְ</span></span></td><td class=\"tf\"><span class=\"hb\"><span  class=\"hlup\"  style=\"border-color: magenta;\" >לֹ֪א </span></span></td><td class=\"tf\"><span class=\"hb\"><span  class=\"hlup\"  style=\"border-color: magenta;\" >שִׁקַּ֡ץ </span></span></td><td class=\"tf\"><span class=\"hb\"><span  class=\"hlup\"  style=\"border-color: magenta;\" >עֱנ֬וּת </span><span  class=\"hlup\"  style=\"border-color: magenta;\" >עָנִ֗י </span></span></td><td class=\"tf\"><span class=\"hb\"><span  class=\"hl hlup\"  style=\"background-color: magenta;border-color: magenta;\" >וְ</span></span></td><td class=\"tf\"><span class=\"hb\"><span  class=\"hlup\"  style=\"border-color: magenta;\" >לֹא־</span></span></td><td class=\"tf\"><span class=\"hb\"><span  class=\"hlup\"  style=\"border-color: magenta;\" >הִסְתִּ֣יר </span></span></td><td class=\"tf\"><span class=\"hb\"><span  class=\"hlup\"  style=\"border-color: magenta;\" >פָּנָ֣יו </span></span></td></tr>\n",
       "<tr class=\"tf\"><td class=\"tf\">5</td><td class=\"tf\"> <a href=\"https://shebanq.ancient-data.org/hebrew/text?book=Psalmi&amp;chapter=22&amp;verse=28&amp;version=c&amp;mr=m&amp;qw=q&amp;tp=txt_p&amp;tr=hb&amp;wget=v&amp;qget=v&amp;nget=vt\" title=\"show this passage in SHEBANQ\" sec=\"Psalms 22:28\">Psalms 22:28</a></td><td class=\"tf\"><span class=\"hb\"><a class=\"vn\" href=\"https://shebanq.ancient-data.org/hebrew/text?book=Psalmi&amp;chapter=22&amp;verse=28&amp;version=c&amp;mr=m&amp;qw=q&amp;tp=txt_p&amp;tr=hb&amp;wget=v&amp;qget=v&amp;nget=vt\" title=\"Psalms 22:28\" sec=\"Psalms 22:28\"></a>יִזְכְּר֤וּ׀ <span  class=\"hl hlup\"  style=\"background-color: magenta;border-color: magenta;\" >וְ</span><span  class=\"hlup\"  style=\"border-color: magenta;\" >יָשֻׁ֣בוּ </span><span  class=\"hlup\"  style=\"border-color: magenta;\" >אֶל־</span><span  class=\"hlup\"  style=\"border-color: magenta;\" >יְ֭הוָה </span><span  class=\"hlup\"  style=\"border-color: magenta;\" >כָּל־</span><span  class=\"hlup\"  style=\"border-color: magenta;\" >אַפְסֵי־</span><span  class=\"hlup\"  style=\"border-color: magenta;\" >אָ֑רֶץ </span><span  class=\"hl hlup\"  style=\"background-color: magenta;border-color: magenta;\" >וְ</span><span  class=\"hlup\"  style=\"border-color: magenta;\" >יִֽשְׁתַּחֲו֥וּ </span><span  class=\"hlup\"  style=\"border-color: magenta;\" >לְ֝</span><span  class=\"hlup\"  style=\"border-color: magenta;\" >פָנֶ֗יךָ </span>כָּֽל־מִשְׁפְּחֹ֥ות גֹּויִֽם׃ </span></td><td class=\"tf\"><span class=\"hb\"><span  class=\"hlup\"  style=\"border-color: magenta;\" >לְ֝</span><span  class=\"hlup\"  style=\"border-color: magenta;\" >פָנֶ֗יךָ </span></span></td><td class=\"tf\"><span class=\"hb\"><span  class=\"hl hlup\"  style=\"background-color: magenta;border-color: magenta;\" >וְ</span></span></td><td class=\"tf\"><span class=\"hb\"><span  class=\"hl hlup\"  style=\"background-color: magenta;border-color: magenta;\" >וְ</span></span></td><td class=\"tf\"><span class=\"hb\"><span  class=\"hlup\"  style=\"border-color: magenta;\" >יָשֻׁ֣בוּ </span></span></td><td class=\"tf\"><span class=\"hb\"><span  class=\"hlup\"  style=\"border-color: magenta;\" >אֶל־</span><span  class=\"hlup\"  style=\"border-color: magenta;\" >יְ֭הוָה </span></span></td><td class=\"tf\"><span class=\"hb\"><span  class=\"hlup\"  style=\"border-color: magenta;\" >כָּל־</span><span  class=\"hlup\"  style=\"border-color: magenta;\" >אַפְסֵי־</span><span  class=\"hlup\"  style=\"border-color: magenta;\" >אָ֑רֶץ </span></span></td><td class=\"tf\"><span class=\"hb\"><span  class=\"hl hlup\"  style=\"background-color: magenta;border-color: magenta;\" >וְ</span></span></td><td class=\"tf\"><span class=\"hb\"><span  class=\"hl hlup\"  style=\"background-color: magenta;border-color: magenta;\" >וְ</span></span></td><td class=\"tf\"><span class=\"hb\"><span  class=\"hlup\"  style=\"border-color: magenta;\" >יִֽשְׁתַּחֲו֥וּ </span></span></td><td class=\"tf\"><span class=\"hb\">כָּֽל־מִשְׁפְּחֹ֥ות גֹּויִֽם׃ </span></td><td class=\"tf\"><span class=\"hb\"><span  class=\"hl hlup\"  style=\"background-color: magenta;border-color: magenta;\" >וְ</span><span  class=\"hlup\"  style=\"border-color: magenta;\" >יָשֻׁ֣בוּ </span><span  class=\"hlup\"  style=\"border-color: magenta;\" >אֶל־</span><span  class=\"hlup\"  style=\"border-color: magenta;\" >יְ֭הוָה </span><span  class=\"hlup\"  style=\"border-color: magenta;\" >כָּל־</span><span  class=\"hlup\"  style=\"border-color: magenta;\" >אַפְסֵי־</span><span  class=\"hlup\"  style=\"border-color: magenta;\" >אָ֑רֶץ </span></span></td><td class=\"tf\"><span class=\"hb\"><span  class=\"hl hlup\"  style=\"background-color: magenta;border-color: magenta;\" >וְ</span><span  class=\"hlup\"  style=\"border-color: magenta;\" >יִֽשְׁתַּחֲו֥וּ </span><span  class=\"hlup\"  style=\"border-color: magenta;\" >לְ֝</span><span  class=\"hlup\"  style=\"border-color: magenta;\" >פָנֶ֗יךָ </span>כָּֽל־מִשְׁפְּחֹ֥ות גֹּויִֽם׃ </span></td></tr>\n",
       "<tr class=\"tf\"><td class=\"tf\">6</td><td class=\"tf\"> <a href=\"https://shebanq.ancient-data.org/hebrew/text?book=Psalmi&amp;chapter=38&amp;verse=4&amp;version=c&amp;mr=m&amp;qw=q&amp;tp=txt_p&amp;tr=hb&amp;wget=v&amp;qget=v&amp;nget=vt\" title=\"show this passage in SHEBANQ\" sec=\"Psalms 38:4\">Psalms 38:4</a></td><td class=\"tf\"><span class=\"hb\"><a class=\"vn\" href=\"https://shebanq.ancient-data.org/hebrew/text?book=Psalmi&amp;chapter=38&amp;verse=4&amp;version=c&amp;mr=m&amp;qw=q&amp;tp=txt_p&amp;tr=hb&amp;wget=v&amp;qget=v&amp;nget=vt\" title=\"Psalms 38:4\" sec=\"Psalms 38:4\"></a><span  class=\"hl hlup\"  style=\"background-color: magenta;border-color: magenta;\" >אֵין־</span><span  class=\"hlup\"  style=\"border-color: magenta;\" >מְתֹ֣ם </span><span  class=\"hlup\"  style=\"border-color: magenta;\" >בִּ֭</span><span  class=\"hlup\"  style=\"border-color: magenta;\" >בְשָׂרִי </span><span  class=\"hlup\"  style=\"border-color: magenta;\" >מִ</span><span  class=\"hlup\"  style=\"border-color: magenta;\" >פְּנֵ֣י </span><span  class=\"hlup\"  style=\"border-color: magenta;\" >זַעְמֶ֑ךָ </span><span  class=\"hl hlup\"  style=\"background-color: magenta;border-color: magenta;\" >אֵין־</span><span  class=\"hlup\"  style=\"border-color: magenta;\" >שָׁלֹ֥ום </span><span  class=\"hlup\"  style=\"border-color: magenta;\" >בַּ֝</span><span  class=\"hlup\"  style=\"border-color: magenta;\" >עֲצָמַ֗י </span>מִפְּנֵ֥י חַטָּאתִֽי׃ </span></td><td class=\"tf\"><span class=\"hb\"><span  class=\"hl hlup\"  style=\"background-color: magenta;border-color: magenta;\" >אֵין־</span></span></td><td class=\"tf\"><span class=\"hb\"><span  class=\"hl hlup\"  style=\"background-color: magenta;border-color: magenta;\" >אֵין־</span></span></td><td class=\"tf\"><span class=\"hb\"><span  class=\"hlup\"  style=\"border-color: magenta;\" >מְתֹ֣ם </span></span></td><td class=\"tf\"><span class=\"hb\"><span  class=\"hlup\"  style=\"border-color: magenta;\" >בִּ֭</span><span  class=\"hlup\"  style=\"border-color: magenta;\" >בְשָׂרִי </span></span></td><td class=\"tf\"><span class=\"hb\"><span  class=\"hlup\"  style=\"border-color: magenta;\" >מִ</span><span  class=\"hlup\"  style=\"border-color: magenta;\" >פְּנֵ֣י </span><span  class=\"hlup\"  style=\"border-color: magenta;\" >זַעְמֶ֑ךָ </span></span></td><td class=\"tf\"><span class=\"hb\"><span  class=\"hl hlup\"  style=\"background-color: magenta;border-color: magenta;\" >אֵין־</span></span></td><td class=\"tf\"><span class=\"hb\"><span  class=\"hl hlup\"  style=\"background-color: magenta;border-color: magenta;\" >אֵין־</span></span></td><td class=\"tf\"><span class=\"hb\"><span  class=\"hlup\"  style=\"border-color: magenta;\" >שָׁלֹ֥ום </span></span></td><td class=\"tf\"><span class=\"hb\"><span  class=\"hlup\"  style=\"border-color: magenta;\" >בַּ֝</span><span  class=\"hlup\"  style=\"border-color: magenta;\" >עֲצָמַ֗י </span></span></td><td class=\"tf\"><span class=\"hb\">מִפְּנֵ֥י חַטָּאתִֽי׃ </span></td><td class=\"tf\"><span class=\"hb\"><span  class=\"hl hlup\"  style=\"background-color: magenta;border-color: magenta;\" >אֵין־</span><span  class=\"hlup\"  style=\"border-color: magenta;\" >מְתֹ֣ם </span><span  class=\"hlup\"  style=\"border-color: magenta;\" >בִּ֭</span><span  class=\"hlup\"  style=\"border-color: magenta;\" >בְשָׂרִי </span><span  class=\"hlup\"  style=\"border-color: magenta;\" >מִ</span><span  class=\"hlup\"  style=\"border-color: magenta;\" >פְּנֵ֣י </span><span  class=\"hlup\"  style=\"border-color: magenta;\" >זַעְמֶ֑ךָ </span></span></td><td class=\"tf\"><span class=\"hb\"><span  class=\"hl hlup\"  style=\"background-color: magenta;border-color: magenta;\" >אֵין־</span><span  class=\"hlup\"  style=\"border-color: magenta;\" >שָׁלֹ֥ום </span><span  class=\"hlup\"  style=\"border-color: magenta;\" >בַּ֝</span><span  class=\"hlup\"  style=\"border-color: magenta;\" >עֲצָמַ֗י </span>מִפְּנֵ֥י חַטָּאתִֽי׃ </span></td></tr>\n",
       "<tr class=\"tf\"><td class=\"tf\">7</td><td class=\"tf\"> <a href=\"https://shebanq.ancient-data.org/hebrew/text?book=Psalmi&amp;chapter=78&amp;verse=21&amp;version=c&amp;mr=m&amp;qw=q&amp;tp=txt_p&amp;tr=hb&amp;wget=v&amp;qget=v&amp;nget=vt\" title=\"show this passage in SHEBANQ\" sec=\"Psalms 78:21\">Psalms 78:21</a></td><td class=\"tf\"><span class=\"hb\"><a class=\"vn\" href=\"https://shebanq.ancient-data.org/hebrew/text?book=Psalmi&amp;chapter=78&amp;verse=21&amp;version=c&amp;mr=m&amp;qw=q&amp;tp=txt_p&amp;tr=hb&amp;wget=v&amp;qget=v&amp;nget=vt\" title=\"Psalms 78:21\" sec=\"Psalms 78:21\"></a>לָכֵ֤ן׀ שָׁמַ֥ע יְהוָ֗ה וַֽיִּתְעַבָּ֥ר <span  class=\"hl hlup\"  style=\"background-color: magenta;border-color: magenta;\" >וְ֭</span><span  class=\"hlup\"  style=\"border-color: magenta;\" >אֵשׁ </span><span  class=\"hlup\"  style=\"border-color: magenta;\" >נִשְּׂקָ֣ה </span><span  class=\"hlup\"  style=\"border-color: magenta;\" >בְ</span><span  class=\"hlup\"  style=\"border-color: magenta;\" >יַעֲקֹ֑ב </span><span  class=\"hlup\"  style=\"border-color: magenta;\" >וְ</span><span  class=\"hlup\"  style=\"border-color: magenta;\" >גַם־</span><span  class=\"hlup\"  style=\"border-color: magenta;\" >אַ֝֗ף </span><span  class=\"hlup\"  style=\"border-color: magenta;\" >עָלָ֥ה </span><span  class=\"hlup\"  style=\"border-color: magenta;\" >בְ</span><span  class=\"hlup\"  style=\"border-color: magenta;\" >יִשְׂרָאֵֽל׃ </span></span></td><td class=\"tf\"><span class=\"hb\"><span  class=\"hlup\"  style=\"border-color: magenta;\" >עָלָ֥ה </span></span></td><td class=\"tf\"><span class=\"hb\"><span  class=\"hl hlup\"  style=\"background-color: magenta;border-color: magenta;\" >וְ֭</span></span></td><td class=\"tf\"><span class=\"hb\"><span  class=\"hl hlup\"  style=\"background-color: magenta;border-color: magenta;\" >וְ֭</span><span  class=\"hlup\"  style=\"border-color: magenta;\" >אֵשׁ </span><span  class=\"hlup\"  style=\"border-color: magenta;\" >נִשְּׂקָ֣ה </span><span  class=\"hlup\"  style=\"border-color: magenta;\" >בְ</span><span  class=\"hlup\"  style=\"border-color: magenta;\" >יַעֲקֹ֑ב </span></span></td><td class=\"tf\"><span class=\"hb\"><span  class=\"hlup\"  style=\"border-color: magenta;\" >נִשְּׂקָ֣ה </span></span></td><td class=\"tf\"><span class=\"hb\"><span  class=\"hlup\"  style=\"border-color: magenta;\" >אֵשׁ </span></span></td><td class=\"tf\"><span class=\"hb\"><span  class=\"hlup\"  style=\"border-color: magenta;\" >בְ</span><span  class=\"hlup\"  style=\"border-color: magenta;\" >יַעֲקֹ֑ב </span></span></td><td class=\"tf\"><span class=\"hb\"><span  class=\"hlup\"  style=\"border-color: magenta;\" >וְ</span><span  class=\"hlup\"  style=\"border-color: magenta;\" >גַם־</span><span  class=\"hlup\"  style=\"border-color: magenta;\" >אַ֝֗ף </span><span  class=\"hlup\"  style=\"border-color: magenta;\" >עָלָ֥ה </span><span  class=\"hlup\"  style=\"border-color: magenta;\" >בְ</span><span  class=\"hlup\"  style=\"border-color: magenta;\" >יִשְׂרָאֵֽל׃ </span></span></td><td class=\"tf\"><span class=\"hb\"><span  class=\"hl hlup\"  style=\"background-color: magenta;border-color: magenta;\" >וְ֭</span></span></td><td class=\"tf\"><span class=\"hb\"><span  class=\"hlup\"  style=\"border-color: magenta;\" >וְ</span></span></td><td class=\"tf\"><span class=\"hb\"><span  class=\"hlup\"  style=\"border-color: magenta;\" >גַם־</span><span  class=\"hlup\"  style=\"border-color: magenta;\" >אַ֝֗ף </span></span></td><td class=\"tf\"><span class=\"hb\"><span  class=\"hlup\"  style=\"border-color: magenta;\" >בְ</span><span  class=\"hlup\"  style=\"border-color: magenta;\" >יִשְׂרָאֵֽל׃ </span></span></td><td class=\"tf\"><span class=\"hb\"><span  class=\"hlup\"  style=\"border-color: magenta;\" >וְ</span></span></td></tr>\n",
       "<tr class=\"tf\"><td class=\"tf\">8</td><td class=\"tf\"> <a href=\"https://shebanq.ancient-data.org/hebrew/text?book=Psalmi&amp;chapter=94&amp;verse=16&amp;version=c&amp;mr=m&amp;qw=q&amp;tp=txt_p&amp;tr=hb&amp;wget=v&amp;qget=v&amp;nget=vt\" title=\"show this passage in SHEBANQ\" sec=\"Psalms 94:16\">Psalms 94:16</a></td><td class=\"tf\"><span class=\"hb\"><a class=\"vn\" href=\"https://shebanq.ancient-data.org/hebrew/text?book=Psalmi&amp;chapter=94&amp;verse=16&amp;version=c&amp;mr=m&amp;qw=q&amp;tp=txt_p&amp;tr=hb&amp;wget=v&amp;qget=v&amp;nget=vt\" title=\"Psalms 94:16\" sec=\"Psalms 94:16\"></a><span  class=\"hl hlup\"  style=\"background-color: magenta;border-color: magenta;\" >מִֽי־</span><span  class=\"hlup\"  style=\"border-color: magenta;\" >יָק֣וּם </span><span  class=\"hlup\"  style=\"border-color: magenta;\" >לִ֭י </span><span  class=\"hlup\"  style=\"border-color: magenta;\" >עִם־</span><span  class=\"hlup\"  style=\"border-color: magenta;\" >מְרֵעִ֑ים </span><span  class=\"hl hlup\"  style=\"background-color: magenta;border-color: magenta;\" >מִֽי־</span><span  class=\"hlup\"  style=\"border-color: magenta;\" >יִתְיַצֵּ֥ב </span><span  class=\"hlup\"  style=\"border-color: magenta;\" >לִ֝י </span><span  class=\"hlup\"  style=\"border-color: magenta;\" >עִם־</span><span  class=\"hlup\"  style=\"border-color: magenta;\" >פֹּ֥עֲלֵי </span><span  class=\"hlup\"  style=\"border-color: magenta;\" >אָֽוֶן׃ </span></span></td><td class=\"tf\"><span class=\"hb\"><span  class=\"hl hlup\"  style=\"background-color: magenta;border-color: magenta;\" >מִֽי־</span></span></td><td class=\"tf\"><span class=\"hb\"><span  class=\"hl hlup\"  style=\"background-color: magenta;border-color: magenta;\" >מִֽי־</span></span></td><td class=\"tf\"><span class=\"hb\"><span  class=\"hlup\"  style=\"border-color: magenta;\" >יָק֣וּם </span></span></td><td class=\"tf\"><span class=\"hb\"><span  class=\"hlup\"  style=\"border-color: magenta;\" >לִ֭י </span></span></td><td class=\"tf\"><span class=\"hb\"><span  class=\"hl hlup\"  style=\"background-color: magenta;border-color: magenta;\" >מִֽי־</span><span  class=\"hlup\"  style=\"border-color: magenta;\" >יָק֣וּם </span><span  class=\"hlup\"  style=\"border-color: magenta;\" >לִ֭י </span><span  class=\"hlup\"  style=\"border-color: magenta;\" >עִם־</span><span  class=\"hlup\"  style=\"border-color: magenta;\" >מְרֵעִ֑ים </span></span></td><td class=\"tf\"><span class=\"hb\"><span  class=\"hlup\"  style=\"border-color: magenta;\" >עִם־</span><span  class=\"hlup\"  style=\"border-color: magenta;\" >מְרֵעִ֑ים </span></span></td><td class=\"tf\"><span class=\"hb\"><span  class=\"hl hlup\"  style=\"background-color: magenta;border-color: magenta;\" >מִֽי־</span><span  class=\"hlup\"  style=\"border-color: magenta;\" >יִתְיַצֵּ֥ב </span><span  class=\"hlup\"  style=\"border-color: magenta;\" >לִ֝י </span><span  class=\"hlup\"  style=\"border-color: magenta;\" >עִם־</span><span  class=\"hlup\"  style=\"border-color: magenta;\" >פֹּ֥עֲלֵי </span><span  class=\"hlup\"  style=\"border-color: magenta;\" >אָֽוֶן׃ </span></span></td><td class=\"tf\"><span class=\"hb\"><span  class=\"hl hlup\"  style=\"background-color: magenta;border-color: magenta;\" >מִֽי־</span></span></td><td class=\"tf\"><span class=\"hb\"><span  class=\"hl hlup\"  style=\"background-color: magenta;border-color: magenta;\" >מִֽי־</span></span></td><td class=\"tf\"><span class=\"hb\"><span  class=\"hlup\"  style=\"border-color: magenta;\" >יִתְיַצֵּ֥ב </span></span></td><td class=\"tf\"><span class=\"hb\"><span  class=\"hlup\"  style=\"border-color: magenta;\" >לִ֝י </span></span></td><td class=\"tf\"><span class=\"hb\"><span  class=\"hlup\"  style=\"border-color: magenta;\" >עִם־</span><span  class=\"hlup\"  style=\"border-color: magenta;\" >פֹּ֥עֲלֵי </span><span  class=\"hlup\"  style=\"border-color: magenta;\" >אָֽוֶן׃ </span></span></td></tr>\n",
       "<tr class=\"tf\"><td class=\"tf\">9</td><td class=\"tf\"> <a href=\"https://shebanq.ancient-data.org/hebrew/text?book=Psalmi&amp;chapter=106&amp;verse=14&amp;version=c&amp;mr=m&amp;qw=q&amp;tp=txt_p&amp;tr=hb&amp;wget=v&amp;qget=v&amp;nget=vt\" title=\"show this passage in SHEBANQ\" sec=\"Psalms 106:14\">Psalms 106:14</a></td><td class=\"tf\"><span class=\"hb\"><a class=\"vn\" href=\"https://shebanq.ancient-data.org/hebrew/text?book=Psalmi&amp;chapter=106&amp;verse=14&amp;version=c&amp;mr=m&amp;qw=q&amp;tp=txt_p&amp;tr=hb&amp;wget=v&amp;qget=v&amp;nget=vt\" title=\"Psalms 106:14\" sec=\"Psalms 106:14\"></a><span  class=\"hl hlup\"  style=\"background-color: magenta;border-color: magenta;\" >וַ</span><span  class=\"hlup\"  style=\"border-color: magenta;\" >יִּתְאַוּ֣וּ </span><span  class=\"hlup\"  style=\"border-color: magenta;\" >תַ֭אֲוָה </span><span  class=\"hlup\"  style=\"border-color: magenta;\" >בַּ</span><span  class=\"hlup\"  style=\"border-color: magenta;\" ></span><span  class=\"hlup\"  style=\"border-color: magenta;\" >מִּדְבָּ֑ר </span><span  class=\"hl hlup\"  style=\"background-color: magenta;border-color: magenta;\" >וַ</span><span  class=\"hlup\"  style=\"border-color: magenta;\" >יְנַסּוּ־</span><span  class=\"hlup\"  style=\"border-color: magenta;\" >אֵ֝֗ל </span><span  class=\"hlup\"  style=\"border-color: magenta;\" >בִּֽ</span><span  class=\"hlup\"  style=\"border-color: magenta;\" >ישִׁימֹֽון׃ </span></span></td><td class=\"tf\"><span class=\"hb\"><span  class=\"hlup\"  style=\"border-color: magenta;\" >יְנַסּוּ־</span></span></td><td class=\"tf\"><span class=\"hb\"><span  class=\"hlup\"  style=\"border-color: magenta;\" >אֵ֝֗ל </span></span></td><td class=\"tf\"><span class=\"hb\"><span  class=\"hlup\"  style=\"border-color: magenta;\" >בִּֽ</span><span  class=\"hlup\"  style=\"border-color: magenta;\" >ישִׁימֹֽון׃ </span></span></td><td class=\"tf\"><span class=\"hb\"><span  class=\"hl hlup\"  style=\"background-color: magenta;border-color: magenta;\" >וַ</span></span></td><td class=\"tf\"><span class=\"hb\"><span  class=\"hl hlup\"  style=\"background-color: magenta;border-color: magenta;\" >וַ</span><span  class=\"hlup\"  style=\"border-color: magenta;\" >יִּתְאַוּ֣וּ </span><span  class=\"hlup\"  style=\"border-color: magenta;\" >תַ֭אֲוָה </span><span  class=\"hlup\"  style=\"border-color: magenta;\" >בַּ</span><span  class=\"hlup\"  style=\"border-color: magenta;\" ></span><span  class=\"hlup\"  style=\"border-color: magenta;\" >מִּדְבָּ֑ר </span></span></td><td class=\"tf\"><span class=\"hb\"><span  class=\"hl hlup\"  style=\"background-color: magenta;border-color: magenta;\" >וַ</span><span  class=\"hlup\"  style=\"border-color: magenta;\" >יְנַסּוּ־</span><span  class=\"hlup\"  style=\"border-color: magenta;\" >אֵ֝֗ל </span><span  class=\"hlup\"  style=\"border-color: magenta;\" >בִּֽ</span><span  class=\"hlup\"  style=\"border-color: magenta;\" >ישִׁימֹֽון׃ </span></span></td><td class=\"tf\"><span class=\"hb\"><span  class=\"hl hlup\"  style=\"background-color: magenta;border-color: magenta;\" >וַ</span></span></td><td class=\"tf\"><span class=\"hb\"><span  class=\"hl hlup\"  style=\"background-color: magenta;border-color: magenta;\" >וַ</span></span></td><td class=\"tf\"><span class=\"hb\"><span  class=\"hlup\"  style=\"border-color: magenta;\" >יִּתְאַוּ֣וּ </span></span></td><td class=\"tf\"><span class=\"hb\"><span  class=\"hlup\"  style=\"border-color: magenta;\" >תַ֭אֲוָה </span></span></td><td class=\"tf\"><span class=\"hb\"><span  class=\"hlup\"  style=\"border-color: magenta;\" >בַּ</span><span  class=\"hlup\"  style=\"border-color: magenta;\" ></span><span  class=\"hlup\"  style=\"border-color: magenta;\" >מִּדְבָּ֑ר </span></span></td><td class=\"tf\"><span class=\"hb\"><span  class=\"hl hlup\"  style=\"background-color: magenta;border-color: magenta;\" >וַ</span></span></td></tr>\n",
       "<tr class=\"tf\"><td class=\"tf\">10</td><td class=\"tf\"> <a href=\"https://shebanq.ancient-data.org/hebrew/text?book=Psalmi&amp;chapter=144&amp;verse=10&amp;version=c&amp;mr=m&amp;qw=q&amp;tp=txt_p&amp;tr=hb&amp;wget=v&amp;qget=v&amp;nget=vt\" title=\"show this passage in SHEBANQ\" sec=\"Psalms 144:10\">Psalms 144:10</a></td><td class=\"tf\"><span class=\"hb\"><a class=\"vn\" href=\"https://shebanq.ancient-data.org/hebrew/text?book=Psalmi&amp;chapter=144&amp;verse=10&amp;version=c&amp;mr=m&amp;qw=q&amp;tp=txt_p&amp;tr=hb&amp;wget=v&amp;qget=v&amp;nget=vt\" title=\"Psalms 144:10\" sec=\"Psalms 144:10\"></a><span  class=\"hl hlup\"  style=\"background-color: magenta;border-color: magenta;\" >הַ</span><span  class=\"hlup\"  style=\"border-color: magenta;\" >נֹּותֵ֥ן </span><span  class=\"hlup\"  style=\"border-color: magenta;\" >תְּשׁוּעָ֗ה </span><span  class=\"hlup\"  style=\"border-color: magenta;\" >לַ</span><span  class=\"hlup\"  style=\"border-color: magenta;\" ></span><span  class=\"hlup\"  style=\"border-color: magenta;\" >מְּלָ֫כִ֥ים </span><span  class=\"hl hlup\"  style=\"background-color: magenta;border-color: magenta;\" >הַ֭</span><span  class=\"hlup\"  style=\"border-color: magenta;\" >פֹּוצֶה </span><span  class=\"hlup\"  style=\"border-color: magenta;\" >אֶת־</span><span  class=\"hlup\"  style=\"border-color: magenta;\" >דָּוִ֥ד </span><span  class=\"hlup\"  style=\"border-color: magenta;\" >עַבְדֹּ֗ו </span><span  class=\"hlup\"  style=\"border-color: magenta;\" >מֵ</span><span  class=\"hlup\"  style=\"border-color: magenta;\" >חֶ֥רֶב </span><span  class=\"hlup\"  style=\"border-color: magenta;\" >רָעָֽה׃ </span></span></td><td class=\"tf\"><span class=\"hb\"><span  class=\"hlup\"  style=\"border-color: magenta;\" >פֹּוצֶה </span></span></td><td class=\"tf\"><span class=\"hb\"><span  class=\"hlup\"  style=\"border-color: magenta;\" >אֶת־</span><span  class=\"hlup\"  style=\"border-color: magenta;\" >דָּוִ֥ד </span><span  class=\"hlup\"  style=\"border-color: magenta;\" >עַבְדֹּ֗ו </span></span></td><td class=\"tf\"><span class=\"hb\"><span  class=\"hlup\"  style=\"border-color: magenta;\" >מֵ</span><span  class=\"hlup\"  style=\"border-color: magenta;\" >חֶ֥רֶב </span><span  class=\"hlup\"  style=\"border-color: magenta;\" >רָעָֽה׃ </span></span></td><td class=\"tf\"><span class=\"hb\"><span  class=\"hl hlup\"  style=\"background-color: magenta;border-color: magenta;\" >הַ֭</span></span></td><td class=\"tf\"><span class=\"hb\"><span  class=\"hl hlup\"  style=\"background-color: magenta;border-color: magenta;\" >הַ</span><span  class=\"hlup\"  style=\"border-color: magenta;\" >נֹּותֵ֥ן </span><span  class=\"hlup\"  style=\"border-color: magenta;\" >תְּשׁוּעָ֗ה </span><span  class=\"hlup\"  style=\"border-color: magenta;\" >לַ</span><span  class=\"hlup\"  style=\"border-color: magenta;\" ></span><span  class=\"hlup\"  style=\"border-color: magenta;\" >מְּלָ֫כִ֥ים </span></span></td><td class=\"tf\"><span class=\"hb\"><span  class=\"hl hlup\"  style=\"background-color: magenta;border-color: magenta;\" >הַ֭</span><span  class=\"hlup\"  style=\"border-color: magenta;\" >פֹּוצֶה </span><span  class=\"hlup\"  style=\"border-color: magenta;\" >אֶת־</span><span  class=\"hlup\"  style=\"border-color: magenta;\" >דָּוִ֥ד </span><span  class=\"hlup\"  style=\"border-color: magenta;\" >עַבְדֹּ֗ו </span><span  class=\"hlup\"  style=\"border-color: magenta;\" >מֵ</span><span  class=\"hlup\"  style=\"border-color: magenta;\" >חֶ֥רֶב </span><span  class=\"hlup\"  style=\"border-color: magenta;\" >רָעָֽה׃ </span></span></td><td class=\"tf\"><span class=\"hb\"><span  class=\"hl hlup\"  style=\"background-color: magenta;border-color: magenta;\" >הַ</span></span></td><td class=\"tf\"><span class=\"hb\"><span  class=\"hl hlup\"  style=\"background-color: magenta;border-color: magenta;\" >הַ</span></span></td><td class=\"tf\"><span class=\"hb\"><span  class=\"hlup\"  style=\"border-color: magenta;\" >נֹּותֵ֥ן </span></span></td><td class=\"tf\"><span class=\"hb\"><span  class=\"hlup\"  style=\"border-color: magenta;\" >תְּשׁוּעָ֗ה </span></span></td><td class=\"tf\"><span class=\"hb\"><span  class=\"hlup\"  style=\"border-color: magenta;\" >לַ</span><span  class=\"hlup\"  style=\"border-color: magenta;\" ></span><span  class=\"hlup\"  style=\"border-color: magenta;\" >מְּלָ֫כִ֥ים </span></span></td><td class=\"tf\"><span class=\"hb\"><span  class=\"hl hlup\"  style=\"background-color: magenta;border-color: magenta;\" >הַ֭</span></span></td></tr></table>"
      ],
      "text/plain": [
       "<IPython.core.display.HTML object>"
      ]
     },
     "metadata": {},
     "output_type": "display_data"
    }
   ],
   "source": [
    "Parallelism1 = '''\n",
    "chapter book=Psalmi\n",
    "    c1:clause\n",
    "        =: p1:phrase\n",
    "            w1:word\n",
    "        <: p2:phrase\n",
    "        <: p3:phrase\n",
    "        <: p4:phrase\n",
    "    cA:clause\n",
    "        =: pA:phrase\n",
    "            wA:word\n",
    "        <: pB:phrase\n",
    "        <: pC:phrase\n",
    "        <: pD:phrase\n",
    "\n",
    "\n",
    "c1 <: cA\n",
    "p1 .function=function. pA\n",
    "p2 .function=function. pB\n",
    "p3 .function=function. pC\n",
    "p4 .function=function. pD\n",
    "w1 .g_cons=g_cons. wA\n",
    "'''\n",
    "Parallelism1  = A.search(Parallelism1)\n",
    "A.table(Parallelism1, start=1, end=10, condensed=True, colorMap={1: 'magenta', 2: 'magenta',3: 'magenta',4: 'magenta',5: 'magenta',6: 'magenta',7: 'magenta',8: 'magenta',9: 'magenta',10: 'magenta'})"
   ]
  }
 ],
 "metadata": {
  "kernelspec": {
   "display_name": "Python 3",
   "language": "python",
   "name": "python3"
  },
  "language_info": {
   "codemirror_mode": {
    "name": "ipython",
    "version": 3
   },
   "file_extension": ".py",
   "mimetype": "text/x-python",
   "name": "python",
   "nbconvert_exporter": "python",
   "pygments_lexer": "ipython3",
   "version": "3.7.7"
  },
  "toc": {
   "base_numbering": 1,
   "nav_menu": {},
   "number_sections": true,
   "sideBar": true,
   "skip_h1_title": false,
   "title_cell": "Table of Contents",
   "title_sidebar": "Contents",
   "toc_cell": false,
   "toc_position": {
    "height": "calc(100% - 180px)",
    "left": "10px",
    "top": "150px",
    "width": "287px"
   },
   "toc_section_display": true,
   "toc_window_display": true
  }
 },
 "nbformat": 4,
 "nbformat_minor": 2
}

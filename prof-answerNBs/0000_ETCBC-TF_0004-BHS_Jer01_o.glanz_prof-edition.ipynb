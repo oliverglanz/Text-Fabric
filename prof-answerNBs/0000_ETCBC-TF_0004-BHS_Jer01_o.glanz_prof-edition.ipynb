{
 "cells": [
  {
   "cell_type": "markdown",
   "metadata": {},
   "source": [
    "# Prelude"
   ]
  },
  {
   "cell_type": "code",
   "execution_count": 1,
   "metadata": {},
   "outputs": [],
   "source": [
    "%load_ext autoreload\n",
    "%autoreload 2"
   ]
  },
  {
   "cell_type": "code",
   "execution_count": 2,
   "metadata": {},
   "outputs": [],
   "source": [
    "# First, I have to laod different modules that I use for analyzing the data and for plotting:\n",
    "import sys, os, collections\n",
    "import pandas as pd\n",
    "import numpy as np\n",
    "import seaborn as sns\n",
    "import matplotlib.pyplot as plt; plt.rcdefaults()\n",
    "from matplotlib.pyplot import figure\n",
    "from collections import Counter\n",
    "\n",
    "# Second, I have to load the Text Fabric app\n",
    "from tf.fabric import Fabric\n",
    "from tf.app import use"
   ]
  },
  {
   "cell_type": "code",
   "execution_count": 3,
   "metadata": {},
   "outputs": [
    {
     "name": "stdout",
     "output_type": "stream",
     "text": [
      "\tconnecting to online GitHub repo annotation/app-bhsa ... connected\n",
      "Using TF-app in C:\\Users\\oglan/text-fabric-data/annotation/app-bhsa/code:\n",
      "\trv1.1=#35e4fee27a1cd6f0a5caea9118129349ddb0604e (latest release)\n",
      "\tconnecting to online GitHub repo etcbc/bhsa ... connected\n",
      "Using data in C:\\Users\\oglan/text-fabric-data/etcbc/bhsa/tf/c:\n",
      "\trv1.6=#bac4a9f5a2bbdede96ba6caea45e762fe88f88c5 (latest release)\n",
      "\tconnecting to online GitHub repo etcbc/phono ... connected\n",
      "Using data in C:\\Users\\oglan/text-fabric-data/etcbc/phono/tf/c:\n",
      "\tr1.2 (latest release)\n",
      "\tconnecting to online GitHub repo etcbc/parallels ... connected\n",
      "Using data in C:\\Users\\oglan/text-fabric-data/etcbc/parallels/tf/c:\n",
      "\tr1.2 (latest release)\n",
      "   |     0.00s No structure info in otext, the structure part of the T-API cannot be used\n"
     ]
    },
    {
     "data": {
      "text/html": [
       "<b>Documentation:</b> <a target=\"_blank\" href=\"https://etcbc.github.io/bhsa\" title=\"provenance of BHSA = Biblia Hebraica Stuttgartensia Amstelodamensis\">BHSA</a> <a target=\"_blank\" href=\"https://annotation.github.io/text-fabric/Writing/Hebrew\" title=\"('Hebrew characters and transcriptions',)\">Character table</a> <a target=\"_blank\" href=\"https://etcbc.github.io/bhsa/features/0_home\" title=\"BHSA feature documentation\">Feature docs</a> <a target=\"_blank\" href=\"https://github.com/annotation/app-bhsa\" title=\"bhsa API documentation\">bhsa API</a> <a target=\"_blank\" href=\"https://annotation.github.io/text-fabric/Api/Fabric/\" title=\"text-fabric-api\">Text-Fabric API 7.8.4</a> <a target=\"_blank\" href=\"https://annotation.github.io/text-fabric/Use/Search/\" title=\"Search Templates Introduction and Reference\">Search Reference</a><details open><summary><b>Loaded features</b>:</summary>\n",
       "<p><b>BHSA = Biblia Hebraica Stuttgartensia Amstelodamensis</b>: <a target=\"_blank\" href=\"https://etcbc.github.io/bhsa/features/book\" title=\"C:\\Users\\oglan/text-fabric-data/etcbc/bhsa/tf/c/book.tf\">book</a>  <a target=\"_blank\" href=\"https://etcbc.github.io/bhsa/features/book@ll\" title=\"C:\\Users\\oglan/text-fabric-data/etcbc/bhsa/tf/c/book@am.tf\">book@ll</a>  <a target=\"_blank\" href=\"https://etcbc.github.io/bhsa/features/chapter\" title=\"C:\\Users\\oglan/text-fabric-data/etcbc/bhsa/tf/c/chapter.tf\">chapter</a>  <a target=\"_blank\" href=\"https://etcbc.github.io/bhsa/features/code\" title=\"C:\\Users\\oglan/text-fabric-data/etcbc/bhsa/tf/c/code.tf\">code</a>  <a target=\"_blank\" href=\"https://etcbc.github.io/bhsa/features/det\" title=\"C:\\Users\\oglan/text-fabric-data/etcbc/bhsa/tf/c/det.tf\">det</a>  <a target=\"_blank\" href=\"https://etcbc.github.io/bhsa/features/freq_lex\" title=\"C:\\Users\\oglan/text-fabric-data/etcbc/bhsa/tf/c/freq_lex.tf\">freq_lex</a>  <a target=\"_blank\" href=\"https://etcbc.github.io/bhsa/features/function\" title=\"C:\\Users\\oglan/text-fabric-data/etcbc/bhsa/tf/c/function.tf\">function</a>  <a target=\"_blank\" href=\"https://etcbc.github.io/bhsa/features/g_cons\" title=\"C:\\Users\\oglan/text-fabric-data/etcbc/bhsa/tf/c/g_cons.tf\">g_cons</a>  <a target=\"_blank\" href=\"https://etcbc.github.io/bhsa/features/g_cons_utf8\" title=\"C:\\Users\\oglan/text-fabric-data/etcbc/bhsa/tf/c/g_cons_utf8.tf\">g_cons_utf8</a>  <a target=\"_blank\" href=\"https://etcbc.github.io/bhsa/features/g_lex\" title=\"C:\\Users\\oglan/text-fabric-data/etcbc/bhsa/tf/c/g_lex.tf\">g_lex</a>  <a target=\"_blank\" href=\"https://etcbc.github.io/bhsa/features/g_lex_utf8\" title=\"C:\\Users\\oglan/text-fabric-data/etcbc/bhsa/tf/c/g_lex_utf8.tf\">g_lex_utf8</a>  <a target=\"_blank\" href=\"https://etcbc.github.io/bhsa/features/g_word\" title=\"C:\\Users\\oglan/text-fabric-data/etcbc/bhsa/tf/c/g_word.tf\">g_word</a>  <a target=\"_blank\" href=\"https://etcbc.github.io/bhsa/features/g_word_utf8\" title=\"C:\\Users\\oglan/text-fabric-data/etcbc/bhsa/tf/c/g_word_utf8.tf\">g_word_utf8</a>  <a target=\"_blank\" href=\"https://etcbc.github.io/bhsa/features/gloss\" title=\"C:\\Users\\oglan/text-fabric-data/etcbc/bhsa/tf/c/gloss.tf\">gloss</a>  <a target=\"_blank\" href=\"https://etcbc.github.io/bhsa/features/gn\" title=\"C:\\Users\\oglan/text-fabric-data/etcbc/bhsa/tf/c/gn.tf\">gn</a>  <a target=\"_blank\" href=\"https://etcbc.github.io/bhsa/features/label\" title=\"C:\\Users\\oglan/text-fabric-data/etcbc/bhsa/tf/c/label.tf\">label</a>  <a target=\"_blank\" href=\"https://etcbc.github.io/bhsa/features/language\" title=\"C:\\Users\\oglan/text-fabric-data/etcbc/bhsa/tf/c/language.tf\">language</a>  <a target=\"_blank\" href=\"https://etcbc.github.io/bhsa/features/lex\" title=\"C:\\Users\\oglan/text-fabric-data/etcbc/bhsa/tf/c/lex.tf\">lex</a>  <a target=\"_blank\" href=\"https://etcbc.github.io/bhsa/features/lex_utf8\" title=\"C:\\Users\\oglan/text-fabric-data/etcbc/bhsa/tf/c/lex_utf8.tf\">lex_utf8</a>  <a target=\"_blank\" href=\"https://etcbc.github.io/bhsa/features/ls\" title=\"C:\\Users\\oglan/text-fabric-data/etcbc/bhsa/tf/c/ls.tf\">ls</a>  <a target=\"_blank\" href=\"https://etcbc.github.io/bhsa/features/nametype\" title=\"C:\\Users\\oglan/text-fabric-data/etcbc/bhsa/tf/c/nametype.tf\">nametype</a>  <a target=\"_blank\" href=\"https://etcbc.github.io/bhsa/features/nme\" title=\"C:\\Users\\oglan/text-fabric-data/etcbc/bhsa/tf/c/nme.tf\">nme</a>  <a target=\"_blank\" href=\"https://etcbc.github.io/bhsa/features/nu\" title=\"C:\\Users\\oglan/text-fabric-data/etcbc/bhsa/tf/c/nu.tf\">nu</a>  <a target=\"_blank\" href=\"https://etcbc.github.io/bhsa/features/number\" title=\"C:\\Users\\oglan/text-fabric-data/etcbc/bhsa/tf/c/number.tf\">number</a>  <a target=\"_blank\" href=\"https://etcbc.github.io/bhsa/features/otype\" title=\"C:\\Users\\oglan/text-fabric-data/etcbc/bhsa/tf/c/otype.tf\">otype</a>  <a target=\"_blank\" href=\"https://etcbc.github.io/bhsa/features/pdp\" title=\"C:\\Users\\oglan/text-fabric-data/etcbc/bhsa/tf/c/pdp.tf\">pdp</a>  <a target=\"_blank\" href=\"https://etcbc.github.io/bhsa/features/pfm\" title=\"C:\\Users\\oglan/text-fabric-data/etcbc/bhsa/tf/c/pfm.tf\">pfm</a>  <a target=\"_blank\" href=\"https://etcbc.github.io/bhsa/features/prs\" title=\"C:\\Users\\oglan/text-fabric-data/etcbc/bhsa/tf/c/prs.tf\">prs</a>  <a target=\"_blank\" href=\"https://etcbc.github.io/bhsa/features/prs_gn\" title=\"C:\\Users\\oglan/text-fabric-data/etcbc/bhsa/tf/c/prs_gn.tf\">prs_gn</a>  <a target=\"_blank\" href=\"https://etcbc.github.io/bhsa/features/prs_nu\" title=\"C:\\Users\\oglan/text-fabric-data/etcbc/bhsa/tf/c/prs_nu.tf\">prs_nu</a>  <a target=\"_blank\" href=\"https://etcbc.github.io/bhsa/features/prs_ps\" title=\"C:\\Users\\oglan/text-fabric-data/etcbc/bhsa/tf/c/prs_ps.tf\">prs_ps</a>  <a target=\"_blank\" href=\"https://etcbc.github.io/bhsa/features/ps\" title=\"C:\\Users\\oglan/text-fabric-data/etcbc/bhsa/tf/c/ps.tf\">ps</a>  <a target=\"_blank\" href=\"https://etcbc.github.io/bhsa/features/qere\" title=\"C:\\Users\\oglan/text-fabric-data/etcbc/bhsa/tf/c/qere.tf\">qere</a>  <a target=\"_blank\" href=\"https://etcbc.github.io/bhsa/features/qere_trailer\" title=\"C:\\Users\\oglan/text-fabric-data/etcbc/bhsa/tf/c/qere_trailer.tf\">qere_trailer</a>  <a target=\"_blank\" href=\"https://etcbc.github.io/bhsa/features/qere_trailer_utf8\" title=\"C:\\Users\\oglan/text-fabric-data/etcbc/bhsa/tf/c/qere_trailer_utf8.tf\">qere_trailer_utf8</a>  <a target=\"_blank\" href=\"https://etcbc.github.io/bhsa/features/qere_utf8\" title=\"C:\\Users\\oglan/text-fabric-data/etcbc/bhsa/tf/c/qere_utf8.tf\">qere_utf8</a>  <a target=\"_blank\" href=\"https://etcbc.github.io/bhsa/features/rank_lex\" title=\"C:\\Users\\oglan/text-fabric-data/etcbc/bhsa/tf/c/rank_lex.tf\">rank_lex</a>  <a target=\"_blank\" href=\"https://etcbc.github.io/bhsa/features/rela\" title=\"C:\\Users\\oglan/text-fabric-data/etcbc/bhsa/tf/c/rela.tf\">rela</a>  <a target=\"_blank\" href=\"https://etcbc.github.io/bhsa/features/sp\" title=\"C:\\Users\\oglan/text-fabric-data/etcbc/bhsa/tf/c/sp.tf\">sp</a>  <a target=\"_blank\" href=\"https://etcbc.github.io/bhsa/features/st\" title=\"C:\\Users\\oglan/text-fabric-data/etcbc/bhsa/tf/c/st.tf\">st</a>  <a target=\"_blank\" href=\"https://etcbc.github.io/bhsa/features/tab\" title=\"C:\\Users\\oglan/text-fabric-data/etcbc/bhsa/tf/c/tab.tf\">tab</a>  <a target=\"_blank\" href=\"https://etcbc.github.io/bhsa/features/trailer\" title=\"C:\\Users\\oglan/text-fabric-data/etcbc/bhsa/tf/c/trailer.tf\">trailer</a>  <a target=\"_blank\" href=\"https://etcbc.github.io/bhsa/features/trailer_utf8\" title=\"C:\\Users\\oglan/text-fabric-data/etcbc/bhsa/tf/c/trailer_utf8.tf\">trailer_utf8</a>  <a target=\"_blank\" href=\"https://etcbc.github.io/bhsa/features/txt\" title=\"C:\\Users\\oglan/text-fabric-data/etcbc/bhsa/tf/c/txt.tf\">txt</a>  <a target=\"_blank\" href=\"https://etcbc.github.io/bhsa/features/typ\" title=\"C:\\Users\\oglan/text-fabric-data/etcbc/bhsa/tf/c/typ.tf\">typ</a>  <a target=\"_blank\" href=\"https://etcbc.github.io/bhsa/features/uvf\" title=\"C:\\Users\\oglan/text-fabric-data/etcbc/bhsa/tf/c/uvf.tf\">uvf</a>  <a target=\"_blank\" href=\"https://etcbc.github.io/bhsa/features/vbe\" title=\"C:\\Users\\oglan/text-fabric-data/etcbc/bhsa/tf/c/vbe.tf\">vbe</a>  <a target=\"_blank\" href=\"https://etcbc.github.io/bhsa/features/vbs\" title=\"C:\\Users\\oglan/text-fabric-data/etcbc/bhsa/tf/c/vbs.tf\">vbs</a>  <a target=\"_blank\" href=\"https://etcbc.github.io/bhsa/features/verse\" title=\"C:\\Users\\oglan/text-fabric-data/etcbc/bhsa/tf/c/verse.tf\">verse</a>  <a target=\"_blank\" href=\"https://etcbc.github.io/bhsa/features/voc_lex\" title=\"C:\\Users\\oglan/text-fabric-data/etcbc/bhsa/tf/c/voc_lex.tf\">voc_lex</a>  <a target=\"_blank\" href=\"https://etcbc.github.io/bhsa/features/voc_lex_utf8\" title=\"C:\\Users\\oglan/text-fabric-data/etcbc/bhsa/tf/c/voc_lex_utf8.tf\">voc_lex_utf8</a>  <a target=\"_blank\" href=\"https://etcbc.github.io/bhsa/features/vs\" title=\"C:\\Users\\oglan/text-fabric-data/etcbc/bhsa/tf/c/vs.tf\">vs</a>  <a target=\"_blank\" href=\"https://etcbc.github.io/bhsa/features/vt\" title=\"C:\\Users\\oglan/text-fabric-data/etcbc/bhsa/tf/c/vt.tf\">vt</a>  <b><i><a target=\"_blank\" href=\"https://etcbc.github.io/bhsa/features/mother\" title=\"C:\\Users\\oglan/text-fabric-data/etcbc/bhsa/tf/c/mother.tf\">mother</a></i></b>  <b><i><a target=\"_blank\" href=\"https://etcbc.github.io/bhsa/features/oslots\" title=\"C:\\Users\\oglan/text-fabric-data/etcbc/bhsa/tf/c/oslots.tf\">oslots</a></i></b> </p><p><b>Parallel Passages</b>: <b><i><a target=\"_blank\" href=\"https://nbviewer.jupyter.org/github/etcbc/parallels/blob/master/programs/parallels.ipynb\" title=\"C:\\Users\\oglan/text-fabric-data/etcbc/parallels/tf/c/crossref.tf\">crossref</a></i></b> </p><p><b>Phonetic Transcriptions</b>: <a target=\"_blank\" href=\"https://nbviewer.jupyter.org/github/etcbc/phono/blob/master/programs/phono.ipynb\" title=\"C:\\Users\\oglan/text-fabric-data/etcbc/phono/tf/c/phono.tf\">phono</a>  <a target=\"_blank\" href=\"https://nbviewer.jupyter.org/github/etcbc/phono/blob/master/programs/phono.ipynb\" title=\"C:\\Users\\oglan/text-fabric-data/etcbc/phono/tf/c/phono_trailer.tf\">phono_trailer</a> </p></details>"
      ],
      "text/plain": [
       "<IPython.core.display.HTML object>"
      ]
     },
     "metadata": {},
     "output_type": "display_data"
    },
    {
     "data": {
      "text/html": [
       "<style>\n",
       "@font-face {\n",
       "  font-family: \"Ezra SIL\";\n",
       "  src:\n",
       "    local(\"SILEOT.ttf\"),\n",
       "    url(\"https://github.com/annotation/text-fabric/blob/master/tf/server/static/fonts/SILEOT.woff?raw=true\");\n",
       "}\n",
       ".features {\n",
       "    font-family: monospace;\n",
       "    font-size: medium;\n",
       "    font-weight: bold;\n",
       "    color: #0a6611;\n",
       "    display: flex;\n",
       "    flex-flow: column nowrap;\n",
       "    padding: 0.1em;\n",
       "    margin: 0.1em;\n",
       "    direction: ltr;\n",
       "}\n",
       ".features div,.features span {\n",
       "    padding: 0;\n",
       "    margin: -0.1rem 0;\n",
       "}\n",
       ".features .f {\n",
       "    font-family: sans-serif;\n",
       "    font-size: x-small;\n",
       "    font-weight: normal;\n",
       "    color: #5555bb;\n",
       "}\n",
       ".features .xft {\n",
       "  color: #000000;\n",
       "  background-color: #eeeeee;\n",
       "  font-size: medium;\n",
       "  margin: 0.1em 0em;\n",
       "}\n",
       ".features .xft .f {\n",
       "  color: #000000;\n",
       "  background-color: #eeeeee;\n",
       "  font-style: italic;\n",
       "  font-size: small;\n",
       "  font-weight: normal;\n",
       "}\n",
       ".ltr {\n",
       "    direction: ltr ! important;\n",
       "}\n",
       ".verse {\n",
       "    display: flex;\n",
       "    flex-flow: row wrap;\n",
       "    direction: rtl;\n",
       "}\n",
       ".vl {\n",
       "    display: flex;\n",
       "    flex-flow: column nowrap;\n",
       "    justify-content: flex-end;\n",
       "    align-items: flex-end;\n",
       "    direction: ltr;\n",
       "    width: 100%;\n",
       "}\n",
       ".outeritem {\n",
       "    display: flex;\n",
       "    flex-flow: row wrap;\n",
       "    direction: rtl;\n",
       "}\n",
       ".sentence,.clause,.phrase {\n",
       "    margin-top: -1.2em;\n",
       "    margin-left: 1em;\n",
       "    background: #ffffff none repeat scroll 0 0;\n",
       "    padding: 0 0.3em;\n",
       "    border-style: solid;\n",
       "    border-radius: 0.2em;\n",
       "    font-size: small;\n",
       "    display: block;\n",
       "    width: fit-content;\n",
       "    max-width: fit-content;\n",
       "    direction: ltr;\n",
       "}\n",
       ".atoms {\n",
       "    display: flex;\n",
       "    flex-flow: row wrap;\n",
       "    margin: 0.3em;\n",
       "    padding: 0.3em;\n",
       "    direction: rtl;\n",
       "    background-color: #ffffff;\n",
       "}\n",
       ".satom,.catom,.patom {\n",
       "    margin: 0.3em;\n",
       "    padding: 0.3em;\n",
       "    border-radius: 0.3em;\n",
       "    border-style: solid;\n",
       "    display: flex;\n",
       "    flex-flow: column nowrap;\n",
       "    direction: rtl;\n",
       "    background-color: #ffffff;\n",
       "}\n",
       ".sentence {\n",
       "    border-color: #aa3333;\n",
       "    border-width: 1px;\n",
       "}\n",
       ".clause {\n",
       "    border-color: #aaaa33;\n",
       "    border-width: 1px;\n",
       "}\n",
       ".phrase {\n",
       "    border-color: #33aaaa;\n",
       "    border-width: 1px;\n",
       "}\n",
       ".satom {\n",
       "    border-color: #aa3333;\n",
       "    border-width: 4px;\n",
       "}\n",
       ".catom {\n",
       "    border-color: #aaaa33;\n",
       "    border-width: 3px;\n",
       "}\n",
       ".patom {\n",
       "    border-color: #33aaaa;\n",
       "    border-width: 3px;\n",
       "}\n",
       ".word {\n",
       "    padding: 0.1em;\n",
       "    margin: 0.1em;\n",
       "    border-radius: 0.1em;\n",
       "    border: 1px solid #cccccc;\n",
       "    display: flex;\n",
       "    flex-flow: column nowrap;\n",
       "    direction: rtl;\n",
       "    background-color: #ffffff;\n",
       "}\n",
       ".lextp {\n",
       "    padding: 0.1em;\n",
       "    margin: 0.1em;\n",
       "    border-radius: 0.1em;\n",
       "    border: 2px solid #888888;\n",
       "    width: fit-content;\n",
       "    display: flex;\n",
       "    flex-flow: column nowrap;\n",
       "    direction: rtl;\n",
       "    background-color: #ffffff;\n",
       "}\n",
       ".occs {\n",
       "    font-size: x-small;\n",
       "}\n",
       ".satom.l,.catom.l,.patom.l {\n",
       "    border-left-style: dotted\n",
       "}\n",
       ".satom.r,.catom.r,.patom.r {\n",
       "    border-right-style: dotted\n",
       "}\n",
       ".satom.lno,.catom.lno,.patom.lno {\n",
       "    border-left-style: none\n",
       "}\n",
       ".satom.rno,.catom.rno,.patom.rno {\n",
       "    border-right-style: none\n",
       "}\n",
       ".tr,.tr a:visited,.tr a:link {\n",
       "    font-family: sans-serif;\n",
       "    font-size: large;\n",
       "    color: #000044;\n",
       "    direction: ltr;\n",
       "    text-decoration: none;\n",
       "}\n",
       ".trb,.trb a:visited,.trb a:link {\n",
       "    font-family: sans-serif;\n",
       "    font-size: normal;\n",
       "    direction: ltr;\n",
       "    text-decoration: none;\n",
       "}\n",
       ".prb,.prb a:visited,.prb a:link {\n",
       "    font-family: sans-serif;\n",
       "    font-size: large;\n",
       "    direction: ltr;\n",
       "    text-decoration: none;\n",
       "}\n",
       ".h,.h a:visited,.h a:link {\n",
       "    font-family: \"Ezra SIL\", \"SBL Hebrew\", sans-serif;\n",
       "    font-size: large;\n",
       "    color: #000044;\n",
       "    direction: rtl;\n",
       "    text-decoration: none;\n",
       "}\n",
       ".hb,.hb a:visited,.hb a:link {\n",
       "    font-family: \"Ezra SIL\", \"SBL Hebrew\", sans-serif;\n",
       "    font-size: large;\n",
       "    line-height: 2;\n",
       "    direction: rtl;\n",
       "    text-decoration: none;\n",
       "}\n",
       ".vn {\n",
       "  font-size: small !important;\n",
       "  padding-right: 1em;\n",
       "}\n",
       ".rela,.function,.typ {\n",
       "    font-family: monospace;\n",
       "    font-size: small;\n",
       "    color: #0000bb;\n",
       "}\n",
       ".pdp,.pdp a:visited,.pdp a:link {\n",
       "    font-family: monospace;\n",
       "    font-size: medium;\n",
       "    color: #0000bb;\n",
       "    text-decoration: none;\n",
       "}\n",
       ".voc_lex {\n",
       "    font-family: monospace;\n",
       "    font-size: medium;\n",
       "    color: #0000bb;\n",
       "}\n",
       ".vs {\n",
       "    font-family: monospace;\n",
       "    font-size: medium;\n",
       "    font-weight: bold;\n",
       "    color: #0000bb;\n",
       "}\n",
       ".vt {\n",
       "    font-family: monospace;\n",
       "    font-size: medium;\n",
       "    font-weight: bold;\n",
       "    color: #0000bb;\n",
       "}\n",
       ".gloss {\n",
       "    font-family: sans-serif;\n",
       "    font-size: small;\n",
       "    font-weight: normal;\n",
       "    color: #444444;\n",
       "}\n",
       ".vrs {\n",
       "    font-family: sans-serif;\n",
       "    font-size: small;\n",
       "    font-weight: bold;\n",
       "    color: #444444;\n",
       "}\n",
       ".nd {\n",
       "    font-family: monospace;\n",
       "    font-size: x-small;\n",
       "    color: #999999;\n",
       "}\n",
       ".hl {\n",
       "    background-color: #ffee66;\n",
       "}\n",
       "\n",
       "tr.tf, td.tf, th.tf {\n",
       "  text-align: left;\n",
       "}\n",
       "\n",
       "span.hldot {\n",
       "\tbackground-color: var(--hl-strong);\n",
       "\tborder: 0.2rem solid var(--hl-rim);\n",
       "\tborder-radius: 0.4rem;\n",
       "\t/*\n",
       "\tdisplay: inline-block;\n",
       "\twidth: 0.8rem;\n",
       "\theight: 0.8rem;\n",
       "\t*/\n",
       "}\n",
       "span.hl {\n",
       "\tbackground-color: var(--hl-strong);\n",
       "\tborder-width: 0;\n",
       "\tborder-radius: 0.1rem;\n",
       "\tborder-style: solid;\n",
       "}\n",
       "\n",
       "span.hlup {\n",
       "\tborder-color: var(--hl-dark);\n",
       "\tborder-width: 0.1rem;\n",
       "\tborder-style: solid;\n",
       "\tborder-radius: 0.2rem;\n",
       "  padding: 0.2rem;\n",
       "}\n",
       "\n",
       ":root {\n",
       "\t--hl-strong:        hsla( 60, 100%,  70%, 0.9  );\n",
       "\t--hl-rim:           hsla( 55, 100%,  60%, 0.9  );\n",
       "\t--hl-dark:          hsla( 55, 100%,  40%, 0.9  );\n",
       "}\n",
       "</style>"
      ],
      "text/plain": [
       "<IPython.core.display.HTML object>"
      ]
     },
     "metadata": {},
     "output_type": "display_data"
    },
    {
     "data": {
      "text/html": [
       "<details open><summary><b>API members</b>:</summary>\n",
       "<a target=\"_blank\" href=\"https://annotation.github.io/text-fabric/Api/Computed/#computed-data\" title=\"doc\">C Computed</a>, <a target=\"_blank\" href=\"https://annotation.github.io/text-fabric/Api/Computed/#computed-data\" title=\"doc\">Call AllComputeds</a>, <a target=\"_blank\" href=\"https://annotation.github.io/text-fabric/Api/Computed/#computed-data\" title=\"doc\">Cs ComputedString</a><br/>\n",
       "<a target=\"_blank\" href=\"https://annotation.github.io/text-fabric/Api/Features/#edge-features\" title=\"doc\">E Edge</a>, <a target=\"_blank\" href=\"https://annotation.github.io/text-fabric/Api/Features/#edge-features\" title=\"doc\">Eall AllEdges</a>, <a target=\"_blank\" href=\"https://annotation.github.io/text-fabric/Api/Features/#edge-features\" title=\"doc\">Es EdgeString</a><br/>\n",
       "<a target=\"_blank\" href=\"https://annotation.github.io/text-fabric/Api/Fabric/#loading\" title=\"doc\">ensureLoaded</a>, <a target=\"_blank\" href=\"https://annotation.github.io/text-fabric/Api/Fabric/#loading\" title=\"doc\">TF</a>, <a target=\"_blank\" href=\"https://annotation.github.io/text-fabric/Api/Fabric/#loading\" title=\"doc\">ignored</a>, <a target=\"_blank\" href=\"https://annotation.github.io/text-fabric/Api/Fabric/#loading\" title=\"doc\">loadLog</a><br/>\n",
       "<a target=\"_blank\" href=\"https://annotation.github.io/text-fabric/Api/Locality/#locality\" title=\"doc\">L Locality</a><br/>\n",
       "<a target=\"_blank\" href=\"https://annotation.github.io/text-fabric/Api/Misc/#messaging\" title=\"doc\">cache</a>, <a target=\"_blank\" href=\"https://annotation.github.io/text-fabric/Api/Misc/#messaging\" title=\"doc\">error</a>, <a target=\"_blank\" href=\"https://annotation.github.io/text-fabric/Api/Misc/#messaging\" title=\"doc\">indent</a>, <a target=\"_blank\" href=\"https://annotation.github.io/text-fabric/Api/Misc/#messaging\" title=\"doc\">info</a>, <a target=\"_blank\" href=\"https://annotation.github.io/text-fabric/Api/Misc/#messaging\" title=\"doc\">isSilent</a>, <a target=\"_blank\" href=\"https://annotation.github.io/text-fabric/Api/Misc/#messaging\" title=\"doc\">reset</a>, <a target=\"_blank\" href=\"https://annotation.github.io/text-fabric/Api/Misc/#messaging\" title=\"doc\">setSilent</a>, <a target=\"_blank\" href=\"https://annotation.github.io/text-fabric/Api/Misc/#messaging\" title=\"doc\">silentOff</a>, <a target=\"_blank\" href=\"https://annotation.github.io/text-fabric/Api/Misc/#messaging\" title=\"doc\">silentOn</a>, <a target=\"_blank\" href=\"https://annotation.github.io/text-fabric/Api/Misc/#messaging\" title=\"doc\">warning</a><br/>\n",
       "<a target=\"_blank\" href=\"https://annotation.github.io/text-fabric/Api/Nodes/#navigating-nodes\" title=\"doc\">N Nodes</a>, <a target=\"_blank\" href=\"https://annotation.github.io/text-fabric/Api/Nodes/#navigating-nodes\" title=\"doc\">sortKey</a>, <a target=\"_blank\" href=\"https://annotation.github.io/text-fabric/Api/Nodes/#navigating-nodes\" title=\"doc\">sortKeyTuple</a>, <a target=\"_blank\" href=\"https://annotation.github.io/text-fabric/Api/Nodes/#navigating-nodes\" title=\"doc\">otypeRank</a>, <a target=\"_blank\" href=\"https://annotation.github.io/text-fabric/Api/Nodes/#navigating-nodes\" title=\"doc\">sortNodes</a><br/>\n",
       "<a target=\"_blank\" href=\"https://annotation.github.io/text-fabric/Api/Features/#node-features\" title=\"doc\">F Feature</a>, <a target=\"_blank\" href=\"https://annotation.github.io/text-fabric/Api/Features/#node-features\" title=\"doc\">Fall AllFeatures</a>, <a target=\"_blank\" href=\"https://annotation.github.io/text-fabric/Api/Features/#node-features\" title=\"doc\">Fs FeatureString</a><br/>\n",
       "<a target=\"_blank\" href=\"https://annotation.github.io/text-fabric/Api/Search/#search\" title=\"doc\">S Search</a><br/>\n",
       "<a target=\"_blank\" href=\"https://annotation.github.io/text-fabric/Api/Text/#text\" title=\"doc\">T Text</a></details>"
      ],
      "text/plain": [
       "<IPython.core.display.HTML object>"
      ]
     },
     "metadata": {},
     "output_type": "display_data"
    }
   ],
   "source": [
    "A = use('bhsa', hoist=globals())"
   ]
  },
  {
   "cell_type": "markdown",
   "metadata": {},
   "source": [
    "# Jer 1 queries"
   ]
  },
  {
   "cell_type": "markdown",
   "metadata": {},
   "source": [
    "## The word happening\n",
    "\n",
    "### Task #1: \n",
    "\n",
    "Try to investiage the formulation \"The word happening\" and do a statistical analysis of its appearance. How could you best understand the construction? Do a statistical survey by exporting your results and loading them back as a pandas dataframe (see the first TF notebook of this class to get instructions). Create some charts that help you get a better graphical representations of the phenomenons distribution."
   ]
  },
  {
   "cell_type": "code",
   "execution_count": 4,
   "metadata": {},
   "outputs": [
    {
     "name": "stdout",
     "output_type": "stream",
     "text": [
      "  2.61s 87 results\n"
     ]
    },
    {
     "data": {
      "text/html": [
       "<table>\n",
       "<tr class=\"tf\">\n",
       "  <th class=\"tf\">n</th><th class=\"tf\">p</th>\n",
       "  <th class=\"tf\">verse</th><th>clause</th><th>word</th><th>word</th><th>phrase</th><th>phrase</th><th>word</th>\n",
       "</tr>\n",
       "\n",
       "<tr class=\"tf\"><td class=\"tf\">1</td><td class=\"tf\"> <a href=\"https://shebanq.ancient-data.org/hebrew/text?book=Samuel_I&amp;chapter=4&amp;verse=1&amp;version=c&amp;mr=m&amp;qw=q&amp;tp=txt_p&amp;tr=hb&amp;wget=v&amp;qget=v&amp;nget=vt\" title=\"show this passage in SHEBANQ\" sec=\"1_Samuel 4:1\">1_Samuel 4:1</a></td><td class=\"tf\"><span class=\"hb\"><a class=\"vn\" href=\"https://shebanq.ancient-data.org/hebrew/text?book=Samuel_I&amp;chapter=4&amp;verse=1&amp;version=c&amp;mr=m&amp;qw=q&amp;tp=txt_p&amp;tr=hb&amp;wget=v&amp;qget=v&amp;nget=vt\" title=\"1_Samuel 4:1\" sec=\"1_Samuel 4:1\"></a><span  class=\"hlup\" >וַ</span><span  class=\"hl hlup\" >יְהִ֥י </span><span  class=\"hl hlup\" >דְבַר־</span><span  class=\"hl hlup\" >שְׁמוּאֵ֖ל </span><span  class=\"hlup\" >לְ</span><span  class=\"hlup\" >כָל־</span><span  class=\"hlup\" >יִשְׂרָאֵ֑ל </span>וַיֵּצֵ֣א יִשְׂרָאֵל֩ לִקְרַ֨את פְּלִשְׁתִּ֜ים לַמִּלְחָמָ֗ה וַֽיַּחֲנוּ֙ עַל־הָאֶ֣בֶן הָעֵ֔זֶר וּפְלִשְׁתִּ֖ים חָנ֥וּ בַאֲפֵֽק׃ </span></td><td class=\"tf\"><span class=\"hb\"><span  class=\"hlup\" >וַ</span><span  class=\"hl hlup\" >יְהִ֥י </span><span  class=\"hl hlup\" >דְבַר־</span><span  class=\"hl hlup\" >שְׁמוּאֵ֖ל </span><span  class=\"hlup\" >לְ</span><span  class=\"hlup\" >כָל־</span><span  class=\"hlup\" >יִשְׂרָאֵ֑ל </span></span></td><td class=\"tf\"><span class=\"hb\"><span  class=\"hl hlup\" >יְהִ֥י </span></span></td><td class=\"tf\"><span class=\"hb\"><span  class=\"hl hlup\" >דְבַר־</span></span></td><td class=\"tf\"><span class=\"hb\"><span  class=\"hl hlup\" >יְהִ֥י </span></span></td><td class=\"tf\"><span class=\"hb\"><span  class=\"hl hlup\" >דְבַר־</span><span  class=\"hl hlup\" >שְׁמוּאֵ֖ל </span></span></td><td class=\"tf\"><span class=\"hb\"><span  class=\"hl hlup\" >שְׁמוּאֵ֖ל </span></span></td></tr>\n",
       "<tr class=\"tf\"><td class=\"tf\">2</td><td class=\"tf\"> <a href=\"https://shebanq.ancient-data.org/hebrew/text?book=Samuel_I&amp;chapter=15&amp;verse=10&amp;version=c&amp;mr=m&amp;qw=q&amp;tp=txt_p&amp;tr=hb&amp;wget=v&amp;qget=v&amp;nget=vt\" title=\"show this passage in SHEBANQ\" sec=\"1_Samuel 15:10\">1_Samuel 15:10</a></td><td class=\"tf\"><span class=\"hb\"><a class=\"vn\" href=\"https://shebanq.ancient-data.org/hebrew/text?book=Samuel_I&amp;chapter=15&amp;verse=10&amp;version=c&amp;mr=m&amp;qw=q&amp;tp=txt_p&amp;tr=hb&amp;wget=v&amp;qget=v&amp;nget=vt\" title=\"1_Samuel 15:10\" sec=\"1_Samuel 15:10\"></a><span  class=\"hlup\" >וַֽ</span><span  class=\"hl hlup\" >יְהִי֙ </span><span  class=\"hl hlup\" >דְּבַר־</span><span  class=\"hl hlup\" >יְהוָ֔ה </span><span  class=\"hlup\" >אֶל־</span><span  class=\"hlup\" >שְׁמוּאֵ֖ל </span>לֵאמֹֽר׃ </span></td><td class=\"tf\"><span class=\"hb\"><span  class=\"hlup\" >וַֽ</span><span  class=\"hl hlup\" >יְהִי֙ </span><span  class=\"hl hlup\" >דְּבַר־</span><span  class=\"hl hlup\" >יְהוָ֔ה </span><span  class=\"hlup\" >אֶל־</span><span  class=\"hlup\" >שְׁמוּאֵ֖ל </span></span></td><td class=\"tf\"><span class=\"hb\"><span  class=\"hl hlup\" >יְהִי֙ </span></span></td><td class=\"tf\"><span class=\"hb\"><span  class=\"hl hlup\" >יְהִי֙ </span></span></td><td class=\"tf\"><span class=\"hb\"><span  class=\"hl hlup\" >דְּבַר־</span><span  class=\"hl hlup\" >יְהוָ֔ה </span></span></td><td class=\"tf\"><span class=\"hb\"><span  class=\"hl hlup\" >דְּבַר־</span></span></td><td class=\"tf\"><span class=\"hb\"><span  class=\"hl hlup\" >יְהוָ֔ה </span></span></td></tr></table>"
      ],
      "text/plain": [
       "<IPython.core.display.HTML object>"
      ]
     },
     "metadata": {},
     "output_type": "display_data"
    }
   ],
   "source": [
    "WordHappens1='''\n",
    "clause typ=WayX\n",
    "    phrase function=Pred\n",
    "        word lex=HJH[\n",
    "    phrase function=Subj\n",
    "        word lex=DBR/ st=c\n",
    "        <: word lex*\n",
    "'''\n",
    "WordHappens1  = A.search(WordHappens1)\n",
    "A.table(WordHappens1, start=1, end=2, condensed=True)"
   ]
  },
  {
   "cell_type": "code",
   "execution_count": 5,
   "metadata": {},
   "outputs": [],
   "source": [
    "A.export(WordHappens1, toDir='D:/OneDrive/1200_AUS-research/Fabric-TEXT', toFile='WordHappens1.tsv')"
   ]
  },
  {
   "cell_type": "code",
   "execution_count": 6,
   "metadata": {},
   "outputs": [
    {
     "data": {
      "text/html": [
       "<div>\n",
       "<style scoped>\n",
       "    .dataframe tbody tr th:only-of-type {\n",
       "        vertical-align: middle;\n",
       "    }\n",
       "\n",
       "    .dataframe tbody tr th {\n",
       "        vertical-align: top;\n",
       "    }\n",
       "\n",
       "    .dataframe thead th {\n",
       "        text-align: right;\n",
       "    }\n",
       "</style>\n",
       "<table border=\"1\" class=\"dataframe\">\n",
       "  <thead>\n",
       "    <tr style=\"text-align: right;\">\n",
       "      <th></th>\n",
       "      <th>R</th>\n",
       "      <th>S1</th>\n",
       "      <th>S2</th>\n",
       "      <th>S3</th>\n",
       "      <th>NODE1</th>\n",
       "      <th>TYPE1</th>\n",
       "      <th>TEXT1</th>\n",
       "      <th>typ1</th>\n",
       "      <th>NODE2</th>\n",
       "      <th>TYPE2</th>\n",
       "      <th>TEXT2</th>\n",
       "      <th>function2</th>\n",
       "      <th>NODE3</th>\n",
       "      <th>TYPE3</th>\n",
       "      <th>TEXT3</th>\n",
       "      <th>lex3</th>\n",
       "      <th>NODE4</th>\n",
       "      <th>TYPE4</th>\n",
       "      <th>TEXT4</th>\n",
       "      <th>function4</th>\n",
       "      <th>NODE5</th>\n",
       "      <th>TYPE5</th>\n",
       "      <th>TEXT5</th>\n",
       "      <th>lex5</th>\n",
       "      <th>st5</th>\n",
       "      <th>NODE6</th>\n",
       "      <th>TYPE6</th>\n",
       "      <th>TEXT6</th>\n",
       "      <th>lex6</th>\n",
       "    </tr>\n",
       "  </thead>\n",
       "  <tbody>\n",
       "    <tr>\n",
       "      <th>0</th>\n",
       "      <td>1</td>\n",
       "      <td>1_Samuel</td>\n",
       "      <td>4</td>\n",
       "      <td>1</td>\n",
       "      <td>454341</td>\n",
       "      <td>clause</td>\n",
       "      <td>וַיְהִ֥י דְבַר־שְׁמוּאֵ֖ל לְכָל־יִשְׂרָאֵ֑ל</td>\n",
       "      <td>WayX</td>\n",
       "      <td>732780</td>\n",
       "      <td>phrase</td>\n",
       "      <td>יְהִ֥י</td>\n",
       "      <td>Pred</td>\n",
       "      <td>143274</td>\n",
       "      <td>word</td>\n",
       "      <td>יְהִ֥י</td>\n",
       "      <td>HJH[</td>\n",
       "      <td>732781</td>\n",
       "      <td>phrase</td>\n",
       "      <td>דְבַר־שְׁמוּאֵ֖ל</td>\n",
       "      <td>Subj</td>\n",
       "      <td>143275</td>\n",
       "      <td>word</td>\n",
       "      <td>דְבַר־</td>\n",
       "      <td>DBR/</td>\n",
       "      <td>c</td>\n",
       "      <td>143276</td>\n",
       "      <td>word</td>\n",
       "      <td>שְׁמוּאֵ֖ל</td>\n",
       "      <td>CMW&gt;L/</td>\n",
       "    </tr>\n",
       "    <tr>\n",
       "      <th>1</th>\n",
       "      <td>2</td>\n",
       "      <td>1_Samuel</td>\n",
       "      <td>15</td>\n",
       "      <td>10</td>\n",
       "      <td>455662</td>\n",
       "      <td>clause</td>\n",
       "      <td>וַֽיְהִי֙ דְּבַר־יְהוָ֔ה אֶל־שְׁמוּאֵ֖ל</td>\n",
       "      <td>WayX</td>\n",
       "      <td>736820</td>\n",
       "      <td>phrase</td>\n",
       "      <td>יְהִי֙</td>\n",
       "      <td>Pred</td>\n",
       "      <td>149747</td>\n",
       "      <td>word</td>\n",
       "      <td>יְהִי֙</td>\n",
       "      <td>HJH[</td>\n",
       "      <td>736821</td>\n",
       "      <td>phrase</td>\n",
       "      <td>דְּבַר־יְהוָ֔ה</td>\n",
       "      <td>Subj</td>\n",
       "      <td>149748</td>\n",
       "      <td>word</td>\n",
       "      <td>דְּבַר־</td>\n",
       "      <td>DBR/</td>\n",
       "      <td>c</td>\n",
       "      <td>149749</td>\n",
       "      <td>word</td>\n",
       "      <td>יְהוָ֔ה</td>\n",
       "      <td>JHWH/</td>\n",
       "    </tr>\n",
       "    <tr>\n",
       "      <th>2</th>\n",
       "      <td>3</td>\n",
       "      <td>2_Samuel</td>\n",
       "      <td>7</td>\n",
       "      <td>4</td>\n",
       "      <td>458635</td>\n",
       "      <td>clause</td>\n",
       "      <td>וַֽיְהִי֙ דְּבַר־יְהוָ֔ה אֶל־נָתָ֖ן</td>\n",
       "      <td>WayX</td>\n",
       "      <td>745898</td>\n",
       "      <td>phrase</td>\n",
       "      <td>יְהִי֙</td>\n",
       "      <td>Pred</td>\n",
       "      <td>164017</td>\n",
       "      <td>word</td>\n",
       "      <td>יְהִי֙</td>\n",
       "      <td>HJH[</td>\n",
       "      <td>745899</td>\n",
       "      <td>phrase</td>\n",
       "      <td>דְּבַר־יְהוָ֔ה</td>\n",
       "      <td>Subj</td>\n",
       "      <td>164018</td>\n",
       "      <td>word</td>\n",
       "      <td>דְּבַר־</td>\n",
       "      <td>DBR/</td>\n",
       "      <td>c</td>\n",
       "      <td>164019</td>\n",
       "      <td>word</td>\n",
       "      <td>יְהוָ֔ה</td>\n",
       "      <td>JHWH/</td>\n",
       "    </tr>\n",
       "    <tr>\n",
       "      <th>3</th>\n",
       "      <td>4</td>\n",
       "      <td>1_Kings</td>\n",
       "      <td>6</td>\n",
       "      <td>11</td>\n",
       "      <td>461947</td>\n",
       "      <td>clause</td>\n",
       "      <td>וַֽיְהִי֙ דְּבַר־יְהוָ֔ה אֶל־שְׁלֹמֹ֖ה</td>\n",
       "      <td>WayX</td>\n",
       "      <td>755786</td>\n",
       "      <td>phrase</td>\n",
       "      <td>יְהִי֙</td>\n",
       "      <td>Pred</td>\n",
       "      <td>180305</td>\n",
       "      <td>word</td>\n",
       "      <td>יְהִי֙</td>\n",
       "      <td>HJH[</td>\n",
       "      <td>755787</td>\n",
       "      <td>phrase</td>\n",
       "      <td>דְּבַר־יְהוָ֔ה</td>\n",
       "      <td>Subj</td>\n",
       "      <td>180306</td>\n",
       "      <td>word</td>\n",
       "      <td>דְּבַר־</td>\n",
       "      <td>DBR/</td>\n",
       "      <td>c</td>\n",
       "      <td>180307</td>\n",
       "      <td>word</td>\n",
       "      <td>יְהוָ֔ה</td>\n",
       "      <td>JHWH/</td>\n",
       "    </tr>\n",
       "    <tr>\n",
       "      <th>4</th>\n",
       "      <td>5</td>\n",
       "      <td>1_Kings</td>\n",
       "      <td>12</td>\n",
       "      <td>22</td>\n",
       "      <td>462954</td>\n",
       "      <td>clause</td>\n",
       "      <td>וַיְהִי֙ דְּבַ֣ר הָֽאֱלֹהִ֔ים אֶל־שְׁמַעְיָ֥ה ...</td>\n",
       "      <td>WayX</td>\n",
       "      <td>758913</td>\n",
       "      <td>phrase</td>\n",
       "      <td>יְהִי֙</td>\n",
       "      <td>Pred</td>\n",
       "      <td>186479</td>\n",
       "      <td>word</td>\n",
       "      <td>יְהִי֙</td>\n",
       "      <td>HJH[</td>\n",
       "      <td>758914</td>\n",
       "      <td>phrase</td>\n",
       "      <td>דְּבַ֣ר הָֽאֱלֹהִ֔ים</td>\n",
       "      <td>Subj</td>\n",
       "      <td>186480</td>\n",
       "      <td>word</td>\n",
       "      <td>דְּבַ֣ר</td>\n",
       "      <td>DBR/</td>\n",
       "      <td>c</td>\n",
       "      <td>186481</td>\n",
       "      <td>word</td>\n",
       "      <td>הָֽ</td>\n",
       "      <td>H</td>\n",
       "    </tr>\n",
       "  </tbody>\n",
       "</table>\n",
       "</div>"
      ],
      "text/plain": [
       "   R        S1  S2  S3   NODE1   TYPE1  \\\n",
       "0  1  1_Samuel   4   1  454341  clause   \n",
       "1  2  1_Samuel  15  10  455662  clause   \n",
       "2  3  2_Samuel   7   4  458635  clause   \n",
       "3  4   1_Kings   6  11  461947  clause   \n",
       "4  5   1_Kings  12  22  462954  clause   \n",
       "\n",
       "                                               TEXT1  typ1   NODE2   TYPE2  \\\n",
       "0       וַיְהִ֥י דְבַר־שְׁמוּאֵ֖ל לְכָל־יִשְׂרָאֵ֑ל   WayX  732780  phrase   \n",
       "1           וַֽיְהִי֙ דְּבַר־יְהוָ֔ה אֶל־שְׁמוּאֵ֖ל   WayX  736820  phrase   \n",
       "2               וַֽיְהִי֙ דְּבַר־יְהוָ֔ה אֶל־נָתָ֖ן   WayX  745898  phrase   \n",
       "3            וַֽיְהִי֙ דְּבַר־יְהוָ֔ה אֶל־שְׁלֹמֹ֖ה   WayX  755786  phrase   \n",
       "4  וַיְהִי֙ דְּבַ֣ר הָֽאֱלֹהִ֔ים אֶל־שְׁמַעְיָ֥ה ...  WayX  758913  phrase   \n",
       "\n",
       "     TEXT2 function2   NODE3 TYPE3    TEXT3  lex3   NODE4   TYPE4  \\\n",
       "0  יְהִ֥י       Pred  143274  word  יְהִ֥י   HJH[  732781  phrase   \n",
       "1  יְהִי֙       Pred  149747  word  יְהִי֙   HJH[  736821  phrase   \n",
       "2  יְהִי֙       Pred  164017  word  יְהִי֙   HJH[  745899  phrase   \n",
       "3  יְהִי֙       Pred  180305  word  יְהִי֙   HJH[  755787  phrase   \n",
       "4  יְהִי֙       Pred  186479  word  יְהִי֙   HJH[  758914  phrase   \n",
       "\n",
       "                   TEXT4 function4   NODE5 TYPE5     TEXT5  lex5 st5   NODE6  \\\n",
       "0      דְבַר־שְׁמוּאֵ֖ל       Subj  143275  word    דְבַר־  DBR/   c  143276   \n",
       "1        דְּבַר־יְהוָ֔ה       Subj  149748  word   דְּבַר־  DBR/   c  149749   \n",
       "2        דְּבַר־יְהוָ֔ה       Subj  164018  word   דְּבַר־  DBR/   c  164019   \n",
       "3        דְּבַר־יְהוָ֔ה       Subj  180306  word   דְּבַר־  DBR/   c  180307   \n",
       "4  דְּבַ֣ר הָֽאֱלֹהִ֔ים       Subj  186480  word  דְּבַ֣ר   DBR/   c  186481   \n",
       "\n",
       "  TYPE6        TEXT6    lex6  \n",
       "0  word  שְׁמוּאֵ֖ל   CMW>L/  \n",
       "1  word     יְהוָ֔ה    JHWH/  \n",
       "2  word     יְהוָ֔ה    JHWH/  \n",
       "3  word     יְהוָ֔ה    JHWH/  \n",
       "4  word          הָֽ       H  "
      ]
     },
     "execution_count": 6,
     "metadata": {},
     "output_type": "execute_result"
    }
   ],
   "source": [
    "WordHappens1=pd.read_csv('D:/OneDrive/1200_AUS-research/Fabric-TEXT/WordHappens1.tsv',delimiter='\\t',encoding='utf-16')\n",
    "pd.set_option('display.max_columns', 50)\n",
    "WordHappens1.head()"
   ]
  },
  {
   "cell_type": "code",
   "execution_count": 7,
   "metadata": {},
   "outputs": [
    {
     "data": {
      "text/plain": [
       "JHWH/     84\n",
       ">LHJM/     1\n",
       "CMW>L/     1\n",
       "H          1\n",
       "Name: lex6, dtype: int64"
      ]
     },
     "execution_count": 7,
     "metadata": {},
     "output_type": "execute_result"
    }
   ],
   "source": [
    "WordHappens1[\"lex6\"].value_counts()"
   ]
  },
  {
   "cell_type": "code",
   "execution_count": 8,
   "metadata": {},
   "outputs": [
    {
     "data": {
      "image/png": "[encoded data removed]",
      "text/plain": [
       "<Figure size 1080x720 with 1 Axes>"
      ]
     },
     "metadata": {
      "needs_background": "light"
     },
     "output_type": "display_data"
    }
   ],
   "source": [
    "fig, ax = plt.subplots()\n",
    "fig.set_size_inches(15, 10)\n",
    "\n",
    "for S1, df in WordHappens1.groupby('lex6'):\n",
    "    ax.scatter(x=\"S1\", y=\"lex6\", data=df, label=S1)\n",
    "\n",
    "ax.set_xlabel(\"predicates used by YHWH as subject\")\n",
    "ax.set_ylabel(\"book\")\n",
    "ax.legend();"
   ]
  },
  {
   "cell_type": "code",
   "execution_count": 9,
   "metadata": {},
   "outputs": [
    {
     "data": {
      "text/plain": [
       "Text(0.5,20.8,'OT books')"
      ]
     },
     "execution_count": 9,
     "metadata": {},
     "output_type": "execute_result"
    },
    {
     "data": {
      "image/png": "[encoded data removed]",
      "text/plain": [
       "<Figure size 1038.5x1440 with 1 Axes>"
      ]
     },
     "metadata": {
      "needs_background": "light"
     },
     "output_type": "display_data"
    }
   ],
   "source": [
    "sns.lmplot(x=\"S1\", y=\"R\", data=WordHappens1, hue='lex6', height=20, aspect=2/3, fit_reg=False, scatter_kws={\"s\": 200})\n",
    "ax = plt.gca()\n",
    "ax.set_ylabel('Number of occurence of ImpChainType')\n",
    "ax.set_xlabel('OT books')"
   ]
  },
  {
   "cell_type": "code",
   "execution_count": 10,
   "metadata": {},
   "outputs": [
    {
     "name": "stdout",
     "output_type": "stream",
     "text": [
      "  2.21s 2 results\n"
     ]
    },
    {
     "data": {
      "text/html": [
       "<table>\n",
       "<tr class=\"tf\">\n",
       "  <th class=\"tf\">n</th><th class=\"tf\">p</th>\n",
       "  <th class=\"tf\">verse</th><th>phrase</th><th>phrase</th><th>clause</th><th>word</th><th>word</th><th>word</th>\n",
       "</tr>\n",
       "\n",
       "<tr class=\"tf\"><td class=\"tf\">1</td><td class=\"tf\"> <a href=\"https://shebanq.ancient-data.org/hebrew/text?book=Reges_I&amp;chapter=12&amp;verse=22&amp;version=c&amp;mr=m&amp;qw=q&amp;tp=txt_p&amp;tr=hb&amp;wget=v&amp;qget=v&amp;nget=vt\" title=\"show this passage in SHEBANQ\" sec=\"1_Kings 12:22\">1_Kings 12:22</a></td><td class=\"tf\"><span class=\"hb\"><a class=\"vn\" href=\"https://shebanq.ancient-data.org/hebrew/text?book=Reges_I&amp;chapter=12&amp;verse=22&amp;version=c&amp;mr=m&amp;qw=q&amp;tp=txt_p&amp;tr=hb&amp;wget=v&amp;qget=v&amp;nget=vt\" title=\"1_Kings 12:22\" sec=\"1_Kings 12:22\"></a><span  class=\"hlup\" >וַ</span><span  class=\"hl hlup\" >יְהִי֙ </span><span  class=\"hl hlup\" >דְּבַ֣ר </span><span  class=\"hl hlup\" >הָֽ</span><span  class=\"hlup\" >אֱלֹהִ֔ים </span><span  class=\"hlup\" >אֶל־</span><span  class=\"hlup\" >שְׁמַעְיָ֥ה </span><span  class=\"hlup\" >אִישׁ־</span><span  class=\"hlup\" >הָ</span><span  class=\"hlup\" >אֱלֹהִ֖ים </span>לֵאמֹֽר׃ </span></td><td class=\"tf\"><span class=\"hb\"><span  class=\"hl hlup\" >יְהִי֙ </span></span></td><td class=\"tf\"><span class=\"hb\"><span  class=\"hl hlup\" >דְּבַ֣ר </span><span  class=\"hl hlup\" >הָֽ</span><span  class=\"hlup\" >אֱלֹהִ֔ים </span></span></td><td class=\"tf\"><span class=\"hb\"><span  class=\"hlup\" >וַ</span><span  class=\"hl hlup\" >יְהִי֙ </span><span  class=\"hl hlup\" >דְּבַ֣ר </span><span  class=\"hl hlup\" >הָֽ</span><span  class=\"hlup\" >אֱלֹהִ֔ים </span><span  class=\"hlup\" >אֶל־</span><span  class=\"hlup\" >שְׁמַעְיָ֥ה </span><span  class=\"hlup\" >אִישׁ־</span><span  class=\"hlup\" >הָ</span><span  class=\"hlup\" >אֱלֹהִ֖ים </span></span></td><td class=\"tf\"><span class=\"hb\"><span  class=\"hl hlup\" >יְהִי֙ </span></span></td><td class=\"tf\"><span class=\"hb\"><span  class=\"hl hlup\" >דְּבַ֣ר </span></span></td><td class=\"tf\"><span class=\"hb\"><span  class=\"hl hlup\" >הָֽ</span></span></td></tr>\n",
       "<tr class=\"tf\"><td class=\"tf\">2</td><td class=\"tf\"> <a href=\"https://shebanq.ancient-data.org/hebrew/text?book=Chronica_I&amp;chapter=17&amp;verse=3&amp;version=c&amp;mr=m&amp;qw=q&amp;tp=txt_p&amp;tr=hb&amp;wget=v&amp;qget=v&amp;nget=vt\" title=\"show this passage in SHEBANQ\" sec=\"1_Chronicles 17:3\">1_Chronicles 17:3</a></td><td class=\"tf\"><span class=\"hb\"><a class=\"vn\" href=\"https://shebanq.ancient-data.org/hebrew/text?book=Chronica_I&amp;chapter=17&amp;verse=3&amp;version=c&amp;mr=m&amp;qw=q&amp;tp=txt_p&amp;tr=hb&amp;wget=v&amp;qget=v&amp;nget=vt\" title=\"1_Chronicles 17:3\" sec=\"1_Chronicles 17:3\"></a>וַֽיְהִ֖י בַּלַּ֣יְלָה הַה֑וּא <span  class=\"hlup\" >וַ</span><span  class=\"hl hlup\" >יְהִי֙ </span><span  class=\"hl hlup\" >דְּבַר־</span><span  class=\"hl hlup\" >אֱלֹהִ֔ים </span><span  class=\"hlup\" >אֶל־</span><span  class=\"hlup\" >נָתָ֖ן </span>לֵאמֹֽר׃ </span></td><td class=\"tf\"><span class=\"hb\"><span  class=\"hl hlup\" >יְהִי֙ </span></span></td><td class=\"tf\"><span class=\"hb\"><span  class=\"hl hlup\" >דְּבַר־</span><span  class=\"hl hlup\" >אֱלֹהִ֔ים </span></span></td><td class=\"tf\"><span class=\"hb\"><span  class=\"hl hlup\" >יְהִי֙ </span></span></td><td class=\"tf\"><span class=\"hb\"><span  class=\"hl hlup\" >דְּבַר־</span></span></td><td class=\"tf\"><span class=\"hb\"><span  class=\"hl hlup\" >אֱלֹהִ֔ים </span></span></td><td class=\"tf\"><span class=\"hb\"><span  class=\"hlup\" >וַ</span><span  class=\"hl hlup\" >יְהִי֙ </span><span  class=\"hl hlup\" >דְּבַר־</span><span  class=\"hl hlup\" >אֱלֹהִ֔ים </span><span  class=\"hlup\" >אֶל־</span><span  class=\"hlup\" >נָתָ֖ן </span></span></td></tr></table>"
      ],
      "text/plain": [
       "<IPython.core.display.HTML object>"
      ]
     },
     "metadata": {},
     "output_type": "display_data"
    }
   ],
   "source": [
    "WordHappens2='''\n",
    "clause typ=WayX\n",
    "    phrase function=Pred\n",
    "        word lex=HJH[\n",
    "    phrase function=Subj\n",
    "        word lex=DBR/ st=c\n",
    "        <: word sp#nmpr\n",
    "'''\n",
    "WordHappens2  = A.search(WordHappens2)\n",
    "A.table(WordHappens2, start=1, end=2, condensed=True)"
   ]
  },
  {
   "cell_type": "code",
   "execution_count": 11,
   "metadata": {},
   "outputs": [
    {
     "name": "stdout",
     "output_type": "stream",
     "text": [
      "  2.34s 72 results\n"
     ]
    },
    {
     "data": {
      "text/html": [
       "<table>\n",
       "<tr class=\"tf\">\n",
       "  <th class=\"tf\">n</th><th class=\"tf\">p</th>\n",
       "  <th class=\"tf\">verse</th><th>word</th><th>word</th><th>clause</th><th>phrase</th><th>phrase</th>\n",
       "</tr>\n",
       "\n",
       "<tr class=\"tf\"><td class=\"tf\">1</td><td class=\"tf\"> <a href=\"https://shebanq.ancient-data.org/hebrew/text?book=Genesis&amp;chapter=1&amp;verse=3&amp;version=c&amp;mr=m&amp;qw=q&amp;tp=txt_p&amp;tr=hb&amp;wget=v&amp;qget=v&amp;nget=vt\" title=\"show this passage in SHEBANQ\" sec=\"Genesis 1:3\">Genesis 1:3</a></td><td class=\"tf\"><span class=\"hb\"><a class=\"vn\" href=\"https://shebanq.ancient-data.org/hebrew/text?book=Genesis&amp;chapter=1&amp;verse=3&amp;version=c&amp;mr=m&amp;qw=q&amp;tp=txt_p&amp;tr=hb&amp;wget=v&amp;qget=v&amp;nget=vt\" title=\"Genesis 1:3\" sec=\"Genesis 1:3\"></a>וַיֹּ֥אמֶר אֱלֹהִ֖ים יְהִ֣י אֹ֑ור <span  class=\"hlup\" >וַֽ</span><span  class=\"hl hlup\" >יְהִי־</span><span  class=\"hl hlup\" >אֹֽור׃ </span></span></td><td class=\"tf\"><span class=\"hb\"><span  class=\"hl hlup\" >יְהִי־</span></span></td><td class=\"tf\"><span class=\"hb\"><span  class=\"hl hlup\" >אֹֽור׃ </span></span></td><td class=\"tf\"><span class=\"hb\"><span  class=\"hlup\" >וַֽ</span><span  class=\"hl hlup\" >יְהִי־</span><span  class=\"hl hlup\" >אֹֽור׃ </span></span></td><td class=\"tf\"><span class=\"hb\"><span  class=\"hl hlup\" >יְהִי־</span></span></td><td class=\"tf\"><span class=\"hb\"><span  class=\"hl hlup\" >אֹֽור׃ </span></span></td></tr>\n",
       "<tr class=\"tf\"><td class=\"tf\">2</td><td class=\"tf\"> <a href=\"https://shebanq.ancient-data.org/hebrew/text?book=Genesis&amp;chapter=1&amp;verse=5&amp;version=c&amp;mr=m&amp;qw=q&amp;tp=txt_p&amp;tr=hb&amp;wget=v&amp;qget=v&amp;nget=vt\" title=\"show this passage in SHEBANQ\" sec=\"Genesis 1:5\">Genesis 1:5</a></td><td class=\"tf\"><span class=\"hb\"><a class=\"vn\" href=\"https://shebanq.ancient-data.org/hebrew/text?book=Genesis&amp;chapter=1&amp;verse=5&amp;version=c&amp;mr=m&amp;qw=q&amp;tp=txt_p&amp;tr=hb&amp;wget=v&amp;qget=v&amp;nget=vt\" title=\"Genesis 1:5\" sec=\"Genesis 1:5\"></a>וַיִּקְרָ֨א אֱלֹהִ֤ים׀ לָאֹור֙ יֹ֔ום וְלַחֹ֖שֶׁךְ קָ֣רָא לָ֑יְלָה <span  class=\"hlup\" >וַֽ</span><span  class=\"hl hlup\" >יְהִי־</span><span  class=\"hl hlup\" >עֶ֥רֶב </span><span  class=\"hlup\" >וַֽ</span><span  class=\"hl hlup\" >יְהִי־</span><span  class=\"hl hlup\" >בֹ֖קֶר </span>יֹ֥ום אֶחָֽד׃ פ </span></td><td class=\"tf\"><span class=\"hb\"><span  class=\"hl hlup\" >יְהִי־</span></span></td><td class=\"tf\"><span class=\"hb\"><span  class=\"hl hlup\" >עֶ֥רֶב </span></span></td><td class=\"tf\"><span class=\"hb\"><span  class=\"hl hlup\" >יְהִי־</span></span></td><td class=\"tf\"><span class=\"hb\"><span  class=\"hl hlup\" >בֹ֖קֶר </span></span></td><td class=\"tf\"><span class=\"hb\"><span  class=\"hl hlup\" >יְהִי־</span></span></td><td class=\"tf\"><span class=\"hb\"><span  class=\"hl hlup\" >עֶ֥רֶב </span></span></td><td class=\"tf\"><span class=\"hb\"><span  class=\"hl hlup\" >יְהִי־</span></span></td><td class=\"tf\"><span class=\"hb\"><span  class=\"hl hlup\" >בֹ֖קֶר </span></span></td><td class=\"tf\"><span class=\"hb\"><span  class=\"hlup\" >וַֽ</span><span  class=\"hl hlup\" >יְהִי־</span><span  class=\"hl hlup\" >עֶ֥רֶב </span></span></td><td class=\"tf\"><span class=\"hb\"><span  class=\"hlup\" >וַֽ</span><span  class=\"hl hlup\" >יְהִי־</span><span  class=\"hl hlup\" >בֹ֖קֶר </span></span></td></tr>\n",
       "<tr class=\"tf\"><td class=\"tf\">3</td><td class=\"tf\"> <a href=\"https://shebanq.ancient-data.org/hebrew/text?book=Genesis&amp;chapter=1&amp;verse=8&amp;version=c&amp;mr=m&amp;qw=q&amp;tp=txt_p&amp;tr=hb&amp;wget=v&amp;qget=v&amp;nget=vt\" title=\"show this passage in SHEBANQ\" sec=\"Genesis 1:8\">Genesis 1:8</a></td><td class=\"tf\"><span class=\"hb\"><a class=\"vn\" href=\"https://shebanq.ancient-data.org/hebrew/text?book=Genesis&amp;chapter=1&amp;verse=8&amp;version=c&amp;mr=m&amp;qw=q&amp;tp=txt_p&amp;tr=hb&amp;wget=v&amp;qget=v&amp;nget=vt\" title=\"Genesis 1:8\" sec=\"Genesis 1:8\"></a>וַיִּקְרָ֧א אֱלֹהִ֛ים לָֽרָקִ֖יעַ שָׁמָ֑יִם <span  class=\"hlup\" >וַֽ</span><span  class=\"hl hlup\" >יְהִי־</span><span  class=\"hl hlup\" >עֶ֥רֶב </span><span  class=\"hlup\" >וַֽ</span><span  class=\"hl hlup\" >יְהִי־</span><span  class=\"hl hlup\" >בֹ֖קֶר </span>יֹ֥ום שֵׁנִֽי׃ פ </span></td><td class=\"tf\"><span class=\"hb\"><span  class=\"hl hlup\" >יְהִי־</span></span></td><td class=\"tf\"><span class=\"hb\"><span  class=\"hl hlup\" >עֶ֥רֶב </span></span></td><td class=\"tf\"><span class=\"hb\"><span  class=\"hl hlup\" >עֶ֥רֶב </span></span></td><td class=\"tf\"><span class=\"hb\"><span  class=\"hl hlup\" >יְהִי־</span></span></td><td class=\"tf\"><span class=\"hb\"><span  class=\"hl hlup\" >יְהִי־</span></span></td><td class=\"tf\"><span class=\"hb\"><span  class=\"hl hlup\" >יְהִי־</span></span></td><td class=\"tf\"><span class=\"hb\"><span  class=\"hl hlup\" >בֹ֖קֶר </span></span></td><td class=\"tf\"><span class=\"hb\"><span  class=\"hl hlup\" >בֹ֖קֶר </span></span></td><td class=\"tf\"><span class=\"hb\"><span  class=\"hlup\" >וַֽ</span><span  class=\"hl hlup\" >יְהִי־</span><span  class=\"hl hlup\" >עֶ֥רֶב </span></span></td><td class=\"tf\"><span class=\"hb\"><span  class=\"hlup\" >וַֽ</span><span  class=\"hl hlup\" >יְהִי־</span><span  class=\"hl hlup\" >בֹ֖קֶר </span></span></td></tr>\n",
       "<tr class=\"tf\"><td class=\"tf\">4</td><td class=\"tf\"> <a href=\"https://shebanq.ancient-data.org/hebrew/text?book=Genesis&amp;chapter=1&amp;verse=13&amp;version=c&amp;mr=m&amp;qw=q&amp;tp=txt_p&amp;tr=hb&amp;wget=v&amp;qget=v&amp;nget=vt\" title=\"show this passage in SHEBANQ\" sec=\"Genesis 1:13\">Genesis 1:13</a></td><td class=\"tf\"><span class=\"hb\"><a class=\"vn\" href=\"https://shebanq.ancient-data.org/hebrew/text?book=Genesis&amp;chapter=1&amp;verse=13&amp;version=c&amp;mr=m&amp;qw=q&amp;tp=txt_p&amp;tr=hb&amp;wget=v&amp;qget=v&amp;nget=vt\" title=\"Genesis 1:13\" sec=\"Genesis 1:13\"></a><span  class=\"hlup\" >וַֽ</span><span  class=\"hl hlup\" >יְהִי־</span><span  class=\"hl hlup\" >עֶ֥רֶב </span><span  class=\"hlup\" >וַֽ</span><span  class=\"hl hlup\" >יְהִי־</span><span  class=\"hl hlup\" >בֹ֖קֶר </span>יֹ֥ום שְׁלִישִֽׁי׃ פ </span></td><td class=\"tf\"><span class=\"hb\"><span  class=\"hl hlup\" >יְהִי־</span></span></td><td class=\"tf\"><span class=\"hb\"><span  class=\"hl hlup\" >עֶ֥רֶב </span></span></td><td class=\"tf\"><span class=\"hb\"><span  class=\"hl hlup\" >יְהִי־</span></span></td><td class=\"tf\"><span class=\"hb\"><span  class=\"hl hlup\" >בֹ֖קֶר </span></span></td><td class=\"tf\"><span class=\"hb\"><span  class=\"hl hlup\" >יְהִי־</span></span></td><td class=\"tf\"><span class=\"hb\"><span  class=\"hl hlup\" >עֶ֥רֶב </span></span></td><td class=\"tf\"><span class=\"hb\"><span  class=\"hl hlup\" >יְהִי־</span></span></td><td class=\"tf\"><span class=\"hb\"><span  class=\"hl hlup\" >בֹ֖קֶר </span></span></td><td class=\"tf\"><span class=\"hb\"><span  class=\"hlup\" >וַֽ</span><span  class=\"hl hlup\" >יְהִי־</span><span  class=\"hl hlup\" >עֶ֥רֶב </span></span></td><td class=\"tf\"><span class=\"hb\"><span  class=\"hlup\" >וַֽ</span><span  class=\"hl hlup\" >יְהִי־</span><span  class=\"hl hlup\" >בֹ֖קֶר </span></span></td></tr>\n",
       "<tr class=\"tf\"><td class=\"tf\">5</td><td class=\"tf\"> <a href=\"https://shebanq.ancient-data.org/hebrew/text?book=Genesis&amp;chapter=1&amp;verse=19&amp;version=c&amp;mr=m&amp;qw=q&amp;tp=txt_p&amp;tr=hb&amp;wget=v&amp;qget=v&amp;nget=vt\" title=\"show this passage in SHEBANQ\" sec=\"Genesis 1:19\">Genesis 1:19</a></td><td class=\"tf\"><span class=\"hb\"><a class=\"vn\" href=\"https://shebanq.ancient-data.org/hebrew/text?book=Genesis&amp;chapter=1&amp;verse=19&amp;version=c&amp;mr=m&amp;qw=q&amp;tp=txt_p&amp;tr=hb&amp;wget=v&amp;qget=v&amp;nget=vt\" title=\"Genesis 1:19\" sec=\"Genesis 1:19\"></a><span  class=\"hlup\" >וַֽ</span><span  class=\"hl hlup\" >יְהִי־</span><span  class=\"hl hlup\" >עֶ֥רֶב </span><span  class=\"hlup\" >וַֽ</span><span  class=\"hl hlup\" >יְהִי־</span><span  class=\"hl hlup\" >בֹ֖קֶר </span>יֹ֥ום רְבִיעִֽי׃ פ </span></td><td class=\"tf\"><span class=\"hb\"><span  class=\"hlup\" >וַֽ</span><span  class=\"hl hlup\" >יְהִי־</span><span  class=\"hl hlup\" >עֶ֥רֶב </span></span></td><td class=\"tf\"><span class=\"hb\"><span  class=\"hl hlup\" >עֶ֥רֶב </span></span></td><td class=\"tf\"><span class=\"hb\"><span  class=\"hl hlup\" >יְהִי־</span></span></td><td class=\"tf\"><span class=\"hb\"><span  class=\"hlup\" >וַֽ</span><span  class=\"hl hlup\" >יְהִי־</span><span  class=\"hl hlup\" >בֹ֖קֶר </span></span></td><td class=\"tf\"><span class=\"hb\"><span  class=\"hl hlup\" >יְהִי־</span></span></td><td class=\"tf\"><span class=\"hb\"><span  class=\"hl hlup\" >בֹ֖קֶר </span></span></td><td class=\"tf\"><span class=\"hb\"><span  class=\"hl hlup\" >יְהִי־</span></span></td><td class=\"tf\"><span class=\"hb\"><span  class=\"hl hlup\" >עֶ֥רֶב </span></span></td><td class=\"tf\"><span class=\"hb\"><span  class=\"hl hlup\" >יְהִי־</span></span></td><td class=\"tf\"><span class=\"hb\"><span  class=\"hl hlup\" >בֹ֖קֶר </span></span></td></tr>\n",
       "<tr class=\"tf\"><td class=\"tf\">6</td><td class=\"tf\"> <a href=\"https://shebanq.ancient-data.org/hebrew/text?book=Genesis&amp;chapter=1&amp;verse=23&amp;version=c&amp;mr=m&amp;qw=q&amp;tp=txt_p&amp;tr=hb&amp;wget=v&amp;qget=v&amp;nget=vt\" title=\"show this passage in SHEBANQ\" sec=\"Genesis 1:23\">Genesis 1:23</a></td><td class=\"tf\"><span class=\"hb\"><a class=\"vn\" href=\"https://shebanq.ancient-data.org/hebrew/text?book=Genesis&amp;chapter=1&amp;verse=23&amp;version=c&amp;mr=m&amp;qw=q&amp;tp=txt_p&amp;tr=hb&amp;wget=v&amp;qget=v&amp;nget=vt\" title=\"Genesis 1:23\" sec=\"Genesis 1:23\"></a><span  class=\"hlup\" >וַֽ</span><span  class=\"hl hlup\" >יְהִי־</span><span  class=\"hl hlup\" >עֶ֥רֶב </span><span  class=\"hlup\" >וַֽ</span><span  class=\"hl hlup\" >יְהִי־</span><span  class=\"hl hlup\" >בֹ֖קֶר </span>יֹ֥ום חֲמִישִֽׁי׃ פ </span></td><td class=\"tf\"><span class=\"hb\"><span  class=\"hl hlup\" >יְהִי־</span></span></td><td class=\"tf\"><span class=\"hb\"><span  class=\"hl hlup\" >עֶ֥רֶב </span></span></td><td class=\"tf\"><span class=\"hb\"><span  class=\"hl hlup\" >יְהִי־</span></span></td><td class=\"tf\"><span class=\"hb\"><span  class=\"hl hlup\" >בֹ֖קֶר </span></span></td><td class=\"tf\"><span class=\"hb\"><span  class=\"hlup\" >וַֽ</span><span  class=\"hl hlup\" >יְהִי־</span><span  class=\"hl hlup\" >עֶ֥רֶב </span></span></td><td class=\"tf\"><span class=\"hb\"><span  class=\"hlup\" >וַֽ</span><span  class=\"hl hlup\" >יְהִי־</span><span  class=\"hl hlup\" >בֹ֖קֶר </span></span></td><td class=\"tf\"><span class=\"hb\"><span  class=\"hl hlup\" >יְהִי־</span></span></td><td class=\"tf\"><span class=\"hb\"><span  class=\"hl hlup\" >עֶ֥רֶב </span></span></td><td class=\"tf\"><span class=\"hb\"><span  class=\"hl hlup\" >יְהִי־</span></span></td><td class=\"tf\"><span class=\"hb\"><span  class=\"hl hlup\" >בֹ֖קֶר </span></span></td></tr>\n",
       "<tr class=\"tf\"><td class=\"tf\">7</td><td class=\"tf\"> <a href=\"https://shebanq.ancient-data.org/hebrew/text?book=Genesis&amp;chapter=1&amp;verse=31&amp;version=c&amp;mr=m&amp;qw=q&amp;tp=txt_p&amp;tr=hb&amp;wget=v&amp;qget=v&amp;nget=vt\" title=\"show this passage in SHEBANQ\" sec=\"Genesis 1:31\">Genesis 1:31</a></td><td class=\"tf\"><span class=\"hb\"><a class=\"vn\" href=\"https://shebanq.ancient-data.org/hebrew/text?book=Genesis&amp;chapter=1&amp;verse=31&amp;version=c&amp;mr=m&amp;qw=q&amp;tp=txt_p&amp;tr=hb&amp;wget=v&amp;qget=v&amp;nget=vt\" title=\"Genesis 1:31\" sec=\"Genesis 1:31\"></a>וַיַּ֤רְא אֱלֹהִים֙ אֶת־כָּל־אֲשֶׁ֣ר עָשָׂ֔ה וְהִנֵּה־טֹ֖וב מְאֹ֑ד <span  class=\"hlup\" >וַֽ</span><span  class=\"hl hlup\" >יְהִי־</span><span  class=\"hl hlup\" >עֶ֥רֶב </span><span  class=\"hlup\" >וַֽ</span><span  class=\"hl hlup\" >יְהִי־</span><span  class=\"hl hlup\" >בֹ֖קֶר </span>יֹ֥ום הַשִּׁשִּֽׁי׃ פ </span></td><td class=\"tf\"><span class=\"hb\"><span  class=\"hl hlup\" >יְהִי־</span></span></td><td class=\"tf\"><span class=\"hb\"><span  class=\"hl hlup\" >יְהִי־</span></span></td><td class=\"tf\"><span class=\"hb\"><span  class=\"hl hlup\" >עֶ֥רֶב </span></span></td><td class=\"tf\"><span class=\"hb\"><span  class=\"hl hlup\" >יְהִי־</span></span></td><td class=\"tf\"><span class=\"hb\"><span  class=\"hl hlup\" >בֹ֖קֶר </span></span></td><td class=\"tf\"><span class=\"hb\"><span  class=\"hl hlup\" >יְהִי־</span></span></td><td class=\"tf\"><span class=\"hb\"><span  class=\"hl hlup\" >עֶ֥רֶב </span></span></td><td class=\"tf\"><span class=\"hb\"><span  class=\"hlup\" >וַֽ</span><span  class=\"hl hlup\" >יְהִי־</span><span  class=\"hl hlup\" >עֶ֥רֶב </span></span></td><td class=\"tf\"><span class=\"hb\"><span  class=\"hlup\" >וַֽ</span><span  class=\"hl hlup\" >יְהִי־</span><span  class=\"hl hlup\" >בֹ֖קֶר </span></span></td><td class=\"tf\"><span class=\"hb\"><span  class=\"hl hlup\" >בֹ֖קֶר </span></span></td></tr>\n",
       "<tr class=\"tf\"><td class=\"tf\">8</td><td class=\"tf\"> <a href=\"https://shebanq.ancient-data.org/hebrew/text?book=Genesis&amp;chapter=10&amp;verse=30&amp;version=c&amp;mr=m&amp;qw=q&amp;tp=txt_p&amp;tr=hb&amp;wget=v&amp;qget=v&amp;nget=vt\" title=\"show this passage in SHEBANQ\" sec=\"Genesis 10:30\">Genesis 10:30</a></td><td class=\"tf\"><span class=\"hb\"><a class=\"vn\" href=\"https://shebanq.ancient-data.org/hebrew/text?book=Genesis&amp;chapter=10&amp;verse=30&amp;version=c&amp;mr=m&amp;qw=q&amp;tp=txt_p&amp;tr=hb&amp;wget=v&amp;qget=v&amp;nget=vt\" title=\"Genesis 10:30\" sec=\"Genesis 10:30\"></a><span  class=\"hlup\" >וַֽ</span><span  class=\"hl hlup\" >יְהִ֥י </span><span  class=\"hl hlup\" >מֹושָׁבָ֖ם </span><span  class=\"hlup\" >מִ</span><span  class=\"hlup\" >מֵּשָׁ֑א </span>בֹּאֲכָ֥ה סְפָ֖רָה הַ֥ר הַקֶּֽדֶם׃ </span></td><td class=\"tf\"><span class=\"hb\"><span  class=\"hl hlup\" >יְהִ֥י </span></span></td><td class=\"tf\"><span class=\"hb\"><span  class=\"hl hlup\" >מֹושָׁבָ֖ם </span></span></td><td class=\"tf\"><span class=\"hb\"><span  class=\"hlup\" >וַֽ</span><span  class=\"hl hlup\" >יְהִ֥י </span><span  class=\"hl hlup\" >מֹושָׁבָ֖ם </span><span  class=\"hlup\" >מִ</span><span  class=\"hlup\" >מֵּשָׁ֑א </span></span></td><td class=\"tf\"><span class=\"hb\"><span  class=\"hl hlup\" >יְהִ֥י </span></span></td><td class=\"tf\"><span class=\"hb\"><span  class=\"hl hlup\" >מֹושָׁבָ֖ם </span></span></td></tr>\n",
       "<tr class=\"tf\"><td class=\"tf\">9</td><td class=\"tf\"> <a href=\"https://shebanq.ancient-data.org/hebrew/text?book=Genesis&amp;chapter=12&amp;verse=10&amp;version=c&amp;mr=m&amp;qw=q&amp;tp=txt_p&amp;tr=hb&amp;wget=v&amp;qget=v&amp;nget=vt\" title=\"show this passage in SHEBANQ\" sec=\"Genesis 12:10\">Genesis 12:10</a></td><td class=\"tf\"><span class=\"hb\"><a class=\"vn\" href=\"https://shebanq.ancient-data.org/hebrew/text?book=Genesis&amp;chapter=12&amp;verse=10&amp;version=c&amp;mr=m&amp;qw=q&amp;tp=txt_p&amp;tr=hb&amp;wget=v&amp;qget=v&amp;nget=vt\" title=\"Genesis 12:10\" sec=\"Genesis 12:10\"></a><span  class=\"hlup\" >וַ</span><span  class=\"hl hlup\" >יְהִ֥י </span><span  class=\"hl hlup\" >רָעָ֖ב </span><span  class=\"hlup\" >בָּ</span><span  class=\"hlup\" ></span><span  class=\"hlup\" >אָ֑רֶץ </span>וַיֵּ֨רֶד אַבְרָ֤ם מִצְרַ֨יְמָה֙ לָג֣וּר שָׁ֔ם כִּֽי־כָבֵ֥ד הָרָעָ֖ב בָּאָֽרֶץ׃ </span></td><td class=\"tf\"><span class=\"hb\"><span  class=\"hl hlup\" >יְהִ֥י </span></span></td><td class=\"tf\"><span class=\"hb\"><span  class=\"hl hlup\" >רָעָ֖ב </span></span></td><td class=\"tf\"><span class=\"hb\"><span  class=\"hl hlup\" >יְהִ֥י </span></span></td><td class=\"tf\"><span class=\"hb\"><span  class=\"hl hlup\" >רָעָ֖ב </span></span></td><td class=\"tf\"><span class=\"hb\"><span  class=\"hlup\" >וַ</span><span  class=\"hl hlup\" >יְהִ֥י </span><span  class=\"hl hlup\" >רָעָ֖ב </span><span  class=\"hlup\" >בָּ</span><span  class=\"hlup\" ></span><span  class=\"hlup\" >אָ֑רֶץ </span></span></td></tr>\n",
       "<tr class=\"tf\"><td class=\"tf\">10</td><td class=\"tf\"> <a href=\"https://shebanq.ancient-data.org/hebrew/text?book=Genesis&amp;chapter=13&amp;verse=7&amp;version=c&amp;mr=m&amp;qw=q&amp;tp=txt_p&amp;tr=hb&amp;wget=v&amp;qget=v&amp;nget=vt\" title=\"show this passage in SHEBANQ\" sec=\"Genesis 13:7\">Genesis 13:7</a></td><td class=\"tf\"><span class=\"hb\"><a class=\"vn\" href=\"https://shebanq.ancient-data.org/hebrew/text?book=Genesis&amp;chapter=13&amp;verse=7&amp;version=c&amp;mr=m&amp;qw=q&amp;tp=txt_p&amp;tr=hb&amp;wget=v&amp;qget=v&amp;nget=vt\" title=\"Genesis 13:7\" sec=\"Genesis 13:7\"></a><span  class=\"hlup\" >וַֽ</span><span  class=\"hl hlup\" >יְהִי־</span><span  class=\"hl hlup\" >רִ֗יב </span><span  class=\"hlup\" >בֵּ֚ין </span><span  class=\"hlup\" >רֹעֵ֣י </span><span  class=\"hlup\" >מִקְנֵֽה־</span><span  class=\"hlup\" >אַבְרָ֔ם </span><span  class=\"hlup\" >וּ</span><span  class=\"hlup\" >בֵ֖ין </span><span  class=\"hlup\" >רֹעֵ֣י </span><span  class=\"hlup\" >מִקְנֵה־</span><span  class=\"hlup\" >לֹ֑וט </span>וְהַֽכְּנַעֲנִי֙ וְהַפְּרִזִּ֔י אָ֖ז יֹשֵׁ֥ב בָּאָֽרֶץ׃ </span></td><td class=\"tf\"><span class=\"hb\"><span  class=\"hl hlup\" >יְהִי־</span></span></td><td class=\"tf\"><span class=\"hb\"><span  class=\"hl hlup\" >רִ֗יב </span></span></td><td class=\"tf\"><span class=\"hb\"><span  class=\"hl hlup\" >יְהִי־</span></span></td><td class=\"tf\"><span class=\"hb\"><span  class=\"hl hlup\" >רִ֗יב </span></span></td><td class=\"tf\"><span class=\"hb\"><span  class=\"hlup\" >וַֽ</span><span  class=\"hl hlup\" >יְהִי־</span><span  class=\"hl hlup\" >רִ֗יב </span><span  class=\"hlup\" >בֵּ֚ין </span><span  class=\"hlup\" >רֹעֵ֣י </span><span  class=\"hlup\" >מִקְנֵֽה־</span><span  class=\"hlup\" >אַבְרָ֔ם </span><span  class=\"hlup\" >וּ</span><span  class=\"hlup\" >בֵ֖ין </span><span  class=\"hlup\" >רֹעֵ֣י </span><span  class=\"hlup\" >מִקְנֵה־</span><span  class=\"hlup\" >לֹ֑וט </span></span></td></tr>\n",
       "<tr class=\"tf\"><td class=\"tf\">11</td><td class=\"tf\"> <a href=\"https://shebanq.ancient-data.org/hebrew/text?book=Genesis&amp;chapter=26&amp;verse=1&amp;version=c&amp;mr=m&amp;qw=q&amp;tp=txt_p&amp;tr=hb&amp;wget=v&amp;qget=v&amp;nget=vt\" title=\"show this passage in SHEBANQ\" sec=\"Genesis 26:1\">Genesis 26:1</a></td><td class=\"tf\"><span class=\"hb\"><a class=\"vn\" href=\"https://shebanq.ancient-data.org/hebrew/text?book=Genesis&amp;chapter=26&amp;verse=1&amp;version=c&amp;mr=m&amp;qw=q&amp;tp=txt_p&amp;tr=hb&amp;wget=v&amp;qget=v&amp;nget=vt\" title=\"Genesis 26:1\" sec=\"Genesis 26:1\"></a><span  class=\"hlup\" >וַ</span><span  class=\"hl hlup\" >יְהִ֤י </span><span  class=\"hl hlup\" >רָעָב֙ </span><span  class=\"hlup\" >בָּ</span><span  class=\"hlup\" ></span><span  class=\"hlup\" >אָ֔רֶץ </span><span  class=\"hlup\" >מִ</span><span  class=\"hlup\" >לְּ</span><span  class=\"hlup\" >בַד֙ </span><span  class=\"hlup\" >הָ</span><span  class=\"hlup\" >רָעָ֣ב </span><span  class=\"hlup\" >הָ</span><span  class=\"hlup\" >רִאשֹׁ֔ון </span>אֲשֶׁ֥ר הָיָ֖ה בִּימֵ֣י אַבְרָהָ֑ם וַיֵּ֧לֶךְ יִצְחָ֛ק אֶל־אֲבִימֶּ֥לֶךְ מֶֽלֶךְ־פְּלִשְׁתִּ֖ים גְּרָֽרָה׃ </span></td><td class=\"tf\"><span class=\"hb\"><span  class=\"hl hlup\" >יְהִ֤י </span></span></td><td class=\"tf\"><span class=\"hb\"><span  class=\"hl hlup\" >רָעָב֙ </span></span></td><td class=\"tf\"><span class=\"hb\"><span  class=\"hl hlup\" >יְהִ֤י </span></span></td><td class=\"tf\"><span class=\"hb\"><span  class=\"hl hlup\" >רָעָב֙ </span></span></td><td class=\"tf\"><span class=\"hb\"><span  class=\"hlup\" >וַ</span><span  class=\"hl hlup\" >יְהִ֤י </span><span  class=\"hl hlup\" >רָעָב֙ </span><span  class=\"hlup\" >בָּ</span><span  class=\"hlup\" ></span><span  class=\"hlup\" >אָ֔רֶץ </span><span  class=\"hlup\" >מִ</span><span  class=\"hlup\" >לְּ</span><span  class=\"hlup\" >בַד֙ </span><span  class=\"hlup\" >הָ</span><span  class=\"hlup\" >רָעָ֣ב </span><span  class=\"hlup\" >הָ</span><span  class=\"hlup\" >רִאשֹׁ֔ון </span></span></td></tr>\n",
       "<tr class=\"tf\"><td class=\"tf\">12</td><td class=\"tf\"> <a href=\"https://shebanq.ancient-data.org/hebrew/text?book=Genesis&amp;chapter=41&amp;verse=54&amp;version=c&amp;mr=m&amp;qw=q&amp;tp=txt_p&amp;tr=hb&amp;wget=v&amp;qget=v&amp;nget=vt\" title=\"show this passage in SHEBANQ\" sec=\"Genesis 41:54\">Genesis 41:54</a></td><td class=\"tf\"><span class=\"hb\"><a class=\"vn\" href=\"https://shebanq.ancient-data.org/hebrew/text?book=Genesis&amp;chapter=41&amp;verse=54&amp;version=c&amp;mr=m&amp;qw=q&amp;tp=txt_p&amp;tr=hb&amp;wget=v&amp;qget=v&amp;nget=vt\" title=\"Genesis 41:54\" sec=\"Genesis 41:54\"></a>וַתְּחִלֶּ֜ינָה שֶׁ֣בַע שְׁנֵ֤י הָרָעָב֙ לָבֹ֔וא כַּאֲשֶׁ֖ר אָמַ֣ר יֹוסֵ֑ף <span  class=\"hlup\" >וַ</span><span  class=\"hl hlup\" >יְהִ֤י </span><span  class=\"hl hlup\" >רָעָב֙ </span><span  class=\"hlup\" >בְּ</span><span  class=\"hlup\" >כָל־</span><span  class=\"hlup\" >הָ֣</span><span  class=\"hlup\" >אֲרָצֹ֔ות </span>וּבְכָל־אֶ֥רֶץ מִצְרַ֖יִם הָ֥יָה לָֽחֶם׃ </span></td><td class=\"tf\"><span class=\"hb\"><span  class=\"hlup\" >וַ</span><span  class=\"hl hlup\" >יְהִ֤י </span><span  class=\"hl hlup\" >רָעָב֙ </span><span  class=\"hlup\" >בְּ</span><span  class=\"hlup\" >כָל־</span><span  class=\"hlup\" >הָ֣</span><span  class=\"hlup\" >אֲרָצֹ֔ות </span></span></td><td class=\"tf\"><span class=\"hb\"><span  class=\"hl hlup\" >יְהִ֤י </span></span></td><td class=\"tf\"><span class=\"hb\"><span  class=\"hl hlup\" >רָעָב֙ </span></span></td><td class=\"tf\"><span class=\"hb\"><span  class=\"hl hlup\" >יְהִ֤י </span></span></td><td class=\"tf\"><span class=\"hb\"><span  class=\"hl hlup\" >רָעָב֙ </span></span></td></tr>\n",
       "<tr class=\"tf\"><td class=\"tf\">13</td><td class=\"tf\"> <a href=\"https://shebanq.ancient-data.org/hebrew/text?book=Exodus&amp;chapter=9&amp;verse=10&amp;version=c&amp;mr=m&amp;qw=q&amp;tp=txt_p&amp;tr=hb&amp;wget=v&amp;qget=v&amp;nget=vt\" title=\"show this passage in SHEBANQ\" sec=\"Exodus 9:10\">Exodus 9:10</a></td><td class=\"tf\"><span class=\"hb\"><a class=\"vn\" href=\"https://shebanq.ancient-data.org/hebrew/text?book=Exodus&amp;chapter=9&amp;verse=10&amp;version=c&amp;mr=m&amp;qw=q&amp;tp=txt_p&amp;tr=hb&amp;wget=v&amp;qget=v&amp;nget=vt\" title=\"Exodus 9:10\" sec=\"Exodus 9:10\"></a>וַיִּקְח֞וּ אֶת־פִּ֣יחַ הַכִּבְשָׁ֗ן וַיַּֽעַמְדוּ֙ לִפְנֵ֣י פַרְעֹ֔ה וַיִּזְרֹ֥ק אֹתֹ֛ו מֹשֶׁ֖ה הַשָּׁמָ֑יְמָה <span  class=\"hlup\" >וַ</span><span  class=\"hl hlup\" >יְהִ֗י </span><span  class=\"hl hlup\" >שְׁחִין֙ </span>אֲבַעְבֻּעֹ֔ת פֹּרֵ֕חַ בָּאָדָ֖ם וּבַבְּהֵמָֽה׃ </span></td><td class=\"tf\"><span class=\"hb\"><span  class=\"hl hlup\" >יְהִ֗י </span></span></td><td class=\"tf\"><span class=\"hb\"><span  class=\"hl hlup\" >שְׁחִין֙ </span></span></td><td class=\"tf\"><span class=\"hb\"><span  class=\"hl hlup\" >יְהִ֗י </span></span></td><td class=\"tf\"><span class=\"hb\"><span  class=\"hl hlup\" >שְׁחִין֙ </span></span></td><td class=\"tf\"><span class=\"hb\"><span  class=\"hlup\" >וַ</span><span  class=\"hl hlup\" >יְהִ֗י </span><span  class=\"hl hlup\" >שְׁחִין֙ </span></span></td></tr>\n",
       "<tr class=\"tf\"><td class=\"tf\">14</td><td class=\"tf\"> <a href=\"https://shebanq.ancient-data.org/hebrew/text?book=Exodus&amp;chapter=9&amp;verse=24&amp;version=c&amp;mr=m&amp;qw=q&amp;tp=txt_p&amp;tr=hb&amp;wget=v&amp;qget=v&amp;nget=vt\" title=\"show this passage in SHEBANQ\" sec=\"Exodus 9:24\">Exodus 9:24</a></td><td class=\"tf\"><span class=\"hb\"><a class=\"vn\" href=\"https://shebanq.ancient-data.org/hebrew/text?book=Exodus&amp;chapter=9&amp;verse=24&amp;version=c&amp;mr=m&amp;qw=q&amp;tp=txt_p&amp;tr=hb&amp;wget=v&amp;qget=v&amp;nget=vt\" title=\"Exodus 9:24\" sec=\"Exodus 9:24\"></a><span  class=\"hlup\" >וַ</span><span  class=\"hl hlup\" >יְהִ֣י </span><span  class=\"hl hlup\" >בָרָ֔ד </span>וְאֵ֕שׁ מִתְלַקַּ֖חַת בְּתֹ֣וךְ הַבָּרָ֑ד <span  class=\"hlup\" >כָּבֵ֣ד </span><span  class=\"hlup\" >מְאֹ֔ד </span>אֲ֠שֶׁר לֹֽא־הָיָ֤ה כָמֹ֨הוּ֙ בְּכָל־אֶ֣רֶץ מִצְרַ֔יִם מֵאָ֖ז הָיְתָ֥ה לְגֹֽוי׃ </span></td><td class=\"tf\"><span class=\"hb\"><span  class=\"hl hlup\" >יְהִ֣י </span></span></td><td class=\"tf\"><span class=\"hb\"><span  class=\"hl hlup\" >בָרָ֔ד </span></span></td><td class=\"tf\"><span class=\"hb\"><span  class=\"hlup\" >וַ</span><span  class=\"hl hlup\" >יְהִ֣י </span><span  class=\"hl hlup\" >בָרָ֔ד </span><span  class=\"hlup\" >כָּבֵ֣ד </span><span  class=\"hlup\" >מְאֹ֔ד </span></span></td><td class=\"tf\"><span class=\"hb\"><span  class=\"hl hlup\" >יְהִ֣י </span></span></td><td class=\"tf\"><span class=\"hb\"><span  class=\"hl hlup\" >בָרָ֔ד </span></span></td></tr>\n",
       "<tr class=\"tf\"><td class=\"tf\">15</td><td class=\"tf\"> <a href=\"https://shebanq.ancient-data.org/hebrew/text?book=Exodus&amp;chapter=17&amp;verse=12&amp;version=c&amp;mr=m&amp;qw=q&amp;tp=txt_p&amp;tr=hb&amp;wget=v&amp;qget=v&amp;nget=vt\" title=\"show this passage in SHEBANQ\" sec=\"Exodus 17:12\">Exodus 17:12</a></td><td class=\"tf\"><span class=\"hb\"><a class=\"vn\" href=\"https://shebanq.ancient-data.org/hebrew/text?book=Exodus&amp;chapter=17&amp;verse=12&amp;version=c&amp;mr=m&amp;qw=q&amp;tp=txt_p&amp;tr=hb&amp;wget=v&amp;qget=v&amp;nget=vt\" title=\"Exodus 17:12\" sec=\"Exodus 17:12\"></a>וִידֵ֤י מֹשֶׁה֙ כְּבֵדִ֔ים וַיִּקְחוּ־אֶ֛בֶן וַיָּשִׂ֥ימוּ תַחְתָּ֖יו וַיֵּ֣שֶׁב עָלֶ֑יהָ וְאַהֲרֹ֨ן וְח֜וּר תָּֽמְכ֣וּ בְיָדָ֗יו מִזֶּ֤ה אֶחָד֙ וּמִזֶּ֣ה אֶחָ֔ד <span  class=\"hlup\" >וַ</span><span  class=\"hl hlup\" >יְהִ֥י </span><span  class=\"hl hlup\" >יָדָ֛יו </span><span  class=\"hlup\" >אֱמוּנָ֖ה </span>עַד־בֹּ֥א הַשָּֽׁמֶשׁ׃ </span></td><td class=\"tf\"><span class=\"hb\"><span  class=\"hl hlup\" >יְהִ֥י </span></span></td><td class=\"tf\"><span class=\"hb\"><span  class=\"hl hlup\" >יָדָ֛יו </span></span></td><td class=\"tf\"><span class=\"hb\"><span  class=\"hlup\" >וַ</span><span  class=\"hl hlup\" >יְהִ֥י </span><span  class=\"hl hlup\" >יָדָ֛יו </span><span  class=\"hlup\" >אֱמוּנָ֖ה </span></span></td><td class=\"tf\"><span class=\"hb\"><span  class=\"hl hlup\" >יְהִ֥י </span></span></td><td class=\"tf\"><span class=\"hb\"><span  class=\"hl hlup\" >יָדָ֛יו </span></span></td></tr>\n",
       "<tr class=\"tf\"><td class=\"tf\">16</td><td class=\"tf\"> <a href=\"https://shebanq.ancient-data.org/hebrew/text?book=Numeri&amp;chapter=36&amp;verse=12&amp;version=c&amp;mr=m&amp;qw=q&amp;tp=txt_p&amp;tr=hb&amp;wget=v&amp;qget=v&amp;nget=vt\" title=\"show this passage in SHEBANQ\" sec=\"Numbers 36:12\">Numbers 36:12</a></td><td class=\"tf\"><span class=\"hb\"><a class=\"vn\" href=\"https://shebanq.ancient-data.org/hebrew/text?book=Numeri&amp;chapter=36&amp;verse=12&amp;version=c&amp;mr=m&amp;qw=q&amp;tp=txt_p&amp;tr=hb&amp;wget=v&amp;qget=v&amp;nget=vt\" title=\"Numbers 36:12\" sec=\"Numbers 36:12\"></a>מִֽמִּשְׁפְּחֹ֛ת בְּנֵֽי־מְנַשֶּׁ֥ה בֶן־יֹוסֵ֖ף הָי֣וּ לְנָשִׁ֑ים <span  class=\"hlup\" >וַ</span><span  class=\"hl hlup\" >תְּהִי֙ </span><span  class=\"hl hlup\" >נַחֲלָתָ֔ן </span><span  class=\"hlup\" >עַל־</span><span  class=\"hlup\" >מַטֵּ֖ה </span><span  class=\"hlup\" >מִשְׁפַּ֥חַת </span><span  class=\"hlup\" >אֲבִיהֶֽן׃ </span></span></td><td class=\"tf\"><span class=\"hb\"><span  class=\"hlup\" >וַ</span><span  class=\"hl hlup\" >תְּהִי֙ </span><span  class=\"hl hlup\" >נַחֲלָתָ֔ן </span><span  class=\"hlup\" >עַל־</span><span  class=\"hlup\" >מַטֵּ֖ה </span><span  class=\"hlup\" >מִשְׁפַּ֥חַת </span><span  class=\"hlup\" >אֲבִיהֶֽן׃ </span></span></td><td class=\"tf\"><span class=\"hb\"><span  class=\"hl hlup\" >תְּהִי֙ </span></span></td><td class=\"tf\"><span class=\"hb\"><span  class=\"hl hlup\" >נַחֲלָתָ֔ן </span></span></td><td class=\"tf\"><span class=\"hb\"><span  class=\"hl hlup\" >תְּהִי֙ </span></span></td><td class=\"tf\"><span class=\"hb\"><span  class=\"hl hlup\" >נַחֲלָתָ֔ן </span></span></td></tr>\n",
       "<tr class=\"tf\"><td class=\"tf\">17</td><td class=\"tf\"> <a href=\"https://shebanq.ancient-data.org/hebrew/text?book=Deuteronomium&amp;chapter=33&amp;verse=5&amp;version=c&amp;mr=m&amp;qw=q&amp;tp=txt_p&amp;tr=hb&amp;wget=v&amp;qget=v&amp;nget=vt\" title=\"show this passage in SHEBANQ\" sec=\"Deuteronomy 33:5\">Deuteronomy 33:5</a></td><td class=\"tf\"><span class=\"hb\"><a class=\"vn\" href=\"https://shebanq.ancient-data.org/hebrew/text?book=Deuteronomium&amp;chapter=33&amp;verse=5&amp;version=c&amp;mr=m&amp;qw=q&amp;tp=txt_p&amp;tr=hb&amp;wget=v&amp;qget=v&amp;nget=vt\" title=\"Deuteronomy 33:5\" sec=\"Deuteronomy 33:5\"></a><span  class=\"hlup\" >וַ</span><span  class=\"hl hlup\" >יְהִ֥י </span><span  class=\"hlup\" >בִ</span><span  class=\"hlup\" >ישֻׁר֖וּן </span><span  class=\"hl hlup\" >מֶ֑לֶךְ </span>בְּהִתְאַסֵּף֙ רָ֣אשֵׁי עָ֔ם יַ֖חַד שִׁבְטֵ֥י יִשְׂרָאֵֽל׃ </span></td><td class=\"tf\"><span class=\"hb\"><span  class=\"hl hlup\" >יְהִ֥י </span></span></td><td class=\"tf\"><span class=\"hb\"><span  class=\"hl hlup\" >יְהִ֥י </span></span></td><td class=\"tf\"><span class=\"hb\"><span  class=\"hl hlup\" >מֶ֑לֶךְ </span></span></td><td class=\"tf\"><span class=\"hb\"><span  class=\"hl hlup\" >מֶ֑לֶךְ </span></span></td><td class=\"tf\"><span class=\"hb\"><span  class=\"hlup\" >וַ</span><span  class=\"hl hlup\" >יְהִ֥י </span><span  class=\"hlup\" >בִ</span><span  class=\"hlup\" >ישֻׁר֖וּן </span><span  class=\"hl hlup\" >מֶ֑לֶךְ </span></span></td></tr>\n",
       "<tr class=\"tf\"><td class=\"tf\">18</td><td class=\"tf\"> <a href=\"https://shebanq.ancient-data.org/hebrew/text?book=Josua&amp;chapter=6&amp;verse=27&amp;version=c&amp;mr=m&amp;qw=q&amp;tp=txt_p&amp;tr=hb&amp;wget=v&amp;qget=v&amp;nget=vt\" title=\"show this passage in SHEBANQ\" sec=\"Joshua 6:27\">Joshua 6:27</a></td><td class=\"tf\"><span class=\"hb\"><a class=\"vn\" href=\"https://shebanq.ancient-data.org/hebrew/text?book=Josua&amp;chapter=6&amp;verse=27&amp;version=c&amp;mr=m&amp;qw=q&amp;tp=txt_p&amp;tr=hb&amp;wget=v&amp;qget=v&amp;nget=vt\" title=\"Joshua 6:27\" sec=\"Joshua 6:27\"></a>וַיְהִ֥י יְהוָ֖ה אֶת־יְהֹושֻׁ֑עַ <span  class=\"hlup\" >וַ</span><span  class=\"hl hlup\" >יְהִ֥י </span><span  class=\"hl hlup\" >שָׁמְעֹ֖ו </span><span  class=\"hlup\" >בְּ</span><span  class=\"hlup\" >כָל־</span><span  class=\"hlup\" >הָ</span><span  class=\"hlup\" >אָֽרֶץ׃ </span></span></td><td class=\"tf\"><span class=\"hb\"><span  class=\"hl hlup\" >יְהִ֥י </span></span></td><td class=\"tf\"><span class=\"hb\"><span  class=\"hl hlup\" >שָׁמְעֹ֖ו </span></span></td><td class=\"tf\"><span class=\"hb\"><span  class=\"hl hlup\" >יְהִ֥י </span></span></td><td class=\"tf\"><span class=\"hb\"><span  class=\"hl hlup\" >שָׁמְעֹ֖ו </span></span></td><td class=\"tf\"><span class=\"hb\"><span  class=\"hlup\" >וַ</span><span  class=\"hl hlup\" >יְהִ֥י </span><span  class=\"hl hlup\" >שָׁמְעֹ֖ו </span><span  class=\"hlup\" >בְּ</span><span  class=\"hlup\" >כָל־</span><span  class=\"hlup\" >הָ</span><span  class=\"hlup\" >אָֽרֶץ׃ </span></span></td></tr>\n",
       "<tr class=\"tf\"><td class=\"tf\">19</td><td class=\"tf\"> <a href=\"https://shebanq.ancient-data.org/hebrew/text?book=Josua&amp;chapter=13&amp;verse=30&amp;version=c&amp;mr=m&amp;qw=q&amp;tp=txt_p&amp;tr=hb&amp;wget=v&amp;qget=v&amp;nget=vt\" title=\"show this passage in SHEBANQ\" sec=\"Joshua 13:30\">Joshua 13:30</a></td><td class=\"tf\"><span class=\"hb\"><a class=\"vn\" href=\"https://shebanq.ancient-data.org/hebrew/text?book=Josua&amp;chapter=13&amp;verse=30&amp;version=c&amp;mr=m&amp;qw=q&amp;tp=txt_p&amp;tr=hb&amp;wget=v&amp;qget=v&amp;nget=vt\" title=\"Joshua 13:30\" sec=\"Joshua 13:30\"></a><span  class=\"hlup\" >וַ</span><span  class=\"hl hlup\" >יְהִ֣י </span><span  class=\"hl hlup\" >גְבוּלָ֗ם </span><span  class=\"hlup\" >מִ</span><span  class=\"hlup\" >מַּחֲנַ֨יִם </span><span  class=\"hlup\" >כָּֽל־</span><span  class=\"hlup\" >הַ</span><span  class=\"hlup\" >בָּשָׁ֜ן </span><span  class=\"hlup\" >כָּֽל־</span><span  class=\"hlup\" >מַמְלְכ֣וּת׀ </span><span  class=\"hlup\" >עֹ֣וג </span><span  class=\"hlup\" >מֶֽלֶךְ־</span><span  class=\"hlup\" >הַ</span><span  class=\"hlup\" >בָּשָׁ֗ן </span><span  class=\"hlup\" >וְ</span><span  class=\"hlup\" >כָל־</span><span  class=\"hlup\" >חַוֹּ֥ת </span><span  class=\"hlup\" >יָאִ֛יר </span>אֲשֶׁ֥ר בַּבָּשָׁ֖ן <span  class=\"hlup\" >שִׁשִּׁ֥ים </span><span  class=\"hlup\" >עִֽיר׃ </span></span></td><td class=\"tf\"><span class=\"hb\"><span  class=\"hl hlup\" >יְהִ֣י </span></span></td><td class=\"tf\"><span class=\"hb\"><span  class=\"hl hlup\" >גְבוּלָ֗ם </span></span></td><td class=\"tf\"><span class=\"hb\"><span  class=\"hl hlup\" >יְהִ֣י </span></span></td><td class=\"tf\"><span class=\"hb\"><span  class=\"hl hlup\" >גְבוּלָ֗ם </span></span></td><td class=\"tf\"><span class=\"hb\"><span  class=\"hlup\" >וַ</span><span  class=\"hl hlup\" >יְהִ֣י </span><span  class=\"hl hlup\" >גְבוּלָ֗ם </span><span  class=\"hlup\" >מִ</span><span  class=\"hlup\" >מַּחֲנַ֨יִם </span><span  class=\"hlup\" >כָּֽל־</span><span  class=\"hlup\" >הַ</span><span  class=\"hlup\" >בָּשָׁ֜ן </span><span  class=\"hlup\" >כָּֽל־</span><span  class=\"hlup\" >מַמְלְכ֣וּת׀ </span><span  class=\"hlup\" >עֹ֣וג </span><span  class=\"hlup\" >מֶֽלֶךְ־</span><span  class=\"hlup\" >הַ</span><span  class=\"hlup\" >בָּשָׁ֗ן </span><span  class=\"hlup\" >וְ</span><span  class=\"hlup\" >כָל־</span><span  class=\"hlup\" >חַוֹּ֥ת </span><span  class=\"hlup\" >יָאִ֛יר </span><span  class=\"hlup\" >שִׁשִּׁ֥ים </span><span  class=\"hlup\" >עִֽיר׃ </span></span></td></tr>\n",
       "<tr class=\"tf\"><td class=\"tf\">20</td><td class=\"tf\"> <a href=\"https://shebanq.ancient-data.org/hebrew/text?book=Josua&amp;chapter=17&amp;verse=9&amp;version=c&amp;mr=m&amp;qw=q&amp;tp=txt_p&amp;tr=hb&amp;wget=v&amp;qget=v&amp;nget=vt\" title=\"show this passage in SHEBANQ\" sec=\"Joshua 17:9\">Joshua 17:9</a></td><td class=\"tf\"><span class=\"hb\"><a class=\"vn\" href=\"https://shebanq.ancient-data.org/hebrew/text?book=Josua&amp;chapter=17&amp;verse=9&amp;version=c&amp;mr=m&amp;qw=q&amp;tp=txt_p&amp;tr=hb&amp;wget=v&amp;qget=v&amp;nget=vt\" title=\"Joshua 17:9\" sec=\"Joshua 17:9\"></a>וְיָרַ֣ד הַגְּבוּל֩ נַ֨חַל קָנָ֜ה נֶ֣גְבָּה לַנַּ֗חַל עָרִ֤ים הָאֵ֨לֶּה֙ לְאֶפְרַ֔יִם בְּתֹ֖וךְ עָרֵ֣י מְנַשֶּׁ֑ה וּגְב֤וּל מְנַשֶּׁה֙ מִצְּפֹ֣ון לַנַּ֔חַל <span  class=\"hlup\" >וַ</span><span  class=\"hl hlup\" >יְהִ֥י </span><span  class=\"hl hlup\" >תֹצְאֹתָ֖יו </span><span  class=\"hlup\" >הַ</span><span  class=\"hlup\" >יָּֽמָּה׃ </span></span></td><td class=\"tf\"><span class=\"hb\"><span  class=\"hl hlup\" >יְהִ֥י </span></span></td><td class=\"tf\"><span class=\"hb\"><span  class=\"hl hlup\" >תֹצְאֹתָ֖יו </span></span></td><td class=\"tf\"><span class=\"hb\"><span  class=\"hlup\" >וַ</span><span  class=\"hl hlup\" >יְהִ֥י </span><span  class=\"hl hlup\" >תֹצְאֹתָ֖יו </span><span  class=\"hlup\" >הַ</span><span  class=\"hlup\" >יָּֽמָּה׃ </span></span></td><td class=\"tf\"><span class=\"hb\"><span  class=\"hl hlup\" >יְהִ֥י </span></span></td><td class=\"tf\"><span class=\"hb\"><span  class=\"hl hlup\" >תֹצְאֹתָ֖יו </span></span></td></tr></table>"
      ],
      "text/plain": [
       "<IPython.core.display.HTML object>"
      ]
     },
     "metadata": {},
     "output_type": "display_data"
    }
   ],
   "source": [
    "WordHappens3='''\n",
    "clause typ=WayX\n",
    "    phrase function=Pred\n",
    "        word lex=HJH[ nu=sg\n",
    "    phrase function=Subj\n",
    "        :: word lex#DBR/ sp#nmpr lex#>LHJM/\n",
    "'''\n",
    "WordHappens3  = A.search(WordHappens3)\n",
    "A.table(WordHappens3, start=1, end=20, condensed=True)"
   ]
  },
  {
   "cell_type": "code",
   "execution_count": 12,
   "metadata": {},
   "outputs": [
    {
     "name": "stdout",
     "output_type": "stream",
     "text": [
      "  2.72s 85 results\n"
     ]
    },
    {
     "data": {
      "text/html": [
       "<table>\n",
       "<tr class=\"tf\">\n",
       "  <th class=\"tf\">n</th><th class=\"tf\">p</th>\n",
       "  <th class=\"tf\">verse</th><th>clause</th><th>word</th><th>word</th><th>phrase</th><th>phrase</th><th>word</th>\n",
       "</tr>\n",
       "\n",
       "<tr class=\"tf\"><td class=\"tf\">1</td><td class=\"tf\"> <a href=\"https://shebanq.ancient-data.org/hebrew/text?book=Samuel_I&amp;chapter=4&amp;verse=1&amp;version=c&amp;mr=m&amp;qw=q&amp;tp=txt_p&amp;tr=hb&amp;wget=v&amp;qget=v&amp;nget=vt\" title=\"show this passage in SHEBANQ\" sec=\"1_Samuel 4:1\">1_Samuel 4:1</a></td><td class=\"tf\"><span class=\"hb\"><a class=\"vn\" href=\"https://shebanq.ancient-data.org/hebrew/text?book=Samuel_I&amp;chapter=4&amp;verse=1&amp;version=c&amp;mr=m&amp;qw=q&amp;tp=txt_p&amp;tr=hb&amp;wget=v&amp;qget=v&amp;nget=vt\" title=\"1_Samuel 4:1\" sec=\"1_Samuel 4:1\"></a><span  class=\"hlup\" >וַ</span><span  class=\"hl hlup\" >יְהִ֥י </span><span  class=\"hl hlup\" >דְבַר־</span><span  class=\"hl hlup\" >שְׁמוּאֵ֖ל </span><span  class=\"hlup\" >לְ</span><span  class=\"hlup\" >כָל־</span><span  class=\"hlup\" >יִשְׂרָאֵ֑ל </span>וַיֵּצֵ֣א יִשְׂרָאֵל֩ לִקְרַ֨את פְּלִשְׁתִּ֜ים לַמִּלְחָמָ֗ה וַֽיַּחֲנוּ֙ עַל־הָאֶ֣בֶן הָעֵ֔זֶר וּפְלִשְׁתִּ֖ים חָנ֥וּ בַאֲפֵֽק׃ </span></td><td class=\"tf\"><span class=\"hb\"><span  class=\"hlup\" >וַ</span><span  class=\"hl hlup\" >יְהִ֥י </span><span  class=\"hl hlup\" >דְבַר־</span><span  class=\"hl hlup\" >שְׁמוּאֵ֖ל </span><span  class=\"hlup\" >לְ</span><span  class=\"hlup\" >כָל־</span><span  class=\"hlup\" >יִשְׂרָאֵ֑ל </span></span></td><td class=\"tf\"><span class=\"hb\"><span  class=\"hl hlup\" >יְהִ֥י </span></span></td><td class=\"tf\"><span class=\"hb\"><span  class=\"hl hlup\" >דְבַר־</span></span></td><td class=\"tf\"><span class=\"hb\"><span  class=\"hl hlup\" >יְהִ֥י </span></span></td><td class=\"tf\"><span class=\"hb\"><span  class=\"hl hlup\" >דְבַר־</span><span  class=\"hl hlup\" >שְׁמוּאֵ֖ל </span></span></td><td class=\"tf\"><span class=\"hb\"><span  class=\"hl hlup\" >שְׁמוּאֵ֖ל </span></span></td></tr>\n",
       "<tr class=\"tf\"><td class=\"tf\">2</td><td class=\"tf\"> <a href=\"https://shebanq.ancient-data.org/hebrew/text?book=Samuel_I&amp;chapter=15&amp;verse=10&amp;version=c&amp;mr=m&amp;qw=q&amp;tp=txt_p&amp;tr=hb&amp;wget=v&amp;qget=v&amp;nget=vt\" title=\"show this passage in SHEBANQ\" sec=\"1_Samuel 15:10\">1_Samuel 15:10</a></td><td class=\"tf\"><span class=\"hb\"><a class=\"vn\" href=\"https://shebanq.ancient-data.org/hebrew/text?book=Samuel_I&amp;chapter=15&amp;verse=10&amp;version=c&amp;mr=m&amp;qw=q&amp;tp=txt_p&amp;tr=hb&amp;wget=v&amp;qget=v&amp;nget=vt\" title=\"1_Samuel 15:10\" sec=\"1_Samuel 15:10\"></a><span  class=\"hlup\" >וַֽ</span><span  class=\"hl hlup\" >יְהִי֙ </span><span  class=\"hl hlup\" >דְּבַר־</span><span  class=\"hl hlup\" >יְהוָ֔ה </span><span  class=\"hlup\" >אֶל־</span><span  class=\"hlup\" >שְׁמוּאֵ֖ל </span>לֵאמֹֽר׃ </span></td><td class=\"tf\"><span class=\"hb\"><span  class=\"hlup\" >וַֽ</span><span  class=\"hl hlup\" >יְהִי֙ </span><span  class=\"hl hlup\" >דְּבַר־</span><span  class=\"hl hlup\" >יְהוָ֔ה </span><span  class=\"hlup\" >אֶל־</span><span  class=\"hlup\" >שְׁמוּאֵ֖ל </span></span></td><td class=\"tf\"><span class=\"hb\"><span  class=\"hl hlup\" >יְהִי֙ </span></span></td><td class=\"tf\"><span class=\"hb\"><span  class=\"hl hlup\" >יְהִי֙ </span></span></td><td class=\"tf\"><span class=\"hb\"><span  class=\"hl hlup\" >דְּבַר־</span><span  class=\"hl hlup\" >יְהוָ֔ה </span></span></td><td class=\"tf\"><span class=\"hb\"><span  class=\"hl hlup\" >דְּבַר־</span></span></td><td class=\"tf\"><span class=\"hb\"><span  class=\"hl hlup\" >יְהוָ֔ה </span></span></td></tr>\n",
       "<tr class=\"tf\"><td class=\"tf\">3</td><td class=\"tf\"> <a href=\"https://shebanq.ancient-data.org/hebrew/text?book=Samuel_II&amp;chapter=7&amp;verse=4&amp;version=c&amp;mr=m&amp;qw=q&amp;tp=txt_p&amp;tr=hb&amp;wget=v&amp;qget=v&amp;nget=vt\" title=\"show this passage in SHEBANQ\" sec=\"2_Samuel 7:4\">2_Samuel 7:4</a></td><td class=\"tf\"><span class=\"hb\"><a class=\"vn\" href=\"https://shebanq.ancient-data.org/hebrew/text?book=Samuel_II&amp;chapter=7&amp;verse=4&amp;version=c&amp;mr=m&amp;qw=q&amp;tp=txt_p&amp;tr=hb&amp;wget=v&amp;qget=v&amp;nget=vt\" title=\"2_Samuel 7:4\" sec=\"2_Samuel 7:4\"></a>וַיְהִ֖י בַּלַּ֣יְלָה הַה֑וּא <span  class=\"hlup\" >וַֽ</span><span  class=\"hl hlup\" >יְהִי֙ </span><span  class=\"hl hlup\" >דְּבַר־</span><span  class=\"hl hlup\" >יְהוָ֔ה </span><span  class=\"hlup\" >אֶל־</span><span  class=\"hlup\" >נָתָ֖ן </span>לֵאמֹֽר׃ </span></td><td class=\"tf\"><span class=\"hb\"><span  class=\"hl hlup\" >יְהִי֙ </span></span></td><td class=\"tf\"><span class=\"hb\"><span  class=\"hlup\" >וַֽ</span><span  class=\"hl hlup\" >יְהִי֙ </span><span  class=\"hl hlup\" >דְּבַר־</span><span  class=\"hl hlup\" >יְהוָ֔ה </span><span  class=\"hlup\" >אֶל־</span><span  class=\"hlup\" >נָתָ֖ן </span></span></td><td class=\"tf\"><span class=\"hb\"><span  class=\"hl hlup\" >דְּבַר־</span><span  class=\"hl hlup\" >יְהוָ֔ה </span></span></td><td class=\"tf\"><span class=\"hb\"><span  class=\"hl hlup\" >יְהִי֙ </span></span></td><td class=\"tf\"><span class=\"hb\"><span  class=\"hl hlup\" >דְּבַר־</span></span></td><td class=\"tf\"><span class=\"hb\"><span  class=\"hl hlup\" >יְהוָ֔ה </span></span></td></tr>\n",
       "<tr class=\"tf\"><td class=\"tf\">4</td><td class=\"tf\"> <a href=\"https://shebanq.ancient-data.org/hebrew/text?book=Reges_I&amp;chapter=6&amp;verse=11&amp;version=c&amp;mr=m&amp;qw=q&amp;tp=txt_p&amp;tr=hb&amp;wget=v&amp;qget=v&amp;nget=vt\" title=\"show this passage in SHEBANQ\" sec=\"1_Kings 6:11\">1_Kings 6:11</a></td><td class=\"tf\"><span class=\"hb\"><a class=\"vn\" href=\"https://shebanq.ancient-data.org/hebrew/text?book=Reges_I&amp;chapter=6&amp;verse=11&amp;version=c&amp;mr=m&amp;qw=q&amp;tp=txt_p&amp;tr=hb&amp;wget=v&amp;qget=v&amp;nget=vt\" title=\"1_Kings 6:11\" sec=\"1_Kings 6:11\"></a><span  class=\"hlup\" >וַֽ</span><span  class=\"hl hlup\" >יְהִי֙ </span><span  class=\"hl hlup\" >דְּבַר־</span><span  class=\"hl hlup\" >יְהוָ֔ה </span><span  class=\"hlup\" >אֶל־</span><span  class=\"hlup\" >שְׁלֹמֹ֖ה </span>לֵאמֹֽר׃ </span></td><td class=\"tf\"><span class=\"hb\"><span  class=\"hl hlup\" >יְהִי֙ </span></span></td><td class=\"tf\"><span class=\"hb\"><span  class=\"hl hlup\" >דְּבַר־</span><span  class=\"hl hlup\" >יְהוָ֔ה </span></span></td><td class=\"tf\"><span class=\"hb\"><span  class=\"hl hlup\" >יְהִי֙ </span></span></td><td class=\"tf\"><span class=\"hb\"><span  class=\"hl hlup\" >דְּבַר־</span></span></td><td class=\"tf\"><span class=\"hb\"><span  class=\"hl hlup\" >יְהוָ֔ה </span></span></td><td class=\"tf\"><span class=\"hb\"><span  class=\"hlup\" >וַֽ</span><span  class=\"hl hlup\" >יְהִי֙ </span><span  class=\"hl hlup\" >דְּבַר־</span><span  class=\"hl hlup\" >יְהוָ֔ה </span><span  class=\"hlup\" >אֶל־</span><span  class=\"hlup\" >שְׁלֹמֹ֖ה </span></span></td></tr>\n",
       "<tr class=\"tf\"><td class=\"tf\">5</td><td class=\"tf\"> <a href=\"https://shebanq.ancient-data.org/hebrew/text?book=Reges_I&amp;chapter=13&amp;verse=20&amp;version=c&amp;mr=m&amp;qw=q&amp;tp=txt_p&amp;tr=hb&amp;wget=v&amp;qget=v&amp;nget=vt\" title=\"show this passage in SHEBANQ\" sec=\"1_Kings 13:20\">1_Kings 13:20</a></td><td class=\"tf\"><span class=\"hb\"><a class=\"vn\" href=\"https://shebanq.ancient-data.org/hebrew/text?book=Reges_I&amp;chapter=13&amp;verse=20&amp;version=c&amp;mr=m&amp;qw=q&amp;tp=txt_p&amp;tr=hb&amp;wget=v&amp;qget=v&amp;nget=vt\" title=\"1_Kings 13:20\" sec=\"1_Kings 13:20\"></a>וַיְהִ֕י הֵ֥ם יֹשְׁבִ֖ים אֶל־הַשֻּׁלְחָ֑ן פ <span  class=\"hlup\" >וַֽ</span><span  class=\"hl hlup\" >יְהִי֙ </span><span  class=\"hl hlup\" >דְּבַר־</span><span  class=\"hl hlup\" >יְהוָ֔ה </span><span  class=\"hlup\" >אֶל־</span><span  class=\"hlup\" >הַ</span><span  class=\"hlup\" >נָּבִ֖יא </span>אֲשֶׁ֥ר הֱשִׁיבֹֽו׃ </span></td><td class=\"tf\"><span class=\"hb\"><span  class=\"hl hlup\" >דְּבַר־</span></span></td><td class=\"tf\"><span class=\"hb\"><span  class=\"hl hlup\" >יְהוָ֔ה </span></span></td><td class=\"tf\"><span class=\"hb\"><span  class=\"hlup\" >וַֽ</span><span  class=\"hl hlup\" >יְהִי֙ </span><span  class=\"hl hlup\" >דְּבַר־</span><span  class=\"hl hlup\" >יְהוָ֔ה </span><span  class=\"hlup\" >אֶל־</span><span  class=\"hlup\" >הַ</span><span  class=\"hlup\" >נָּבִ֖יא </span></span></td><td class=\"tf\"><span class=\"hb\"><span  class=\"hl hlup\" >יְהִי֙ </span></span></td><td class=\"tf\"><span class=\"hb\"><span  class=\"hl hlup\" >דְּבַר־</span><span  class=\"hl hlup\" >יְהוָ֔ה </span></span></td><td class=\"tf\"><span class=\"hb\"><span  class=\"hl hlup\" >יְהִי֙ </span></span></td></tr>\n",
       "<tr class=\"tf\"><td class=\"tf\">6</td><td class=\"tf\"> <a href=\"https://shebanq.ancient-data.org/hebrew/text?book=Reges_I&amp;chapter=16&amp;verse=1&amp;version=c&amp;mr=m&amp;qw=q&amp;tp=txt_p&amp;tr=hb&amp;wget=v&amp;qget=v&amp;nget=vt\" title=\"show this passage in SHEBANQ\" sec=\"1_Kings 16:1\">1_Kings 16:1</a></td><td class=\"tf\"><span class=\"hb\"><a class=\"vn\" href=\"https://shebanq.ancient-data.org/hebrew/text?book=Reges_I&amp;chapter=16&amp;verse=1&amp;version=c&amp;mr=m&amp;qw=q&amp;tp=txt_p&amp;tr=hb&amp;wget=v&amp;qget=v&amp;nget=vt\" title=\"1_Kings 16:1\" sec=\"1_Kings 16:1\"></a><span  class=\"hlup\" >וַ</span><span  class=\"hl hlup\" >יְהִ֤י </span><span  class=\"hl hlup\" >דְבַר־</span><span  class=\"hl hlup\" >יְהוָה֙ </span><span  class=\"hlup\" >אֶל־</span><span  class=\"hlup\" >יֵה֣וּא </span><span  class=\"hlup\" >בֶן־</span><span  class=\"hlup\" >חֲנָ֔נִי </span><span  class=\"hlup\" >עַל־</span><span  class=\"hlup\" >בַּעְשָׁ֖א </span>לֵאמֹֽר׃ </span></td><td class=\"tf\"><span class=\"hb\"><span  class=\"hl hlup\" >יְהִ֤י </span></span></td><td class=\"tf\"><span class=\"hb\"><span  class=\"hl hlup\" >דְבַר־</span></span></td><td class=\"tf\"><span class=\"hb\"><span  class=\"hl hlup\" >יְהוָה֙ </span></span></td><td class=\"tf\"><span class=\"hb\"><span  class=\"hl hlup\" >יְהִ֤י </span></span></td><td class=\"tf\"><span class=\"hb\"><span  class=\"hl hlup\" >דְבַר־</span><span  class=\"hl hlup\" >יְהוָה֙ </span></span></td><td class=\"tf\"><span class=\"hb\"><span  class=\"hlup\" >וַ</span><span  class=\"hl hlup\" >יְהִ֤י </span><span  class=\"hl hlup\" >דְבַר־</span><span  class=\"hl hlup\" >יְהוָה֙ </span><span  class=\"hlup\" >אֶל־</span><span  class=\"hlup\" >יֵה֣וּא </span><span  class=\"hlup\" >בֶן־</span><span  class=\"hlup\" >חֲנָ֔נִי </span><span  class=\"hlup\" >עַל־</span><span  class=\"hlup\" >בַּעְשָׁ֖א </span></span></td></tr>\n",
       "<tr class=\"tf\"><td class=\"tf\">7</td><td class=\"tf\"> <a href=\"https://shebanq.ancient-data.org/hebrew/text?book=Reges_I&amp;chapter=17&amp;verse=2&amp;version=c&amp;mr=m&amp;qw=q&amp;tp=txt_p&amp;tr=hb&amp;wget=v&amp;qget=v&amp;nget=vt\" title=\"show this passage in SHEBANQ\" sec=\"1_Kings 17:2\">1_Kings 17:2</a></td><td class=\"tf\"><span class=\"hb\"><a class=\"vn\" href=\"https://shebanq.ancient-data.org/hebrew/text?book=Reges_I&amp;chapter=17&amp;verse=2&amp;version=c&amp;mr=m&amp;qw=q&amp;tp=txt_p&amp;tr=hb&amp;wget=v&amp;qget=v&amp;nget=vt\" title=\"1_Kings 17:2\" sec=\"1_Kings 17:2\"></a><span  class=\"hlup\" >וַ</span><span  class=\"hl hlup\" >יְהִ֥י </span><span  class=\"hl hlup\" >דְבַר־</span><span  class=\"hl hlup\" >יְהוָ֖ה </span><span  class=\"hlup\" >אֵלָ֥יו </span>לֵאמֹֽר׃ </span></td><td class=\"tf\"><span class=\"hb\"><span  class=\"hlup\" >וַ</span><span  class=\"hl hlup\" >יְהִ֥י </span><span  class=\"hl hlup\" >דְבַר־</span><span  class=\"hl hlup\" >יְהוָ֖ה </span><span  class=\"hlup\" >אֵלָ֥יו </span></span></td><td class=\"tf\"><span class=\"hb\"><span  class=\"hl hlup\" >יְהִ֥י </span></span></td><td class=\"tf\"><span class=\"hb\"><span  class=\"hl hlup\" >דְבַר־</span><span  class=\"hl hlup\" >יְהוָ֖ה </span></span></td><td class=\"tf\"><span class=\"hb\"><span  class=\"hl hlup\" >יְהִ֥י </span></span></td><td class=\"tf\"><span class=\"hb\"><span  class=\"hl hlup\" >דְבַר־</span></span></td><td class=\"tf\"><span class=\"hb\"><span  class=\"hl hlup\" >יְהוָ֖ה </span></span></td></tr>\n",
       "<tr class=\"tf\"><td class=\"tf\">8</td><td class=\"tf\"> <a href=\"https://shebanq.ancient-data.org/hebrew/text?book=Reges_I&amp;chapter=17&amp;verse=8&amp;version=c&amp;mr=m&amp;qw=q&amp;tp=txt_p&amp;tr=hb&amp;wget=v&amp;qget=v&amp;nget=vt\" title=\"show this passage in SHEBANQ\" sec=\"1_Kings 17:8\">1_Kings 17:8</a></td><td class=\"tf\"><span class=\"hb\"><a class=\"vn\" href=\"https://shebanq.ancient-data.org/hebrew/text?book=Reges_I&amp;chapter=17&amp;verse=8&amp;version=c&amp;mr=m&amp;qw=q&amp;tp=txt_p&amp;tr=hb&amp;wget=v&amp;qget=v&amp;nget=vt\" title=\"1_Kings 17:8\" sec=\"1_Kings 17:8\"></a><span  class=\"hlup\" >וַ</span><span  class=\"hl hlup\" >יְהִ֥י </span><span  class=\"hl hlup\" >דְבַר־</span><span  class=\"hl hlup\" >יְהוָ֖ה </span><span  class=\"hlup\" >אֵלָ֥יו </span>לֵאמֹֽר׃ </span></td><td class=\"tf\"><span class=\"hb\"><span  class=\"hl hlup\" >יְהִ֥י </span></span></td><td class=\"tf\"><span class=\"hb\"><span  class=\"hl hlup\" >דְבַר־</span><span  class=\"hl hlup\" >יְהוָ֖ה </span></span></td><td class=\"tf\"><span class=\"hb\"><span  class=\"hl hlup\" >יְהוָ֖ה </span></span></td><td class=\"tf\"><span class=\"hb\"><span  class=\"hl hlup\" >יְהִ֥י </span></span></td><td class=\"tf\"><span class=\"hb\"><span  class=\"hl hlup\" >דְבַר־</span></span></td><td class=\"tf\"><span class=\"hb\"><span  class=\"hlup\" >וַ</span><span  class=\"hl hlup\" >יְהִ֥י </span><span  class=\"hl hlup\" >דְבַר־</span><span  class=\"hl hlup\" >יְהוָ֖ה </span><span  class=\"hlup\" >אֵלָ֥יו </span></span></td></tr>\n",
       "<tr class=\"tf\"><td class=\"tf\">9</td><td class=\"tf\"> <a href=\"https://shebanq.ancient-data.org/hebrew/text?book=Reges_I&amp;chapter=21&amp;verse=17&amp;version=c&amp;mr=m&amp;qw=q&amp;tp=txt_p&amp;tr=hb&amp;wget=v&amp;qget=v&amp;nget=vt\" title=\"show this passage in SHEBANQ\" sec=\"1_Kings 21:17\">1_Kings 21:17</a></td><td class=\"tf\"><span class=\"hb\"><a class=\"vn\" href=\"https://shebanq.ancient-data.org/hebrew/text?book=Reges_I&amp;chapter=21&amp;verse=17&amp;version=c&amp;mr=m&amp;qw=q&amp;tp=txt_p&amp;tr=hb&amp;wget=v&amp;qget=v&amp;nget=vt\" title=\"1_Kings 21:17\" sec=\"1_Kings 21:17\"></a><span  class=\"hlup\" >וַ</span><span  class=\"hl hlup\" >יְהִי֙ </span><span  class=\"hl hlup\" >דְּבַר־</span><span  class=\"hl hlup\" >יְהוָ֔ה </span><span  class=\"hlup\" >אֶל־</span><span  class=\"hlup\" >אֵלִיָּ֥הוּ </span><span  class=\"hlup\" >הַ</span><span  class=\"hlup\" >תִּשְׁבִּ֖י </span>לֵאמֹֽר׃ </span></td><td class=\"tf\"><span class=\"hb\"><span  class=\"hl hlup\" >דְּבַר־</span><span  class=\"hl hlup\" >יְהוָ֔ה </span></span></td><td class=\"tf\"><span class=\"hb\"><span  class=\"hl hlup\" >יְהִי֙ </span></span></td><td class=\"tf\"><span class=\"hb\"><span  class=\"hl hlup\" >דְּבַר־</span></span></td><td class=\"tf\"><span class=\"hb\"><span  class=\"hl hlup\" >יְהוָ֔ה </span></span></td><td class=\"tf\"><span class=\"hb\"><span  class=\"hlup\" >וַ</span><span  class=\"hl hlup\" >יְהִי֙ </span><span  class=\"hl hlup\" >דְּבַר־</span><span  class=\"hl hlup\" >יְהוָ֔ה </span><span  class=\"hlup\" >אֶל־</span><span  class=\"hlup\" >אֵלִיָּ֥הוּ </span><span  class=\"hlup\" >הַ</span><span  class=\"hlup\" >תִּשְׁבִּ֖י </span></span></td><td class=\"tf\"><span class=\"hb\"><span  class=\"hl hlup\" >יְהִי֙ </span></span></td></tr>\n",
       "<tr class=\"tf\"><td class=\"tf\">10</td><td class=\"tf\"> <a href=\"https://shebanq.ancient-data.org/hebrew/text?book=Reges_I&amp;chapter=21&amp;verse=28&amp;version=c&amp;mr=m&amp;qw=q&amp;tp=txt_p&amp;tr=hb&amp;wget=v&amp;qget=v&amp;nget=vt\" title=\"show this passage in SHEBANQ\" sec=\"1_Kings 21:28\">1_Kings 21:28</a></td><td class=\"tf\"><span class=\"hb\"><a class=\"vn\" href=\"https://shebanq.ancient-data.org/hebrew/text?book=Reges_I&amp;chapter=21&amp;verse=28&amp;version=c&amp;mr=m&amp;qw=q&amp;tp=txt_p&amp;tr=hb&amp;wget=v&amp;qget=v&amp;nget=vt\" title=\"1_Kings 21:28\" sec=\"1_Kings 21:28\"></a><span  class=\"hlup\" >וַֽ</span><span  class=\"hl hlup\" >יְהִי֙ </span><span  class=\"hl hlup\" >דְּבַר־</span><span  class=\"hl hlup\" >יְהוָ֔ה </span><span  class=\"hlup\" >אֶל־</span><span  class=\"hlup\" >אֵלִיָּ֥הוּ </span><span  class=\"hlup\" >הַ</span><span  class=\"hlup\" >תִּשְׁבִּ֖י </span>לֵאמֹֽר׃ </span></td><td class=\"tf\"><span class=\"hb\"><span  class=\"hlup\" >וַֽ</span><span  class=\"hl hlup\" >יְהִי֙ </span><span  class=\"hl hlup\" >דְּבַר־</span><span  class=\"hl hlup\" >יְהוָ֔ה </span><span  class=\"hlup\" >אֶל־</span><span  class=\"hlup\" >אֵלִיָּ֥הוּ </span><span  class=\"hlup\" >הַ</span><span  class=\"hlup\" >תִּשְׁבִּ֖י </span></span></td><td class=\"tf\"><span class=\"hb\"><span  class=\"hl hlup\" >יְהִי֙ </span></span></td><td class=\"tf\"><span class=\"hb\"><span  class=\"hl hlup\" >דְּבַר־</span></span></td><td class=\"tf\"><span class=\"hb\"><span  class=\"hl hlup\" >יְהוָ֔ה </span></span></td><td class=\"tf\"><span class=\"hb\"><span  class=\"hl hlup\" >יְהִי֙ </span></span></td><td class=\"tf\"><span class=\"hb\"><span  class=\"hl hlup\" >דְּבַר־</span><span  class=\"hl hlup\" >יְהוָ֔ה </span></span></td></tr>\n",
       "<tr class=\"tf\"><td class=\"tf\">11</td><td class=\"tf\"> <a href=\"https://shebanq.ancient-data.org/hebrew/text?book=Jesaia&amp;chapter=38&amp;verse=4&amp;version=c&amp;mr=m&amp;qw=q&amp;tp=txt_p&amp;tr=hb&amp;wget=v&amp;qget=v&amp;nget=vt\" title=\"show this passage in SHEBANQ\" sec=\"Isaiah 38:4\">Isaiah 38:4</a></td><td class=\"tf\"><span class=\"hb\"><a class=\"vn\" href=\"https://shebanq.ancient-data.org/hebrew/text?book=Jesaia&amp;chapter=38&amp;verse=4&amp;version=c&amp;mr=m&amp;qw=q&amp;tp=txt_p&amp;tr=hb&amp;wget=v&amp;qget=v&amp;nget=vt\" title=\"Isaiah 38:4\" sec=\"Isaiah 38:4\"></a><span  class=\"hlup\" >וַֽ</span><span  class=\"hl hlup\" >יְהִי֙ </span><span  class=\"hl hlup\" >דְּבַר־</span><span  class=\"hl hlup\" >יְהוָ֔ה </span><span  class=\"hlup\" >אֶֽל־</span><span  class=\"hlup\" >יְשַׁעְיָ֖הוּ </span>לֵאמֹֽר׃ </span></td><td class=\"tf\"><span class=\"hb\"><span  class=\"hlup\" >וַֽ</span><span  class=\"hl hlup\" >יְהִי֙ </span><span  class=\"hl hlup\" >דְּבַר־</span><span  class=\"hl hlup\" >יְהוָ֔ה </span><span  class=\"hlup\" >אֶֽל־</span><span  class=\"hlup\" >יְשַׁעְיָ֖הוּ </span></span></td><td class=\"tf\"><span class=\"hb\"><span  class=\"hl hlup\" >יְהִי֙ </span></span></td><td class=\"tf\"><span class=\"hb\"><span  class=\"hl hlup\" >דְּבַר־</span><span  class=\"hl hlup\" >יְהוָ֔ה </span></span></td><td class=\"tf\"><span class=\"hb\"><span  class=\"hl hlup\" >יְהִי֙ </span></span></td><td class=\"tf\"><span class=\"hb\"><span  class=\"hl hlup\" >דְּבַר־</span></span></td><td class=\"tf\"><span class=\"hb\"><span  class=\"hl hlup\" >יְהוָ֔ה </span></span></td></tr>\n",
       "<tr class=\"tf\"><td class=\"tf\">12</td><td class=\"tf\"> <a href=\"https://shebanq.ancient-data.org/hebrew/text?book=Jeremia&amp;chapter=1&amp;verse=4&amp;version=c&amp;mr=m&amp;qw=q&amp;tp=txt_p&amp;tr=hb&amp;wget=v&amp;qget=v&amp;nget=vt\" title=\"show this passage in SHEBANQ\" sec=\"Jeremiah 1:4\">Jeremiah 1:4</a></td><td class=\"tf\"><span class=\"hb\"><a class=\"vn\" href=\"https://shebanq.ancient-data.org/hebrew/text?book=Jeremia&amp;chapter=1&amp;verse=4&amp;version=c&amp;mr=m&amp;qw=q&amp;tp=txt_p&amp;tr=hb&amp;wget=v&amp;qget=v&amp;nget=vt\" title=\"Jeremiah 1:4\" sec=\"Jeremiah 1:4\"></a><span  class=\"hlup\" >וַ</span><span  class=\"hl hlup\" >יְהִ֥י </span><span  class=\"hl hlup\" >דְבַר־</span><span  class=\"hl hlup\" >יְהוָ֖ה </span><span  class=\"hlup\" >אֵלַ֥י </span>לֵאמֹֽר׃ </span></td><td class=\"tf\"><span class=\"hb\"><span  class=\"hl hlup\" >יְהִ֥י </span></span></td><td class=\"tf\"><span class=\"hb\"><span  class=\"hl hlup\" >דְבַר־</span><span  class=\"hl hlup\" >יְהוָ֖ה </span></span></td><td class=\"tf\"><span class=\"hb\"><span  class=\"hlup\" >וַ</span><span  class=\"hl hlup\" >יְהִ֥י </span><span  class=\"hl hlup\" >דְבַר־</span><span  class=\"hl hlup\" >יְהוָ֖ה </span><span  class=\"hlup\" >אֵלַ֥י </span></span></td><td class=\"tf\"><span class=\"hb\"><span  class=\"hl hlup\" >יְהִ֥י </span></span></td><td class=\"tf\"><span class=\"hb\"><span  class=\"hl hlup\" >דְבַר־</span></span></td><td class=\"tf\"><span class=\"hb\"><span  class=\"hl hlup\" >יְהוָ֖ה </span></span></td></tr>\n",
       "<tr class=\"tf\"><td class=\"tf\">13</td><td class=\"tf\"> <a href=\"https://shebanq.ancient-data.org/hebrew/text?book=Jeremia&amp;chapter=1&amp;verse=11&amp;version=c&amp;mr=m&amp;qw=q&amp;tp=txt_p&amp;tr=hb&amp;wget=v&amp;qget=v&amp;nget=vt\" title=\"show this passage in SHEBANQ\" sec=\"Jeremiah 1:11\">Jeremiah 1:11</a></td><td class=\"tf\"><span class=\"hb\"><a class=\"vn\" href=\"https://shebanq.ancient-data.org/hebrew/text?book=Jeremia&amp;chapter=1&amp;verse=11&amp;version=c&amp;mr=m&amp;qw=q&amp;tp=txt_p&amp;tr=hb&amp;wget=v&amp;qget=v&amp;nget=vt\" title=\"Jeremiah 1:11\" sec=\"Jeremiah 1:11\"></a><span  class=\"hlup\" >וַ</span><span  class=\"hl hlup\" >יְהִ֤י </span><span  class=\"hl hlup\" >דְבַר־</span><span  class=\"hl hlup\" >יְהוָה֙ </span><span  class=\"hlup\" >אֵלַ֣י </span>לֵאמֹ֔ר מָה־אַתָּ֥ה רֹאֶ֖ה יִרְמְיָ֑הוּ וָאֹמַ֕ר מַקֵּ֥ל שָׁקֵ֖ד אֲנִ֥י רֹאֶֽה׃ </span></td><td class=\"tf\"><span class=\"hb\"><span  class=\"hl hlup\" >יְהִ֤י </span></span></td><td class=\"tf\"><span class=\"hb\"><span  class=\"hl hlup\" >דְבַר־</span></span></td><td class=\"tf\"><span class=\"hb\"><span  class=\"hl hlup\" >יְהוָה֙ </span></span></td><td class=\"tf\"><span class=\"hb\"><span  class=\"hlup\" >וַ</span><span  class=\"hl hlup\" >יְהִ֤י </span><span  class=\"hl hlup\" >דְבַר־</span><span  class=\"hl hlup\" >יְהוָה֙ </span><span  class=\"hlup\" >אֵלַ֣י </span></span></td><td class=\"tf\"><span class=\"hb\"><span  class=\"hl hlup\" >יְהִ֤י </span></span></td><td class=\"tf\"><span class=\"hb\"><span  class=\"hl hlup\" >דְבַר־</span><span  class=\"hl hlup\" >יְהוָה֙ </span></span></td></tr>\n",
       "<tr class=\"tf\"><td class=\"tf\">14</td><td class=\"tf\"> <a href=\"https://shebanq.ancient-data.org/hebrew/text?book=Jeremia&amp;chapter=1&amp;verse=13&amp;version=c&amp;mr=m&amp;qw=q&amp;tp=txt_p&amp;tr=hb&amp;wget=v&amp;qget=v&amp;nget=vt\" title=\"show this passage in SHEBANQ\" sec=\"Jeremiah 1:13\">Jeremiah 1:13</a></td><td class=\"tf\"><span class=\"hb\"><a class=\"vn\" href=\"https://shebanq.ancient-data.org/hebrew/text?book=Jeremia&amp;chapter=1&amp;verse=13&amp;version=c&amp;mr=m&amp;qw=q&amp;tp=txt_p&amp;tr=hb&amp;wget=v&amp;qget=v&amp;nget=vt\" title=\"Jeremiah 1:13\" sec=\"Jeremiah 1:13\"></a><span  class=\"hlup\" >וַ</span><span  class=\"hl hlup\" >יְהִ֨י </span><span  class=\"hl hlup\" >דְבַר־</span><span  class=\"hl hlup\" >יְהוָ֤ה׀ </span><span  class=\"hlup\" >אֵלַי֙ </span><span  class=\"hlup\" >שֵׁנִ֣ית </span>לֵאמֹ֔ר מָ֥ה אַתָּ֖ה רֹאֶ֑ה וָאֹמַ֗ר סִ֤יר נָפ֨וּחַ֙ אֲנִ֣י רֹאֶ֔ה וּפָנָ֖יו מִפְּנֵ֥י צָפֹֽונָה׃ </span></td><td class=\"tf\"><span class=\"hb\"><span  class=\"hl hlup\" >יְהִ֨י </span></span></td><td class=\"tf\"><span class=\"hb\"><span  class=\"hl hlup\" >דְבַר־</span></span></td><td class=\"tf\"><span class=\"hb\"><span  class=\"hl hlup\" >יְהוָ֤ה׀ </span></span></td><td class=\"tf\"><span class=\"hb\"><span  class=\"hl hlup\" >יְהִ֨י </span></span></td><td class=\"tf\"><span class=\"hb\"><span  class=\"hl hlup\" >דְבַר־</span><span  class=\"hl hlup\" >יְהוָ֤ה׀ </span></span></td><td class=\"tf\"><span class=\"hb\"><span  class=\"hlup\" >וַ</span><span  class=\"hl hlup\" >יְהִ֨י </span><span  class=\"hl hlup\" >דְבַר־</span><span  class=\"hl hlup\" >יְהוָ֤ה׀ </span><span  class=\"hlup\" >אֵלַי֙ </span><span  class=\"hlup\" >שֵׁנִ֣ית </span></span></td></tr>\n",
       "<tr class=\"tf\"><td class=\"tf\">15</td><td class=\"tf\"> <a href=\"https://shebanq.ancient-data.org/hebrew/text?book=Jeremia&amp;chapter=2&amp;verse=1&amp;version=c&amp;mr=m&amp;qw=q&amp;tp=txt_p&amp;tr=hb&amp;wget=v&amp;qget=v&amp;nget=vt\" title=\"show this passage in SHEBANQ\" sec=\"Jeremiah 2:1\">Jeremiah 2:1</a></td><td class=\"tf\"><span class=\"hb\"><a class=\"vn\" href=\"https://shebanq.ancient-data.org/hebrew/text?book=Jeremia&amp;chapter=2&amp;verse=1&amp;version=c&amp;mr=m&amp;qw=q&amp;tp=txt_p&amp;tr=hb&amp;wget=v&amp;qget=v&amp;nget=vt\" title=\"Jeremiah 2:1\" sec=\"Jeremiah 2:1\"></a><span  class=\"hlup\" >וַ</span><span  class=\"hl hlup\" >יְהִ֥י </span><span  class=\"hl hlup\" >דְבַר־</span><span  class=\"hl hlup\" >יְהוָ֖ה </span><span  class=\"hlup\" >אֵלַ֥י </span>לֵאמֹֽר׃ </span></td><td class=\"tf\"><span class=\"hb\"><span  class=\"hl hlup\" >יְהִ֥י </span></span></td><td class=\"tf\"><span class=\"hb\"><span  class=\"hl hlup\" >דְבַר־</span></span></td><td class=\"tf\"><span class=\"hb\"><span  class=\"hl hlup\" >יְהוָ֖ה </span></span></td><td class=\"tf\"><span class=\"hb\"><span  class=\"hl hlup\" >יְהִ֥י </span></span></td><td class=\"tf\"><span class=\"hb\"><span  class=\"hl hlup\" >דְבַר־</span><span  class=\"hl hlup\" >יְהוָ֖ה </span></span></td><td class=\"tf\"><span class=\"hb\"><span  class=\"hlup\" >וַ</span><span  class=\"hl hlup\" >יְהִ֥י </span><span  class=\"hl hlup\" >דְבַר־</span><span  class=\"hl hlup\" >יְהוָ֖ה </span><span  class=\"hlup\" >אֵלַ֥י </span></span></td></tr>\n",
       "<tr class=\"tf\"><td class=\"tf\">16</td><td class=\"tf\"> <a href=\"https://shebanq.ancient-data.org/hebrew/text?book=Jeremia&amp;chapter=13&amp;verse=3&amp;version=c&amp;mr=m&amp;qw=q&amp;tp=txt_p&amp;tr=hb&amp;wget=v&amp;qget=v&amp;nget=vt\" title=\"show this passage in SHEBANQ\" sec=\"Jeremiah 13:3\">Jeremiah 13:3</a></td><td class=\"tf\"><span class=\"hb\"><a class=\"vn\" href=\"https://shebanq.ancient-data.org/hebrew/text?book=Jeremia&amp;chapter=13&amp;verse=3&amp;version=c&amp;mr=m&amp;qw=q&amp;tp=txt_p&amp;tr=hb&amp;wget=v&amp;qget=v&amp;nget=vt\" title=\"Jeremiah 13:3\" sec=\"Jeremiah 13:3\"></a><span  class=\"hlup\" >וַ</span><span  class=\"hl hlup\" >יְהִ֧י </span><span  class=\"hl hlup\" >דְבַר־</span><span  class=\"hl hlup\" >יְהוָ֛ה </span><span  class=\"hlup\" >אֵלַ֖י </span><span  class=\"hlup\" >שֵׁנִ֥ית </span>לֵאמֹֽר׃ </span></td><td class=\"tf\"><span class=\"hb\"><span  class=\"hl hlup\" >דְבַר־</span><span  class=\"hl hlup\" >יְהוָ֛ה </span></span></td><td class=\"tf\"><span class=\"hb\"><span  class=\"hlup\" >וַ</span><span  class=\"hl hlup\" >יְהִ֧י </span><span  class=\"hl hlup\" >דְבַר־</span><span  class=\"hl hlup\" >יְהוָ֛ה </span><span  class=\"hlup\" >אֵלַ֖י </span><span  class=\"hlup\" >שֵׁנִ֥ית </span></span></td><td class=\"tf\"><span class=\"hb\"><span  class=\"hl hlup\" >יְהִ֧י </span></span></td><td class=\"tf\"><span class=\"hb\"><span  class=\"hl hlup\" >דְבַר־</span></span></td><td class=\"tf\"><span class=\"hb\"><span  class=\"hl hlup\" >יְהוָ֛ה </span></span></td><td class=\"tf\"><span class=\"hb\"><span  class=\"hl hlup\" >יְהִ֧י </span></span></td></tr>\n",
       "<tr class=\"tf\"><td class=\"tf\">17</td><td class=\"tf\"> <a href=\"https://shebanq.ancient-data.org/hebrew/text?book=Jeremia&amp;chapter=13&amp;verse=8&amp;version=c&amp;mr=m&amp;qw=q&amp;tp=txt_p&amp;tr=hb&amp;wget=v&amp;qget=v&amp;nget=vt\" title=\"show this passage in SHEBANQ\" sec=\"Jeremiah 13:8\">Jeremiah 13:8</a></td><td class=\"tf\"><span class=\"hb\"><a class=\"vn\" href=\"https://shebanq.ancient-data.org/hebrew/text?book=Jeremia&amp;chapter=13&amp;verse=8&amp;version=c&amp;mr=m&amp;qw=q&amp;tp=txt_p&amp;tr=hb&amp;wget=v&amp;qget=v&amp;nget=vt\" title=\"Jeremiah 13:8\" sec=\"Jeremiah 13:8\"></a><span  class=\"hlup\" >וַ</span><span  class=\"hl hlup\" >יְהִ֥י </span><span  class=\"hl hlup\" >דְבַר־</span><span  class=\"hl hlup\" >יְהוָ֖ה </span><span  class=\"hlup\" >אֵלַ֥י </span>לֵאמֹֽר׃ </span></td><td class=\"tf\"><span class=\"hb\"><span  class=\"hl hlup\" >יְהִ֥י </span></span></td><td class=\"tf\"><span class=\"hb\"><span  class=\"hl hlup\" >דְבַר־</span><span  class=\"hl hlup\" >יְהוָ֖ה </span></span></td><td class=\"tf\"><span class=\"hb\"><span  class=\"hlup\" >וַ</span><span  class=\"hl hlup\" >יְהִ֥י </span><span  class=\"hl hlup\" >דְבַר־</span><span  class=\"hl hlup\" >יְהוָ֖ה </span><span  class=\"hlup\" >אֵלַ֥י </span></span></td><td class=\"tf\"><span class=\"hb\"><span  class=\"hl hlup\" >יְהִ֥י </span></span></td><td class=\"tf\"><span class=\"hb\"><span  class=\"hl hlup\" >דְבַר־</span></span></td><td class=\"tf\"><span class=\"hb\"><span  class=\"hl hlup\" >יְהוָ֖ה </span></span></td></tr>\n",
       "<tr class=\"tf\"><td class=\"tf\">18</td><td class=\"tf\"> <a href=\"https://shebanq.ancient-data.org/hebrew/text?book=Jeremia&amp;chapter=16&amp;verse=1&amp;version=c&amp;mr=m&amp;qw=q&amp;tp=txt_p&amp;tr=hb&amp;wget=v&amp;qget=v&amp;nget=vt\" title=\"show this passage in SHEBANQ\" sec=\"Jeremiah 16:1\">Jeremiah 16:1</a></td><td class=\"tf\"><span class=\"hb\"><a class=\"vn\" href=\"https://shebanq.ancient-data.org/hebrew/text?book=Jeremia&amp;chapter=16&amp;verse=1&amp;version=c&amp;mr=m&amp;qw=q&amp;tp=txt_p&amp;tr=hb&amp;wget=v&amp;qget=v&amp;nget=vt\" title=\"Jeremiah 16:1\" sec=\"Jeremiah 16:1\"></a><span  class=\"hlup\" >וַ</span><span  class=\"hl hlup\" >יְהִ֥י </span><span  class=\"hl hlup\" >דְבַר־</span><span  class=\"hl hlup\" >יְהוָ֖ה </span><span  class=\"hlup\" >אֵלַ֥י </span>לֵאמֹֽר׃ </span></td><td class=\"tf\"><span class=\"hb\"><span  class=\"hlup\" >וַ</span><span  class=\"hl hlup\" >יְהִ֥י </span><span  class=\"hl hlup\" >דְבַר־</span><span  class=\"hl hlup\" >יְהוָ֖ה </span><span  class=\"hlup\" >אֵלַ֥י </span></span></td><td class=\"tf\"><span class=\"hb\"><span  class=\"hl hlup\" >יְהִ֥י </span></span></td><td class=\"tf\"><span class=\"hb\"><span  class=\"hl hlup\" >דְבַר־</span><span  class=\"hl hlup\" >יְהוָ֖ה </span></span></td><td class=\"tf\"><span class=\"hb\"><span  class=\"hl hlup\" >יְהִ֥י </span></span></td><td class=\"tf\"><span class=\"hb\"><span  class=\"hl hlup\" >דְבַר־</span></span></td><td class=\"tf\"><span class=\"hb\"><span  class=\"hl hlup\" >יְהוָ֖ה </span></span></td></tr>\n",
       "<tr class=\"tf\"><td class=\"tf\">19</td><td class=\"tf\"> <a href=\"https://shebanq.ancient-data.org/hebrew/text?book=Jeremia&amp;chapter=18&amp;verse=5&amp;version=c&amp;mr=m&amp;qw=q&amp;tp=txt_p&amp;tr=hb&amp;wget=v&amp;qget=v&amp;nget=vt\" title=\"show this passage in SHEBANQ\" sec=\"Jeremiah 18:5\">Jeremiah 18:5</a></td><td class=\"tf\"><span class=\"hb\"><a class=\"vn\" href=\"https://shebanq.ancient-data.org/hebrew/text?book=Jeremia&amp;chapter=18&amp;verse=5&amp;version=c&amp;mr=m&amp;qw=q&amp;tp=txt_p&amp;tr=hb&amp;wget=v&amp;qget=v&amp;nget=vt\" title=\"Jeremiah 18:5\" sec=\"Jeremiah 18:5\"></a><span  class=\"hlup\" >וַ</span><span  class=\"hl hlup\" >יְהִ֥י </span><span  class=\"hl hlup\" >דְבַר־</span><span  class=\"hl hlup\" >יְהוָ֖ה </span><span  class=\"hlup\" >אֵלַ֥י </span>לֵאמֹֽור׃ </span></td><td class=\"tf\"><span class=\"hb\"><span  class=\"hl hlup\" >יְהִ֥י </span></span></td><td class=\"tf\"><span class=\"hb\"><span  class=\"hl hlup\" >דְבַר־</span></span></td><td class=\"tf\"><span class=\"hb\"><span  class=\"hl hlup\" >יְהוָ֖ה </span></span></td><td class=\"tf\"><span class=\"hb\"><span  class=\"hl hlup\" >יְהִ֥י </span></span></td><td class=\"tf\"><span class=\"hb\"><span  class=\"hl hlup\" >דְבַר־</span><span  class=\"hl hlup\" >יְהוָ֖ה </span></span></td><td class=\"tf\"><span class=\"hb\"><span  class=\"hlup\" >וַ</span><span  class=\"hl hlup\" >יְהִ֥י </span><span  class=\"hl hlup\" >דְבַר־</span><span  class=\"hl hlup\" >יְהוָ֖ה </span><span  class=\"hlup\" >אֵלַ֥י </span></span></td></tr>\n",
       "<tr class=\"tf\"><td class=\"tf\">20</td><td class=\"tf\"> <a href=\"https://shebanq.ancient-data.org/hebrew/text?book=Jeremia&amp;chapter=24&amp;verse=4&amp;version=c&amp;mr=m&amp;qw=q&amp;tp=txt_p&amp;tr=hb&amp;wget=v&amp;qget=v&amp;nget=vt\" title=\"show this passage in SHEBANQ\" sec=\"Jeremiah 24:4\">Jeremiah 24:4</a></td><td class=\"tf\"><span class=\"hb\"><a class=\"vn\" href=\"https://shebanq.ancient-data.org/hebrew/text?book=Jeremia&amp;chapter=24&amp;verse=4&amp;version=c&amp;mr=m&amp;qw=q&amp;tp=txt_p&amp;tr=hb&amp;wget=v&amp;qget=v&amp;nget=vt\" title=\"Jeremiah 24:4\" sec=\"Jeremiah 24:4\"></a><span  class=\"hlup\" >וַ</span><span  class=\"hl hlup\" >יְהִ֥י </span><span  class=\"hl hlup\" >דְבַר־</span><span  class=\"hl hlup\" >יְהוָ֖ה </span><span  class=\"hlup\" >אֵלַ֥י </span>לֵאמֹֽר׃ </span></td><td class=\"tf\"><span class=\"hb\"><span  class=\"hl hlup\" >דְבַר־</span></span></td><td class=\"tf\"><span class=\"hb\"><span  class=\"hlup\" >וַ</span><span  class=\"hl hlup\" >יְהִ֥י </span><span  class=\"hl hlup\" >דְבַר־</span><span  class=\"hl hlup\" >יְהוָ֖ה </span><span  class=\"hlup\" >אֵלַ֥י </span></span></td><td class=\"tf\"><span class=\"hb\"><span  class=\"hl hlup\" >יְהִ֥י </span></span></td><td class=\"tf\"><span class=\"hb\"><span  class=\"hl hlup\" >דְבַר־</span><span  class=\"hl hlup\" >יְהוָ֖ה </span></span></td><td class=\"tf\"><span class=\"hb\"><span  class=\"hl hlup\" >יְהוָ֖ה </span></span></td><td class=\"tf\"><span class=\"hb\"><span  class=\"hl hlup\" >יְהִ֥י </span></span></td></tr></table>"
      ],
      "text/plain": [
       "<IPython.core.display.HTML object>"
      ]
     },
     "metadata": {},
     "output_type": "display_data"
    }
   ],
   "source": [
    "WordHappens4='''\n",
    "clause typ=WayX\n",
    "    phrase function=Pred\n",
    "        word lex=HJH[ nu=sg\n",
    "    phrase function=Subj\n",
    "        word lex=DBR/ nu=sg st=c\n",
    "        <: word sp=nmpr\n",
    "'''\n",
    "WordHappens4  = A.search(WordHappens4)\n",
    "A.table(WordHappens4, start=1, end=20, condensed=True)"
   ]
  },
  {
   "cell_type": "markdown",
   "metadata": {},
   "source": [
    "## Prophet\n",
    "### Task 2: \n",
    "\n",
    "Search in Bible Software (Logos/Accordance) how often NBJ> appears in the Bible. What insights could you generate from your findings?"
   ]
  },
  {
   "cell_type": "code",
   "execution_count": 13,
   "metadata": {},
   "outputs": [
    {
     "name": "stdout",
     "output_type": "stream",
     "text": [
      "  0.53s 319 results\n"
     ]
    },
    {
     "data": {
      "text/html": [
       "<table>\n",
       "<tr class=\"tf\">\n",
       "  <th class=\"tf\">n</th><th class=\"tf\">p</th>\n",
       "  <th class=\"tf\">verse</th><th>word</th>\n",
       "</tr>\n",
       "\n",
       "<tr class=\"tf\"><td class=\"tf\">1</td><td class=\"tf\"> <a href=\"https://shebanq.ancient-data.org/hebrew/text?book=Genesis&amp;chapter=20&amp;verse=7&amp;version=c&amp;mr=m&amp;qw=q&amp;tp=txt_p&amp;tr=hb&amp;wget=v&amp;qget=v&amp;nget=vt\" title=\"show this passage in SHEBANQ\" sec=\"Genesis 20:7\">Genesis 20:7</a></td><td class=\"tf\"><span class=\"hb\"><a class=\"vn\" href=\"https://shebanq.ancient-data.org/hebrew/text?book=Genesis&amp;chapter=20&amp;verse=7&amp;version=c&amp;mr=m&amp;qw=q&amp;tp=txt_p&amp;tr=hb&amp;wget=v&amp;qget=v&amp;nget=vt\" title=\"Genesis 20:7\" sec=\"Genesis 20:7\"></a>וְעַתָּ֗ה הָשֵׁ֤ב אֵֽשֶׁת־הָאִישׁ֙ כִּֽי־<span  class=\"hl\" >נָבִ֣יא </span>ה֔וּא וְיִתְפַּלֵּ֥ל בַּֽעַדְךָ֖ וֶֽחְיֵ֑ה וְאִם־אֵֽינְךָ֣ מֵשִׁ֗יב דַּ֚ע כִּי־מֹ֣ות תָּמ֔וּת אַתָּ֖ה וְכָל־אֲשֶׁר־לָֽךְ׃ </span></td><td class=\"tf\"><span class=\"hb\"><span  class=\"hl\" >נָבִ֣יא </span></span></td></tr>\n",
       "<tr class=\"tf\"><td class=\"tf\">2</td><td class=\"tf\"> <a href=\"https://shebanq.ancient-data.org/hebrew/text?book=Exodus&amp;chapter=7&amp;verse=1&amp;version=c&amp;mr=m&amp;qw=q&amp;tp=txt_p&amp;tr=hb&amp;wget=v&amp;qget=v&amp;nget=vt\" title=\"show this passage in SHEBANQ\" sec=\"Exodus 7:1\">Exodus 7:1</a></td><td class=\"tf\"><span class=\"hb\"><a class=\"vn\" href=\"https://shebanq.ancient-data.org/hebrew/text?book=Exodus&amp;chapter=7&amp;verse=1&amp;version=c&amp;mr=m&amp;qw=q&amp;tp=txt_p&amp;tr=hb&amp;wget=v&amp;qget=v&amp;nget=vt\" title=\"Exodus 7:1\" sec=\"Exodus 7:1\"></a>וַיֹּ֤אמֶר יְהוָה֙ אֶל־מֹשֶׁ֔ה רְאֵ֛ה נְתַתִּ֥יךָ אֱלֹהִ֖ים לְפַרְעֹ֑ה וְאַהֲרֹ֥ן אָחִ֖יךָ יִהְיֶ֥ה <span  class=\"hl\" >נְבִיאֶֽךָ׃ </span></span></td><td class=\"tf\"><span class=\"hb\"><span  class=\"hl\" >נְבִיאֶֽךָ׃ </span></span></td></tr></table>"
      ],
      "text/plain": [
       "<IPython.core.display.HTML object>"
      ]
     },
     "metadata": {},
     "output_type": "display_data"
    }
   ],
   "source": [
    "NBJ='''\n",
    "word lex=NBJ>/\n",
    "'''\n",
    "NBJ  = A.search(NBJ)\n",
    "A.table(NBJ, start=1, end=2, condensed=True)"
   ]
  },
  {
   "cell_type": "code",
   "execution_count": 14,
   "metadata": {},
   "outputs": [],
   "source": [
    "A.export(NBJ, toDir='D:/OneDrive/1200_AUS-research/Fabric-TEXT', toFile='NBJ.tsv')"
   ]
  },
  {
   "cell_type": "code",
   "execution_count": 15,
   "metadata": {},
   "outputs": [
    {
     "data": {
      "text/html": [
       "<div>\n",
       "<style scoped>\n",
       "    .dataframe tbody tr th:only-of-type {\n",
       "        vertical-align: middle;\n",
       "    }\n",
       "\n",
       "    .dataframe tbody tr th {\n",
       "        vertical-align: top;\n",
       "    }\n",
       "\n",
       "    .dataframe thead th {\n",
       "        text-align: right;\n",
       "    }\n",
       "</style>\n",
       "<table border=\"1\" class=\"dataframe\">\n",
       "  <thead>\n",
       "    <tr style=\"text-align: right;\">\n",
       "      <th></th>\n",
       "      <th>R</th>\n",
       "      <th>S1</th>\n",
       "      <th>S2</th>\n",
       "      <th>S3</th>\n",
       "      <th>NODE1</th>\n",
       "      <th>TYPE1</th>\n",
       "      <th>TEXT1</th>\n",
       "      <th>lex1</th>\n",
       "    </tr>\n",
       "  </thead>\n",
       "  <tbody>\n",
       "    <tr>\n",
       "      <th>0</th>\n",
       "      <td>1</td>\n",
       "      <td>Genesis</td>\n",
       "      <td>20</td>\n",
       "      <td>7</td>\n",
       "      <td>9379</td>\n",
       "      <td>word</td>\n",
       "      <td>נָבִ֣יא</td>\n",
       "      <td>NBJ&gt;/</td>\n",
       "    </tr>\n",
       "    <tr>\n",
       "      <th>1</th>\n",
       "      <td>2</td>\n",
       "      <td>Exodus</td>\n",
       "      <td>7</td>\n",
       "      <td>1</td>\n",
       "      <td>31798</td>\n",
       "      <td>word</td>\n",
       "      <td>נְבִיאֶֽךָ׃</td>\n",
       "      <td>NBJ&gt;/</td>\n",
       "    </tr>\n",
       "    <tr>\n",
       "      <th>2</th>\n",
       "      <td>3</td>\n",
       "      <td>Numbers</td>\n",
       "      <td>11</td>\n",
       "      <td>29</td>\n",
       "      <td>77450</td>\n",
       "      <td>word</td>\n",
       "      <td>נְבִיאִ֔ים</td>\n",
       "      <td>NBJ&gt;/</td>\n",
       "    </tr>\n",
       "    <tr>\n",
       "      <th>3</th>\n",
       "      <td>4</td>\n",
       "      <td>Numbers</td>\n",
       "      <td>12</td>\n",
       "      <td>6</td>\n",
       "      <td>77685</td>\n",
       "      <td>word</td>\n",
       "      <td>נְבִ֣יאֲכֶ֔ם</td>\n",
       "      <td>NBJ&gt;/</td>\n",
       "    </tr>\n",
       "    <tr>\n",
       "      <th>4</th>\n",
       "      <td>5</td>\n",
       "      <td>Deuteronomy</td>\n",
       "      <td>13</td>\n",
       "      <td>2</td>\n",
       "      <td>101040</td>\n",
       "      <td>word</td>\n",
       "      <td>נָבִ֔יא</td>\n",
       "      <td>NBJ&gt;/</td>\n",
       "    </tr>\n",
       "  </tbody>\n",
       "</table>\n",
       "</div>"
      ],
      "text/plain": [
       "   R           S1  S2  S3   NODE1 TYPE1          TEXT1   lex1\n",
       "0  1      Genesis  20   7    9379  word       נָבִ֣יא   NBJ>/\n",
       "1  2       Exodus   7   1   31798  word   נְבִיאֶֽךָ׃   NBJ>/\n",
       "2  3      Numbers  11  29   77450  word    נְבִיאִ֔ים   NBJ>/\n",
       "3  4      Numbers  12   6   77685  word  נְבִ֣יאֲכֶ֔ם   NBJ>/\n",
       "4  5  Deuteronomy  13   2  101040  word       נָבִ֔יא   NBJ>/"
      ]
     },
     "execution_count": 15,
     "metadata": {},
     "output_type": "execute_result"
    }
   ],
   "source": [
    "NBJ=pd.read_csv('D:/OneDrive/1200_AUS-research/Fabric-TEXT/NBJ.tsv',delimiter='\\t',encoding='utf-16')\n",
    "pd.set_option('display.max_columns', 50)\n",
    "NBJ.head()"
   ]
  },
  {
   "cell_type": "code",
   "execution_count": 16,
   "metadata": {},
   "outputs": [
    {
     "data": {
      "text/plain": [
       "Jeremiah        95\n",
       "1_Kings         50\n",
       "2_Kings         33\n",
       "2_Chronicles    26\n",
       "Ezekiel         17\n",
       "1_Samuel        12\n",
       "Zechariah       12\n",
       "Deuteronomy     10\n",
       "Hosea            8\n",
       "Isaiah           7\n",
       "Amos             5\n",
       "Nehemiah         5\n",
       "Ezra             5\n",
       "Haggai           5\n",
       "Daniel           4\n",
       "Lamentations     4\n",
       "2_Samuel         3\n",
       "Micah            3\n",
       "1_Chronicles     3\n",
       "Psalms           3\n",
       "Numbers          2\n",
       "Habakkuk         2\n",
       "Zephaniah        1\n",
       "Exodus           1\n",
       "Judges           1\n",
       "Malachi          1\n",
       "Genesis          1\n",
       "Name: S1, dtype: int64"
      ]
     },
     "execution_count": 16,
     "metadata": {},
     "output_type": "execute_result"
    }
   ],
   "source": [
    "NBJ[\"S1\"].value_counts()"
   ]
  },
  {
   "cell_type": "markdown",
   "metadata": {},
   "source": [
    "## I am with you\n",
    "### Task 3: \n",
    "\n",
    "Study the construction \"I am with you\" and create searches that help you to find these and other similar constructions  of that nature. What links (if any) do you think are estabslihed by Jer's word usage?"
   ]
  },
  {
   "cell_type": "code",
   "execution_count": 17,
   "metadata": {},
   "outputs": [
    {
     "name": "stdout",
     "output_type": "stream",
     "text": [
      "  2.07s 18 results\n"
     ]
    },
    {
     "data": {
      "text/html": [
       "<table>\n",
       "<tr class=\"tf\">\n",
       "  <th class=\"tf\">n</th><th class=\"tf\">p</th>\n",
       "  <th class=\"tf\">verse</th><th>phrase</th><th>word</th><th>clause</th><th>word</th><th>phrase</th>\n",
       "</tr>\n",
       "\n",
       "<tr class=\"tf\"><td class=\"tf\">1</td><td class=\"tf\"> <a href=\"https://shebanq.ancient-data.org/hebrew/text?book=Genesis&amp;chapter=26&amp;verse=24&amp;version=c&amp;mr=m&amp;qw=q&amp;tp=txt_p&amp;tr=hb&amp;wget=v&amp;qget=v&amp;nget=vt\" title=\"show this passage in SHEBANQ\" sec=\"Genesis 26:24\">Genesis 26:24</a></td><td class=\"tf\"><span class=\"hb\"><a class=\"vn\" href=\"https://shebanq.ancient-data.org/hebrew/text?book=Genesis&amp;chapter=26&amp;verse=24&amp;version=c&amp;mr=m&amp;qw=q&amp;tp=txt_p&amp;tr=hb&amp;wget=v&amp;qget=v&amp;nget=vt\" title=\"Genesis 26:24\" sec=\"Genesis 26:24\"></a>וַיֵּרָ֨א אֵלָ֤יו יְהוָה֙ בַּלַּ֣יְלָה הַה֔וּא וַיֹּ֕אמֶר אָנֹכִ֕י אֱלֹהֵ֖י אַבְרָהָ֣ם אָבִ֑יךָ אַל־תִּירָא֙ <span  class=\"hlup\" >כִּֽי־</span><span  class=\"hl hlup\" >אִתְּךָ֣ </span><span  class=\"hl hlup\" >אָנֹ֔כִי </span>וּבֵֽרַכְתִּ֨יךָ֙ וְהִרְבֵּיתִ֣י אֶֽת־זַרְעֲךָ֔ בַּעֲב֖וּר אַבְרָהָ֥ם עַבְדִּֽי׃ </span></td><td class=\"tf\"><span class=\"hb\"><span  class=\"hl hlup\" >אָנֹ֔כִי </span></span></td><td class=\"tf\"><span class=\"hb\"><span  class=\"hl hlup\" >אִתְּךָ֣ </span></span></td><td class=\"tf\"><span class=\"hb\"><span  class=\"hlup\" >כִּֽי־</span><span  class=\"hl hlup\" >אִתְּךָ֣ </span><span  class=\"hl hlup\" >אָנֹ֔כִי </span></span></td><td class=\"tf\"><span class=\"hb\"><span  class=\"hl hlup\" >אָנֹ֔כִי </span></span></td><td class=\"tf\"><span class=\"hb\"><span  class=\"hl hlup\" >אִתְּךָ֣ </span></span></td></tr>\n",
       "<tr class=\"tf\"><td class=\"tf\">2</td><td class=\"tf\"> <a href=\"https://shebanq.ancient-data.org/hebrew/text?book=Genesis&amp;chapter=28&amp;verse=15&amp;version=c&amp;mr=m&amp;qw=q&amp;tp=txt_p&amp;tr=hb&amp;wget=v&amp;qget=v&amp;nget=vt\" title=\"show this passage in SHEBANQ\" sec=\"Genesis 28:15\">Genesis 28:15</a></td><td class=\"tf\"><span class=\"hb\"><a class=\"vn\" href=\"https://shebanq.ancient-data.org/hebrew/text?book=Genesis&amp;chapter=28&amp;verse=15&amp;version=c&amp;mr=m&amp;qw=q&amp;tp=txt_p&amp;tr=hb&amp;wget=v&amp;qget=v&amp;nget=vt\" title=\"Genesis 28:15\" sec=\"Genesis 28:15\"></a><span  class=\"hlup\" >וְ</span><span  class=\"hlup\" >הִנֵּ֨ה </span><span  class=\"hl hlup\" >אָנֹכִ֜י </span><span  class=\"hl hlup\" >עִמָּ֗ךְ </span>וּשְׁמַרְתִּ֨יךָ֙ בְּכֹ֣ל אֲשֶׁר־תֵּלֵ֔ךְ וַהֲשִׁ֣בֹתִ֔יךָ אֶל־הָאֲדָמָ֖ה הַזֹּ֑את כִּ֚י לֹ֣א אֶֽעֱזָבְךָ֔ עַ֚ד אֲשֶׁ֣ר אִם־עָשִׂ֔יתִי אֵ֥ת אֲשֶׁר־דִּבַּ֖רְתִּי לָֽךְ׃ </span></td><td class=\"tf\"><span class=\"hb\"><span  class=\"hlup\" >וְ</span><span  class=\"hlup\" >הִנֵּ֨ה </span><span  class=\"hl hlup\" >אָנֹכִ֜י </span><span  class=\"hl hlup\" >עִמָּ֗ךְ </span></span></td><td class=\"tf\"><span class=\"hb\"><span  class=\"hl hlup\" >אָנֹכִ֜י </span></span></td><td class=\"tf\"><span class=\"hb\"><span  class=\"hl hlup\" >עִמָּ֗ךְ </span></span></td><td class=\"tf\"><span class=\"hb\"><span  class=\"hl hlup\" >אָנֹכִ֜י </span></span></td><td class=\"tf\"><span class=\"hb\"><span  class=\"hl hlup\" >עִמָּ֗ךְ </span></span></td></tr>\n",
       "<tr class=\"tf\"><td class=\"tf\">3</td><td class=\"tf\"> <a href=\"https://shebanq.ancient-data.org/hebrew/text?book=Genesis&amp;chapter=31&amp;verse=38&amp;version=c&amp;mr=m&amp;qw=q&amp;tp=txt_p&amp;tr=hb&amp;wget=v&amp;qget=v&amp;nget=vt\" title=\"show this passage in SHEBANQ\" sec=\"Genesis 31:38\">Genesis 31:38</a></td><td class=\"tf\"><span class=\"hb\"><a class=\"vn\" href=\"https://shebanq.ancient-data.org/hebrew/text?book=Genesis&amp;chapter=31&amp;verse=38&amp;version=c&amp;mr=m&amp;qw=q&amp;tp=txt_p&amp;tr=hb&amp;wget=v&amp;qget=v&amp;nget=vt\" title=\"Genesis 31:38\" sec=\"Genesis 31:38\"></a><span  class=\"hlup\" >זֶה֩ </span><span  class=\"hlup\" >עֶשְׂרִ֨ים </span><span  class=\"hlup\" >שָׁנָ֤ה </span><span  class=\"hl hlup\" >אָנֹכִי֙ </span><span  class=\"hl hlup\" >עִמָּ֔ךְ </span>רְחֵלֶ֥יךָ וְעִזֶּ֖יךָ לֹ֣א שִׁכֵּ֑לוּ וְאֵילֵ֥י צֹאנְךָ֖ לֹ֥א אָכָֽלְתִּי׃ </span></td><td class=\"tf\"><span class=\"hb\"><span  class=\"hlup\" >זֶה֩ </span><span  class=\"hlup\" >עֶשְׂרִ֨ים </span><span  class=\"hlup\" >שָׁנָ֤ה </span><span  class=\"hl hlup\" >אָנֹכִי֙ </span><span  class=\"hl hlup\" >עִמָּ֔ךְ </span></span></td><td class=\"tf\"><span class=\"hb\"><span  class=\"hl hlup\" >אָנֹכִי֙ </span></span></td><td class=\"tf\"><span class=\"hb\"><span  class=\"hl hlup\" >עִמָּ֔ךְ </span></span></td><td class=\"tf\"><span class=\"hb\"><span  class=\"hl hlup\" >אָנֹכִי֙ </span></span></td><td class=\"tf\"><span class=\"hb\"><span  class=\"hl hlup\" >עִמָּ֔ךְ </span></span></td></tr>\n",
       "<tr class=\"tf\"><td class=\"tf\">4</td><td class=\"tf\"> <a href=\"https://shebanq.ancient-data.org/hebrew/text?book=Jesaia&amp;chapter=41&amp;verse=10&amp;version=c&amp;mr=m&amp;qw=q&amp;tp=txt_p&amp;tr=hb&amp;wget=v&amp;qget=v&amp;nget=vt\" title=\"show this passage in SHEBANQ\" sec=\"Isaiah 41:10\">Isaiah 41:10</a></td><td class=\"tf\"><span class=\"hb\"><a class=\"vn\" href=\"https://shebanq.ancient-data.org/hebrew/text?book=Jesaia&amp;chapter=41&amp;verse=10&amp;version=c&amp;mr=m&amp;qw=q&amp;tp=txt_p&amp;tr=hb&amp;wget=v&amp;qget=v&amp;nget=vt\" title=\"Isaiah 41:10\" sec=\"Isaiah 41:10\"></a>אַל־תִּירָא֙ <span  class=\"hlup\" >כִּ֣י </span><span  class=\"hl hlup\" >עִמְּךָ־</span><span  class=\"hl hlup\" >אָ֔נִי </span>אַל־תִּשְׁתָּ֖ע כִּֽי־אֲנִ֣י אֱלֹהֶ֑יךָ אִמַּצְתִּ֨יךָ֙ אַף־עֲזַרְתִּ֔יךָ אַף־תְּמַכְתִּ֖יךָ בִּימִ֥ין צִדְקִֽי׃ </span></td><td class=\"tf\"><span class=\"hb\"><span  class=\"hlup\" >כִּ֣י </span><span  class=\"hl hlup\" >עִמְּךָ־</span><span  class=\"hl hlup\" >אָ֔נִי </span></span></td><td class=\"tf\"><span class=\"hb\"><span  class=\"hl hlup\" >עִמְּךָ־</span></span></td><td class=\"tf\"><span class=\"hb\"><span  class=\"hl hlup\" >אָ֔נִי </span></span></td><td class=\"tf\"><span class=\"hb\"><span  class=\"hl hlup\" >עִמְּךָ־</span></span></td><td class=\"tf\"><span class=\"hb\"><span  class=\"hl hlup\" >אָ֔נִי </span></span></td></tr>\n",
       "<tr class=\"tf\"><td class=\"tf\">5</td><td class=\"tf\"> <a href=\"https://shebanq.ancient-data.org/hebrew/text?book=Jesaia&amp;chapter=43&amp;verse=2&amp;version=c&amp;mr=m&amp;qw=q&amp;tp=txt_p&amp;tr=hb&amp;wget=v&amp;qget=v&amp;nget=vt\" title=\"show this passage in SHEBANQ\" sec=\"Isaiah 43:2\">Isaiah 43:2</a></td><td class=\"tf\"><span class=\"hb\"><a class=\"vn\" href=\"https://shebanq.ancient-data.org/hebrew/text?book=Jesaia&amp;chapter=43&amp;verse=2&amp;version=c&amp;mr=m&amp;qw=q&amp;tp=txt_p&amp;tr=hb&amp;wget=v&amp;qget=v&amp;nget=vt\" title=\"Isaiah 43:2\" sec=\"Isaiah 43:2\"></a>כִּֽי־תַעֲבֹ֤ר בַּמַּ֨יִם֙ <span  class=\"hl hlup\" >אִתְּךָ־</span><span  class=\"hl hlup\" >אָ֔נִי </span>וּבַנְּהָרֹ֖ות לֹ֣א יִשְׁטְפ֑וּךָ כִּֽי־תֵלֵ֤ךְ בְּמֹו־אֵשׁ֙ לֹ֣א תִכָּוֶ֔ה וְלֶהָבָ֖ה לֹ֥א תִבְעַר־בָּֽךְ׃ </span></td><td class=\"tf\"><span class=\"hb\"><span  class=\"hl hlup\" >אִתְּךָ־</span></span></td><td class=\"tf\"><span class=\"hb\"><span  class=\"hl hlup\" >אָ֔נִי </span></span></td><td class=\"tf\"><span class=\"hb\"><span  class=\"hl hlup\" >אָ֔נִי </span></span></td><td class=\"tf\"><span class=\"hb\"><span  class=\"hl hlup\" >אִתְּךָ־</span></span></td><td class=\"tf\"><span class=\"hb\"><span  class=\"hl hlup\" >אִתְּךָ־</span><span  class=\"hl hlup\" >אָ֔נִי </span></span></td></tr>\n",
       "<tr class=\"tf\"><td class=\"tf\">6</td><td class=\"tf\"> <a href=\"https://shebanq.ancient-data.org/hebrew/text?book=Jesaia&amp;chapter=43&amp;verse=5&amp;version=c&amp;mr=m&amp;qw=q&amp;tp=txt_p&amp;tr=hb&amp;wget=v&amp;qget=v&amp;nget=vt\" title=\"show this passage in SHEBANQ\" sec=\"Isaiah 43:5\">Isaiah 43:5</a></td><td class=\"tf\"><span class=\"hb\"><a class=\"vn\" href=\"https://shebanq.ancient-data.org/hebrew/text?book=Jesaia&amp;chapter=43&amp;verse=5&amp;version=c&amp;mr=m&amp;qw=q&amp;tp=txt_p&amp;tr=hb&amp;wget=v&amp;qget=v&amp;nget=vt\" title=\"Isaiah 43:5\" sec=\"Isaiah 43:5\"></a>אַל־תִּירָ֖א <span  class=\"hlup\" >כִּ֣י </span><span  class=\"hl hlup\" >אִתְּךָ־</span><span  class=\"hl hlup\" >אָ֑נִי </span>מִמִּזְרָח֙ אָבִ֣יא זַרְעֶ֔ךָ וּמִֽמַּעֲרָ֖ב אֲקַבְּצֶֽךָּ׃ </span></td><td class=\"tf\"><span class=\"hb\"><span  class=\"hl hlup\" >אִתְּךָ־</span></span></td><td class=\"tf\"><span class=\"hb\"><span  class=\"hl hlup\" >אָ֑נִי </span></span></td><td class=\"tf\"><span class=\"hb\"><span  class=\"hlup\" >כִּ֣י </span><span  class=\"hl hlup\" >אִתְּךָ־</span><span  class=\"hl hlup\" >אָ֑נִי </span></span></td><td class=\"tf\"><span class=\"hb\"><span  class=\"hl hlup\" >אִתְּךָ־</span></span></td><td class=\"tf\"><span class=\"hb\"><span  class=\"hl hlup\" >אָ֑נִי </span></span></td></tr>\n",
       "<tr class=\"tf\"><td class=\"tf\">7</td><td class=\"tf\"> <a href=\"https://shebanq.ancient-data.org/hebrew/text?book=Jeremia&amp;chapter=1&amp;verse=8&amp;version=c&amp;mr=m&amp;qw=q&amp;tp=txt_p&amp;tr=hb&amp;wget=v&amp;qget=v&amp;nget=vt\" title=\"show this passage in SHEBANQ\" sec=\"Jeremiah 1:8\">Jeremiah 1:8</a></td><td class=\"tf\"><span class=\"hb\"><a class=\"vn\" href=\"https://shebanq.ancient-data.org/hebrew/text?book=Jeremia&amp;chapter=1&amp;verse=8&amp;version=c&amp;mr=m&amp;qw=q&amp;tp=txt_p&amp;tr=hb&amp;wget=v&amp;qget=v&amp;nget=vt\" title=\"Jeremiah 1:8\" sec=\"Jeremiah 1:8\"></a>אַל־תִּירָ֖א מִפְּנֵיהֶ֑ם <span  class=\"hlup\" >כִּֽי־</span><span  class=\"hl hlup\" >אִתְּךָ֥ </span><span  class=\"hl hlup\" >אֲנִ֛י </span>לְהַצִּלֶ֖ךָ נְאֻם־יְהוָֽה׃ </span></td><td class=\"tf\"><span class=\"hb\"><span  class=\"hlup\" >כִּֽי־</span><span  class=\"hl hlup\" >אִתְּךָ֥ </span><span  class=\"hl hlup\" >אֲנִ֛י </span></span></td><td class=\"tf\"><span class=\"hb\"><span  class=\"hl hlup\" >אִתְּךָ֥ </span></span></td><td class=\"tf\"><span class=\"hb\"><span  class=\"hl hlup\" >אֲנִ֛י </span></span></td><td class=\"tf\"><span class=\"hb\"><span  class=\"hl hlup\" >אִתְּךָ֥ </span></span></td><td class=\"tf\"><span class=\"hb\"><span  class=\"hl hlup\" >אֲנִ֛י </span></span></td></tr>\n",
       "<tr class=\"tf\"><td class=\"tf\">8</td><td class=\"tf\"> <a href=\"https://shebanq.ancient-data.org/hebrew/text?book=Jeremia&amp;chapter=1&amp;verse=19&amp;version=c&amp;mr=m&amp;qw=q&amp;tp=txt_p&amp;tr=hb&amp;wget=v&amp;qget=v&amp;nget=vt\" title=\"show this passage in SHEBANQ\" sec=\"Jeremiah 1:19\">Jeremiah 1:19</a></td><td class=\"tf\"><span class=\"hb\"><a class=\"vn\" href=\"https://shebanq.ancient-data.org/hebrew/text?book=Jeremia&amp;chapter=1&amp;verse=19&amp;version=c&amp;mr=m&amp;qw=q&amp;tp=txt_p&amp;tr=hb&amp;wget=v&amp;qget=v&amp;nget=vt\" title=\"Jeremiah 1:19\" sec=\"Jeremiah 1:19\"></a>וְנִלְחֲמ֥וּ אֵלֶ֖יךָ וְלֹא־י֣וּכְלוּ לָ֑ךְ <span  class=\"hlup\" >כִּֽי־</span><span  class=\"hl hlup\" >אִתְּךָ֥ </span><span  class=\"hl hlup\" >אֲנִ֛י </span>נְאֻם־יְהוָ֖ה לְהַצִּילֶֽךָ׃ פ </span></td><td class=\"tf\"><span class=\"hb\"><span  class=\"hl hlup\" >אִתְּךָ֥ </span></span></td><td class=\"tf\"><span class=\"hb\"><span  class=\"hl hlup\" >אֲנִ֛י </span></span></td><td class=\"tf\"><span class=\"hb\"><span  class=\"hlup\" >כִּֽי־</span><span  class=\"hl hlup\" >אִתְּךָ֥ </span><span  class=\"hl hlup\" >אֲנִ֛י </span></span></td><td class=\"tf\"><span class=\"hb\"><span  class=\"hl hlup\" >אִתְּךָ֥ </span></span></td><td class=\"tf\"><span class=\"hb\"><span  class=\"hl hlup\" >אֲנִ֛י </span></span></td></tr>\n",
       "<tr class=\"tf\"><td class=\"tf\">9</td><td class=\"tf\"> <a href=\"https://shebanq.ancient-data.org/hebrew/text?book=Jeremia&amp;chapter=15&amp;verse=20&amp;version=c&amp;mr=m&amp;qw=q&amp;tp=txt_p&amp;tr=hb&amp;wget=v&amp;qget=v&amp;nget=vt\" title=\"show this passage in SHEBANQ\" sec=\"Jeremiah 15:20\">Jeremiah 15:20</a></td><td class=\"tf\"><span class=\"hb\"><a class=\"vn\" href=\"https://shebanq.ancient-data.org/hebrew/text?book=Jeremia&amp;chapter=15&amp;verse=20&amp;version=c&amp;mr=m&amp;qw=q&amp;tp=txt_p&amp;tr=hb&amp;wget=v&amp;qget=v&amp;nget=vt\" title=\"Jeremiah 15:20\" sec=\"Jeremiah 15:20\"></a>וּנְתַתִּ֜יךָ לָעָ֣ם הַזֶּ֗ה לְחֹומַ֤ת נְחֹ֨שֶׁת֙ בְּצוּרָ֔ה וְנִלְחֲמ֥וּ אֵלֶ֖יךָ וְלֹא־י֣וּכְלוּ לָ֑ךְ <span  class=\"hlup\" >כִּֽי־</span><span  class=\"hl hlup\" >אִתְּךָ֥ </span><span  class=\"hl hlup\" >אֲנִ֛י </span>לְהֹושִֽׁיעֲךָ֥ וּלְהַצִּילֶ֖ךָ נְאֻם־יְהוָֽה׃ </span></td><td class=\"tf\"><span class=\"hb\"><span  class=\"hl hlup\" >אִתְּךָ֥ </span></span></td><td class=\"tf\"><span class=\"hb\"><span  class=\"hl hlup\" >אֲנִ֛י </span></span></td><td class=\"tf\"><span class=\"hb\"><span  class=\"hl hlup\" >אִתְּךָ֥ </span></span></td><td class=\"tf\"><span class=\"hb\"><span  class=\"hl hlup\" >אֲנִ֛י </span></span></td><td class=\"tf\"><span class=\"hb\"><span  class=\"hlup\" >כִּֽי־</span><span  class=\"hl hlup\" >אִתְּךָ֥ </span><span  class=\"hl hlup\" >אֲנִ֛י </span></span></td></tr>\n",
       "<tr class=\"tf\"><td class=\"tf\">10</td><td class=\"tf\"> <a href=\"https://shebanq.ancient-data.org/hebrew/text?book=Jeremia&amp;chapter=30&amp;verse=11&amp;version=c&amp;mr=m&amp;qw=q&amp;tp=txt_p&amp;tr=hb&amp;wget=v&amp;qget=v&amp;nget=vt\" title=\"show this passage in SHEBANQ\" sec=\"Jeremiah 30:11\">Jeremiah 30:11</a></td><td class=\"tf\"><span class=\"hb\"><a class=\"vn\" href=\"https://shebanq.ancient-data.org/hebrew/text?book=Jeremia&amp;chapter=30&amp;verse=11&amp;version=c&amp;mr=m&amp;qw=q&amp;tp=txt_p&amp;tr=hb&amp;wget=v&amp;qget=v&amp;nget=vt\" title=\"Jeremiah 30:11\" sec=\"Jeremiah 30:11\"></a><span  class=\"hlup\" >כִּֽי־</span><span  class=\"hl hlup\" >אִתְּךָ֥ </span><span  class=\"hl hlup\" >אֲנִ֛י </span>נְאֻם־יְהוָ֖ה לְהֹֽושִׁיעֶ֑ךָ כִּי֩ אֶעֱשֶׂ֨ה כָלָ֜ה בְּכָֽל־הַגֹּויִ֣ם׀ אֲשֶׁ֧ר הֲפִצֹותִ֣יךָ שָּׁ֗ם אַ֤ךְ אֹֽתְךָ֙ לֹֽא־אֶעֱשֶׂ֣ה כָלָ֔ה וְיִסַּרְתִּ֨יךָ֙ לַמִּשְׁפָּ֔ט וְנַקֵּ֖ה לֹ֥א אֲנַקֶּֽךָּ׃ פ </span></td><td class=\"tf\"><span class=\"hb\"><span  class=\"hl hlup\" >אִתְּךָ֥ </span></span></td><td class=\"tf\"><span class=\"hb\"><span  class=\"hl hlup\" >אֲנִ֛י </span></span></td><td class=\"tf\"><span class=\"hb\"><span  class=\"hlup\" >כִּֽי־</span><span  class=\"hl hlup\" >אִתְּךָ֥ </span><span  class=\"hl hlup\" >אֲנִ֛י </span></span></td><td class=\"tf\"><span class=\"hb\"><span  class=\"hl hlup\" >אִתְּךָ֥ </span></span></td><td class=\"tf\"><span class=\"hb\"><span  class=\"hl hlup\" >אֲנִ֛י </span></span></td></tr>\n",
       "<tr class=\"tf\"><td class=\"tf\">11</td><td class=\"tf\"> <a href=\"https://shebanq.ancient-data.org/hebrew/text?book=Jeremia&amp;chapter=42&amp;verse=11&amp;version=c&amp;mr=m&amp;qw=q&amp;tp=txt_p&amp;tr=hb&amp;wget=v&amp;qget=v&amp;nget=vt\" title=\"show this passage in SHEBANQ\" sec=\"Jeremiah 42:11\">Jeremiah 42:11</a></td><td class=\"tf\"><span class=\"hb\"><a class=\"vn\" href=\"https://shebanq.ancient-data.org/hebrew/text?book=Jeremia&amp;chapter=42&amp;verse=11&amp;version=c&amp;mr=m&amp;qw=q&amp;tp=txt_p&amp;tr=hb&amp;wget=v&amp;qget=v&amp;nget=vt\" title=\"Jeremiah 42:11\" sec=\"Jeremiah 42:11\"></a>אַל־תִּֽירְא֗וּ מִפְּנֵי֙ מֶ֣לֶךְ בָּבֶ֔ל אֲשֶׁר־אַתֶּ֥ם יְרֵאִ֖ים מִפָּנָ֑יו אַל־תִּֽירְא֤וּ מִמֶּ֨נּוּ֙ נְאֻם־יְהוָ֔ה <span  class=\"hlup\" >כִּֽי־</span><span  class=\"hl hlup\" >אִתְּכֶ֣ם </span><span  class=\"hl hlup\" >אָ֔נִי </span>לְהֹושִׁ֧יעַ אֶתְכֶ֛ם וּלְהַצִּ֥יל אֶתְכֶ֖ם מִיָּדֹֽו׃ </span></td><td class=\"tf\"><span class=\"hb\"><span  class=\"hl hlup\" >אִתְּכֶ֣ם </span></span></td><td class=\"tf\"><span class=\"hb\"><span  class=\"hl hlup\" >אָ֔נִי </span></span></td><td class=\"tf\"><span class=\"hb\"><span  class=\"hlup\" >כִּֽי־</span><span  class=\"hl hlup\" >אִתְּכֶ֣ם </span><span  class=\"hl hlup\" >אָ֔נִי </span></span></td><td class=\"tf\"><span class=\"hb\"><span  class=\"hl hlup\" >אִתְּכֶ֣ם </span></span></td><td class=\"tf\"><span class=\"hb\"><span  class=\"hl hlup\" >אָ֔נִי </span></span></td></tr>\n",
       "<tr class=\"tf\"><td class=\"tf\">12</td><td class=\"tf\"> <a href=\"https://shebanq.ancient-data.org/hebrew/text?book=Jeremia&amp;chapter=46&amp;verse=28&amp;version=c&amp;mr=m&amp;qw=q&amp;tp=txt_p&amp;tr=hb&amp;wget=v&amp;qget=v&amp;nget=vt\" title=\"show this passage in SHEBANQ\" sec=\"Jeremiah 46:28\">Jeremiah 46:28</a></td><td class=\"tf\"><span class=\"hb\"><a class=\"vn\" href=\"https://shebanq.ancient-data.org/hebrew/text?book=Jeremia&amp;chapter=46&amp;verse=28&amp;version=c&amp;mr=m&amp;qw=q&amp;tp=txt_p&amp;tr=hb&amp;wget=v&amp;qget=v&amp;nget=vt\" title=\"Jeremiah 46:28\" sec=\"Jeremiah 46:28\"></a>אַ֠תָּה אַל־תִּירָ֞א עַבְדִּ֤י יַֽעֲקֹב֙ נְאֻם־יְהוָ֔ה <span  class=\"hlup\" >כִּ֥י </span><span  class=\"hl hlup\" >אִתְּךָ֖ </span><span  class=\"hl hlup\" >אָ֑נִי </span>כִּי֩ אֶעֱשֶׂ֨ה כָלָ֜ה בְּכָֽל־הַגֹּויִ֣ם׀ אֲשֶׁ֧ר הִדַּחְתִּ֣יךָ שָׁ֗מָּה וְאֹֽתְךָ֙ לֹא־אֶעֱשֶׂ֣ה כָלָ֔ה וְיִסַּרְתִּ֨יךָ֙ לַמִּשְׁפָּ֔ט וְנַקֵּ֖ה לֹ֥א אֲנַקֶּֽךָּ׃ ס </span></td><td class=\"tf\"><span class=\"hb\"><span  class=\"hl hlup\" >אִתְּךָ֖ </span></span></td><td class=\"tf\"><span class=\"hb\"><span  class=\"hl hlup\" >אָ֑נִי </span></span></td><td class=\"tf\"><span class=\"hb\"><span  class=\"hl hlup\" >אִתְּךָ֖ </span></span></td><td class=\"tf\"><span class=\"hb\"><span  class=\"hl hlup\" >אָ֑נִי </span></span></td><td class=\"tf\"><span class=\"hb\"><span  class=\"hlup\" >כִּ֥י </span><span  class=\"hl hlup\" >אִתְּךָ֖ </span><span  class=\"hl hlup\" >אָ֑נִי </span></span></td></tr>\n",
       "<tr class=\"tf\"><td class=\"tf\">13</td><td class=\"tf\"> <a href=\"https://shebanq.ancient-data.org/hebrew/text?book=Ezechiel&amp;chapter=34&amp;verse=30&amp;version=c&amp;mr=m&amp;qw=q&amp;tp=txt_p&amp;tr=hb&amp;wget=v&amp;qget=v&amp;nget=vt\" title=\"show this passage in SHEBANQ\" sec=\"Ezekiel 34:30\">Ezekiel 34:30</a></td><td class=\"tf\"><span class=\"hb\"><a class=\"vn\" href=\"https://shebanq.ancient-data.org/hebrew/text?book=Ezechiel&amp;chapter=34&amp;verse=30&amp;version=c&amp;mr=m&amp;qw=q&amp;tp=txt_p&amp;tr=hb&amp;wget=v&amp;qget=v&amp;nget=vt\" title=\"Ezekiel 34:30\" sec=\"Ezekiel 34:30\"></a>וְיָדְע֗וּ <span  class=\"hlup\" >כִּ֣י </span><span  class=\"hl hlup\" >אֲנִ֧י </span><span  class=\"hlup\" >יְהוָ֛ה </span><span  class=\"hlup\" >אֱלֹהֵיהֶ֖ם </span><span  class=\"hl hlup\" >אִתָּ֑ם </span>וְהֵ֗מָּה עַמִּי֙ בֵּ֣ית יִשְׂרָאֵ֔ל נְאֻ֖ם אֲדֹנָ֥י יְהוִֽה׃ </span></td><td class=\"tf\"><span class=\"hb\"><span  class=\"hl hlup\" >אֲנִ֧י </span></span></td><td class=\"tf\"><span class=\"hb\"><span  class=\"hl hlup\" >אִתָּ֑ם </span></span></td><td class=\"tf\"><span class=\"hb\"><span  class=\"hl hlup\" >אֲנִ֧י </span><span  class=\"hlup\" >יְהוָ֛ה </span><span  class=\"hlup\" >אֱלֹהֵיהֶ֖ם </span></span></td><td class=\"tf\"><span class=\"hb\"><span  class=\"hl hlup\" >אִתָּ֑ם </span></span></td><td class=\"tf\"><span class=\"hb\"><span  class=\"hlup\" >כִּ֣י </span><span  class=\"hl hlup\" >אֲנִ֧י </span><span  class=\"hlup\" >יְהוָ֛ה </span><span  class=\"hlup\" >אֱלֹהֵיהֶ֖ם </span><span  class=\"hl hlup\" >אִתָּ֑ם </span></span></td></tr>\n",
       "<tr class=\"tf\"><td class=\"tf\">14</td><td class=\"tf\"> <a href=\"https://shebanq.ancient-data.org/hebrew/text?book=Haggai&amp;chapter=1&amp;verse=13&amp;version=c&amp;mr=m&amp;qw=q&amp;tp=txt_p&amp;tr=hb&amp;wget=v&amp;qget=v&amp;nget=vt\" title=\"show this passage in SHEBANQ\" sec=\"Haggai 1:13\">Haggai 1:13</a></td><td class=\"tf\"><span class=\"hb\"><a class=\"vn\" href=\"https://shebanq.ancient-data.org/hebrew/text?book=Haggai&amp;chapter=1&amp;verse=13&amp;version=c&amp;mr=m&amp;qw=q&amp;tp=txt_p&amp;tr=hb&amp;wget=v&amp;qget=v&amp;nget=vt\" title=\"Haggai 1:13\" sec=\"Haggai 1:13\"></a>וַ֠יֹּאמֶר חַגַּ֞י מַלְאַ֧ךְ יְהוָ֛ה בְּמַלְאֲכ֥וּת יְהוָ֖ה לָעָ֣ם לֵאמֹ֑ר <span  class=\"hl hlup\" >אֲנִ֥י </span><span  class=\"hl hlup\" >אִתְּכֶ֖ם </span>נְאֻם־יְהוָֽה׃ </span></td><td class=\"tf\"><span class=\"hb\"><span  class=\"hl hlup\" >אֲנִ֥י </span></span></td><td class=\"tf\"><span class=\"hb\"><span  class=\"hl hlup\" >אִתְּכֶ֖ם </span></span></td><td class=\"tf\"><span class=\"hb\"><span  class=\"hl hlup\" >אֲנִ֥י </span><span  class=\"hl hlup\" >אִתְּכֶ֖ם </span></span></td><td class=\"tf\"><span class=\"hb\"><span  class=\"hl hlup\" >אֲנִ֥י </span></span></td><td class=\"tf\"><span class=\"hb\"><span  class=\"hl hlup\" >אִתְּכֶ֖ם </span></span></td></tr>\n",
       "<tr class=\"tf\"><td class=\"tf\">15</td><td class=\"tf\"> <a href=\"https://shebanq.ancient-data.org/hebrew/text?book=Haggai&amp;chapter=2&amp;verse=4&amp;version=c&amp;mr=m&amp;qw=q&amp;tp=txt_p&amp;tr=hb&amp;wget=v&amp;qget=v&amp;nget=vt\" title=\"show this passage in SHEBANQ\" sec=\"Haggai 2:4\">Haggai 2:4</a></td><td class=\"tf\"><span class=\"hb\"><a class=\"vn\" href=\"https://shebanq.ancient-data.org/hebrew/text?book=Haggai&amp;chapter=2&amp;verse=4&amp;version=c&amp;mr=m&amp;qw=q&amp;tp=txt_p&amp;tr=hb&amp;wget=v&amp;qget=v&amp;nget=vt\" title=\"Haggai 2:4\" sec=\"Haggai 2:4\"></a>וְעַתָּ֣ה חֲזַ֣ק זְרֻבָּבֶ֣ל׀ נְאֻם־יְהוָ֡ה וַחֲזַ֣ק יְהֹושֻׁ֣עַ בֶּן־יְהֹוצָדָק֩ הַכֹּהֵ֨ן הַגָּדֹ֜ול וַחֲזַ֨ק כָּל־עַ֥ם הָאָ֛רֶץ נְאֻם־יְהוָ֖ה וַֽעֲשׂ֑וּ <span  class=\"hlup\" >כִּֽי־</span><span  class=\"hl hlup\" >אֲנִ֣י </span><span  class=\"hl hlup\" >אִתְּכֶ֔ם </span>נְאֻ֖ם יְהוָ֥ה צְבָאֹֽות׃ </span></td><td class=\"tf\"><span class=\"hb\"><span  class=\"hl hlup\" >אֲנִ֣י </span></span></td><td class=\"tf\"><span class=\"hb\"><span  class=\"hl hlup\" >אִתְּכֶ֔ם </span></span></td><td class=\"tf\"><span class=\"hb\"><span  class=\"hl hlup\" >אֲנִ֣י </span></span></td><td class=\"tf\"><span class=\"hb\"><span  class=\"hl hlup\" >אִתְּכֶ֔ם </span></span></td><td class=\"tf\"><span class=\"hb\"><span  class=\"hlup\" >כִּֽי־</span><span  class=\"hl hlup\" >אֲנִ֣י </span><span  class=\"hl hlup\" >אִתְּכֶ֔ם </span></span></td></tr>\n",
       "<tr class=\"tf\"><td class=\"tf\">16</td><td class=\"tf\"> <a href=\"https://shebanq.ancient-data.org/hebrew/text?book=Psalmi&amp;chapter=73&amp;verse=23&amp;version=c&amp;mr=m&amp;qw=q&amp;tp=txt_p&amp;tr=hb&amp;wget=v&amp;qget=v&amp;nget=vt\" title=\"show this passage in SHEBANQ\" sec=\"Psalms 73:23\">Psalms 73:23</a></td><td class=\"tf\"><span class=\"hb\"><a class=\"vn\" href=\"https://shebanq.ancient-data.org/hebrew/text?book=Psalmi&amp;chapter=73&amp;verse=23&amp;version=c&amp;mr=m&amp;qw=q&amp;tp=txt_p&amp;tr=hb&amp;wget=v&amp;qget=v&amp;nget=vt\" title=\"Psalms 73:23\" sec=\"Psalms 73:23\"></a><span  class=\"hlup\" >וַ</span><span  class=\"hl hlup\" >אֲנִ֣י </span><span  class=\"hlup\" >תָמִ֣יד </span><span  class=\"hl hlup\" >עִמָּ֑ךְ </span>אָ֝חַ֗זְתָּ בְּיַד־יְמִינִֽי׃ </span></td><td class=\"tf\"><span class=\"hb\"><span  class=\"hl hlup\" >אֲנִ֣י </span></span></td><td class=\"tf\"><span class=\"hb\"><span  class=\"hlup\" >וַ</span><span  class=\"hl hlup\" >אֲנִ֣י </span><span  class=\"hlup\" >תָמִ֣יד </span><span  class=\"hl hlup\" >עִמָּ֑ךְ </span></span></td><td class=\"tf\"><span class=\"hb\"><span  class=\"hl hlup\" >עִמָּ֑ךְ </span></span></td><td class=\"tf\"><span class=\"hb\"><span  class=\"hl hlup\" >אֲנִ֣י </span></span></td><td class=\"tf\"><span class=\"hb\"><span  class=\"hl hlup\" >עִמָּ֑ךְ </span></span></td></tr>\n",
       "<tr class=\"tf\"><td class=\"tf\">17</td><td class=\"tf\"> <a href=\"https://shebanq.ancient-data.org/hebrew/text?book=Psalmi&amp;chapter=91&amp;verse=15&amp;version=c&amp;mr=m&amp;qw=q&amp;tp=txt_p&amp;tr=hb&amp;wget=v&amp;qget=v&amp;nget=vt\" title=\"show this passage in SHEBANQ\" sec=\"Psalms 91:15\">Psalms 91:15</a></td><td class=\"tf\"><span class=\"hb\"><a class=\"vn\" href=\"https://shebanq.ancient-data.org/hebrew/text?book=Psalmi&amp;chapter=91&amp;verse=15&amp;version=c&amp;mr=m&amp;qw=q&amp;tp=txt_p&amp;tr=hb&amp;wget=v&amp;qget=v&amp;nget=vt\" title=\"Psalms 91:15\" sec=\"Psalms 91:15\"></a>יִקְרָאֵ֨נִי׀ וְֽאֶעֱנֵ֗הוּ <span  class=\"hl hlup\" >עִמֹּֽו־</span><span  class=\"hl hlup\" >אָנֹכִ֥י </span><span  class=\"hlup\" >בְ</span><span  class=\"hlup\" >צָרָ֑ה </span>אֲ֝חַלְּצֵ֗הוּ וַֽאֲכַבְּדֵֽהוּ׃ </span></td><td class=\"tf\"><span class=\"hb\"><span  class=\"hl hlup\" >עִמֹּֽו־</span><span  class=\"hl hlup\" >אָנֹכִ֥י </span><span  class=\"hlup\" >בְ</span><span  class=\"hlup\" >צָרָ֑ה </span></span></td><td class=\"tf\"><span class=\"hb\"><span  class=\"hl hlup\" >עִמֹּֽו־</span></span></td><td class=\"tf\"><span class=\"hb\"><span  class=\"hl hlup\" >אָנֹכִ֥י </span></span></td><td class=\"tf\"><span class=\"hb\"><span  class=\"hl hlup\" >עִמֹּֽו־</span></span></td><td class=\"tf\"><span class=\"hb\"><span  class=\"hl hlup\" >אָנֹכִ֥י </span></span></td></tr>\n",
       "<tr class=\"tf\"><td class=\"tf\">18</td><td class=\"tf\"> <a href=\"https://shebanq.ancient-data.org/hebrew/text?book=Chronica_I&amp;chapter=28&amp;verse=2&amp;version=c&amp;mr=m&amp;qw=q&amp;tp=txt_p&amp;tr=hb&amp;wget=v&amp;qget=v&amp;nget=vt\" title=\"show this passage in SHEBANQ\" sec=\"1_Chronicles 28:2\">1_Chronicles 28:2</a></td><td class=\"tf\"><span class=\"hb\"><a class=\"vn\" href=\"https://shebanq.ancient-data.org/hebrew/text?book=Chronica_I&amp;chapter=28&amp;verse=2&amp;version=c&amp;mr=m&amp;qw=q&amp;tp=txt_p&amp;tr=hb&amp;wget=v&amp;qget=v&amp;nget=vt\" title=\"1_Chronicles 28:2\" sec=\"1_Chronicles 28:2\"></a>וַיָּ֨קָם דָּוִ֤יד הַמֶּ֨לֶךְ֙ עַל־רַגְלָ֔יו וַיֹּ֕אמֶר שְׁמָע֖וּנִי אַחַ֣י וְעַמִּ֑י <span  class=\"hl hlup\" >אֲנִ֣י </span><span  class=\"hl hlup\" >עִם־</span><span  class=\"hlup\" >לְבָבִ֡י </span>לִבְנֹות֩ בֵּ֨ית מְנוּחָ֜ה לַאֲרֹ֣ון בְּרִית־יְהוָ֗ה וְלַהֲדֹם֙ רַגְלֵ֣י אֱלֹהֵ֔ינוּ וַהֲכִינֹ֖ותִי לִבְנֹֽות׃ </span></td><td class=\"tf\"><span class=\"hb\"><span  class=\"hl hlup\" >אֲנִ֣י </span><span  class=\"hl hlup\" >עִם־</span><span  class=\"hlup\" >לְבָבִ֡י </span></span></td><td class=\"tf\"><span class=\"hb\"><span  class=\"hl hlup\" >אֲנִ֣י </span></span></td><td class=\"tf\"><span class=\"hb\"><span  class=\"hl hlup\" >עִם־</span><span  class=\"hlup\" >לְבָבִ֡י </span></span></td><td class=\"tf\"><span class=\"hb\"><span  class=\"hl hlup\" >אֲנִ֣י </span></span></td><td class=\"tf\"><span class=\"hb\"><span  class=\"hl hlup\" >עִם־</span></span></td></tr></table>"
      ],
      "text/plain": [
       "<IPython.core.display.HTML object>"
      ]
     },
     "metadata": {},
     "output_type": "display_data"
    }
   ],
   "source": [
    "withYou1='''\n",
    "clause typ=NmCl\n",
    "    phrase function=PreC\n",
    "        word lex=>T==|<M\n",
    "    phrase function=Subj\n",
    "        word lex=>NKJ|>NJ\n",
    "    \n",
    "'''\n",
    "withYou1  = A.search(withYou1)\n",
    "A.table(withYou1, start=1, end=20, condensed=True)"
   ]
  },
  {
   "cell_type": "code",
   "execution_count": 18,
   "metadata": {},
   "outputs": [
    {
     "name": "stdout",
     "output_type": "stream",
     "text": [
      "  2.60s 24 results\n"
     ]
    },
    {
     "data": {
      "text/html": [
       "<table>\n",
       "<tr class=\"tf\">\n",
       "  <th class=\"tf\">n</th><th class=\"tf\">p</th>\n",
       "  <th class=\"tf\">verse</th><th>word</th>\n",
       "</tr>\n",
       "\n",
       "<tr class=\"tf\"><td class=\"tf\">1</td><td class=\"tf\"> <a href=\"https://shebanq.ancient-data.org/hebrew/text?book=Genesis&amp;chapter=26&amp;verse=7&amp;version=c&amp;mr=m&amp;qw=q&amp;tp=txt_p&amp;tr=hb&amp;wget=v&amp;qget=v&amp;nget=vt\" title=\"show this passage in SHEBANQ\" sec=\"Genesis 26:7\">Genesis 26:7</a></td><td class=\"tf\"><span class=\"hb\"><a class=\"vn\" href=\"https://shebanq.ancient-data.org/hebrew/text?book=Genesis&amp;chapter=26&amp;verse=7&amp;version=c&amp;mr=m&amp;qw=q&amp;tp=txt_p&amp;tr=hb&amp;wget=v&amp;qget=v&amp;nget=vt\" title=\"Genesis 26:7\" sec=\"Genesis 26:7\"></a>וַֽיִּשְׁאֲל֞וּ אַנְשֵׁ֤י הַמָּקֹום֙ לְאִשְׁתֹּ֔ו וַיֹּ֖אמֶר אֲחֹ֣תִי הִ֑וא כִּ֤י <span  class=\"hl\" >יָרֵא֙ </span>לֵאמֹ֣ר אִשְׁתִּ֔י פֶּן־יַֽהַרְגֻ֜נִי אַנְשֵׁ֤י הַמָּקֹום֙ עַל־רִבְקָ֔ה כִּֽי־טֹובַ֥ת מַרְאֶ֖ה הִֽיא׃ </span></td><td class=\"tf\"><span class=\"hb\"><span  class=\"hl\" >יָרֵא֙ </span></span></td></tr>\n",
       "<tr class=\"tf\"><td class=\"tf\">2</td><td class=\"tf\"> <a href=\"https://shebanq.ancient-data.org/hebrew/text?book=Genesis&amp;chapter=26&amp;verse=24&amp;version=c&amp;mr=m&amp;qw=q&amp;tp=txt_p&amp;tr=hb&amp;wget=v&amp;qget=v&amp;nget=vt\" title=\"show this passage in SHEBANQ\" sec=\"Genesis 26:24\">Genesis 26:24</a></td><td class=\"tf\"><span class=\"hb\"><a class=\"vn\" href=\"https://shebanq.ancient-data.org/hebrew/text?book=Genesis&amp;chapter=26&amp;verse=24&amp;version=c&amp;mr=m&amp;qw=q&amp;tp=txt_p&amp;tr=hb&amp;wget=v&amp;qget=v&amp;nget=vt\" title=\"Genesis 26:24\" sec=\"Genesis 26:24\"></a>וַיֵּרָ֨א אֵלָ֤יו יְהוָה֙ בַּלַּ֣יְלָה הַה֔וּא וַיֹּ֕אמֶר אָנֹכִ֕י אֱלֹהֵ֖י אַבְרָהָ֣ם אָבִ֑יךָ אַל־<span  class=\"hl\" >תִּירָא֙ </span><span  class=\"hlup\" >כִּֽי־</span><span  class=\"hl hlup\" >אִתְּךָ֣ </span><span  class=\"hl hlup\" >אָנֹ֔כִי </span>וּבֵֽרַכְתִּ֨יךָ֙ וְהִרְבֵּיתִ֣י אֶֽת־זַרְעֲךָ֔ בַּעֲב֖וּר אַבְרָהָ֥ם עַבְדִּֽי׃ </span></td><td class=\"tf\"><span class=\"hb\"><span  class=\"hl hlup\" >אָנֹ֔כִי </span></span></td><td class=\"tf\"><span class=\"hb\"><span  class=\"hl hlup\" >אִתְּךָ֣ </span></span></td><td class=\"tf\"><span class=\"hb\"><span  class=\"hl\" >תִּירָא֙ </span></span></td><td class=\"tf\"><span class=\"hb\"><span  class=\"hlup\" >כִּֽי־</span><span  class=\"hl hlup\" >אִתְּךָ֣ </span><span  class=\"hl hlup\" >אָנֹ֔כִי </span></span></td><td class=\"tf\"><span class=\"hb\"><span  class=\"hl hlup\" >אָנֹ֔כִי </span></span></td><td class=\"tf\"><span class=\"hb\"><span  class=\"hl hlup\" >אִתְּךָ֣ </span></span></td></tr>\n",
       "<tr class=\"tf\"><td class=\"tf\">3</td><td class=\"tf\"> <a href=\"https://shebanq.ancient-data.org/hebrew/text?book=Genesis&amp;chapter=28&amp;verse=15&amp;version=c&amp;mr=m&amp;qw=q&amp;tp=txt_p&amp;tr=hb&amp;wget=v&amp;qget=v&amp;nget=vt\" title=\"show this passage in SHEBANQ\" sec=\"Genesis 28:15\">Genesis 28:15</a></td><td class=\"tf\"><span class=\"hb\"><a class=\"vn\" href=\"https://shebanq.ancient-data.org/hebrew/text?book=Genesis&amp;chapter=28&amp;verse=15&amp;version=c&amp;mr=m&amp;qw=q&amp;tp=txt_p&amp;tr=hb&amp;wget=v&amp;qget=v&amp;nget=vt\" title=\"Genesis 28:15\" sec=\"Genesis 28:15\"></a><span  class=\"hlup\" >וְ</span><span  class=\"hlup\" >הִנֵּ֨ה </span><span  class=\"hl hlup\" >אָנֹכִ֜י </span><span  class=\"hl hlup\" >עִמָּ֗ךְ </span>וּשְׁמַרְתִּ֨יךָ֙ בְּכֹ֣ל אֲשֶׁר־תֵּלֵ֔ךְ וַהֲשִׁ֣בֹתִ֔יךָ אֶל־הָאֲדָמָ֖ה הַזֹּ֑את כִּ֚י לֹ֣א אֶֽעֱזָבְךָ֔ עַ֚ד אֲשֶׁ֣ר אִם־עָשִׂ֔יתִי אֵ֥ת אֲשֶׁר־דִּבַּ֖רְתִּי לָֽךְ׃ </span></td><td class=\"tf\"><span class=\"hb\"><span  class=\"hlup\" >וְ</span><span  class=\"hlup\" >הִנֵּ֨ה </span><span  class=\"hl hlup\" >אָנֹכִ֜י </span><span  class=\"hl hlup\" >עִמָּ֗ךְ </span></span></td><td class=\"tf\"><span class=\"hb\"><span  class=\"hl hlup\" >אָנֹכִ֜י </span></span></td><td class=\"tf\"><span class=\"hb\"><span  class=\"hl hlup\" >עִמָּ֗ךְ </span></span></td><td class=\"tf\"><span class=\"hb\"><span  class=\"hl hlup\" >אָנֹכִ֜י </span></span></td><td class=\"tf\"><span class=\"hb\"><span  class=\"hl hlup\" >עִמָּ֗ךְ </span></span></td></tr>\n",
       "<tr class=\"tf\"><td class=\"tf\">4</td><td class=\"tf\"> <a href=\"https://shebanq.ancient-data.org/hebrew/text?book=Genesis&amp;chapter=28&amp;verse=17&amp;version=c&amp;mr=m&amp;qw=q&amp;tp=txt_p&amp;tr=hb&amp;wget=v&amp;qget=v&amp;nget=vt\" title=\"show this passage in SHEBANQ\" sec=\"Genesis 28:17\">Genesis 28:17</a></td><td class=\"tf\"><span class=\"hb\"><a class=\"vn\" href=\"https://shebanq.ancient-data.org/hebrew/text?book=Genesis&amp;chapter=28&amp;verse=17&amp;version=c&amp;mr=m&amp;qw=q&amp;tp=txt_p&amp;tr=hb&amp;wget=v&amp;qget=v&amp;nget=vt\" title=\"Genesis 28:17\" sec=\"Genesis 28:17\"></a>וַ<span  class=\"hl\" >יִּירָא֙ </span>וַיֹּאמַ֔ר מַה־<span  class=\"hl\" >נֹּורָ֖א </span>הַמָּקֹ֣ום הַזֶּ֑ה אֵ֣ין זֶ֗ה כִּ֚י אִם־בֵּ֣ית אֱלֹהִ֔ים וְזֶ֖ה שַׁ֥עַר הַשָּׁמָֽיִם׃ </span></td><td class=\"tf\"><span class=\"hb\"><span  class=\"hl\" >יִּירָא֙ </span></span></td><td class=\"tf\"><span class=\"hb\"><span  class=\"hl\" >נֹּורָ֖א </span></span></td></tr>\n",
       "<tr class=\"tf\"><td class=\"tf\">5</td><td class=\"tf\"> <a href=\"https://shebanq.ancient-data.org/hebrew/text?book=Genesis&amp;chapter=31&amp;verse=31&amp;version=c&amp;mr=m&amp;qw=q&amp;tp=txt_p&amp;tr=hb&amp;wget=v&amp;qget=v&amp;nget=vt\" title=\"show this passage in SHEBANQ\" sec=\"Genesis 31:31\">Genesis 31:31</a></td><td class=\"tf\"><span class=\"hb\"><a class=\"vn\" href=\"https://shebanq.ancient-data.org/hebrew/text?book=Genesis&amp;chapter=31&amp;verse=31&amp;version=c&amp;mr=m&amp;qw=q&amp;tp=txt_p&amp;tr=hb&amp;wget=v&amp;qget=v&amp;nget=vt\" title=\"Genesis 31:31\" sec=\"Genesis 31:31\"></a>וַיַּ֥עַן יַעֲקֹ֖ב וַיֹּ֣אמֶר לְלָבָ֑ן כִּ֣י <span  class=\"hl\" >יָרֵ֔אתִי </span>כִּ֣י אָמַ֔רְתִּי פֶּן־תִּגְזֹ֥ל אֶת־בְּנֹותֶ֖יךָ מֵעִמִּֽי׃ </span></td><td class=\"tf\"><span class=\"hb\"><span  class=\"hl\" >יָרֵ֔אתִי </span></span></td></tr>\n",
       "<tr class=\"tf\"><td class=\"tf\">6</td><td class=\"tf\"> <a href=\"https://shebanq.ancient-data.org/hebrew/text?book=Genesis&amp;chapter=31&amp;verse=38&amp;version=c&amp;mr=m&amp;qw=q&amp;tp=txt_p&amp;tr=hb&amp;wget=v&amp;qget=v&amp;nget=vt\" title=\"show this passage in SHEBANQ\" sec=\"Genesis 31:38\">Genesis 31:38</a></td><td class=\"tf\"><span class=\"hb\"><a class=\"vn\" href=\"https://shebanq.ancient-data.org/hebrew/text?book=Genesis&amp;chapter=31&amp;verse=38&amp;version=c&amp;mr=m&amp;qw=q&amp;tp=txt_p&amp;tr=hb&amp;wget=v&amp;qget=v&amp;nget=vt\" title=\"Genesis 31:38\" sec=\"Genesis 31:38\"></a><span  class=\"hlup\" >זֶה֩ </span><span  class=\"hlup\" >עֶשְׂרִ֨ים </span><span  class=\"hlup\" >שָׁנָ֤ה </span><span  class=\"hl hlup\" >אָנֹכִי֙ </span><span  class=\"hl hlup\" >עִמָּ֔ךְ </span>רְחֵלֶ֥יךָ וְעִזֶּ֖יךָ לֹ֣א שִׁכֵּ֑לוּ וְאֵילֵ֥י צֹאנְךָ֖ לֹ֥א אָכָֽלְתִּי׃ </span></td><td class=\"tf\"><span class=\"hb\"><span  class=\"hlup\" >זֶה֩ </span><span  class=\"hlup\" >עֶשְׂרִ֨ים </span><span  class=\"hlup\" >שָׁנָ֤ה </span><span  class=\"hl hlup\" >אָנֹכִי֙ </span><span  class=\"hl hlup\" >עִמָּ֔ךְ </span></span></td><td class=\"tf\"><span class=\"hb\"><span  class=\"hl hlup\" >אָנֹכִי֙ </span></span></td><td class=\"tf\"><span class=\"hb\"><span  class=\"hl hlup\" >עִמָּ֔ךְ </span></span></td><td class=\"tf\"><span class=\"hb\"><span  class=\"hl hlup\" >אָנֹכִי֙ </span></span></td><td class=\"tf\"><span class=\"hb\"><span  class=\"hl hlup\" >עִמָּ֔ךְ </span></span></td></tr>\n",
       "<tr class=\"tf\"><td class=\"tf\">7</td><td class=\"tf\"> <a href=\"https://shebanq.ancient-data.org/hebrew/text?book=Jesaia&amp;chapter=41&amp;verse=5&amp;version=c&amp;mr=m&amp;qw=q&amp;tp=txt_p&amp;tr=hb&amp;wget=v&amp;qget=v&amp;nget=vt\" title=\"show this passage in SHEBANQ\" sec=\"Isaiah 41:5\">Isaiah 41:5</a></td><td class=\"tf\"><span class=\"hb\"><a class=\"vn\" href=\"https://shebanq.ancient-data.org/hebrew/text?book=Jesaia&amp;chapter=41&amp;verse=5&amp;version=c&amp;mr=m&amp;qw=q&amp;tp=txt_p&amp;tr=hb&amp;wget=v&amp;qget=v&amp;nget=vt\" title=\"Isaiah 41:5\" sec=\"Isaiah 41:5\"></a>רָא֤וּ אִיִּים֙ וְ<span  class=\"hl\" >יִירָ֔אוּ </span>קְצֹ֥ות הָאָ֖רֶץ יֶחֱרָ֑דוּ קָרְב֖וּ וַיֶּאֱתָיֽוּן׃ </span></td><td class=\"tf\"><span class=\"hb\"><span  class=\"hl\" >יִירָ֔אוּ </span></span></td></tr>\n",
       "<tr class=\"tf\"><td class=\"tf\">8</td><td class=\"tf\"> <a href=\"https://shebanq.ancient-data.org/hebrew/text?book=Jesaia&amp;chapter=41&amp;verse=10&amp;version=c&amp;mr=m&amp;qw=q&amp;tp=txt_p&amp;tr=hb&amp;wget=v&amp;qget=v&amp;nget=vt\" title=\"show this passage in SHEBANQ\" sec=\"Isaiah 41:10\">Isaiah 41:10</a></td><td class=\"tf\"><span class=\"hb\"><a class=\"vn\" href=\"https://shebanq.ancient-data.org/hebrew/text?book=Jesaia&amp;chapter=41&amp;verse=10&amp;version=c&amp;mr=m&amp;qw=q&amp;tp=txt_p&amp;tr=hb&amp;wget=v&amp;qget=v&amp;nget=vt\" title=\"Isaiah 41:10\" sec=\"Isaiah 41:10\"></a>אַל־<span  class=\"hl\" >תִּירָא֙ </span><span  class=\"hlup\" >כִּ֣י </span><span  class=\"hl hlup\" >עִמְּךָ־</span><span  class=\"hl hlup\" >אָ֔נִי </span>אַל־תִּשְׁתָּ֖ע כִּֽי־אֲנִ֣י אֱלֹהֶ֑יךָ אִמַּצְתִּ֨יךָ֙ אַף־עֲזַרְתִּ֔יךָ אַף־תְּמַכְתִּ֖יךָ בִּימִ֥ין צִדְקִֽי׃ </span></td><td class=\"tf\"><span class=\"hb\"><span  class=\"hlup\" >כִּ֣י </span><span  class=\"hl hlup\" >עִמְּךָ־</span><span  class=\"hl hlup\" >אָ֔נִי </span></span></td><td class=\"tf\"><span class=\"hb\"><span  class=\"hl\" >תִּירָא֙ </span></span></td><td class=\"tf\"><span class=\"hb\"><span  class=\"hl hlup\" >עִמְּךָ־</span></span></td><td class=\"tf\"><span class=\"hb\"><span  class=\"hl hlup\" >אָ֔נִי </span></span></td><td class=\"tf\"><span class=\"hb\"><span  class=\"hl hlup\" >עִמְּךָ־</span></span></td><td class=\"tf\"><span class=\"hb\"><span  class=\"hl hlup\" >אָ֔נִי </span></span></td></tr>\n",
       "<tr class=\"tf\"><td class=\"tf\">9</td><td class=\"tf\"> <a href=\"https://shebanq.ancient-data.org/hebrew/text?book=Jesaia&amp;chapter=41&amp;verse=13&amp;version=c&amp;mr=m&amp;qw=q&amp;tp=txt_p&amp;tr=hb&amp;wget=v&amp;qget=v&amp;nget=vt\" title=\"show this passage in SHEBANQ\" sec=\"Isaiah 41:13\">Isaiah 41:13</a></td><td class=\"tf\"><span class=\"hb\"><a class=\"vn\" href=\"https://shebanq.ancient-data.org/hebrew/text?book=Jesaia&amp;chapter=41&amp;verse=13&amp;version=c&amp;mr=m&amp;qw=q&amp;tp=txt_p&amp;tr=hb&amp;wget=v&amp;qget=v&amp;nget=vt\" title=\"Isaiah 41:13\" sec=\"Isaiah 41:13\"></a>כִּ֗י אֲנִ֛י יְהוָ֥ה אֱלֹהֶ֖יךָ מַחֲזִ֣יק יְמִינֶ֑ךָ הָאֹמֵ֥ר לְךָ֛ אַל־<span  class=\"hl\" >תִּירָ֖א </span>אֲנִ֥י עֲזַרְתִּֽיךָ׃ ס </span></td><td class=\"tf\"><span class=\"hb\"><span  class=\"hl\" >תִּירָ֖א </span></span></td></tr>\n",
       "<tr class=\"tf\"><td class=\"tf\">10</td><td class=\"tf\"> <a href=\"https://shebanq.ancient-data.org/hebrew/text?book=Jesaia&amp;chapter=41&amp;verse=14&amp;version=c&amp;mr=m&amp;qw=q&amp;tp=txt_p&amp;tr=hb&amp;wget=v&amp;qget=v&amp;nget=vt\" title=\"show this passage in SHEBANQ\" sec=\"Isaiah 41:14\">Isaiah 41:14</a></td><td class=\"tf\"><span class=\"hb\"><a class=\"vn\" href=\"https://shebanq.ancient-data.org/hebrew/text?book=Jesaia&amp;chapter=41&amp;verse=14&amp;version=c&amp;mr=m&amp;qw=q&amp;tp=txt_p&amp;tr=hb&amp;wget=v&amp;qget=v&amp;nget=vt\" title=\"Isaiah 41:14\" sec=\"Isaiah 41:14\"></a>אַל־<span  class=\"hl\" >תִּֽירְאִי֙ </span>תֹּולַ֣עַת יַֽעֲקֹ֔ב מְתֵ֖י יִשְׂרָאֵ֑ל אֲנִ֤י עֲזַרְתִּיךְ֙ נְאֻם־יְהוָ֔ה וְגֹאֲלֵ֖ךְ קְדֹ֥ושׁ יִשְׂרָאֵֽל׃ </span></td><td class=\"tf\"><span class=\"hb\"><span  class=\"hl\" >תִּֽירְאִי֙ </span></span></td></tr>\n",
       "<tr class=\"tf\"><td class=\"tf\">11</td><td class=\"tf\"> <a href=\"https://shebanq.ancient-data.org/hebrew/text?book=Jesaia&amp;chapter=43&amp;verse=1&amp;version=c&amp;mr=m&amp;qw=q&amp;tp=txt_p&amp;tr=hb&amp;wget=v&amp;qget=v&amp;nget=vt\" title=\"show this passage in SHEBANQ\" sec=\"Isaiah 43:1\">Isaiah 43:1</a></td><td class=\"tf\"><span class=\"hb\"><a class=\"vn\" href=\"https://shebanq.ancient-data.org/hebrew/text?book=Jesaia&amp;chapter=43&amp;verse=1&amp;version=c&amp;mr=m&amp;qw=q&amp;tp=txt_p&amp;tr=hb&amp;wget=v&amp;qget=v&amp;nget=vt\" title=\"Isaiah 43:1\" sec=\"Isaiah 43:1\"></a>וְעַתָּ֞ה כֹּֽה־אָמַ֤ר יְהוָה֙ בֹּרַאֲךָ֣ יַעֲקֹ֔ב וְיֹצֶרְךָ֖ יִשְׂרָאֵ֑ל אַל־<span  class=\"hl\" >תִּירָא֙ </span>כִּ֣י גְאַלְתִּ֔יךָ קָרָ֥אתִי בְשִׁמְךָ֖ לִי־אָֽתָּה׃ </span></td><td class=\"tf\"><span class=\"hb\"><span  class=\"hl\" >תִּירָא֙ </span></span></td></tr>\n",
       "<tr class=\"tf\"><td class=\"tf\">12</td><td class=\"tf\"> <a href=\"https://shebanq.ancient-data.org/hebrew/text?book=Jesaia&amp;chapter=43&amp;verse=2&amp;version=c&amp;mr=m&amp;qw=q&amp;tp=txt_p&amp;tr=hb&amp;wget=v&amp;qget=v&amp;nget=vt\" title=\"show this passage in SHEBANQ\" sec=\"Isaiah 43:2\">Isaiah 43:2</a></td><td class=\"tf\"><span class=\"hb\"><a class=\"vn\" href=\"https://shebanq.ancient-data.org/hebrew/text?book=Jesaia&amp;chapter=43&amp;verse=2&amp;version=c&amp;mr=m&amp;qw=q&amp;tp=txt_p&amp;tr=hb&amp;wget=v&amp;qget=v&amp;nget=vt\" title=\"Isaiah 43:2\" sec=\"Isaiah 43:2\"></a>כִּֽי־תַעֲבֹ֤ר בַּמַּ֨יִם֙ <span  class=\"hl hlup\" >אִתְּךָ־</span><span  class=\"hl hlup\" >אָ֔נִי </span>וּבַנְּהָרֹ֖ות לֹ֣א יִשְׁטְפ֑וּךָ כִּֽי־תֵלֵ֤ךְ בְּמֹו־אֵשׁ֙ לֹ֣א תִכָּוֶ֔ה וְלֶהָבָ֖ה לֹ֥א תִבְעַר־בָּֽךְ׃ </span></td><td class=\"tf\"><span class=\"hb\"><span  class=\"hl hlup\" >אִתְּךָ־</span></span></td><td class=\"tf\"><span class=\"hb\"><span  class=\"hl hlup\" >אָ֔נִי </span></span></td><td class=\"tf\"><span class=\"hb\"><span  class=\"hl hlup\" >אָ֔נִי </span></span></td><td class=\"tf\"><span class=\"hb\"><span  class=\"hl hlup\" >אִתְּךָ־</span></span></td><td class=\"tf\"><span class=\"hb\"><span  class=\"hl hlup\" >אִתְּךָ־</span><span  class=\"hl hlup\" >אָ֔נִי </span></span></td></tr>\n",
       "<tr class=\"tf\"><td class=\"tf\">13</td><td class=\"tf\"> <a href=\"https://shebanq.ancient-data.org/hebrew/text?book=Jesaia&amp;chapter=43&amp;verse=5&amp;version=c&amp;mr=m&amp;qw=q&amp;tp=txt_p&amp;tr=hb&amp;wget=v&amp;qget=v&amp;nget=vt\" title=\"show this passage in SHEBANQ\" sec=\"Isaiah 43:5\">Isaiah 43:5</a></td><td class=\"tf\"><span class=\"hb\"><a class=\"vn\" href=\"https://shebanq.ancient-data.org/hebrew/text?book=Jesaia&amp;chapter=43&amp;verse=5&amp;version=c&amp;mr=m&amp;qw=q&amp;tp=txt_p&amp;tr=hb&amp;wget=v&amp;qget=v&amp;nget=vt\" title=\"Isaiah 43:5\" sec=\"Isaiah 43:5\"></a>אַל־<span  class=\"hl\" >תִּירָ֖א </span><span  class=\"hlup\" >כִּ֣י </span><span  class=\"hl hlup\" >אִתְּךָ־</span><span  class=\"hl hlup\" >אָ֑נִי </span>מִמִּזְרָח֙ אָבִ֣יא זַרְעֶ֔ךָ וּמִֽמַּעֲרָ֖ב אֲקַבְּצֶֽךָּ׃ </span></td><td class=\"tf\"><span class=\"hb\"><span  class=\"hl\" >תִּירָ֖א </span></span></td><td class=\"tf\"><span class=\"hb\"><span  class=\"hl hlup\" >אִתְּךָ־</span></span></td><td class=\"tf\"><span class=\"hb\"><span  class=\"hl hlup\" >אָ֑נִי </span></span></td><td class=\"tf\"><span class=\"hb\"><span  class=\"hlup\" >כִּ֣י </span><span  class=\"hl hlup\" >אִתְּךָ־</span><span  class=\"hl hlup\" >אָ֑נִי </span></span></td><td class=\"tf\"><span class=\"hb\"><span  class=\"hl hlup\" >אִתְּךָ־</span></span></td><td class=\"tf\"><span class=\"hb\"><span  class=\"hl hlup\" >אָ֑נִי </span></span></td></tr>\n",
       "<tr class=\"tf\"><td class=\"tf\">14</td><td class=\"tf\"> <a href=\"https://shebanq.ancient-data.org/hebrew/text?book=Jeremia&amp;chapter=1&amp;verse=8&amp;version=c&amp;mr=m&amp;qw=q&amp;tp=txt_p&amp;tr=hb&amp;wget=v&amp;qget=v&amp;nget=vt\" title=\"show this passage in SHEBANQ\" sec=\"Jeremiah 1:8\">Jeremiah 1:8</a></td><td class=\"tf\"><span class=\"hb\"><a class=\"vn\" href=\"https://shebanq.ancient-data.org/hebrew/text?book=Jeremia&amp;chapter=1&amp;verse=8&amp;version=c&amp;mr=m&amp;qw=q&amp;tp=txt_p&amp;tr=hb&amp;wget=v&amp;qget=v&amp;nget=vt\" title=\"Jeremiah 1:8\" sec=\"Jeremiah 1:8\"></a>אַל־<span  class=\"hl\" >תִּירָ֖א </span>מִפְּנֵיהֶ֑ם <span  class=\"hlup\" >כִּֽי־</span><span  class=\"hl hlup\" >אִתְּךָ֥ </span><span  class=\"hl hlup\" >אֲנִ֛י </span>לְהַצִּלֶ֖ךָ נְאֻם־יְהוָֽה׃ </span></td><td class=\"tf\"><span class=\"hb\"><span  class=\"hlup\" >כִּֽי־</span><span  class=\"hl hlup\" >אִתְּךָ֥ </span><span  class=\"hl hlup\" >אֲנִ֛י </span></span></td><td class=\"tf\"><span class=\"hb\"><span  class=\"hl\" >תִּירָ֖א </span></span></td><td class=\"tf\"><span class=\"hb\"><span  class=\"hl hlup\" >אִתְּךָ֥ </span></span></td><td class=\"tf\"><span class=\"hb\"><span  class=\"hl hlup\" >אֲנִ֛י </span></span></td><td class=\"tf\"><span class=\"hb\"><span  class=\"hl hlup\" >אִתְּךָ֥ </span></span></td><td class=\"tf\"><span class=\"hb\"><span  class=\"hl hlup\" >אֲנִ֛י </span></span></td></tr>\n",
       "<tr class=\"tf\"><td class=\"tf\">15</td><td class=\"tf\"> <a href=\"https://shebanq.ancient-data.org/hebrew/text?book=Jeremia&amp;chapter=1&amp;verse=19&amp;version=c&amp;mr=m&amp;qw=q&amp;tp=txt_p&amp;tr=hb&amp;wget=v&amp;qget=v&amp;nget=vt\" title=\"show this passage in SHEBANQ\" sec=\"Jeremiah 1:19\">Jeremiah 1:19</a></td><td class=\"tf\"><span class=\"hb\"><a class=\"vn\" href=\"https://shebanq.ancient-data.org/hebrew/text?book=Jeremia&amp;chapter=1&amp;verse=19&amp;version=c&amp;mr=m&amp;qw=q&amp;tp=txt_p&amp;tr=hb&amp;wget=v&amp;qget=v&amp;nget=vt\" title=\"Jeremiah 1:19\" sec=\"Jeremiah 1:19\"></a>וְנִלְחֲמ֥וּ אֵלֶ֖יךָ וְלֹא־י֣וּכְלוּ לָ֑ךְ <span  class=\"hlup\" >כִּֽי־</span><span  class=\"hl hlup\" >אִתְּךָ֥ </span><span  class=\"hl hlup\" >אֲנִ֛י </span>נְאֻם־יְהוָ֖ה לְהַצִּילֶֽךָ׃ פ </span></td><td class=\"tf\"><span class=\"hb\"><span  class=\"hl hlup\" >אִתְּךָ֥ </span></span></td><td class=\"tf\"><span class=\"hb\"><span  class=\"hl hlup\" >אֲנִ֛י </span></span></td><td class=\"tf\"><span class=\"hb\"><span  class=\"hlup\" >כִּֽי־</span><span  class=\"hl hlup\" >אִתְּךָ֥ </span><span  class=\"hl hlup\" >אֲנִ֛י </span></span></td><td class=\"tf\"><span class=\"hb\"><span  class=\"hl hlup\" >אִתְּךָ֥ </span></span></td><td class=\"tf\"><span class=\"hb\"><span  class=\"hl hlup\" >אֲנִ֛י </span></span></td></tr>\n",
       "<tr class=\"tf\"><td class=\"tf\">16</td><td class=\"tf\"> <a href=\"https://shebanq.ancient-data.org/hebrew/text?book=Jeremia&amp;chapter=30&amp;verse=10&amp;version=c&amp;mr=m&amp;qw=q&amp;tp=txt_p&amp;tr=hb&amp;wget=v&amp;qget=v&amp;nget=vt\" title=\"show this passage in SHEBANQ\" sec=\"Jeremiah 30:10\">Jeremiah 30:10</a></td><td class=\"tf\"><span class=\"hb\"><a class=\"vn\" href=\"https://shebanq.ancient-data.org/hebrew/text?book=Jeremia&amp;chapter=30&amp;verse=10&amp;version=c&amp;mr=m&amp;qw=q&amp;tp=txt_p&amp;tr=hb&amp;wget=v&amp;qget=v&amp;nget=vt\" title=\"Jeremiah 30:10\" sec=\"Jeremiah 30:10\"></a>וְאַתָּ֡ה אַל־<span  class=\"hl\" >תִּירָא֩ </span>עַבְדִּ֨י יַעֲקֹ֤ב נְאֻם־יְהֹוָה֙ וְאַל־תֵּחַ֣ת יִשְׂרָאֵ֔ל כִּ֠י הִנְנִ֤י מֹושִֽׁיעֲךָ֙ מֵֽרָחֹ֔וק וְאֶֽת־זַרְעֲךָ֖ מֵאֶ֣רֶץ שִׁבְיָ֑ם וְשָׁ֧ב יַעֲקֹ֛ב וְשָׁקַ֥ט וְשַׁאֲנַ֖ן וְאֵ֥ין מַחֲרִֽיד׃ </span></td><td class=\"tf\"><span class=\"hb\"><span  class=\"hl\" >תִּירָא֩ </span></span></td></tr>\n",
       "<tr class=\"tf\"><td class=\"tf\">17</td><td class=\"tf\"> <a href=\"https://shebanq.ancient-data.org/hebrew/text?book=Jeremia&amp;chapter=30&amp;verse=11&amp;version=c&amp;mr=m&amp;qw=q&amp;tp=txt_p&amp;tr=hb&amp;wget=v&amp;qget=v&amp;nget=vt\" title=\"show this passage in SHEBANQ\" sec=\"Jeremiah 30:11\">Jeremiah 30:11</a></td><td class=\"tf\"><span class=\"hb\"><a class=\"vn\" href=\"https://shebanq.ancient-data.org/hebrew/text?book=Jeremia&amp;chapter=30&amp;verse=11&amp;version=c&amp;mr=m&amp;qw=q&amp;tp=txt_p&amp;tr=hb&amp;wget=v&amp;qget=v&amp;nget=vt\" title=\"Jeremiah 30:11\" sec=\"Jeremiah 30:11\"></a><span  class=\"hlup\" >כִּֽי־</span><span  class=\"hl hlup\" >אִתְּךָ֥ </span><span  class=\"hl hlup\" >אֲנִ֛י </span>נְאֻם־יְהוָ֖ה לְהֹֽושִׁיעֶ֑ךָ כִּי֩ אֶעֱשֶׂ֨ה כָלָ֜ה בְּכָֽל־הַגֹּויִ֣ם׀ אֲשֶׁ֧ר הֲפִצֹותִ֣יךָ שָּׁ֗ם אַ֤ךְ אֹֽתְךָ֙ לֹֽא־אֶעֱשֶׂ֣ה כָלָ֔ה וְיִסַּרְתִּ֨יךָ֙ לַמִּשְׁפָּ֔ט וְנַקֵּ֖ה לֹ֥א אֲנַקֶּֽךָּ׃ פ </span></td><td class=\"tf\"><span class=\"hb\"><span  class=\"hl hlup\" >אִתְּךָ֥ </span></span></td><td class=\"tf\"><span class=\"hb\"><span  class=\"hl hlup\" >אֲנִ֛י </span></span></td><td class=\"tf\"><span class=\"hb\"><span  class=\"hlup\" >כִּֽי־</span><span  class=\"hl hlup\" >אִתְּךָ֥ </span><span  class=\"hl hlup\" >אֲנִ֛י </span></span></td><td class=\"tf\"><span class=\"hb\"><span  class=\"hl hlup\" >אִתְּךָ֥ </span></span></td><td class=\"tf\"><span class=\"hb\"><span  class=\"hl hlup\" >אֲנִ֛י </span></span></td></tr>\n",
       "<tr class=\"tf\"><td class=\"tf\">18</td><td class=\"tf\"> <a href=\"https://shebanq.ancient-data.org/hebrew/text?book=Jeremia&amp;chapter=42&amp;verse=11&amp;version=c&amp;mr=m&amp;qw=q&amp;tp=txt_p&amp;tr=hb&amp;wget=v&amp;qget=v&amp;nget=vt\" title=\"show this passage in SHEBANQ\" sec=\"Jeremiah 42:11\">Jeremiah 42:11</a></td><td class=\"tf\"><span class=\"hb\"><a class=\"vn\" href=\"https://shebanq.ancient-data.org/hebrew/text?book=Jeremia&amp;chapter=42&amp;verse=11&amp;version=c&amp;mr=m&amp;qw=q&amp;tp=txt_p&amp;tr=hb&amp;wget=v&amp;qget=v&amp;nget=vt\" title=\"Jeremiah 42:11\" sec=\"Jeremiah 42:11\"></a>אַל־<span  class=\"hl\" >תִּֽירְא֗וּ </span>מִפְּנֵי֙ מֶ֣לֶךְ בָּבֶ֔ל אֲשֶׁר־אַתֶּ֥ם יְרֵאִ֖ים מִפָּנָ֑יו אַל־<span  class=\"hl\" >תִּֽירְא֤וּ </span>מִמֶּ֨נּוּ֙ נְאֻם־יְהוָ֔ה <span  class=\"hlup\" >כִּֽי־</span><span  class=\"hl hlup\" >אִתְּכֶ֣ם </span><span  class=\"hl hlup\" >אָ֔נִי </span>לְהֹושִׁ֧יעַ אֶתְכֶ֛ם וּלְהַצִּ֥יל אֶתְכֶ֖ם מִיָּדֹֽו׃ </span></td><td class=\"tf\"><span class=\"hb\"><span  class=\"hl hlup\" >אִתְּכֶ֣ם </span></span></td><td class=\"tf\"><span class=\"hb\"><span  class=\"hl hlup\" >אָ֔נִי </span></span></td><td class=\"tf\"><span class=\"hb\"><span  class=\"hl\" >תִּֽירְא֗וּ </span></span></td><td class=\"tf\"><span class=\"hb\"><span  class=\"hlup\" >כִּֽי־</span><span  class=\"hl hlup\" >אִתְּכֶ֣ם </span><span  class=\"hl hlup\" >אָ֔נִי </span></span></td><td class=\"tf\"><span class=\"hb\"><span  class=\"hl\" >תִּֽירְא֤וּ </span></span></td><td class=\"tf\"><span class=\"hb\"><span  class=\"hl hlup\" >אִתְּכֶ֣ם </span></span></td><td class=\"tf\"><span class=\"hb\"><span  class=\"hl hlup\" >אָ֔נִי </span></span></td></tr>\n",
       "<tr class=\"tf\"><td class=\"tf\">19</td><td class=\"tf\"> <a href=\"https://shebanq.ancient-data.org/hebrew/text?book=Jeremia&amp;chapter=46&amp;verse=27&amp;version=c&amp;mr=m&amp;qw=q&amp;tp=txt_p&amp;tr=hb&amp;wget=v&amp;qget=v&amp;nget=vt\" title=\"show this passage in SHEBANQ\" sec=\"Jeremiah 46:27\">Jeremiah 46:27</a></td><td class=\"tf\"><span class=\"hb\"><a class=\"vn\" href=\"https://shebanq.ancient-data.org/hebrew/text?book=Jeremia&amp;chapter=46&amp;verse=27&amp;version=c&amp;mr=m&amp;qw=q&amp;tp=txt_p&amp;tr=hb&amp;wget=v&amp;qget=v&amp;nget=vt\" title=\"Jeremiah 46:27\" sec=\"Jeremiah 46:27\"></a>וְ֠אַתָּה אַל־<span  class=\"hl\" >תִּירָ֞א </span>עַבְדִּ֤י יַֽעֲקֹב֙ וְאַל־תֵּחַ֣ת יִשְׂרָאֵ֔ל כִּ֠י הִנְנִ֤י מֹושִֽׁעֲךָ֙ מֵֽרָחֹ֔וק וְאֶֽת־זַרְעֲךָ֖ מֵאֶ֣רֶץ שִׁבְיָ֑ם וְשָׁ֧ב יַעֲקֹ֛וב וְשָׁקַ֥ט וְשַׁאֲנַ֖ן וְאֵ֥ין מַחֲרִֽיד׃ ס </span></td><td class=\"tf\"><span class=\"hb\"><span  class=\"hl\" >תִּירָ֞א </span></span></td></tr>\n",
       "<tr class=\"tf\"><td class=\"tf\">20</td><td class=\"tf\"> <a href=\"https://shebanq.ancient-data.org/hebrew/text?book=Jeremia&amp;chapter=46&amp;verse=28&amp;version=c&amp;mr=m&amp;qw=q&amp;tp=txt_p&amp;tr=hb&amp;wget=v&amp;qget=v&amp;nget=vt\" title=\"show this passage in SHEBANQ\" sec=\"Jeremiah 46:28\">Jeremiah 46:28</a></td><td class=\"tf\"><span class=\"hb\"><a class=\"vn\" href=\"https://shebanq.ancient-data.org/hebrew/text?book=Jeremia&amp;chapter=46&amp;verse=28&amp;version=c&amp;mr=m&amp;qw=q&amp;tp=txt_p&amp;tr=hb&amp;wget=v&amp;qget=v&amp;nget=vt\" title=\"Jeremiah 46:28\" sec=\"Jeremiah 46:28\"></a>אַ֠תָּה אַל־<span  class=\"hl\" >תִּירָ֞א </span>עַבְדִּ֤י יַֽעֲקֹב֙ נְאֻם־יְהוָ֔ה <span  class=\"hlup\" >כִּ֥י </span><span  class=\"hl hlup\" >אִתְּךָ֖ </span><span  class=\"hl hlup\" >אָ֑נִי </span>כִּי֩ אֶעֱשֶׂ֨ה כָלָ֜ה בְּכָֽל־הַגֹּויִ֣ם׀ אֲשֶׁ֧ר הִדַּחְתִּ֣יךָ שָׁ֗מָּה וְאֹֽתְךָ֙ לֹא־אֶעֱשֶׂ֣ה כָלָ֔ה וְיִסַּרְתִּ֨יךָ֙ לַמִּשְׁפָּ֔ט וְנַקֵּ֖ה לֹ֥א אֲנַקֶּֽךָּ׃ ס </span></td><td class=\"tf\"><span class=\"hb\"><span  class=\"hl hlup\" >אִתְּךָ֖ </span></span></td><td class=\"tf\"><span class=\"hb\"><span  class=\"hl hlup\" >אָ֑נִי </span></span></td><td class=\"tf\"><span class=\"hb\"><span  class=\"hl\" >תִּירָ֞א </span></span></td><td class=\"tf\"><span class=\"hb\"><span  class=\"hl hlup\" >אִתְּךָ֖ </span></span></td><td class=\"tf\"><span class=\"hb\"><span  class=\"hl hlup\" >אָ֑נִי </span></span></td><td class=\"tf\"><span class=\"hb\"><span  class=\"hlup\" >כִּ֥י </span><span  class=\"hl hlup\" >אִתְּךָ֖ </span><span  class=\"hl hlup\" >אָ֑נִי </span></span></td></tr></table>"
      ],
      "text/plain": [
       "<IPython.core.display.HTML object>"
      ]
     },
     "metadata": {},
     "output_type": "display_data"
    }
   ],
   "source": [
    "withYou2='''\n",
    "chapter\n",
    "    clause typ=NmCl\n",
    "        phrase function=PreC\n",
    "            word lex=>T==|<M\n",
    "        phrase function=Subj\n",
    "            word lex=>NKJ|>NJ\n",
    "    word lex=JR>[\n",
    "'''\n",
    "withYou2  = A.search(withYou2)\n",
    "A.table(withYou2, start=1, end=20, condensed=True)"
   ]
  },
  {
   "cell_type": "markdown",
   "metadata": {},
   "source": [
    "## Object of JYR[\n",
    "### Task 4:\n",
    "\n",
    "Try to understand what the meaning of JYR is by searching for its typical objects (Objc, PreO)."
   ]
  },
  {
   "cell_type": "code",
   "execution_count": 23,
   "metadata": {},
   "outputs": [
    {
     "name": "stdout",
     "output_type": "stream",
     "text": [
      "  0.53s 8 results\n"
     ]
    },
    {
     "data": {
      "text/html": [
       "<table>\n",
       "<tr class=\"tf\">\n",
       "  <th class=\"tf\">n</th><th class=\"tf\">p</th>\n",
       "  <th class=\"tf\">verse</th><th>phrase</th><th>clause</th><th>word</th>\n",
       "</tr>\n",
       "\n",
       "<tr class=\"tf\"><td class=\"tf\">1</td><td class=\"tf\"> <a href=\"https://shebanq.ancient-data.org/hebrew/text?book=Reges_II&amp;chapter=19&amp;verse=25&amp;version=c&amp;mr=m&amp;qw=q&amp;tp=txt_p&amp;tr=hb&amp;wget=v&amp;qget=v&amp;nget=vt\" title=\"show this passage in SHEBANQ\" sec=\"2_Kings 19:25\">2_Kings 19:25</a></td><td class=\"tf\"><span class=\"hb\"><a class=\"vn\" href=\"https://shebanq.ancient-data.org/hebrew/text?book=Reges_II&amp;chapter=19&amp;verse=25&amp;version=c&amp;mr=m&amp;qw=q&amp;tp=txt_p&amp;tr=hb&amp;wget=v&amp;qget=v&amp;nget=vt\" title=\"2_Kings 19:25\" sec=\"2_Kings 19:25\"></a>הֲלֹֽא־שָׁמַ֤עְתָּ לְמֵֽרָחֹוק֙ אֹתָ֣הּ עָשִׂ֔יתִי לְמִ֥ימֵי קֶ֖דֶם <span  class=\"hlup\" >וִֽ</span><span  class=\"hl hlup\" >יצַרְתִּ֑יהָ </span>עַתָּ֣ה הֲבֵיאתִ֗יהָ וּתְהִ֗י לַהְשֹׁ֛ות גַּלִּ֥ים נִצִּ֖ים עָרִ֥ים בְּצֻרֹֽות׃ </span></td><td class=\"tf\"><span class=\"hb\"><span  class=\"hl hlup\" >יצַרְתִּ֑יהָ </span></span></td><td class=\"tf\"><span class=\"hb\"><span  class=\"hlup\" >וִֽ</span><span  class=\"hl hlup\" >יצַרְתִּ֑יהָ </span></span></td><td class=\"tf\"><span class=\"hb\"><span  class=\"hl hlup\" >יצַרְתִּ֑יהָ </span></span></td></tr>\n",
       "<tr class=\"tf\"><td class=\"tf\">2</td><td class=\"tf\"> <a href=\"https://shebanq.ancient-data.org/hebrew/text?book=Jesaia&amp;chapter=37&amp;verse=26&amp;version=c&amp;mr=m&amp;qw=q&amp;tp=txt_p&amp;tr=hb&amp;wget=v&amp;qget=v&amp;nget=vt\" title=\"show this passage in SHEBANQ\" sec=\"Isaiah 37:26\">Isaiah 37:26</a></td><td class=\"tf\"><span class=\"hb\"><a class=\"vn\" href=\"https://shebanq.ancient-data.org/hebrew/text?book=Jesaia&amp;chapter=37&amp;verse=26&amp;version=c&amp;mr=m&amp;qw=q&amp;tp=txt_p&amp;tr=hb&amp;wget=v&amp;qget=v&amp;nget=vt\" title=\"Isaiah 37:26\" sec=\"Isaiah 37:26\"></a>הֲלֹֽוא־שָׁמַ֤עְתָּ לְמֵֽרָחֹוק֙ אֹותָ֣הּ עָשִׂ֔יתִי מִ֥ימֵי קֶ֖דֶם <span  class=\"hlup\" >וִ</span><span  class=\"hl hlup\" >יצַרְתִּ֑יהָ </span>עַתָּ֣ה הֲבֵאתִ֔יהָ וּתְהִ֗י לְהַשְׁאֹ֛ות גַּלִּ֥ים נִצִּ֖ים עָרִ֥ים בְּצֻרֹֽות׃ </span></td><td class=\"tf\"><span class=\"hb\"><span  class=\"hl hlup\" >יצַרְתִּ֑יהָ </span></span></td><td class=\"tf\"><span class=\"hb\"><span  class=\"hlup\" >וִ</span><span  class=\"hl hlup\" >יצַרְתִּ֑יהָ </span></span></td><td class=\"tf\"><span class=\"hb\"><span  class=\"hl hlup\" >יצַרְתִּ֑יהָ </span></span></td></tr>\n",
       "<tr class=\"tf\"><td class=\"tf\">3</td><td class=\"tf\"> <a href=\"https://shebanq.ancient-data.org/hebrew/text?book=Jesaia&amp;chapter=43&amp;verse=7&amp;version=c&amp;mr=m&amp;qw=q&amp;tp=txt_p&amp;tr=hb&amp;wget=v&amp;qget=v&amp;nget=vt\" title=\"show this passage in SHEBANQ\" sec=\"Isaiah 43:7\">Isaiah 43:7</a></td><td class=\"tf\"><span class=\"hb\"><a class=\"vn\" href=\"https://shebanq.ancient-data.org/hebrew/text?book=Jesaia&amp;chapter=43&amp;verse=7&amp;version=c&amp;mr=m&amp;qw=q&amp;tp=txt_p&amp;tr=hb&amp;wget=v&amp;qget=v&amp;nget=vt\" title=\"Isaiah 43:7\" sec=\"Isaiah 43:7\"></a>כֹּ֚ל הַנִּקְרָ֣א בִשְׁמִ֔י וְלִכְבֹודִ֖י בְּרָאתִ֑יו <span  class=\"hl hlup\" >יְצַרְתִּ֖יו </span>אַף־עֲשִׂיתִֽיו׃ </span></td><td class=\"tf\"><span class=\"hb\"><span  class=\"hl hlup\" >יְצַרְתִּ֖יו </span></span></td><td class=\"tf\"><span class=\"hb\"><span  class=\"hl hlup\" >יְצַרְתִּ֖יו </span></span></td><td class=\"tf\"><span class=\"hb\"><span  class=\"hl hlup\" >יְצַרְתִּ֖יו </span></span></td></tr>\n",
       "<tr class=\"tf\"><td class=\"tf\">4</td><td class=\"tf\"> <a href=\"https://shebanq.ancient-data.org/hebrew/text?book=Jesaia&amp;chapter=44&amp;verse=12&amp;version=c&amp;mr=m&amp;qw=q&amp;tp=txt_p&amp;tr=hb&amp;wget=v&amp;qget=v&amp;nget=vt\" title=\"show this passage in SHEBANQ\" sec=\"Isaiah 44:12\">Isaiah 44:12</a></td><td class=\"tf\"><span class=\"hb\"><a class=\"vn\" href=\"https://shebanq.ancient-data.org/hebrew/text?book=Jesaia&amp;chapter=44&amp;verse=12&amp;version=c&amp;mr=m&amp;qw=q&amp;tp=txt_p&amp;tr=hb&amp;wget=v&amp;qget=v&amp;nget=vt\" title=\"Isaiah 44:12\" sec=\"Isaiah 44:12\"></a>חָרַ֤שׁ בַּרְזֶל֙ מַֽעֲצָ֔ד וּפָעַל֙ בַּפֶּחָ֔ם <span  class=\"hlup\" >וּ</span><span  class=\"hlup\" >בַ</span><span  class=\"hlup\" ></span><span  class=\"hlup\" >מַּקָּבֹ֖ות </span><span  class=\"hl hlup\" >יִצְּרֵ֑הוּ </span>וַיִּפְעָלֵ֨הוּ֙ בִּזְרֹ֣ועַ כֹּחֹ֔ו גַּם־רָעֵב֙ וְאֵ֣ין כֹּ֔חַ לֹא־שָׁ֥תָה מַ֖יִם וַיִּיעָֽף׃ </span></td><td class=\"tf\"><span class=\"hb\"><span  class=\"hl hlup\" >יִצְּרֵ֑הוּ </span></span></td><td class=\"tf\"><span class=\"hb\"><span  class=\"hl hlup\" >יִצְּרֵ֑הוּ </span></span></td><td class=\"tf\"><span class=\"hb\"><span  class=\"hlup\" >וּ</span><span  class=\"hlup\" >בַ</span><span  class=\"hlup\" ></span><span  class=\"hlup\" >מַּקָּבֹ֖ות </span><span  class=\"hl hlup\" >יִצְּרֵ֑הוּ </span></span></td></tr>\n",
       "<tr class=\"tf\"><td class=\"tf\">5</td><td class=\"tf\"> <a href=\"https://shebanq.ancient-data.org/hebrew/text?book=Jesaia&amp;chapter=44&amp;verse=21&amp;version=c&amp;mr=m&amp;qw=q&amp;tp=txt_p&amp;tr=hb&amp;wget=v&amp;qget=v&amp;nget=vt\" title=\"show this passage in SHEBANQ\" sec=\"Isaiah 44:21\">Isaiah 44:21</a></td><td class=\"tf\"><span class=\"hb\"><a class=\"vn\" href=\"https://shebanq.ancient-data.org/hebrew/text?book=Jesaia&amp;chapter=44&amp;verse=21&amp;version=c&amp;mr=m&amp;qw=q&amp;tp=txt_p&amp;tr=hb&amp;wget=v&amp;qget=v&amp;nget=vt\" title=\"Isaiah 44:21\" sec=\"Isaiah 44:21\"></a>זְכָר־אֵ֣לֶּה יַעֲקֹ֔ב וְיִשְׂרָאֵ֖ל כִּ֣י עַבְדִּי־אָ֑תָּה <span  class=\"hl hlup\" >יְצַרְתִּ֤יךָ </span>עֶֽבֶד־לִי֙ אַ֔תָּה יִשְׂרָאֵ֖ל לֹ֥א תִנָּשֵֽׁנִי׃ </span></td><td class=\"tf\"><span class=\"hb\"><span  class=\"hl hlup\" >יְצַרְתִּ֤יךָ </span></span></td><td class=\"tf\"><span class=\"hb\"><span  class=\"hl hlup\" >יְצַרְתִּ֤יךָ </span></span></td><td class=\"tf\"><span class=\"hb\"><span  class=\"hl hlup\" >יְצַרְתִּ֤יךָ </span></span></td></tr>\n",
       "<tr class=\"tf\"><td class=\"tf\">6</td><td class=\"tf\"> <a href=\"https://shebanq.ancient-data.org/hebrew/text?book=Jesaia&amp;chapter=45&amp;verse=18&amp;version=c&amp;mr=m&amp;qw=q&amp;tp=txt_p&amp;tr=hb&amp;wget=v&amp;qget=v&amp;nget=vt\" title=\"show this passage in SHEBANQ\" sec=\"Isaiah 45:18\">Isaiah 45:18</a></td><td class=\"tf\"><span class=\"hb\"><a class=\"vn\" href=\"https://shebanq.ancient-data.org/hebrew/text?book=Jesaia&amp;chapter=45&amp;verse=18&amp;version=c&amp;mr=m&amp;qw=q&amp;tp=txt_p&amp;tr=hb&amp;wget=v&amp;qget=v&amp;nget=vt\" title=\"Isaiah 45:18\" sec=\"Isaiah 45:18\"></a>כִּ֣י כֹ֣ה אָֽמַר־יְ֠הוָה בֹּורֵ֨א הַשָּׁמַ֜יִם ה֣וּא הָאֱלֹהִ֗ים יֹצֵ֨ר הָאָ֤רֶץ וְעֹשָׂהּ֙ ה֣וּא כֹֽונְנָ֔הּ לֹא־תֹ֥הוּ בְרָאָ֖הּ לָשֶׁ֣בֶת <span  class=\"hl hlup\" >יְצָרָ֑הּ </span>אֲנִ֥י יְהוָ֖ה וְאֵ֥ין עֹֽוד׃ </span></td><td class=\"tf\"><span class=\"hb\"><span  class=\"hl hlup\" >יְצָרָ֑הּ </span></span></td><td class=\"tf\"><span class=\"hb\"><span  class=\"hl hlup\" >יְצָרָ֑הּ </span></span></td><td class=\"tf\"><span class=\"hb\"><span  class=\"hl hlup\" >יְצָרָ֑הּ </span></span></td></tr>\n",
       "<tr class=\"tf\"><td class=\"tf\">7</td><td class=\"tf\"> <a href=\"https://shebanq.ancient-data.org/hebrew/text?book=Jeremia&amp;chapter=1&amp;verse=5&amp;version=c&amp;mr=m&amp;qw=q&amp;tp=txt_p&amp;tr=hb&amp;wget=v&amp;qget=v&amp;nget=vt\" title=\"show this passage in SHEBANQ\" sec=\"Jeremiah 1:5\">Jeremiah 1:5</a></td><td class=\"tf\"><span class=\"hb\"><a class=\"vn\" href=\"https://shebanq.ancient-data.org/hebrew/text?book=Jeremia&amp;chapter=1&amp;verse=5&amp;version=c&amp;mr=m&amp;qw=q&amp;tp=txt_p&amp;tr=hb&amp;wget=v&amp;qget=v&amp;nget=vt\" title=\"Jeremiah 1:5\" sec=\"Jeremiah 1:5\"></a><span  class=\"hlup\" >בְּ</span><span  class=\"hlup\" >טֶ֨רֶם </span><span  class=\"hl hlup\" >אֶצָּרְךָ֤ </span><span  class=\"hlup\" >בַ</span><span  class=\"hlup\" ></span><span  class=\"hlup\" >בֶּ֨טֶן֙ </span>יְדַעְתִּ֔יךָ וּבְטֶ֛רֶם תֵּצֵ֥א מֵרֶ֖חֶם הִקְדַּשְׁתִּ֑יךָ נָבִ֥יא לַגֹּויִ֖ם נְתַתִּֽיךָ׃ </span></td><td class=\"tf\"><span class=\"hb\"><span  class=\"hl hlup\" >אֶצָּרְךָ֤ </span></span></td><td class=\"tf\"><span class=\"hb\"><span  class=\"hl hlup\" >אֶצָּרְךָ֤ </span></span></td><td class=\"tf\"><span class=\"hb\"><span  class=\"hlup\" >בְּ</span><span  class=\"hlup\" >טֶ֨רֶם </span><span  class=\"hl hlup\" >אֶצָּרְךָ֤ </span><span  class=\"hlup\" >בַ</span><span  class=\"hlup\" ></span><span  class=\"hlup\" >בֶּ֨טֶן֙ </span></span></td></tr>\n",
       "<tr class=\"tf\"><td class=\"tf\">8</td><td class=\"tf\"> <a href=\"https://shebanq.ancient-data.org/hebrew/text?book=Psalmi&amp;chapter=74&amp;verse=17&amp;version=c&amp;mr=m&amp;qw=q&amp;tp=txt_p&amp;tr=hb&amp;wget=v&amp;qget=v&amp;nget=vt\" title=\"show this passage in SHEBANQ\" sec=\"Psalms 74:17\">Psalms 74:17</a></td><td class=\"tf\"><span class=\"hb\"><a class=\"vn\" href=\"https://shebanq.ancient-data.org/hebrew/text?book=Psalmi&amp;chapter=74&amp;verse=17&amp;version=c&amp;mr=m&amp;qw=q&amp;tp=txt_p&amp;tr=hb&amp;wget=v&amp;qget=v&amp;nget=vt\" title=\"Psalms 74:17\" sec=\"Psalms 74:17\"></a>אַתָּ֣ה הִ֭צַּבְתָּ כָּל־גְּבוּלֹ֣ות אָ֑רֶץ קַ֥יִץ וָ֝חֹ֗רֶף <span  class=\"hlup\" >אַתָּ֥ה </span><span  class=\"hl hlup\" >יְצַרְתָּם׃ </span></span></td><td class=\"tf\"><span class=\"hb\"><span  class=\"hl hlup\" >יְצַרְתָּם׃ </span></span></td><td class=\"tf\"><span class=\"hb\"><span  class=\"hl hlup\" >יְצַרְתָּם׃ </span></span></td><td class=\"tf\"><span class=\"hb\"><span  class=\"hlup\" >אַתָּ֥ה </span><span  class=\"hl hlup\" >יְצַרְתָּם׃ </span></span></td></tr></table>"
      ],
      "text/plain": [
       "<IPython.core.display.HTML object>"
      ]
     },
     "metadata": {},
     "output_type": "display_data"
    }
   ],
   "source": [
    "JYR1='''\n",
    "clause\n",
    "    phrase function=PreO\n",
    "        word lex=JYR[\n",
    "'''\n",
    "JYR1  = A.search(JYR1)\n",
    "A.table(JYR1, start=1, end=20, condensed=True)"
   ]
  },
  {
   "cell_type": "code",
   "execution_count": 24,
   "metadata": {},
   "outputs": [
    {
     "name": "stdout",
     "output_type": "stream",
     "text": [
      "  1.41s 16 results\n"
     ]
    },
    {
     "data": {
      "text/html": [
       "<table>\n",
       "<tr class=\"tf\">\n",
       "  <th class=\"tf\">n</th><th class=\"tf\">p</th>\n",
       "  <th class=\"tf\">verse</th><th>phrase</th><th>phrase</th><th>clause</th><th>word</th><th>word</th><th>word</th><th>word</th>\n",
       "</tr>\n",
       "\n",
       "<tr class=\"tf\"><td class=\"tf\">1</td><td class=\"tf\"> <a href=\"https://shebanq.ancient-data.org/hebrew/text?book=Genesis&amp;chapter=2&amp;verse=7&amp;version=c&amp;mr=m&amp;qw=q&amp;tp=txt_p&amp;tr=hb&amp;wget=v&amp;qget=v&amp;nget=vt\" title=\"show this passage in SHEBANQ\" sec=\"Genesis 2:7\">Genesis 2:7</a></td><td class=\"tf\"><span class=\"hb\"><a class=\"vn\" href=\"https://shebanq.ancient-data.org/hebrew/text?book=Genesis&amp;chapter=2&amp;verse=7&amp;version=c&amp;mr=m&amp;qw=q&amp;tp=txt_p&amp;tr=hb&amp;wget=v&amp;qget=v&amp;nget=vt\" title=\"Genesis 2:7\" sec=\"Genesis 2:7\"></a><span  class=\"hlup\" >וַ</span><span  class=\"hl hlup\" >יִּיצֶר֩ </span><span  class=\"hlup\" >יְהוָ֨ה </span><span  class=\"hlup\" >אֱלֹהִ֜ים </span><span  class=\"hl hlup\" >אֶת־</span><span  class=\"hl hlup\" >הָֽ</span><span  class=\"hl hlup\" >אָדָ֗ם </span><span  class=\"hlup\" >עָפָר֙ </span><span  class=\"hlup\" >מִן־</span><span  class=\"hlup\" >הָ֣</span><span  class=\"hlup\" >אֲדָמָ֔ה </span>וַיִּפַּ֥ח בְּאַפָּ֖יו נִשְׁמַ֣ת חַיִּ֑ים וַֽיְהִ֥י הָֽאָדָ֖ם לְנֶ֥פֶשׁ חַיָּֽה׃ </span></td><td class=\"tf\"><span class=\"hb\"><span  class=\"hl hlup\" >יִּיצֶר֩ </span></span></td><td class=\"tf\"><span class=\"hb\"><span  class=\"hl hlup\" >אֶת־</span><span  class=\"hl hlup\" >הָֽ</span><span  class=\"hl hlup\" >אָדָ֗ם </span></span></td><td class=\"tf\"><span class=\"hb\"><span  class=\"hlup\" >וַ</span><span  class=\"hl hlup\" >יִּיצֶר֩ </span><span  class=\"hlup\" >יְהוָ֨ה </span><span  class=\"hlup\" >אֱלֹהִ֜ים </span><span  class=\"hl hlup\" >אֶת־</span><span  class=\"hl hlup\" >הָֽ</span><span  class=\"hl hlup\" >אָדָ֗ם </span><span  class=\"hlup\" >עָפָר֙ </span><span  class=\"hlup\" >מִן־</span><span  class=\"hlup\" >הָ֣</span><span  class=\"hlup\" >אֲדָמָ֔ה </span></span></td><td class=\"tf\"><span class=\"hb\"><span  class=\"hl hlup\" >יִּיצֶר֩ </span></span></td><td class=\"tf\"><span class=\"hb\"><span  class=\"hl hlup\" >אֶת־</span></span></td><td class=\"tf\"><span class=\"hb\"><span  class=\"hl hlup\" >הָֽ</span></span></td><td class=\"tf\"><span class=\"hb\"><span  class=\"hl hlup\" >אָדָ֗ם </span></span></td></tr>\n",
       "<tr class=\"tf\"><td class=\"tf\">2</td><td class=\"tf\"> <a href=\"https://shebanq.ancient-data.org/hebrew/text?book=Genesis&amp;chapter=2&amp;verse=19&amp;version=c&amp;mr=m&amp;qw=q&amp;tp=txt_p&amp;tr=hb&amp;wget=v&amp;qget=v&amp;nget=vt\" title=\"show this passage in SHEBANQ\" sec=\"Genesis 2:19\">Genesis 2:19</a></td><td class=\"tf\"><span class=\"hb\"><a class=\"vn\" href=\"https://shebanq.ancient-data.org/hebrew/text?book=Genesis&amp;chapter=2&amp;verse=19&amp;version=c&amp;mr=m&amp;qw=q&amp;tp=txt_p&amp;tr=hb&amp;wget=v&amp;qget=v&amp;nget=vt\" title=\"Genesis 2:19\" sec=\"Genesis 2:19\"></a><span  class=\"hlup\" >וַ</span><span  class=\"hl hlup\" >יִּצֶר֩ </span><span  class=\"hlup\" >יְהוָ֨ה </span><span  class=\"hlup\" >אֱלֹהִ֜ים </span><span  class=\"hlup\" >מִן־</span><span  class=\"hlup\" >הָֽ</span><span  class=\"hlup\" >אֲדָמָ֗ה </span><span  class=\"hl hlup\" >כָּל־</span><span  class=\"hl hlup\" >חַיַּ֤ת </span><span  class=\"hl hlup\" >הַ</span><span  class=\"hl hlup\" >שָּׂדֶה֙ </span><span  class=\"hl hlup\" >וְ</span><span  class=\"hl hlup\" >אֵת֙ </span><span  class=\"hl hlup\" >כָּל־</span><span  class=\"hl hlup\" >עֹ֣וף </span><span  class=\"hl hlup\" >הַ</span><span  class=\"hl hlup\" >שָּׁמַ֔יִם </span>וַיָּבֵא֙ אֶל־הָ֣אָדָ֔ם לִרְאֹ֖ות מַה־יִּקְרָא־לֹ֑ו וְכֹל֩ אֲשֶׁ֨ר יִקְרָא־לֹ֧ו הָֽאָדָ֛ם נֶ֥פֶשׁ חַיָּ֖ה ה֥וּא שְׁמֹֽו׃ </span></td><td class=\"tf\"><span class=\"hb\"><span  class=\"hlup\" >וַ</span><span  class=\"hl hlup\" >יִּצֶר֩ </span><span  class=\"hlup\" >יְהוָ֨ה </span><span  class=\"hlup\" >אֱלֹהִ֜ים </span><span  class=\"hlup\" >מִן־</span><span  class=\"hlup\" >הָֽ</span><span  class=\"hlup\" >אֲדָמָ֗ה </span><span  class=\"hl hlup\" >כָּל־</span><span  class=\"hl hlup\" >חַיַּ֤ת </span><span  class=\"hl hlup\" >הַ</span><span  class=\"hl hlup\" >שָּׂדֶה֙ </span><span  class=\"hl hlup\" >וְ</span><span  class=\"hl hlup\" >אֵת֙ </span><span  class=\"hl hlup\" >כָּל־</span><span  class=\"hl hlup\" >עֹ֣וף </span><span  class=\"hl hlup\" >הַ</span><span  class=\"hl hlup\" >שָּׁמַ֔יִם </span></span></td><td class=\"tf\"><span class=\"hb\"><span  class=\"hl hlup\" >אֵת֙ </span></span></td><td class=\"tf\"><span class=\"hb\"><span  class=\"hl hlup\" >כָּל־</span></span></td><td class=\"tf\"><span class=\"hb\"><span  class=\"hl hlup\" >עֹ֣וף </span></span></td><td class=\"tf\"><span class=\"hb\"><span  class=\"hl hlup\" >הַ</span></span></td><td class=\"tf\"><span class=\"hb\"><span  class=\"hl hlup\" >שָּׁמַ֔יִם </span></span></td><td class=\"tf\"><span class=\"hb\"><span  class=\"hl hlup\" >יִּצֶר֩ </span></span></td><td class=\"tf\"><span class=\"hb\"><span  class=\"hl hlup\" >כָּל־</span><span  class=\"hl hlup\" >חַיַּ֤ת </span><span  class=\"hl hlup\" >הַ</span><span  class=\"hl hlup\" >שָּׂדֶה֙ </span><span  class=\"hl hlup\" >וְ</span><span  class=\"hl hlup\" >אֵת֙ </span><span  class=\"hl hlup\" >כָּל־</span><span  class=\"hl hlup\" >עֹ֣וף </span><span  class=\"hl hlup\" >הַ</span><span  class=\"hl hlup\" >שָּׁמַ֔יִם </span></span></td><td class=\"tf\"><span class=\"hb\"><span  class=\"hl hlup\" >יִּצֶר֩ </span></span></td><td class=\"tf\"><span class=\"hb\"><span  class=\"hl hlup\" >כָּל־</span></span></td><td class=\"tf\"><span class=\"hb\"><span  class=\"hl hlup\" >חַיַּ֤ת </span></span></td><td class=\"tf\"><span class=\"hb\"><span  class=\"hl hlup\" >הַ</span></span></td><td class=\"tf\"><span class=\"hb\"><span  class=\"hl hlup\" >שָּׂדֶה֙ </span></span></td><td class=\"tf\"><span class=\"hb\"><span  class=\"hl hlup\" >וְ</span></span></td></tr></table>"
      ],
      "text/plain": [
       "<IPython.core.display.HTML object>"
      ]
     },
     "metadata": {},
     "output_type": "display_data"
    }
   ],
   "source": [
    "JYR2='''\n",
    "clause\n",
    "    phrase function=Pred\n",
    "        word lex=JYR[\n",
    "    phrase function=Objc\n",
    "        word lex*\n",
    "'''\n",
    "JYR2  = A.search(JYR2)\n",
    "A.table(JYR2, start=1, end=2, condensed=True)"
   ]
  },
  {
   "cell_type": "markdown",
   "metadata": {},
   "source": [
    "## Rhetoric\n",
    "### Task 5 (Voluntary):\n",
    "\n",
    "Do you find an interesting rhetoric construction in Jer 1:11-12? If so, which one is it? Think about how you would build a query that would be able to find more of these cases. How do you think this could be done?"
   ]
  },
  {
   "cell_type": "code",
   "execution_count": 25,
   "metadata": {},
   "outputs": [
    {
     "name": "stdout",
     "output_type": "stream",
     "text": [
      "  0.24s 1 result\n"
     ]
    },
    {
     "data": {
      "text/html": [
       "<table>\n",
       "<tr class=\"tf\">\n",
       "  <th class=\"tf\">n</th><th class=\"tf\">p</th>\n",
       "  <th class=\"tf\">verse</th><th>word</th>\n",
       "</tr>\n",
       "\n",
       "<tr class=\"tf\"><td class=\"tf\">1</td><td class=\"tf\"> <a href=\"https://shebanq.ancient-data.org/hebrew/text?book=Jeremia&amp;chapter=1&amp;verse=11&amp;version=c&amp;mr=m&amp;qw=q&amp;tp=txt_p&amp;tr=hb&amp;wget=v&amp;qget=v&amp;nget=vt\" title=\"show this passage in SHEBANQ\" sec=\"Jeremiah 1:11\">Jeremiah 1:11</a></td><td class=\"tf\"><span class=\"hb\"><a class=\"vn\" href=\"https://shebanq.ancient-data.org/hebrew/text?book=Jeremia&amp;chapter=1&amp;verse=11&amp;version=c&amp;mr=m&amp;qw=q&amp;tp=txt_p&amp;tr=hb&amp;wget=v&amp;qget=v&amp;nget=vt\" title=\"Jeremiah 1:11\" sec=\"Jeremiah 1:11\"></a>וַיְהִ֤י דְבַר־יְהוָה֙ אֵלַ֣י לֵאמֹ֔ר מָה־אַתָּ֥ה רֹאֶ֖ה יִרְמְיָ֑הוּ וָאֹמַ֕ר מַקֵּ֥ל <span  class=\"hl\" >שָׁקֵ֖ד </span>אֲנִ֥י רֹאֶֽה׃ </span></td><td class=\"tf\"><span class=\"hb\"><span  class=\"hl\" >שָׁקֵ֖ד </span></span></td></tr>\n",
       "<tr class=\"tf\"><td class=\"tf\">2</td><td class=\"tf\"> <a href=\"https://shebanq.ancient-data.org/hebrew/text?book=Jeremia&amp;chapter=1&amp;verse=12&amp;version=c&amp;mr=m&amp;qw=q&amp;tp=txt_p&amp;tr=hb&amp;wget=v&amp;qget=v&amp;nget=vt\" title=\"show this passage in SHEBANQ\" sec=\"Jeremiah 1:12\">Jeremiah 1:12</a></td><td class=\"tf\"><span class=\"hb\"><a class=\"vn\" href=\"https://shebanq.ancient-data.org/hebrew/text?book=Jeremia&amp;chapter=1&amp;verse=12&amp;version=c&amp;mr=m&amp;qw=q&amp;tp=txt_p&amp;tr=hb&amp;wget=v&amp;qget=v&amp;nget=vt\" title=\"Jeremiah 1:12\" sec=\"Jeremiah 1:12\"></a>וַיֹּ֧אמֶר יְהוָ֛ה אֵלַ֖י הֵיטַ֣בְתָּ לִרְאֹ֑ות כִּֽי־<span  class=\"hl\" >שֹׁקֵ֥ד </span>אֲנִ֛י עַל־דְּבָרִ֖י לַעֲשֹׂתֹֽו׃ פ </span></td><td class=\"tf\"><span class=\"hb\"><span  class=\"hl\" >שֹׁקֵ֥ד </span></span></td></tr></table>"
      ],
      "text/plain": [
       "<IPython.core.display.HTML object>"
      ]
     },
     "metadata": {},
     "output_type": "display_data"
    }
   ],
   "source": [
    "DiffLexSameCons = '''\n",
    "chapter book=Jeremia chapter=1\n",
    "    w1:word\n",
    "    <20: w2:word\n",
    "w1 < w2\n",
    "w1 .g_cons=g_cons. w2\n",
    "w1 .lex#lex. w2\n",
    "'''\n",
    "DiffLexSameCons  = A.search(DiffLexSameCons)\n",
    "A.table(DiffLexSameCons, start=1, end=2, condensed=True)"
   ]
  },
  {
   "cell_type": "code",
   "execution_count": null,
   "metadata": {},
   "outputs": [],
   "source": []
  }
 ],
 "metadata": {
  "kernelspec": {
   "display_name": "Python 3",
   "language": "python",
   "name": "python3"
  },
  "language_info": {
   "codemirror_mode": {
    "name": "ipython",
    "version": 3
   },
   "file_extension": ".py",
   "mimetype": "text/x-python",
   "name": "python",
   "nbconvert_exporter": "python",
   "pygments_lexer": "ipython3",
   "version": "3.7.0"
  },
  "toc": {
   "base_numbering": 1,
   "nav_menu": {},
   "number_sections": true,
   "sideBar": true,
   "skip_h1_title": false,
   "title_cell": "Table of Contents",
   "title_sidebar": "Contents",
   "toc_cell": false,
   "toc_position": {
    "height": "calc(100% - 180px)",
    "left": "10px",
    "top": "150px",
    "width": "325px"
   },
   "toc_section_display": true,
   "toc_window_display": false
  }
 },
 "nbformat": 4,
 "nbformat_minor": 2
}

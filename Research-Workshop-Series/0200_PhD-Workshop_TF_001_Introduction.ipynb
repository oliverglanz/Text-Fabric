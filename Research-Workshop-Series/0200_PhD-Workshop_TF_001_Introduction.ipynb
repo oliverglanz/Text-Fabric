{
 "cells": [
  {
   "cell_type": "markdown",
   "metadata": {},
   "source": [
    "# Introduction to TF and the exegetical workbench\n",
    "\n",
    "## Introduction: See my PhD Colloquium Speech (next week) ;-)\n",
    "## Setting up your workbench\n",
    "The most efficient way of working with Biblical Hebrew texts is by using *three* **tools**:\n",
    "    \n",
    "| Tool    | Function   |\n",
    "| :---    | :---       |\n",
    "| **The Library**: commerical `BibleSoftware` (Logos, Accordance)                                                          | great for looking up dictionaries, commentaries, and annotating your text (notes, highlighting, etc.)                 |\n",
    "| **The Text** with linguistic annotations on all language levels (phonology, morphology, syntax, text-grammar): <br> OT:`SHEBANQ` <br> NT:`Cascadia Syntaxtrees` (Asian Bible Society) | great for understanding the linguistic structure of a text and registering database codes useful for building queries |\n",
    "| **The Analytic Tool-Kit**: `Text-Fabric` (i.e. SHEBANQ-query-tool on steroids)                                           | great for turning your exegetical questions into queries AND for analyzing your query results                       |\n",
    "\n",
    "\n",
    "\n",
    "\n",
    "# The Text\n",
    "## OT: SHEBANQ\n",
    "Lets pull up Gen 20 in SHEBANQ. Do the following:\n",
    "1. Go to https://shebanq.ancient-data.org/ \n",
    "2. Click on \"Text\" in the upper left corner\n",
    "3. Maneuver to Gen 20\n",
    "4. Visualize the text-grammatical structure of Gen 20 by clicking on the \"Notes (1/3)\" button until it shows \"Syntax (2/3)\". You should see something like this:\n",
    "\n",
    "![image.png](https://kou2dq.dm.files.1drv.com/y4m845bg5zv-dhbusICBrMNEWl_jRXB_Un4eR0IgXudmlSqQUGttGUjAMxHhQqvl-ZdZHgqsrHGyf2ZKJ-QWzBwc8KrP3GPgWxWTdIqTTfqkt_c02iYq34X2HaoJM521CxiJ_nFV0I9X7TyJ0l7Z-yq6hDjLtVtZqhYFGe6iae0AczlqlSmwSBDJdCknHRZhRveKtpopalHZTqui0Jqx1H9lPlDbvi4pDaOgsy32jgPQrY/shebanq_gen20_1-3.png?psid=1)\n",
    "\n",
    "5. Study the codes and make sense out of them."
   ]
  },
  {
   "cell_type": "markdown",
   "metadata": {},
   "source": [
    "## NT: Cascadia Syntaxtrees (Logos)\n",
    "Lets pull up John 3:1 in Logos.\n",
    "\n",
    "![image.png](https://zeaj3q.dm.files.1drv.com/y4mAAogNnDzk7YNNI9jgZiLWc67uqq_MrIcBG11xlpG1J1NiNs23ggbUJHZNWs6hqvE86-ffjcP_qdunOUxdMUtPAp8Clj9Yp4XXmBrya0Iij4USzipMhlMnpocN4_X3fg1qkgicg9Oyo1oq8jtzNNqNHAvVAL6zqbIZDrdm_duP2rugGZ84c7GSp99jYsx25TWAn5_QPsLJTH10bCh_Xmujg9mwCr622X4vNG6oC5f4aY/cascadia_John3_1.png?psid=1)"
   ]
  },
  {
   "cell_type": "markdown",
   "metadata": {},
   "source": [
    "# The Analytic Tool-Kit\n",
    "## `Anaconda`\n",
    "1. You need the engine that allows to (1) display texts, (2) run queries, (3) analyse query results, (4) visualize insights. That engine is the `Anaconda Python Research Environment`. This research environment is used by almost all data scientists, computer analysts, and researchers in the digital humanities.\n",
    "2. Download and install `Anaconda` from here: https://www.anaconda.com/products/individual:\n",
    "\n",
    "Choose the 64bit installer. If you are not a programmer chose the Graphical Installer option:\n",
    "![image.png](https://z7tkga.dm.files.1drv.com/y4ml-wqwvCdM2VCqIOSaOfahCAUXGhbrOP_wqzFKvnuVyfaqL2gzMsO_Hp4qbJda-eDk1twUj1LDCSIr6uxcRbB5GHmy3BvxQcW0OryYhBK0HIRjZTyzatlRejEfZXBMfgk_tt4F9q7xDky31L9iYJ3R3cf73Dvm4WCX_rsGq6UUzpk8haoYOZ5RhfU2dxna_fUqlMFU6r992t2rH6fBYrPp7ZFkOpheHAPnXwzai8c0z8/anaconda%20installer.png?psid=1)"
   ]
  },
  {
   "attachments": {},
   "cell_type": "markdown",
   "metadata": {},
   "source": [
    "## `TextFabric`\n",
    "As we have installed Anaconda we can now install the `TextFabric` program (https://annotation.github.io/text-fabric) into the `Anaconda` environment. \n",
    "1. Open the Anaconda Command line:\n",
    "![image.png](https://mdl7og.dm.files.1drv.com/y4mgQQxtZOFmUNT3KnVefJu9DAOxSIKhVRb-2lg3uLgSmAbj_B0iYCn3UZDGM97SQiaaOrrrpgiX2UwNoSbyXc_EBJxaE8r__UIt9ueEISF-BA86HREx9rm3uDviPNYfajpJtc92RehV9mvfIiTLlsfC0y8406veEhl1NQhai89QnbWDI0FbGaUeWralntzKNgLGtJyTHQVy71XMYTmzotuff1e3jFpH3J0r21DSXfMPYY/anaconda%20command%20line.png?psid=1)\n",
    "2. type the following command and execute it by pushing \"enter\" on your keyboard\n",
    ">**```pip install text-fabric```**\n",
    "\n",
    "![](https://kyu0dq.dm.files.1drv.com/y4mRRzxhx1GlEllivRcrgDFyYB7khSgjI_aEP4vSqjygK7YLA6sWcwJzYIg5P_1cNUP5Lha0ae8vCfKZvV_o-zJhrV3YZY5QkWCWd0XOd3h2DtuVXqAH9MQcfpRQrnrZe1ms2d8gUCnqxFGjCR782yXdEL9YOt0J1EgUJqyf_8mOFzm6G39jKNWvFqYdPw2a8ubFvaXlHnnYl-QV8leqmQrgeu9rcpcvjSI1_7BhrRTmdo/anaconda%20prompt%20with%20TF%20installer%20command.png?psid=1)\n",
    " \n",
    " In case you are working on a non-Anaconda python installation you might have to write\n",
    ">**```pip3 install text-fabric```**\n",
    "3. With `TextFabric` we have installed the program that allows us to load our Texts (e.g. BHS, Tischendorf, DSS, etc.) and query them."
   ]
  },
  {
   "cell_type": "markdown",
   "metadata": {},
   "source": [
    "4. There are two ways to open a text\n",
    "    1. either by using the **TF browser**\n",
    "    ![image.png](https://9kfnya.dm.files.1drv.com/y4m9sHOcqtpNGsJao1ppLTROx7yaFaUFQq7Y_CmQzAsECvkzYS9sBurK2D5n1HB5_8ZVT0yDXQ3nFWTGsiN6kGb2QV5lcl1CRGRW1MslG1OSTiNKLUjep3kMobaVYYXeiz8Sz07_sJnx1NQEB-He2pmXQDfe_R_wRtg4Aovd58Z-GGnghgXHrfzzyDbdILYSQyH3sQxUC4xGPuxpKmueCPopSHrpZbuw5RK_YRBJdkrbNQ/text-fabric_tisch.png?psid=1)\n",
    "    \n",
    "        *advantage*: opens quickly, runs queries fast, minimum of commands necessary\n",
    "        \n",
    "        *disadvantage*: analysis of query results with python/pandas not possible, no visualisations of query results possible\n",
    "                \n",
    "    2. or by using a **jupyter notebook**"
   ]
  },
  {
   "cell_type": "markdown",
   "metadata": {},
   "source": [
    "> ![image.png](https://9kfoya.dm.files.1drv.com/y4m0gzYgtnVeW1xYOGXOwih61_6X7beA_Yge2Pn7YPK8Yoplvm0HpxGJLVZZFIznqXoAgWq313QWl4ISo60E5KiT2YNMZc_UuPvhX6m6TTvhAv7zfbhOd1-Qh-50qfGC2_BufzLRy2NdJ-bqA0moUQWLk8t3veM3vCPt8WRKMDWItMgs1g9ViToOxg8RITiAvIDI2ncTP8PSoINzpfAZ0HJ_uJe3msjYttLsMGJxM5RVRA/jupyter%20notebook%20example.png?psid=1)\n",
    "    \n",
    "*advantage*: full blown research environment, deep data analysis, no limits to graphical representations of query results\n",
    "        \n",
    "*disadvantage*: you need to learn a bit mor command line writing.\n",
    "        \n",
    "We will learn both ways in the next couple of weeks. This week we will get started with the `TF Browser`"
   ]
  },
  {
   "cell_type": "markdown",
   "metadata": {},
   "source": [
    "### TF Browser\n",
    "We can now open any TF database. Here are some examples for available TF databases:\n",
    "\n",
    "|Text| TF abbreviation|\n",
    "|---|---|\n",
    "|BHS|bhsa|\n",
    "|Tischendorf|tisch|\n",
    "|Dead Sea Scrolls|dss|\n",
    "|Old Babylonian Letter corpus (cuneiform)|oldbabylonian|\n",
    "\n",
    "In order to open your TF browswer you have to:\n",
    "1. open the `Anaconda command line`\n",
    "2. type the command \n",
    "> ```text-fabric``` followed by ```TF database abbreviation```\n",
    "\n",
    "For example: ```text-fabric bhsa```\n",
    "3. Now your webbrowser will open and show the following:\n",
    "![](https://z7tjga.dm.files.1drv.com/y4mcVX-RU2HgDxHf8SCjJ40shlZV6329NSI94iBuMsOtvR8BSN2jVC4-px3C0Q9gi5Z_eZ6--23jUjJq1sN3C0b2tlYg7JTRu2nEp8oO3c2CxdXYJhafAK3sIWgxazm9laqJIdAvzP2aebputl66O4QbRhqI_0JFx7j1-dQCi1l-vyeFHyx76EypaLJW4MertdF7HW7uKpLG-tRdAPvIdYA79Ot6kN1vilmnwpirson0sU/text-fabric_bhsa.png?psid=1)\n"
   ]
  },
  {
   "cell_type": "markdown",
   "metadata": {},
   "source": [
    "# Assignments\n",
    "1. Open the New Testament Tischendorf database.\n",
    "2. In the Tischendorf browswer open **John 1:1**. Warning: no space before and after `=` is allowed.\n",
    "3. Now search how often the word `λόγος` appears in the gospel of Matthew. For that you need alter your **John 1:1** query add to your search lines the line `word anlex_lem=λόγος` (copy-paste) into your search pad.\n",
    "4. Open the BHS database.\n",
    "5. Search in the book of Genesis for all cases in which YHWH is the subject of an action, i.e. predicate. Specify the book with `book book=Genesis` and then add the following lines:\n",
    "\n",
    "```phython\n",
    "clause\n",
    "  phrase function=Subj\n",
    "    word lex=JHWH/\n",
    "  phrase function=Pred\n",
    "    word lex*\n",
    "```"
   ]
  },
  {
   "cell_type": "markdown",
   "metadata": {},
   "source": [
    "# Whats next?: Jupyter Notebooks!\n",
    "1. We will run Jupyter Notebooks.\n",
    "2. Run simple Queries on both the BHS and Tischendorf texts.\n",
    "3. We will export our query results into a `pandas` friendly TSV file.\n",
    "4. We will analyze our query results with python and `pandas` tools.\n",
    "5. We will visualize our data as bars, pies, and scatters."
   ]
  }
 ],
 "metadata": {
  "kernelspec": {
   "display_name": "Python 3",
   "language": "python",
   "name": "python3"
  },
  "language_info": {
   "codemirror_mode": {
    "name": "ipython",
    "version": 3
   },
   "file_extension": ".py",
   "mimetype": "text/x-python",
   "name": "python",
   "nbconvert_exporter": "python",
   "pygments_lexer": "ipython3",
   "version": "3.7.7"
  },
  "toc": {
   "base_numbering": 1,
   "nav_menu": {},
   "number_sections": true,
   "sideBar": true,
   "skip_h1_title": false,
   "title_cell": "Table of Contents",
   "title_sidebar": "Contents",
   "toc_cell": false,
   "toc_position": {},
   "toc_section_display": true,
   "toc_window_display": false
  }
 },
 "nbformat": 4,
 "nbformat_minor": 4
}

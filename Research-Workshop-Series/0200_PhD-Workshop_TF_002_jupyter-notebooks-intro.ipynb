{
 "cells": [
  {
   "cell_type": "markdown",
   "metadata": {},
   "source": [
    "# Working with Jupyter Notebooks\n",
    "In this notebook we are going to work with Jupyter Notebooks. We will:\n",
    "1. Start Jupyter Notebooks.\n",
    "2. Load different TF databases.\n",
    "3. Do some simple word-based queries.\n",
    "4. Export query results to TSV files."
   ]
  },
  {
   "cell_type": "markdown",
   "metadata": {},
   "source": [
    "# Starting a Jupyter Notebook\n",
    "There are different ways to open notebooks within jupyter:\n",
    "1. You can either open the terminal/prompt and type\n",
    "\n",
    ">```jupyter notebook```\n",
    "\n",
    "\n",
    "    This will open the the jupyter environment and a new notebook in your default webbrowser.\n",
    "2. Or you open the Anaconda Navigator and click on *Launch* in the juypter notebook box:\n",
    "\n",
    "    ![image.png](https://irysaw.dm.files.1drv.com/y4mTy94MLf0W6hgG50d1zlHxsvQU8wEE35FgF_TcExl9v1I591ecA42foEacu9GBGONoJESiYCnsNWpjA2WdfA4HT5ud4sx98KBhWoHg8Aq-olr3yaoAI8g5FV0t5aXSWn_eXqOnj6cDGNNYb03A85iznOYMGKXEezJmex1l2p-3himk2xB-bGgZqz7l9XxnozwPaAjpP-WHhlwwh5jdIbw-Pi6aHly5rfdz43NQSI6WiI/anacondacenter.png?psid=1)\n",
    "\n",
    "Alternatively you can choose to work with notebooks within the `jupyter lab` environment. This can be started on the console/terminal/prompt with the command\n",
    "\n",
    ">```jupyter lab```\n",
    "\n",
    "`Jupyter Lab` can also be launched via the Anaconda Navigator.\n",
    "\n",
    "If you have a dedicated folder within which you want to work. You should first `cd` into that folder in your terminal and then launch the jupyter command. In my case this looks likes this:\n",
    ">```cd D:\\OneDrive\\1200_Research\\Fabric-Text```\n",
    "\n",
    ">```jupyter lab```\n",
    "\n",
    "Once you have executed the command or clicked the launch button the jupyter environment will open in your webbrowser. Open a new notebook and copy/paste the code cells from this notebook into your own notebook or download this notebook to your machine and open it as a jupyter notebook."
   ]
  },
  {
   "cell_type": "markdown",
   "metadata": {},
   "source": [
    "## Getting the TF workbench ready\n",
    "The first thing we need to do in our jupyter notebook is to\n",
    "1. load the TF program\n",
    "2. load the TF database"
   ]
  },
  {
   "cell_type": "code",
   "execution_count": 1,
   "metadata": {},
   "outputs": [],
   "source": [
    "# First we load the TF program\n",
    "from tf.fabric import Fabric\n",
    "from tf.app import use"
   ]
  },
  {
   "cell_type": "code",
   "execution_count": 2,
   "metadata": {},
   "outputs": [
    {
     "data": {
      "text/html": [
       "<b title=\"local release\">TF-app:</b> <span title=\"rv2.3.0=#113c0687cfce3077734dac1844d244d20f4ace6f offline under ~/text-fabric-data\">C:\\Users\\OliverGlanz/text-fabric-data/annotation/app-bhsa/code</span>"
      ],
      "text/plain": [
       "<IPython.core.display.HTML object>"
      ]
     },
     "metadata": {},
     "output_type": "display_data"
    },
    {
     "data": {
      "text/html": [
       "<b title=\"local release\">data:</b> <span title=\"rv1.6=#bac4a9f5a2bbdede96ba6caea45e762fe88f88c5 offline under ~/text-fabric-data\">C:\\Users\\OliverGlanz/text-fabric-data/etcbc/bhsa/tf/c</span>"
      ],
      "text/plain": [
       "<IPython.core.display.HTML object>"
      ]
     },
     "metadata": {},
     "output_type": "display_data"
    },
    {
     "data": {
      "text/html": [
       "<b title=\"local release\">data:</b> <span title=\"r1.2=#1ac68e976ee4a7f23eb6bb4c6f401a033d0ec169 offline under ~/text-fabric-data\">C:\\Users\\OliverGlanz/text-fabric-data/etcbc/phono/tf/c</span>"
      ],
      "text/plain": [
       "<IPython.core.display.HTML object>"
      ]
     },
     "metadata": {},
     "output_type": "display_data"
    },
    {
     "data": {
      "text/html": [
       "<b title=\"local release\">data:</b> <span title=\"r1.2=#395dfe2cb69c261862fab9f0289e594a52121d5c offline under ~/text-fabric-data\">C:\\Users\\OliverGlanz/text-fabric-data/etcbc/parallels/tf/c</span>"
      ],
      "text/plain": [
       "<IPython.core.display.HTML object>"
      ]
     },
     "metadata": {},
     "output_type": "display_data"
    },
    {
     "data": {
      "text/html": [
       "<b>Text-Fabric:</b> <a target=\"_blank\" href=\"https://annotation.github.io/text-fabric/cheatsheet.html\" title=\"text-fabric-api\">Text-Fabric API 8.4.0</a>, <a target=\"_blank\" href=\"https://github.com/annotation/app-bhsa\" title=\"bhsa TF-app\">app-bhsa</a>, <a target=\"_blank\" href=\"https://annotation.github.io/text-fabric/about/searchusage.html\" title=\"Search Templates Introduction and Reference\">Search Reference</a><br><b>Data:</b> <a target=\"_blank\" href=\"https://etcbc.github.io/bhsa/0_home\" title=\"provenance of BHSA = Biblia Hebraica Stuttgartensia Amstelodamensis\">BHSA</a>, <a target=\"_blank\" href=\"https://annotation.github.io/text-fabric/writing/hebrew.html\" title=\"How TF features represent text\">Character table</a>, <a target=\"_blank\" href=\"https://etcbc.github.io/bhsa/features/0_home\" title=\"BHSA feature documentation\">Feature docs</a><br><b>Features:</b><br><details><summary><b>Parallel Passages</b></summary><b><i><a target=\"_blank\" href=\"https://nbviewer.jupyter.org/github/etcbc/parallels/blob/master/programs/parallels.ipynb\" title=\"C:\\Users\\OliverGlanz/text-fabric-data/etcbc/parallels/tf/c/crossref.tf\">crossref</a></i></b><br></details><details><summary><b>BHSA = Biblia Hebraica Stuttgartensia Amstelodamensis</b></summary><a target=\"_blank\" href=\"https://etcbc.github.io/bhsa/features/book\" title=\"C:\\Users\\OliverGlanz/text-fabric-data/etcbc/bhsa/tf/c/book.tf\">book</a><br><a target=\"_blank\" href=\"https://etcbc.github.io/bhsa/features/book@ll\" title=\"C:\\Users\\OliverGlanz/text-fabric-data/etcbc/bhsa/tf/c/book@am.tf\">book@ll</a><br><a target=\"_blank\" href=\"https://etcbc.github.io/bhsa/features/chapter\" title=\"C:\\Users\\OliverGlanz/text-fabric-data/etcbc/bhsa/tf/c/chapter.tf\">chapter</a><br><a target=\"_blank\" href=\"https://etcbc.github.io/bhsa/features/code\" title=\"C:\\Users\\OliverGlanz/text-fabric-data/etcbc/bhsa/tf/c/code.tf\">code</a><br><a target=\"_blank\" href=\"https://etcbc.github.io/bhsa/features/det\" title=\"C:\\Users\\OliverGlanz/text-fabric-data/etcbc/bhsa/tf/c/det.tf\">det</a><br><a target=\"_blank\" href=\"https://etcbc.github.io/bhsa/features/dict_bol_EN\" title=\"C:\\Users\\OliverGlanz/text-fabric-data/etcbc/bhsa/tf/c/dict_bol_EN.tf\">dict_bol_EN</a><br><a target=\"_blank\" href=\"https://etcbc.github.io/bhsa/features/dict_bol_HebArm\" title=\"C:\\Users\\OliverGlanz/text-fabric-data/etcbc/bhsa/tf/c/dict_bol_HebArm.tf\">dict_bol_HebArm</a><br><a target=\"_blank\" href=\"https://etcbc.github.io/bhsa/features/dict_bol_abc\" title=\"C:\\Users\\OliverGlanz/text-fabric-data/etcbc/bhsa/tf/c/dict_bol_abc.tf\">dict_bol_abc</a><br><a target=\"_blank\" href=\"https://etcbc.github.io/bhsa/features/domain\" title=\"C:\\Users\\OliverGlanz/text-fabric-data/etcbc/bhsa/tf/c/domain.tf\">domain</a><br><a target=\"_blank\" href=\"https://etcbc.github.io/bhsa/features/freq_lex\" title=\"C:\\Users\\OliverGlanz/text-fabric-data/etcbc/bhsa/tf/c/freq_lex.tf\">freq_lex</a><br><a target=\"_blank\" href=\"https://etcbc.github.io/bhsa/features/function\" title=\"C:\\Users\\OliverGlanz/text-fabric-data/etcbc/bhsa/tf/c/function.tf\">function</a><br><a target=\"_blank\" href=\"https://etcbc.github.io/bhsa/features/g_cons\" title=\"C:\\Users\\OliverGlanz/text-fabric-data/etcbc/bhsa/tf/c/g_cons.tf\">g_cons</a><br><a target=\"_blank\" href=\"https://etcbc.github.io/bhsa/features/g_cons_utf8\" title=\"C:\\Users\\OliverGlanz/text-fabric-data/etcbc/bhsa/tf/c/g_cons_utf8.tf\">g_cons_utf8</a><br><a target=\"_blank\" href=\"https://etcbc.github.io/bhsa/features/g_lex\" title=\"C:\\Users\\OliverGlanz/text-fabric-data/etcbc/bhsa/tf/c/g_lex.tf\">g_lex</a><br><a target=\"_blank\" href=\"https://etcbc.github.io/bhsa/features/g_lex_utf8\" title=\"C:\\Users\\OliverGlanz/text-fabric-data/etcbc/bhsa/tf/c/g_lex_utf8.tf\">g_lex_utf8</a><br><a target=\"_blank\" href=\"https://etcbc.github.io/bhsa/features/g_word\" title=\"C:\\Users\\OliverGlanz/text-fabric-data/etcbc/bhsa/tf/c/g_word.tf\">g_word</a><br><a target=\"_blank\" href=\"https://etcbc.github.io/bhsa/features/g_word_utf8\" title=\"C:\\Users\\OliverGlanz/text-fabric-data/etcbc/bhsa/tf/c/g_word_utf8.tf\">g_word_utf8</a><br><a target=\"_blank\" href=\"https://etcbc.github.io/bhsa/features/gloss\" title=\"C:\\Users\\OliverGlanz/text-fabric-data/etcbc/bhsa/tf/c/gloss.tf\">gloss</a><br><a target=\"_blank\" href=\"https://etcbc.github.io/bhsa/features/gn\" title=\"C:\\Users\\OliverGlanz/text-fabric-data/etcbc/bhsa/tf/c/gn.tf\">gn</a><br><a target=\"_blank\" href=\"https://etcbc.github.io/bhsa/features/label\" title=\"C:\\Users\\OliverGlanz/text-fabric-data/etcbc/bhsa/tf/c/label.tf\">label</a><br><a target=\"_blank\" href=\"https://etcbc.github.io/bhsa/features/language\" title=\"C:\\Users\\OliverGlanz/text-fabric-data/etcbc/bhsa/tf/c/language.tf\">language</a><br><a target=\"_blank\" href=\"https://etcbc.github.io/bhsa/features/lex\" title=\"C:\\Users\\OliverGlanz/text-fabric-data/etcbc/bhsa/tf/c/lex.tf\">lex</a><br><a target=\"_blank\" href=\"https://etcbc.github.io/bhsa/features/lex_utf8\" title=\"C:\\Users\\OliverGlanz/text-fabric-data/etcbc/bhsa/tf/c/lex_utf8.tf\">lex_utf8</a><br><a target=\"_blank\" href=\"https://etcbc.github.io/bhsa/features/ls\" title=\"C:\\Users\\OliverGlanz/text-fabric-data/etcbc/bhsa/tf/c/ls.tf\">ls</a><br><a target=\"_blank\" href=\"https://etcbc.github.io/bhsa/features/nametype\" title=\"C:\\Users\\OliverGlanz/text-fabric-data/etcbc/bhsa/tf/c/nametype.tf\">nametype</a><br><a target=\"_blank\" href=\"https://etcbc.github.io/bhsa/features/nme\" title=\"C:\\Users\\OliverGlanz/text-fabric-data/etcbc/bhsa/tf/c/nme.tf\">nme</a><br><a target=\"_blank\" href=\"https://etcbc.github.io/bhsa/features/nu\" title=\"C:\\Users\\OliverGlanz/text-fabric-data/etcbc/bhsa/tf/c/nu.tf\">nu</a><br><a target=\"_blank\" href=\"https://etcbc.github.io/bhsa/features/number\" title=\"C:\\Users\\OliverGlanz/text-fabric-data/etcbc/bhsa/tf/c/number.tf\">number</a><br><a target=\"_blank\" href=\"https://etcbc.github.io/bhsa/features/otype\" title=\"C:\\Users\\OliverGlanz/text-fabric-data/etcbc/bhsa/tf/c/otype.tf\">otype</a><br><a target=\"_blank\" href=\"https://etcbc.github.io/bhsa/features/pargr\" title=\"C:\\Users\\OliverGlanz/text-fabric-data/etcbc/bhsa/tf/c/pargr.tf\">pargr</a><br><a target=\"_blank\" href=\"https://etcbc.github.io/bhsa/features/pdp\" title=\"C:\\Users\\OliverGlanz/text-fabric-data/etcbc/bhsa/tf/c/pdp.tf\">pdp</a><br><a target=\"_blank\" href=\"https://etcbc.github.io/bhsa/features/pfm\" title=\"C:\\Users\\OliverGlanz/text-fabric-data/etcbc/bhsa/tf/c/pfm.tf\">pfm</a><br><a target=\"_blank\" href=\"https://etcbc.github.io/bhsa/features/prs\" title=\"C:\\Users\\OliverGlanz/text-fabric-data/etcbc/bhsa/tf/c/prs.tf\">prs</a><br><a target=\"_blank\" href=\"https://etcbc.github.io/bhsa/features/prs_gn\" title=\"C:\\Users\\OliverGlanz/text-fabric-data/etcbc/bhsa/tf/c/prs_gn.tf\">prs_gn</a><br><a target=\"_blank\" href=\"https://etcbc.github.io/bhsa/features/prs_nu\" title=\"C:\\Users\\OliverGlanz/text-fabric-data/etcbc/bhsa/tf/c/prs_nu.tf\">prs_nu</a><br><a target=\"_blank\" href=\"https://etcbc.github.io/bhsa/features/prs_ps\" title=\"C:\\Users\\OliverGlanz/text-fabric-data/etcbc/bhsa/tf/c/prs_ps.tf\">prs_ps</a><br><a target=\"_blank\" href=\"https://etcbc.github.io/bhsa/features/ps\" title=\"C:\\Users\\OliverGlanz/text-fabric-data/etcbc/bhsa/tf/c/ps.tf\">ps</a><br><a target=\"_blank\" href=\"https://etcbc.github.io/bhsa/features/qere\" title=\"C:\\Users\\OliverGlanz/text-fabric-data/etcbc/bhsa/tf/c/qere.tf\">qere</a><br><a target=\"_blank\" href=\"https://etcbc.github.io/bhsa/features/qere_trailer\" title=\"C:\\Users\\OliverGlanz/text-fabric-data/etcbc/bhsa/tf/c/qere_trailer.tf\">qere_trailer</a><br><a target=\"_blank\" href=\"https://etcbc.github.io/bhsa/features/qere_trailer_utf8\" title=\"C:\\Users\\OliverGlanz/text-fabric-data/etcbc/bhsa/tf/c/qere_trailer_utf8.tf\">qere_trailer_utf8</a><br><a target=\"_blank\" href=\"https://etcbc.github.io/bhsa/features/qere_utf8\" title=\"C:\\Users\\OliverGlanz/text-fabric-data/etcbc/bhsa/tf/c/qere_utf8.tf\">qere_utf8</a><br><a target=\"_blank\" href=\"https://etcbc.github.io/bhsa/features/rank_lex\" title=\"C:\\Users\\OliverGlanz/text-fabric-data/etcbc/bhsa/tf/c/rank_lex.tf\">rank_lex</a><br><a target=\"_blank\" href=\"https://etcbc.github.io/bhsa/features/rela\" title=\"C:\\Users\\OliverGlanz/text-fabric-data/etcbc/bhsa/tf/c/rela.tf\">rela</a><br><a target=\"_blank\" href=\"https://etcbc.github.io/bhsa/features/sp\" title=\"C:\\Users\\OliverGlanz/text-fabric-data/etcbc/bhsa/tf/c/sp.tf\">sp</a><br><a target=\"_blank\" href=\"https://etcbc.github.io/bhsa/features/st\" title=\"C:\\Users\\OliverGlanz/text-fabric-data/etcbc/bhsa/tf/c/st.tf\">st</a><br><a target=\"_blank\" href=\"https://etcbc.github.io/bhsa/features/tab\" title=\"C:\\Users\\OliverGlanz/text-fabric-data/etcbc/bhsa/tf/c/tab.tf\">tab</a><br><a target=\"_blank\" href=\"https://etcbc.github.io/bhsa/features/trailer\" title=\"C:\\Users\\OliverGlanz/text-fabric-data/etcbc/bhsa/tf/c/trailer.tf\">trailer</a><br><a target=\"_blank\" href=\"https://etcbc.github.io/bhsa/features/trailer_utf8\" title=\"C:\\Users\\OliverGlanz/text-fabric-data/etcbc/bhsa/tf/c/trailer_utf8.tf\">trailer_utf8</a><br><a target=\"_blank\" href=\"https://etcbc.github.io/bhsa/features/txt\" title=\"C:\\Users\\OliverGlanz/text-fabric-data/etcbc/bhsa/tf/c/txt.tf\">txt</a><br><a target=\"_blank\" href=\"https://etcbc.github.io/bhsa/features/typ\" title=\"C:\\Users\\OliverGlanz/text-fabric-data/etcbc/bhsa/tf/c/typ.tf\">typ</a><br><a target=\"_blank\" href=\"https://etcbc.github.io/bhsa/features/uvf\" title=\"C:\\Users\\OliverGlanz/text-fabric-data/etcbc/bhsa/tf/c/uvf.tf\">uvf</a><br><a target=\"_blank\" href=\"https://etcbc.github.io/bhsa/features/vbe\" title=\"C:\\Users\\OliverGlanz/text-fabric-data/etcbc/bhsa/tf/c/vbe.tf\">vbe</a><br><a target=\"_blank\" href=\"https://etcbc.github.io/bhsa/features/vbs\" title=\"C:\\Users\\OliverGlanz/text-fabric-data/etcbc/bhsa/tf/c/vbs.tf\">vbs</a><br><a target=\"_blank\" href=\"https://etcbc.github.io/bhsa/features/vc_bol\" title=\"C:\\Users\\OliverGlanz/text-fabric-data/etcbc/bhsa/tf/c/vc_bol.tf\">vc_bol</a><br><a target=\"_blank\" href=\"https://etcbc.github.io/bhsa/features/verse\" title=\"C:\\Users\\OliverGlanz/text-fabric-data/etcbc/bhsa/tf/c/verse.tf\">verse</a><br><a target=\"_blank\" href=\"https://etcbc.github.io/bhsa/features/voc_lex\" title=\"C:\\Users\\OliverGlanz/text-fabric-data/etcbc/bhsa/tf/c/voc_lex.tf\">voc_lex</a><br><a target=\"_blank\" href=\"https://etcbc.github.io/bhsa/features/voc_lex_utf8\" title=\"C:\\Users\\OliverGlanz/text-fabric-data/etcbc/bhsa/tf/c/voc_lex_utf8.tf\">voc_lex_utf8</a><br><a target=\"_blank\" href=\"https://etcbc.github.io/bhsa/features/vs\" title=\"C:\\Users\\OliverGlanz/text-fabric-data/etcbc/bhsa/tf/c/vs.tf\">vs</a><br><a target=\"_blank\" href=\"https://etcbc.github.io/bhsa/features/vt\" title=\"C:\\Users\\OliverGlanz/text-fabric-data/etcbc/bhsa/tf/c/vt.tf\">vt</a><br><b><i><a target=\"_blank\" href=\"https://etcbc.github.io/bhsa/features/mother\" title=\"C:\\Users\\OliverGlanz/text-fabric-data/etcbc/bhsa/tf/c/mother.tf\">mother</a></i></b><br><b><i><a target=\"_blank\" href=\"https://etcbc.github.io/bhsa/features/oslots\" title=\"C:\\Users\\OliverGlanz/text-fabric-data/etcbc/bhsa/tf/c/oslots.tf\">oslots</a></i></b><br></details><details><summary><b>Phonetic Transcriptions</b></summary><a target=\"_blank\" href=\"https://nbviewer.jupyter.org/github/etcbc/phono/blob/master/programs/phono.ipynb\" title=\"C:\\Users\\OliverGlanz/text-fabric-data/etcbc/phono/tf/c/phono.tf\">phono</a><br><a target=\"_blank\" href=\"https://nbviewer.jupyter.org/github/etcbc/phono/blob/master/programs/phono.ipynb\" title=\"C:\\Users\\OliverGlanz/text-fabric-data/etcbc/phono/tf/c/phono_trailer.tf\">phono_trailer</a><br></details>"
      ],
      "text/plain": [
       "<IPython.core.display.HTML object>"
      ]
     },
     "metadata": {},
     "output_type": "display_data"
    },
    {
     "data": {
      "text/html": [
       "<style>tr.tf.ltr, td.tf.ltr, th.tf.ltr { text-align: left ! important;}\n",
       "tr.tf.rtl, td.tf.rtl, th.tf.rtl { text-align: right ! important;}\n",
       "@font-face {\n",
       "  font-family: \"Gentium Plus\";\n",
       "  src: local('Gentium Plus'), local('GentiumPlus'),\n",
       "    url('/server/static/fonts/GentiumPlus-R.woff') format('woff'),\n",
       "    url('https://github.com/annotation/text-fabric/blob/master/tf/server/static/fonts/GentiumPlus-R.woff?raw=true') format('woff');\n",
       "}\n",
       "\n",
       "@font-face {\n",
       "  font-family: \"Ezra SIL\";\n",
       "  src: local('Ezra SIL'), local('EzraSIL'),\n",
       "    url('/server/static/fonts/SILEOT.woff') format('woff'),\n",
       "    url('https://github.com/annotation/text-fabric/blob/master/tf/server/static/fonts/SILEOT.woff?raw=true') format('woff');\n",
       "}\n",
       "\n",
       "@font-face {\n",
       "  font-family: \"SBL Hebrew\";\n",
       "  src: local('SBL Hebrew'), local('SBLHebrew'),\n",
       "    url('/server/static/fonts/SBL_Hbrw.woff') format('woff'),\n",
       "    url('https://github.com/annotation/text-fabric/blob/master/tf/server/static/fonts/SBL_Hbrw.woff?raw=true') format('woff');\n",
       "}\n",
       "\n",
       "@font-face {\n",
       "  font-family: \"Estrangelo Edessa\";\n",
       "  src: local('Estrangelo Edessa'), local('EstrangeloEdessa');\n",
       "    url('/server/static/fonts/SyrCOMEdessa.woff') format('woff'),\n",
       "    url('https://github.com/annotation/text-fabric/blob/master/tf/server/static/fonts/SyrCOMEdessa.woff?raw=true') format('woff');\n",
       "}\n",
       "\n",
       "@font-face {\n",
       "  font-family: AmiriQuran;\n",
       "  font-style: normal;\n",
       "  font-weight: 400;\n",
       "  src: local('Amiri Quran'), local('AmiriQuran'),\n",
       "    url('/server/static/fonts/AmiriQuran.woff') format('woff'),\n",
       "    url('https://github.com/annotation/text-fabric/blob/master/tf/server/static/fonts/AmiriQuran.woff?raw=true') format('woff');\n",
       "}\n",
       "\n",
       "@font-face {\n",
       "  font-family: AmiriQuranColored;\n",
       "  font-style: normal;\n",
       "  font-weight: 400;\n",
       "  src: local('Amiri Quran Colored'), local('AmiriQuranColored'),\n",
       "    url('/server/static/fonts/AmiriQuranColored.woff') format('woff'),\n",
       "    url('https://github.com/annotation/text-fabric/blob/master/tf/server/static/fonts/AmiriQuranColored.woff?raw=true') format('woff');\n",
       "}\n",
       "\n",
       "@font-face {\n",
       "  font-family: \"Santakku\";\n",
       "  src: local('Santakku'),\n",
       "    url('/server/static/fonts/Santakku.woff') format('woff'),\n",
       "    url('https://github.com/annotation/text-fabric/blob/master/tf/server/static/fonts/Santakku.woff?raw=true') format('woff');\n",
       "}\n",
       "\n",
       "@font-face {\n",
       "  font-family: \"SantakkuM\";\n",
       "  src: local('SantakkuM'),\n",
       "    url('/server/static/fonts/SantakkuM.woff') format('woff'),\n",
       "    url('https://github.com/annotation/text-fabric/blob/master/tf/server/static/fonts/SantakkuM.woff?raw=true') format('woff');\n",
       "}\n",
       "/* bypassing some classical notebook settings */\n",
       "div#notebook {\n",
       "  line-height: unset;\n",
       "}\n",
       "/* neutral text */\n",
       ".txtn,.txtn a:visited,.txtn a:link {\n",
       "    font-family: sans-serif;\n",
       "    font-size: medium;\n",
       "    direction: ltr;\n",
       "    text-decoration: none;\n",
       "    color: var(--text-color);\n",
       "}\n",
       "/* transcription text */\n",
       ".txtt,.txtt a:visited,.txtt a:link {\n",
       "    font-family: monospace;\n",
       "    font-size: medium;\n",
       "    direction: ltr;\n",
       "    text-decoration: none;\n",
       "    color: var(--text-color);\n",
       "}\n",
       "/* source text */\n",
       ".txto,.txto a:visited,.txto a:link {\n",
       "    font-family: serif;\n",
       "    font-size: medium;\n",
       "    direction: ltr;\n",
       "    text-decoration: none;\n",
       "    color: var(--text-color);\n",
       "}\n",
       "/* phonetic text */\n",
       ".txtp,.txtp a:visited,.txtp a:link {\n",
       "    font-family: Gentium, sans-serif;\n",
       "    font-size: medium;\n",
       "    direction: ltr;\n",
       "    text-decoration: none;\n",
       "    color: var(--text-color);\n",
       "}\n",
       "/* original script text */\n",
       ".txtu,.txtu a:visited,.txtu a:link {\n",
       "    font-family: Gentium, sans-serif;\n",
       "    font-size: medium;\n",
       "    text-decoration: none;\n",
       "    color: var(--text-color);\n",
       "}\n",
       "/* hebrew */\n",
       ".txtu.hbo,.lex.hbo {\n",
       "    font-family: \"Ezra SIL\", \"SBL Hebrew\", sans-serif;\n",
       "    font-size: large;\n",
       "    direction: rtl ! important;\n",
       "    unicode-bidi: embed;\n",
       "}\n",
       "/* syriac */\n",
       ".txtu.syc,.lex.syc {\n",
       "    font-family: \"Estrangelo Edessa\", sans-serif;\n",
       "    font-size: medium;\n",
       "    direction: rtl ! important;\n",
       "    unicode-bidi: embed;\n",
       "}\n",
       "/* neo aramaic */\n",
       ".txtu.cld,.lex.cld {\n",
       "    font-family: \"CharisSIL-R\", sans-serif;\n",
       "    font-size: medium;\n",
       "    direction: ltr ! important;\n",
       "    unicode-bidi: embed;\n",
       "}\n",
       "/* standard arabic */\n",
       ".txtu.ara,.lex.ara {\n",
       "    font-family: \"AmiriQuran\", sans-serif;\n",
       "    font-size: large;\n",
       "    direction: rtl ! important;\n",
       "    unicode-bidi: embed;\n",
       "}\n",
       "/* cuneiform */\n",
       ".txtu.akk,.lex.akk {\n",
       "    font-family: Santakku, sans-serif;\n",
       "    font-size: large;\n",
       "    direction: ltr ! important;\n",
       "    unicode-bidi: embed;\n",
       "}\n",
       "/* greek */\n",
       ".txtu.grc,.lex.grc a:link {\n",
       "    font-family: Gentium, sans-serif;\n",
       "    font-size: medium;\n",
       "    direction: ltr ! important;\n",
       "    unicode-bidi: embed;\n",
       "}\n",
       "a:hover {\n",
       "    text-decoration: underline | important;\n",
       "    color: #0000ff | important;\n",
       "}\n",
       ".ltr {\n",
       "    direction: ltr ! important;\n",
       "}\n",
       ".rtl {\n",
       "    direction: rtl ! important;\n",
       "}\n",
       ".features {\n",
       "    font-family: monospace;\n",
       "    font-size: medium;\n",
       "    font-weight: bold;\n",
       "    color: var(--features);\n",
       "    display: flex;\n",
       "    flex-flow: column nowrap;\n",
       "    justify-content: flex-start;\n",
       "    align-items: flex-start;\n",
       "    align-content: flex-start;\n",
       "    padding: 0.1rem;\n",
       "    margin: 0.1rem;\n",
       "    direction: ltr;\n",
       "    border: var(--meta-width) solid var(--meta-color);\n",
       "    border-radius: var(--meta-width);\n",
       "}\n",
       ".features div,.features span {\n",
       "    padding: 0;\n",
       "    margin: -0.1rem 0;\n",
       "}\n",
       ".features .f {\n",
       "    font-family: sans-serif;\n",
       "    font-size: small;\n",
       "    font-weight: normal;\n",
       "    color: #5555bb;\n",
       "}\n",
       ".features .xft {\n",
       "  color: #000000;\n",
       "  background-color: #eeeeee;\n",
       "  font-size: medium;\n",
       "  margin: 0.1rem 0rem;\n",
       "}\n",
       ".features .xft .f {\n",
       "  color: #000000;\n",
       "  background-color: #eeeeee;\n",
       "  font-size: small;\n",
       "  font-weight: normal;\n",
       "}\n",
       ".section {\n",
       "    font-family: sans-serif;\n",
       "    font-size: small;\n",
       "    font-weight: bold;\n",
       "    color: var(--section);\n",
       "    unicode-bidi: embed;\n",
       "    text-align: start;\n",
       "}\n",
       ".structure {\n",
       "    font-family: sans-serif;\n",
       "    font-size: small;\n",
       "    font-weight: bold;\n",
       "    color: var(--structure);\n",
       "    unicode-bidi: embed;\n",
       "    text-align: start;\n",
       "}\n",
       ".comments {\n",
       "    display: flex;\n",
       "    justify-content: flex-start;\n",
       "    align-items: flex-start;\n",
       "    align-content: flex-start;\n",
       "    flex-flow: column nowrap;\n",
       "}\n",
       ".nd, a:link.nd {\n",
       "    font-family: sans-serif;\n",
       "    font-size: small;\n",
       "    color: var(--node);\n",
       "    vertical-align: super;\n",
       "    direction: ltr ! important;\n",
       "    unicode-bidi: embed;\n",
       "}\n",
       ".lex {\n",
       "  color: var(--lex-color);;\n",
       "}\n",
       ".children,.children.ltr {\n",
       "    display: flex;\n",
       "    border: 0;\n",
       "    background-color: #ffffff;\n",
       "    justify-content: flex-start;\n",
       "    align-items: flex-start;\n",
       "    align-content: flex-start;\n",
       "}\n",
       ".children.stretch {\n",
       "    align-items: stretch;\n",
       "}\n",
       ".children.hor {\n",
       "    flex-flow: row nowrap;\n",
       "}\n",
       ".children.hor.wrap {\n",
       "    flex-flow: row wrap;\n",
       "}\n",
       ".children.ver {\n",
       "    flex-flow: column nowrap;\n",
       "}\n",
       ".children.ver.wrap {\n",
       "    flex-flow: column wrap;\n",
       "}\n",
       ".contnr {\n",
       "    width: fit-content;\n",
       "    display: flex;\n",
       "    justify-content: flex-start;\n",
       "    align-items: flex-start;\n",
       "    align-content: flex-start;\n",
       "    flex-flow: column nowrap;\n",
       "    background: #ffffff none repeat scroll 0 0;\n",
       "    padding:  0.5rem 0.1rem 0.1rem 0.1rem;\n",
       "    margin: 0.8rem 0.1rem 0.1rem 0.1rem;\n",
       "    border-style: solid;\n",
       "    font-size: small;\n",
       "}\n",
       ".contnr.trm {\n",
       "    background-attachment: local;\n",
       "}\n",
       ".contnr.cnul {\n",
       "    padding:  0;\n",
       "    margin: 0;\n",
       "    border-style: solid;\n",
       "    font-size: xx-small;\n",
       "}\n",
       ".contnr.cnul,.lbl.cnul {\n",
       "    border-color: var(--border-color-nul);\n",
       "    border-width: var(--border-width-nul);\n",
       "    border-radius: var(--border-width-nul);\n",
       "}\n",
       ".contnr.c0,.lbl.c0 {\n",
       "    border-color: var(--border-color0);\n",
       "    border-width: var(--border-width0);\n",
       "    border-radius: var(--border-width0);\n",
       "}\n",
       ".contnr.c1,.lbl.c1 {\n",
       "    border-color: var(--border-color1);\n",
       "    border-width: var(--border-width1);\n",
       "    border-radius: var(--border-width1);\n",
       "}\n",
       ".contnr.c2,.lbl.c2 {\n",
       "    border-color: var(--border-color2);\n",
       "    border-width: var(--border-width2);\n",
       "    border-radius: var(--border-width2);\n",
       "}\n",
       ".contnr.c3,.lbl.c3 {\n",
       "    border-color: var(--border-color3);\n",
       "    border-width: var(--border-width3);\n",
       "    border-radius: var(--border-width3);\n",
       "}\n",
       ".contnr.c4,.lbl.c4 {\n",
       "    border-color: var(--border-color4);\n",
       "    border-width: var(--border-width4);\n",
       "    border-radius: var(--border-width4);\n",
       "}\n",
       "span.plain {\n",
       "    display: inline-block;\n",
       "    white-space: pre-wrap;\n",
       "}\n",
       ".plain {\n",
       "    background-color: #ffffff;\n",
       "}\n",
       ".plain.l,.contnr.l,.contnr.l>.lbl {\n",
       "    border-left-style: dotted\n",
       "}\n",
       ".plain.r,.contnr.r,.contnr.r>.lbl {\n",
       "    border-right-style: dotted\n",
       "}\n",
       ".plain.lno,.contnr.lno,.contnr.lno>.lbl {\n",
       "    border-left-style: none\n",
       "}\n",
       ".plain.rno,.contnr.rno,.contnr.rno>.lbl {\n",
       "    border-right-style: none\n",
       "}\n",
       ".plain.l {\n",
       "    padding-left: 0.2rem;\n",
       "    margin-left: 0.1rem;\n",
       "    border-width: var(--border-width-plain);\n",
       "}\n",
       ".plain.r {\n",
       "    padding-right: 0.2rem;\n",
       "    margin-right: 0.1rem;\n",
       "    border-width: var(--border-width-plain);\n",
       "}\n",
       ".lbl {\n",
       "    font-family: monospace;\n",
       "    margin-top: -1.2rem;\n",
       "    margin-left: 1rem;\n",
       "    background: #ffffff none repeat scroll 0 0;\n",
       "    padding: 0 0.3rem;\n",
       "    border-style: solid;\n",
       "    display: block;\n",
       "    color: var(--label)\n",
       "}\n",
       ".lbl.trm {\n",
       "    background-attachment: local;\n",
       "    margin-top: 0.1rem;\n",
       "    margin-left: 0.1rem;\n",
       "    padding: 0.1rem 0.1rem;\n",
       "    border-style: none;\n",
       "}\n",
       ".lbl.cnul {\n",
       "    font-size: xx-small;\n",
       "}\n",
       ".lbl.c0 {\n",
       "    font-size: small;\n",
       "}\n",
       ".lbl.c1 {\n",
       "    font-size: small;\n",
       "}\n",
       ".lbl.c2 {\n",
       "    font-size: medium;\n",
       "}\n",
       ".lbl.c3 {\n",
       "    font-size: medium;\n",
       "}\n",
       ".lbl.c4 {\n",
       "    font-size: large;\n",
       "}\n",
       ".occs, a:link.occs {\n",
       "    font-size: small;\n",
       "}\n",
       "\n",
       "/* PROVENANCE */\n",
       "\n",
       "div.prov {\n",
       "\tmargin: 2rem;\n",
       "\tpadding: 1rem;\n",
       "\tborder: 0.1rem solid var(--fog-rim);\n",
       "}\n",
       "div.pline {\n",
       "\tdisplay: flex;\n",
       "\tflex-flow: row nowrap;\n",
       "\tjustify-content: stretch;\n",
       "\talign-items: baseline;\n",
       "}\n",
       "div.p2line {\n",
       "\tmargin-left: 2em;\n",
       "\tdisplay: flex;\n",
       "\tflex-flow: row nowrap;\n",
       "\tjustify-content: stretch;\n",
       "\talign-items: baseline;\n",
       "}\n",
       "div.psline {\n",
       "\tdisplay: flex;\n",
       "\tflex-flow: row nowrap;\n",
       "\tjustify-content: stretch;\n",
       "\talign-items: baseline;\n",
       "\tbackground-color: var(--gold-mist-back);\n",
       "}\n",
       "div.pname {\n",
       "\tflex: 0 0 5rem;\n",
       "\tfont-weight: bold;\n",
       "}\n",
       "div.pval {\n",
       "    flex: 1 1 auto;\n",
       "}\n",
       "\n",
       ":root {\n",
       "\t--node:               hsla(120, 100%,  20%, 1.0  );\n",
       "\t--label:              hsla(  0, 100%,  20%, 1.0  );\n",
       "\t--section:            hsla(  0, 100%,  25%, 1.0  );\n",
       "\t--structure:          hsla(120, 100%,  25%, 1.0  );\n",
       "\t--features:           hsla(  0,   0%,  30%, 1.0  );\n",
       "  --text-color:         hsla( 60,  80%,  10%, 1.0  );\n",
       "  --lex-color:          hsla(220,  90%,  60%, 1.0  );\n",
       "  --meta-color:         hsla(  0,   0%,  90%, 0.7  );\n",
       "  --meta-width:         0.15rem;\n",
       "  --border-color-nul:   hsla(  0,   0%,  90%, 0.5  );\n",
       "  --border-color0:      hsla(  0,   0%,  90%, 0.9  );\n",
       "  --border-color1:      hsla(  0,   0%,  80%, 0.9  );\n",
       "  --border-color2:      hsla(  0,   0%,  70%, 0.9  );\n",
       "  --border-color3:      hsla(  0,   0%,  80%, 0.8  );\n",
       "  --border-color4:      hsla(  0,   0%,  60%, 0.9  );\n",
       "  --border-width-nul:   0.1rem;\n",
       "  --border-width0:      0.1rem;\n",
       "  --border-width1:      0.15rem;\n",
       "  --border-width2:      0.2rem;\n",
       "  --border-width3:      0.3rem;\n",
       "  --border-width4:      0.25rem;\n",
       "  --border-width-plain: 0.1rem;\n",
       "}\n",
       ".hl {\n",
       "  background-color: var(--hl-strong);\n",
       "}\n",
       "span.hl {\n",
       "\tbackground-color: var(--hl-strong);\n",
       "\tborder-width: 0;\n",
       "\tborder-radius: 0.1rem;\n",
       "\tborder-style: solid;\n",
       "}\n",
       "div.contnr.hl,div.lbl.hl {\n",
       "  background-color: var(--hl-strong);\n",
       "}\n",
       "div.contnr.hl {\n",
       "  border-color: var(--hl-rim) ! important;\n",
       "\tborder-width: 0.2rem ! important;\n",
       "}\n",
       "\n",
       "span.hlbx {\n",
       "\tborder-color: var(--hl-rim);\n",
       "\tborder-width: 0.2rem ! important;\n",
       "\tborder-style: solid;\n",
       "\tborder-radius: 0.3rem;\n",
       "  padding: 0.2rem;\n",
       "  margin: 0.2rem;\n",
       "}\n",
       "\n",
       "span.plain {\n",
       "  display: inline-block;\n",
       "  white-space: pre-wrap;\n",
       "}\n",
       "\n",
       ":root {\n",
       "\t--hl-strong:        hsla( 60, 100%,  70%, 0.9  );\n",
       "\t--hl-rim:           hsla( 55,  80%,  50%, 1.0  );\n",
       "}\n",
       "</style>"
      ],
      "text/plain": [
       "<IPython.core.display.HTML object>"
      ]
     },
     "metadata": {},
     "output_type": "display_data"
    },
    {
     "data": {
      "text/html": [
       "<div><b>Text-Fabric API:</b> names <a target=\"_blank\" href=\"https://annotation.github.io/text-fabric/cheatsheet.html\" title=\"doc\">N F E L T S C TF</a> directly usable</div><hr>"
      ],
      "text/plain": [
       "<IPython.core.display.HTML object>"
      ]
     },
     "metadata": {},
     "output_type": "display_data"
    }
   ],
   "source": [
    "# Now we load the TF bhsa database\n",
    "BHS = use('bhsa', hoist=globals())"
   ]
  },
  {
   "cell_type": "code",
   "execution_count": 3,
   "metadata": {},
   "outputs": [
    {
     "data": {
      "text/html": [
       "<b title=\"local release\">TF-app:</b> <span title=\"rv2.3.1=#87b0d7fca84918f8d0fd664618e5e3370a46d08c offline under ~/text-fabric-data\">C:\\Users\\OliverGlanz/text-fabric-data/annotation/app-tisch/code</span>"
      ],
      "text/plain": [
       "<IPython.core.display.HTML object>"
      ]
     },
     "metadata": {},
     "output_type": "display_data"
    },
    {
     "data": {
      "text/html": [
       "<b title=\"local release\">data:</b> <span title=\"rv.1.12=#c8a8b8c0d9f1746f050f4da0a3e0421835b378df offline under ~/text-fabric-data\">C:\\Users\\OliverGlanz/text-fabric-data/codykingham/tischendorf_tf/tf/2.8</span>"
      ],
      "text/plain": [
       "<IPython.core.display.HTML object>"
      ]
     },
     "metadata": {},
     "output_type": "display_data"
    },
    {
     "data": {
      "text/html": [
       "<b>Text-Fabric:</b> <a target=\"_blank\" href=\"https://annotation.github.io/text-fabric/cheatsheet.html\" title=\"text-fabric-api\">Text-Fabric API 8.4.0</a>, <a target=\"_blank\" href=\"https://github.com/annotation/app-tisch\" title=\"tisch TF-app\">app-tisch</a>, <a target=\"_blank\" href=\"https://annotation.github.io/text-fabric/about/searchusage.html\" title=\"Search Templates Introduction and Reference\">Search Reference</a><br><b>Data:</b> <a target=\"_blank\" href=\"https://github.com/codykingham/tischendorf_tf/blob/master/docs/features.md\" title=\"provenance of Tischendorf's 8th New Testament\">TISCHENDORF_TF</a>, <a target=\"_blank\" href=\"https://annotation.github.io/text-fabric/writing/greek.html\" title=\"How TF features represent text\">Character table</a>, <a target=\"_blank\" href=\"https://github.com/codykingham/tischendorf_tf/blob/master/docs/features.md#features\" title=\"TISCHENDORF_TF feature documentation\">Feature docs</a><br><b>Features:</b><br><details><summary><b>Tischendorf's 8th New Testament</b></summary><a target=\"_blank\" href=\"https://github.com/codykingham/tischendorf_tf/blob/master/docs/features.md#anlex_lem\" title=\"C:\\Users\\OliverGlanz/text-fabric-data/codykingham/tischendorf_tf/tf/2.8/anlex_lem.tf\">anlex_lem</a><br><a target=\"_blank\" href=\"https://github.com/codykingham/tischendorf_tf/blob/master/docs/features.md#book\" title=\"C:\\Users\\OliverGlanz/text-fabric-data/codykingham/tischendorf_tf/tf/2.8/book.tf\">book</a><br><a target=\"_blank\" href=\"https://github.com/codykingham/tischendorf_tf/blob/master/docs/features.md#book_code\" title=\"C:\\Users\\OliverGlanz/text-fabric-data/codykingham/tischendorf_tf/tf/2.8/book_code.tf\">book_code</a><br><a target=\"_blank\" href=\"https://github.com/codykingham/tischendorf_tf/blob/master/docs/features.md#case\" title=\"C:\\Users\\OliverGlanz/text-fabric-data/codykingham/tischendorf_tf/tf/2.8/case.tf\">case</a><br><a target=\"_blank\" href=\"https://github.com/codykingham/tischendorf_tf/blob/master/docs/features.md#chapter\" title=\"C:\\Users\\OliverGlanz/text-fabric-data/codykingham/tischendorf_tf/tf/2.8/chapter.tf\">chapter</a><br><a target=\"_blank\" href=\"https://github.com/codykingham/tischendorf_tf/blob/master/docs/features.md#freq_lex\" title=\"C:\\Users\\OliverGlanz/text-fabric-data/codykingham/tischendorf_tf/tf/2.8/freq_lex.tf\">freq_lex</a><br><a target=\"_blank\" href=\"https://github.com/codykingham/tischendorf_tf/blob/master/docs/features.md#freq_lex_og\" title=\"C:\\Users\\OliverGlanz/text-fabric-data/codykingham/tischendorf_tf/tf/2.8/freq_lex_og.tf\">freq_lex_og</a><br><a target=\"_blank\" href=\"https://github.com/codykingham/tischendorf_tf/blob/master/docs/features.md#gloss\" title=\"C:\\Users\\OliverGlanz/text-fabric-data/codykingham/tischendorf_tf/tf/2.8/gloss.tf\">gloss</a><br><a target=\"_blank\" href=\"https://github.com/codykingham/tischendorf_tf/blob/master/docs/features.md#gn\" title=\"C:\\Users\\OliverGlanz/text-fabric-data/codykingham/tischendorf_tf/tf/2.8/gn.tf\">gn</a><br><a target=\"_blank\" href=\"https://github.com/codykingham/tischendorf_tf/blob/master/docs/features.md#ketiv\" title=\"C:\\Users\\OliverGlanz/text-fabric-data/codykingham/tischendorf_tf/tf/2.8/ketiv.tf\">ketiv</a><br><a target=\"_blank\" href=\"https://github.com/codykingham/tischendorf_tf/blob/master/docs/features.md#lex_abc\" title=\"C:\\Users\\OliverGlanz/text-fabric-data/codykingham/tischendorf_tf/tf/2.8/lex_abc.tf\">lex_abc</a><br><a target=\"_blank\" href=\"https://github.com/codykingham/tischendorf_tf/blob/master/docs/features.md#lex_og\" title=\"C:\\Users\\OliverGlanz/text-fabric-data/codykingham/tischendorf_tf/tf/2.8/lex_og.tf\">lex_og</a><br><a target=\"_blank\" href=\"https://github.com/codykingham/tischendorf_tf/blob/master/docs/features.md#mood\" title=\"C:\\Users\\OliverGlanz/text-fabric-data/codykingham/tischendorf_tf/tf/2.8/mood.tf\">mood</a><br><a target=\"_blank\" href=\"https://github.com/codykingham/tischendorf_tf/blob/master/docs/features.md#morph\" title=\"C:\\Users\\OliverGlanz/text-fabric-data/codykingham/tischendorf_tf/tf/2.8/morph.tf\">morph</a><br><a target=\"_blank\" href=\"https://github.com/codykingham/tischendorf_tf/blob/master/docs/features.md#nountype\" title=\"C:\\Users\\OliverGlanz/text-fabric-data/codykingham/tischendorf_tf/tf/2.8/nountype.tf\">nountype</a><br><a target=\"_blank\" href=\"https://github.com/codykingham/tischendorf_tf/blob/master/docs/features.md#nu\" title=\"C:\\Users\\OliverGlanz/text-fabric-data/codykingham/tischendorf_tf/tf/2.8/nu.tf\">nu</a><br><a target=\"_blank\" href=\"https://github.com/codykingham/tischendorf_tf/blob/master/docs/features.md#originterrdiff\" title=\"C:\\Users\\OliverGlanz/text-fabric-data/codykingham/tischendorf_tf/tf/2.8/originterrdiff.tf\">originterrdiff</a><br><a target=\"_blank\" href=\"https://github.com/codykingham/tischendorf_tf/blob/master/docs/features.md#otype\" title=\"C:\\Users\\OliverGlanz/text-fabric-data/codykingham/tischendorf_tf/tf/2.8/otype.tf\">otype</a><br><a target=\"_blank\" href=\"https://github.com/codykingham/tischendorf_tf/blob/master/docs/features.md#para\" title=\"C:\\Users\\OliverGlanz/text-fabric-data/codykingham/tischendorf_tf/tf/2.8/para.tf\">para</a><br><a target=\"_blank\" href=\"https://github.com/codykingham/tischendorf_tf/blob/master/docs/features.md#prntyp\" title=\"C:\\Users\\OliverGlanz/text-fabric-data/codykingham/tischendorf_tf/tf/2.8/prntyp.tf\">prntyp</a><br><a target=\"_blank\" href=\"https://github.com/codykingham/tischendorf_tf/blob/master/docs/features.md#ps\" title=\"C:\\Users\\OliverGlanz/text-fabric-data/codykingham/tischendorf_tf/tf/2.8/ps.tf\">ps</a><br><a target=\"_blank\" href=\"https://github.com/codykingham/tischendorf_tf/blob/master/docs/features.md#qere\" title=\"C:\\Users\\OliverGlanz/text-fabric-data/codykingham/tischendorf_tf/tf/2.8/qere.tf\">qere</a><br><a target=\"_blank\" href=\"https://github.com/codykingham/tischendorf_tf/blob/master/docs/features.md#sp\" title=\"C:\\Users\\OliverGlanz/text-fabric-data/codykingham/tischendorf_tf/tf/2.8/sp.tf\">sp</a><br><a target=\"_blank\" href=\"https://github.com/codykingham/tischendorf_tf/blob/master/docs/features.md#str_lem\" title=\"C:\\Users\\OliverGlanz/text-fabric-data/codykingham/tischendorf_tf/tf/2.8/str_lem.tf\">str_lem</a><br><a target=\"_blank\" href=\"https://github.com/codykingham/tischendorf_tf/blob/master/docs/features.md#strongs\" title=\"C:\\Users\\OliverGlanz/text-fabric-data/codykingham/tischendorf_tf/tf/2.8/strongs.tf\">strongs</a><br><a target=\"_blank\" href=\"https://github.com/codykingham/tischendorf_tf/blob/master/docs/features.md#verse\" title=\"C:\\Users\\OliverGlanz/text-fabric-data/codykingham/tischendorf_tf/tf/2.8/verse.tf\">verse</a><br><a target=\"_blank\" href=\"https://github.com/codykingham/tischendorf_tf/blob/master/docs/features.md#voice\" title=\"C:\\Users\\OliverGlanz/text-fabric-data/codykingham/tischendorf_tf/tf/2.8/voice.tf\">voice</a><br><a target=\"_blank\" href=\"https://github.com/codykingham/tischendorf_tf/blob/master/docs/features.md#vrsnum\" title=\"C:\\Users\\OliverGlanz/text-fabric-data/codykingham/tischendorf_tf/tf/2.8/vrsnum.tf\">vrsnum</a><br><a target=\"_blank\" href=\"https://github.com/codykingham/tischendorf_tf/blob/master/docs/features.md#vt\" title=\"C:\\Users\\OliverGlanz/text-fabric-data/codykingham/tischendorf_tf/tf/2.8/vt.tf\">vt</a><br><b><i><a target=\"_blank\" href=\"https://github.com/codykingham/tischendorf_tf/blob/master/docs/features.md#oslots\" title=\"C:\\Users\\OliverGlanz/text-fabric-data/codykingham/tischendorf_tf/tf/2.8/oslots.tf\">oslots</a></i></b><br></details>"
      ],
      "text/plain": [
       "<IPython.core.display.HTML object>"
      ]
     },
     "metadata": {},
     "output_type": "display_data"
    },
    {
     "data": {
      "text/html": [
       "<style>tr.tf.ltr, td.tf.ltr, th.tf.ltr { text-align: left ! important;}\n",
       "tr.tf.rtl, td.tf.rtl, th.tf.rtl { text-align: right ! important;}\n",
       "@font-face {\n",
       "  font-family: \"Gentium Plus\";\n",
       "  src: local('Gentium Plus'), local('GentiumPlus'),\n",
       "    url('/server/static/fonts/GentiumPlus-R.woff') format('woff'),\n",
       "    url('https://github.com/annotation/text-fabric/blob/master/tf/server/static/fonts/GentiumPlus-R.woff?raw=true') format('woff');\n",
       "}\n",
       "\n",
       "@font-face {\n",
       "  font-family: \"Ezra SIL\";\n",
       "  src: local('Ezra SIL'), local('EzraSIL'),\n",
       "    url('/server/static/fonts/SILEOT.woff') format('woff'),\n",
       "    url('https://github.com/annotation/text-fabric/blob/master/tf/server/static/fonts/SILEOT.woff?raw=true') format('woff');\n",
       "}\n",
       "\n",
       "@font-face {\n",
       "  font-family: \"SBL Hebrew\";\n",
       "  src: local('SBL Hebrew'), local('SBLHebrew'),\n",
       "    url('/server/static/fonts/SBL_Hbrw.woff') format('woff'),\n",
       "    url('https://github.com/annotation/text-fabric/blob/master/tf/server/static/fonts/SBL_Hbrw.woff?raw=true') format('woff');\n",
       "}\n",
       "\n",
       "@font-face {\n",
       "  font-family: \"Estrangelo Edessa\";\n",
       "  src: local('Estrangelo Edessa'), local('EstrangeloEdessa');\n",
       "    url('/server/static/fonts/SyrCOMEdessa.woff') format('woff'),\n",
       "    url('https://github.com/annotation/text-fabric/blob/master/tf/server/static/fonts/SyrCOMEdessa.woff?raw=true') format('woff');\n",
       "}\n",
       "\n",
       "@font-face {\n",
       "  font-family: AmiriQuran;\n",
       "  font-style: normal;\n",
       "  font-weight: 400;\n",
       "  src: local('Amiri Quran'), local('AmiriQuran'),\n",
       "    url('/server/static/fonts/AmiriQuran.woff') format('woff'),\n",
       "    url('https://github.com/annotation/text-fabric/blob/master/tf/server/static/fonts/AmiriQuran.woff?raw=true') format('woff');\n",
       "}\n",
       "\n",
       "@font-face {\n",
       "  font-family: AmiriQuranColored;\n",
       "  font-style: normal;\n",
       "  font-weight: 400;\n",
       "  src: local('Amiri Quran Colored'), local('AmiriQuranColored'),\n",
       "    url('/server/static/fonts/AmiriQuranColored.woff') format('woff'),\n",
       "    url('https://github.com/annotation/text-fabric/blob/master/tf/server/static/fonts/AmiriQuranColored.woff?raw=true') format('woff');\n",
       "}\n",
       "\n",
       "@font-face {\n",
       "  font-family: \"Santakku\";\n",
       "  src: local('Santakku'),\n",
       "    url('/server/static/fonts/Santakku.woff') format('woff'),\n",
       "    url('https://github.com/annotation/text-fabric/blob/master/tf/server/static/fonts/Santakku.woff?raw=true') format('woff');\n",
       "}\n",
       "\n",
       "@font-face {\n",
       "  font-family: \"SantakkuM\";\n",
       "  src: local('SantakkuM'),\n",
       "    url('/server/static/fonts/SantakkuM.woff') format('woff'),\n",
       "    url('https://github.com/annotation/text-fabric/blob/master/tf/server/static/fonts/SantakkuM.woff?raw=true') format('woff');\n",
       "}\n",
       "/* bypassing some classical notebook settings */\n",
       "div#notebook {\n",
       "  line-height: unset;\n",
       "}\n",
       "/* neutral text */\n",
       ".txtn,.txtn a:visited,.txtn a:link {\n",
       "    font-family: sans-serif;\n",
       "    font-size: medium;\n",
       "    direction: ltr;\n",
       "    text-decoration: none;\n",
       "    color: var(--text-color);\n",
       "}\n",
       "/* transcription text */\n",
       ".txtt,.txtt a:visited,.txtt a:link {\n",
       "    font-family: monospace;\n",
       "    font-size: medium;\n",
       "    direction: ltr;\n",
       "    text-decoration: none;\n",
       "    color: var(--text-color);\n",
       "}\n",
       "/* source text */\n",
       ".txto,.txto a:visited,.txto a:link {\n",
       "    font-family: serif;\n",
       "    font-size: medium;\n",
       "    direction: ltr;\n",
       "    text-decoration: none;\n",
       "    color: var(--text-color);\n",
       "}\n",
       "/* phonetic text */\n",
       ".txtp,.txtp a:visited,.txtp a:link {\n",
       "    font-family: Gentium, sans-serif;\n",
       "    font-size: medium;\n",
       "    direction: ltr;\n",
       "    text-decoration: none;\n",
       "    color: var(--text-color);\n",
       "}\n",
       "/* original script text */\n",
       ".txtu,.txtu a:visited,.txtu a:link {\n",
       "    font-family: Gentium, sans-serif;\n",
       "    font-size: medium;\n",
       "    text-decoration: none;\n",
       "    color: var(--text-color);\n",
       "}\n",
       "/* hebrew */\n",
       ".txtu.hbo,.lex.hbo {\n",
       "    font-family: \"Ezra SIL\", \"SBL Hebrew\", sans-serif;\n",
       "    font-size: large;\n",
       "    direction: rtl ! important;\n",
       "    unicode-bidi: embed;\n",
       "}\n",
       "/* syriac */\n",
       ".txtu.syc,.lex.syc {\n",
       "    font-family: \"Estrangelo Edessa\", sans-serif;\n",
       "    font-size: medium;\n",
       "    direction: rtl ! important;\n",
       "    unicode-bidi: embed;\n",
       "}\n",
       "/* neo aramaic */\n",
       ".txtu.cld,.lex.cld {\n",
       "    font-family: \"CharisSIL-R\", sans-serif;\n",
       "    font-size: medium;\n",
       "    direction: ltr ! important;\n",
       "    unicode-bidi: embed;\n",
       "}\n",
       "/* standard arabic */\n",
       ".txtu.ara,.lex.ara {\n",
       "    font-family: \"AmiriQuran\", sans-serif;\n",
       "    font-size: large;\n",
       "    direction: rtl ! important;\n",
       "    unicode-bidi: embed;\n",
       "}\n",
       "/* cuneiform */\n",
       ".txtu.akk,.lex.akk {\n",
       "    font-family: Santakku, sans-serif;\n",
       "    font-size: large;\n",
       "    direction: ltr ! important;\n",
       "    unicode-bidi: embed;\n",
       "}\n",
       "/* greek */\n",
       ".txtu.grc,.lex.grc a:link {\n",
       "    font-family: Gentium, sans-serif;\n",
       "    font-size: medium;\n",
       "    direction: ltr ! important;\n",
       "    unicode-bidi: embed;\n",
       "}\n",
       "a:hover {\n",
       "    text-decoration: underline | important;\n",
       "    color: #0000ff | important;\n",
       "}\n",
       ".ltr {\n",
       "    direction: ltr ! important;\n",
       "}\n",
       ".rtl {\n",
       "    direction: rtl ! important;\n",
       "}\n",
       ".features {\n",
       "    font-family: monospace;\n",
       "    font-size: medium;\n",
       "    font-weight: bold;\n",
       "    color: var(--features);\n",
       "    display: flex;\n",
       "    flex-flow: column nowrap;\n",
       "    justify-content: flex-start;\n",
       "    align-items: flex-start;\n",
       "    align-content: flex-start;\n",
       "    padding: 0.1rem;\n",
       "    margin: 0.1rem;\n",
       "    direction: ltr;\n",
       "    border: var(--meta-width) solid var(--meta-color);\n",
       "    border-radius: var(--meta-width);\n",
       "}\n",
       ".features div,.features span {\n",
       "    padding: 0;\n",
       "    margin: -0.1rem 0;\n",
       "}\n",
       ".features .f {\n",
       "    font-family: sans-serif;\n",
       "    font-size: small;\n",
       "    font-weight: normal;\n",
       "    color: #5555bb;\n",
       "}\n",
       ".features .xft {\n",
       "  color: #000000;\n",
       "  background-color: #eeeeee;\n",
       "  font-size: medium;\n",
       "  margin: 0.1rem 0rem;\n",
       "}\n",
       ".features .xft .f {\n",
       "  color: #000000;\n",
       "  background-color: #eeeeee;\n",
       "  font-size: small;\n",
       "  font-weight: normal;\n",
       "}\n",
       ".section {\n",
       "    font-family: sans-serif;\n",
       "    font-size: small;\n",
       "    font-weight: bold;\n",
       "    color: var(--section);\n",
       "    unicode-bidi: embed;\n",
       "    text-align: start;\n",
       "}\n",
       ".structure {\n",
       "    font-family: sans-serif;\n",
       "    font-size: small;\n",
       "    font-weight: bold;\n",
       "    color: var(--structure);\n",
       "    unicode-bidi: embed;\n",
       "    text-align: start;\n",
       "}\n",
       ".comments {\n",
       "    display: flex;\n",
       "    justify-content: flex-start;\n",
       "    align-items: flex-start;\n",
       "    align-content: flex-start;\n",
       "    flex-flow: column nowrap;\n",
       "}\n",
       ".nd, a:link.nd {\n",
       "    font-family: sans-serif;\n",
       "    font-size: small;\n",
       "    color: var(--node);\n",
       "    vertical-align: super;\n",
       "    direction: ltr ! important;\n",
       "    unicode-bidi: embed;\n",
       "}\n",
       ".lex {\n",
       "  color: var(--lex-color);;\n",
       "}\n",
       ".children,.children.ltr {\n",
       "    display: flex;\n",
       "    border: 0;\n",
       "    background-color: #ffffff;\n",
       "    justify-content: flex-start;\n",
       "    align-items: flex-start;\n",
       "    align-content: flex-start;\n",
       "}\n",
       ".children.stretch {\n",
       "    align-items: stretch;\n",
       "}\n",
       ".children.hor {\n",
       "    flex-flow: row nowrap;\n",
       "}\n",
       ".children.hor.wrap {\n",
       "    flex-flow: row wrap;\n",
       "}\n",
       ".children.ver {\n",
       "    flex-flow: column nowrap;\n",
       "}\n",
       ".children.ver.wrap {\n",
       "    flex-flow: column wrap;\n",
       "}\n",
       ".contnr {\n",
       "    width: fit-content;\n",
       "    display: flex;\n",
       "    justify-content: flex-start;\n",
       "    align-items: flex-start;\n",
       "    align-content: flex-start;\n",
       "    flex-flow: column nowrap;\n",
       "    background: #ffffff none repeat scroll 0 0;\n",
       "    padding:  0.5rem 0.1rem 0.1rem 0.1rem;\n",
       "    margin: 0.8rem 0.1rem 0.1rem 0.1rem;\n",
       "    border-style: solid;\n",
       "    font-size: small;\n",
       "}\n",
       ".contnr.trm {\n",
       "    background-attachment: local;\n",
       "}\n",
       ".contnr.cnul {\n",
       "    padding:  0;\n",
       "    margin: 0;\n",
       "    border-style: solid;\n",
       "    font-size: xx-small;\n",
       "}\n",
       ".contnr.cnul,.lbl.cnul {\n",
       "    border-color: var(--border-color-nul);\n",
       "    border-width: var(--border-width-nul);\n",
       "    border-radius: var(--border-width-nul);\n",
       "}\n",
       ".contnr.c0,.lbl.c0 {\n",
       "    border-color: var(--border-color0);\n",
       "    border-width: var(--border-width0);\n",
       "    border-radius: var(--border-width0);\n",
       "}\n",
       ".contnr.c1,.lbl.c1 {\n",
       "    border-color: var(--border-color1);\n",
       "    border-width: var(--border-width1);\n",
       "    border-radius: var(--border-width1);\n",
       "}\n",
       ".contnr.c2,.lbl.c2 {\n",
       "    border-color: var(--border-color2);\n",
       "    border-width: var(--border-width2);\n",
       "    border-radius: var(--border-width2);\n",
       "}\n",
       ".contnr.c3,.lbl.c3 {\n",
       "    border-color: var(--border-color3);\n",
       "    border-width: var(--border-width3);\n",
       "    border-radius: var(--border-width3);\n",
       "}\n",
       ".contnr.c4,.lbl.c4 {\n",
       "    border-color: var(--border-color4);\n",
       "    border-width: var(--border-width4);\n",
       "    border-radius: var(--border-width4);\n",
       "}\n",
       "span.plain {\n",
       "    display: inline-block;\n",
       "    white-space: pre-wrap;\n",
       "}\n",
       ".plain {\n",
       "    background-color: #ffffff;\n",
       "}\n",
       ".plain.l,.contnr.l,.contnr.l>.lbl {\n",
       "    border-left-style: dotted\n",
       "}\n",
       ".plain.r,.contnr.r,.contnr.r>.lbl {\n",
       "    border-right-style: dotted\n",
       "}\n",
       ".plain.lno,.contnr.lno,.contnr.lno>.lbl {\n",
       "    border-left-style: none\n",
       "}\n",
       ".plain.rno,.contnr.rno,.contnr.rno>.lbl {\n",
       "    border-right-style: none\n",
       "}\n",
       ".plain.l {\n",
       "    padding-left: 0.2rem;\n",
       "    margin-left: 0.1rem;\n",
       "    border-width: var(--border-width-plain);\n",
       "}\n",
       ".plain.r {\n",
       "    padding-right: 0.2rem;\n",
       "    margin-right: 0.1rem;\n",
       "    border-width: var(--border-width-plain);\n",
       "}\n",
       ".lbl {\n",
       "    font-family: monospace;\n",
       "    margin-top: -1.2rem;\n",
       "    margin-left: 1rem;\n",
       "    background: #ffffff none repeat scroll 0 0;\n",
       "    padding: 0 0.3rem;\n",
       "    border-style: solid;\n",
       "    display: block;\n",
       "    color: var(--label)\n",
       "}\n",
       ".lbl.trm {\n",
       "    background-attachment: local;\n",
       "    margin-top: 0.1rem;\n",
       "    margin-left: 0.1rem;\n",
       "    padding: 0.1rem 0.1rem;\n",
       "    border-style: none;\n",
       "}\n",
       ".lbl.cnul {\n",
       "    font-size: xx-small;\n",
       "}\n",
       ".lbl.c0 {\n",
       "    font-size: small;\n",
       "}\n",
       ".lbl.c1 {\n",
       "    font-size: small;\n",
       "}\n",
       ".lbl.c2 {\n",
       "    font-size: medium;\n",
       "}\n",
       ".lbl.c3 {\n",
       "    font-size: medium;\n",
       "}\n",
       ".lbl.c4 {\n",
       "    font-size: large;\n",
       "}\n",
       ".occs, a:link.occs {\n",
       "    font-size: small;\n",
       "}\n",
       "\n",
       "/* PROVENANCE */\n",
       "\n",
       "div.prov {\n",
       "\tmargin: 2rem;\n",
       "\tpadding: 1rem;\n",
       "\tborder: 0.1rem solid var(--fog-rim);\n",
       "}\n",
       "div.pline {\n",
       "\tdisplay: flex;\n",
       "\tflex-flow: row nowrap;\n",
       "\tjustify-content: stretch;\n",
       "\talign-items: baseline;\n",
       "}\n",
       "div.p2line {\n",
       "\tmargin-left: 2em;\n",
       "\tdisplay: flex;\n",
       "\tflex-flow: row nowrap;\n",
       "\tjustify-content: stretch;\n",
       "\talign-items: baseline;\n",
       "}\n",
       "div.psline {\n",
       "\tdisplay: flex;\n",
       "\tflex-flow: row nowrap;\n",
       "\tjustify-content: stretch;\n",
       "\talign-items: baseline;\n",
       "\tbackground-color: var(--gold-mist-back);\n",
       "}\n",
       "div.pname {\n",
       "\tflex: 0 0 5rem;\n",
       "\tfont-weight: bold;\n",
       "}\n",
       "div.pval {\n",
       "    flex: 1 1 auto;\n",
       "}\n",
       "\n",
       ":root {\n",
       "\t--node:               hsla(120, 100%,  20%, 1.0  );\n",
       "\t--label:              hsla(  0, 100%,  20%, 1.0  );\n",
       "\t--section:            hsla(  0, 100%,  25%, 1.0  );\n",
       "\t--structure:          hsla(120, 100%,  25%, 1.0  );\n",
       "\t--features:           hsla(  0,   0%,  30%, 1.0  );\n",
       "  --text-color:         hsla( 60,  80%,  10%, 1.0  );\n",
       "  --lex-color:          hsla(220,  90%,  60%, 1.0  );\n",
       "  --meta-color:         hsla(  0,   0%,  90%, 0.7  );\n",
       "  --meta-width:         0.15rem;\n",
       "  --border-color-nul:   hsla(  0,   0%,  90%, 0.5  );\n",
       "  --border-color0:      hsla(  0,   0%,  90%, 0.9  );\n",
       "  --border-color1:      hsla(  0,   0%,  80%, 0.9  );\n",
       "  --border-color2:      hsla(  0,   0%,  70%, 0.9  );\n",
       "  --border-color3:      hsla(  0,   0%,  80%, 0.8  );\n",
       "  --border-color4:      hsla(  0,   0%,  60%, 0.9  );\n",
       "  --border-width-nul:   0.1rem;\n",
       "  --border-width0:      0.1rem;\n",
       "  --border-width1:      0.15rem;\n",
       "  --border-width2:      0.2rem;\n",
       "  --border-width3:      0.3rem;\n",
       "  --border-width4:      0.25rem;\n",
       "  --border-width-plain: 0.1rem;\n",
       "}\n",
       ".hl {\n",
       "  background-color: var(--hl-strong);\n",
       "}\n",
       "span.hl {\n",
       "\tbackground-color: var(--hl-strong);\n",
       "\tborder-width: 0;\n",
       "\tborder-radius: 0.1rem;\n",
       "\tborder-style: solid;\n",
       "}\n",
       "div.contnr.hl,div.lbl.hl {\n",
       "  background-color: var(--hl-strong);\n",
       "}\n",
       "div.contnr.hl {\n",
       "  border-color: var(--hl-rim) ! important;\n",
       "\tborder-width: 0.2rem ! important;\n",
       "}\n",
       "\n",
       "span.hlbx {\n",
       "\tborder-color: var(--hl-rim);\n",
       "\tborder-width: 0.2rem ! important;\n",
       "\tborder-style: solid;\n",
       "\tborder-radius: 0.3rem;\n",
       "  padding: 0.2rem;\n",
       "  margin: 0.2rem;\n",
       "}\n",
       "\n",
       "span.plain {\n",
       "  display: inline-block;\n",
       "  white-space: pre-wrap;\n",
       "}\n",
       "\n",
       ":root {\n",
       "\t--hl-strong:        hsla( 60, 100%,  70%, 0.9  );\n",
       "\t--hl-rim:           hsla( 55,  80%,  50%, 1.0  );\n",
       "}\n",
       "</style>"
      ],
      "text/plain": [
       "<IPython.core.display.HTML object>"
      ]
     },
     "metadata": {},
     "output_type": "display_data"
    },
    {
     "data": {
      "text/html": [
       "<div><b>Text-Fabric API:</b> names <a target=\"_blank\" href=\"https://annotation.github.io/text-fabric/cheatsheet.html\" title=\"doc\">N F E L T S C TF</a> directly usable</div><hr>"
      ],
      "text/plain": [
       "<IPython.core.display.HTML object>"
      ]
     },
     "metadata": {},
     "output_type": "display_data"
    }
   ],
   "source": [
    "# Now we load the TF tisch database\n",
    "NT = use('tisch', hoist=globals())"
   ]
  },
  {
   "cell_type": "markdown",
   "metadata": {},
   "source": [
    "We have now both the BHS as well as the NT Tischendorf text loaded and are ready to do some simple querying."
   ]
  },
  {
   "cell_type": "markdown",
   "metadata": {},
   "source": [
    "# Some simple word based queries..."
   ]
  },
  {
   "cell_type": "markdown",
   "metadata": {},
   "source": [
    "## Lemma Searches\n",
    "Lets search in the BHS the word Abram (>BRM/) and Abraham (>BRHM/) by typing\n",
    "\n",
    "```word lex=>BRHM/|>BRM/```\n",
    "\n",
    "The `|` stands for the AND-OR. Thus, we are searching for Abraham **and/or** Abram.\n",
    "\n",
    "The feature **lex** of the object type **word** allows us to write Hebrew words in transliteration. In the next workshops we will get to know many more features and get introduced into the database."
   ]
  },
  {
   "cell_type": "code",
   "execution_count": 4,
   "metadata": {},
   "outputs": [
    {
     "name": "stdout",
     "output_type": "stream",
     "text": [
      "  0.41s 236 results\n"
     ]
    },
    {
     "data": {
      "text/html": [
       "<p><b>verse</b> <i>1</i></p>"
      ],
      "text/plain": [
       "<IPython.core.display.HTML object>"
      ]
     },
     "metadata": {},
     "output_type": "display_data"
    },
    {
     "data": {
      "text/html": [
       "<div class=\"section rtl\"><a target=\"_blank\" href=\"https://shebanq.ancient-data.org/hebrew/text?book=Genesis&amp;chapter=11&amp;verse=26&amp;version=c&amp;mr=m&amp;qw=q&amp;tp=txt_p&amp;tr=hb&amp;wget=v&amp;qget=v&amp;nget=vt\" title=\"Show this on SHEBANQ\" sec=\"Genesis 11:26\">Genesis 11:26</a></div><div class=\"rtl children\"><div class=\"contnr c3  rtl  \" ><div class=\"lbl c3  \" ><span class=\"nd\">verse</span></div><div class=\"children hor wrap rtl\"><div class=\"contnr c2  rtl  \" ><div class=\"lbl c2  \" ><span class=\"nd\">sentence</span></div><div class=\"children hor wrap rtl\"><div class=\"contnr c2  rtl  \" ><div class=\"lbl c2  \" ><span class=\"nd\">clause</span></div><div class=\"children hor wrap rtl\"><div class=\"contnr c1  rtl  \" ><div class=\"lbl c1  \" ><span class=\"nd\">phrase</span></div><div class='features'><span class=\"function xft\" ><span class=\"f\">function=</span>Conj</span></div><div class=\"children hor wrap rtl\"><div class=\"contnr c0 trm rtl  \" ><div class=\"lbl c0 trm \" ><a class=\" txtu hbo\" target=\"_blank\" href=\"https://shebanq.ancient-data.org/hebrew/word?version=c&amp;id=1W\" title=\"Show this on SHEBANQ\"><span class=\"txtu hbo\">וַֽ</span></a></div><div class='features'><span class=\"lex xft\" ><span class=\"f\">lex=</span>W</span><span class=\"lex_utf8 xft\" ><span class=\"f\">lex_utf8=</span>ו</span></div></div></div></div><div class=\"contnr c1  rtl  \" ><div class=\"lbl c1  \" ><span class=\"nd\">phrase</span></div><div class='features'><span class=\"function xft\" ><span class=\"f\">function=</span>Pred</span></div><div class=\"children hor wrap rtl\"><div class=\"contnr c0 trm rtl  \" ><div class=\"lbl c0 trm \" ><a class=\" txtu hbo\" target=\"_blank\" href=\"https://shebanq.ancient-data.org/hebrew/word?version=c&amp;id=1XJHv\" title=\"Show this on SHEBANQ\"><span class=\"txtu hbo\">יְחִי־</span></a></div><div class='features'><span class=\"lex xft\" ><span class=\"f\">lex=</span>XJH[</span><span class=\"lex_utf8 xft\" ><span class=\"f\">lex_utf8=</span>חיה</span></div></div></div></div><div class=\"contnr c1  rtl  \" ><div class=\"lbl c1  \" ><span class=\"nd\">phrase</span></div><div class='features'><span class=\"function xft\" ><span class=\"f\">function=</span>Subj</span></div><div class=\"children hor wrap rtl\"><div class=\"contnr c0 trm rtl  \" ><div class=\"lbl c0 trm \" ><a class=\" txtu hbo\" target=\"_blank\" href=\"https://shebanq.ancient-data.org/hebrew/word?version=c&amp;id=1TRXn\" title=\"Show this on SHEBANQ\"><span class=\"txtu hbo\">תֶ֖רַח </span></a></div><div class='features'><span class=\"lex xft\" ><span class=\"f\">lex=</span>TRX/</span><span class=\"lex_utf8 xft\" ><span class=\"f\">lex_utf8=</span>תרח</span></div></div></div></div><div class=\"contnr c1  rtl  \" ><div class=\"lbl c1  \" ><span class=\"nd\">phrase</span></div><div class='features'><span class=\"function xft\" ><span class=\"f\">function=</span>Time</span></div><div class=\"children hor wrap rtl\"><div class=\"contnr c0 trm rtl  \" ><div class=\"lbl c0 trm \" ><a class=\" txtu hbo\" target=\"_blank\" href=\"https://shebanq.ancient-data.org/hebrew/word?version=c&amp;id=1CBOn\" title=\"Show this on SHEBANQ\"><span class=\"txtu hbo\">שִׁבְעִ֣ים </span></a></div><div class='features'><span class=\"lex xft\" ><span class=\"f\">lex=</span>CB&lt;/</span><span class=\"lex_utf8 xft\" ><span class=\"f\">lex_utf8=</span>שׁבע</span></div></div><div class=\"contnr c0 trm rtl  \" ><div class=\"lbl c0 trm \" ><a class=\" txtu hbo\" target=\"_blank\" href=\"https://shebanq.ancient-data.org/hebrew/word?version=c&amp;id=1CNHn\" title=\"Show this on SHEBANQ\"><span class=\"txtu hbo\">שָׁנָ֑ה </span></a></div><div class='features'><span class=\"lex xft\" ><span class=\"f\">lex=</span>CNH/</span><span class=\"lex_utf8 xft\" ><span class=\"f\">lex_utf8=</span>שׁנה</span></div></div></div></div></div></div></div></div><div class=\"contnr c2  rtl  \" ><div class=\"lbl c2  \" ><span class=\"nd\">sentence</span></div><div class=\"children hor wrap rtl\"><div class=\"contnr c2  rtl  \" ><div class=\"lbl c2  \" ><span class=\"nd\">clause</span></div><div class=\"children hor wrap rtl\"><div class=\"contnr c1  rtl  \" ><div class=\"lbl c1  \" ><span class=\"nd\">phrase</span></div><div class='features'><span class=\"function xft\" ><span class=\"f\">function=</span>Conj</span></div><div class=\"children hor wrap rtl\"><div class=\"contnr c0 trm rtl  \" ><div class=\"lbl c0 trm \" ><a class=\" txtu hbo\" target=\"_blank\" href=\"https://shebanq.ancient-data.org/hebrew/word?version=c&amp;id=1W\" title=\"Show this on SHEBANQ\"><span class=\"txtu hbo\">וַ</span></a></div><div class='features'><span class=\"lex xft\" ><span class=\"f\">lex=</span>W</span><span class=\"lex_utf8 xft\" ><span class=\"f\">lex_utf8=</span>ו</span></div></div></div></div><div class=\"contnr c1  rtl  \" ><div class=\"lbl c1  \" ><span class=\"nd\">phrase</span></div><div class='features'><span class=\"function xft\" ><span class=\"f\">function=</span>Pred</span></div><div class=\"children hor wrap rtl\"><div class=\"contnr c0 trm rtl  \" ><div class=\"lbl c0 trm \" ><a class=\" txtu hbo\" target=\"_blank\" href=\"https://shebanq.ancient-data.org/hebrew/word?version=c&amp;id=1JLDv\" title=\"Show this on SHEBANQ\"><span class=\"txtu hbo\">יֹּ֨ולֶד֙ </span></a></div><div class='features'><span class=\"lex xft\" ><span class=\"f\">lex=</span>JLD[</span><span class=\"lex_utf8 xft\" ><span class=\"f\">lex_utf8=</span>ילד</span></div></div></div></div><div class=\"contnr c1  rtl  \" ><div class=\"lbl c1  \" ><span class=\"nd\">phrase</span></div><div class='features'><span class=\"function xft\" ><span class=\"f\">function=</span>Objc</span></div><div class=\"children hor wrap rtl\"><div class=\"contnr c0 trm rtl  \" ><div class=\"lbl c0 trm \" ><a class=\" txtu hbo\" target=\"_blank\" href=\"https://shebanq.ancient-data.org/hebrew/word?version=c&amp;id=1AT\" title=\"Show this on SHEBANQ\"><span class=\"txtu hbo\">אֶת־</span></a></div><div class='features'><span class=\"lex xft\" ><span class=\"f\">lex=</span>>T</span><span class=\"lex_utf8 xft\" ><span class=\"f\">lex_utf8=</span>את</span></div></div><div class=\"contnr c0 trm rtl  hl\" ><div class=\"lbl c0 trm hl\" ><a class=\" txtu hbo\" target=\"_blank\" href=\"https://shebanq.ancient-data.org/hebrew/word?version=c&amp;id=1ABRMn\" title=\"Show this on SHEBANQ\"><span class=\"txtu hbo\">אַבְרָ֔ם </span></a></div><div class='features'><span class=\"lex xft\" ><span class=\"f\">lex=</span>>BRM/</span><span class=\"lex_utf8 xft\" ><span class=\"f\">lex_utf8=</span>אברם</span></div></div><div class=\"contnr c0 trm rtl  \" ><div class=\"lbl c0 trm \" ><a class=\" txtu hbo\" target=\"_blank\" href=\"https://shebanq.ancient-data.org/hebrew/word?version=c&amp;id=1AT\" title=\"Show this on SHEBANQ\"><span class=\"txtu hbo\">אֶת־</span></a></div><div class='features'><span class=\"lex xft\" ><span class=\"f\">lex=</span>>T</span><span class=\"lex_utf8 xft\" ><span class=\"f\">lex_utf8=</span>את</span></div></div><div class=\"contnr c0 trm rtl  \" ><div class=\"lbl c0 trm \" ><a class=\" txtu hbo\" target=\"_blank\" href=\"https://shebanq.ancient-data.org/hebrew/word?version=c&amp;id=1NXWRn\" title=\"Show this on SHEBANQ\"><span class=\"txtu hbo\">נָחֹ֖ור </span></a></div><div class='features'><span class=\"lex xft\" ><span class=\"f\">lex=</span>NXWR/</span><span class=\"lex_utf8 xft\" ><span class=\"f\">lex_utf8=</span>נחור</span></div></div><div class=\"contnr c0 trm rtl  \" ><div class=\"lbl c0 trm \" ><a class=\" txtu hbo\" target=\"_blank\" href=\"https://shebanq.ancient-data.org/hebrew/word?version=c&amp;id=1W\" title=\"Show this on SHEBANQ\"><span class=\"txtu hbo\">וְ</span></a></div><div class='features'><span class=\"lex xft\" ><span class=\"f\">lex=</span>W</span><span class=\"lex_utf8 xft\" ><span class=\"f\">lex_utf8=</span>ו</span></div></div><div class=\"contnr c0 trm rtl  \" ><div class=\"lbl c0 trm \" ><a class=\" txtu hbo\" target=\"_blank\" href=\"https://shebanq.ancient-data.org/hebrew/word?version=c&amp;id=1AT\" title=\"Show this on SHEBANQ\"><span class=\"txtu hbo\">אֶת־</span></a></div><div class='features'><span class=\"lex xft\" ><span class=\"f\">lex=</span>>T</span><span class=\"lex_utf8 xft\" ><span class=\"f\">lex_utf8=</span>את</span></div></div><div class=\"contnr c0 trm rtl  \" ><div class=\"lbl c0 trm \" ><a class=\" txtu hbo\" target=\"_blank\" href=\"https://shebanq.ancient-data.org/hebrew/word?version=c&amp;id=1HRNn\" title=\"Show this on SHEBANQ\"><span class=\"txtu hbo\">הָרָֽן׃ </span></a></div><div class='features'><span class=\"lex xft\" ><span class=\"f\">lex=</span>HRN/</span><span class=\"lex_utf8 xft\" ><span class=\"f\">lex_utf8=</span>הרן</span></div></div></div></div></div></div></div></div></div></div></div>"
      ],
      "text/plain": [
       "<IPython.core.display.HTML object>"
      ]
     },
     "metadata": {},
     "output_type": "display_data"
    },
    {
     "data": {
      "text/html": [
       "<p><b>verse</b> <i>2</i></p>"
      ],
      "text/plain": [
       "<IPython.core.display.HTML object>"
      ]
     },
     "metadata": {},
     "output_type": "display_data"
    },
    {
     "data": {
      "text/html": [
       "<div class=\"section rtl\"><a target=\"_blank\" href=\"https://shebanq.ancient-data.org/hebrew/text?book=Genesis&amp;chapter=11&amp;verse=27&amp;version=c&amp;mr=m&amp;qw=q&amp;tp=txt_p&amp;tr=hb&amp;wget=v&amp;qget=v&amp;nget=vt\" title=\"Show this on SHEBANQ\" sec=\"Genesis 11:27\">Genesis 11:27</a></div><div class=\"rtl children\"><div class=\"contnr c3  rtl  \" ><div class=\"lbl c3  \" ><span class=\"nd\">verse</span></div><div class=\"children hor wrap rtl\"><div class=\"contnr c2  rtl  \" ><div class=\"lbl c2  \" ><span class=\"nd\">sentence</span></div><div class=\"children hor wrap rtl\"><div class=\"contnr c2  rtl  \" ><div class=\"lbl c2  \" ><span class=\"nd\">clause</span></div><div class=\"children hor wrap rtl\"><div class=\"contnr c1  rtl  \" ><div class=\"lbl c1  \" ><span class=\"nd\">phrase</span></div><div class='features'><span class=\"function xft\" ><span class=\"f\">function=</span>Conj</span></div><div class=\"children hor wrap rtl\"><div class=\"contnr c0 trm rtl  \" ><div class=\"lbl c0 trm \" ><a class=\" txtu hbo\" target=\"_blank\" href=\"https://shebanq.ancient-data.org/hebrew/word?version=c&amp;id=1W\" title=\"Show this on SHEBANQ\"><span class=\"txtu hbo\">וְ</span></a></div><div class='features'><span class=\"lex xft\" ><span class=\"f\">lex=</span>W</span><span class=\"lex_utf8 xft\" ><span class=\"f\">lex_utf8=</span>ו</span></div></div></div></div><div class=\"contnr c1  rtl  \" ><div class=\"lbl c1  \" ><span class=\"nd\">phrase</span></div><div class='features'><span class=\"function xft\" ><span class=\"f\">function=</span>Subj</span></div><div class=\"children hor wrap rtl\"><div class=\"contnr c0 trm rtl  \" ><div class=\"lbl c0 trm \" ><a class=\" txtu hbo\" target=\"_blank\" href=\"https://shebanq.ancient-data.org/hebrew/word?version=c&amp;id=1ALH\" title=\"Show this on SHEBANQ\"><span class=\"txtu hbo\">אֵ֨לֶּה֙ </span></a></div><div class='features'><span class=\"lex xft\" ><span class=\"f\">lex=</span>>LH</span><span class=\"lex_utf8 xft\" ><span class=\"f\">lex_utf8=</span>אלה</span></div></div></div></div><div class=\"contnr c1  rtl  \" ><div class=\"lbl c1  \" ><span class=\"nd\">phrase</span></div><div class='features'><span class=\"function xft\" ><span class=\"f\">function=</span>PreC</span></div><div class=\"children hor wrap rtl\"><div class=\"contnr c0 trm rtl  \" ><div class=\"lbl c0 trm \" ><a class=\" txtu hbo\" target=\"_blank\" href=\"https://shebanq.ancient-data.org/hebrew/word?version=c&amp;id=1TWLDWTn\" title=\"Show this on SHEBANQ\"><span class=\"txtu hbo\">תֹּולְדֹ֣ת </span></a></div><div class='features'><span class=\"lex xft\" ><span class=\"f\">lex=</span>TWLDWT/</span><span class=\"lex_utf8 xft\" ><span class=\"f\">lex_utf8=</span>תולדות</span></div></div><div class=\"contnr c0 trm rtl  \" ><div class=\"lbl c0 trm \" ><a class=\" txtu hbo\" target=\"_blank\" href=\"https://shebanq.ancient-data.org/hebrew/word?version=c&amp;id=1TRXn\" title=\"Show this on SHEBANQ\"><span class=\"txtu hbo\">תֶּ֔רַח </span></a></div><div class='features'><span class=\"lex xft\" ><span class=\"f\">lex=</span>TRX/</span><span class=\"lex_utf8 xft\" ><span class=\"f\">lex_utf8=</span>תרח</span></div></div></div></div></div></div></div></div><div class=\"contnr c2  rtl  \" ><div class=\"lbl c2  \" ><span class=\"nd\">sentence</span></div><div class=\"children hor wrap rtl\"><div class=\"contnr c2  rtl  \" ><div class=\"lbl c2  \" ><span class=\"nd\">clause</span></div><div class=\"children hor wrap rtl\"><div class=\"contnr c1  rtl  \" ><div class=\"lbl c1  \" ><span class=\"nd\">phrase</span></div><div class='features'><span class=\"function xft\" ><span class=\"f\">function=</span>Subj</span></div><div class=\"children hor wrap rtl\"><div class=\"contnr c0 trm rtl  \" ><div class=\"lbl c0 trm \" ><a class=\" txtu hbo\" target=\"_blank\" href=\"https://shebanq.ancient-data.org/hebrew/word?version=c&amp;id=1TRXn\" title=\"Show this on SHEBANQ\"><span class=\"txtu hbo\">תֶּ֚רַח </span></a></div><div class='features'><span class=\"lex xft\" ><span class=\"f\">lex=</span>TRX/</span><span class=\"lex_utf8 xft\" ><span class=\"f\">lex_utf8=</span>תרח</span></div></div></div></div><div class=\"contnr c1  rtl  \" ><div class=\"lbl c1  \" ><span class=\"nd\">phrase</span></div><div class='features'><span class=\"function xft\" ><span class=\"f\">function=</span>Pred</span></div><div class=\"children hor wrap rtl\"><div class=\"contnr c0 trm rtl  \" ><div class=\"lbl c0 trm \" ><a class=\" txtu hbo\" target=\"_blank\" href=\"https://shebanq.ancient-data.org/hebrew/word?version=c&amp;id=1JLDv\" title=\"Show this on SHEBANQ\"><span class=\"txtu hbo\">הֹולִ֣יד </span></a></div><div class='features'><span class=\"lex xft\" ><span class=\"f\">lex=</span>JLD[</span><span class=\"lex_utf8 xft\" ><span class=\"f\">lex_utf8=</span>ילד</span></div></div></div></div><div class=\"contnr c1  rtl  \" ><div class=\"lbl c1  \" ><span class=\"nd\">phrase</span></div><div class='features'><span class=\"function xft\" ><span class=\"f\">function=</span>Objc</span></div><div class=\"children hor wrap rtl\"><div class=\"contnr c0 trm rtl  \" ><div class=\"lbl c0 trm \" ><a class=\" txtu hbo\" target=\"_blank\" href=\"https://shebanq.ancient-data.org/hebrew/word?version=c&amp;id=1AT\" title=\"Show this on SHEBANQ\"><span class=\"txtu hbo\">אֶת־</span></a></div><div class='features'><span class=\"lex xft\" ><span class=\"f\">lex=</span>>T</span><span class=\"lex_utf8 xft\" ><span class=\"f\">lex_utf8=</span>את</span></div></div><div class=\"contnr c0 trm rtl  hl\" ><div class=\"lbl c0 trm hl\" ><a class=\" txtu hbo\" target=\"_blank\" href=\"https://shebanq.ancient-data.org/hebrew/word?version=c&amp;id=1ABRMn\" title=\"Show this on SHEBANQ\"><span class=\"txtu hbo\">אַבְרָ֔ם </span></a></div><div class='features'><span class=\"lex xft\" ><span class=\"f\">lex=</span>>BRM/</span><span class=\"lex_utf8 xft\" ><span class=\"f\">lex_utf8=</span>אברם</span></div></div><div class=\"contnr c0 trm rtl  \" ><div class=\"lbl c0 trm \" ><a class=\" txtu hbo\" target=\"_blank\" href=\"https://shebanq.ancient-data.org/hebrew/word?version=c&amp;id=1AT\" title=\"Show this on SHEBANQ\"><span class=\"txtu hbo\">אֶת־</span></a></div><div class='features'><span class=\"lex xft\" ><span class=\"f\">lex=</span>>T</span><span class=\"lex_utf8 xft\" ><span class=\"f\">lex_utf8=</span>את</span></div></div><div class=\"contnr c0 trm rtl  \" ><div class=\"lbl c0 trm \" ><a class=\" txtu hbo\" target=\"_blank\" href=\"https://shebanq.ancient-data.org/hebrew/word?version=c&amp;id=1NXWRn\" title=\"Show this on SHEBANQ\"><span class=\"txtu hbo\">נָחֹ֖ור </span></a></div><div class='features'><span class=\"lex xft\" ><span class=\"f\">lex=</span>NXWR/</span><span class=\"lex_utf8 xft\" ><span class=\"f\">lex_utf8=</span>נחור</span></div></div><div class=\"contnr c0 trm rtl  \" ><div class=\"lbl c0 trm \" ><a class=\" txtu hbo\" target=\"_blank\" href=\"https://shebanq.ancient-data.org/hebrew/word?version=c&amp;id=1W\" title=\"Show this on SHEBANQ\"><span class=\"txtu hbo\">וְ</span></a></div><div class='features'><span class=\"lex xft\" ><span class=\"f\">lex=</span>W</span><span class=\"lex_utf8 xft\" ><span class=\"f\">lex_utf8=</span>ו</span></div></div><div class=\"contnr c0 trm rtl  \" ><div class=\"lbl c0 trm \" ><a class=\" txtu hbo\" target=\"_blank\" href=\"https://shebanq.ancient-data.org/hebrew/word?version=c&amp;id=1AT\" title=\"Show this on SHEBANQ\"><span class=\"txtu hbo\">אֶת־</span></a></div><div class='features'><span class=\"lex xft\" ><span class=\"f\">lex=</span>>T</span><span class=\"lex_utf8 xft\" ><span class=\"f\">lex_utf8=</span>את</span></div></div><div class=\"contnr c0 trm rtl  \" ><div class=\"lbl c0 trm \" ><a class=\" txtu hbo\" target=\"_blank\" href=\"https://shebanq.ancient-data.org/hebrew/word?version=c&amp;id=1HRNn\" title=\"Show this on SHEBANQ\"><span class=\"txtu hbo\">הָרָ֑ן </span></a></div><div class='features'><span class=\"lex xft\" ><span class=\"f\">lex=</span>HRN/</span><span class=\"lex_utf8 xft\" ><span class=\"f\">lex_utf8=</span>הרן</span></div></div></div></div></div></div></div></div><div class=\"contnr c2  rtl  \" ><div class=\"lbl c2  \" ><span class=\"nd\">sentence</span></div><div class=\"children hor wrap rtl\"><div class=\"contnr c2  rtl  \" ><div class=\"lbl c2  \" ><span class=\"nd\">clause</span></div><div class=\"children hor wrap rtl\"><div class=\"contnr c1  rtl  \" ><div class=\"lbl c1  \" ><span class=\"nd\">phrase</span></div><div class='features'><span class=\"function xft\" ><span class=\"f\">function=</span>Conj</span></div><div class=\"children hor wrap rtl\"><div class=\"contnr c0 trm rtl  \" ><div class=\"lbl c0 trm \" ><a class=\" txtu hbo\" target=\"_blank\" href=\"https://shebanq.ancient-data.org/hebrew/word?version=c&amp;id=1W\" title=\"Show this on SHEBANQ\"><span class=\"txtu hbo\">וְ</span></a></div><div class='features'><span class=\"lex xft\" ><span class=\"f\">lex=</span>W</span><span class=\"lex_utf8 xft\" ><span class=\"f\">lex_utf8=</span>ו</span></div></div></div></div><div class=\"contnr c1  rtl  \" ><div class=\"lbl c1  \" ><span class=\"nd\">phrase</span></div><div class='features'><span class=\"function xft\" ><span class=\"f\">function=</span>Subj</span></div><div class=\"children hor wrap rtl\"><div class=\"contnr c0 trm rtl  \" ><div class=\"lbl c0 trm \" ><a class=\" txtu hbo\" target=\"_blank\" href=\"https://shebanq.ancient-data.org/hebrew/word?version=c&amp;id=1HRNn\" title=\"Show this on SHEBANQ\"><span class=\"txtu hbo\">הָרָ֖ן </span></a></div><div class='features'><span class=\"lex xft\" ><span class=\"f\">lex=</span>HRN/</span><span class=\"lex_utf8 xft\" ><span class=\"f\">lex_utf8=</span>הרן</span></div></div></div></div><div class=\"contnr c1  rtl  \" ><div class=\"lbl c1  \" ><span class=\"nd\">phrase</span></div><div class='features'><span class=\"function xft\" ><span class=\"f\">function=</span>Pred</span></div><div class=\"children hor wrap rtl\"><div class=\"contnr c0 trm rtl  \" ><div class=\"lbl c0 trm \" ><a class=\" txtu hbo\" target=\"_blank\" href=\"https://shebanq.ancient-data.org/hebrew/word?version=c&amp;id=1JLDv\" title=\"Show this on SHEBANQ\"><span class=\"txtu hbo\">הֹולִ֥יד </span></a></div><div class='features'><span class=\"lex xft\" ><span class=\"f\">lex=</span>JLD[</span><span class=\"lex_utf8 xft\" ><span class=\"f\">lex_utf8=</span>ילד</span></div></div></div></div><div class=\"contnr c1  rtl  \" ><div class=\"lbl c1  \" ><span class=\"nd\">phrase</span></div><div class='features'><span class=\"function xft\" ><span class=\"f\">function=</span>Objc</span></div><div class=\"children hor wrap rtl\"><div class=\"contnr c0 trm rtl  \" ><div class=\"lbl c0 trm \" ><a class=\" txtu hbo\" target=\"_blank\" href=\"https://shebanq.ancient-data.org/hebrew/word?version=c&amp;id=1AT\" title=\"Show this on SHEBANQ\"><span class=\"txtu hbo\">אֶת־</span></a></div><div class='features'><span class=\"lex xft\" ><span class=\"f\">lex=</span>>T</span><span class=\"lex_utf8 xft\" ><span class=\"f\">lex_utf8=</span>את</span></div></div><div class=\"contnr c0 trm rtl  \" ><div class=\"lbl c0 trm \" ><a class=\" txtu hbo\" target=\"_blank\" href=\"https://shebanq.ancient-data.org/hebrew/word?version=c&amp;id=1LWVin\" title=\"Show this on SHEBANQ\"><span class=\"txtu hbo\">לֹֽוט׃ </span></a></div><div class='features'><span class=\"lex xft\" ><span class=\"f\">lex=</span>LWV=/</span><span class=\"lex_utf8 xft\" ><span class=\"f\">lex_utf8=</span>לוט</span></div></div></div></div></div></div></div></div></div></div></div>"
      ],
      "text/plain": [
       "<IPython.core.display.HTML object>"
      ]
     },
     "metadata": {},
     "output_type": "display_data"
    },
    {
     "data": {
      "text/html": [
       "<p><b>verse</b> <i>3</i></p>"
      ],
      "text/plain": [
       "<IPython.core.display.HTML object>"
      ]
     },
     "metadata": {},
     "output_type": "display_data"
    },
    {
     "data": {
      "text/html": [
       "<div class=\"section rtl\"><a target=\"_blank\" href=\"https://shebanq.ancient-data.org/hebrew/text?book=Genesis&amp;chapter=11&amp;verse=29&amp;version=c&amp;mr=m&amp;qw=q&amp;tp=txt_p&amp;tr=hb&amp;wget=v&amp;qget=v&amp;nget=vt\" title=\"Show this on SHEBANQ\" sec=\"Genesis 11:29\">Genesis 11:29</a></div><div class=\"rtl children\"><div class=\"contnr c3  rtl  \" ><div class=\"lbl c3  \" ><span class=\"nd\">verse</span></div><div class=\"children hor wrap rtl\"><div class=\"contnr c2  rtl  \" ><div class=\"lbl c2  \" ><span class=\"nd\">sentence</span></div><div class=\"children hor wrap rtl\"><div class=\"contnr c2  rtl  \" ><div class=\"lbl c2  \" ><span class=\"nd\">clause</span></div><div class=\"children hor wrap rtl\"><div class=\"contnr c1  rtl  \" ><div class=\"lbl c1  \" ><span class=\"nd\">phrase</span></div><div class='features'><span class=\"function xft\" ><span class=\"f\">function=</span>Conj</span></div><div class=\"children hor wrap rtl\"><div class=\"contnr c0 trm rtl  \" ><div class=\"lbl c0 trm \" ><a class=\" txtu hbo\" target=\"_blank\" href=\"https://shebanq.ancient-data.org/hebrew/word?version=c&amp;id=1W\" title=\"Show this on SHEBANQ\"><span class=\"txtu hbo\">וַ</span></a></div><div class='features'><span class=\"lex xft\" ><span class=\"f\">lex=</span>W</span><span class=\"lex_utf8 xft\" ><span class=\"f\">lex_utf8=</span>ו</span></div></div></div></div><div class=\"contnr c1  rtl  \" ><div class=\"lbl c1  \" ><span class=\"nd\">phrase</span></div><div class='features'><span class=\"function xft\" ><span class=\"f\">function=</span>Pred</span></div><div class=\"children hor wrap rtl\"><div class=\"contnr c0 trm rtl  \" ><div class=\"lbl c0 trm \" ><a class=\" txtu hbo\" target=\"_blank\" href=\"https://shebanq.ancient-data.org/hebrew/word?version=c&amp;id=1LQXv\" title=\"Show this on SHEBANQ\"><span class=\"txtu hbo\">יִּקַּ֨ח </span></a></div><div class='features'><span class=\"lex xft\" ><span class=\"f\">lex=</span>LQX[</span><span class=\"lex_utf8 xft\" ><span class=\"f\">lex_utf8=</span>לקח</span></div></div></div></div><div class=\"contnr c1  rtl  \" ><div class=\"lbl c1  \" ><span class=\"nd\">phrase</span></div><div class='features'><span class=\"function xft\" ><span class=\"f\">function=</span>Subj</span></div><div class=\"children hor wrap rtl\"><div class=\"contnr c0 trm rtl  hl\" ><div class=\"lbl c0 trm hl\" ><a class=\" txtu hbo\" target=\"_blank\" href=\"https://shebanq.ancient-data.org/hebrew/word?version=c&amp;id=1ABRMn\" title=\"Show this on SHEBANQ\"><span class=\"txtu hbo\">אַבְרָ֧ם </span></a></div><div class='features'><span class=\"lex xft\" ><span class=\"f\">lex=</span>>BRM/</span><span class=\"lex_utf8 xft\" ><span class=\"f\">lex_utf8=</span>אברם</span></div></div><div class=\"contnr c0 trm rtl  \" ><div class=\"lbl c0 trm \" ><a class=\" txtu hbo\" target=\"_blank\" href=\"https://shebanq.ancient-data.org/hebrew/word?version=c&amp;id=1W\" title=\"Show this on SHEBANQ\"><span class=\"txtu hbo\">וְ</span></a></div><div class='features'><span class=\"lex xft\" ><span class=\"f\">lex=</span>W</span><span class=\"lex_utf8 xft\" ><span class=\"f\">lex_utf8=</span>ו</span></div></div><div class=\"contnr c0 trm rtl  \" ><div class=\"lbl c0 trm \" ><a class=\" txtu hbo\" target=\"_blank\" href=\"https://shebanq.ancient-data.org/hebrew/word?version=c&amp;id=1NXWRn\" title=\"Show this on SHEBANQ\"><span class=\"txtu hbo\">נָחֹ֛ור </span></a></div><div class='features'><span class=\"lex xft\" ><span class=\"f\">lex=</span>NXWR/</span><span class=\"lex_utf8 xft\" ><span class=\"f\">lex_utf8=</span>נחור</span></div></div></div></div><div class=\"contnr c1  rtl  \" ><div class=\"lbl c1  \" ><span class=\"nd\">phrase</span></div><div class='features'><span class=\"function xft\" ><span class=\"f\">function=</span>Cmpl</span></div><div class=\"children hor wrap rtl\"><div class=\"contnr c0 trm rtl  \" ><div class=\"lbl c0 trm \" ><a class=\" txtu hbo\" target=\"_blank\" href=\"https://shebanq.ancient-data.org/hebrew/word?version=c&amp;id=1L\" title=\"Show this on SHEBANQ\"><span class=\"txtu hbo\">לָהֶ֖ם </span></a></div><div class='features'><span class=\"lex xft\" ><span class=\"f\">lex=</span>L</span><span class=\"lex_utf8 xft\" ><span class=\"f\">lex_utf8=</span>ל</span></div></div></div></div><div class=\"contnr c1  rtl  \" ><div class=\"lbl c1  \" ><span class=\"nd\">phrase</span></div><div class='features'><span class=\"function xft\" ><span class=\"f\">function=</span>Objc</span></div><div class=\"children hor wrap rtl\"><div class=\"contnr c0 trm rtl  \" ><div class=\"lbl c0 trm \" ><a class=\" txtu hbo\" target=\"_blank\" href=\"https://shebanq.ancient-data.org/hebrew/word?version=c&amp;id=1ACHn\" title=\"Show this on SHEBANQ\"><span class=\"txtu hbo\">נָשִׁ֑ים </span></a></div><div class='features'><span class=\"lex xft\" ><span class=\"f\">lex=</span>>CH/</span><span class=\"lex_utf8 xft\" ><span class=\"f\">lex_utf8=</span>אשׁה</span></div></div></div></div></div></div></div></div><div class=\"contnr c2  rtl  \" ><div class=\"lbl c2  \" ><span class=\"nd\">sentence</span></div><div class=\"children hor wrap rtl\"><div class=\"contnr c2  rtl  \" ><div class=\"lbl c2  \" ><span class=\"nd\">clause</span></div><div class=\"children hor wrap rtl\"><div class=\"contnr c1  rtl  \" ><div class=\"lbl c1  \" ><span class=\"nd\">phrase</span></div><div class='features'><span class=\"function xft\" ><span class=\"f\">function=</span>Subj</span></div><div class=\"children hor wrap rtl\"><div class=\"contnr c0 trm rtl  \" ><div class=\"lbl c0 trm \" ><a class=\" txtu hbo\" target=\"_blank\" href=\"https://shebanq.ancient-data.org/hebrew/word?version=c&amp;id=1CMn\" title=\"Show this on SHEBANQ\"><span class=\"txtu hbo\">שֵׁ֤ם </span></a></div><div class='features'><span class=\"lex xft\" ><span class=\"f\">lex=</span>CM/</span><span class=\"lex_utf8 xft\" ><span class=\"f\">lex_utf8=</span>שׁם</span></div></div><div class=\"contnr c0 trm rtl  \" ><div class=\"lbl c0 trm \" ><a class=\" txtu hbo\" target=\"_blank\" href=\"https://shebanq.ancient-data.org/hebrew/word?version=c&amp;id=1ACHn\" title=\"Show this on SHEBANQ\"><span class=\"txtu hbo\">אֵֽשֶׁת־</span></a></div><div class='features'><span class=\"lex xft\" ><span class=\"f\">lex=</span>>CH/</span><span class=\"lex_utf8 xft\" ><span class=\"f\">lex_utf8=</span>אשׁה</span></div></div><div class=\"contnr c0 trm rtl  hl\" ><div class=\"lbl c0 trm hl\" ><a class=\" txtu hbo\" target=\"_blank\" href=\"https://shebanq.ancient-data.org/hebrew/word?version=c&amp;id=1ABRMn\" title=\"Show this on SHEBANQ\"><span class=\"txtu hbo\">אַבְרָם֙ </span></a></div><div class='features'><span class=\"lex xft\" ><span class=\"f\">lex=</span>>BRM/</span><span class=\"lex_utf8 xft\" ><span class=\"f\">lex_utf8=</span>אברם</span></div></div></div></div><div class=\"contnr c1  rtl  \" ><div class=\"lbl c1  \" ><span class=\"nd\">phrase</span></div><div class='features'><span class=\"function xft\" ><span class=\"f\">function=</span>PreC</span></div><div class=\"children hor wrap rtl\"><div class=\"contnr c0 trm rtl  \" ><div class=\"lbl c0 trm \" ><a class=\" txtu hbo\" target=\"_blank\" href=\"https://shebanq.ancient-data.org/hebrew/word?version=c&amp;id=1FRJn\" title=\"Show this on SHEBANQ\"><span class=\"txtu hbo\">שָׂרָ֔י </span></a></div><div class='features'><span class=\"lex xft\" ><span class=\"f\">lex=</span>FRJ/</span><span class=\"lex_utf8 xft\" ><span class=\"f\">lex_utf8=</span>שׂרי</span></div></div></div></div></div></div></div></div><div class=\"contnr c2  rtl  \" ><div class=\"lbl c2  \" ><span class=\"nd\">sentence</span></div><div class=\"children hor wrap rtl\"><div class=\"contnr c2  rtl  \" ><div class=\"lbl c2  \" ><span class=\"nd\">clause</span></div><div class=\"children hor wrap rtl\"><div class=\"contnr c1  rtl  \" ><div class=\"lbl c1  \" ><span class=\"nd\">phrase</span></div><div class='features'><span class=\"function xft\" ><span class=\"f\">function=</span>Conj</span></div><div class=\"children hor wrap rtl\"><div class=\"contnr c0 trm rtl  \" ><div class=\"lbl c0 trm \" ><a class=\" txtu hbo\" target=\"_blank\" href=\"https://shebanq.ancient-data.org/hebrew/word?version=c&amp;id=1W\" title=\"Show this on SHEBANQ\"><span class=\"txtu hbo\">וְ</span></a></div><div class='features'><span class=\"lex xft\" ><span class=\"f\">lex=</span>W</span><span class=\"lex_utf8 xft\" ><span class=\"f\">lex_utf8=</span>ו</span></div></div></div></div><div class=\"contnr c1  rtl  \" ><div class=\"lbl c1  \" ><span class=\"nd\">phrase</span></div><div class='features'><span class=\"function xft\" ><span class=\"f\">function=</span>PreC</span></div><div class=\"children hor wrap rtl\"><div class=\"contnr c0 trm rtl  \" ><div class=\"lbl c0 trm \" ><a class=\" txtu hbo\" target=\"_blank\" href=\"https://shebanq.ancient-data.org/hebrew/word?version=c&amp;id=1CMn\" title=\"Show this on SHEBANQ\"><span class=\"txtu hbo\">שֵׁ֤ם </span></a></div><div class='features'><span class=\"lex xft\" ><span class=\"f\">lex=</span>CM/</span><span class=\"lex_utf8 xft\" ><span class=\"f\">lex_utf8=</span>שׁם</span></div></div><div class=\"contnr c0 trm rtl  \" ><div class=\"lbl c0 trm \" ><a class=\" txtu hbo\" target=\"_blank\" href=\"https://shebanq.ancient-data.org/hebrew/word?version=c&amp;id=1ACHn\" title=\"Show this on SHEBANQ\"><span class=\"txtu hbo\">אֵֽשֶׁת־</span></a></div><div class='features'><span class=\"lex xft\" ><span class=\"f\">lex=</span>>CH/</span><span class=\"lex_utf8 xft\" ><span class=\"f\">lex_utf8=</span>אשׁה</span></div></div><div class=\"contnr c0 trm rtl  \" ><div class=\"lbl c0 trm \" ><a class=\" txtu hbo\" target=\"_blank\" href=\"https://shebanq.ancient-data.org/hebrew/word?version=c&amp;id=1NXWRn\" title=\"Show this on SHEBANQ\"><span class=\"txtu hbo\">נָחֹור֙ </span></a></div><div class='features'><span class=\"lex xft\" ><span class=\"f\">lex=</span>NXWR/</span><span class=\"lex_utf8 xft\" ><span class=\"f\">lex_utf8=</span>נחור</span></div></div></div></div><div class=\"contnr c1  rtl  \" ><div class=\"lbl c1  \" ><span class=\"nd\">phrase</span></div><div class='features'><span class=\"function xft\" ><span class=\"f\">function=</span>Subj</span></div><div class=\"children hor wrap rtl\"><div class=\"contnr c0 trm rtl  \" ><div class=\"lbl c0 trm \" ><a class=\" txtu hbo\" target=\"_blank\" href=\"https://shebanq.ancient-data.org/hebrew/word?version=c&amp;id=1MLKHin\" title=\"Show this on SHEBANQ\"><span class=\"txtu hbo\">מִלְכָּ֔ה </span></a></div><div class='features'><span class=\"lex xft\" ><span class=\"f\">lex=</span>MLKH=/</span><span class=\"lex_utf8 xft\" ><span class=\"f\">lex_utf8=</span>מלכה</span></div></div><div class=\"contnr c0 trm rtl  \" ><div class=\"lbl c0 trm \" ><a class=\" txtu hbo\" target=\"_blank\" href=\"https://shebanq.ancient-data.org/hebrew/word?version=c&amp;id=1BTn\" title=\"Show this on SHEBANQ\"><span class=\"txtu hbo\">בַּת־</span></a></div><div class='features'><span class=\"lex xft\" ><span class=\"f\">lex=</span>BT/</span><span class=\"lex_utf8 xft\" ><span class=\"f\">lex_utf8=</span>בת</span></div></div><div class=\"contnr c0 trm rtl  \" ><div class=\"lbl c0 trm \" ><a class=\" txtu hbo\" target=\"_blank\" href=\"https://shebanq.ancient-data.org/hebrew/word?version=c&amp;id=1HRNn\" title=\"Show this on SHEBANQ\"><span class=\"txtu hbo\">הָרָ֥ן </span></a></div><div class='features'><span class=\"lex xft\" ><span class=\"f\">lex=</span>HRN/</span><span class=\"lex_utf8 xft\" ><span class=\"f\">lex_utf8=</span>הרן</span></div></div><div class=\"contnr c0 trm rtl  \" ><div class=\"lbl c0 trm \" ><a class=\" txtu hbo\" target=\"_blank\" href=\"https://shebanq.ancient-data.org/hebrew/word?version=c&amp;id=1ABn\" title=\"Show this on SHEBANQ\"><span class=\"txtu hbo\">אֲבִֽי־</span></a></div><div class='features'><span class=\"lex xft\" ><span class=\"f\">lex=</span>>B/</span><span class=\"lex_utf8 xft\" ><span class=\"f\">lex_utf8=</span>אב</span></div></div><div class=\"contnr c0 trm rtl  \" ><div class=\"lbl c0 trm \" ><a class=\" txtu hbo\" target=\"_blank\" href=\"https://shebanq.ancient-data.org/hebrew/word?version=c&amp;id=1MLKHin\" title=\"Show this on SHEBANQ\"><span class=\"txtu hbo\">מִלְכָּ֖ה </span></a></div><div class='features'><span class=\"lex xft\" ><span class=\"f\">lex=</span>MLKH=/</span><span class=\"lex_utf8 xft\" ><span class=\"f\">lex_utf8=</span>מלכה</span></div></div><div class=\"contnr c0 trm rtl  \" ><div class=\"lbl c0 trm \" ><a class=\" txtu hbo\" target=\"_blank\" href=\"https://shebanq.ancient-data.org/hebrew/word?version=c&amp;id=1W\" title=\"Show this on SHEBANQ\"><span class=\"txtu hbo\">וַֽ</span></a></div><div class='features'><span class=\"lex xft\" ><span class=\"f\">lex=</span>W</span><span class=\"lex_utf8 xft\" ><span class=\"f\">lex_utf8=</span>ו</span></div></div><div class=\"contnr c0 trm rtl  \" ><div class=\"lbl c0 trm \" ><a class=\" txtu hbo\" target=\"_blank\" href=\"https://shebanq.ancient-data.org/hebrew/word?version=c&amp;id=1ABn\" title=\"Show this on SHEBANQ\"><span class=\"txtu hbo\">אֲבִ֥י </span></a></div><div class='features'><span class=\"lex xft\" ><span class=\"f\">lex=</span>>B/</span><span class=\"lex_utf8 xft\" ><span class=\"f\">lex_utf8=</span>אב</span></div></div><div class=\"contnr c0 trm rtl  \" ><div class=\"lbl c0 trm \" ><a class=\" txtu hbo\" target=\"_blank\" href=\"https://shebanq.ancient-data.org/hebrew/word?version=c&amp;id=1JSKHn\" title=\"Show this on SHEBANQ\"><span class=\"txtu hbo\">יִסְכָּֽה׃ </span></a></div><div class='features'><span class=\"lex xft\" ><span class=\"f\">lex=</span>JSKH/</span><span class=\"lex_utf8 xft\" ><span class=\"f\">lex_utf8=</span>יסכה</span></div></div></div></div></div></div></div></div></div></div></div>"
      ],
      "text/plain": [
       "<IPython.core.display.HTML object>"
      ]
     },
     "metadata": {},
     "output_type": "display_data"
    },
    {
     "data": {
      "text/html": [
       "<p><b>verse</b> <i>4</i></p>"
      ],
      "text/plain": [
       "<IPython.core.display.HTML object>"
      ]
     },
     "metadata": {},
     "output_type": "display_data"
    },
    {
     "data": {
      "text/html": [
       "<div class=\"section rtl\"><a target=\"_blank\" href=\"https://shebanq.ancient-data.org/hebrew/text?book=Genesis&amp;chapter=11&amp;verse=31&amp;version=c&amp;mr=m&amp;qw=q&amp;tp=txt_p&amp;tr=hb&amp;wget=v&amp;qget=v&amp;nget=vt\" title=\"Show this on SHEBANQ\" sec=\"Genesis 11:31\">Genesis 11:31</a></div><div class=\"rtl children\"><div class=\"contnr c3  rtl  \" ><div class=\"lbl c3  \" ><span class=\"nd\">verse</span></div><div class=\"children hor wrap rtl\"><div class=\"contnr c2  rtl  \" ><div class=\"lbl c2  \" ><span class=\"nd\">sentence</span></div><div class=\"children hor wrap rtl\"><div class=\"contnr c2  rtl  \" ><div class=\"lbl c2  \" ><span class=\"nd\">clause</span></div><div class=\"children hor wrap rtl\"><div class=\"contnr c1  rtl  \" ><div class=\"lbl c1  \" ><span class=\"nd\">phrase</span></div><div class='features'><span class=\"function xft\" ><span class=\"f\">function=</span>Conj</span></div><div class=\"children hor wrap rtl\"><div class=\"contnr c0 trm rtl  \" ><div class=\"lbl c0 trm \" ><a class=\" txtu hbo\" target=\"_blank\" href=\"https://shebanq.ancient-data.org/hebrew/word?version=c&amp;id=1W\" title=\"Show this on SHEBANQ\"><span class=\"txtu hbo\">וַ</span></a></div><div class='features'><span class=\"lex xft\" ><span class=\"f\">lex=</span>W</span><span class=\"lex_utf8 xft\" ><span class=\"f\">lex_utf8=</span>ו</span></div></div></div></div><div class=\"contnr c1  rtl  \" ><div class=\"lbl c1  \" ><span class=\"nd\">phrase</span></div><div class='features'><span class=\"function xft\" ><span class=\"f\">function=</span>Pred</span></div><div class=\"children hor wrap rtl\"><div class=\"contnr c0 trm rtl  \" ><div class=\"lbl c0 trm \" ><a class=\" txtu hbo\" target=\"_blank\" href=\"https://shebanq.ancient-data.org/hebrew/word?version=c&amp;id=1LQXv\" title=\"Show this on SHEBANQ\"><span class=\"txtu hbo\">יִּקַּ֨ח </span></a></div><div class='features'><span class=\"lex xft\" ><span class=\"f\">lex=</span>LQX[</span><span class=\"lex_utf8 xft\" ><span class=\"f\">lex_utf8=</span>לקח</span></div></div></div></div><div class=\"contnr c1  rtl  \" ><div class=\"lbl c1  \" ><span class=\"nd\">phrase</span></div><div class='features'><span class=\"function xft\" ><span class=\"f\">function=</span>Subj</span></div><div class=\"children hor wrap rtl\"><div class=\"contnr c0 trm rtl  \" ><div class=\"lbl c0 trm \" ><a class=\" txtu hbo\" target=\"_blank\" href=\"https://shebanq.ancient-data.org/hebrew/word?version=c&amp;id=1TRXn\" title=\"Show this on SHEBANQ\"><span class=\"txtu hbo\">תֶּ֜רַח </span></a></div><div class='features'><span class=\"lex xft\" ><span class=\"f\">lex=</span>TRX/</span><span class=\"lex_utf8 xft\" ><span class=\"f\">lex_utf8=</span>תרח</span></div></div></div></div><div class=\"contnr c1  rtl  \" ><div class=\"lbl c1  \" ><span class=\"nd\">phrase</span></div><div class='features'><span class=\"function xft\" ><span class=\"f\">function=</span>Objc</span></div><div class=\"children hor wrap rtl\"><div class=\"contnr c0 trm rtl  \" ><div class=\"lbl c0 trm \" ><a class=\" txtu hbo\" target=\"_blank\" href=\"https://shebanq.ancient-data.org/hebrew/word?version=c&amp;id=1AT\" title=\"Show this on SHEBANQ\"><span class=\"txtu hbo\">אֶת־</span></a></div><div class='features'><span class=\"lex xft\" ><span class=\"f\">lex=</span>>T</span><span class=\"lex_utf8 xft\" ><span class=\"f\">lex_utf8=</span>את</span></div></div><div class=\"contnr c0 trm rtl  hl\" ><div class=\"lbl c0 trm hl\" ><a class=\" txtu hbo\" target=\"_blank\" href=\"https://shebanq.ancient-data.org/hebrew/word?version=c&amp;id=1ABRMn\" title=\"Show this on SHEBANQ\"><span class=\"txtu hbo\">אַבְרָ֣ם </span></a></div><div class='features'><span class=\"lex xft\" ><span class=\"f\">lex=</span>>BRM/</span><span class=\"lex_utf8 xft\" ><span class=\"f\">lex_utf8=</span>אברם</span></div></div><div class=\"contnr c0 trm rtl  \" ><div class=\"lbl c0 trm \" ><a class=\" txtu hbo\" target=\"_blank\" href=\"https://shebanq.ancient-data.org/hebrew/word?version=c&amp;id=1BNn\" title=\"Show this on SHEBANQ\"><span class=\"txtu hbo\">בְּנֹ֗ו </span></a></div><div class='features'><span class=\"lex xft\" ><span class=\"f\">lex=</span>BN/</span><span class=\"lex_utf8 xft\" ><span class=\"f\">lex_utf8=</span>בן</span></div></div><div class=\"contnr c0 trm rtl  \" ><div class=\"lbl c0 trm \" ><a class=\" txtu hbo\" target=\"_blank\" href=\"https://shebanq.ancient-data.org/hebrew/word?version=c&amp;id=1W\" title=\"Show this on SHEBANQ\"><span class=\"txtu hbo\">וְ</span></a></div><div class='features'><span class=\"lex xft\" ><span class=\"f\">lex=</span>W</span><span class=\"lex_utf8 xft\" ><span class=\"f\">lex_utf8=</span>ו</span></div></div><div class=\"contnr c0 trm rtl  \" ><div class=\"lbl c0 trm \" ><a class=\" txtu hbo\" target=\"_blank\" href=\"https://shebanq.ancient-data.org/hebrew/word?version=c&amp;id=1AT\" title=\"Show this on SHEBANQ\"><span class=\"txtu hbo\">אֶת־</span></a></div><div class='features'><span class=\"lex xft\" ><span class=\"f\">lex=</span>>T</span><span class=\"lex_utf8 xft\" ><span class=\"f\">lex_utf8=</span>את</span></div></div><div class=\"contnr c0 trm rtl  \" ><div class=\"lbl c0 trm \" ><a class=\" txtu hbo\" target=\"_blank\" href=\"https://shebanq.ancient-data.org/hebrew/word?version=c&amp;id=1LWVin\" title=\"Show this on SHEBANQ\"><span class=\"txtu hbo\">לֹ֤וט </span></a></div><div class='features'><span class=\"lex xft\" ><span class=\"f\">lex=</span>LWV=/</span><span class=\"lex_utf8 xft\" ><span class=\"f\">lex_utf8=</span>לוט</span></div></div><div class=\"contnr c0 trm rtl  \" ><div class=\"lbl c0 trm \" ><a class=\" txtu hbo\" target=\"_blank\" href=\"https://shebanq.ancient-data.org/hebrew/word?version=c&amp;id=1BNn\" title=\"Show this on SHEBANQ\"><span class=\"txtu hbo\">בֶּן־</span></a></div><div class='features'><span class=\"lex xft\" ><span class=\"f\">lex=</span>BN/</span><span class=\"lex_utf8 xft\" ><span class=\"f\">lex_utf8=</span>בן</span></div></div><div class=\"contnr c0 trm rtl  \" ><div class=\"lbl c0 trm \" ><a class=\" txtu hbo\" target=\"_blank\" href=\"https://shebanq.ancient-data.org/hebrew/word?version=c&amp;id=1HRNn\" title=\"Show this on SHEBANQ\"><span class=\"txtu hbo\">הָרָן֙ </span></a></div><div class='features'><span class=\"lex xft\" ><span class=\"f\">lex=</span>HRN/</span><span class=\"lex_utf8 xft\" ><span class=\"f\">lex_utf8=</span>הרן</span></div></div><div class=\"contnr c0 trm rtl  \" ><div class=\"lbl c0 trm \" ><a class=\" txtu hbo\" target=\"_blank\" href=\"https://shebanq.ancient-data.org/hebrew/word?version=c&amp;id=1BNn\" title=\"Show this on SHEBANQ\"><span class=\"txtu hbo\">בֶּן־</span></a></div><div class='features'><span class=\"lex xft\" ><span class=\"f\">lex=</span>BN/</span><span class=\"lex_utf8 xft\" ><span class=\"f\">lex_utf8=</span>בן</span></div></div><div class=\"contnr c0 trm rtl  \" ><div class=\"lbl c0 trm \" ><a class=\" txtu hbo\" target=\"_blank\" href=\"https://shebanq.ancient-data.org/hebrew/word?version=c&amp;id=1BNn\" title=\"Show this on SHEBANQ\"><span class=\"txtu hbo\">בְּנֹ֔ו </span></a></div><div class='features'><span class=\"lex xft\" ><span class=\"f\">lex=</span>BN/</span><span class=\"lex_utf8 xft\" ><span class=\"f\">lex_utf8=</span>בן</span></div></div><div class=\"contnr c0 trm rtl  \" ><div class=\"lbl c0 trm \" ><a class=\" txtu hbo\" target=\"_blank\" href=\"https://shebanq.ancient-data.org/hebrew/word?version=c&amp;id=1W\" title=\"Show this on SHEBANQ\"><span class=\"txtu hbo\">וְ</span></a></div><div class='features'><span class=\"lex xft\" ><span class=\"f\">lex=</span>W</span><span class=\"lex_utf8 xft\" ><span class=\"f\">lex_utf8=</span>ו</span></div></div><div class=\"contnr c0 trm rtl  \" ><div class=\"lbl c0 trm \" ><a class=\" txtu hbo\" target=\"_blank\" href=\"https://shebanq.ancient-data.org/hebrew/word?version=c&amp;id=1AT\" title=\"Show this on SHEBANQ\"><span class=\"txtu hbo\">אֵת֙ </span></a></div><div class='features'><span class=\"lex xft\" ><span class=\"f\">lex=</span>>T</span><span class=\"lex_utf8 xft\" ><span class=\"f\">lex_utf8=</span>את</span></div></div><div class=\"contnr c0 trm rtl  \" ><div class=\"lbl c0 trm \" ><a class=\" txtu hbo\" target=\"_blank\" href=\"https://shebanq.ancient-data.org/hebrew/word?version=c&amp;id=1FRJn\" title=\"Show this on SHEBANQ\"><span class=\"txtu hbo\">שָׂרַ֣י </span></a></div><div class='features'><span class=\"lex xft\" ><span class=\"f\">lex=</span>FRJ/</span><span class=\"lex_utf8 xft\" ><span class=\"f\">lex_utf8=</span>שׂרי</span></div></div><div class=\"contnr c0 trm rtl  \" ><div class=\"lbl c0 trm \" ><a class=\" txtu hbo\" target=\"_blank\" href=\"https://shebanq.ancient-data.org/hebrew/word?version=c&amp;id=1KLHn\" title=\"Show this on SHEBANQ\"><span class=\"txtu hbo\">כַּלָּתֹ֔ו </span></a></div><div class='features'><span class=\"lex xft\" ><span class=\"f\">lex=</span>KLH/</span><span class=\"lex_utf8 xft\" ><span class=\"f\">lex_utf8=</span>כלה</span></div></div><div class=\"contnr c0 trm rtl  \" ><div class=\"lbl c0 trm \" ><a class=\" txtu hbo\" target=\"_blank\" href=\"https://shebanq.ancient-data.org/hebrew/word?version=c&amp;id=1ACHn\" title=\"Show this on SHEBANQ\"><span class=\"txtu hbo\">אֵ֖שֶׁת </span></a></div><div class='features'><span class=\"lex xft\" ><span class=\"f\">lex=</span>>CH/</span><span class=\"lex_utf8 xft\" ><span class=\"f\">lex_utf8=</span>אשׁה</span></div></div><div class=\"contnr c0 trm rtl  hl\" ><div class=\"lbl c0 trm hl\" ><a class=\" txtu hbo\" target=\"_blank\" href=\"https://shebanq.ancient-data.org/hebrew/word?version=c&amp;id=1ABRMn\" title=\"Show this on SHEBANQ\"><span class=\"txtu hbo\">אַבְרָ֣ם </span></a></div><div class='features'><span class=\"lex xft\" ><span class=\"f\">lex=</span>>BRM/</span><span class=\"lex_utf8 xft\" ><span class=\"f\">lex_utf8=</span>אברם</span></div></div><div class=\"contnr c0 trm rtl  \" ><div class=\"lbl c0 trm \" ><a class=\" txtu hbo\" target=\"_blank\" href=\"https://shebanq.ancient-data.org/hebrew/word?version=c&amp;id=1BNn\" title=\"Show this on SHEBANQ\"><span class=\"txtu hbo\">בְּנֹ֑ו </span></a></div><div class='features'><span class=\"lex xft\" ><span class=\"f\">lex=</span>BN/</span><span class=\"lex_utf8 xft\" ><span class=\"f\">lex_utf8=</span>בן</span></div></div></div></div></div></div></div></div><div class=\"contnr c2  rtl  \" ><div class=\"lbl c2  \" ><span class=\"nd\">sentence</span></div><div class=\"children hor wrap rtl\"><div class=\"contnr c2  rtl  \" ><div class=\"lbl c2  \" ><span class=\"nd\">clause</span></div><div class=\"children hor wrap rtl\"><div class=\"contnr c1  rtl  \" ><div class=\"lbl c1  \" ><span class=\"nd\">phrase</span></div><div class='features'><span class=\"function xft\" ><span class=\"f\">function=</span>Conj</span></div><div class=\"children hor wrap rtl\"><div class=\"contnr c0 trm rtl  \" ><div class=\"lbl c0 trm \" ><a class=\" txtu hbo\" target=\"_blank\" href=\"https://shebanq.ancient-data.org/hebrew/word?version=c&amp;id=1W\" title=\"Show this on SHEBANQ\"><span class=\"txtu hbo\">וַ</span></a></div><div class='features'><span class=\"lex xft\" ><span class=\"f\">lex=</span>W</span><span class=\"lex_utf8 xft\" ><span class=\"f\">lex_utf8=</span>ו</span></div></div></div></div><div class=\"contnr c1  rtl  \" ><div class=\"lbl c1  \" ><span class=\"nd\">phrase</span></div><div class='features'><span class=\"function xft\" ><span class=\"f\">function=</span>Pred</span></div><div class=\"children hor wrap rtl\"><div class=\"contnr c0 trm rtl  \" ><div class=\"lbl c0 trm \" ><a class=\" txtu hbo\" target=\"_blank\" href=\"https://shebanq.ancient-data.org/hebrew/word?version=c&amp;id=1JYAv\" title=\"Show this on SHEBANQ\"><span class=\"txtu hbo\">יֵּצְא֨וּ </span></a></div><div class='features'><span class=\"lex xft\" ><span class=\"f\">lex=</span>JY>[</span><span class=\"lex_utf8 xft\" ><span class=\"f\">lex_utf8=</span>יצא</span></div></div></div></div><div class=\"contnr c1  rtl  \" ><div class=\"lbl c1  \" ><span class=\"nd\">phrase</span></div><div class='features'><span class=\"function xft\" ><span class=\"f\">function=</span>Adju</span></div><div class=\"children hor wrap rtl\"><div class=\"contnr c0 trm rtl  \" ><div class=\"lbl c0 trm \" ><a class=\" txtu hbo\" target=\"_blank\" href=\"https://shebanq.ancient-data.org/hebrew/word?version=c&amp;id=1ATii\" title=\"Show this on SHEBANQ\"><span class=\"txtu hbo\">אִתָּ֜ם </span></a></div><div class='features'><span class=\"lex xft\" ><span class=\"f\">lex=</span>>T==</span><span class=\"lex_utf8 xft\" ><span class=\"f\">lex_utf8=</span>את</span></div></div></div></div><div class=\"contnr c1  rtl  \" ><div class=\"lbl c1  \" ><span class=\"nd\">phrase</span></div><div class='features'><span class=\"function xft\" ><span class=\"f\">function=</span>Cmpl</span></div><div class=\"children hor wrap rtl\"><div class=\"contnr c0 trm rtl  \" ><div class=\"lbl c0 trm \" ><a class=\" txtu hbo\" target=\"_blank\" href=\"https://shebanq.ancient-data.org/hebrew/word?version=c&amp;id=1MN\" title=\"Show this on SHEBANQ\"><span class=\"txtu hbo\">מֵ</span></a></div><div class='features'><span class=\"lex xft\" ><span class=\"f\">lex=</span>MN</span><span class=\"lex_utf8 xft\" ><span class=\"f\">lex_utf8=</span>מן</span></div></div><div class=\"contnr c0 trm rtl  \" ><div class=\"lbl c0 trm \" ><a class=\" txtu hbo\" target=\"_blank\" href=\"https://shebanq.ancient-data.org/hebrew/word?version=c&amp;id=1AWRiiin\" title=\"Show this on SHEBANQ\"><span class=\"txtu hbo\">א֣וּר </span></a></div><div class='features'><span class=\"lex xft\" ><span class=\"f\">lex=</span>>WR===/</span><span class=\"lex_utf8 xft\" ><span class=\"f\">lex_utf8=</span>אור</span></div></div><div class=\"contnr c0 trm rtl  \" ><div class=\"lbl c0 trm \" ><a class=\" txtu hbo\" target=\"_blank\" href=\"https://shebanq.ancient-data.org/hebrew/word?version=c&amp;id=1KFDJMn\" title=\"Show this on SHEBANQ\"><span class=\"txtu hbo\">כַּשְׂדִּ֗ים </span></a></div><div class='features'><span class=\"lex xft\" ><span class=\"f\">lex=</span>KFDJM/</span><span class=\"lex_utf8 xft\" ><span class=\"f\">lex_utf8=</span>כשׂדים</span></div></div></div></div></div></div><div class=\"contnr c2  rtl  \" ><div class=\"lbl c2  \" ><span class=\"nd\">clause</span></div><div class=\"children hor wrap rtl\"><div class=\"contnr c1  rtl  \" ><div class=\"lbl c1  \" ><span class=\"nd\">phrase</span></div><div class='features'><span class=\"function xft\" ><span class=\"f\">function=</span>Pred</span></div><div class=\"children hor wrap rtl\"><div class=\"contnr c0 trm rtl  \" ><div class=\"lbl c0 trm \" ><a class=\" txtu hbo\" target=\"_blank\" href=\"https://shebanq.ancient-data.org/hebrew/word?version=c&amp;id=1L\" title=\"Show this on SHEBANQ\"><span class=\"txtu hbo\">לָ</span></a></div><div class='features'><span class=\"lex xft\" ><span class=\"f\">lex=</span>L</span><span class=\"lex_utf8 xft\" ><span class=\"f\">lex_utf8=</span>ל</span></div></div><div class=\"contnr c0 trm rtl  \" ><div class=\"lbl c0 trm \" ><a class=\" txtu hbo\" target=\"_blank\" href=\"https://shebanq.ancient-data.org/hebrew/word?version=c&amp;id=1HLKv\" title=\"Show this on SHEBANQ\"><span class=\"txtu hbo\">לֶ֨כֶת֙ </span></a></div><div class='features'><span class=\"lex xft\" ><span class=\"f\">lex=</span>HLK[</span><span class=\"lex_utf8 xft\" ><span class=\"f\">lex_utf8=</span>הלך</span></div></div></div></div><div class=\"contnr c1  rtl  \" ><div class=\"lbl c1  \" ><span class=\"nd\">phrase</span></div><div class='features'><span class=\"function xft\" ><span class=\"f\">function=</span>Cmpl</span></div><div class=\"children hor wrap rtl\"><div class=\"contnr c0 trm rtl  \" ><div class=\"lbl c0 trm \" ><a class=\" txtu hbo\" target=\"_blank\" href=\"https://shebanq.ancient-data.org/hebrew/word?version=c&amp;id=1ARYn\" title=\"Show this on SHEBANQ\"><span class=\"txtu hbo\">אַ֣רְצָה </span></a></div><div class='features'><span class=\"lex xft\" ><span class=\"f\">lex=</span>>RY/</span><span class=\"lex_utf8 xft\" ><span class=\"f\">lex_utf8=</span>ארץ</span></div></div><div class=\"contnr c0 trm rtl  \" ><div class=\"lbl c0 trm \" ><a class=\" txtu hbo\" target=\"_blank\" href=\"https://shebanq.ancient-data.org/hebrew/word?version=c&amp;id=1KNONn\" title=\"Show this on SHEBANQ\"><span class=\"txtu hbo\">כְּנַ֔עַן </span></a></div><div class='features'><span class=\"lex xft\" ><span class=\"f\">lex=</span>KN&lt;N/</span><span class=\"lex_utf8 xft\" ><span class=\"f\">lex_utf8=</span>כנען</span></div></div></div></div></div></div></div></div><div class=\"contnr c2  rtl  \" ><div class=\"lbl c2  \" ><span class=\"nd\">sentence</span></div><div class=\"children hor wrap rtl\"><div class=\"contnr c2  rtl  \" ><div class=\"lbl c2  \" ><span class=\"nd\">clause</span></div><div class=\"children hor wrap rtl\"><div class=\"contnr c1  rtl  \" ><div class=\"lbl c1  \" ><span class=\"nd\">phrase</span></div><div class='features'><span class=\"function xft\" ><span class=\"f\">function=</span>Conj</span></div><div class=\"children hor wrap rtl\"><div class=\"contnr c0 trm rtl  \" ><div class=\"lbl c0 trm \" ><a class=\" txtu hbo\" target=\"_blank\" href=\"https://shebanq.ancient-data.org/hebrew/word?version=c&amp;id=1W\" title=\"Show this on SHEBANQ\"><span class=\"txtu hbo\">וַ</span></a></div><div class='features'><span class=\"lex xft\" ><span class=\"f\">lex=</span>W</span><span class=\"lex_utf8 xft\" ><span class=\"f\">lex_utf8=</span>ו</span></div></div></div></div><div class=\"contnr c1  rtl  \" ><div class=\"lbl c1  \" ><span class=\"nd\">phrase</span></div><div class='features'><span class=\"function xft\" ><span class=\"f\">function=</span>Pred</span></div><div class=\"children hor wrap rtl\"><div class=\"contnr c0 trm rtl  \" ><div class=\"lbl c0 trm \" ><a class=\" txtu hbo\" target=\"_blank\" href=\"https://shebanq.ancient-data.org/hebrew/word?version=c&amp;id=1BWAv\" title=\"Show this on SHEBANQ\"><span class=\"txtu hbo\">יָּבֹ֥אוּ </span></a></div><div class='features'><span class=\"lex xft\" ><span class=\"f\">lex=</span>BW>[</span><span class=\"lex_utf8 xft\" ><span class=\"f\">lex_utf8=</span>בוא</span></div></div></div></div><div class=\"contnr c1  rtl  \" ><div class=\"lbl c1  \" ><span class=\"nd\">phrase</span></div><div class='features'><span class=\"function xft\" ><span class=\"f\">function=</span>Cmpl</span></div><div class=\"children hor wrap rtl\"><div class=\"contnr c0 trm rtl  \" ><div class=\"lbl c0 trm \" ><a class=\" txtu hbo\" target=\"_blank\" href=\"https://shebanq.ancient-data.org/hebrew/word?version=c&amp;id=1OD\" title=\"Show this on SHEBANQ\"><span class=\"txtu hbo\">עַד־</span></a></div><div class='features'><span class=\"lex xft\" ><span class=\"f\">lex=</span>&lt;D</span><span class=\"lex_utf8 xft\" ><span class=\"f\">lex_utf8=</span>עד</span></div></div><div class=\"contnr c0 trm rtl  \" ><div class=\"lbl c0 trm \" ><a class=\" txtu hbo\" target=\"_blank\" href=\"https://shebanq.ancient-data.org/hebrew/word?version=c&amp;id=1XRNn\" title=\"Show this on SHEBANQ\"><span class=\"txtu hbo\">חָרָ֖ן </span></a></div><div class='features'><span class=\"lex xft\" ><span class=\"f\">lex=</span>XRN/</span><span class=\"lex_utf8 xft\" ><span class=\"f\">lex_utf8=</span>חרן</span></div></div></div></div></div></div></div></div><div class=\"contnr c2  rtl  \" ><div class=\"lbl c2  \" ><span class=\"nd\">sentence</span></div><div class=\"children hor wrap rtl\"><div class=\"contnr c2  rtl  \" ><div class=\"lbl c2  \" ><span class=\"nd\">clause</span></div><div class=\"children hor wrap rtl\"><div class=\"contnr c1  rtl  \" ><div class=\"lbl c1  \" ><span class=\"nd\">phrase</span></div><div class='features'><span class=\"function xft\" ><span class=\"f\">function=</span>Conj</span></div><div class=\"children hor wrap rtl\"><div class=\"contnr c0 trm rtl  \" ><div class=\"lbl c0 trm \" ><a class=\" txtu hbo\" target=\"_blank\" href=\"https://shebanq.ancient-data.org/hebrew/word?version=c&amp;id=1W\" title=\"Show this on SHEBANQ\"><span class=\"txtu hbo\">וַ</span></a></div><div class='features'><span class=\"lex xft\" ><span class=\"f\">lex=</span>W</span><span class=\"lex_utf8 xft\" ><span class=\"f\">lex_utf8=</span>ו</span></div></div></div></div><div class=\"contnr c1  rtl  \" ><div class=\"lbl c1  \" ><span class=\"nd\">phrase</span></div><div class='features'><span class=\"function xft\" ><span class=\"f\">function=</span>Pred</span></div><div class=\"children hor wrap rtl\"><div class=\"contnr c0 trm rtl  \" ><div class=\"lbl c0 trm \" ><a class=\" txtu hbo\" target=\"_blank\" href=\"https://shebanq.ancient-data.org/hebrew/word?version=c&amp;id=1JCBv\" title=\"Show this on SHEBANQ\"><span class=\"txtu hbo\">יֵּ֥שְׁבוּ </span></a></div><div class='features'><span class=\"lex xft\" ><span class=\"f\">lex=</span>JCB[</span><span class=\"lex_utf8 xft\" ><span class=\"f\">lex_utf8=</span>ישׁב</span></div></div></div></div><div class=\"contnr c1  rtl  \" ><div class=\"lbl c1  \" ><span class=\"nd\">phrase</span></div><div class='features'><span class=\"function xft\" ><span class=\"f\">function=</span>Cmpl</span></div><div class=\"children hor wrap rtl\"><div class=\"contnr c0 trm rtl  \" ><div class=\"lbl c0 trm \" ><a class=\" txtu hbo\" target=\"_blank\" href=\"https://shebanq.ancient-data.org/hebrew/word?version=c&amp;id=1CM\" title=\"Show this on SHEBANQ\"><span class=\"txtu hbo\">שָֽׁם׃ </span></a></div><div class='features'><span class=\"lex xft\" ><span class=\"f\">lex=</span>CM</span><span class=\"lex_utf8 xft\" ><span class=\"f\">lex_utf8=</span>שׁם</span></div></div></div></div></div></div></div></div></div></div></div>"
      ],
      "text/plain": [
       "<IPython.core.display.HTML object>"
      ]
     },
     "metadata": {},
     "output_type": "display_data"
    },
    {
     "data": {
      "text/html": [
       "<p><b>verse</b> <i>5</i></p>"
      ],
      "text/plain": [
       "<IPython.core.display.HTML object>"
      ]
     },
     "metadata": {},
     "output_type": "display_data"
    },
    {
     "data": {
      "text/html": [
       "<div class=\"section rtl\"><a target=\"_blank\" href=\"https://shebanq.ancient-data.org/hebrew/text?book=Genesis&amp;chapter=12&amp;verse=1&amp;version=c&amp;mr=m&amp;qw=q&amp;tp=txt_p&amp;tr=hb&amp;wget=v&amp;qget=v&amp;nget=vt\" title=\"Show this on SHEBANQ\" sec=\"Genesis 12:1\">Genesis 12:1</a></div><div class=\"rtl children\"><div class=\"contnr c3  rtl  \" ><div class=\"lbl c3  \" ><span class=\"nd\">verse</span></div><div class=\"children hor wrap rtl\"><div class=\"contnr c2  rtl  \" ><div class=\"lbl c2  \" ><span class=\"nd\">sentence</span></div><div class=\"children hor wrap rtl\"><div class=\"contnr c2  rtl  \" ><div class=\"lbl c2  \" ><span class=\"nd\">clause</span></div><div class=\"children hor wrap rtl\"><div class=\"contnr c1  rtl  \" ><div class=\"lbl c1  \" ><span class=\"nd\">phrase</span></div><div class='features'><span class=\"function xft\" ><span class=\"f\">function=</span>Conj</span></div><div class=\"children hor wrap rtl\"><div class=\"contnr c0 trm rtl  \" ><div class=\"lbl c0 trm \" ><a class=\" txtu hbo\" target=\"_blank\" href=\"https://shebanq.ancient-data.org/hebrew/word?version=c&amp;id=1W\" title=\"Show this on SHEBANQ\"><span class=\"txtu hbo\">וַ</span></a></div><div class='features'><span class=\"lex xft\" ><span class=\"f\">lex=</span>W</span><span class=\"lex_utf8 xft\" ><span class=\"f\">lex_utf8=</span>ו</span></div></div></div></div><div class=\"contnr c1  rtl  \" ><div class=\"lbl c1  \" ><span class=\"nd\">phrase</span></div><div class='features'><span class=\"function xft\" ><span class=\"f\">function=</span>Pred</span></div><div class=\"children hor wrap rtl\"><div class=\"contnr c0 trm rtl  \" ><div class=\"lbl c0 trm \" ><a class=\" txtu hbo\" target=\"_blank\" href=\"https://shebanq.ancient-data.org/hebrew/word?version=c&amp;id=1AMRv\" title=\"Show this on SHEBANQ\"><span class=\"txtu hbo\">יֹּ֤אמֶר </span></a></div><div class='features'><span class=\"lex xft\" ><span class=\"f\">lex=</span>>MR[</span><span class=\"lex_utf8 xft\" ><span class=\"f\">lex_utf8=</span>אמר</span></div></div></div></div><div class=\"contnr c1  rtl  \" ><div class=\"lbl c1  \" ><span class=\"nd\">phrase</span></div><div class='features'><span class=\"function xft\" ><span class=\"f\">function=</span>Subj</span></div><div class=\"children hor wrap rtl\"><div class=\"contnr c0 trm rtl  \" ><div class=\"lbl c0 trm \" ><a class=\" txtu hbo\" target=\"_blank\" href=\"https://shebanq.ancient-data.org/hebrew/word?version=c&amp;id=1JHWHn\" title=\"Show this on SHEBANQ\"><span class=\"txtu hbo\">יְהוָה֙ </span></a></div><div class='features'><span class=\"lex xft\" ><span class=\"f\">lex=</span>JHWH/</span><span class=\"lex_utf8 xft\" ><span class=\"f\">lex_utf8=</span>יהוה</span></div></div></div></div><div class=\"contnr c1  rtl  \" ><div class=\"lbl c1  \" ><span class=\"nd\">phrase</span></div><div class='features'><span class=\"function xft\" ><span class=\"f\">function=</span>Cmpl</span></div><div class=\"children hor wrap rtl\"><div class=\"contnr c0 trm rtl  \" ><div class=\"lbl c0 trm \" ><a class=\" txtu hbo\" target=\"_blank\" href=\"https://shebanq.ancient-data.org/hebrew/word?version=c&amp;id=1AL\" title=\"Show this on SHEBANQ\"><span class=\"txtu hbo\">אֶל־</span></a></div><div class='features'><span class=\"lex xft\" ><span class=\"f\">lex=</span>>L</span><span class=\"lex_utf8 xft\" ><span class=\"f\">lex_utf8=</span>אל</span></div></div><div class=\"contnr c0 trm rtl  hl\" ><div class=\"lbl c0 trm hl\" ><a class=\" txtu hbo\" target=\"_blank\" href=\"https://shebanq.ancient-data.org/hebrew/word?version=c&amp;id=1ABRMn\" title=\"Show this on SHEBANQ\"><span class=\"txtu hbo\">אַבְרָ֔ם </span></a></div><div class='features'><span class=\"lex xft\" ><span class=\"f\">lex=</span>>BRM/</span><span class=\"lex_utf8 xft\" ><span class=\"f\">lex_utf8=</span>אברם</span></div></div></div></div></div></div></div></div><div class=\"contnr c2  rtl  \" ><div class=\"lbl c2  \" ><span class=\"nd\">sentence</span></div><div class=\"children hor wrap rtl\"><div class=\"contnr c2  rtl  \" ><div class=\"lbl c2  \" ><span class=\"nd\">clause</span></div><div class=\"children hor wrap rtl\"><div class=\"contnr c1  rtl  \" ><div class=\"lbl c1  \" ><span class=\"nd\">phrase</span></div><div class='features'><span class=\"function xft\" ><span class=\"f\">function=</span>Pred</span></div><div class=\"children hor wrap rtl\"><div class=\"contnr c0 trm rtl  \" ><div class=\"lbl c0 trm \" ><a class=\" txtu hbo\" target=\"_blank\" href=\"https://shebanq.ancient-data.org/hebrew/word?version=c&amp;id=1HLKv\" title=\"Show this on SHEBANQ\"><span class=\"txtu hbo\">לֶךְ־</span></a></div><div class='features'><span class=\"lex xft\" ><span class=\"f\">lex=</span>HLK[</span><span class=\"lex_utf8 xft\" ><span class=\"f\">lex_utf8=</span>הלך</span></div></div></div></div><div class=\"contnr c1  rtl  \" ><div class=\"lbl c1  \" ><span class=\"nd\">phrase</span></div><div class='features'><span class=\"function xft\" ><span class=\"f\">function=</span>Supp</span></div><div class=\"children hor wrap rtl\"><div class=\"contnr c0 trm rtl  \" ><div class=\"lbl c0 trm \" ><a class=\" txtu hbo\" target=\"_blank\" href=\"https://shebanq.ancient-data.org/hebrew/word?version=c&amp;id=1L\" title=\"Show this on SHEBANQ\"><span class=\"txtu hbo\">לְךָ֛ </span></a></div><div class='features'><span class=\"lex xft\" ><span class=\"f\">lex=</span>L</span><span class=\"lex_utf8 xft\" ><span class=\"f\">lex_utf8=</span>ל</span></div></div></div></div><div class=\"contnr c1  rtl  \" ><div class=\"lbl c1  \" ><span class=\"nd\">phrase</span></div><div class='features'><span class=\"function xft\" ><span class=\"f\">function=</span>Cmpl</span></div><div class=\"children hor wrap rtl\"><div class=\"contnr c0 trm rtl  \" ><div class=\"lbl c0 trm \" ><a class=\" txtu hbo\" target=\"_blank\" href=\"https://shebanq.ancient-data.org/hebrew/word?version=c&amp;id=1MN\" title=\"Show this on SHEBANQ\"><span class=\"txtu hbo\">מֵ</span></a></div><div class='features'><span class=\"lex xft\" ><span class=\"f\">lex=</span>MN</span><span class=\"lex_utf8 xft\" ><span class=\"f\">lex_utf8=</span>מן</span></div></div><div class=\"contnr c0 trm rtl  \" ><div class=\"lbl c0 trm \" ><a class=\" txtu hbo\" target=\"_blank\" href=\"https://shebanq.ancient-data.org/hebrew/word?version=c&amp;id=1ARYn\" title=\"Show this on SHEBANQ\"><span class=\"txtu hbo\">אַרְצְךָ֥ </span></a></div><div class='features'><span class=\"lex xft\" ><span class=\"f\">lex=</span>>RY/</span><span class=\"lex_utf8 xft\" ><span class=\"f\">lex_utf8=</span>ארץ</span></div></div><div class=\"contnr c0 trm rtl  \" ><div class=\"lbl c0 trm \" ><a class=\" txtu hbo\" target=\"_blank\" href=\"https://shebanq.ancient-data.org/hebrew/word?version=c&amp;id=1W\" title=\"Show this on SHEBANQ\"><span class=\"txtu hbo\">וּ</span></a></div><div class='features'><span class=\"lex xft\" ><span class=\"f\">lex=</span>W</span><span class=\"lex_utf8 xft\" ><span class=\"f\">lex_utf8=</span>ו</span></div></div><div class=\"contnr c0 trm rtl  \" ><div class=\"lbl c0 trm \" ><a class=\" txtu hbo\" target=\"_blank\" href=\"https://shebanq.ancient-data.org/hebrew/word?version=c&amp;id=1MN\" title=\"Show this on SHEBANQ\"><span class=\"txtu hbo\">מִ</span></a></div><div class='features'><span class=\"lex xft\" ><span class=\"f\">lex=</span>MN</span><span class=\"lex_utf8 xft\" ><span class=\"f\">lex_utf8=</span>מן</span></div></div><div class=\"contnr c0 trm rtl  \" ><div class=\"lbl c0 trm \" ><a class=\" txtu hbo\" target=\"_blank\" href=\"https://shebanq.ancient-data.org/hebrew/word?version=c&amp;id=1MWLDTn\" title=\"Show this on SHEBANQ\"><span class=\"txtu hbo\">מֹּֽולַדְתְּךָ֖ </span></a></div><div class='features'><span class=\"lex xft\" ><span class=\"f\">lex=</span>MWLDT/</span><span class=\"lex_utf8 xft\" ><span class=\"f\">lex_utf8=</span>מולדת</span></div></div><div class=\"contnr c0 trm rtl  \" ><div class=\"lbl c0 trm \" ><a class=\" txtu hbo\" target=\"_blank\" href=\"https://shebanq.ancient-data.org/hebrew/word?version=c&amp;id=1W\" title=\"Show this on SHEBANQ\"><span class=\"txtu hbo\">וּ</span></a></div><div class='features'><span class=\"lex xft\" ><span class=\"f\">lex=</span>W</span><span class=\"lex_utf8 xft\" ><span class=\"f\">lex_utf8=</span>ו</span></div></div><div class=\"contnr c0 trm rtl  \" ><div class=\"lbl c0 trm \" ><a class=\" txtu hbo\" target=\"_blank\" href=\"https://shebanq.ancient-data.org/hebrew/word?version=c&amp;id=1MN\" title=\"Show this on SHEBANQ\"><span class=\"txtu hbo\">מִ</span></a></div><div class='features'><span class=\"lex xft\" ><span class=\"f\">lex=</span>MN</span><span class=\"lex_utf8 xft\" ><span class=\"f\">lex_utf8=</span>מן</span></div></div><div class=\"contnr c0 trm rtl  \" ><div class=\"lbl c0 trm \" ><a class=\" txtu hbo\" target=\"_blank\" href=\"https://shebanq.ancient-data.org/hebrew/word?version=c&amp;id=1BJTn\" title=\"Show this on SHEBANQ\"><span class=\"txtu hbo\">בֵּ֣ית </span></a></div><div class='features'><span class=\"lex xft\" ><span class=\"f\">lex=</span>BJT/</span><span class=\"lex_utf8 xft\" ><span class=\"f\">lex_utf8=</span>בית</span></div></div><div class=\"contnr c0 trm rtl  \" ><div class=\"lbl c0 trm \" ><a class=\" txtu hbo\" target=\"_blank\" href=\"https://shebanq.ancient-data.org/hebrew/word?version=c&amp;id=1ABn\" title=\"Show this on SHEBANQ\"><span class=\"txtu hbo\">אָבִ֑יךָ </span></a></div><div class='features'><span class=\"lex xft\" ><span class=\"f\">lex=</span>>B/</span><span class=\"lex_utf8 xft\" ><span class=\"f\">lex_utf8=</span>אב</span></div></div></div></div><div class=\"contnr c1  rtl  \" ><div class=\"lbl c1  \" ><span class=\"nd\">phrase</span></div><div class='features'><span class=\"function xft\" ><span class=\"f\">function=</span>Cmpl</span></div><div class=\"children hor wrap rtl\"><div class=\"contnr c0 trm rtl  \" ><div class=\"lbl c0 trm \" ><a class=\" txtu hbo\" target=\"_blank\" href=\"https://shebanq.ancient-data.org/hebrew/word?version=c&amp;id=1AL\" title=\"Show this on SHEBANQ\"><span class=\"txtu hbo\">אֶל־</span></a></div><div class='features'><span class=\"lex xft\" ><span class=\"f\">lex=</span>>L</span><span class=\"lex_utf8 xft\" ><span class=\"f\">lex_utf8=</span>אל</span></div></div><div class=\"contnr c0 trm rtl  \" ><div class=\"lbl c0 trm \" ><a class=\" txtu hbo\" target=\"_blank\" href=\"https://shebanq.ancient-data.org/hebrew/word?version=c&amp;id=1H\" title=\"Show this on SHEBANQ\"><span class=\"txtu hbo\">הָ</span></a></div><div class='features'><span class=\"lex xft\" ><span class=\"f\">lex=</span>H</span><span class=\"lex_utf8 xft\" ><span class=\"f\">lex_utf8=</span>ה</span></div></div><div class=\"contnr c0 trm rtl  \" ><div class=\"lbl c0 trm \" ><a class=\" txtu hbo\" target=\"_blank\" href=\"https://shebanq.ancient-data.org/hebrew/word?version=c&amp;id=1ARYn\" title=\"Show this on SHEBANQ\"><span class=\"txtu hbo\">אָ֖רֶץ </span></a></div><div class='features'><span class=\"lex xft\" ><span class=\"f\">lex=</span>>RY/</span><span class=\"lex_utf8 xft\" ><span class=\"f\">lex_utf8=</span>ארץ</span></div></div></div></div></div></div><div class=\"contnr c2  rtl  \" ><div class=\"lbl c2  \" ><span class=\"nd\">clause</span></div><div class=\"children hor wrap rtl\"><div class=\"contnr c1  rtl  \" ><div class=\"lbl c1  \" ><span class=\"nd\">phrase</span></div><div class='features'><span class=\"function xft\" ><span class=\"f\">function=</span>Rela</span></div><div class=\"children hor wrap rtl\"><div class=\"contnr c0 trm rtl  \" ><div class=\"lbl c0 trm \" ><a class=\" txtu hbo\" target=\"_blank\" href=\"https://shebanq.ancient-data.org/hebrew/word?version=c&amp;id=1ACR\" title=\"Show this on SHEBANQ\"><span class=\"txtu hbo\">אֲשֶׁ֥ר </span></a></div><div class='features'><span class=\"lex xft\" ><span class=\"f\">lex=</span>>CR</span><span class=\"lex_utf8 xft\" ><span class=\"f\">lex_utf8=</span>אשׁר</span></div></div></div></div><div class=\"contnr c1  rtl  \" ><div class=\"lbl c1  \" ><span class=\"nd\">phrase</span></div><div class='features'><span class=\"function xft\" ><span class=\"f\">function=</span>PreO</span></div><div class=\"children hor wrap rtl\"><div class=\"contnr c0 trm rtl  \" ><div class=\"lbl c0 trm \" ><a class=\" txtu hbo\" target=\"_blank\" href=\"https://shebanq.ancient-data.org/hebrew/word?version=c&amp;id=1RAHv\" title=\"Show this on SHEBANQ\"><span class=\"txtu hbo\">אַרְאֶֽךָּ׃ </span></a></div><div class='features'><span class=\"lex xft\" ><span class=\"f\">lex=</span>R>H[</span><span class=\"lex_utf8 xft\" ><span class=\"f\">lex_utf8=</span>ראה</span></div></div></div></div></div></div></div></div></div></div></div>"
      ],
      "text/plain": [
       "<IPython.core.display.HTML object>"
      ]
     },
     "metadata": {},
     "output_type": "display_data"
    }
   ],
   "source": [
    "# Searching for \"Abram\" and \"Abraham\" in the OT\n",
    "BHSAbrahamSearch = '''\n",
    "word lex=>BRHM/|>BRM/\n",
    "'''\n",
    "BHSAbrahamSearch  = BHS.search(BHSAbrahamSearch)\n",
    "BHS.show(BHSAbrahamSearch, start=1, end=5, extraFeatures={'function', 'lex_utf8'}, condensed=True)"
   ]
  },
  {
   "cell_type": "markdown",
   "metadata": {},
   "source": [
    "While Abraham and/or Abram appear 236 times in the OT we want to know how often Abraham appears in the NT?"
   ]
  },
  {
   "cell_type": "code",
   "execution_count": 5,
   "metadata": {},
   "outputs": [
    {
     "name": "stdout",
     "output_type": "stream",
     "text": [
      "  0.14s 73 results\n"
     ]
    },
    {
     "data": {
      "text/html": [
       "<table><tr class=\"tf ltr\"><th class=\"tf ltr\">n</th><th class=\"tf ltr\">p</th><th class=\"tf ltr\">word</th></tr>\n",
       "<tr class=\"tf ltr\"><td class=\"tf ltr\">1</td><td class=\"tf ltr\"><span class=\"section ltr\">Matthew 1:1</span></td><td class=\"tf ltr\"><span class=\"\"><span class=\"plain   hl\" ><span class=\"txtu grc\">Ἀβραάμ. </span></span></span></td></tr>\n",
       "<tr class=\"tf ltr\"><td class=\"tf ltr\">2</td><td class=\"tf ltr\"><span class=\"section ltr\">Matthew 1:2</span></td><td class=\"tf ltr\"><span class=\"\"><span class=\"plain   hl\" ><span class=\"txtu grc\">Ἀβραὰμ </span></span></span></td></tr>\n",
       "<tr class=\"tf ltr\"><td class=\"tf ltr\">3</td><td class=\"tf ltr\"><span class=\"section ltr\">Matthew 1:17</span></td><td class=\"tf ltr\"><span class=\"\"><span class=\"plain   hl\" ><span class=\"txtu grc\">Ἀβραὰμ </span></span></span></td></tr>\n",
       "<tr class=\"tf ltr\"><td class=\"tf ltr\">4</td><td class=\"tf ltr\"><span class=\"section ltr\">Matthew 3:9</span></td><td class=\"tf ltr\"><span class=\"\"><span class=\"plain   hl\" ><span class=\"txtu grc\">Ἀβραάμ, </span></span></span></td></tr>\n",
       "<tr class=\"tf ltr\"><td class=\"tf ltr\">5</td><td class=\"tf ltr\"><span class=\"section ltr\">Matthew 3:9</span></td><td class=\"tf ltr\"><span class=\"\"><span class=\"plain   hl\" ><span class=\"txtu grc\">Ἀβραάμ. </span></span></span></td></tr>\n",
       "<tr class=\"tf ltr\"><td class=\"tf ltr\">6</td><td class=\"tf ltr\"><span class=\"section ltr\">Matthew 8:11</span></td><td class=\"tf ltr\"><span class=\"\"><span class=\"plain   hl\" ><span class=\"txtu grc\">Ἀβραὰμ </span></span></span></td></tr>\n",
       "<tr class=\"tf ltr\"><td class=\"tf ltr\">7</td><td class=\"tf ltr\"><span class=\"section ltr\">Matthew 22:32</span></td><td class=\"tf ltr\"><span class=\"\"><span class=\"plain   hl\" ><span class=\"txtu grc\">Ἀβραὰμ </span></span></span></td></tr>\n",
       "<tr class=\"tf ltr\"><td class=\"tf ltr\">8</td><td class=\"tf ltr\"><span class=\"section ltr\">Mark 12:26</span></td><td class=\"tf ltr\"><span class=\"\"><span class=\"plain   hl\" ><span class=\"txtu grc\">Ἀβραὰμ </span></span></span></td></tr>\n",
       "<tr class=\"tf ltr\"><td class=\"tf ltr\">9</td><td class=\"tf ltr\"><span class=\"section ltr\">Luke 1:55</span></td><td class=\"tf ltr\"><span class=\"\"><span class=\"plain   hl\" ><span class=\"txtu grc\">Ἀβραὰμ </span></span></span></td></tr>\n",
       "<tr class=\"tf ltr\"><td class=\"tf ltr\">10</td><td class=\"tf ltr\"><span class=\"section ltr\">Luke 1:73</span></td><td class=\"tf ltr\"><span class=\"\"><span class=\"plain   hl\" ><span class=\"txtu grc\">Ἀβραὰμ </span></span></span></td></tr></table>"
      ],
      "text/plain": [
       "<IPython.core.display.HTML object>"
      ]
     },
     "metadata": {},
     "output_type": "display_data"
    }
   ],
   "source": [
    "# Searching for \"Abraham\" in the NT\n",
    "NTAbrahamSearch = '''\n",
    "word anlex_lem=Ἀβραάμ\n",
    "'''\n",
    "NTAbrahamSearch  = NT.search(NTAbrahamSearch)\n",
    "NT.table(NTAbrahamSearch, start=1, end=10, condensed=False)"
   ]
  },
  {
   "cell_type": "markdown",
   "metadata": {},
   "source": [
    "Abraham appears a total of 73x in the NT. If you want to search lemmas without havng to type Greek script (and thus switching your keyboard), make sure that you watch this video: https://youtu.be/9V1zRampYjc . All the additional tf files are to be found here: https://github.com/oliverglanz/Tischendorf-Morphology-tf-. There are also some helpful additional tf files for the bhsa text to be found here: https://github.com/oliverglanz/bhsa_feature-additions\n",
    "\n",
    "Assuming that you have watched the video and imported the additional tf files into your TF folder. You can now write the same Abraham search in transliteration by using the feature `lex_og`:"
   ]
  },
  {
   "cell_type": "code",
   "execution_count": 6,
   "metadata": {},
   "outputs": [
    {
     "name": "stdout",
     "output_type": "stream",
     "text": [
      "  0.25s 73 results\n"
     ]
    },
    {
     "data": {
      "text/html": [
       "<p><b>result</b> <i>1</i></p>"
      ],
      "text/plain": [
       "<IPython.core.display.HTML object>"
      ]
     },
     "metadata": {},
     "output_type": "display_data"
    },
    {
     "data": {
      "text/html": [
       "<div class=\"section \">Matthew 1:1</div><div class=\" children\"><div class=\"contnr c3    \" ><div class=\"lbl c3  \" ><span class=\"nd\">verse</span></div><div class=\"children hor wrap \"><div class=\"contnr c0 trm   \" ><div class=\"lbl c0 trm \" ><span class=\"txtu grc\">Βίβλος </span></div><div class='features'><span class=\"anlex_lem xft\" ><span class=\"f\">anlex_lem=</span>βίβλος</span><span class=\"lex_og xft\" ><span class=\"f\">lex_og=</span>biblos</span></div></div><div class=\"contnr c0 trm   \" ><div class=\"lbl c0 trm \" ><span class=\"txtu grc\">γενέσεως </span></div><div class='features'><span class=\"anlex_lem xft\" ><span class=\"f\">anlex_lem=</span>γένεσις</span><span class=\"lex_og xft\" ><span class=\"f\">lex_og=</span>genesis</span></div></div><div class=\"contnr c0 trm   \" ><div class=\"lbl c0 trm \" ><span class=\"txtu grc\">Ἰησοῦ </span></div><div class='features'><span class=\"anlex_lem xft\" ><span class=\"f\">anlex_lem=</span>Ἰησοῦς</span><span class=\"lex_og xft\" ><span class=\"f\">lex_og=</span>Iesous</span></div></div><div class=\"contnr c0 trm   \" ><div class=\"lbl c0 trm \" ><span class=\"txtu grc\">Χριστοῦ </span></div><div class='features'><span class=\"anlex_lem xft\" ><span class=\"f\">anlex_lem=</span>Χριστός</span><span class=\"lex_og xft\" ><span class=\"f\">lex_og=</span>Khristos</span></div></div><div class=\"contnr c0 trm   \" ><div class=\"lbl c0 trm \" ><span class=\"txtu grc\">υἱοῦ </span></div><div class='features'><span class=\"anlex_lem xft\" ><span class=\"f\">anlex_lem=</span>υἱός</span><span class=\"lex_og xft\" ><span class=\"f\">lex_og=</span>uios</span></div></div><div class=\"contnr c0 trm   \" ><div class=\"lbl c0 trm \" ><span class=\"txtu grc\">Δαυεὶδ </span></div><div class='features'><span class=\"anlex_lem xft\" ><span class=\"f\">anlex_lem=</span>Δαυίδ</span><span class=\"lex_og xft\" ><span class=\"f\">lex_og=</span>Dauid</span></div></div><div class=\"contnr c0 trm   \" ><div class=\"lbl c0 trm \" ><span class=\"txtu grc\">υἱοῦ </span></div><div class='features'><span class=\"anlex_lem xft\" ><span class=\"f\">anlex_lem=</span>υἱός</span><span class=\"lex_og xft\" ><span class=\"f\">lex_og=</span>uios</span></div></div><div class=\"contnr c0 trm   hl\" ><div class=\"lbl c0 trm hl\" ><span class=\"txtu grc\">Ἀβραάμ. </span></div><div class='features'><span class=\"anlex_lem xft\" ><span class=\"f\">anlex_lem=</span>Ἀβραάμ</span><span class=\"lex_og xft\" ><span class=\"f\">lex_og=</span>Abraam</span></div></div></div></div></div>"
      ],
      "text/plain": [
       "<IPython.core.display.HTML object>"
      ]
     },
     "metadata": {},
     "output_type": "display_data"
    },
    {
     "data": {
      "text/html": [
       "<p><b>result</b> <i>2</i></p>"
      ],
      "text/plain": [
       "<IPython.core.display.HTML object>"
      ]
     },
     "metadata": {},
     "output_type": "display_data"
    },
    {
     "data": {
      "text/html": [
       "<div class=\"section \">Matthew 1:2</div><div class=\" children\"><div class=\"contnr c3    \" ><div class=\"lbl c3  \" ><span class=\"nd\">verse</span></div><div class=\"children hor wrap \"><div class=\"contnr c0 trm   hl\" ><div class=\"lbl c0 trm hl\" ><span class=\"txtu grc\">Ἀβραὰμ </span></div><div class='features'><span class=\"anlex_lem xft\" ><span class=\"f\">anlex_lem=</span>Ἀβραάμ</span><span class=\"lex_og xft\" ><span class=\"f\">lex_og=</span>Abraam</span></div></div><div class=\"contnr c0 trm   \" ><div class=\"lbl c0 trm \" ><span class=\"txtu grc\">ἐγέννησεν </span></div><div class='features'><span class=\"anlex_lem xft\" ><span class=\"f\">anlex_lem=</span>γεννάω</span><span class=\"lex_og xft\" ><span class=\"f\">lex_og=</span>gennao</span></div></div><div class=\"contnr c0 trm   \" ><div class=\"lbl c0 trm \" ><span class=\"txtu grc\">τὸν </span></div><div class='features'><span class=\"anlex_lem xft\" ><span class=\"f\">anlex_lem=</span>ὁ</span><span class=\"lex_og xft\" ><span class=\"f\">lex_og=</span>o</span></div></div><div class=\"contnr c0 trm   \" ><div class=\"lbl c0 trm \" ><span class=\"txtu grc\">Ἰσαάκ, </span></div><div class='features'><span class=\"anlex_lem xft\" ><span class=\"f\">anlex_lem=</span>Ἰσαάκ</span><span class=\"lex_og xft\" ><span class=\"f\">lex_og=</span>Isaak</span></div></div><div class=\"contnr c0 trm   \" ><div class=\"lbl c0 trm \" ><span class=\"txtu grc\">Ἰσαὰκ </span></div><div class='features'><span class=\"anlex_lem xft\" ><span class=\"f\">anlex_lem=</span>Ἰσαάκ</span><span class=\"lex_og xft\" ><span class=\"f\">lex_og=</span>Isaak</span></div></div><div class=\"contnr c0 trm   \" ><div class=\"lbl c0 trm \" ><span class=\"txtu grc\">δὲ </span></div><div class='features'><span class=\"anlex_lem xft\" ><span class=\"f\">anlex_lem=</span>δέ</span><span class=\"lex_og xft\" ><span class=\"f\">lex_og=</span>de</span></div></div><div class=\"contnr c0 trm   \" ><div class=\"lbl c0 trm \" ><span class=\"txtu grc\">ἐγέννησεν </span></div><div class='features'><span class=\"anlex_lem xft\" ><span class=\"f\">anlex_lem=</span>γεννάω</span><span class=\"lex_og xft\" ><span class=\"f\">lex_og=</span>gennao</span></div></div><div class=\"contnr c0 trm   \" ><div class=\"lbl c0 trm \" ><span class=\"txtu grc\">τὸν </span></div><div class='features'><span class=\"anlex_lem xft\" ><span class=\"f\">anlex_lem=</span>ὁ</span><span class=\"lex_og xft\" ><span class=\"f\">lex_og=</span>o</span></div></div><div class=\"contnr c0 trm   \" ><div class=\"lbl c0 trm \" ><span class=\"txtu grc\">Ἰακώβ, </span></div><div class='features'><span class=\"anlex_lem xft\" ><span class=\"f\">anlex_lem=</span>Ἰακώβ</span><span class=\"lex_og xft\" ><span class=\"f\">lex_og=</span>Iakob</span></div></div><div class=\"contnr c0 trm   \" ><div class=\"lbl c0 trm \" ><span class=\"txtu grc\">Ἰακὼβ </span></div><div class='features'><span class=\"anlex_lem xft\" ><span class=\"f\">anlex_lem=</span>Ἰακώβ</span><span class=\"lex_og xft\" ><span class=\"f\">lex_og=</span>Iakob</span></div></div><div class=\"contnr c0 trm   \" ><div class=\"lbl c0 trm \" ><span class=\"txtu grc\">δὲ </span></div><div class='features'><span class=\"anlex_lem xft\" ><span class=\"f\">anlex_lem=</span>δέ</span><span class=\"lex_og xft\" ><span class=\"f\">lex_og=</span>de</span></div></div><div class=\"contnr c0 trm   \" ><div class=\"lbl c0 trm \" ><span class=\"txtu grc\">ἐγέννησεν </span></div><div class='features'><span class=\"anlex_lem xft\" ><span class=\"f\">anlex_lem=</span>γεννάω</span><span class=\"lex_og xft\" ><span class=\"f\">lex_og=</span>gennao</span></div></div><div class=\"contnr c0 trm   \" ><div class=\"lbl c0 trm \" ><span class=\"txtu grc\">τὸν </span></div><div class='features'><span class=\"anlex_lem xft\" ><span class=\"f\">anlex_lem=</span>ὁ</span><span class=\"lex_og xft\" ><span class=\"f\">lex_og=</span>o</span></div></div><div class=\"contnr c0 trm   \" ><div class=\"lbl c0 trm \" ><span class=\"txtu grc\">Ἰούδαν </span></div><div class='features'><span class=\"anlex_lem xft\" ><span class=\"f\">anlex_lem=</span>Ἰούδας</span><span class=\"lex_og xft\" ><span class=\"f\">lex_og=</span>Ioudas</span></div></div><div class=\"contnr c0 trm   \" ><div class=\"lbl c0 trm \" ><span class=\"txtu grc\">καὶ </span></div><div class='features'><span class=\"anlex_lem xft\" ><span class=\"f\">anlex_lem=</span>καί</span><span class=\"lex_og xft\" ><span class=\"f\">lex_og=</span>kai</span></div></div><div class=\"contnr c0 trm   \" ><div class=\"lbl c0 trm \" ><span class=\"txtu grc\">τοὺς </span></div><div class='features'><span class=\"anlex_lem xft\" ><span class=\"f\">anlex_lem=</span>ὁ</span><span class=\"lex_og xft\" ><span class=\"f\">lex_og=</span>o</span></div></div><div class=\"contnr c0 trm   \" ><div class=\"lbl c0 trm \" ><span class=\"txtu grc\">ἀδελφοὺς </span></div><div class='features'><span class=\"anlex_lem xft\" ><span class=\"f\">anlex_lem=</span>ἀδελφός</span><span class=\"lex_og xft\" ><span class=\"f\">lex_og=</span>adelphos</span></div></div><div class=\"contnr c0 trm   \" ><div class=\"lbl c0 trm \" ><span class=\"txtu grc\">αὐτοῦ, </span></div><div class='features'><span class=\"anlex_lem xft\" ><span class=\"f\">anlex_lem=</span>αὐτός</span><span class=\"lex_og xft\" ><span class=\"f\">lex_og=</span>autos</span></div></div></div></div></div>"
      ],
      "text/plain": [
       "<IPython.core.display.HTML object>"
      ]
     },
     "metadata": {},
     "output_type": "display_data"
    }
   ],
   "source": [
    "# Searching for \"Abraham\" in the NT with transliteration\n",
    "NTAbrahamSearchLex = '''\n",
    "word lex_og=Abraam anlex_lem*\n",
    "'''\n",
    "NTAbrahamSearchLex  = NT.search(NTAbrahamSearchLex)\n",
    "NT.show(NTAbrahamSearchLex, start=1, end=2, condensed=False)"
   ]
  },
  {
   "cell_type": "markdown",
   "metadata": {},
   "source": [
    "Another example in which we search for  \"θεός\", \" Ἰησοῦς\", the personal pronoun \"ἐγώ\", and the verb \"εἰμί\" appearing within one verse within the Tischendorf corpus. Instead of using the Greek script, this query uses its Latin transliteration."
   ]
  },
  {
   "cell_type": "code",
   "execution_count": 7,
   "metadata": {},
   "outputs": [
    {
     "name": "stdout",
     "output_type": "stream",
     "text": [
      "  0.53s 72 results\n"
     ]
    },
    {
     "data": {
      "text/html": [
       "<table><tr class=\"tf ltr\"><th class=\"tf ltr\">n</th><th class=\"tf ltr\">p</th><th class=\"tf ltr\">verse</th><th class=\"tf\">word</th><th class=\"tf\">word</th><th class=\"tf\">word</th><th class=\"tf\">word</th><th class=\"tf\">word</th></tr>\n",
       "<tr class=\"tf ltr\"><td class=\"tf ltr\">1</td><td class=\"tf ltr\"><span class=\"section ltr\">Matthew 26:63</span></td><td class=\"tf ltr\"><span class=\"\"></span></td><td class=\"tf ltr\"><span class=\"\"><span class=\"plain   hl\" ><span class=\"txtu grc\">θεοῦ. </span></span></span></td><td class=\"tf ltr\"><span class=\"\"><span class=\"plain   hl\" ><span class=\"txtu grc\">Ἰησοῦς </span></span></span></td><td class=\"tf ltr\"><span class=\"\"><span class=\"plain   hl\" ><span class=\"txtu grc\">θεοῦ </span></span></span></td><td class=\"tf ltr\"><span class=\"\"><span class=\"plain   hl\" ><span class=\"txtu grc\">ἡμῖν </span></span></span></td><td class=\"tf ltr\"><span class=\"\"><span class=\"plain   hl\" ><span class=\"txtu grc\">εἶ </span></span></span></td></tr>\n",
       "<tr class=\"tf ltr\"><td class=\"tf ltr\">2</td><td class=\"tf ltr\"><span class=\"section ltr\">Matthew 27:46</span></td><td class=\"tf ltr\"><span class=\"\"></span></td><td class=\"tf ltr\"><span class=\"\"><span class=\"plain   hl\" ><span class=\"txtu grc\">ἔστιν· </span></span></span></td><td class=\"tf ltr\"><span class=\"\"><span class=\"plain   hl\" ><span class=\"txtu grc\">θεέ </span></span></span></td><td class=\"tf ltr\"><span class=\"\"><span class=\"plain   hl\" ><span class=\"txtu grc\">μου </span></span></span></td><td class=\"tf ltr\"><span class=\"\"><span class=\"plain   hl\" ><span class=\"txtu grc\">θεέ </span></span></span></td><td class=\"tf ltr\"><span class=\"\"><span class=\"plain   hl\" ><span class=\"txtu grc\">μου, </span></span></span></td><td class=\"tf ltr\"><span class=\"\"><span class=\"plain   hl\" ><span class=\"txtu grc\">με </span></span></span></td><td class=\"tf ltr\"><span class=\"\"><span class=\"plain   hl\" ><span class=\"txtu grc\">Ἰησοῦς </span></span></span></td></tr>\n",
       "<tr class=\"tf ltr\"><td class=\"tf ltr\">3</td><td class=\"tf ltr\"><span class=\"section ltr\">Mark 1:24</span></td><td class=\"tf ltr\"><span class=\"\"></span></td><td class=\"tf ltr\"><span class=\"\"><span class=\"plain   hl\" ><span class=\"txtu grc\">ἡμῖν </span></span></span></td><td class=\"tf ltr\"><span class=\"\"><span class=\"plain   hl\" ><span class=\"txtu grc\">Ἰησοῦ </span></span></span></td><td class=\"tf ltr\"><span class=\"\"><span class=\"plain   hl\" ><span class=\"txtu grc\">ἡμᾶς· </span></span></span></td><td class=\"tf ltr\"><span class=\"\"><span class=\"plain   hl\" ><span class=\"txtu grc\">εἶ, </span></span></span></td><td class=\"tf ltr\"><span class=\"\"><span class=\"plain   hl\" ><span class=\"txtu grc\">θεοῦ. </span></span></span></td></tr>\n",
       "<tr class=\"tf ltr\"><td class=\"tf ltr\">4</td><td class=\"tf ltr\"><span class=\"section ltr\">Mark 10:14</span></td><td class=\"tf ltr\"><span class=\"\"></span></td><td class=\"tf ltr\"><span class=\"\"><span class=\"plain   hl\" ><span class=\"txtu grc\">ἐστὶν </span></span></span></td><td class=\"tf ltr\"><span class=\"\"><span class=\"plain   hl\" ><span class=\"txtu grc\">με, </span></span></span></td><td class=\"tf ltr\"><span class=\"\"><span class=\"plain   hl\" ><span class=\"txtu grc\">θεοῦ. </span></span></span></td><td class=\"tf ltr\"><span class=\"\"><span class=\"plain   hl\" ><span class=\"txtu grc\">Ἰησοῦς </span></span></span></td></tr>\n",
       "<tr class=\"tf ltr\"><td class=\"tf ltr\">5</td><td class=\"tf ltr\"><span class=\"section ltr\">Mark 12:29</span></td><td class=\"tf ltr\"><span class=\"\"></span></td><td class=\"tf ltr\"><span class=\"\"><span class=\"plain   hl\" ><span class=\"txtu grc\">Ἰησοῦς </span></span></span></td><td class=\"tf ltr\"><span class=\"\"><span class=\"plain   hl\" ><span class=\"txtu grc\">ἐστίν· </span></span></span></td><td class=\"tf ltr\"><span class=\"\"><span class=\"plain   hl\" ><span class=\"txtu grc\">θεὸς </span></span></span></td><td class=\"tf ltr\"><span class=\"\"><span class=\"plain   hl\" ><span class=\"txtu grc\">ἡμῶν </span></span></span></td><td class=\"tf ltr\"><span class=\"\"><span class=\"plain   hl\" ><span class=\"txtu grc\">ἐστιν, </span></span></span></td></tr>\n",
       "<tr class=\"tf ltr\"><td class=\"tf ltr\">6</td><td class=\"tf ltr\"><span class=\"section ltr\">Mark 15:34</span></td><td class=\"tf ltr\"><span class=\"\"></span></td><td class=\"tf ltr\"><span class=\"\"><span class=\"plain   hl\" ><span class=\"txtu grc\">Ἰησοῦς </span></span></span></td><td class=\"tf ltr\"><span class=\"\"><span class=\"plain   hl\" ><span class=\"txtu grc\">ἐστιν </span></span></span></td><td class=\"tf ltr\"><span class=\"\"><span class=\"plain   hl\" ><span class=\"txtu grc\">θεός </span></span></span></td><td class=\"tf ltr\"><span class=\"\"><span class=\"plain   hl\" ><span class=\"txtu grc\">μου </span></span></span></td><td class=\"tf ltr\"><span class=\"\"><span class=\"plain   hl\" ><span class=\"txtu grc\">θεός </span></span></span></td><td class=\"tf ltr\"><span class=\"\"><span class=\"plain   hl\" ><span class=\"txtu grc\">μου, </span></span></span></td><td class=\"tf ltr\"><span class=\"\"><span class=\"plain   hl\" ><span class=\"txtu grc\">με; </span></span></span></td></tr>\n",
       "<tr class=\"tf ltr\"><td class=\"tf ltr\">7</td><td class=\"tf ltr\"><span class=\"section ltr\">Luke 4:34</span></td><td class=\"tf ltr\"><span class=\"\"></span></td><td class=\"tf ltr\"><span class=\"\"><span class=\"plain   hl\" ><span class=\"txtu grc\">ἡμᾶς; </span></span></span></td><td class=\"tf ltr\"><span class=\"\"><span class=\"plain   hl\" ><span class=\"txtu grc\">εἶ, </span></span></span></td><td class=\"tf ltr\"><span class=\"\"><span class=\"plain   hl\" ><span class=\"txtu grc\">θεοῦ. </span></span></span></td><td class=\"tf ltr\"><span class=\"\"><span class=\"plain   hl\" ><span class=\"txtu grc\">ἡμῖν </span></span></span></td><td class=\"tf ltr\"><span class=\"\"><span class=\"plain   hl\" ><span class=\"txtu grc\">Ἰησοῦ </span></span></span></td></tr></table>"
      ],
      "text/plain": [
       "<IPython.core.display.HTML object>"
      ]
     },
     "metadata": {},
     "output_type": "display_data"
    }
   ],
   "source": [
    "translit = '''\n",
    "verse\n",
    "    word lex_og=Iesous\n",
    "    word lex_og=theos\n",
    "    word lex_og=eimi\n",
    "    word lex_og=ego\n",
    "'''\n",
    "translit  = NT.search(translit)\n",
    "NT.table(translit, start=1, end=7, extraFeatures={'anlex_lem'}, condensed=True)"
   ]
  },
  {
   "cell_type": "code",
   "execution_count": 8,
   "metadata": {},
   "outputs": [
    {
     "name": "stdout",
     "output_type": "stream",
     "text": [
      "  0.13s 85 results\n"
     ]
    },
    {
     "data": {
      "text/html": [
       "<p><b>verse</b> <i>1</i></p>"
      ],
      "text/plain": [
       "<IPython.core.display.HTML object>"
      ]
     },
     "metadata": {},
     "output_type": "display_data"
    },
    {
     "data": {
      "text/html": [
       "<div class=\"section \">Matthew 3:16</div><div class=\" children\"><div class=\"contnr c3    \" ><div class=\"lbl c3  \" ><span class=\"nd\">verse</span></div><div class=\"children hor wrap \"><div class=\"contnr c0 trm   \" ><div class=\"lbl c0 trm \" ><span class=\"txtu grc\">βαπτισθεὶς </span></div><div class='features'><span class=\"anlex_lem xft\" ><span class=\"f\">anlex_lem=</span>βαπτίζω</span><span class=\"lex_og xft\" ><span class=\"f\">lex_og=</span>baptizo</span></div></div><div class=\"contnr c0 trm   \" ><div class=\"lbl c0 trm \" ><span class=\"txtu grc\">δὲ </span></div><div class='features'><span class=\"anlex_lem xft\" ><span class=\"f\">anlex_lem=</span>δέ</span><span class=\"lex_og xft\" ><span class=\"f\">lex_og=</span>de</span></div></div><div class=\"contnr c0 trm   \" ><div class=\"lbl c0 trm \" ><span class=\"txtu grc\">ὁ </span></div><div class='features'><span class=\"anlex_lem xft\" ><span class=\"f\">anlex_lem=</span>ὁ</span><span class=\"lex_og xft\" ><span class=\"f\">lex_og=</span>o</span></div></div><div class=\"contnr c0 trm   \" ><div class=\"lbl c0 trm \" ><span class=\"txtu grc\">Ἰησοῦς </span></div><div class='features'><span class=\"anlex_lem xft\" ><span class=\"f\">anlex_lem=</span>Ἰησοῦς</span><span class=\"lex_og xft\" ><span class=\"f\">lex_og=</span>Iesous</span></div></div><div class=\"contnr c0 trm   hl\" ><div class=\"lbl c0 trm hl\" ><span class=\"txtu grc\">εὐθὺς </span></div><div class='features'><span class=\"anlex_lem xft\" ><span class=\"f\">anlex_lem=</span>εὐθέως</span><span class=\"lex_og xft\" ><span class=\"f\">lex_og=</span>eutheos</span></div></div><div class=\"contnr c0 trm   \" ><div class=\"lbl c0 trm \" ><span class=\"txtu grc\">ἀνέβη </span></div><div class='features'><span class=\"anlex_lem xft\" ><span class=\"f\">anlex_lem=</span>ἀναβαίνω</span><span class=\"lex_og xft\" ><span class=\"f\">lex_og=</span>anabaino</span></div></div><div class=\"contnr c0 trm   \" ><div class=\"lbl c0 trm \" ><span class=\"txtu grc\">ἀπὸ </span></div><div class='features'><span class=\"anlex_lem xft\" ><span class=\"f\">anlex_lem=</span>ἀπό</span><span class=\"lex_og xft\" ><span class=\"f\">lex_og=</span>apo</span></div></div><div class=\"contnr c0 trm   \" ><div class=\"lbl c0 trm \" ><span class=\"txtu grc\">τοῦ </span></div><div class='features'><span class=\"anlex_lem xft\" ><span class=\"f\">anlex_lem=</span>ὁ</span><span class=\"lex_og xft\" ><span class=\"f\">lex_og=</span>o</span></div></div><div class=\"contnr c0 trm   \" ><div class=\"lbl c0 trm \" ><span class=\"txtu grc\">ὕδατος· </span></div><div class='features'><span class=\"anlex_lem xft\" ><span class=\"f\">anlex_lem=</span>ὕδωρ</span><span class=\"lex_og xft\" ><span class=\"f\">lex_og=</span>udor</span></div></div><div class=\"contnr c0 trm   \" ><div class=\"lbl c0 trm \" ><span class=\"txtu grc\">καὶ </span></div><div class='features'><span class=\"anlex_lem xft\" ><span class=\"f\">anlex_lem=</span>καί</span><span class=\"lex_og xft\" ><span class=\"f\">lex_og=</span>kai</span></div></div><div class=\"contnr c0 trm   \" ><div class=\"lbl c0 trm \" ><span class=\"txtu grc\">ἰδοὺ </span></div><div class='features'><span class=\"anlex_lem xft\" ><span class=\"f\">anlex_lem=</span>ὁράω</span><span class=\"lex_og xft\" ><span class=\"f\">lex_og=</span>orao</span></div></div><div class=\"contnr c0 trm   \" ><div class=\"lbl c0 trm \" ><span class=\"txtu grc\">ἀνεῴχθησαν </span></div><div class='features'><span class=\"anlex_lem xft\" ><span class=\"f\">anlex_lem=</span>ἀνοίγω</span><span class=\"lex_og xft\" ><span class=\"f\">lex_og=</span>anoigo</span></div></div><div class=\"contnr c0 trm   \" ><div class=\"lbl c0 trm \" ><span class=\"txtu grc\">οἱ </span></div><div class='features'><span class=\"anlex_lem xft\" ><span class=\"f\">anlex_lem=</span>ὁ</span><span class=\"lex_og xft\" ><span class=\"f\">lex_og=</span>o</span></div></div><div class=\"contnr c0 trm   \" ><div class=\"lbl c0 trm \" ><span class=\"txtu grc\">οὐρανοί, </span></div><div class='features'><span class=\"anlex_lem xft\" ><span class=\"f\">anlex_lem=</span>οὐρανός</span><span class=\"lex_og xft\" ><span class=\"f\">lex_og=</span>ouranos</span></div></div><div class=\"contnr c0 trm   \" ><div class=\"lbl c0 trm \" ><span class=\"txtu grc\">καὶ </span></div><div class='features'><span class=\"anlex_lem xft\" ><span class=\"f\">anlex_lem=</span>καί</span><span class=\"lex_og xft\" ><span class=\"f\">lex_og=</span>kai</span></div></div><div class=\"contnr c0 trm   \" ><div class=\"lbl c0 trm \" ><span class=\"txtu grc\">εἶδεν </span></div><div class='features'><span class=\"anlex_lem xft\" ><span class=\"f\">anlex_lem=</span>ὁράω</span><span class=\"lex_og xft\" ><span class=\"f\">lex_og=</span>orao</span></div></div><div class=\"contnr c0 trm   \" ><div class=\"lbl c0 trm \" ><span class=\"txtu grc\">πνεῦμα </span></div><div class='features'><span class=\"anlex_lem xft\" ><span class=\"f\">anlex_lem=</span>πνεῦμα</span><span class=\"lex_og xft\" ><span class=\"f\">lex_og=</span>pneuma</span></div></div><div class=\"contnr c0 trm   \" ><div class=\"lbl c0 trm \" ><span class=\"txtu grc\">θεοῦ </span></div><div class='features'><span class=\"anlex_lem xft\" ><span class=\"f\">anlex_lem=</span>θεός</span><span class=\"lex_og xft\" ><span class=\"f\">lex_og=</span>theos</span></div></div><div class=\"contnr c0 trm   \" ><div class=\"lbl c0 trm \" ><span class=\"txtu grc\">καταβαῖνον </span></div><div class='features'><span class=\"anlex_lem xft\" ><span class=\"f\">anlex_lem=</span>καταβαίνω</span><span class=\"lex_og xft\" ><span class=\"f\">lex_og=</span>katabaino</span></div></div><div class=\"contnr c0 trm   \" ><div class=\"lbl c0 trm \" ><span class=\"txtu grc\">ὡσεὶ </span></div><div class='features'><span class=\"anlex_lem xft\" ><span class=\"f\">anlex_lem=</span>ὡσεί</span><span class=\"lex_og xft\" ><span class=\"f\">lex_og=</span>osei</span></div></div><div class=\"contnr c0 trm   \" ><div class=\"lbl c0 trm \" ><span class=\"txtu grc\">περιστερὰν </span></div><div class='features'><span class=\"anlex_lem xft\" ><span class=\"f\">anlex_lem=</span>περιστερά</span><span class=\"lex_og xft\" ><span class=\"f\">lex_og=</span>peristera</span></div></div><div class=\"contnr c0 trm   \" ><div class=\"lbl c0 trm \" ><span class=\"txtu grc\">ἐρχόμενον </span></div><div class='features'><span class=\"anlex_lem xft\" ><span class=\"f\">anlex_lem=</span>ἔρχομαι</span><span class=\"lex_og xft\" ><span class=\"f\">lex_og=</span>erkhomai</span></div></div><div class=\"contnr c0 trm   \" ><div class=\"lbl c0 trm \" ><span class=\"txtu grc\">ἐπ’ </span></div><div class='features'><span class=\"anlex_lem xft\" ><span class=\"f\">anlex_lem=</span>ἐπί</span><span class=\"lex_og xft\" ><span class=\"f\">lex_og=</span>epi</span></div></div><div class=\"contnr c0 trm   \" ><div class=\"lbl c0 trm \" ><span class=\"txtu grc\">αὐτόν· </span></div><div class='features'><span class=\"anlex_lem xft\" ><span class=\"f\">anlex_lem=</span>αὐτός</span><span class=\"lex_og xft\" ><span class=\"f\">lex_og=</span>autos</span></div></div></div></div></div>"
      ],
      "text/plain": [
       "<IPython.core.display.HTML object>"
      ]
     },
     "metadata": {},
     "output_type": "display_data"
    },
    {
     "data": {
      "text/html": [
       "<p><b>verse</b> <i>2</i></p>"
      ],
      "text/plain": [
       "<IPython.core.display.HTML object>"
      ]
     },
     "metadata": {},
     "output_type": "display_data"
    },
    {
     "data": {
      "text/html": [
       "<div class=\"section \">Matthew 4:20</div><div class=\" children\"><div class=\"contnr c3    \" ><div class=\"lbl c3  \" ><span class=\"nd\">verse</span></div><div class=\"children hor wrap \"><div class=\"contnr c0 trm   \" ><div class=\"lbl c0 trm \" ><span class=\"txtu grc\">οἱ </span></div><div class='features'><span class=\"anlex_lem xft\" ><span class=\"f\">anlex_lem=</span>ὁ</span><span class=\"lex_og xft\" ><span class=\"f\">lex_og=</span>o</span></div></div><div class=\"contnr c0 trm   \" ><div class=\"lbl c0 trm \" ><span class=\"txtu grc\">δὲ </span></div><div class='features'><span class=\"anlex_lem xft\" ><span class=\"f\">anlex_lem=</span>δέ</span><span class=\"lex_og xft\" ><span class=\"f\">lex_og=</span>de</span></div></div><div class=\"contnr c0 trm   hl\" ><div class=\"lbl c0 trm hl\" ><span class=\"txtu grc\">εὐθέως </span></div><div class='features'><span class=\"anlex_lem xft\" ><span class=\"f\">anlex_lem=</span>εὐθέως</span><span class=\"lex_og xft\" ><span class=\"f\">lex_og=</span>eutheos</span></div></div><div class=\"contnr c0 trm   \" ><div class=\"lbl c0 trm \" ><span class=\"txtu grc\">ἀφέντες </span></div><div class='features'><span class=\"anlex_lem xft\" ><span class=\"f\">anlex_lem=</span>ἀφίημι</span><span class=\"lex_og xft\" ><span class=\"f\">lex_og=</span>aphiemi</span></div></div><div class=\"contnr c0 trm   \" ><div class=\"lbl c0 trm \" ><span class=\"txtu grc\">τὰ </span></div><div class='features'><span class=\"anlex_lem xft\" ><span class=\"f\">anlex_lem=</span>ὁ</span><span class=\"lex_og xft\" ><span class=\"f\">lex_og=</span>o</span></div></div><div class=\"contnr c0 trm   \" ><div class=\"lbl c0 trm \" ><span class=\"txtu grc\">δίκτυα </span></div><div class='features'><span class=\"anlex_lem xft\" ><span class=\"f\">anlex_lem=</span>δίκτυον</span><span class=\"lex_og xft\" ><span class=\"f\">lex_og=</span>diktuon</span></div></div><div class=\"contnr c0 trm   \" ><div class=\"lbl c0 trm \" ><span class=\"txtu grc\">ἠκολούθησαν </span></div><div class='features'><span class=\"anlex_lem xft\" ><span class=\"f\">anlex_lem=</span>ἀκολουθέω</span><span class=\"lex_og xft\" ><span class=\"f\">lex_og=</span>akoloutheo</span></div></div><div class=\"contnr c0 trm   \" ><div class=\"lbl c0 trm \" ><span class=\"txtu grc\">αὐτῷ. </span></div><div class='features'><span class=\"anlex_lem xft\" ><span class=\"f\">anlex_lem=</span>αὐτός</span><span class=\"lex_og xft\" ><span class=\"f\">lex_og=</span>autos</span></div></div></div></div></div>"
      ],
      "text/plain": [
       "<IPython.core.display.HTML object>"
      ]
     },
     "metadata": {},
     "output_type": "display_data"
    },
    {
     "data": {
      "text/html": [
       "<p><b>verse</b> <i>3</i></p>"
      ],
      "text/plain": [
       "<IPython.core.display.HTML object>"
      ]
     },
     "metadata": {},
     "output_type": "display_data"
    },
    {
     "data": {
      "text/html": [
       "<div class=\"section \">Matthew 4:22</div><div class=\" children\"><div class=\"contnr c3    \" ><div class=\"lbl c3  \" ><span class=\"nd\">verse</span></div><div class=\"children hor wrap \"><div class=\"contnr c0 trm   \" ><div class=\"lbl c0 trm \" ><span class=\"txtu grc\">οἱ </span></div><div class='features'><span class=\"anlex_lem xft\" ><span class=\"f\">anlex_lem=</span>ὁ</span><span class=\"lex_og xft\" ><span class=\"f\">lex_og=</span>o</span></div></div><div class=\"contnr c0 trm   \" ><div class=\"lbl c0 trm \" ><span class=\"txtu grc\">δὲ </span></div><div class='features'><span class=\"anlex_lem xft\" ><span class=\"f\">anlex_lem=</span>δέ</span><span class=\"lex_og xft\" ><span class=\"f\">lex_og=</span>de</span></div></div><div class=\"contnr c0 trm   hl\" ><div class=\"lbl c0 trm hl\" ><span class=\"txtu grc\">εὐθέως </span></div><div class='features'><span class=\"anlex_lem xft\" ><span class=\"f\">anlex_lem=</span>εὐθέως</span><span class=\"lex_og xft\" ><span class=\"f\">lex_og=</span>eutheos</span></div></div><div class=\"contnr c0 trm   \" ><div class=\"lbl c0 trm \" ><span class=\"txtu grc\">ἀφέντες </span></div><div class='features'><span class=\"anlex_lem xft\" ><span class=\"f\">anlex_lem=</span>ἀφίημι</span><span class=\"lex_og xft\" ><span class=\"f\">lex_og=</span>aphiemi</span></div></div><div class=\"contnr c0 trm   \" ><div class=\"lbl c0 trm \" ><span class=\"txtu grc\">τὸ </span></div><div class='features'><span class=\"anlex_lem xft\" ><span class=\"f\">anlex_lem=</span>ὁ</span><span class=\"lex_og xft\" ><span class=\"f\">lex_og=</span>o</span></div></div><div class=\"contnr c0 trm   \" ><div class=\"lbl c0 trm \" ><span class=\"txtu grc\">πλοῖον </span></div><div class='features'><span class=\"anlex_lem xft\" ><span class=\"f\">anlex_lem=</span>πλοῖον</span><span class=\"lex_og xft\" ><span class=\"f\">lex_og=</span>ploion</span></div></div><div class=\"contnr c0 trm   \" ><div class=\"lbl c0 trm \" ><span class=\"txtu grc\">καὶ </span></div><div class='features'><span class=\"anlex_lem xft\" ><span class=\"f\">anlex_lem=</span>καί</span><span class=\"lex_og xft\" ><span class=\"f\">lex_og=</span>kai</span></div></div><div class=\"contnr c0 trm   \" ><div class=\"lbl c0 trm \" ><span class=\"txtu grc\">τὸν </span></div><div class='features'><span class=\"anlex_lem xft\" ><span class=\"f\">anlex_lem=</span>ὁ</span><span class=\"lex_og xft\" ><span class=\"f\">lex_og=</span>o</span></div></div><div class=\"contnr c0 trm   \" ><div class=\"lbl c0 trm \" ><span class=\"txtu grc\">πατέρα </span></div><div class='features'><span class=\"anlex_lem xft\" ><span class=\"f\">anlex_lem=</span>πατήρ</span><span class=\"lex_og xft\" ><span class=\"f\">lex_og=</span>pater</span></div></div><div class=\"contnr c0 trm   \" ><div class=\"lbl c0 trm \" ><span class=\"txtu grc\">αὐτῶν </span></div><div class='features'><span class=\"anlex_lem xft\" ><span class=\"f\">anlex_lem=</span>αὐτός</span><span class=\"lex_og xft\" ><span class=\"f\">lex_og=</span>autos</span></div></div><div class=\"contnr c0 trm   \" ><div class=\"lbl c0 trm \" ><span class=\"txtu grc\">ἠκολούθησαν </span></div><div class='features'><span class=\"anlex_lem xft\" ><span class=\"f\">anlex_lem=</span>ἀκολουθέω</span><span class=\"lex_og xft\" ><span class=\"f\">lex_og=</span>akoloutheo</span></div></div><div class=\"contnr c0 trm   \" ><div class=\"lbl c0 trm \" ><span class=\"txtu grc\">αὐτῷ. </span></div><div class='features'><span class=\"anlex_lem xft\" ><span class=\"f\">anlex_lem=</span>αὐτός</span><span class=\"lex_og xft\" ><span class=\"f\">lex_og=</span>autos</span></div></div></div></div></div>"
      ],
      "text/plain": [
       "<IPython.core.display.HTML object>"
      ]
     },
     "metadata": {},
     "output_type": "display_data"
    },
    {
     "data": {
      "text/html": [
       "<p><b>verse</b> <i>4</i></p>"
      ],
      "text/plain": [
       "<IPython.core.display.HTML object>"
      ]
     },
     "metadata": {},
     "output_type": "display_data"
    },
    {
     "data": {
      "text/html": [
       "<div class=\"section \">Matthew 8:3</div><div class=\" children\"><div class=\"contnr c3    \" ><div class=\"lbl c3  \" ><span class=\"nd\">verse</span></div><div class=\"children hor wrap \"><div class=\"contnr c0 trm   \" ><div class=\"lbl c0 trm \" ><span class=\"txtu grc\">καὶ </span></div><div class='features'><span class=\"anlex_lem xft\" ><span class=\"f\">anlex_lem=</span>καί</span><span class=\"lex_og xft\" ><span class=\"f\">lex_og=</span>kai</span></div></div><div class=\"contnr c0 trm   \" ><div class=\"lbl c0 trm \" ><span class=\"txtu grc\">ἐκτείνας </span></div><div class='features'><span class=\"anlex_lem xft\" ><span class=\"f\">anlex_lem=</span>ἐκτείνω</span><span class=\"lex_og xft\" ><span class=\"f\">lex_og=</span>ekteino</span></div></div><div class=\"contnr c0 trm   \" ><div class=\"lbl c0 trm \" ><span class=\"txtu grc\">τὴν </span></div><div class='features'><span class=\"anlex_lem xft\" ><span class=\"f\">anlex_lem=</span>ὁ</span><span class=\"lex_og xft\" ><span class=\"f\">lex_og=</span>o</span></div></div><div class=\"contnr c0 trm   \" ><div class=\"lbl c0 trm \" ><span class=\"txtu grc\">χεῖρα </span></div><div class='features'><span class=\"anlex_lem xft\" ><span class=\"f\">anlex_lem=</span>χείρ</span><span class=\"lex_og xft\" ><span class=\"f\">lex_og=</span>kheir</span></div></div><div class=\"contnr c0 trm   \" ><div class=\"lbl c0 trm \" ><span class=\"txtu grc\">ἥψατο </span></div><div class='features'><span class=\"anlex_lem xft\" ><span class=\"f\">anlex_lem=</span>ἅπτω</span><span class=\"lex_og xft\" ><span class=\"f\">lex_og=</span>apto</span></div></div><div class=\"contnr c0 trm   \" ><div class=\"lbl c0 trm \" ><span class=\"txtu grc\">αὐτοῦ </span></div><div class='features'><span class=\"anlex_lem xft\" ><span class=\"f\">anlex_lem=</span>αὐτός</span><span class=\"lex_og xft\" ><span class=\"f\">lex_og=</span>autos</span></div></div><div class=\"contnr c0 trm   \" ><div class=\"lbl c0 trm \" ><span class=\"txtu grc\">λέγων, </span></div><div class='features'><span class=\"anlex_lem xft\" ><span class=\"f\">anlex_lem=</span>λέγω</span><span class=\"lex_og xft\" ><span class=\"f\">lex_og=</span>lego</span></div></div><div class=\"contnr c0 trm   \" ><div class=\"lbl c0 trm \" ><span class=\"txtu grc\">θέλω, </span></div><div class='features'><span class=\"anlex_lem xft\" ><span class=\"f\">anlex_lem=</span>θέλω</span><span class=\"lex_og xft\" ><span class=\"f\">lex_og=</span>thelo</span></div></div><div class=\"contnr c0 trm   \" ><div class=\"lbl c0 trm \" ><span class=\"txtu grc\">καθαρίσθητι· </span></div><div class='features'><span class=\"anlex_lem xft\" ><span class=\"f\">anlex_lem=</span>καθαρίζω</span><span class=\"lex_og xft\" ><span class=\"f\">lex_og=</span>katharizo</span></div></div><div class=\"contnr c0 trm   \" ><div class=\"lbl c0 trm \" ><span class=\"txtu grc\">καὶ </span></div><div class='features'><span class=\"anlex_lem xft\" ><span class=\"f\">anlex_lem=</span>καί</span><span class=\"lex_og xft\" ><span class=\"f\">lex_og=</span>kai</span></div></div><div class=\"contnr c0 trm   hl\" ><div class=\"lbl c0 trm hl\" ><span class=\"txtu grc\">εὐθέως </span></div><div class='features'><span class=\"anlex_lem xft\" ><span class=\"f\">anlex_lem=</span>εὐθέως</span><span class=\"lex_og xft\" ><span class=\"f\">lex_og=</span>eutheos</span></div></div><div class=\"contnr c0 trm   \" ><div class=\"lbl c0 trm \" ><span class=\"txtu grc\">ἐκαθερίσθη </span></div><div class='features'><span class=\"anlex_lem xft\" ><span class=\"f\">anlex_lem=</span>καθαρίζω</span><span class=\"lex_og xft\" ><span class=\"f\">lex_og=</span>katharizo</span></div></div><div class=\"contnr c0 trm   \" ><div class=\"lbl c0 trm \" ><span class=\"txtu grc\">αὐτοῦ </span></div><div class='features'><span class=\"anlex_lem xft\" ><span class=\"f\">anlex_lem=</span>αὐτός</span><span class=\"lex_og xft\" ><span class=\"f\">lex_og=</span>autos</span></div></div><div class=\"contnr c0 trm   \" ><div class=\"lbl c0 trm \" ><span class=\"txtu grc\">ἡ </span></div><div class='features'><span class=\"anlex_lem xft\" ><span class=\"f\">anlex_lem=</span>ὁ</span><span class=\"lex_og xft\" ><span class=\"f\">lex_og=</span>o</span></div></div><div class=\"contnr c0 trm   \" ><div class=\"lbl c0 trm \" ><span class=\"txtu grc\">λέπρα. </span></div><div class='features'><span class=\"anlex_lem xft\" ><span class=\"f\">anlex_lem=</span>λέπρα</span><span class=\"lex_og xft\" ><span class=\"f\">lex_og=</span>lepra</span></div></div></div></div></div>"
      ],
      "text/plain": [
       "<IPython.core.display.HTML object>"
      ]
     },
     "metadata": {},
     "output_type": "display_data"
    },
    {
     "data": {
      "text/html": [
       "<p><b>verse</b> <i>5</i></p>"
      ],
      "text/plain": [
       "<IPython.core.display.HTML object>"
      ]
     },
     "metadata": {},
     "output_type": "display_data"
    },
    {
     "data": {
      "text/html": [
       "<div class=\"section \">Matthew 13:5</div><div class=\" children\"><div class=\"contnr c3    \" ><div class=\"lbl c3  \" ><span class=\"nd\">verse</span></div><div class=\"children hor wrap \"><div class=\"contnr c0 trm   \" ><div class=\"lbl c0 trm \" ><span class=\"txtu grc\">ἄλλα </span></div><div class='features'><span class=\"anlex_lem xft\" ><span class=\"f\">anlex_lem=</span>ἄλλος</span><span class=\"lex_og xft\" ><span class=\"f\">lex_og=</span>allos</span></div></div><div class=\"contnr c0 trm   \" ><div class=\"lbl c0 trm \" ><span class=\"txtu grc\">δὲ </span></div><div class='features'><span class=\"anlex_lem xft\" ><span class=\"f\">anlex_lem=</span>δέ</span><span class=\"lex_og xft\" ><span class=\"f\">lex_og=</span>de</span></div></div><div class=\"contnr c0 trm   \" ><div class=\"lbl c0 trm \" ><span class=\"txtu grc\">ἔπεσεν </span></div><div class='features'><span class=\"anlex_lem xft\" ><span class=\"f\">anlex_lem=</span>πίπτω</span><span class=\"lex_og xft\" ><span class=\"f\">lex_og=</span>pipto</span></div></div><div class=\"contnr c0 trm   \" ><div class=\"lbl c0 trm \" ><span class=\"txtu grc\">ἐπὶ </span></div><div class='features'><span class=\"anlex_lem xft\" ><span class=\"f\">anlex_lem=</span>ἐπί</span><span class=\"lex_og xft\" ><span class=\"f\">lex_og=</span>epi</span></div></div><div class=\"contnr c0 trm   \" ><div class=\"lbl c0 trm \" ><span class=\"txtu grc\">τὰ </span></div><div class='features'><span class=\"anlex_lem xft\" ><span class=\"f\">anlex_lem=</span>ὁ</span><span class=\"lex_og xft\" ><span class=\"f\">lex_og=</span>o</span></div></div><div class=\"contnr c0 trm   \" ><div class=\"lbl c0 trm \" ><span class=\"txtu grc\">πετρώδη </span></div><div class='features'><span class=\"anlex_lem xft\" ><span class=\"f\">anlex_lem=</span>πετρώδης</span><span class=\"lex_og xft\" ><span class=\"f\">lex_og=</span>petrodes</span></div></div><div class=\"contnr c0 trm   \" ><div class=\"lbl c0 trm \" ><span class=\"txtu grc\">ὅπου </span></div><div class='features'><span class=\"anlex_lem xft\" ><span class=\"f\">anlex_lem=</span>ὅπου</span><span class=\"lex_og xft\" ><span class=\"f\">lex_og=</span>opou</span></div></div><div class=\"contnr c0 trm   \" ><div class=\"lbl c0 trm \" ><span class=\"txtu grc\">οὐκ </span></div><div class='features'><span class=\"anlex_lem xft\" ><span class=\"f\">anlex_lem=</span>οὐ</span><span class=\"lex_og xft\" ><span class=\"f\">lex_og=</span>ou</span></div></div><div class=\"contnr c0 trm   \" ><div class=\"lbl c0 trm \" ><span class=\"txtu grc\">εἶχεν </span></div><div class='features'><span class=\"anlex_lem xft\" ><span class=\"f\">anlex_lem=</span>ἔχω</span><span class=\"lex_og xft\" ><span class=\"f\">lex_og=</span>ekho</span></div></div><div class=\"contnr c0 trm   \" ><div class=\"lbl c0 trm \" ><span class=\"txtu grc\">γῆν </span></div><div class='features'><span class=\"anlex_lem xft\" ><span class=\"f\">anlex_lem=</span>γῆ</span><span class=\"lex_og xft\" ><span class=\"f\">lex_og=</span>ge</span></div></div><div class=\"contnr c0 trm   \" ><div class=\"lbl c0 trm \" ><span class=\"txtu grc\">πολλήν, </span></div><div class='features'><span class=\"anlex_lem xft\" ><span class=\"f\">anlex_lem=</span>πολύς</span><span class=\"lex_og xft\" ><span class=\"f\">lex_og=</span>polus</span></div></div><div class=\"contnr c0 trm   \" ><div class=\"lbl c0 trm \" ><span class=\"txtu grc\">καὶ </span></div><div class='features'><span class=\"anlex_lem xft\" ><span class=\"f\">anlex_lem=</span>καί</span><span class=\"lex_og xft\" ><span class=\"f\">lex_og=</span>kai</span></div></div><div class=\"contnr c0 trm   hl\" ><div class=\"lbl c0 trm hl\" ><span class=\"txtu grc\">εὐθέως </span></div><div class='features'><span class=\"anlex_lem xft\" ><span class=\"f\">anlex_lem=</span>εὐθέως</span><span class=\"lex_og xft\" ><span class=\"f\">lex_og=</span>eutheos</span></div></div><div class=\"contnr c0 trm   \" ><div class=\"lbl c0 trm \" ><span class=\"txtu grc\">ἐξανέτειλεν </span></div><div class='features'><span class=\"anlex_lem xft\" ><span class=\"f\">anlex_lem=</span>ἐξανατέλλω</span><span class=\"lex_og xft\" ><span class=\"f\">lex_og=</span>exanatello</span></div></div><div class=\"contnr c0 trm   \" ><div class=\"lbl c0 trm \" ><span class=\"txtu grc\">διὰ </span></div><div class='features'><span class=\"anlex_lem xft\" ><span class=\"f\">anlex_lem=</span>διά</span><span class=\"lex_og xft\" ><span class=\"f\">lex_og=</span>dia</span></div></div><div class=\"contnr c0 trm   \" ><div class=\"lbl c0 trm \" ><span class=\"txtu grc\">τὸ </span></div><div class='features'><span class=\"anlex_lem xft\" ><span class=\"f\">anlex_lem=</span>ὁ</span><span class=\"lex_og xft\" ><span class=\"f\">lex_og=</span>o</span></div></div><div class=\"contnr c0 trm   \" ><div class=\"lbl c0 trm \" ><span class=\"txtu grc\">μὴ </span></div><div class='features'><span class=\"anlex_lem xft\" ><span class=\"f\">anlex_lem=</span>μή</span><span class=\"lex_og xft\" ><span class=\"f\">lex_og=</span>me</span></div></div><div class=\"contnr c0 trm   \" ><div class=\"lbl c0 trm \" ><span class=\"txtu grc\">ἔχειν </span></div><div class='features'><span class=\"anlex_lem xft\" ><span class=\"f\">anlex_lem=</span>ἔχω</span><span class=\"lex_og xft\" ><span class=\"f\">lex_og=</span>ekho</span></div></div><div class=\"contnr c0 trm   \" ><div class=\"lbl c0 trm \" ><span class=\"txtu grc\">βάθος </span></div><div class='features'><span class=\"anlex_lem xft\" ><span class=\"f\">anlex_lem=</span>βάθος</span><span class=\"lex_og xft\" ><span class=\"f\">lex_og=</span>bathos</span></div></div><div class=\"contnr c0 trm   \" ><div class=\"lbl c0 trm \" ><span class=\"txtu grc\">γῆς· </span></div><div class='features'><span class=\"anlex_lem xft\" ><span class=\"f\">anlex_lem=</span>γῆ</span><span class=\"lex_og xft\" ><span class=\"f\">lex_og=</span>ge</span></div></div></div></div></div>"
      ],
      "text/plain": [
       "<IPython.core.display.HTML object>"
      ]
     },
     "metadata": {},
     "output_type": "display_data"
    },
    {
     "data": {
      "text/html": [
       "<p><b>verse</b> <i>6</i></p>"
      ],
      "text/plain": [
       "<IPython.core.display.HTML object>"
      ]
     },
     "metadata": {},
     "output_type": "display_data"
    },
    {
     "data": {
      "text/html": [
       "<div class=\"section \">Matthew 13:20</div><div class=\" children\"><div class=\"contnr c3    \" ><div class=\"lbl c3  \" ><span class=\"nd\">verse</span></div><div class=\"children hor wrap \"><div class=\"contnr c0 trm   \" ><div class=\"lbl c0 trm \" ><span class=\"txtu grc\">ὁ </span></div><div class='features'><span class=\"anlex_lem xft\" ><span class=\"f\">anlex_lem=</span>ὁ</span><span class=\"lex_og xft\" ><span class=\"f\">lex_og=</span>o</span></div></div><div class=\"contnr c0 trm   \" ><div class=\"lbl c0 trm \" ><span class=\"txtu grc\">δὲ </span></div><div class='features'><span class=\"anlex_lem xft\" ><span class=\"f\">anlex_lem=</span>δέ</span><span class=\"lex_og xft\" ><span class=\"f\">lex_og=</span>de</span></div></div><div class=\"contnr c0 trm   \" ><div class=\"lbl c0 trm \" ><span class=\"txtu grc\">ἐπὶ </span></div><div class='features'><span class=\"anlex_lem xft\" ><span class=\"f\">anlex_lem=</span>ἐπί</span><span class=\"lex_og xft\" ><span class=\"f\">lex_og=</span>epi</span></div></div><div class=\"contnr c0 trm   \" ><div class=\"lbl c0 trm \" ><span class=\"txtu grc\">τὰ </span></div><div class='features'><span class=\"anlex_lem xft\" ><span class=\"f\">anlex_lem=</span>ὁ</span><span class=\"lex_og xft\" ><span class=\"f\">lex_og=</span>o</span></div></div><div class=\"contnr c0 trm   \" ><div class=\"lbl c0 trm \" ><span class=\"txtu grc\">πετρώδη </span></div><div class='features'><span class=\"anlex_lem xft\" ><span class=\"f\">anlex_lem=</span>πετρώδης</span><span class=\"lex_og xft\" ><span class=\"f\">lex_og=</span>petrodes</span></div></div><div class=\"contnr c0 trm   \" ><div class=\"lbl c0 trm \" ><span class=\"txtu grc\">σπαρείς, </span></div><div class='features'><span class=\"anlex_lem xft\" ><span class=\"f\">anlex_lem=</span>σπείρω</span><span class=\"lex_og xft\" ><span class=\"f\">lex_og=</span>speiro</span></div></div><div class=\"contnr c0 trm   \" ><div class=\"lbl c0 trm \" ><span class=\"txtu grc\">οὗτός </span></div><div class='features'><span class=\"anlex_lem xft\" ><span class=\"f\">anlex_lem=</span>οὗτος</span><span class=\"lex_og xft\" ><span class=\"f\">lex_og=</span>outos</span></div></div><div class=\"contnr c0 trm   \" ><div class=\"lbl c0 trm \" ><span class=\"txtu grc\">ἐστιν </span></div><div class='features'><span class=\"anlex_lem xft\" ><span class=\"f\">anlex_lem=</span>εἰμί</span><span class=\"lex_og xft\" ><span class=\"f\">lex_og=</span>eimi</span></div></div><div class=\"contnr c0 trm   \" ><div class=\"lbl c0 trm \" ><span class=\"txtu grc\">ὁ </span></div><div class='features'><span class=\"anlex_lem xft\" ><span class=\"f\">anlex_lem=</span>ὁ</span><span class=\"lex_og xft\" ><span class=\"f\">lex_og=</span>o</span></div></div><div class=\"contnr c0 trm   \" ><div class=\"lbl c0 trm \" ><span class=\"txtu grc\">τὸν </span></div><div class='features'><span class=\"anlex_lem xft\" ><span class=\"f\">anlex_lem=</span>ὁ</span><span class=\"lex_og xft\" ><span class=\"f\">lex_og=</span>o</span></div></div><div class=\"contnr c0 trm   \" ><div class=\"lbl c0 trm \" ><span class=\"txtu grc\">λόγον </span></div><div class='features'><span class=\"anlex_lem xft\" ><span class=\"f\">anlex_lem=</span>λόγος</span><span class=\"lex_og xft\" ><span class=\"f\">lex_og=</span>logos</span></div></div><div class=\"contnr c0 trm   \" ><div class=\"lbl c0 trm \" ><span class=\"txtu grc\">ἀκούων </span></div><div class='features'><span class=\"anlex_lem xft\" ><span class=\"f\">anlex_lem=</span>ἀκούω</span><span class=\"lex_og xft\" ><span class=\"f\">lex_og=</span>akouo</span></div></div><div class=\"contnr c0 trm   \" ><div class=\"lbl c0 trm \" ><span class=\"txtu grc\">καὶ </span></div><div class='features'><span class=\"anlex_lem xft\" ><span class=\"f\">anlex_lem=</span>καί</span><span class=\"lex_og xft\" ><span class=\"f\">lex_og=</span>kai</span></div></div><div class=\"contnr c0 trm   hl\" ><div class=\"lbl c0 trm hl\" ><span class=\"txtu grc\">εὐθὺς </span></div><div class='features'><span class=\"anlex_lem xft\" ><span class=\"f\">anlex_lem=</span>εὐθέως</span><span class=\"lex_og xft\" ><span class=\"f\">lex_og=</span>eutheos</span></div></div><div class=\"contnr c0 trm   \" ><div class=\"lbl c0 trm \" ><span class=\"txtu grc\">μετὰ </span></div><div class='features'><span class=\"anlex_lem xft\" ><span class=\"f\">anlex_lem=</span>μετά</span><span class=\"lex_og xft\" ><span class=\"f\">lex_og=</span>meta</span></div></div><div class=\"contnr c0 trm   \" ><div class=\"lbl c0 trm \" ><span class=\"txtu grc\">χαρᾶς </span></div><div class='features'><span class=\"anlex_lem xft\" ><span class=\"f\">anlex_lem=</span>χαρά</span><span class=\"lex_og xft\" ><span class=\"f\">lex_og=</span>khara</span></div></div><div class=\"contnr c0 trm   \" ><div class=\"lbl c0 trm \" ><span class=\"txtu grc\">λαμβάνων </span></div><div class='features'><span class=\"anlex_lem xft\" ><span class=\"f\">anlex_lem=</span>λαμβάνω</span><span class=\"lex_og xft\" ><span class=\"f\">lex_og=</span>lambano</span></div></div><div class=\"contnr c0 trm   \" ><div class=\"lbl c0 trm \" ><span class=\"txtu grc\">αὐτόν· </span></div><div class='features'><span class=\"anlex_lem xft\" ><span class=\"f\">anlex_lem=</span>αὐτός</span><span class=\"lex_og xft\" ><span class=\"f\">lex_og=</span>autos</span></div></div></div></div></div>"
      ],
      "text/plain": [
       "<IPython.core.display.HTML object>"
      ]
     },
     "metadata": {},
     "output_type": "display_data"
    },
    {
     "data": {
      "text/html": [
       "<p><b>verse</b> <i>7</i></p>"
      ],
      "text/plain": [
       "<IPython.core.display.HTML object>"
      ]
     },
     "metadata": {},
     "output_type": "display_data"
    },
    {
     "data": {
      "text/html": [
       "<div class=\"section \">Matthew 13:21</div><div class=\" children\"><div class=\"contnr c3    \" ><div class=\"lbl c3  \" ><span class=\"nd\">verse</span></div><div class=\"children hor wrap \"><div class=\"contnr c0 trm   \" ><div class=\"lbl c0 trm \" ><span class=\"txtu grc\">οὐκ </span></div><div class='features'><span class=\"anlex_lem xft\" ><span class=\"f\">anlex_lem=</span>οὐ</span><span class=\"lex_og xft\" ><span class=\"f\">lex_og=</span>ou</span></div></div><div class=\"contnr c0 trm   \" ><div class=\"lbl c0 trm \" ><span class=\"txtu grc\">ἔχει </span></div><div class='features'><span class=\"anlex_lem xft\" ><span class=\"f\">anlex_lem=</span>ἔχω</span><span class=\"lex_og xft\" ><span class=\"f\">lex_og=</span>ekho</span></div></div><div class=\"contnr c0 trm   \" ><div class=\"lbl c0 trm \" ><span class=\"txtu grc\">δὲ </span></div><div class='features'><span class=\"anlex_lem xft\" ><span class=\"f\">anlex_lem=</span>δέ</span><span class=\"lex_og xft\" ><span class=\"f\">lex_og=</span>de</span></div></div><div class=\"contnr c0 trm   \" ><div class=\"lbl c0 trm \" ><span class=\"txtu grc\">ῥίζαν </span></div><div class='features'><span class=\"anlex_lem xft\" ><span class=\"f\">anlex_lem=</span>ῥίζα</span><span class=\"lex_og xft\" ><span class=\"f\">lex_og=</span>Riza</span></div></div><div class=\"contnr c0 trm   \" ><div class=\"lbl c0 trm \" ><span class=\"txtu grc\">ἐν </span></div><div class='features'><span class=\"anlex_lem xft\" ><span class=\"f\">anlex_lem=</span>ἐν</span><span class=\"lex_og xft\" ><span class=\"f\">lex_og=</span>en</span></div></div><div class=\"contnr c0 trm   \" ><div class=\"lbl c0 trm \" ><span class=\"txtu grc\">ἑαυτῷ </span></div><div class='features'><span class=\"anlex_lem xft\" ><span class=\"f\">anlex_lem=</span>ἑαυτοῦ</span><span class=\"lex_og xft\" ><span class=\"f\">lex_og=</span>eautou</span></div></div><div class=\"contnr c0 trm   \" ><div class=\"lbl c0 trm \" ><span class=\"txtu grc\">ἀλλὰ </span></div><div class='features'><span class=\"anlex_lem xft\" ><span class=\"f\">anlex_lem=</span>ἀλλά</span><span class=\"lex_og xft\" ><span class=\"f\">lex_og=</span>alla</span></div></div><div class=\"contnr c0 trm   \" ><div class=\"lbl c0 trm \" ><span class=\"txtu grc\">πρόσκαιρός </span></div><div class='features'><span class=\"anlex_lem xft\" ><span class=\"f\">anlex_lem=</span>πρόσκαιρος</span><span class=\"lex_og xft\" ><span class=\"f\">lex_og=</span>proskairos</span></div></div><div class=\"contnr c0 trm   \" ><div class=\"lbl c0 trm \" ><span class=\"txtu grc\">ἐστιν, </span></div><div class='features'><span class=\"anlex_lem xft\" ><span class=\"f\">anlex_lem=</span>εἰμί</span><span class=\"lex_og xft\" ><span class=\"f\">lex_og=</span>eimi</span></div></div><div class=\"contnr c0 trm   \" ><div class=\"lbl c0 trm \" ><span class=\"txtu grc\">γενομένης </span></div><div class='features'><span class=\"anlex_lem xft\" ><span class=\"f\">anlex_lem=</span>γίνομαι</span><span class=\"lex_og xft\" ><span class=\"f\">lex_og=</span>ginomai</span></div></div><div class=\"contnr c0 trm   \" ><div class=\"lbl c0 trm \" ><span class=\"txtu grc\">δὲ </span></div><div class='features'><span class=\"anlex_lem xft\" ><span class=\"f\">anlex_lem=</span>δέ</span><span class=\"lex_og xft\" ><span class=\"f\">lex_og=</span>de</span></div></div><div class=\"contnr c0 trm   \" ><div class=\"lbl c0 trm \" ><span class=\"txtu grc\">θλίψεως </span></div><div class='features'><span class=\"anlex_lem xft\" ><span class=\"f\">anlex_lem=</span>θλῖψις</span><span class=\"lex_og xft\" ><span class=\"f\">lex_og=</span>thlipsis</span></div></div><div class=\"contnr c0 trm   \" ><div class=\"lbl c0 trm \" ><span class=\"txtu grc\">ἢ </span></div><div class='features'><span class=\"anlex_lem xft\" ><span class=\"f\">anlex_lem=</span>ἤ</span><span class=\"lex_og xft\" ><span class=\"f\">lex_og=</span>e</span></div></div><div class=\"contnr c0 trm   \" ><div class=\"lbl c0 trm \" ><span class=\"txtu grc\">διωγμοῦ </span></div><div class='features'><span class=\"anlex_lem xft\" ><span class=\"f\">anlex_lem=</span>διωγμός</span><span class=\"lex_og xft\" ><span class=\"f\">lex_og=</span>diogmos</span></div></div><div class=\"contnr c0 trm   \" ><div class=\"lbl c0 trm \" ><span class=\"txtu grc\">διὰ </span></div><div class='features'><span class=\"anlex_lem xft\" ><span class=\"f\">anlex_lem=</span>διά</span><span class=\"lex_og xft\" ><span class=\"f\">lex_og=</span>dia</span></div></div><div class=\"contnr c0 trm   \" ><div class=\"lbl c0 trm \" ><span class=\"txtu grc\">τὸν </span></div><div class='features'><span class=\"anlex_lem xft\" ><span class=\"f\">anlex_lem=</span>ὁ</span><span class=\"lex_og xft\" ><span class=\"f\">lex_og=</span>o</span></div></div><div class=\"contnr c0 trm   \" ><div class=\"lbl c0 trm \" ><span class=\"txtu grc\">λόγον </span></div><div class='features'><span class=\"anlex_lem xft\" ><span class=\"f\">anlex_lem=</span>λόγος</span><span class=\"lex_og xft\" ><span class=\"f\">lex_og=</span>logos</span></div></div><div class=\"contnr c0 trm   hl\" ><div class=\"lbl c0 trm hl\" ><span class=\"txtu grc\">εὐθὺς </span></div><div class='features'><span class=\"anlex_lem xft\" ><span class=\"f\">anlex_lem=</span>εὐθέως</span><span class=\"lex_og xft\" ><span class=\"f\">lex_og=</span>eutheos</span></div></div><div class=\"contnr c0 trm   \" ><div class=\"lbl c0 trm \" ><span class=\"txtu grc\">σκανδαλίζεται. </span></div><div class='features'><span class=\"anlex_lem xft\" ><span class=\"f\">anlex_lem=</span>σκανδαλίζω</span><span class=\"lex_og xft\" ><span class=\"f\">lex_og=</span>skandalizo</span></div></div></div></div></div>"
      ],
      "text/plain": [
       "<IPython.core.display.HTML object>"
      ]
     },
     "metadata": {},
     "output_type": "display_data"
    }
   ],
   "source": [
    "eutheos = '''\n",
    "word lex_og=eutheos\n",
    "\n",
    "'''\n",
    "eutheos  = NT.search(eutheos)\n",
    "NT.show(eutheos, start=1, end=7, extraFeatures={'anlex_lem'}, condensed=True)"
   ]
  },
  {
   "cell_type": "markdown",
   "metadata": {},
   "source": [
    "## Morphology Searches\n",
    "Lets search for 1sg Futurum-I of εἰμί."
   ]
  },
  {
   "cell_type": "code",
   "execution_count": 9,
   "metadata": {},
   "outputs": [
    {
     "name": "stdout",
     "output_type": "stream",
     "text": [
      "  0.14s 13 results\n"
     ]
    },
    {
     "data": {
      "text/html": [
       "<p><b>verse</b> <i>1</i></p>"
      ],
      "text/plain": [
       "<IPython.core.display.HTML object>"
      ]
     },
     "metadata": {},
     "output_type": "display_data"
    },
    {
     "data": {
      "text/html": [
       "<div class=\"section \">Matthew 17:17</div><div class=\" children\"><div class=\"contnr c3    \" ><div class=\"lbl c3  \" ><span class=\"nd\">verse</span></div><div class=\"children hor wrap \"><div class=\"contnr c0 trm   \" ><div class=\"lbl c0 trm \" ><span class=\"txtu grc\">ἀποκριθεὶς </span></div><div class='features'><span class=\"anlex_lem xft\" ><span class=\"f\">anlex_lem=</span>ἀποκρίνομαι</span><span class=\"gloss xft\" ><span class=\"f\">gloss=</span>to answer</span><span class=\"lex_og xft\" ><span class=\"f\">lex_og=</span>apokrinomai</span><span class=\"nu xft\" ><span class=\"f\">nu=</span>sg</span><span class=\"ps xft\" ><span class=\"f\">ps=</span></span><span class=\"vt xft\" ><span class=\"f\">vt=</span>aorist</span></div></div><div class=\"contnr c0 trm   \" ><div class=\"lbl c0 trm \" ><span class=\"txtu grc\">δὲ </span></div><div class='features'><span class=\"anlex_lem xft\" ><span class=\"f\">anlex_lem=</span>δέ</span><span class=\"gloss xft\" ><span class=\"f\">gloss=</span>but</span><span class=\"lex_og xft\" ><span class=\"f\">lex_og=</span>de</span><span class=\"nu xft\" ><span class=\"f\">nu=</span></span><span class=\"ps xft\" ><span class=\"f\">ps=</span></span><span class=\"vt xft\" ><span class=\"f\">vt=</span></span></div></div><div class=\"contnr c0 trm   \" ><div class=\"lbl c0 trm \" ><span class=\"txtu grc\">ὁ </span></div><div class='features'><span class=\"anlex_lem xft\" ><span class=\"f\">anlex_lem=</span>ὁ</span><span class=\"gloss xft\" ><span class=\"f\">gloss=</span>the</span><span class=\"lex_og xft\" ><span class=\"f\">lex_og=</span>o</span><span class=\"nu xft\" ><span class=\"f\">nu=</span>sg</span><span class=\"ps xft\" ><span class=\"f\">ps=</span></span><span class=\"vt xft\" ><span class=\"f\">vt=</span></span></div></div><div class=\"contnr c0 trm   \" ><div class=\"lbl c0 trm \" ><span class=\"txtu grc\">Ἰησοῦς </span></div><div class='features'><span class=\"anlex_lem xft\" ><span class=\"f\">anlex_lem=</span>Ἰησοῦς</span><span class=\"gloss xft\" ><span class=\"f\">gloss=</span>Jesus</span><span class=\"lex_og xft\" ><span class=\"f\">lex_og=</span>Iesous</span><span class=\"nu xft\" ><span class=\"f\">nu=</span>sg</span><span class=\"ps xft\" ><span class=\"f\">ps=</span></span><span class=\"vt xft\" ><span class=\"f\">vt=</span></span></div></div><div class=\"contnr c0 trm   \" ><div class=\"lbl c0 trm \" ><span class=\"txtu grc\">εἶπεν· </span></div><div class='features'><span class=\"anlex_lem xft\" ><span class=\"f\">anlex_lem=</span>λέγω</span><span class=\"gloss xft\" ><span class=\"f\">gloss=</span>say</span><span class=\"lex_og xft\" ><span class=\"f\">lex_og=</span>lego</span><span class=\"nu xft\" ><span class=\"f\">nu=</span>sg</span><span class=\"ps xft\" ><span class=\"f\">ps=</span>p2</span><span class=\"vt xft\" ><span class=\"f\">vt=</span>aorist</span></div></div><div class=\"contnr c0 trm   \" ><div class=\"lbl c0 trm \" ><span class=\"txtu grc\">ὦ </span></div><div class='features'><span class=\"anlex_lem xft\" ><span class=\"f\">anlex_lem=</span>ὦ</span><span class=\"gloss xft\" ><span class=\"f\">gloss=</span>Oh!</span><span class=\"lex_og xft\" ><span class=\"f\">lex_og=</span>o</span><span class=\"nu xft\" ><span class=\"f\">nu=</span></span><span class=\"ps xft\" ><span class=\"f\">ps=</span></span><span class=\"vt xft\" ><span class=\"f\">vt=</span></span></div></div><div class=\"contnr c0 trm   \" ><div class=\"lbl c0 trm \" ><span class=\"txtu grc\">γενεὰ </span></div><div class='features'><span class=\"anlex_lem xft\" ><span class=\"f\">anlex_lem=</span>γενεά</span><span class=\"gloss xft\" ><span class=\"f\">gloss=</span>generation</span><span class=\"lex_og xft\" ><span class=\"f\">lex_og=</span>genea</span><span class=\"nu xft\" ><span class=\"f\">nu=</span>sg</span><span class=\"ps xft\" ><span class=\"f\">ps=</span></span><span class=\"vt xft\" ><span class=\"f\">vt=</span></span></div></div><div class=\"contnr c0 trm   \" ><div class=\"lbl c0 trm \" ><span class=\"txtu grc\">ἄπιστος </span></div><div class='features'><span class=\"anlex_lem xft\" ><span class=\"f\">anlex_lem=</span>ἄπιστος</span><span class=\"gloss xft\" ><span class=\"f\">gloss=</span>unbelieving</span><span class=\"lex_og xft\" ><span class=\"f\">lex_og=</span>apistos</span><span class=\"nu xft\" ><span class=\"f\">nu=</span>sg</span><span class=\"ps xft\" ><span class=\"f\">ps=</span></span><span class=\"vt xft\" ><span class=\"f\">vt=</span></span></div></div><div class=\"contnr c0 trm   \" ><div class=\"lbl c0 trm \" ><span class=\"txtu grc\">καὶ </span></div><div class='features'><span class=\"anlex_lem xft\" ><span class=\"f\">anlex_lem=</span>καί</span><span class=\"gloss xft\" ><span class=\"f\">gloss=</span>and</span><span class=\"lex_og xft\" ><span class=\"f\">lex_og=</span>kai</span><span class=\"nu xft\" ><span class=\"f\">nu=</span></span><span class=\"ps xft\" ><span class=\"f\">ps=</span></span><span class=\"vt xft\" ><span class=\"f\">vt=</span></span></div></div><div class=\"contnr c0 trm   \" ><div class=\"lbl c0 trm \" ><span class=\"txtu grc\">διεστραμμένη, </span></div><div class='features'><span class=\"anlex_lem xft\" ><span class=\"f\">anlex_lem=</span>διαστρέφω</span><span class=\"gloss xft\" ><span class=\"f\">gloss=</span>to subvert</span><span class=\"lex_og xft\" ><span class=\"f\">lex_og=</span>diastrepho</span><span class=\"nu xft\" ><span class=\"f\">nu=</span>sg</span><span class=\"ps xft\" ><span class=\"f\">ps=</span></span><span class=\"vt xft\" ><span class=\"f\">vt=</span>perfect</span></div></div><div class=\"contnr c0 trm   \" ><div class=\"lbl c0 trm \" ><span class=\"txtu grc\">ἕως </span></div><div class='features'><span class=\"anlex_lem xft\" ><span class=\"f\">anlex_lem=</span>ἕως</span><span class=\"gloss xft\" ><span class=\"f\">gloss=</span>up to</span><span class=\"lex_og xft\" ><span class=\"f\">lex_og=</span>eos</span><span class=\"nu xft\" ><span class=\"f\">nu=</span></span><span class=\"ps xft\" ><span class=\"f\">ps=</span></span><span class=\"vt xft\" ><span class=\"f\">vt=</span></span></div></div><div class=\"contnr c0 trm   \" ><div class=\"lbl c0 trm \" ><span class=\"txtu grc\">πότε </span></div><div class='features'><span class=\"anlex_lem xft\" ><span class=\"f\">anlex_lem=</span>πότε</span><span class=\"gloss xft\" ><span class=\"f\">gloss=</span>when? how long?</span><span class=\"lex_og xft\" ><span class=\"f\">lex_og=</span>pote</span><span class=\"nu xft\" ><span class=\"f\">nu=</span></span><span class=\"ps xft\" ><span class=\"f\">ps=</span></span><span class=\"vt xft\" ><span class=\"f\">vt=</span></span></div></div><div class=\"contnr c0 trm   \" ><div class=\"lbl c0 trm \" ><span class=\"txtu grc\">μεθ’ </span></div><div class='features'><span class=\"anlex_lem xft\" ><span class=\"f\">anlex_lem=</span>μετά</span><span class=\"gloss xft\" ><span class=\"f\">gloss=</span>with</span><span class=\"lex_og xft\" ><span class=\"f\">lex_og=</span>meta</span><span class=\"nu xft\" ><span class=\"f\">nu=</span></span><span class=\"ps xft\" ><span class=\"f\">ps=</span></span><span class=\"vt xft\" ><span class=\"f\">vt=</span></span></div></div><div class=\"contnr c0 trm   \" ><div class=\"lbl c0 trm \" ><span class=\"txtu grc\">ὑμῶν </span></div><div class='features'><span class=\"anlex_lem xft\" ><span class=\"f\">anlex_lem=</span>σύ</span><span class=\"gloss xft\" ><span class=\"f\">gloss=</span>you</span><span class=\"lex_og xft\" ><span class=\"f\">lex_og=</span>su</span><span class=\"nu xft\" ><span class=\"f\">nu=</span>pl</span><span class=\"ps xft\" ><span class=\"f\">ps=</span>p2</span><span class=\"vt xft\" ><span class=\"f\">vt=</span></span></div></div><div class=\"contnr c0 trm   hl\" ><div class=\"lbl c0 trm hl\" ><span class=\"txtu grc\">ἔσομαι; </span></div><div class='features'><span class=\"anlex_lem xft\" ><span class=\"f\">anlex_lem=</span>εἰμί</span><span class=\"gloss xft\" ><span class=\"f\">gloss=</span>to be</span><span class=\"lex_og xft\" ><span class=\"f\">lex_og=</span>eimi</span><span class=\"nu xft\" ><span class=\"f\">nu=</span>sg</span><span class=\"ps xft\" ><span class=\"f\">ps=</span>p1</span><span class=\"vt xft\" ><span class=\"f\">vt=</span>future-I</span></div></div><div class=\"contnr c0 trm   \" ><div class=\"lbl c0 trm \" ><span class=\"txtu grc\">ἕως </span></div><div class='features'><span class=\"anlex_lem xft\" ><span class=\"f\">anlex_lem=</span>ἕως</span><span class=\"gloss xft\" ><span class=\"f\">gloss=</span>up to</span><span class=\"lex_og xft\" ><span class=\"f\">lex_og=</span>eos</span><span class=\"nu xft\" ><span class=\"f\">nu=</span></span><span class=\"ps xft\" ><span class=\"f\">ps=</span></span><span class=\"vt xft\" ><span class=\"f\">vt=</span></span></div></div><div class=\"contnr c0 trm   \" ><div class=\"lbl c0 trm \" ><span class=\"txtu grc\">πότε </span></div><div class='features'><span class=\"anlex_lem xft\" ><span class=\"f\">anlex_lem=</span>πότε</span><span class=\"gloss xft\" ><span class=\"f\">gloss=</span>when? how long?</span><span class=\"lex_og xft\" ><span class=\"f\">lex_og=</span>pote</span><span class=\"nu xft\" ><span class=\"f\">nu=</span></span><span class=\"ps xft\" ><span class=\"f\">ps=</span></span><span class=\"vt xft\" ><span class=\"f\">vt=</span></span></div></div><div class=\"contnr c0 trm   \" ><div class=\"lbl c0 trm \" ><span class=\"txtu grc\">ἀνέξομαι </span></div><div class='features'><span class=\"anlex_lem xft\" ><span class=\"f\">anlex_lem=</span>ἀνέχω</span><span class=\"gloss xft\" ><span class=\"f\">gloss=</span>to put up with</span><span class=\"lex_og xft\" ><span class=\"f\">lex_og=</span>anekho</span><span class=\"nu xft\" ><span class=\"f\">nu=</span>sg</span><span class=\"ps xft\" ><span class=\"f\">ps=</span>p1</span><span class=\"vt xft\" ><span class=\"f\">vt=</span>future-I</span></div></div><div class=\"contnr c0 trm   \" ><div class=\"lbl c0 trm \" ><span class=\"txtu grc\">ὑμῶν; </span></div><div class='features'><span class=\"anlex_lem xft\" ><span class=\"f\">anlex_lem=</span>σύ</span><span class=\"gloss xft\" ><span class=\"f\">gloss=</span>you</span><span class=\"lex_og xft\" ><span class=\"f\">lex_og=</span>su</span><span class=\"nu xft\" ><span class=\"f\">nu=</span>pl</span><span class=\"ps xft\" ><span class=\"f\">ps=</span>p2</span><span class=\"vt xft\" ><span class=\"f\">vt=</span></span></div></div><div class=\"contnr c0 trm   \" ><div class=\"lbl c0 trm \" ><span class=\"txtu grc\">φέρετέ </span></div><div class='features'><span class=\"anlex_lem xft\" ><span class=\"f\">anlex_lem=</span>φέρω</span><span class=\"gloss xft\" ><span class=\"f\">gloss=</span>to bring</span><span class=\"lex_og xft\" ><span class=\"f\">lex_og=</span>phero</span><span class=\"nu xft\" ><span class=\"f\">nu=</span>pl</span><span class=\"ps xft\" ><span class=\"f\">ps=</span>p2</span><span class=\"vt xft\" ><span class=\"f\">vt=</span>present</span></div></div><div class=\"contnr c0 trm   \" ><div class=\"lbl c0 trm \" ><span class=\"txtu grc\">μοι </span></div><div class='features'><span class=\"anlex_lem xft\" ><span class=\"f\">anlex_lem=</span>ἐγώ</span><span class=\"gloss xft\" ><span class=\"f\">gloss=</span>I</span><span class=\"lex_og xft\" ><span class=\"f\">lex_og=</span>ego</span><span class=\"nu xft\" ><span class=\"f\">nu=</span>sg</span><span class=\"ps xft\" ><span class=\"f\">ps=</span>p1</span><span class=\"vt xft\" ><span class=\"f\">vt=</span></span></div></div><div class=\"contnr c0 trm   \" ><div class=\"lbl c0 trm \" ><span class=\"txtu grc\">αὐτὸν </span></div><div class='features'><span class=\"anlex_lem xft\" ><span class=\"f\">anlex_lem=</span>αὐτός</span><span class=\"gloss xft\" ><span class=\"f\">gloss=</span>he</span><span class=\"lex_og xft\" ><span class=\"f\">lex_og=</span>autos</span><span class=\"nu xft\" ><span class=\"f\">nu=</span>sg</span><span class=\"ps xft\" ><span class=\"f\">ps=</span></span><span class=\"vt xft\" ><span class=\"f\">vt=</span></span></div></div><div class=\"contnr c0 trm   \" ><div class=\"lbl c0 trm \" ><span class=\"txtu grc\">ὧδε. </span></div><div class='features'><span class=\"anlex_lem xft\" ><span class=\"f\">anlex_lem=</span>ὧδε</span><span class=\"gloss xft\" ><span class=\"f\">gloss=</span>here</span><span class=\"lex_og xft\" ><span class=\"f\">lex_og=</span>ode</span><span class=\"nu xft\" ><span class=\"f\">nu=</span></span><span class=\"ps xft\" ><span class=\"f\">ps=</span></span><span class=\"vt xft\" ><span class=\"f\">vt=</span></span></div></div></div></div></div>"
      ],
      "text/plain": [
       "<IPython.core.display.HTML object>"
      ]
     },
     "metadata": {},
     "output_type": "display_data"
    },
    {
     "data": {
      "text/html": [
       "<p><b>verse</b> <i>2</i></p>"
      ],
      "text/plain": [
       "<IPython.core.display.HTML object>"
      ]
     },
     "metadata": {},
     "output_type": "display_data"
    },
    {
     "data": {
      "text/html": [
       "<div class=\"section \">Mark 9:19</div><div class=\" children\"><div class=\"contnr c3    \" ><div class=\"lbl c3  \" ><span class=\"nd\">verse</span></div><div class=\"children hor wrap \"><div class=\"contnr c0 trm   \" ><div class=\"lbl c0 trm \" ><span class=\"txtu grc\">ὁ </span></div><div class='features'><span class=\"anlex_lem xft\" ><span class=\"f\">anlex_lem=</span>ὁ</span><span class=\"gloss xft\" ><span class=\"f\">gloss=</span>the</span><span class=\"lex_og xft\" ><span class=\"f\">lex_og=</span>o</span><span class=\"nu xft\" ><span class=\"f\">nu=</span>sg</span><span class=\"ps xft\" ><span class=\"f\">ps=</span></span><span class=\"vt xft\" ><span class=\"f\">vt=</span></span></div></div><div class=\"contnr c0 trm   \" ><div class=\"lbl c0 trm \" ><span class=\"txtu grc\">δὲ </span></div><div class='features'><span class=\"anlex_lem xft\" ><span class=\"f\">anlex_lem=</span>δέ</span><span class=\"gloss xft\" ><span class=\"f\">gloss=</span>but</span><span class=\"lex_og xft\" ><span class=\"f\">lex_og=</span>de</span><span class=\"nu xft\" ><span class=\"f\">nu=</span></span><span class=\"ps xft\" ><span class=\"f\">ps=</span></span><span class=\"vt xft\" ><span class=\"f\">vt=</span></span></div></div><div class=\"contnr c0 trm   \" ><div class=\"lbl c0 trm \" ><span class=\"txtu grc\">ἀποκριθεὶς </span></div><div class='features'><span class=\"anlex_lem xft\" ><span class=\"f\">anlex_lem=</span>ἀποκρίνομαι</span><span class=\"gloss xft\" ><span class=\"f\">gloss=</span>to answer</span><span class=\"lex_og xft\" ><span class=\"f\">lex_og=</span>apokrinomai</span><span class=\"nu xft\" ><span class=\"f\">nu=</span>sg</span><span class=\"ps xft\" ><span class=\"f\">ps=</span></span><span class=\"vt xft\" ><span class=\"f\">vt=</span>aorist</span></div></div><div class=\"contnr c0 trm   \" ><div class=\"lbl c0 trm \" ><span class=\"txtu grc\">αὐτοῖς </span></div><div class='features'><span class=\"anlex_lem xft\" ><span class=\"f\">anlex_lem=</span>αὐτός</span><span class=\"gloss xft\" ><span class=\"f\">gloss=</span>he</span><span class=\"lex_og xft\" ><span class=\"f\">lex_og=</span>autos</span><span class=\"nu xft\" ><span class=\"f\">nu=</span>pl</span><span class=\"ps xft\" ><span class=\"f\">ps=</span></span><span class=\"vt xft\" ><span class=\"f\">vt=</span></span></div></div><div class=\"contnr c0 trm   \" ><div class=\"lbl c0 trm \" ><span class=\"txtu grc\">λέγει· </span></div><div class='features'><span class=\"anlex_lem xft\" ><span class=\"f\">anlex_lem=</span>λέγω</span><span class=\"gloss xft\" ><span class=\"f\">gloss=</span>say</span><span class=\"lex_og xft\" ><span class=\"f\">lex_og=</span>lego</span><span class=\"nu xft\" ><span class=\"f\">nu=</span>sg</span><span class=\"ps xft\" ><span class=\"f\">ps=</span>p3</span><span class=\"vt xft\" ><span class=\"f\">vt=</span>present</span></div></div><div class=\"contnr c0 trm   \" ><div class=\"lbl c0 trm \" ><span class=\"txtu grc\">ὦ </span></div><div class='features'><span class=\"anlex_lem xft\" ><span class=\"f\">anlex_lem=</span>ὦ</span><span class=\"gloss xft\" ><span class=\"f\">gloss=</span>Oh!</span><span class=\"lex_og xft\" ><span class=\"f\">lex_og=</span>o</span><span class=\"nu xft\" ><span class=\"f\">nu=</span></span><span class=\"ps xft\" ><span class=\"f\">ps=</span></span><span class=\"vt xft\" ><span class=\"f\">vt=</span></span></div></div><div class=\"contnr c0 trm   \" ><div class=\"lbl c0 trm \" ><span class=\"txtu grc\">γενεὰ </span></div><div class='features'><span class=\"anlex_lem xft\" ><span class=\"f\">anlex_lem=</span>γενεά</span><span class=\"gloss xft\" ><span class=\"f\">gloss=</span>generation</span><span class=\"lex_og xft\" ><span class=\"f\">lex_og=</span>genea</span><span class=\"nu xft\" ><span class=\"f\">nu=</span>sg</span><span class=\"ps xft\" ><span class=\"f\">ps=</span></span><span class=\"vt xft\" ><span class=\"f\">vt=</span></span></div></div><div class=\"contnr c0 trm   \" ><div class=\"lbl c0 trm \" ><span class=\"txtu grc\">ἄπιστος, </span></div><div class='features'><span class=\"anlex_lem xft\" ><span class=\"f\">anlex_lem=</span>ἄπιστος</span><span class=\"gloss xft\" ><span class=\"f\">gloss=</span>unbelieving</span><span class=\"lex_og xft\" ><span class=\"f\">lex_og=</span>apistos</span><span class=\"nu xft\" ><span class=\"f\">nu=</span>sg</span><span class=\"ps xft\" ><span class=\"f\">ps=</span></span><span class=\"vt xft\" ><span class=\"f\">vt=</span></span></div></div><div class=\"contnr c0 trm   \" ><div class=\"lbl c0 trm \" ><span class=\"txtu grc\">ἕως </span></div><div class='features'><span class=\"anlex_lem xft\" ><span class=\"f\">anlex_lem=</span>ἕως</span><span class=\"gloss xft\" ><span class=\"f\">gloss=</span>up to</span><span class=\"lex_og xft\" ><span class=\"f\">lex_og=</span>eos</span><span class=\"nu xft\" ><span class=\"f\">nu=</span></span><span class=\"ps xft\" ><span class=\"f\">ps=</span></span><span class=\"vt xft\" ><span class=\"f\">vt=</span></span></div></div><div class=\"contnr c0 trm   \" ><div class=\"lbl c0 trm \" ><span class=\"txtu grc\">πότε </span></div><div class='features'><span class=\"anlex_lem xft\" ><span class=\"f\">anlex_lem=</span>πότε</span><span class=\"gloss xft\" ><span class=\"f\">gloss=</span>when? how long?</span><span class=\"lex_og xft\" ><span class=\"f\">lex_og=</span>pote</span><span class=\"nu xft\" ><span class=\"f\">nu=</span></span><span class=\"ps xft\" ><span class=\"f\">ps=</span></span><span class=\"vt xft\" ><span class=\"f\">vt=</span></span></div></div><div class=\"contnr c0 trm   \" ><div class=\"lbl c0 trm \" ><span class=\"txtu grc\">πρὸς </span></div><div class='features'><span class=\"anlex_lem xft\" ><span class=\"f\">anlex_lem=</span>πρός</span><span class=\"gloss xft\" ><span class=\"f\">gloss=</span>to</span><span class=\"lex_og xft\" ><span class=\"f\">lex_og=</span>pros</span><span class=\"nu xft\" ><span class=\"f\">nu=</span></span><span class=\"ps xft\" ><span class=\"f\">ps=</span></span><span class=\"vt xft\" ><span class=\"f\">vt=</span></span></div></div><div class=\"contnr c0 trm   \" ><div class=\"lbl c0 trm \" ><span class=\"txtu grc\">ὑμᾶς </span></div><div class='features'><span class=\"anlex_lem xft\" ><span class=\"f\">anlex_lem=</span>σύ</span><span class=\"gloss xft\" ><span class=\"f\">gloss=</span>you</span><span class=\"lex_og xft\" ><span class=\"f\">lex_og=</span>su</span><span class=\"nu xft\" ><span class=\"f\">nu=</span>pl</span><span class=\"ps xft\" ><span class=\"f\">ps=</span>p2</span><span class=\"vt xft\" ><span class=\"f\">vt=</span></span></div></div><div class=\"contnr c0 trm   hl\" ><div class=\"lbl c0 trm hl\" ><span class=\"txtu grc\">ἔσομαι; </span></div><div class='features'><span class=\"anlex_lem xft\" ><span class=\"f\">anlex_lem=</span>εἰμί</span><span class=\"gloss xft\" ><span class=\"f\">gloss=</span>to be</span><span class=\"lex_og xft\" ><span class=\"f\">lex_og=</span>eimi</span><span class=\"nu xft\" ><span class=\"f\">nu=</span>sg</span><span class=\"ps xft\" ><span class=\"f\">ps=</span>p1</span><span class=\"vt xft\" ><span class=\"f\">vt=</span>future-I</span></div></div><div class=\"contnr c0 trm   \" ><div class=\"lbl c0 trm \" ><span class=\"txtu grc\">ἕως </span></div><div class='features'><span class=\"anlex_lem xft\" ><span class=\"f\">anlex_lem=</span>ἕως</span><span class=\"gloss xft\" ><span class=\"f\">gloss=</span>up to</span><span class=\"lex_og xft\" ><span class=\"f\">lex_og=</span>eos</span><span class=\"nu xft\" ><span class=\"f\">nu=</span></span><span class=\"ps xft\" ><span class=\"f\">ps=</span></span><span class=\"vt xft\" ><span class=\"f\">vt=</span></span></div></div><div class=\"contnr c0 trm   \" ><div class=\"lbl c0 trm \" ><span class=\"txtu grc\">πότε </span></div><div class='features'><span class=\"anlex_lem xft\" ><span class=\"f\">anlex_lem=</span>πότε</span><span class=\"gloss xft\" ><span class=\"f\">gloss=</span>when? how long?</span><span class=\"lex_og xft\" ><span class=\"f\">lex_og=</span>pote</span><span class=\"nu xft\" ><span class=\"f\">nu=</span></span><span class=\"ps xft\" ><span class=\"f\">ps=</span></span><span class=\"vt xft\" ><span class=\"f\">vt=</span></span></div></div><div class=\"contnr c0 trm   \" ><div class=\"lbl c0 trm \" ><span class=\"txtu grc\">ἀνέξομαι </span></div><div class='features'><span class=\"anlex_lem xft\" ><span class=\"f\">anlex_lem=</span>ἀνέχω</span><span class=\"gloss xft\" ><span class=\"f\">gloss=</span>to put up with</span><span class=\"lex_og xft\" ><span class=\"f\">lex_og=</span>anekho</span><span class=\"nu xft\" ><span class=\"f\">nu=</span>sg</span><span class=\"ps xft\" ><span class=\"f\">ps=</span>p1</span><span class=\"vt xft\" ><span class=\"f\">vt=</span>future-I</span></div></div><div class=\"contnr c0 trm   \" ><div class=\"lbl c0 trm \" ><span class=\"txtu grc\">ὑμῶν; </span></div><div class='features'><span class=\"anlex_lem xft\" ><span class=\"f\">anlex_lem=</span>σύ</span><span class=\"gloss xft\" ><span class=\"f\">gloss=</span>you</span><span class=\"lex_og xft\" ><span class=\"f\">lex_og=</span>su</span><span class=\"nu xft\" ><span class=\"f\">nu=</span>pl</span><span class=\"ps xft\" ><span class=\"f\">ps=</span>p2</span><span class=\"vt xft\" ><span class=\"f\">vt=</span></span></div></div><div class=\"contnr c0 trm   \" ><div class=\"lbl c0 trm \" ><span class=\"txtu grc\">φέρετε </span></div><div class='features'><span class=\"anlex_lem xft\" ><span class=\"f\">anlex_lem=</span>φέρω</span><span class=\"gloss xft\" ><span class=\"f\">gloss=</span>to bring</span><span class=\"lex_og xft\" ><span class=\"f\">lex_og=</span>phero</span><span class=\"nu xft\" ><span class=\"f\">nu=</span>pl</span><span class=\"ps xft\" ><span class=\"f\">ps=</span>p2</span><span class=\"vt xft\" ><span class=\"f\">vt=</span>present</span></div></div><div class=\"contnr c0 trm   \" ><div class=\"lbl c0 trm \" ><span class=\"txtu grc\">αὐτὸν </span></div><div class='features'><span class=\"anlex_lem xft\" ><span class=\"f\">anlex_lem=</span>αὐτός</span><span class=\"gloss xft\" ><span class=\"f\">gloss=</span>he</span><span class=\"lex_og xft\" ><span class=\"f\">lex_og=</span>autos</span><span class=\"nu xft\" ><span class=\"f\">nu=</span>sg</span><span class=\"ps xft\" ><span class=\"f\">ps=</span></span><span class=\"vt xft\" ><span class=\"f\">vt=</span></span></div></div><div class=\"contnr c0 trm   \" ><div class=\"lbl c0 trm \" ><span class=\"txtu grc\">πρός </span></div><div class='features'><span class=\"anlex_lem xft\" ><span class=\"f\">anlex_lem=</span>πρός</span><span class=\"gloss xft\" ><span class=\"f\">gloss=</span>to</span><span class=\"lex_og xft\" ><span class=\"f\">lex_og=</span>pros</span><span class=\"nu xft\" ><span class=\"f\">nu=</span></span><span class=\"ps xft\" ><span class=\"f\">ps=</span></span><span class=\"vt xft\" ><span class=\"f\">vt=</span></span></div></div><div class=\"contnr c0 trm   \" ><div class=\"lbl c0 trm \" ><span class=\"txtu grc\">με. </span></div><div class='features'><span class=\"anlex_lem xft\" ><span class=\"f\">anlex_lem=</span>ἐγώ</span><span class=\"gloss xft\" ><span class=\"f\">gloss=</span>I</span><span class=\"lex_og xft\" ><span class=\"f\">lex_og=</span>ego</span><span class=\"nu xft\" ><span class=\"f\">nu=</span>sg</span><span class=\"ps xft\" ><span class=\"f\">ps=</span>p1</span><span class=\"vt xft\" ><span class=\"f\">vt=</span></span></div></div></div></div></div>"
      ],
      "text/plain": [
       "<IPython.core.display.HTML object>"
      ]
     },
     "metadata": {},
     "output_type": "display_data"
    }
   ],
   "source": [
    "eimi = '''\n",
    "word ps=p1 nu=sg vt=future-I lex_og=eimi\n",
    "'''\n",
    "eimi  = NT.search(eimi)\n",
    "NT.show(eimi, start=1, end=2, condensed=True, extraFeatures={'anlex_lem', 'gloss', 'vt'})"
   ]
  },
  {
   "cell_type": "markdown",
   "metadata": {},
   "source": [
    "Lets look up a variety of morphological features in John 1:1:"
   ]
  },
  {
   "cell_type": "code",
   "execution_count": 10,
   "metadata": {},
   "outputs": [
    {
     "name": "stdout",
     "output_type": "stream",
     "text": [
      "  1.33s 17 results\n"
     ]
    },
    {
     "data": {
      "text/html": [
       "<p><b>verse</b> <i>1</i></p>"
      ],
      "text/plain": [
       "<IPython.core.display.HTML object>"
      ]
     },
     "metadata": {},
     "output_type": "display_data"
    },
    {
     "data": {
      "text/html": [
       "<div class=\"section \">John 1:1</div><div class=\" children\"><div class=\"contnr c3    \" ><div class=\"lbl c3  \" ><span class=\"nd\">verse</span></div><div class='features'><span class=\"verse xft\" ><span class=\"f\">verse=</span>1</span></div><div class=\"children hor wrap \"><div class=\"contnr c0 trm   hl\" ><div class=\"lbl c0 trm hl\" ><span class=\"txtu grc\">Ἐν </span></div><div class='features'><span class=\"anlex_lem xft\" ><span class=\"f\">anlex_lem=</span>ἐν</span><span class=\"case xft\" ><span class=\"f\">case=</span></span><span class=\"gn xft\" ><span class=\"f\">gn=</span></span><span class=\"mood xft\" ><span class=\"f\">mood=</span></span><span class=\"nountype xft\" ><span class=\"f\">nountype=</span></span><span class=\"nu xft\" ><span class=\"f\">nu=</span></span><span class=\"ps xft\" ><span class=\"f\">ps=</span></span><span class=\"sp xft\" ><span class=\"f\">sp=</span>preposition</span><span class=\"voice xft\" ><span class=\"f\">voice=</span></span><span class=\"vt xft\" ><span class=\"f\">vt=</span></span></div></div><div class=\"contnr c0 trm   hl\" ><div class=\"lbl c0 trm hl\" ><span class=\"txtu grc\">ἀρχῇ </span></div><div class='features'><span class=\"anlex_lem xft\" ><span class=\"f\">anlex_lem=</span>ἀρχή</span><span class=\"case xft\" ><span class=\"f\">case=</span>dative</span><span class=\"gn xft\" ><span class=\"f\">gn=</span>f</span><span class=\"mood xft\" ><span class=\"f\">mood=</span></span><span class=\"nountype xft\" ><span class=\"f\">nountype=</span></span><span class=\"nu xft\" ><span class=\"f\">nu=</span>sg</span><span class=\"ps xft\" ><span class=\"f\">ps=</span></span><span class=\"sp xft\" ><span class=\"f\">sp=</span>noun</span><span class=\"voice xft\" ><span class=\"f\">voice=</span></span><span class=\"vt xft\" ><span class=\"f\">vt=</span></span></div></div><div class=\"contnr c0 trm   hl\" ><div class=\"lbl c0 trm hl\" ><span class=\"txtu grc\">ἦν </span></div><div class='features'><span class=\"anlex_lem xft\" ><span class=\"f\">anlex_lem=</span>εἰμί</span><span class=\"case xft\" ><span class=\"f\">case=</span></span><span class=\"gn xft\" ><span class=\"f\">gn=</span></span><span class=\"mood xft\" ><span class=\"f\">mood=</span>indicative</span><span class=\"nountype xft\" ><span class=\"f\">nountype=</span></span><span class=\"nu xft\" ><span class=\"f\">nu=</span>sg</span><span class=\"ps xft\" ><span class=\"f\">ps=</span>p3</span><span class=\"sp xft\" ><span class=\"f\">sp=</span>verb</span><span class=\"voice xft\" ><span class=\"f\">voice=</span>active</span><span class=\"vt xft\" ><span class=\"f\">vt=</span>imperfect</span></div></div><div class=\"contnr c0 trm   hl\" ><div class=\"lbl c0 trm hl\" ><span class=\"txtu grc\">ὁ </span></div><div class='features'><span class=\"anlex_lem xft\" ><span class=\"f\">anlex_lem=</span>ὁ</span><span class=\"case xft\" ><span class=\"f\">case=</span>nominative</span><span class=\"gn xft\" ><span class=\"f\">gn=</span>m</span><span class=\"mood xft\" ><span class=\"f\">mood=</span></span><span class=\"nountype xft\" ><span class=\"f\">nountype=</span></span><span class=\"nu xft\" ><span class=\"f\">nu=</span>sg</span><span class=\"ps xft\" ><span class=\"f\">ps=</span></span><span class=\"sp xft\" ><span class=\"f\">sp=</span>article</span><span class=\"voice xft\" ><span class=\"f\">voice=</span></span><span class=\"vt xft\" ><span class=\"f\">vt=</span></span></div></div><div class=\"contnr c0 trm   hl\" ><div class=\"lbl c0 trm hl\" ><span class=\"txtu grc\">λόγος, </span></div><div class='features'><span class=\"anlex_lem xft\" ><span class=\"f\">anlex_lem=</span>λόγος</span><span class=\"case xft\" ><span class=\"f\">case=</span>nominative</span><span class=\"gn xft\" ><span class=\"f\">gn=</span>m</span><span class=\"mood xft\" ><span class=\"f\">mood=</span></span><span class=\"nountype xft\" ><span class=\"f\">nountype=</span></span><span class=\"nu xft\" ><span class=\"f\">nu=</span>sg</span><span class=\"ps xft\" ><span class=\"f\">ps=</span></span><span class=\"sp xft\" ><span class=\"f\">sp=</span>noun</span><span class=\"voice xft\" ><span class=\"f\">voice=</span></span><span class=\"vt xft\" ><span class=\"f\">vt=</span></span></div></div><div class=\"contnr c0 trm   hl\" ><div class=\"lbl c0 trm hl\" ><span class=\"txtu grc\">καὶ </span></div><div class='features'><span class=\"anlex_lem xft\" ><span class=\"f\">anlex_lem=</span>καί</span><span class=\"case xft\" ><span class=\"f\">case=</span></span><span class=\"gn xft\" ><span class=\"f\">gn=</span></span><span class=\"mood xft\" ><span class=\"f\">mood=</span></span><span class=\"nountype xft\" ><span class=\"f\">nountype=</span></span><span class=\"nu xft\" ><span class=\"f\">nu=</span></span><span class=\"ps xft\" ><span class=\"f\">ps=</span></span><span class=\"sp xft\" ><span class=\"f\">sp=</span>pronoun</span><span class=\"voice xft\" ><span class=\"f\">voice=</span></span><span class=\"vt xft\" ><span class=\"f\">vt=</span></span></div></div><div class=\"contnr c0 trm   hl\" ><div class=\"lbl c0 trm hl\" ><span class=\"txtu grc\">ὁ </span></div><div class='features'><span class=\"anlex_lem xft\" ><span class=\"f\">anlex_lem=</span>ὁ</span><span class=\"case xft\" ><span class=\"f\">case=</span>nominative</span><span class=\"gn xft\" ><span class=\"f\">gn=</span>m</span><span class=\"mood xft\" ><span class=\"f\">mood=</span></span><span class=\"nountype xft\" ><span class=\"f\">nountype=</span></span><span class=\"nu xft\" ><span class=\"f\">nu=</span>sg</span><span class=\"ps xft\" ><span class=\"f\">ps=</span></span><span class=\"sp xft\" ><span class=\"f\">sp=</span>article</span><span class=\"voice xft\" ><span class=\"f\">voice=</span></span><span class=\"vt xft\" ><span class=\"f\">vt=</span></span></div></div><div class=\"contnr c0 trm   hl\" ><div class=\"lbl c0 trm hl\" ><span class=\"txtu grc\">λόγος </span></div><div class='features'><span class=\"anlex_lem xft\" ><span class=\"f\">anlex_lem=</span>λόγος</span><span class=\"case xft\" ><span class=\"f\">case=</span>nominative</span><span class=\"gn xft\" ><span class=\"f\">gn=</span>m</span><span class=\"mood xft\" ><span class=\"f\">mood=</span></span><span class=\"nountype xft\" ><span class=\"f\">nountype=</span></span><span class=\"nu xft\" ><span class=\"f\">nu=</span>sg</span><span class=\"ps xft\" ><span class=\"f\">ps=</span></span><span class=\"sp xft\" ><span class=\"f\">sp=</span>noun</span><span class=\"voice xft\" ><span class=\"f\">voice=</span></span><span class=\"vt xft\" ><span class=\"f\">vt=</span></span></div></div><div class=\"contnr c0 trm   hl\" ><div class=\"lbl c0 trm hl\" ><span class=\"txtu grc\">ἦν </span></div><div class='features'><span class=\"anlex_lem xft\" ><span class=\"f\">anlex_lem=</span>εἰμί</span><span class=\"case xft\" ><span class=\"f\">case=</span></span><span class=\"gn xft\" ><span class=\"f\">gn=</span></span><span class=\"mood xft\" ><span class=\"f\">mood=</span>indicative</span><span class=\"nountype xft\" ><span class=\"f\">nountype=</span></span><span class=\"nu xft\" ><span class=\"f\">nu=</span>sg</span><span class=\"ps xft\" ><span class=\"f\">ps=</span>p3</span><span class=\"sp xft\" ><span class=\"f\">sp=</span>verb</span><span class=\"voice xft\" ><span class=\"f\">voice=</span>active</span><span class=\"vt xft\" ><span class=\"f\">vt=</span>imperfect</span></div></div><div class=\"contnr c0 trm   hl\" ><div class=\"lbl c0 trm hl\" ><span class=\"txtu grc\">πρὸς </span></div><div class='features'><span class=\"anlex_lem xft\" ><span class=\"f\">anlex_lem=</span>πρός</span><span class=\"case xft\" ><span class=\"f\">case=</span></span><span class=\"gn xft\" ><span class=\"f\">gn=</span></span><span class=\"mood xft\" ><span class=\"f\">mood=</span></span><span class=\"nountype xft\" ><span class=\"f\">nountype=</span></span><span class=\"nu xft\" ><span class=\"f\">nu=</span></span><span class=\"ps xft\" ><span class=\"f\">ps=</span></span><span class=\"sp xft\" ><span class=\"f\">sp=</span>preposition</span><span class=\"voice xft\" ><span class=\"f\">voice=</span></span><span class=\"vt xft\" ><span class=\"f\">vt=</span></span></div></div><div class=\"contnr c0 trm   hl\" ><div class=\"lbl c0 trm hl\" ><span class=\"txtu grc\">τὸν </span></div><div class='features'><span class=\"anlex_lem xft\" ><span class=\"f\">anlex_lem=</span>ὁ</span><span class=\"case xft\" ><span class=\"f\">case=</span>accusative</span><span class=\"gn xft\" ><span class=\"f\">gn=</span>m</span><span class=\"mood xft\" ><span class=\"f\">mood=</span></span><span class=\"nountype xft\" ><span class=\"f\">nountype=</span></span><span class=\"nu xft\" ><span class=\"f\">nu=</span>sg</span><span class=\"ps xft\" ><span class=\"f\">ps=</span></span><span class=\"sp xft\" ><span class=\"f\">sp=</span>article</span><span class=\"voice xft\" ><span class=\"f\">voice=</span></span><span class=\"vt xft\" ><span class=\"f\">vt=</span></span></div></div><div class=\"contnr c0 trm   hl\" ><div class=\"lbl c0 trm hl\" ><span class=\"txtu grc\">θεόν, </span></div><div class='features'><span class=\"anlex_lem xft\" ><span class=\"f\">anlex_lem=</span>θεός</span><span class=\"case xft\" ><span class=\"f\">case=</span>accusative</span><span class=\"gn xft\" ><span class=\"f\">gn=</span>m</span><span class=\"mood xft\" ><span class=\"f\">mood=</span></span><span class=\"nountype xft\" ><span class=\"f\">nountype=</span></span><span class=\"nu xft\" ><span class=\"f\">nu=</span>sg</span><span class=\"ps xft\" ><span class=\"f\">ps=</span></span><span class=\"sp xft\" ><span class=\"f\">sp=</span>noun</span><span class=\"voice xft\" ><span class=\"f\">voice=</span></span><span class=\"vt xft\" ><span class=\"f\">vt=</span></span></div></div><div class=\"contnr c0 trm   hl\" ><div class=\"lbl c0 trm hl\" ><span class=\"txtu grc\">καὶ </span></div><div class='features'><span class=\"anlex_lem xft\" ><span class=\"f\">anlex_lem=</span>καί</span><span class=\"case xft\" ><span class=\"f\">case=</span></span><span class=\"gn xft\" ><span class=\"f\">gn=</span></span><span class=\"mood xft\" ><span class=\"f\">mood=</span></span><span class=\"nountype xft\" ><span class=\"f\">nountype=</span></span><span class=\"nu xft\" ><span class=\"f\">nu=</span></span><span class=\"ps xft\" ><span class=\"f\">ps=</span></span><span class=\"sp xft\" ><span class=\"f\">sp=</span>pronoun</span><span class=\"voice xft\" ><span class=\"f\">voice=</span></span><span class=\"vt xft\" ><span class=\"f\">vt=</span></span></div></div><div class=\"contnr c0 trm   hl\" ><div class=\"lbl c0 trm hl\" ><span class=\"txtu grc\">θεὸς </span></div><div class='features'><span class=\"anlex_lem xft\" ><span class=\"f\">anlex_lem=</span>θεός</span><span class=\"case xft\" ><span class=\"f\">case=</span>nominative</span><span class=\"gn xft\" ><span class=\"f\">gn=</span>m</span><span class=\"mood xft\" ><span class=\"f\">mood=</span></span><span class=\"nountype xft\" ><span class=\"f\">nountype=</span></span><span class=\"nu xft\" ><span class=\"f\">nu=</span>sg</span><span class=\"ps xft\" ><span class=\"f\">ps=</span></span><span class=\"sp xft\" ><span class=\"f\">sp=</span>noun</span><span class=\"voice xft\" ><span class=\"f\">voice=</span></span><span class=\"vt xft\" ><span class=\"f\">vt=</span></span></div></div><div class=\"contnr c0 trm   hl\" ><div class=\"lbl c0 trm hl\" ><span class=\"txtu grc\">ἦν </span></div><div class='features'><span class=\"anlex_lem xft\" ><span class=\"f\">anlex_lem=</span>εἰμί</span><span class=\"case xft\" ><span class=\"f\">case=</span></span><span class=\"gn xft\" ><span class=\"f\">gn=</span></span><span class=\"mood xft\" ><span class=\"f\">mood=</span>indicative</span><span class=\"nountype xft\" ><span class=\"f\">nountype=</span></span><span class=\"nu xft\" ><span class=\"f\">nu=</span>sg</span><span class=\"ps xft\" ><span class=\"f\">ps=</span>p3</span><span class=\"sp xft\" ><span class=\"f\">sp=</span>verb</span><span class=\"voice xft\" ><span class=\"f\">voice=</span>active</span><span class=\"vt xft\" ><span class=\"f\">vt=</span>imperfect</span></div></div><div class=\"contnr c0 trm   hl\" ><div class=\"lbl c0 trm hl\" ><span class=\"txtu grc\">ὁ </span></div><div class='features'><span class=\"anlex_lem xft\" ><span class=\"f\">anlex_lem=</span>ὁ</span><span class=\"case xft\" ><span class=\"f\">case=</span>nominative</span><span class=\"gn xft\" ><span class=\"f\">gn=</span>m</span><span class=\"mood xft\" ><span class=\"f\">mood=</span></span><span class=\"nountype xft\" ><span class=\"f\">nountype=</span></span><span class=\"nu xft\" ><span class=\"f\">nu=</span>sg</span><span class=\"ps xft\" ><span class=\"f\">ps=</span></span><span class=\"sp xft\" ><span class=\"f\">sp=</span>article</span><span class=\"voice xft\" ><span class=\"f\">voice=</span></span><span class=\"vt xft\" ><span class=\"f\">vt=</span></span></div></div><div class=\"contnr c0 trm   hl\" ><div class=\"lbl c0 trm hl\" ><span class=\"txtu grc\">λόγος. </span></div><div class='features'><span class=\"anlex_lem xft\" ><span class=\"f\">anlex_lem=</span>λόγος</span><span class=\"case xft\" ><span class=\"f\">case=</span>nominative</span><span class=\"gn xft\" ><span class=\"f\">gn=</span>m</span><span class=\"mood xft\" ><span class=\"f\">mood=</span></span><span class=\"nountype xft\" ><span class=\"f\">nountype=</span></span><span class=\"nu xft\" ><span class=\"f\">nu=</span>sg</span><span class=\"ps xft\" ><span class=\"f\">ps=</span></span><span class=\"sp xft\" ><span class=\"f\">sp=</span>noun</span><span class=\"voice xft\" ><span class=\"f\">voice=</span></span><span class=\"vt xft\" ><span class=\"f\">vt=</span></span></div></div></div></div></div>"
      ],
      "text/plain": [
       "<IPython.core.display.HTML object>"
      ]
     },
     "metadata": {},
     "output_type": "display_data"
    }
   ],
   "source": [
    "# Searching for \"Abraham\" in the NT\n",
    "ShowMorph = '''\n",
    "book book=John\n",
    " chapter chapter=1\n",
    "  verse verse=1\n",
    "   word case* gn* mood* nountype* nu* ps* sp* voice* vt* anlex_lem*\n",
    "'''\n",
    "ShowMorph  = NT.search(ShowMorph)\n",
    "NT.show(ShowMorph, start=1, end=7, condensed=True)"
   ]
  },
  {
   "cell_type": "markdown",
   "metadata": {},
   "source": [
    "## Word-Frequency Searches\n",
    "Let us see how often each word in Matthew 1:1-2 appears in the entire NT. For this we use in the `show` function the `extraFeatures` option. We want to show both the Greek lexemes (**anlex_lem**) as well as the frequecy of distribution (**freq_lex_og**) by writing:\n",
    "```python\n",
    "extraFeatures={'anlex_lem', 'freq_lex_og'}\n",
    "```"
   ]
  },
  {
   "cell_type": "code",
   "execution_count": 11,
   "metadata": {
    "scrolled": true
   },
   "outputs": [
    {
     "name": "stdout",
     "output_type": "stream",
     "text": [
      "  0.11s 26 results\n"
     ]
    },
    {
     "data": {
      "text/html": [
       "<p><b>verse</b> <i>1</i></p>"
      ],
      "text/plain": [
       "<IPython.core.display.HTML object>"
      ]
     },
     "metadata": {},
     "output_type": "display_data"
    },
    {
     "data": {
      "text/html": [
       "<div class=\"section \">Matthew 1:1</div><div class=\" children\"><div class=\"contnr c3    \" ><div class=\"lbl c3  \" ><span class=\"nd\">verse</span></div><div class='features'><span class=\"freq_lex_og xft\" ><span class=\"f\">freq_lex_og=</span>3</span><span class=\"verse xft\" ><span class=\"f\">verse=</span>1</span></div><div class=\"children hor wrap \"><div class=\"contnr c0 trm   hl\" ><div class=\"lbl c0 trm hl\" ><span class=\"txtu grc\">Βίβλος </span></div><div class='features'><span class=\"anlex_lem xft\" ><span class=\"f\">anlex_lem=</span>βίβλος</span><span class=\"freq_lex_og xft\" ><span class=\"f\">freq_lex_og=</span>10</span></div></div><div class=\"contnr c0 trm   hl\" ><div class=\"lbl c0 trm hl\" ><span class=\"txtu grc\">γενέσεως </span></div><div class='features'><span class=\"anlex_lem xft\" ><span class=\"f\">anlex_lem=</span>γένεσις</span><span class=\"freq_lex_og xft\" ><span class=\"f\">freq_lex_og=</span>5</span></div></div><div class=\"contnr c0 trm   hl\" ><div class=\"lbl c0 trm hl\" ><span class=\"txtu grc\">Ἰησοῦ </span></div><div class='features'><span class=\"anlex_lem xft\" ><span class=\"f\">anlex_lem=</span>Ἰησοῦς</span><span class=\"freq_lex_og xft\" ><span class=\"f\">freq_lex_og=</span>908</span></div></div><div class=\"contnr c0 trm   hl\" ><div class=\"lbl c0 trm hl\" ><span class=\"txtu grc\">Χριστοῦ </span></div><div class='features'><span class=\"anlex_lem xft\" ><span class=\"f\">anlex_lem=</span>Χριστός</span><span class=\"freq_lex_og xft\" ><span class=\"f\">freq_lex_og=</span>530</span></div></div><div class=\"contnr c0 trm   hl\" ><div class=\"lbl c0 trm hl\" ><span class=\"txtu grc\">υἱοῦ </span></div><div class='features'><span class=\"anlex_lem xft\" ><span class=\"f\">anlex_lem=</span>υἱός</span><span class=\"freq_lex_og xft\" ><span class=\"f\">freq_lex_og=</span>376</span></div></div><div class=\"contnr c0 trm   hl\" ><div class=\"lbl c0 trm hl\" ><span class=\"txtu grc\">Δαυεὶδ </span></div><div class='features'><span class=\"anlex_lem xft\" ><span class=\"f\">anlex_lem=</span>Δαυίδ</span><span class=\"freq_lex_og xft\" ><span class=\"f\">freq_lex_og=</span>59</span></div></div><div class=\"contnr c0 trm   hl\" ><div class=\"lbl c0 trm hl\" ><span class=\"txtu grc\">υἱοῦ </span></div><div class='features'><span class=\"anlex_lem xft\" ><span class=\"f\">anlex_lem=</span>υἱός</span><span class=\"freq_lex_og xft\" ><span class=\"f\">freq_lex_og=</span>376</span></div></div><div class=\"contnr c0 trm   hl\" ><div class=\"lbl c0 trm hl\" ><span class=\"txtu grc\">Ἀβραάμ. </span></div><div class='features'><span class=\"anlex_lem xft\" ><span class=\"f\">anlex_lem=</span>Ἀβραάμ</span><span class=\"freq_lex_og xft\" ><span class=\"f\">freq_lex_og=</span>73</span></div></div></div></div></div>"
      ],
      "text/plain": [
       "<IPython.core.display.HTML object>"
      ]
     },
     "metadata": {},
     "output_type": "display_data"
    }
   ],
   "source": [
    "# Checking Frequency Counts\n",
    "freqcount = '''\n",
    "book book=Matthew\n",
    "    chapter chapter=1\n",
    "        verse verse=1|2\n",
    "            word\n",
    "'''\n",
    "freqcount  = NT.search(freqcount)\n",
    "NT.show(freqcount, start=1, end=1, extraFeatures={'anlex_lem', 'freq_lex_og'}, condensed=True)"
   ]
  },
  {
   "cell_type": "markdown",
   "metadata": {},
   "source": [
    "Do you see the difference between `condensed=False` and `condensed=True`?"
   ]
  },
  {
   "cell_type": "markdown",
   "metadata": {},
   "source": [
    "Imagine your Greek class knows all the Greek vocab down to a frequency of 10. Next week you want to translate with them John 3. Thus, they have to prepare by learning all words that appear with a frequency of <10. You want to create a vocab list for them. We have to start with identifying the words first by using the feature `freq_lex_og`:"
   ]
  },
  {
   "cell_type": "code",
   "execution_count": 12,
   "metadata": {},
   "outputs": [
    {
     "name": "stdout",
     "output_type": "stream",
     "text": [
      "  0.26s 15 results\n"
     ]
    },
    {
     "data": {
      "text/html": [
       "<table><tr class=\"tf ltr\"><th class=\"tf ltr\">n</th><th class=\"tf ltr\">p</th><th class=\"tf ltr\">book</th><th class=\"tf\">chapter</th><th class=\"tf\">word</th></tr>\n",
       "<tr class=\"tf ltr\"><td class=\"tf ltr\">1</td><td class=\"tf ltr\"><span class=\"section ltr\">John 3:1</span></td><td class=\"tf ltr\"><span class=\"\"><span class=\"txtu grc \"><span class=\"section\">John</span></span></span></td><td class=\"tf ltr\"><span class=\"\"><span class=\"txtu grc \"><span class=\"section\">John 3</span></span></span></td><td class=\"tf ltr\"><span class=\"\"><span class=\"plain   hl\" ><span class=\"txtu grc\">Νικόδημος </span></span></span></td></tr>\n",
       "<tr class=\"tf ltr\"><td class=\"tf ltr\">2</td><td class=\"tf ltr\"><span class=\"section ltr\">John 3:4</span></td><td class=\"tf ltr\"><span class=\"\"><span class=\"txtu grc \"><span class=\"section\">John</span></span></span></td><td class=\"tf ltr\"><span class=\"\"><span class=\"txtu grc \"><span class=\"section\">John 3</span></span></span></td><td class=\"tf ltr\"><span class=\"\"><span class=\"plain   hl\" ><span class=\"txtu grc\">Νικόδημος· </span></span></span></td></tr>\n",
       "<tr class=\"tf ltr\"><td class=\"tf ltr\">3</td><td class=\"tf ltr\"><span class=\"section ltr\">John 3:4</span></td><td class=\"tf ltr\"><span class=\"\"><span class=\"txtu grc \"><span class=\"section\">John</span></span></span></td><td class=\"tf ltr\"><span class=\"\"><span class=\"txtu grc \"><span class=\"section\">John 3</span></span></span></td><td class=\"tf ltr\"><span class=\"\"><span class=\"plain   hl\" ><span class=\"txtu grc\">γέρων </span></span></span></td></tr>\n",
       "<tr class=\"tf ltr\"><td class=\"tf ltr\">4</td><td class=\"tf ltr\"><span class=\"section ltr\">John 3:8</span></td><td class=\"tf ltr\"><span class=\"\"><span class=\"txtu grc \"><span class=\"section\">John</span></span></span></td><td class=\"tf ltr\"><span class=\"\"><span class=\"txtu grc \"><span class=\"section\">John 3</span></span></span></td><td class=\"tf ltr\"><span class=\"\"><span class=\"plain   hl\" ><span class=\"txtu grc\">πνεῖ, </span></span></span></td></tr>\n",
       "<tr class=\"tf ltr\"><td class=\"tf ltr\">5</td><td class=\"tf ltr\"><span class=\"section ltr\">John 3:9</span></td><td class=\"tf ltr\"><span class=\"\"><span class=\"txtu grc \"><span class=\"section\">John</span></span></span></td><td class=\"tf ltr\"><span class=\"\"><span class=\"txtu grc \"><span class=\"section\">John 3</span></span></span></td><td class=\"tf ltr\"><span class=\"\"><span class=\"plain   hl\" ><span class=\"txtu grc\">Νικόδημος </span></span></span></td></tr>\n",
       "<tr class=\"tf ltr\"><td class=\"tf ltr\">6</td><td class=\"tf ltr\"><span class=\"section ltr\">John 3:12</span></td><td class=\"tf ltr\"><span class=\"\"><span class=\"txtu grc \"><span class=\"section\">John</span></span></span></td><td class=\"tf ltr\"><span class=\"\"><span class=\"txtu grc \"><span class=\"section\">John 3</span></span></span></td><td class=\"tf ltr\"><span class=\"\"><span class=\"plain   hl\" ><span class=\"txtu grc\">ἐπίγεια </span></span></span></td></tr>\n",
       "<tr class=\"tf ltr\"><td class=\"tf ltr\">7</td><td class=\"tf ltr\"><span class=\"section ltr\">John 3:16</span></td><td class=\"tf ltr\"><span class=\"\"><span class=\"txtu grc \"><span class=\"section\">John</span></span></span></td><td class=\"tf ltr\"><span class=\"\"><span class=\"txtu grc \"><span class=\"section\">John 3</span></span></span></td><td class=\"tf ltr\"><span class=\"\"><span class=\"plain   hl\" ><span class=\"txtu grc\">μονογενῆ </span></span></span></td></tr>\n",
       "<tr class=\"tf ltr\"><td class=\"tf ltr\">8</td><td class=\"tf ltr\"><span class=\"section ltr\">John 3:18</span></td><td class=\"tf ltr\"><span class=\"\"><span class=\"txtu grc \"><span class=\"section\">John</span></span></span></td><td class=\"tf ltr\"><span class=\"\"><span class=\"txtu grc \"><span class=\"section\">John 3</span></span></span></td><td class=\"tf ltr\"><span class=\"\"><span class=\"plain   hl\" ><span class=\"txtu grc\">μονογενοῦς </span></span></span></td></tr>\n",
       "<tr class=\"tf ltr\"><td class=\"tf ltr\">9</td><td class=\"tf ltr\"><span class=\"section ltr\">John 3:20</span></td><td class=\"tf ltr\"><span class=\"\"><span class=\"txtu grc \"><span class=\"section\">John</span></span></span></td><td class=\"tf ltr\"><span class=\"\"><span class=\"txtu grc \"><span class=\"section\">John 3</span></span></span></td><td class=\"tf ltr\"><span class=\"\"><span class=\"plain   hl\" ><span class=\"txtu grc\">φαῦλα </span></span></span></td></tr>\n",
       "<tr class=\"tf ltr\"><td class=\"tf ltr\">10</td><td class=\"tf ltr\"><span class=\"section ltr\">John 3:23</span></td><td class=\"tf ltr\"><span class=\"\"><span class=\"txtu grc \"><span class=\"section\">John</span></span></span></td><td class=\"tf ltr\"><span class=\"\"><span class=\"txtu grc \"><span class=\"section\">John 3</span></span></span></td><td class=\"tf ltr\"><span class=\"\"><span class=\"plain   hl\" ><span class=\"txtu grc\">Αἰνὼν </span></span></span></td></tr>\n",
       "<tr class=\"tf ltr\"><td class=\"tf ltr\">11</td><td class=\"tf ltr\"><span class=\"section ltr\">John 3:23</span></td><td class=\"tf ltr\"><span class=\"\"><span class=\"txtu grc \"><span class=\"section\">John</span></span></span></td><td class=\"tf ltr\"><span class=\"\"><span class=\"txtu grc \"><span class=\"section\">John 3</span></span></span></td><td class=\"tf ltr\"><span class=\"\"><span class=\"plain   hl\" ><span class=\"txtu grc\">Σαλείμ, </span></span></span></td></tr>\n",
       "<tr class=\"tf ltr\"><td class=\"tf ltr\">12</td><td class=\"tf ltr\"><span class=\"section ltr\">John 3:25</span></td><td class=\"tf ltr\"><span class=\"\"><span class=\"txtu grc \"><span class=\"section\">John</span></span></span></td><td class=\"tf ltr\"><span class=\"\"><span class=\"txtu grc \"><span class=\"section\">John 3</span></span></span></td><td class=\"tf ltr\"><span class=\"\"><span class=\"plain   hl\" ><span class=\"txtu grc\">ζήτησις </span></span></span></td></tr>\n",
       "<tr class=\"tf ltr\"><td class=\"tf ltr\">13</td><td class=\"tf ltr\"><span class=\"section ltr\">John 3:25</span></td><td class=\"tf ltr\"><span class=\"\"><span class=\"txtu grc \"><span class=\"section\">John</span></span></span></td><td class=\"tf ltr\"><span class=\"\"><span class=\"txtu grc \"><span class=\"section\">John 3</span></span></span></td><td class=\"tf ltr\"><span class=\"\"><span class=\"plain   hl\" ><span class=\"txtu grc\">καθαρισμοῦ. </span></span></span></td></tr>\n",
       "<tr class=\"tf ltr\"><td class=\"tf ltr\">14</td><td class=\"tf ltr\"><span class=\"section ltr\">John 3:29</span></td><td class=\"tf ltr\"><span class=\"\"><span class=\"txtu grc \"><span class=\"section\">John</span></span></span></td><td class=\"tf ltr\"><span class=\"\"><span class=\"txtu grc \"><span class=\"section\">John 3</span></span></span></td><td class=\"tf ltr\"><span class=\"\"><span class=\"plain   hl\" ><span class=\"txtu grc\">νύμφην </span></span></span></td></tr>\n",
       "<tr class=\"tf ltr\"><td class=\"tf ltr\">15</td><td class=\"tf ltr\"><span class=\"section ltr\">John 3:30</span></td><td class=\"tf ltr\"><span class=\"\"><span class=\"txtu grc \"><span class=\"section\">John</span></span></span></td><td class=\"tf ltr\"><span class=\"\"><span class=\"txtu grc \"><span class=\"section\">John 3</span></span></span></td><td class=\"tf ltr\"><span class=\"\"><span class=\"plain   hl\" ><span class=\"txtu grc\">ἐλαττοῦσθαι. </span></span></span></td></tr></table>"
      ],
      "text/plain": [
       "<IPython.core.display.HTML object>"
      ]
     },
     "metadata": {},
     "output_type": "display_data"
    }
   ],
   "source": [
    "# Searching for all words that appear leass than 10 times in John 3\n",
    "NTfreq = '''\n",
    "book book=John\n",
    "    chapter chapter=3\n",
    "        word freq_lex_og<10 gloss* anlex_lem* lex_og*\n",
    "\n",
    "'''\n",
    "NTfreq  = NT.search(NTfreq)\n",
    "NT.table(NTfreq, start=1, end=15, extraFeatures={'anlex_lem','freq_lex', 'freq_lex_og', 'freq_lex_og', 'gloss'}, condensed=False)"
   ]
  },
  {
   "cell_type": "markdown",
   "metadata": {},
   "source": [
    "There is a total of 15 words in John 3 that appear less frequent than 10x. In order to produce a Vocab List we have to export our search results. How to do this, we will learn in one of our next notebooks... ;-)"
   ]
  },
  {
   "cell_type": "markdown",
   "metadata": {},
   "source": [
    "# Query-result-export as a preparation for Data Mining\n",
    "We have to export our query results into TSV files to that we can do some further data analysis. The fille paths will have to be written differently, depending on whether you are working in a Windows or MacOS environment. \n",
    "\n",
    "In a **Windows** environment your patch would look something like this:\n",
    "```python\n",
    "D:/OneDrive/1200_AUS-research/Fabric-TEXT\n",
    "```\n",
    "\n",
    "A TF export command could look like this:\n",
    "```python\n",
    "BHS.export(BHSAbrahamSearch, toDir='D:/OneDrive/1200_AUS-research/Fabric-TEXT', toFile='BHSAbrahamSearch.tsv')\n",
    "```\n",
    "\n",
    "In a **MacOS** environment your path would look something like this:\n",
    "```python\n",
    "/Users/glanz/OneDrive/1200_AUS-research/Fabric-TEXT\n",
    "```\n",
    "\n",
    "A TF export command could look like this:\n",
    "```python\n",
    "BHS.export(BHSAbrahamSearch, toDir='/Users/glanz/OneDrive/1200_AUS-research/Fabric-TEXT', toFile='BHSAbrahamSearch.tsv')\n",
    "```"
   ]
  },
  {
   "cell_type": "markdown",
   "metadata": {},
   "source": [
    "## Query Export\n",
    "Lets export our query results of our Abraham queries for both OT and NT:"
   ]
  },
  {
   "cell_type": "code",
   "execution_count": 13,
   "metadata": {},
   "outputs": [],
   "source": [
    "#Command for Windows environment:\n",
    "BHS.export(BHSAbrahamSearch, toDir='D:/OneDrive/1200_AUS-research/Fabric-TEXT', toFile='BHSAbrahamSearch.tsv')"
   ]
  },
  {
   "cell_type": "code",
   "execution_count": 14,
   "metadata": {},
   "outputs": [],
   "source": [
    "#Command for MacOS environment:\n",
    "#BHS.export(BHSAbrahamSearch, toDir='/Users/glanz/OneDrive/1200_AUS-research/Fabric-TEXT', toFile='BHSAbrahamSearch.tsv')"
   ]
  },
  {
   "cell_type": "code",
   "execution_count": 15,
   "metadata": {},
   "outputs": [],
   "source": [
    "#Command for Windows environment:\n",
    "NT.export(NTAbrahamSearchLex, toDir='D:/OneDrive/1200_AUS-research/Fabric-TEXT', toFile='NTAbrahamSearchLex.tsv')"
   ]
  },
  {
   "cell_type": "code",
   "execution_count": 16,
   "metadata": {},
   "outputs": [],
   "source": [
    "#Command for Windows environment:\n",
    "NT.export(eutheos, toDir='D:/OneDrive/1200_AUS-research/Fabric-TEXT', toFile='eutheos.tsv')"
   ]
  },
  {
   "cell_type": "code",
   "execution_count": 17,
   "metadata": {},
   "outputs": [],
   "source": [
    "#Command for MacOS environment:\n",
    "#NT.export(NTAbrahamSearch, toDir='/Users/glanz/OneDrive/1200_AUS-research/Fabric-TEXT', toFile='NTAbrahamSearch.tsv')"
   ]
  },
  {
   "cell_type": "markdown",
   "metadata": {},
   "source": [
    "## Loading Data Analysis Tools\n",
    "Lets now read the TSV files and do some further analysis of them. To enable data analysis functions we need to load some further python modules:"
   ]
  },
  {
   "cell_type": "code",
   "execution_count": 18,
   "metadata": {},
   "outputs": [],
   "source": [
    "import sys, os, collections\n",
    "import pandas as pd\n",
    "import numpy as np\n",
    "import seaborn as sns\n",
    "import matplotlib.pyplot as plt; plt.rcdefaults()\n",
    "from matplotlib.pyplot import figure\n",
    "from collections import Counter"
   ]
  },
  {
   "cell_type": "markdown",
   "metadata": {},
   "source": [
    "## Creating Dataframe of exported Query Results"
   ]
  },
  {
   "cell_type": "markdown",
   "metadata": {},
   "source": [
    "Now we can load our TSV files as pandas dataframes"
   ]
  },
  {
   "cell_type": "code",
   "execution_count": 19,
   "metadata": {},
   "outputs": [
    {
     "data": {
      "text/html": [
       "<div>\n",
       "<style scoped>\n",
       "    .dataframe tbody tr th:only-of-type {\n",
       "        vertical-align: middle;\n",
       "    }\n",
       "\n",
       "    .dataframe tbody tr th {\n",
       "        vertical-align: top;\n",
       "    }\n",
       "\n",
       "    .dataframe thead th {\n",
       "        text-align: right;\n",
       "    }\n",
       "</style>\n",
       "<table border=\"1\" class=\"dataframe\">\n",
       "  <thead>\n",
       "    <tr style=\"text-align: right;\">\n",
       "      <th></th>\n",
       "      <th>R</th>\n",
       "      <th>S1</th>\n",
       "      <th>S2</th>\n",
       "      <th>S3</th>\n",
       "      <th>NODE1</th>\n",
       "      <th>TYPE1</th>\n",
       "      <th>TEXT1</th>\n",
       "      <th>lex1</th>\n",
       "    </tr>\n",
       "  </thead>\n",
       "  <tbody>\n",
       "    <tr>\n",
       "      <th>0</th>\n",
       "      <td>1</td>\n",
       "      <td>Genesis</td>\n",
       "      <td>11</td>\n",
       "      <td>26</td>\n",
       "      <td>5366</td>\n",
       "      <td>word</td>\n",
       "      <td>אַבְרָ֔ם</td>\n",
       "      <td>&gt;BRM/</td>\n",
       "    </tr>\n",
       "    <tr>\n",
       "      <th>1</th>\n",
       "      <td>2</td>\n",
       "      <td>Genesis</td>\n",
       "      <td>11</td>\n",
       "      <td>27</td>\n",
       "      <td>5379</td>\n",
       "      <td>word</td>\n",
       "      <td>אַבְרָ֔ם</td>\n",
       "      <td>&gt;BRM/</td>\n",
       "    </tr>\n",
       "    <tr>\n",
       "      <th>2</th>\n",
       "      <td>3</td>\n",
       "      <td>Genesis</td>\n",
       "      <td>11</td>\n",
       "      <td>29</td>\n",
       "      <td>5405</td>\n",
       "      <td>word</td>\n",
       "      <td>אַבְרָ֧ם</td>\n",
       "      <td>&gt;BRM/</td>\n",
       "    </tr>\n",
       "    <tr>\n",
       "      <th>3</th>\n",
       "      <td>4</td>\n",
       "      <td>Genesis</td>\n",
       "      <td>11</td>\n",
       "      <td>29</td>\n",
       "      <td>5412</td>\n",
       "      <td>word</td>\n",
       "      <td>אַבְרָם֙</td>\n",
       "      <td>&gt;BRM/</td>\n",
       "    </tr>\n",
       "    <tr>\n",
       "      <th>4</th>\n",
       "      <td>5</td>\n",
       "      <td>Genesis</td>\n",
       "      <td>11</td>\n",
       "      <td>31</td>\n",
       "      <td>5437</td>\n",
       "      <td>word</td>\n",
       "      <td>אַבְרָ֣ם</td>\n",
       "      <td>&gt;BRM/</td>\n",
       "    </tr>\n",
       "  </tbody>\n",
       "</table>\n",
       "</div>"
      ],
      "text/plain": [
       "   R       S1  S2  S3  NODE1 TYPE1      TEXT1   lex1\n",
       "0  1  Genesis  11  26   5366  word  אַבְרָ֔ם   >BRM/\n",
       "1  2  Genesis  11  27   5379  word  אַבְרָ֔ם   >BRM/\n",
       "2  3  Genesis  11  29   5405  word  אַבְרָ֧ם   >BRM/\n",
       "3  4  Genesis  11  29   5412  word  אַבְרָם֙   >BRM/\n",
       "4  5  Genesis  11  31   5437  word  אַבְרָ֣ם   >BRM/"
      ]
     },
     "execution_count": 19,
     "metadata": {},
     "output_type": "execute_result"
    }
   ],
   "source": [
    "#Command for Windows environment:\n",
    "\n",
    "BHSAbrahamSearch=pd.read_csv('D:/OneDrive/1200_AUS-research/Fabric-TEXT/BHSAbrahamSearch.tsv',delimiter='\\t',encoding='utf-16')\n",
    "pd.set_option('display.max_columns', 50)\n",
    "BHSAbrahamSearch.head()"
   ]
  },
  {
   "cell_type": "code",
   "execution_count": 20,
   "metadata": {},
   "outputs": [],
   "source": [
    "#Command for MacOS environment:\n",
    "\n",
    "#BHSAbrahamSearch=pd.read_csv('/Users/glanz/OneDrive/1200_AUS-research/Fabric-TEXT/BHSAbrahamSearch.tsv',delimiter='\\t',encoding='utf-16')\n",
    "#pd.set_option('display.max_columns', 50)\n",
    "#BHSAbrahamSearch.head()"
   ]
  },
  {
   "cell_type": "code",
   "execution_count": 21,
   "metadata": {},
   "outputs": [
    {
     "data": {
      "text/html": [
       "<div>\n",
       "<style scoped>\n",
       "    .dataframe tbody tr th:only-of-type {\n",
       "        vertical-align: middle;\n",
       "    }\n",
       "\n",
       "    .dataframe tbody tr th {\n",
       "        vertical-align: top;\n",
       "    }\n",
       "\n",
       "    .dataframe thead th {\n",
       "        text-align: right;\n",
       "    }\n",
       "</style>\n",
       "<table border=\"1\" class=\"dataframe\">\n",
       "  <thead>\n",
       "    <tr style=\"text-align: right;\">\n",
       "      <th></th>\n",
       "      <th>R</th>\n",
       "      <th>S1</th>\n",
       "      <th>S2</th>\n",
       "      <th>S3</th>\n",
       "      <th>NODE1</th>\n",
       "      <th>TYPE1</th>\n",
       "      <th>TEXT1</th>\n",
       "      <th>book1</th>\n",
       "    </tr>\n",
       "  </thead>\n",
       "  <tbody>\n",
       "    <tr>\n",
       "      <th>0</th>\n",
       "      <td>1</td>\n",
       "      <td>Matthew</td>\n",
       "      <td>1</td>\n",
       "      <td>1</td>\n",
       "      <td>8</td>\n",
       "      <td>word</td>\n",
       "      <td>Ἀβραάμ.</td>\n",
       "      <td>NaN</td>\n",
       "    </tr>\n",
       "    <tr>\n",
       "      <th>1</th>\n",
       "      <td>2</td>\n",
       "      <td>Matthew</td>\n",
       "      <td>1</td>\n",
       "      <td>2</td>\n",
       "      <td>9</td>\n",
       "      <td>word</td>\n",
       "      <td>Ἀβραὰμ</td>\n",
       "      <td>NaN</td>\n",
       "    </tr>\n",
       "    <tr>\n",
       "      <th>2</th>\n",
       "      <td>3</td>\n",
       "      <td>Matthew</td>\n",
       "      <td>1</td>\n",
       "      <td>17</td>\n",
       "      <td>252</td>\n",
       "      <td>word</td>\n",
       "      <td>Ἀβραὰμ</td>\n",
       "      <td>NaN</td>\n",
       "    </tr>\n",
       "    <tr>\n",
       "      <th>3</th>\n",
       "      <td>4</td>\n",
       "      <td>Matthew</td>\n",
       "      <td>3</td>\n",
       "      <td>9</td>\n",
       "      <td>1032</td>\n",
       "      <td>word</td>\n",
       "      <td>Ἀβραάμ,</td>\n",
       "      <td>NaN</td>\n",
       "    </tr>\n",
       "    <tr>\n",
       "      <th>4</th>\n",
       "      <td>5</td>\n",
       "      <td>Matthew</td>\n",
       "      <td>3</td>\n",
       "      <td>9</td>\n",
       "      <td>1047</td>\n",
       "      <td>word</td>\n",
       "      <td>Ἀβραάμ.</td>\n",
       "      <td>NaN</td>\n",
       "    </tr>\n",
       "  </tbody>\n",
       "</table>\n",
       "</div>"
      ],
      "text/plain": [
       "   R       S1  S2  S3  NODE1 TYPE1     TEXT1  book1\n",
       "0  1  Matthew   1   1      8  word  Ἀβραάμ.     NaN\n",
       "1  2  Matthew   1   2      9  word   Ἀβραὰμ     NaN\n",
       "2  3  Matthew   1  17    252  word   Ἀβραὰμ     NaN\n",
       "3  4  Matthew   3   9   1032  word  Ἀβραάμ,     NaN\n",
       "4  5  Matthew   3   9   1047  word  Ἀβραάμ.     NaN"
      ]
     },
     "execution_count": 21,
     "metadata": {},
     "output_type": "execute_result"
    }
   ],
   "source": [
    "#Command for Windows environment:\n",
    "\n",
    "NTAbrahamSearchLex=pd.read_csv('D:/OneDrive/1200_AUS-research/Fabric-TEXT/NTAbrahamSearchLex.tsv',delimiter='\\t',encoding='utf-16')\n",
    "pd.set_option('display.max_columns', 50)\n",
    "NTAbrahamSearchLex.head()"
   ]
  },
  {
   "cell_type": "code",
   "execution_count": 22,
   "metadata": {},
   "outputs": [],
   "source": [
    "#Command for MacOS environment:\n",
    "#NTAbrahamSearchLex=pd.read_csv('/Users/glanz/OneDrive/1200_AUS-research/Fabric-TEXT/NTAbrahamSearchLex.tsv',delimiter='\\t',encoding='utf-16')\n",
    "#pd.set_option('display.max_columns', 50)\n",
    "#NTAbrahamSearchLex.head()"
   ]
  },
  {
   "cell_type": "markdown",
   "metadata": {},
   "source": [
    "# Assignments\n",
    "1. Think of two words that you would like to search in both the BHS and the NT(Tischendorf). For example יהוה/κύριος and אֱלֹהִים/θεός. Since you do not yet know how to write your word in a TF accaptable way you can simple look up the book/chapter/verse where they appear. In BHS this would look like:\n",
    "\n",
    "```\n",
    "book book=yourbook\n",
    " chapter chapter=yourchapter\n",
    "  verse verse=yourverse\n",
    "   word lex\n",
    "```\n",
    "\n",
    "    For Tischendorf this would look like:\n",
    "```\n",
    "book book=yourbook\n",
    " chapter chapter=yourchapter\n",
    "  verse verse=yourverse\n",
    "   word lex_og\n",
    "```\n",
    "    In both cases run the `show` command instead of the `table` command. This will enable you to copy paste the correct writing into your word search query.\n",
    "\n",
    "2. Search for your words in both the BHS and the NT.\n",
    "3. Export your TF queries with the Export function so that we can do some data-mining on it next time."
   ]
  },
  {
   "cell_type": "markdown",
   "metadata": {},
   "source": [
    "# Whats Next?: Complex Query building\n",
    "1. We will learn how to do some Data-Mining in pandas.\n",
    "2. We will learn how to visualize your data."
   ]
  },
  {
   "cell_type": "code",
   "execution_count": null,
   "metadata": {},
   "outputs": [],
   "source": []
  }
 ],
 "metadata": {
  "kernelspec": {
   "display_name": "Python 3",
   "language": "python",
   "name": "python3"
  },
  "language_info": {
   "codemirror_mode": {
    "name": "ipython",
    "version": 3
   },
   "file_extension": ".py",
   "mimetype": "text/x-python",
   "name": "python",
   "nbconvert_exporter": "python",
   "pygments_lexer": "ipython3",
   "version": "3.8.3"
  },
  "toc": {
   "base_numbering": 1,
   "nav_menu": {},
   "number_sections": true,
   "sideBar": true,
   "skip_h1_title": false,
   "title_cell": "Table of Contents",
   "title_sidebar": "Contents",
   "toc_cell": false,
   "toc_position": {
    "height": "calc(100% - 180px)",
    "left": "10px",
    "top": "150px",
    "width": "165px"
   },
   "toc_section_display": true,
   "toc_window_display": true
  },
  "toc-autonumbering": true,
  "toc-showmarkdowntxt": true
 },
 "nbformat": 4,
 "nbformat_minor": 4
}

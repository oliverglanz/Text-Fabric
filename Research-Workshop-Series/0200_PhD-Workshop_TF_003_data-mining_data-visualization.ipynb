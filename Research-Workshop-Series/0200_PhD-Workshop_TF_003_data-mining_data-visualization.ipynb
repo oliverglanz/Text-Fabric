{
 "cells": [
  {
   "cell_type": "markdown",
   "metadata": {},
   "source": [
    "# Working with Jupyter Notebooks\n",
    "In this notebook we are going to work with Jupyter Notebooks. We will:\n",
    "1. Load exported TF query files into a `pandas` dataframe\n",
    "2. Do some data mining operations\n",
    "3. Visualize some of our data results"
   ]
  },
  {
   "cell_type": "markdown",
   "metadata": {},
   "source": [
    "# Getting the Data-Analysis workbench ready"
   ]
  },
  {
   "cell_type": "markdown",
   "metadata": {},
   "source": [
    "## Loading Data-Analysis tools"
   ]
  },
  {
   "cell_type": "code",
   "execution_count": 1,
   "metadata": {
    "ExecuteTime": {
     "end_time": "2022-12-22T15:14:22.115687Z",
     "start_time": "2022-12-22T15:14:21.197716Z"
    }
   },
   "outputs": [],
   "source": [
    "import sys, os, collections\n",
    "import pandas as pd\n",
    "import numpy as np\n",
    "import seaborn as sns\n",
    "import matplotlib.pyplot as plt; plt.rcdefaults()\n",
    "from matplotlib.pyplot import figure\n",
    "from collections import Counter"
   ]
  },
  {
   "cell_type": "markdown",
   "metadata": {},
   "source": [
    "## Importing our TF query results\n",
    "We are now going to import the tsv files that we exported in our last tutorial."
   ]
  },
  {
   "cell_type": "code",
   "execution_count": 3,
   "metadata": {
    "ExecuteTime": {
     "end_time": "2022-12-22T15:15:57.393499Z",
     "start_time": "2022-12-22T15:15:57.371930Z"
    }
   },
   "outputs": [
    {
     "data": {
      "text/html": [
       "<div>\n",
       "<style scoped>\n",
       "    .dataframe tbody tr th:only-of-type {\n",
       "        vertical-align: middle;\n",
       "    }\n",
       "\n",
       "    .dataframe tbody tr th {\n",
       "        vertical-align: top;\n",
       "    }\n",
       "\n",
       "    .dataframe thead th {\n",
       "        text-align: right;\n",
       "    }\n",
       "</style>\n",
       "<table border=\"1\" class=\"dataframe\">\n",
       "  <thead>\n",
       "    <tr style=\"text-align: right;\">\n",
       "      <th></th>\n",
       "      <th>R</th>\n",
       "      <th>S1</th>\n",
       "      <th>S2</th>\n",
       "      <th>S3</th>\n",
       "      <th>NODE1</th>\n",
       "      <th>TYPE1</th>\n",
       "      <th>TEXT1</th>\n",
       "      <th>lex1</th>\n",
       "    </tr>\n",
       "  </thead>\n",
       "  <tbody>\n",
       "    <tr>\n",
       "      <th>0</th>\n",
       "      <td>1</td>\n",
       "      <td>Genesis</td>\n",
       "      <td>11</td>\n",
       "      <td>26</td>\n",
       "      <td>5366</td>\n",
       "      <td>word</td>\n",
       "      <td>אַבְרָ֔ם</td>\n",
       "      <td>&gt;BRM/</td>\n",
       "    </tr>\n",
       "    <tr>\n",
       "      <th>1</th>\n",
       "      <td>2</td>\n",
       "      <td>Genesis</td>\n",
       "      <td>11</td>\n",
       "      <td>27</td>\n",
       "      <td>5379</td>\n",
       "      <td>word</td>\n",
       "      <td>אַבְרָ֔ם</td>\n",
       "      <td>&gt;BRM/</td>\n",
       "    </tr>\n",
       "    <tr>\n",
       "      <th>2</th>\n",
       "      <td>3</td>\n",
       "      <td>Genesis</td>\n",
       "      <td>11</td>\n",
       "      <td>29</td>\n",
       "      <td>5405</td>\n",
       "      <td>word</td>\n",
       "      <td>אַבְרָ֧ם</td>\n",
       "      <td>&gt;BRM/</td>\n",
       "    </tr>\n",
       "    <tr>\n",
       "      <th>3</th>\n",
       "      <td>4</td>\n",
       "      <td>Genesis</td>\n",
       "      <td>11</td>\n",
       "      <td>29</td>\n",
       "      <td>5412</td>\n",
       "      <td>word</td>\n",
       "      <td>אַבְרָם֙</td>\n",
       "      <td>&gt;BRM/</td>\n",
       "    </tr>\n",
       "    <tr>\n",
       "      <th>4</th>\n",
       "      <td>5</td>\n",
       "      <td>Genesis</td>\n",
       "      <td>11</td>\n",
       "      <td>31</td>\n",
       "      <td>5437</td>\n",
       "      <td>word</td>\n",
       "      <td>אַבְרָ֣ם</td>\n",
       "      <td>&gt;BRM/</td>\n",
       "    </tr>\n",
       "    <tr>\n",
       "      <th>5</th>\n",
       "      <td>6</td>\n",
       "      <td>Genesis</td>\n",
       "      <td>11</td>\n",
       "      <td>31</td>\n",
       "      <td>5451</td>\n",
       "      <td>word</td>\n",
       "      <td>אַבְרָ֣ם</td>\n",
       "      <td>&gt;BRM/</td>\n",
       "    </tr>\n",
       "    <tr>\n",
       "      <th>6</th>\n",
       "      <td>7</td>\n",
       "      <td>Genesis</td>\n",
       "      <td>12</td>\n",
       "      <td>1</td>\n",
       "      <td>5488</td>\n",
       "      <td>word</td>\n",
       "      <td>אַבְרָ֔ם</td>\n",
       "      <td>&gt;BRM/</td>\n",
       "    </tr>\n",
       "    <tr>\n",
       "      <th>7</th>\n",
       "      <td>8</td>\n",
       "      <td>Genesis</td>\n",
       "      <td>12</td>\n",
       "      <td>4</td>\n",
       "      <td>5533</td>\n",
       "      <td>word</td>\n",
       "      <td>אַבְרָ֗ם</td>\n",
       "      <td>&gt;BRM/</td>\n",
       "    </tr>\n",
       "    <tr>\n",
       "      <th>8</th>\n",
       "      <td>9</td>\n",
       "      <td>Genesis</td>\n",
       "      <td>12</td>\n",
       "      <td>4</td>\n",
       "      <td>5544</td>\n",
       "      <td>word</td>\n",
       "      <td>אַבְרָ֗ם</td>\n",
       "      <td>&gt;BRM/</td>\n",
       "    </tr>\n",
       "    <tr>\n",
       "      <th>9</th>\n",
       "      <td>10</td>\n",
       "      <td>Genesis</td>\n",
       "      <td>12</td>\n",
       "      <td>5</td>\n",
       "      <td>5557</td>\n",
       "      <td>word</td>\n",
       "      <td>אַבְרָם֩</td>\n",
       "      <td>&gt;BRM/</td>\n",
       "    </tr>\n",
       "    <tr>\n",
       "      <th>10</th>\n",
       "      <td>11</td>\n",
       "      <td>Genesis</td>\n",
       "      <td>12</td>\n",
       "      <td>6</td>\n",
       "      <td>5592</td>\n",
       "      <td>word</td>\n",
       "      <td>אַבְרָם֙</td>\n",
       "      <td>&gt;BRM/</td>\n",
       "    </tr>\n",
       "  </tbody>\n",
       "</table>\n",
       "</div>"
      ],
      "text/plain": [
       "     R       S1  S2  S3  NODE1 TYPE1      TEXT1   lex1\n",
       "0    1  Genesis  11  26   5366  word  אַבְרָ֔ם   >BRM/\n",
       "1    2  Genesis  11  27   5379  word  אַבְרָ֔ם   >BRM/\n",
       "2    3  Genesis  11  29   5405  word  אַבְרָ֧ם   >BRM/\n",
       "3    4  Genesis  11  29   5412  word  אַבְרָם֙   >BRM/\n",
       "4    5  Genesis  11  31   5437  word  אַבְרָ֣ם   >BRM/\n",
       "5    6  Genesis  11  31   5451  word  אַבְרָ֣ם   >BRM/\n",
       "6    7  Genesis  12   1   5488  word  אַבְרָ֔ם   >BRM/\n",
       "7    8  Genesis  12   4   5533  word  אַבְרָ֗ם   >BRM/\n",
       "8    9  Genesis  12   4   5544  word  אַבְרָ֗ם   >BRM/\n",
       "9   10  Genesis  12   5   5557  word  אַבְרָם֩   >BRM/\n",
       "10  11  Genesis  12   6   5592  word  אַבְרָם֙   >BRM/"
      ]
     },
     "execution_count": 3,
     "metadata": {},
     "output_type": "execute_result"
    }
   ],
   "source": [
    "#BHSAbrahamSearch=pd.read_csv('D:/OneDrive - Andrews University/1200_AUS-research/Fabric-TEXT/BHSAbrahamSearch.tsv',delimiter='\\t',encoding='utf-16')\n",
    "\n",
    "BHSAbrahamSearch=pd.read_csv('/Users/oliverglanz/Library/CloudStorage/OneDrive-AndrewsUniversity/1200_AUS-research/Fabric-TEXT/course_PhD-workshop/data-export/BHSAbrahamSearch.tsv',delimiter='\\t',encoding='utf-16')\n",
    "pd.set_option('display.max_columns', 50)\n",
    "BHSAbrahamSearch.head(11)"
   ]
  },
  {
   "cell_type": "code",
   "execution_count": 5,
   "metadata": {
    "ExecuteTime": {
     "end_time": "2022-12-22T15:16:45.652677Z",
     "start_time": "2022-12-22T15:16:45.632522Z"
    }
   },
   "outputs": [
    {
     "data": {
      "text/html": [
       "<div>\n",
       "<style scoped>\n",
       "    .dataframe tbody tr th:only-of-type {\n",
       "        vertical-align: middle;\n",
       "    }\n",
       "\n",
       "    .dataframe tbody tr th {\n",
       "        vertical-align: top;\n",
       "    }\n",
       "\n",
       "    .dataframe thead th {\n",
       "        text-align: right;\n",
       "    }\n",
       "</style>\n",
       "<table border=\"1\" class=\"dataframe\">\n",
       "  <thead>\n",
       "    <tr style=\"text-align: right;\">\n",
       "      <th></th>\n",
       "      <th>R</th>\n",
       "      <th>S1</th>\n",
       "      <th>S2</th>\n",
       "      <th>S3</th>\n",
       "      <th>NODE1</th>\n",
       "      <th>TYPE1</th>\n",
       "      <th>TEXT1</th>\n",
       "      <th>book1</th>\n",
       "    </tr>\n",
       "  </thead>\n",
       "  <tbody>\n",
       "    <tr>\n",
       "      <th>0</th>\n",
       "      <td>1</td>\n",
       "      <td>Matthew</td>\n",
       "      <td>1</td>\n",
       "      <td>1</td>\n",
       "      <td>8</td>\n",
       "      <td>word</td>\n",
       "      <td>Ἀβραάμ.</td>\n",
       "      <td>NaN</td>\n",
       "    </tr>\n",
       "    <tr>\n",
       "      <th>1</th>\n",
       "      <td>2</td>\n",
       "      <td>Matthew</td>\n",
       "      <td>1</td>\n",
       "      <td>2</td>\n",
       "      <td>9</td>\n",
       "      <td>word</td>\n",
       "      <td>Ἀβραὰμ</td>\n",
       "      <td>NaN</td>\n",
       "    </tr>\n",
       "    <tr>\n",
       "      <th>2</th>\n",
       "      <td>3</td>\n",
       "      <td>Matthew</td>\n",
       "      <td>1</td>\n",
       "      <td>17</td>\n",
       "      <td>252</td>\n",
       "      <td>word</td>\n",
       "      <td>Ἀβραὰμ</td>\n",
       "      <td>NaN</td>\n",
       "    </tr>\n",
       "    <tr>\n",
       "      <th>3</th>\n",
       "      <td>4</td>\n",
       "      <td>Matthew</td>\n",
       "      <td>3</td>\n",
       "      <td>9</td>\n",
       "      <td>1033</td>\n",
       "      <td>word</td>\n",
       "      <td>Ἀβραάμ·</td>\n",
       "      <td>NaN</td>\n",
       "    </tr>\n",
       "    <tr>\n",
       "      <th>4</th>\n",
       "      <td>5</td>\n",
       "      <td>Matthew</td>\n",
       "      <td>3</td>\n",
       "      <td>9</td>\n",
       "      <td>1048</td>\n",
       "      <td>word</td>\n",
       "      <td>Ἀβραάμ.</td>\n",
       "      <td>NaN</td>\n",
       "    </tr>\n",
       "  </tbody>\n",
       "</table>\n",
       "</div>"
      ],
      "text/plain": [
       "   R       S1  S2  S3  NODE1 TYPE1     TEXT1  book1\n",
       "0  1  Matthew   1   1      8  word  Ἀβραάμ.     NaN\n",
       "1  2  Matthew   1   2      9  word   Ἀβραὰμ     NaN\n",
       "2  3  Matthew   1  17    252  word   Ἀβραὰμ     NaN\n",
       "3  4  Matthew   3   9   1033  word  Ἀβραάμ·     NaN\n",
       "4  5  Matthew   3   9   1048  word  Ἀβραάμ.     NaN"
      ]
     },
     "execution_count": 5,
     "metadata": {},
     "output_type": "execute_result"
    }
   ],
   "source": [
    "#NTAbrahamSearchLex=pd.read_csv('D:/OneDrive - Andrews University/1200_AUS-research/Fabric-TEXT/NTAbrahamSearchLex.tsv',delimiter='\\t',encoding='utf-16')\n",
    "NTAbrahamSearchLex=pd.read_csv('/Users/oliverglanz/Library/CloudStorage/OneDrive-AndrewsUniversity/1200_AUS-research/Fabric-TEXT/course_PhD-workshop/data-export/NTAbrahamSearch.tsv',delimiter='\\t',encoding='utf-16')\n",
    "pd.set_option('display.max_columns', 50)\n",
    "NTAbrahamSearchLex.head()"
   ]
  },
  {
   "cell_type": "markdown",
   "metadata": {},
   "source": [
    "# Some simple data mining operations\n",
    "## `groupby` particular *column* by `sum` and  `count`"
   ]
  },
  {
   "cell_type": "code",
   "execution_count": 7,
   "metadata": {
    "ExecuteTime": {
     "end_time": "2022-12-22T15:18:08.658427Z",
     "start_time": "2022-12-22T15:18:08.635365Z"
    }
   },
   "outputs": [
    {
     "data": {
      "text/html": [
       "<div>\n",
       "<style scoped>\n",
       "    .dataframe tbody tr th:only-of-type {\n",
       "        vertical-align: middle;\n",
       "    }\n",
       "\n",
       "    .dataframe tbody tr th {\n",
       "        vertical-align: top;\n",
       "    }\n",
       "\n",
       "    .dataframe thead th {\n",
       "        text-align: right;\n",
       "    }\n",
       "</style>\n",
       "<table border=\"1\" class=\"dataframe\">\n",
       "  <thead>\n",
       "    <tr style=\"text-align: right;\">\n",
       "      <th></th>\n",
       "      <th>R</th>\n",
       "      <th>S2</th>\n",
       "      <th>S3</th>\n",
       "      <th>NODE1</th>\n",
       "    </tr>\n",
       "    <tr>\n",
       "      <th>lex1</th>\n",
       "      <th></th>\n",
       "      <th></th>\n",
       "      <th></th>\n",
       "      <th></th>\n",
       "    </tr>\n",
       "  </thead>\n",
       "  <tbody>\n",
       "    <tr>\n",
       "      <th>&gt;BRHM/</th>\n",
       "      <td>25742</td>\n",
       "      <td>4209</td>\n",
       "      <td>2704</td>\n",
       "      <td>10028251</td>\n",
       "    </tr>\n",
       "    <tr>\n",
       "      <th>&gt;BRM/</th>\n",
       "      <td>2224</td>\n",
       "      <td>829</td>\n",
       "      <td>684</td>\n",
       "      <td>1155657</td>\n",
       "    </tr>\n",
       "  </tbody>\n",
       "</table>\n",
       "</div>"
      ],
      "text/plain": [
       "            R    S2    S3     NODE1\n",
       "lex1                               \n",
       ">BRHM/  25742  4209  2704  10028251\n",
       ">BRM/    2224   829   684   1155657"
      ]
     },
     "execution_count": 7,
     "metadata": {},
     "output_type": "execute_result"
    }
   ],
   "source": [
    "BHSAbrahamSearch.groupby([\"lex1\"]).sum()"
   ]
  },
  {
   "cell_type": "code",
   "execution_count": 8,
   "metadata": {
    "ExecuteTime": {
     "end_time": "2022-12-22T15:18:09.241900Z",
     "start_time": "2022-12-22T15:18:09.220952Z"
    }
   },
   "outputs": [
    {
     "data": {
      "text/html": [
       "<div>\n",
       "<style scoped>\n",
       "    .dataframe tbody tr th:only-of-type {\n",
       "        vertical-align: middle;\n",
       "    }\n",
       "\n",
       "    .dataframe tbody tr th {\n",
       "        vertical-align: top;\n",
       "    }\n",
       "\n",
       "    .dataframe thead th {\n",
       "        text-align: right;\n",
       "    }\n",
       "</style>\n",
       "<table border=\"1\" class=\"dataframe\">\n",
       "  <thead>\n",
       "    <tr style=\"text-align: right;\">\n",
       "      <th></th>\n",
       "      <th>R</th>\n",
       "      <th>S1</th>\n",
       "      <th>S2</th>\n",
       "      <th>S3</th>\n",
       "      <th>NODE1</th>\n",
       "      <th>TYPE1</th>\n",
       "      <th>TEXT1</th>\n",
       "    </tr>\n",
       "    <tr>\n",
       "      <th>lex1</th>\n",
       "      <th></th>\n",
       "      <th></th>\n",
       "      <th></th>\n",
       "      <th></th>\n",
       "      <th></th>\n",
       "      <th></th>\n",
       "      <th></th>\n",
       "    </tr>\n",
       "  </thead>\n",
       "  <tbody>\n",
       "    <tr>\n",
       "      <th>&gt;BRHM/</th>\n",
       "      <td>175</td>\n",
       "      <td>175</td>\n",
       "      <td>175</td>\n",
       "      <td>175</td>\n",
       "      <td>175</td>\n",
       "      <td>175</td>\n",
       "      <td>175</td>\n",
       "    </tr>\n",
       "    <tr>\n",
       "      <th>&gt;BRM/</th>\n",
       "      <td>61</td>\n",
       "      <td>61</td>\n",
       "      <td>61</td>\n",
       "      <td>61</td>\n",
       "      <td>61</td>\n",
       "      <td>61</td>\n",
       "      <td>61</td>\n",
       "    </tr>\n",
       "  </tbody>\n",
       "</table>\n",
       "</div>"
      ],
      "text/plain": [
       "          R   S1   S2   S3  NODE1  TYPE1  TEXT1\n",
       "lex1                                           \n",
       ">BRHM/  175  175  175  175    175    175    175\n",
       ">BRM/    61   61   61   61     61     61     61"
      ]
     },
     "execution_count": 8,
     "metadata": {},
     "output_type": "execute_result"
    }
   ],
   "source": [
    "BHSAbrahamSearch.groupby([\"lex1\"]).count()"
   ]
  },
  {
   "cell_type": "code",
   "execution_count": 9,
   "metadata": {
    "ExecuteTime": {
     "end_time": "2022-12-22T15:18:09.687904Z",
     "start_time": "2022-12-22T15:18:09.671059Z"
    }
   },
   "outputs": [
    {
     "data": {
      "text/plain": [
       "R        236\n",
       "S1       236\n",
       "S2       236\n",
       "S3       236\n",
       "NODE1    236\n",
       "TYPE1    236\n",
       "TEXT1    236\n",
       "dtype: int64"
      ]
     },
     "execution_count": 9,
     "metadata": {},
     "output_type": "execute_result"
    }
   ],
   "source": [
    "BHSAbrahamSearch.groupby([\"lex1\"]).count().sum()"
   ]
  },
  {
   "cell_type": "code",
   "execution_count": 10,
   "metadata": {
    "ExecuteTime": {
     "end_time": "2022-12-22T15:18:10.142099Z",
     "start_time": "2022-12-22T15:18:10.120178Z"
    }
   },
   "outputs": [
    {
     "data": {
      "text/html": [
       "<div>\n",
       "<style scoped>\n",
       "    .dataframe tbody tr th:only-of-type {\n",
       "        vertical-align: middle;\n",
       "    }\n",
       "\n",
       "    .dataframe tbody tr th {\n",
       "        vertical-align: top;\n",
       "    }\n",
       "\n",
       "    .dataframe thead th {\n",
       "        text-align: right;\n",
       "    }\n",
       "</style>\n",
       "<table border=\"1\" class=\"dataframe\">\n",
       "  <thead>\n",
       "    <tr style=\"text-align: right;\">\n",
       "      <th></th>\n",
       "      <th>R</th>\n",
       "      <th>S2</th>\n",
       "      <th>S3</th>\n",
       "      <th>NODE1</th>\n",
       "      <th>TYPE1</th>\n",
       "      <th>TEXT1</th>\n",
       "      <th>book1</th>\n",
       "    </tr>\n",
       "    <tr>\n",
       "      <th>S1</th>\n",
       "      <th></th>\n",
       "      <th></th>\n",
       "      <th></th>\n",
       "      <th></th>\n",
       "      <th></th>\n",
       "      <th></th>\n",
       "      <th></th>\n",
       "    </tr>\n",
       "  </thead>\n",
       "  <tbody>\n",
       "    <tr>\n",
       "      <th>Acts</th>\n",
       "      <td>7</td>\n",
       "      <td>7</td>\n",
       "      <td>7</td>\n",
       "      <td>7</td>\n",
       "      <td>7</td>\n",
       "      <td>7</td>\n",
       "      <td>0</td>\n",
       "    </tr>\n",
       "    <tr>\n",
       "      <th>Galatians</th>\n",
       "      <td>9</td>\n",
       "      <td>9</td>\n",
       "      <td>9</td>\n",
       "      <td>9</td>\n",
       "      <td>9</td>\n",
       "      <td>9</td>\n",
       "      <td>0</td>\n",
       "    </tr>\n",
       "    <tr>\n",
       "      <th>Hebrews</th>\n",
       "      <td>10</td>\n",
       "      <td>10</td>\n",
       "      <td>10</td>\n",
       "      <td>10</td>\n",
       "      <td>10</td>\n",
       "      <td>10</td>\n",
       "      <td>0</td>\n",
       "    </tr>\n",
       "    <tr>\n",
       "      <th>II_Corinthians</th>\n",
       "      <td>1</td>\n",
       "      <td>1</td>\n",
       "      <td>1</td>\n",
       "      <td>1</td>\n",
       "      <td>1</td>\n",
       "      <td>1</td>\n",
       "      <td>0</td>\n",
       "    </tr>\n",
       "    <tr>\n",
       "      <th>I_Peter</th>\n",
       "      <td>1</td>\n",
       "      <td>1</td>\n",
       "      <td>1</td>\n",
       "      <td>1</td>\n",
       "      <td>1</td>\n",
       "      <td>1</td>\n",
       "      <td>0</td>\n",
       "    </tr>\n",
       "    <tr>\n",
       "      <th>James</th>\n",
       "      <td>2</td>\n",
       "      <td>2</td>\n",
       "      <td>2</td>\n",
       "      <td>2</td>\n",
       "      <td>2</td>\n",
       "      <td>2</td>\n",
       "      <td>0</td>\n",
       "    </tr>\n",
       "    <tr>\n",
       "      <th>John</th>\n",
       "      <td>11</td>\n",
       "      <td>11</td>\n",
       "      <td>11</td>\n",
       "      <td>11</td>\n",
       "      <td>11</td>\n",
       "      <td>11</td>\n",
       "      <td>0</td>\n",
       "    </tr>\n",
       "    <tr>\n",
       "      <th>Luke</th>\n",
       "      <td>15</td>\n",
       "      <td>15</td>\n",
       "      <td>15</td>\n",
       "      <td>15</td>\n",
       "      <td>15</td>\n",
       "      <td>15</td>\n",
       "      <td>0</td>\n",
       "    </tr>\n",
       "    <tr>\n",
       "      <th>Mark</th>\n",
       "      <td>1</td>\n",
       "      <td>1</td>\n",
       "      <td>1</td>\n",
       "      <td>1</td>\n",
       "      <td>1</td>\n",
       "      <td>1</td>\n",
       "      <td>0</td>\n",
       "    </tr>\n",
       "    <tr>\n",
       "      <th>Matthew</th>\n",
       "      <td>7</td>\n",
       "      <td>7</td>\n",
       "      <td>7</td>\n",
       "      <td>7</td>\n",
       "      <td>7</td>\n",
       "      <td>7</td>\n",
       "      <td>0</td>\n",
       "    </tr>\n",
       "    <tr>\n",
       "      <th>Romans</th>\n",
       "      <td>9</td>\n",
       "      <td>9</td>\n",
       "      <td>9</td>\n",
       "      <td>9</td>\n",
       "      <td>9</td>\n",
       "      <td>9</td>\n",
       "      <td>0</td>\n",
       "    </tr>\n",
       "  </tbody>\n",
       "</table>\n",
       "</div>"
      ],
      "text/plain": [
       "                 R  S2  S3  NODE1  TYPE1  TEXT1  book1\n",
       "S1                                                    \n",
       "Acts             7   7   7      7      7      7      0\n",
       "Galatians        9   9   9      9      9      9      0\n",
       "Hebrews         10  10  10     10     10     10      0\n",
       "II_Corinthians   1   1   1      1      1      1      0\n",
       "I_Peter          1   1   1      1      1      1      0\n",
       "James            2   2   2      2      2      2      0\n",
       "John            11  11  11     11     11     11      0\n",
       "Luke            15  15  15     15     15     15      0\n",
       "Mark             1   1   1      1      1      1      0\n",
       "Matthew          7   7   7      7      7      7      0\n",
       "Romans           9   9   9      9      9      9      0"
      ]
     },
     "execution_count": 10,
     "metadata": {},
     "output_type": "execute_result"
    }
   ],
   "source": [
    "NTAbrahamSearchLex.groupby([\"S1\"]).count()"
   ]
  },
  {
   "cell_type": "markdown",
   "metadata": {},
   "source": [
    "## `groupby` particular *column* by `count` and `sort_values`"
   ]
  },
  {
   "cell_type": "code",
   "execution_count": 11,
   "metadata": {
    "ExecuteTime": {
     "end_time": "2022-12-22T15:18:11.149347Z",
     "start_time": "2022-12-22T15:18:11.137691Z"
    }
   },
   "outputs": [
    {
     "data": {
      "text/html": [
       "<div>\n",
       "<style scoped>\n",
       "    .dataframe tbody tr th:only-of-type {\n",
       "        vertical-align: middle;\n",
       "    }\n",
       "\n",
       "    .dataframe tbody tr th {\n",
       "        vertical-align: top;\n",
       "    }\n",
       "\n",
       "    .dataframe thead th {\n",
       "        text-align: right;\n",
       "    }\n",
       "</style>\n",
       "<table border=\"1\" class=\"dataframe\">\n",
       "  <thead>\n",
       "    <tr style=\"text-align: right;\">\n",
       "      <th></th>\n",
       "      <th>R</th>\n",
       "      <th>S2</th>\n",
       "      <th>S3</th>\n",
       "      <th>NODE1</th>\n",
       "      <th>TYPE1</th>\n",
       "      <th>TEXT1</th>\n",
       "      <th>book1</th>\n",
       "    </tr>\n",
       "    <tr>\n",
       "      <th>S1</th>\n",
       "      <th></th>\n",
       "      <th></th>\n",
       "      <th></th>\n",
       "      <th></th>\n",
       "      <th></th>\n",
       "      <th></th>\n",
       "      <th></th>\n",
       "    </tr>\n",
       "  </thead>\n",
       "  <tbody>\n",
       "    <tr>\n",
       "      <th>Luke</th>\n",
       "      <td>15</td>\n",
       "      <td>15</td>\n",
       "      <td>15</td>\n",
       "      <td>15</td>\n",
       "      <td>15</td>\n",
       "      <td>15</td>\n",
       "      <td>0</td>\n",
       "    </tr>\n",
       "    <tr>\n",
       "      <th>John</th>\n",
       "      <td>11</td>\n",
       "      <td>11</td>\n",
       "      <td>11</td>\n",
       "      <td>11</td>\n",
       "      <td>11</td>\n",
       "      <td>11</td>\n",
       "      <td>0</td>\n",
       "    </tr>\n",
       "    <tr>\n",
       "      <th>Hebrews</th>\n",
       "      <td>10</td>\n",
       "      <td>10</td>\n",
       "      <td>10</td>\n",
       "      <td>10</td>\n",
       "      <td>10</td>\n",
       "      <td>10</td>\n",
       "      <td>0</td>\n",
       "    </tr>\n",
       "    <tr>\n",
       "      <th>Galatians</th>\n",
       "      <td>9</td>\n",
       "      <td>9</td>\n",
       "      <td>9</td>\n",
       "      <td>9</td>\n",
       "      <td>9</td>\n",
       "      <td>9</td>\n",
       "      <td>0</td>\n",
       "    </tr>\n",
       "    <tr>\n",
       "      <th>Romans</th>\n",
       "      <td>9</td>\n",
       "      <td>9</td>\n",
       "      <td>9</td>\n",
       "      <td>9</td>\n",
       "      <td>9</td>\n",
       "      <td>9</td>\n",
       "      <td>0</td>\n",
       "    </tr>\n",
       "    <tr>\n",
       "      <th>Acts</th>\n",
       "      <td>7</td>\n",
       "      <td>7</td>\n",
       "      <td>7</td>\n",
       "      <td>7</td>\n",
       "      <td>7</td>\n",
       "      <td>7</td>\n",
       "      <td>0</td>\n",
       "    </tr>\n",
       "    <tr>\n",
       "      <th>Matthew</th>\n",
       "      <td>7</td>\n",
       "      <td>7</td>\n",
       "      <td>7</td>\n",
       "      <td>7</td>\n",
       "      <td>7</td>\n",
       "      <td>7</td>\n",
       "      <td>0</td>\n",
       "    </tr>\n",
       "    <tr>\n",
       "      <th>James</th>\n",
       "      <td>2</td>\n",
       "      <td>2</td>\n",
       "      <td>2</td>\n",
       "      <td>2</td>\n",
       "      <td>2</td>\n",
       "      <td>2</td>\n",
       "      <td>0</td>\n",
       "    </tr>\n",
       "    <tr>\n",
       "      <th>II_Corinthians</th>\n",
       "      <td>1</td>\n",
       "      <td>1</td>\n",
       "      <td>1</td>\n",
       "      <td>1</td>\n",
       "      <td>1</td>\n",
       "      <td>1</td>\n",
       "      <td>0</td>\n",
       "    </tr>\n",
       "    <tr>\n",
       "      <th>I_Peter</th>\n",
       "      <td>1</td>\n",
       "      <td>1</td>\n",
       "      <td>1</td>\n",
       "      <td>1</td>\n",
       "      <td>1</td>\n",
       "      <td>1</td>\n",
       "      <td>0</td>\n",
       "    </tr>\n",
       "    <tr>\n",
       "      <th>Mark</th>\n",
       "      <td>1</td>\n",
       "      <td>1</td>\n",
       "      <td>1</td>\n",
       "      <td>1</td>\n",
       "      <td>1</td>\n",
       "      <td>1</td>\n",
       "      <td>0</td>\n",
       "    </tr>\n",
       "  </tbody>\n",
       "</table>\n",
       "</div>"
      ],
      "text/plain": [
       "                 R  S2  S3  NODE1  TYPE1  TEXT1  book1\n",
       "S1                                                    \n",
       "Luke            15  15  15     15     15     15      0\n",
       "John            11  11  11     11     11     11      0\n",
       "Hebrews         10  10  10     10     10     10      0\n",
       "Galatians        9   9   9      9      9      9      0\n",
       "Romans           9   9   9      9      9      9      0\n",
       "Acts             7   7   7      7      7      7      0\n",
       "Matthew          7   7   7      7      7      7      0\n",
       "James            2   2   2      2      2      2      0\n",
       "II_Corinthians   1   1   1      1      1      1      0\n",
       "I_Peter          1   1   1      1      1      1      0\n",
       "Mark             1   1   1      1      1      1      0"
      ]
     },
     "execution_count": 11,
     "metadata": {},
     "output_type": "execute_result"
    }
   ],
   "source": [
    "NTAbrahamSearchLex.groupby(['S1']).count().sort_values(['TEXT1'], ascending=False)"
   ]
  },
  {
   "cell_type": "markdown",
   "metadata": {},
   "source": [
    "## Finding a value with `==`"
   ]
  },
  {
   "cell_type": "code",
   "execution_count": 12,
   "metadata": {
    "ExecuteTime": {
     "end_time": "2022-12-22T15:18:12.095676Z",
     "start_time": "2022-12-22T15:18:12.081882Z"
    }
   },
   "outputs": [
    {
     "data": {
      "text/html": [
       "<div>\n",
       "<style scoped>\n",
       "    .dataframe tbody tr th:only-of-type {\n",
       "        vertical-align: middle;\n",
       "    }\n",
       "\n",
       "    .dataframe tbody tr th {\n",
       "        vertical-align: top;\n",
       "    }\n",
       "\n",
       "    .dataframe thead th {\n",
       "        text-align: right;\n",
       "    }\n",
       "</style>\n",
       "<table border=\"1\" class=\"dataframe\">\n",
       "  <thead>\n",
       "    <tr style=\"text-align: right;\">\n",
       "      <th></th>\n",
       "      <th>R</th>\n",
       "      <th>S1</th>\n",
       "      <th>S2</th>\n",
       "      <th>S3</th>\n",
       "      <th>NODE1</th>\n",
       "      <th>TYPE1</th>\n",
       "      <th>TEXT1</th>\n",
       "      <th>lex1</th>\n",
       "    </tr>\n",
       "  </thead>\n",
       "  <tbody>\n",
       "    <tr>\n",
       "      <th>0</th>\n",
       "      <td>1</td>\n",
       "      <td>Genesis</td>\n",
       "      <td>11</td>\n",
       "      <td>26</td>\n",
       "      <td>5366</td>\n",
       "      <td>word</td>\n",
       "      <td>אַבְרָ֔ם</td>\n",
       "      <td>&gt;BRM/</td>\n",
       "    </tr>\n",
       "    <tr>\n",
       "      <th>1</th>\n",
       "      <td>2</td>\n",
       "      <td>Genesis</td>\n",
       "      <td>11</td>\n",
       "      <td>27</td>\n",
       "      <td>5379</td>\n",
       "      <td>word</td>\n",
       "      <td>אַבְרָ֔ם</td>\n",
       "      <td>&gt;BRM/</td>\n",
       "    </tr>\n",
       "    <tr>\n",
       "      <th>2</th>\n",
       "      <td>3</td>\n",
       "      <td>Genesis</td>\n",
       "      <td>11</td>\n",
       "      <td>29</td>\n",
       "      <td>5405</td>\n",
       "      <td>word</td>\n",
       "      <td>אַבְרָ֧ם</td>\n",
       "      <td>&gt;BRM/</td>\n",
       "    </tr>\n",
       "    <tr>\n",
       "      <th>3</th>\n",
       "      <td>4</td>\n",
       "      <td>Genesis</td>\n",
       "      <td>11</td>\n",
       "      <td>29</td>\n",
       "      <td>5412</td>\n",
       "      <td>word</td>\n",
       "      <td>אַבְרָם֙</td>\n",
       "      <td>&gt;BRM/</td>\n",
       "    </tr>\n",
       "    <tr>\n",
       "      <th>4</th>\n",
       "      <td>5</td>\n",
       "      <td>Genesis</td>\n",
       "      <td>11</td>\n",
       "      <td>31</td>\n",
       "      <td>5437</td>\n",
       "      <td>word</td>\n",
       "      <td>אַבְרָ֣ם</td>\n",
       "      <td>&gt;BRM/</td>\n",
       "    </tr>\n",
       "    <tr>\n",
       "      <th>...</th>\n",
       "      <td>...</td>\n",
       "      <td>...</td>\n",
       "      <td>...</td>\n",
       "      <td>...</td>\n",
       "      <td>...</td>\n",
       "      <td>...</td>\n",
       "      <td>...</td>\n",
       "      <td>...</td>\n",
       "    </tr>\n",
       "    <tr>\n",
       "      <th>56</th>\n",
       "      <td>57</td>\n",
       "      <td>Genesis</td>\n",
       "      <td>17</td>\n",
       "      <td>1</td>\n",
       "      <td>7337</td>\n",
       "      <td>word</td>\n",
       "      <td>אַבְרָ֗ם</td>\n",
       "      <td>&gt;BRM/</td>\n",
       "    </tr>\n",
       "    <tr>\n",
       "      <th>57</th>\n",
       "      <td>58</td>\n",
       "      <td>Genesis</td>\n",
       "      <td>17</td>\n",
       "      <td>3</td>\n",
       "      <td>7364</td>\n",
       "      <td>word</td>\n",
       "      <td>אַבְרָ֖ם</td>\n",
       "      <td>&gt;BRM/</td>\n",
       "    </tr>\n",
       "    <tr>\n",
       "      <th>58</th>\n",
       "      <td>59</td>\n",
       "      <td>Genesis</td>\n",
       "      <td>17</td>\n",
       "      <td>5</td>\n",
       "      <td>7389</td>\n",
       "      <td>word</td>\n",
       "      <td>אַבְרָ֑ם</td>\n",
       "      <td>&gt;BRM/</td>\n",
       "    </tr>\n",
       "    <tr>\n",
       "      <th>225</th>\n",
       "      <td>226</td>\n",
       "      <td>Nehemiah</td>\n",
       "      <td>9</td>\n",
       "      <td>7</td>\n",
       "      <td>387898</td>\n",
       "      <td>word</td>\n",
       "      <td>אַבְרָ֔ם</td>\n",
       "      <td>&gt;BRM/</td>\n",
       "    </tr>\n",
       "    <tr>\n",
       "      <th>227</th>\n",
       "      <td>228</td>\n",
       "      <td>1_Chronicles</td>\n",
       "      <td>1</td>\n",
       "      <td>27</td>\n",
       "      <td>391522</td>\n",
       "      <td>word</td>\n",
       "      <td>אַבְרָ֖ם</td>\n",
       "      <td>&gt;BRM/</td>\n",
       "    </tr>\n",
       "  </tbody>\n",
       "</table>\n",
       "<p>61 rows × 8 columns</p>\n",
       "</div>"
      ],
      "text/plain": [
       "       R            S1  S2  S3   NODE1 TYPE1      TEXT1   lex1\n",
       "0      1       Genesis  11  26    5366  word  אַבְרָ֔ם   >BRM/\n",
       "1      2       Genesis  11  27    5379  word  אַבְרָ֔ם   >BRM/\n",
       "2      3       Genesis  11  29    5405  word  אַבְרָ֧ם   >BRM/\n",
       "3      4       Genesis  11  29    5412  word  אַבְרָם֙   >BRM/\n",
       "4      5       Genesis  11  31    5437  word  אַבְרָ֣ם   >BRM/\n",
       "..   ...           ...  ..  ..     ...   ...        ...    ...\n",
       "56    57       Genesis  17   1    7337  word  אַבְרָ֗ם   >BRM/\n",
       "57    58       Genesis  17   3    7364  word  אַבְרָ֖ם   >BRM/\n",
       "58    59       Genesis  17   5    7389  word  אַבְרָ֑ם   >BRM/\n",
       "225  226      Nehemiah   9   7  387898  word  אַבְרָ֔ם   >BRM/\n",
       "227  228  1_Chronicles   1  27  391522  word  אַבְרָ֖ם   >BRM/\n",
       "\n",
       "[61 rows x 8 columns]"
      ]
     },
     "execution_count": 12,
     "metadata": {},
     "output_type": "execute_result"
    }
   ],
   "source": [
    "BHSAbrahamSearch[(BHSAbrahamSearch['lex1'] == '>BRM/')]"
   ]
  },
  {
   "cell_type": "markdown",
   "metadata": {},
   "source": [
    "## Finding a value with `!=`"
   ]
  },
  {
   "cell_type": "code",
   "execution_count": 13,
   "metadata": {
    "ExecuteTime": {
     "end_time": "2022-12-22T15:18:12.973494Z",
     "start_time": "2022-12-22T15:18:12.955055Z"
    }
   },
   "outputs": [
    {
     "data": {
      "text/html": [
       "<div>\n",
       "<style scoped>\n",
       "    .dataframe tbody tr th:only-of-type {\n",
       "        vertical-align: middle;\n",
       "    }\n",
       "\n",
       "    .dataframe tbody tr th {\n",
       "        vertical-align: top;\n",
       "    }\n",
       "\n",
       "    .dataframe thead th {\n",
       "        text-align: right;\n",
       "    }\n",
       "</style>\n",
       "<table border=\"1\" class=\"dataframe\">\n",
       "  <thead>\n",
       "    <tr style=\"text-align: right;\">\n",
       "      <th></th>\n",
       "      <th>R</th>\n",
       "      <th>S1</th>\n",
       "      <th>S2</th>\n",
       "      <th>S3</th>\n",
       "      <th>NODE1</th>\n",
       "      <th>TYPE1</th>\n",
       "      <th>TEXT1</th>\n",
       "      <th>lex1</th>\n",
       "    </tr>\n",
       "  </thead>\n",
       "  <tbody>\n",
       "    <tr>\n",
       "      <th>59</th>\n",
       "      <td>60</td>\n",
       "      <td>Genesis</td>\n",
       "      <td>17</td>\n",
       "      <td>5</td>\n",
       "      <td>7393</td>\n",
       "      <td>word</td>\n",
       "      <td>אַבְרָהָ֔ם</td>\n",
       "      <td>&gt;BRHM/</td>\n",
       "    </tr>\n",
       "    <tr>\n",
       "      <th>60</th>\n",
       "      <td>61</td>\n",
       "      <td>Genesis</td>\n",
       "      <td>17</td>\n",
       "      <td>9</td>\n",
       "      <td>7464</td>\n",
       "      <td>word</td>\n",
       "      <td>אַבְרָהָ֔ם</td>\n",
       "      <td>&gt;BRHM/</td>\n",
       "    </tr>\n",
       "    <tr>\n",
       "      <th>61</th>\n",
       "      <td>62</td>\n",
       "      <td>Genesis</td>\n",
       "      <td>17</td>\n",
       "      <td>15</td>\n",
       "      <td>7567</td>\n",
       "      <td>word</td>\n",
       "      <td>אַבְרָהָ֔ם</td>\n",
       "      <td>&gt;BRHM/</td>\n",
       "    </tr>\n",
       "    <tr>\n",
       "      <th>62</th>\n",
       "      <td>63</td>\n",
       "      <td>Genesis</td>\n",
       "      <td>17</td>\n",
       "      <td>17</td>\n",
       "      <td>7599</td>\n",
       "      <td>word</td>\n",
       "      <td>אַבְרָהָ֛ם</td>\n",
       "      <td>&gt;BRHM/</td>\n",
       "    </tr>\n",
       "    <tr>\n",
       "      <th>63</th>\n",
       "      <td>64</td>\n",
       "      <td>Genesis</td>\n",
       "      <td>17</td>\n",
       "      <td>18</td>\n",
       "      <td>7624</td>\n",
       "      <td>word</td>\n",
       "      <td>אַבְרָהָ֖ם</td>\n",
       "      <td>&gt;BRHM/</td>\n",
       "    </tr>\n",
       "    <tr>\n",
       "      <th>...</th>\n",
       "      <td>...</td>\n",
       "      <td>...</td>\n",
       "      <td>...</td>\n",
       "      <td>...</td>\n",
       "      <td>...</td>\n",
       "      <td>...</td>\n",
       "      <td>...</td>\n",
       "      <td>...</td>\n",
       "    </tr>\n",
       "    <tr>\n",
       "      <th>231</th>\n",
       "      <td>232</td>\n",
       "      <td>1_Chronicles</td>\n",
       "      <td>1</td>\n",
       "      <td>34</td>\n",
       "      <td>391598</td>\n",
       "      <td>word</td>\n",
       "      <td>אַבְרָהָ֖ם</td>\n",
       "      <td>&gt;BRHM/</td>\n",
       "    </tr>\n",
       "    <tr>\n",
       "      <th>232</th>\n",
       "      <td>233</td>\n",
       "      <td>1_Chronicles</td>\n",
       "      <td>16</td>\n",
       "      <td>16</td>\n",
       "      <td>399832</td>\n",
       "      <td>word</td>\n",
       "      <td>אַבְרָהָ֔ם</td>\n",
       "      <td>&gt;BRHM/</td>\n",
       "    </tr>\n",
       "    <tr>\n",
       "      <th>233</th>\n",
       "      <td>234</td>\n",
       "      <td>1_Chronicles</td>\n",
       "      <td>29</td>\n",
       "      <td>18</td>\n",
       "      <td>406532</td>\n",
       "      <td>word</td>\n",
       "      <td>אַבְרָהָ֞ם</td>\n",
       "      <td>&gt;BRHM/</td>\n",
       "    </tr>\n",
       "    <tr>\n",
       "      <th>234</th>\n",
       "      <td>235</td>\n",
       "      <td>2_Chronicles</td>\n",
       "      <td>20</td>\n",
       "      <td>7</td>\n",
       "      <td>416130</td>\n",
       "      <td>word</td>\n",
       "      <td>אַבְרָהָ֥ם</td>\n",
       "      <td>&gt;BRHM/</td>\n",
       "    </tr>\n",
       "    <tr>\n",
       "      <th>235</th>\n",
       "      <td>236</td>\n",
       "      <td>2_Chronicles</td>\n",
       "      <td>30</td>\n",
       "      <td>6</td>\n",
       "      <td>421984</td>\n",
       "      <td>word</td>\n",
       "      <td>אַבְרָהָם֙</td>\n",
       "      <td>&gt;BRHM/</td>\n",
       "    </tr>\n",
       "  </tbody>\n",
       "</table>\n",
       "<p>175 rows × 8 columns</p>\n",
       "</div>"
      ],
      "text/plain": [
       "       R            S1  S2  S3   NODE1 TYPE1        TEXT1    lex1\n",
       "59    60       Genesis  17   5    7393  word  אַבְרָהָ֔ם   >BRHM/\n",
       "60    61       Genesis  17   9    7464  word  אַבְרָהָ֔ם   >BRHM/\n",
       "61    62       Genesis  17  15    7567  word  אַבְרָהָ֔ם   >BRHM/\n",
       "62    63       Genesis  17  17    7599  word  אַבְרָהָ֛ם   >BRHM/\n",
       "63    64       Genesis  17  18    7624  word  אַבְרָהָ֖ם   >BRHM/\n",
       "..   ...           ...  ..  ..     ...   ...          ...     ...\n",
       "231  232  1_Chronicles   1  34  391598  word  אַבְרָהָ֖ם   >BRHM/\n",
       "232  233  1_Chronicles  16  16  399832  word  אַבְרָהָ֔ם   >BRHM/\n",
       "233  234  1_Chronicles  29  18  406532  word  אַבְרָהָ֞ם   >BRHM/\n",
       "234  235  2_Chronicles  20   7  416130  word  אַבְרָהָ֥ם   >BRHM/\n",
       "235  236  2_Chronicles  30   6  421984  word  אַבְרָהָם֙   >BRHM/\n",
       "\n",
       "[175 rows x 8 columns]"
      ]
     },
     "execution_count": 13,
     "metadata": {},
     "output_type": "execute_result"
    }
   ],
   "source": [
    "BHSAbrahamSearch[(BHSAbrahamSearch['lex1'] != '>BRM/')]"
   ]
  },
  {
   "cell_type": "markdown",
   "metadata": {},
   "source": [
    "## Finding values with `&` "
   ]
  },
  {
   "cell_type": "code",
   "execution_count": 14,
   "metadata": {
    "ExecuteTime": {
     "end_time": "2022-12-22T15:18:13.824044Z",
     "start_time": "2022-12-22T15:18:13.806506Z"
    }
   },
   "outputs": [
    {
     "data": {
      "text/html": [
       "<div>\n",
       "<style scoped>\n",
       "    .dataframe tbody tr th:only-of-type {\n",
       "        vertical-align: middle;\n",
       "    }\n",
       "\n",
       "    .dataframe tbody tr th {\n",
       "        vertical-align: top;\n",
       "    }\n",
       "\n",
       "    .dataframe thead th {\n",
       "        text-align: right;\n",
       "    }\n",
       "</style>\n",
       "<table border=\"1\" class=\"dataframe\">\n",
       "  <thead>\n",
       "    <tr style=\"text-align: right;\">\n",
       "      <th></th>\n",
       "      <th>R</th>\n",
       "      <th>S1</th>\n",
       "      <th>S2</th>\n",
       "      <th>S3</th>\n",
       "      <th>NODE1</th>\n",
       "      <th>TYPE1</th>\n",
       "      <th>TEXT1</th>\n",
       "      <th>lex1</th>\n",
       "    </tr>\n",
       "  </thead>\n",
       "  <tbody>\n",
       "    <tr>\n",
       "      <th>225</th>\n",
       "      <td>226</td>\n",
       "      <td>Nehemiah</td>\n",
       "      <td>9</td>\n",
       "      <td>7</td>\n",
       "      <td>387898</td>\n",
       "      <td>word</td>\n",
       "      <td>אַבְרָ֔ם</td>\n",
       "      <td>&gt;BRM/</td>\n",
       "    </tr>\n",
       "    <tr>\n",
       "      <th>227</th>\n",
       "      <td>228</td>\n",
       "      <td>1_Chronicles</td>\n",
       "      <td>1</td>\n",
       "      <td>27</td>\n",
       "      <td>391522</td>\n",
       "      <td>word</td>\n",
       "      <td>אַבְרָ֖ם</td>\n",
       "      <td>&gt;BRM/</td>\n",
       "    </tr>\n",
       "  </tbody>\n",
       "</table>\n",
       "</div>"
      ],
      "text/plain": [
       "       R            S1  S2  S3   NODE1 TYPE1      TEXT1   lex1\n",
       "225  226      Nehemiah   9   7  387898  word  אַבְרָ֔ם   >BRM/\n",
       "227  228  1_Chronicles   1  27  391522  word  אַבְרָ֖ם   >BRM/"
      ]
     },
     "execution_count": 14,
     "metadata": {},
     "output_type": "execute_result"
    }
   ],
   "source": [
    "BHSAbrahamSearch[\n",
    "          (BHSAbrahamSearch['lex1'] == '>BRM/')\n",
    "        & (BHSAbrahamSearch['S1'] != 'Genesis')\n",
    "                ]"
   ]
  },
  {
   "cell_type": "code",
   "execution_count": 15,
   "metadata": {
    "ExecuteTime": {
     "end_time": "2022-12-22T15:18:14.269934Z",
     "start_time": "2022-12-22T15:18:14.249620Z"
    }
   },
   "outputs": [
    {
     "data": {
      "text/html": [
       "<div>\n",
       "<style scoped>\n",
       "    .dataframe tbody tr th:only-of-type {\n",
       "        vertical-align: middle;\n",
       "    }\n",
       "\n",
       "    .dataframe tbody tr th {\n",
       "        vertical-align: top;\n",
       "    }\n",
       "\n",
       "    .dataframe thead th {\n",
       "        text-align: right;\n",
       "    }\n",
       "</style>\n",
       "<table border=\"1\" class=\"dataframe\">\n",
       "  <thead>\n",
       "    <tr style=\"text-align: right;\">\n",
       "      <th></th>\n",
       "      <th>R</th>\n",
       "      <th>S1</th>\n",
       "      <th>S2</th>\n",
       "      <th>S3</th>\n",
       "      <th>NODE1</th>\n",
       "      <th>TYPE1</th>\n",
       "      <th>TEXT1</th>\n",
       "      <th>lex1</th>\n",
       "    </tr>\n",
       "  </thead>\n",
       "  <tbody>\n",
       "    <tr>\n",
       "      <th>50</th>\n",
       "      <td>51</td>\n",
       "      <td>Genesis</td>\n",
       "      <td>16</td>\n",
       "      <td>6</td>\n",
       "      <td>7141</td>\n",
       "      <td>word</td>\n",
       "      <td>אַבְרָ֜ם</td>\n",
       "      <td>&gt;BRM/</td>\n",
       "    </tr>\n",
       "    <tr>\n",
       "      <th>51</th>\n",
       "      <td>52</td>\n",
       "      <td>Genesis</td>\n",
       "      <td>16</td>\n",
       "      <td>15</td>\n",
       "      <td>7298</td>\n",
       "      <td>word</td>\n",
       "      <td>אַבְרָ֖ם</td>\n",
       "      <td>&gt;BRM/</td>\n",
       "    </tr>\n",
       "    <tr>\n",
       "      <th>52</th>\n",
       "      <td>53</td>\n",
       "      <td>Genesis</td>\n",
       "      <td>16</td>\n",
       "      <td>15</td>\n",
       "      <td>7302</td>\n",
       "      <td>word</td>\n",
       "      <td>אַבְרָ֧ם</td>\n",
       "      <td>&gt;BRM/</td>\n",
       "    </tr>\n",
       "    <tr>\n",
       "      <th>53</th>\n",
       "      <td>54</td>\n",
       "      <td>Genesis</td>\n",
       "      <td>16</td>\n",
       "      <td>16</td>\n",
       "      <td>7310</td>\n",
       "      <td>word</td>\n",
       "      <td>אַבְרָ֕ם</td>\n",
       "      <td>&gt;BRM/</td>\n",
       "    </tr>\n",
       "    <tr>\n",
       "      <th>54</th>\n",
       "      <td>55</td>\n",
       "      <td>Genesis</td>\n",
       "      <td>16</td>\n",
       "      <td>16</td>\n",
       "      <td>7323</td>\n",
       "      <td>word</td>\n",
       "      <td>אַבְרָֽם׃ ס</td>\n",
       "      <td>&gt;BRM/</td>\n",
       "    </tr>\n",
       "    <tr>\n",
       "      <th>55</th>\n",
       "      <td>56</td>\n",
       "      <td>Genesis</td>\n",
       "      <td>17</td>\n",
       "      <td>1</td>\n",
       "      <td>7326</td>\n",
       "      <td>word</td>\n",
       "      <td>אַבְרָ֔ם</td>\n",
       "      <td>&gt;BRM/</td>\n",
       "    </tr>\n",
       "    <tr>\n",
       "      <th>56</th>\n",
       "      <td>57</td>\n",
       "      <td>Genesis</td>\n",
       "      <td>17</td>\n",
       "      <td>1</td>\n",
       "      <td>7337</td>\n",
       "      <td>word</td>\n",
       "      <td>אַבְרָ֗ם</td>\n",
       "      <td>&gt;BRM/</td>\n",
       "    </tr>\n",
       "    <tr>\n",
       "      <th>57</th>\n",
       "      <td>58</td>\n",
       "      <td>Genesis</td>\n",
       "      <td>17</td>\n",
       "      <td>3</td>\n",
       "      <td>7364</td>\n",
       "      <td>word</td>\n",
       "      <td>אַבְרָ֖ם</td>\n",
       "      <td>&gt;BRM/</td>\n",
       "    </tr>\n",
       "    <tr>\n",
       "      <th>58</th>\n",
       "      <td>59</td>\n",
       "      <td>Genesis</td>\n",
       "      <td>17</td>\n",
       "      <td>5</td>\n",
       "      <td>7389</td>\n",
       "      <td>word</td>\n",
       "      <td>אַבְרָ֑ם</td>\n",
       "      <td>&gt;BRM/</td>\n",
       "    </tr>\n",
       "    <tr>\n",
       "      <th>225</th>\n",
       "      <td>226</td>\n",
       "      <td>Nehemiah</td>\n",
       "      <td>9</td>\n",
       "      <td>7</td>\n",
       "      <td>387898</td>\n",
       "      <td>word</td>\n",
       "      <td>אַבְרָ֔ם</td>\n",
       "      <td>&gt;BRM/</td>\n",
       "    </tr>\n",
       "    <tr>\n",
       "      <th>227</th>\n",
       "      <td>228</td>\n",
       "      <td>1_Chronicles</td>\n",
       "      <td>1</td>\n",
       "      <td>27</td>\n",
       "      <td>391522</td>\n",
       "      <td>word</td>\n",
       "      <td>אַבְרָ֖ם</td>\n",
       "      <td>&gt;BRM/</td>\n",
       "    </tr>\n",
       "  </tbody>\n",
       "</table>\n",
       "</div>"
      ],
      "text/plain": [
       "       R            S1  S2  S3   NODE1 TYPE1         TEXT1   lex1\n",
       "50    51       Genesis  16   6    7141  word     אַבְרָ֜ם   >BRM/\n",
       "51    52       Genesis  16  15    7298  word     אַבְרָ֖ם   >BRM/\n",
       "52    53       Genesis  16  15    7302  word     אַבְרָ֧ם   >BRM/\n",
       "53    54       Genesis  16  16    7310  word     אַבְרָ֕ם   >BRM/\n",
       "54    55       Genesis  16  16    7323  word  אַבְרָֽם׃ ס   >BRM/\n",
       "55    56       Genesis  17   1    7326  word     אַבְרָ֔ם   >BRM/\n",
       "56    57       Genesis  17   1    7337  word     אַבְרָ֗ם   >BRM/\n",
       "57    58       Genesis  17   3    7364  word     אַבְרָ֖ם   >BRM/\n",
       "58    59       Genesis  17   5    7389  word     אַבְרָ֑ם   >BRM/\n",
       "225  226      Nehemiah   9   7  387898  word     אַבְרָ֔ם   >BRM/\n",
       "227  228  1_Chronicles   1  27  391522  word     אַבְרָ֖ם   >BRM/"
      ]
     },
     "execution_count": 15,
     "metadata": {},
     "output_type": "execute_result"
    }
   ],
   "source": [
    "BHSAbrahamSearch[\n",
    "          (BHSAbrahamSearch['lex1'] == '>BRM/')\n",
    "        & (BHSAbrahamSearch['R'] > 50 )\n",
    "                ]"
   ]
  },
  {
   "cell_type": "code",
   "execution_count": 16,
   "metadata": {
    "ExecuteTime": {
     "end_time": "2022-12-22T15:18:14.725295Z",
     "start_time": "2022-12-22T15:18:14.701133Z"
    }
   },
   "outputs": [
    {
     "data": {
      "text/html": [
       "<div>\n",
       "<style scoped>\n",
       "    .dataframe tbody tr th:only-of-type {\n",
       "        vertical-align: middle;\n",
       "    }\n",
       "\n",
       "    .dataframe tbody tr th {\n",
       "        vertical-align: top;\n",
       "    }\n",
       "\n",
       "    .dataframe thead th {\n",
       "        text-align: right;\n",
       "    }\n",
       "</style>\n",
       "<table border=\"1\" class=\"dataframe\">\n",
       "  <thead>\n",
       "    <tr style=\"text-align: right;\">\n",
       "      <th></th>\n",
       "      <th>R</th>\n",
       "      <th>S1</th>\n",
       "      <th>S2</th>\n",
       "      <th>S3</th>\n",
       "      <th>NODE1</th>\n",
       "      <th>TYPE1</th>\n",
       "      <th>TEXT1</th>\n",
       "      <th>lex1</th>\n",
       "    </tr>\n",
       "  </thead>\n",
       "  <tbody>\n",
       "  </tbody>\n",
       "</table>\n",
       "</div>"
      ],
      "text/plain": [
       "Empty DataFrame\n",
       "Columns: [R, S1, S2, S3, NODE1, TYPE1, TEXT1, lex1]\n",
       "Index: []"
      ]
     },
     "execution_count": 16,
     "metadata": {},
     "output_type": "execute_result"
    }
   ],
   "source": [
    "BHSAbrahamSearch[\n",
    "          (BHSAbrahamSearch['lex1'] == '>BRM/')\n",
    "        & (BHSAbrahamSearch['S1'] == 'Genesis')\n",
    "        & (BHSAbrahamSearch['S2'] > 17 )\n",
    "                ]"
   ]
  },
  {
   "cell_type": "markdown",
   "metadata": {},
   "source": [
    "In Genesis \"Abram\" does not appear after chapter 17."
   ]
  },
  {
   "cell_type": "markdown",
   "metadata": {},
   "source": [
    "# Data Visualization\n",
    "## Simple Bar Plotting"
   ]
  },
  {
   "cell_type": "code",
   "execution_count": 17,
   "metadata": {
    "ExecuteTime": {
     "end_time": "2022-12-22T15:18:16.130237Z",
     "start_time": "2022-12-22T15:18:16.014820Z"
    }
   },
   "outputs": [
    {
     "data": {
      "image/png": "[encoded data removed]",
      "text/plain": [
       "<Figure size 400x400 with 1 Axes>"
      ]
     },
     "metadata": {},
     "output_type": "display_data"
    }
   ],
   "source": [
    "figure(num=None, figsize=(5, 5), dpi=80, facecolor='w', edgecolor='k')\n",
    "BHSAbrahamSearch.groupby(\"S1\").size().sort_values(ascending=True).plot.barh()\n",
    "\n",
    "plt.title('Distribution of Abraham and Abram\"')\n",
    "\n",
    "plt.xlabel('Occurenace of Abraham and Abram\"')\n",
    "plt.ylabel('OT books')\n",
    "\n",
    "plt.show()"
   ]
  },
  {
   "cell_type": "code",
   "execution_count": 18,
   "metadata": {
    "ExecuteTime": {
     "end_time": "2022-12-22T15:18:16.637659Z",
     "start_time": "2022-12-22T15:18:16.554035Z"
    }
   },
   "outputs": [
    {
     "data": {
      "image/png": "[encoded data removed]",
      "text/plain": [
       "<Figure size 400x400 with 1 Axes>"
      ]
     },
     "metadata": {},
     "output_type": "display_data"
    }
   ],
   "source": [
    "figure(num=None, figsize=(5, 5), dpi=80, facecolor='w', edgecolor='k')\n",
    "NTAbrahamSearchLex.groupby(\"S1\").size().sort_values(ascending=True).plot.barh()\n",
    "plt.xlabel('occurence of \"Abraham\"')\n",
    "plt.ylabel('NT books')\n",
    "plt.title('distribution of Abraham')\n",
    "plt.show()"
   ]
  },
  {
   "cell_type": "markdown",
   "metadata": {},
   "source": [
    "## Simple Scatter-Plotting"
   ]
  },
  {
   "cell_type": "code",
   "execution_count": 17,
   "metadata": {},
   "outputs": [
    {
     "data": {
      "image/png": "[encoded data removed]",
      "text/plain": [
       "<Figure size 1700x100 with 1 Axes>"
      ]
     },
     "metadata": {},
     "output_type": "display_data"
    }
   ],
   "source": [
    "fig, ax = plt.subplots()\n",
    "fig.set_size_inches(17, 1)\n",
    "\n",
    "for S1, df in BHSAbrahamSearch.groupby('lex1'):\n",
    "    ax.scatter(x=\"S1\", y=\"lex1\", data=df, label=S1)\n",
    "\n",
    "ax.set_xlabel(\"predicates used by YHWH as subject\")\n",
    "ax.set_ylabel(\"book\")\n",
    "ax.legend();"
   ]
  },
  {
   "cell_type": "markdown",
   "metadata": {},
   "source": [
    "## Simple ImPlotting with Seaborn"
   ]
  },
  {
   "cell_type": "code",
   "execution_count": 18,
   "metadata": {},
   "outputs": [
    {
     "data": {
      "text/plain": [
       "Text(0.5, 28.999999999999986, 'OT books')"
      ]
     },
     "execution_count": 18,
     "metadata": {},
     "output_type": "execute_result"
    },
    {
     "data": {
      "image/png": "[encoded data removed]",
      "text/plain": [
       "<Figure size 1274.67x500 with 1 Axes>"
      ]
     },
     "metadata": {},
     "output_type": "display_data"
    }
   ],
   "source": [
    "sns.lmplot(x=\"S1\", y=\"R\", data=BHSAbrahamSearch, hue='lex1', height=5, aspect=7/3, fit_reg=False, scatter_kws={\"s\": 200})\n",
    "ax = plt.gca()\n",
    "ax.set_ylabel('Number of occurence of ImpChainType')\n",
    "ax.set_xlabel('OT books')"
   ]
  },
  {
   "cell_type": "code",
   "execution_count": 19,
   "metadata": {},
   "outputs": [
    {
     "data": {
      "text/plain": [
       "Text(0.5, 28.999999999999986, 'NT books')"
      ]
     },
     "execution_count": 19,
     "metadata": {},
     "output_type": "execute_result"
    },
    {
     "data": {
      "image/png": "[encoded data removed]",
      "text/plain": [
       "<Figure size 1613x500 with 1 Axes>"
      ]
     },
     "metadata": {},
     "output_type": "display_data"
    }
   ],
   "source": [
    "sns.lmplot(x=\"S1\", y=\"R\", data=NTAbrahamSearchLex, hue='TEXT1', height=5, aspect=9/3, fit_reg=False, scatter_kws={\"s\": 200})\n",
    "ax = plt.gca()\n",
    "ax.set_ylabel('Number of occurence of ImpChainType')\n",
    "ax.set_xlabel('NT books')"
   ]
  },
  {
   "cell_type": "code",
   "execution_count": 20,
   "metadata": {},
   "outputs": [
    {
     "data": {
      "text/plain": [
       "Text(0.5, 28.999999999999986, 'NT books')"
      ]
     },
     "execution_count": 20,
     "metadata": {},
     "output_type": "execute_result"
    },
    {
     "data": {
      "image/png": "[encoded data removed]",
      "text/plain": [
       "<Figure size 1606.88x500 with 1 Axes>"
      ]
     },
     "metadata": {},
     "output_type": "display_data"
    }
   ],
   "source": [
    "sns.lmplot(x=\"S1\", y=\"R\", data=NTeutheos, hue='TEXT1', height=5, aspect=9/3, fit_reg=False, scatter_kws={\"s\": 200})\n",
    "ax = plt.gca()\n",
    "ax.set_ylabel('Number of occurence of ευθυς')\n",
    "ax.set_xlabel('NT books')"
   ]
  },
  {
   "cell_type": "markdown",
   "metadata": {},
   "source": [
    "## Simple Pie-Plotting"
   ]
  },
  {
   "cell_type": "code",
   "execution_count": 19,
   "metadata": {
    "ExecuteTime": {
     "end_time": "2022-12-22T15:18:23.054947Z",
     "start_time": "2022-12-22T15:18:22.986570Z"
    }
   },
   "outputs": [
    {
     "data": {
      "image/png": "[encoded data removed]",
      "text/plain": [
       "<Figure size 640x480 with 1 Axes>"
      ]
     },
     "metadata": {},
     "output_type": "display_data"
    }
   ],
   "source": [
    "BHSAbrahamSearch.lex1.value_counts(sort=False).plot.pie(autopct='%1.0f%%', shadow=True, startangle=140)\n",
    "plt.show()"
   ]
  },
  {
   "cell_type": "markdown",
   "metadata": {},
   "source": [
    "# Assignments"
   ]
  },
  {
   "cell_type": "markdown",
   "metadata": {},
   "source": [
    "1. Import one of your own TF queries form the previous assignment (previous tutorial) and import it as a pandas dataframe.\n",
    "2. Experiment with the different data-mining options you have learned in this notebook.\n",
    "3. Make a simple plot of your choice to represent your query result."
   ]
  },
  {
   "cell_type": "markdown",
   "metadata": {},
   "source": [
    "# Whats Next?: Complex Query building\n",
    "1. We will build VocabLists for Hebrew and Greek courses that you have to teach in the future.\n",
    "2. We will us the remaining time to get issues and questions resolved.\n",
    "3. We will learn the basic architecture of the BHS and the Tischendorf database.\n",
    "4. Understanding the database better will allow us to build sophisticated queries, including syntax queries..."
   ]
  }
 ],
 "metadata": {
  "kernelspec": {
   "display_name": "Python 3 (ipykernel)",
   "language": "python",
   "name": "python3"
  },
  "language_info": {
   "codemirror_mode": {
    "name": "ipython",
    "version": 3
   },
   "file_extension": ".py",
   "mimetype": "text/x-python",
   "name": "python",
   "nbconvert_exporter": "python",
   "pygments_lexer": "ipython3",
   "version": "3.9.12"
  },
  "toc": {
   "base_numbering": 1,
   "nav_menu": {},
   "number_sections": true,
   "sideBar": true,
   "skip_h1_title": false,
   "title_cell": "Table of Contents",
   "title_sidebar": "Contents",
   "toc_cell": false,
   "toc_position": {
    "height": "calc(100% - 180px)",
    "left": "10px",
    "top": "150px",
    "width": "204px"
   },
   "toc_section_display": true,
   "toc_window_display": true
  },
  "toc-autonumbering": true,
  "toc-showmarkdowntxt": true
 },
 "nbformat": 4,
 "nbformat_minor": 4
}

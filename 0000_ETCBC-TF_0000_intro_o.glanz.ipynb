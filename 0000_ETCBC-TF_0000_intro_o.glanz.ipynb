{
 "cells": [
  {
   "cell_type": "markdown",
   "metadata": {},
   "source": [
    "# Introduction to ```Jupyter Notebooks```\n",
    "## What is a notebook?\n",
    "Jupyter Notebooks are the ideal environment for doing python (its a programming language) based research in both the sciences and humanities.\n",
    "\n",
    "Each notebook conissts of two types of cell blocks:\n",
    "1. Mardown cells \n",
    "2. Code cells\n",
    "\n",
    "The markdown cells are used to describe what one is doing in the code cells.\n",
    "\n",
    "The code cells are used in order to write code and execute it.\n",
    "The next cell is a code cell with a very simple code:"
   ]
  },
  {
   "cell_type": "code",
   "execution_count": 1,
   "metadata": {},
   "outputs": [
    {
     "name": "stdout",
     "output_type": "stream",
     "text": [
      "5 times 3 is 15\n"
     ]
    }
   ],
   "source": [
    "x=5\n",
    "y=3\n",
    "\n",
    "print(x, \"times\", y, \"is\", x*y)"
   ]
  },
  {
   "cell_type": "markdown",
   "metadata": {},
   "source": [
    "This cell block is a markdown cell. You can double click with your mouse on this cell and you will see the Markdown codes used to write this cell block. All important Markdown commands can be found in this handy Markdown Cheat Sheet: https://github.com/adam-p/markdown-here/wiki/Markdown-Cheatsheet.\n",
    "\n",
    "## Installing the necessary environment to run jupyter notebooks\n",
    "1. Go to https://www.anaconda.com/distribution/ and download the Phython 3.7 version for your platform (available for Linux, MacOS, Windows).\n",
    "\n",
    "2. After Anaconda has been installed start the ```Anaconda prompt``` terminal.\n",
    "\n",
    "3. Once the terminal is available you want to install the TextFabric environment that holds all the biblical data of the ETCBC research group (http://etcbc.nl/). You do so by writing the following command into the terminal:\n",
    "\n",
    "``` \n",
    "pip3 install text-fabric\n",
    "``` \n",
    "or when you are on windows \n",
    "```\n",
    "pip install text-fabric\n",
    "```\n",
    "\n",
    "After TF has been installed run the following command to make sure that you have upgraded to the latest TF version:\n",
    "\n",
    "```\n",
    "pip3 install --upgrade text-fabric\n",
    "```\n",
    "or when you are on windows\n",
    "```\n",
    "pip install --upgrade text-fabric\n",
    "```\n",
    "\n",
    "## Starting a jupyter notebook\n",
    "1. Now all the tools are installed for doing our exegetical research. Lets fire up Jupyter Notebooks by executing the command ```jupyter notebook``` in your Anaconda prompt termnal.\n",
    "2. Check where your default folder is located and copy this notebook into that folder.\n",
    "3. Start this folder by clicking on the notebook name within your jupyter's folder overview.\n",
    "\n",
    "## Loading important apps\n",
    "This very jupyter notebook is now running in your browser!\n",
    "Lets load some important python apps so that we can start writing our first queries.\n",
    "\n",
    "Run the code cells below."
   ]
  },
  {
   "cell_type": "code",
   "execution_count": 2,
   "metadata": {},
   "outputs": [],
   "source": [
    "%load_ext autoreload\n",
    "%autoreload 2"
   ]
  },
  {
   "cell_type": "code",
   "execution_count": 3,
   "metadata": {},
   "outputs": [],
   "source": [
    "# First, I have to laod different modules that I use for analyzing the data and for plotting:\n",
    "import sys, os, collections\n",
    "import pandas as pd\n",
    "import numpy as np\n",
    "import seaborn as sns\n",
    "import matplotlib.pyplot as plt; plt.rcdefaults()\n",
    "from matplotlib.pyplot import figure\n",
    "from collections import Counter\n",
    "\n",
    "# Second, I have to load the Text Fabric app\n",
    "from tf.fabric import Fabric\n",
    "from tf.app import use"
   ]
  },
  {
   "cell_type": "markdown",
   "metadata": {},
   "source": [
    "# Introduction to ```TF``` Textfabric - the Python way of doing ```SHEBANQ/MQL```\n",
    "\n",
    "After having loaded the TF app I need to load the Biblia Hebraica Stuttgartensia ```bhsa``` as a dataset that TF can work with."
   ]
  },
  {
   "cell_type": "code",
   "execution_count": 4,
   "metadata": {},
   "outputs": [
    {
     "name": "stdout",
     "output_type": "stream",
     "text": [
      "\tconnecting to online GitHub repo annotation/app-bhsa ... connected\n",
      "Using TF-app in C:\\Users\\Oliver Glanz/text-fabric-data/annotation/app-bhsa/code:\n",
      "\trv1.0=#d3cf8f0c2ab5d690a0fda14ea31c33da5c5c8483 (latest release)\n",
      "\tconnecting to online GitHub repo etcbc/bhsa ... connected\n",
      "Using data in C:\\Users\\Oliver Glanz/text-fabric-data/etcbc/bhsa/tf/c:\n",
      "\trv1.6=#bac4a9f5a2bbdede96ba6caea45e762fe88f88c5 (latest release)\n",
      "\tconnecting to online GitHub repo etcbc/phono ... connected\n",
      "Using data in C:\\Users\\Oliver Glanz/text-fabric-data/etcbc/phono/tf/c:\n",
      "\tr1.2 (latest release)\n",
      "\tconnecting to online GitHub repo etcbc/parallels ... connected\n",
      "Using data in C:\\Users\\Oliver Glanz/text-fabric-data/etcbc/parallels/tf/c:\n",
      "\tr1.2 (latest release)\n"
     ]
    },
    {
     "data": {
      "text/html": [
       "<b>Documentation:</b> <a target=\"_blank\" href=\"https://etcbc.github.io/bhsa\" title=\"provenance of BHSA = Biblia Hebraica Stuttgartensia Amstelodamensis\">BHSA</a> <a target=\"_blank\" href=\"https://annotation.github.io/text-fabric/Writing/Hebrew\" title=\"('Hebrew characters and transcriptions',)\">Character table</a> <a target=\"_blank\" href=\"https://etcbc.github.io/bhsa/features/0_home\" title=\"BHSA feature documentation\">Feature docs</a> <a target=\"_blank\" href=\"https://github.com/annotation/app-bhsa\" title=\"bhsa API documentation\">bhsa API</a> <a target=\"_blank\" href=\"https://annotation.github.io/text-fabric/Api/Fabric/\" title=\"text-fabric-api\">Text-Fabric API 7.8.0</a> <a target=\"_blank\" href=\"https://annotation.github.io/text-fabric/Use/Search/\" title=\"Search Templates Introduction and Reference\">Search Reference</a><details open><summary><b>Loaded features</b>:</summary>\n",
       "<p><b>BHSA = Biblia Hebraica Stuttgartensia Amstelodamensis</b>: <a target=\"_blank\" href=\"https://etcbc.github.io/bhsa/features/book\" title=\"C:\\Users\\Oliver Glanz/text-fabric-data/etcbc/bhsa/tf/c/book.tf\">book</a>  <a target=\"_blank\" href=\"https://etcbc.github.io/bhsa/features/book@ll\" title=\"C:\\Users\\Oliver Glanz/text-fabric-data/etcbc/bhsa/tf/c/book@am.tf\">book@ll</a>  <a target=\"_blank\" href=\"https://etcbc.github.io/bhsa/features/chapter\" title=\"C:\\Users\\Oliver Glanz/text-fabric-data/etcbc/bhsa/tf/c/chapter.tf\">chapter</a>  <a target=\"_blank\" href=\"https://etcbc.github.io/bhsa/features/code\" title=\"C:\\Users\\Oliver Glanz/text-fabric-data/etcbc/bhsa/tf/c/code.tf\">code</a>  <a target=\"_blank\" href=\"https://etcbc.github.io/bhsa/features/det\" title=\"C:\\Users\\Oliver Glanz/text-fabric-data/etcbc/bhsa/tf/c/det.tf\">det</a>  <a target=\"_blank\" href=\"https://etcbc.github.io/bhsa/features/freq_lex\" title=\"C:\\Users\\Oliver Glanz/text-fabric-data/etcbc/bhsa/tf/c/freq_lex.tf\">freq_lex</a>  <a target=\"_blank\" href=\"https://etcbc.github.io/bhsa/features/function\" title=\"C:\\Users\\Oliver Glanz/text-fabric-data/etcbc/bhsa/tf/c/function.tf\">function</a>  <a target=\"_blank\" href=\"https://etcbc.github.io/bhsa/features/g_cons\" title=\"C:\\Users\\Oliver Glanz/text-fabric-data/etcbc/bhsa/tf/c/g_cons.tf\">g_cons</a>  <a target=\"_blank\" href=\"https://etcbc.github.io/bhsa/features/g_cons_utf8\" title=\"C:\\Users\\Oliver Glanz/text-fabric-data/etcbc/bhsa/tf/c/g_cons_utf8.tf\">g_cons_utf8</a>  <a target=\"_blank\" href=\"https://etcbc.github.io/bhsa/features/g_lex\" title=\"C:\\Users\\Oliver Glanz/text-fabric-data/etcbc/bhsa/tf/c/g_lex.tf\">g_lex</a>  <a target=\"_blank\" href=\"https://etcbc.github.io/bhsa/features/g_lex_utf8\" title=\"C:\\Users\\Oliver Glanz/text-fabric-data/etcbc/bhsa/tf/c/g_lex_utf8.tf\">g_lex_utf8</a>  <a target=\"_blank\" href=\"https://etcbc.github.io/bhsa/features/g_word\" title=\"C:\\Users\\Oliver Glanz/text-fabric-data/etcbc/bhsa/tf/c/g_word.tf\">g_word</a>  <a target=\"_blank\" href=\"https://etcbc.github.io/bhsa/features/g_word_utf8\" title=\"C:\\Users\\Oliver Glanz/text-fabric-data/etcbc/bhsa/tf/c/g_word_utf8.tf\">g_word_utf8</a>  <a target=\"_blank\" href=\"https://etcbc.github.io/bhsa/features/gloss\" title=\"C:\\Users\\Oliver Glanz/text-fabric-data/etcbc/bhsa/tf/c/gloss.tf\">gloss</a>  <a target=\"_blank\" href=\"https://etcbc.github.io/bhsa/features/gn\" title=\"C:\\Users\\Oliver Glanz/text-fabric-data/etcbc/bhsa/tf/c/gn.tf\">gn</a>  <a target=\"_blank\" href=\"https://etcbc.github.io/bhsa/features/label\" title=\"C:\\Users\\Oliver Glanz/text-fabric-data/etcbc/bhsa/tf/c/label.tf\">label</a>  <a target=\"_blank\" href=\"https://etcbc.github.io/bhsa/features/language\" title=\"C:\\Users\\Oliver Glanz/text-fabric-data/etcbc/bhsa/tf/c/language.tf\">language</a>  <a target=\"_blank\" href=\"https://etcbc.github.io/bhsa/features/lex\" title=\"C:\\Users\\Oliver Glanz/text-fabric-data/etcbc/bhsa/tf/c/lex.tf\">lex</a>  <a target=\"_blank\" href=\"https://etcbc.github.io/bhsa/features/lex_utf8\" title=\"C:\\Users\\Oliver Glanz/text-fabric-data/etcbc/bhsa/tf/c/lex_utf8.tf\">lex_utf8</a>  <a target=\"_blank\" href=\"https://etcbc.github.io/bhsa/features/ls\" title=\"C:\\Users\\Oliver Glanz/text-fabric-data/etcbc/bhsa/tf/c/ls.tf\">ls</a>  <a target=\"_blank\" href=\"https://etcbc.github.io/bhsa/features/nametype\" title=\"C:\\Users\\Oliver Glanz/text-fabric-data/etcbc/bhsa/tf/c/nametype.tf\">nametype</a>  <a target=\"_blank\" href=\"https://etcbc.github.io/bhsa/features/nu\" title=\"C:\\Users\\Oliver Glanz/text-fabric-data/etcbc/bhsa/tf/c/nu.tf\">nu</a>  <a target=\"_blank\" href=\"https://etcbc.github.io/bhsa/features/number\" title=\"C:\\Users\\Oliver Glanz/text-fabric-data/etcbc/bhsa/tf/c/number.tf\">number</a>  <a target=\"_blank\" href=\"https://etcbc.github.io/bhsa/features/otype\" title=\"C:\\Users\\Oliver Glanz/text-fabric-data/etcbc/bhsa/tf/c/otype.tf\">otype</a>  <a target=\"_blank\" href=\"https://etcbc.github.io/bhsa/features/pdp\" title=\"C:\\Users\\Oliver Glanz/text-fabric-data/etcbc/bhsa/tf/c/pdp.tf\">pdp</a>  <a target=\"_blank\" href=\"https://etcbc.github.io/bhsa/features/prs_gn\" title=\"C:\\Users\\Oliver Glanz/text-fabric-data/etcbc/bhsa/tf/c/prs_gn.tf\">prs_gn</a>  <a target=\"_blank\" href=\"https://etcbc.github.io/bhsa/features/prs_nu\" title=\"C:\\Users\\Oliver Glanz/text-fabric-data/etcbc/bhsa/tf/c/prs_nu.tf\">prs_nu</a>  <a target=\"_blank\" href=\"https://etcbc.github.io/bhsa/features/prs_ps\" title=\"C:\\Users\\Oliver Glanz/text-fabric-data/etcbc/bhsa/tf/c/prs_ps.tf\">prs_ps</a>  <a target=\"_blank\" href=\"https://etcbc.github.io/bhsa/features/ps\" title=\"C:\\Users\\Oliver Glanz/text-fabric-data/etcbc/bhsa/tf/c/ps.tf\">ps</a>  <a target=\"_blank\" href=\"https://etcbc.github.io/bhsa/features/qere\" title=\"C:\\Users\\Oliver Glanz/text-fabric-data/etcbc/bhsa/tf/c/qere.tf\">qere</a>  <a target=\"_blank\" href=\"https://etcbc.github.io/bhsa/features/qere_trailer\" title=\"C:\\Users\\Oliver Glanz/text-fabric-data/etcbc/bhsa/tf/c/qere_trailer.tf\">qere_trailer</a>  <a target=\"_blank\" href=\"https://etcbc.github.io/bhsa/features/qere_trailer_utf8\" title=\"C:\\Users\\Oliver Glanz/text-fabric-data/etcbc/bhsa/tf/c/qere_trailer_utf8.tf\">qere_trailer_utf8</a>  <a target=\"_blank\" href=\"https://etcbc.github.io/bhsa/features/qere_utf8\" title=\"C:\\Users\\Oliver Glanz/text-fabric-data/etcbc/bhsa/tf/c/qere_utf8.tf\">qere_utf8</a>  <a target=\"_blank\" href=\"https://etcbc.github.io/bhsa/features/rank_lex\" title=\"C:\\Users\\Oliver Glanz/text-fabric-data/etcbc/bhsa/tf/c/rank_lex.tf\">rank_lex</a>  <a target=\"_blank\" href=\"https://etcbc.github.io/bhsa/features/rela\" title=\"C:\\Users\\Oliver Glanz/text-fabric-data/etcbc/bhsa/tf/c/rela.tf\">rela</a>  <a target=\"_blank\" href=\"https://etcbc.github.io/bhsa/features/sp\" title=\"C:\\Users\\Oliver Glanz/text-fabric-data/etcbc/bhsa/tf/c/sp.tf\">sp</a>  <a target=\"_blank\" href=\"https://etcbc.github.io/bhsa/features/st\" title=\"C:\\Users\\Oliver Glanz/text-fabric-data/etcbc/bhsa/tf/c/st.tf\">st</a>  <a target=\"_blank\" href=\"https://etcbc.github.io/bhsa/features/trailer\" title=\"C:\\Users\\Oliver Glanz/text-fabric-data/etcbc/bhsa/tf/c/trailer.tf\">trailer</a>  <a target=\"_blank\" href=\"https://etcbc.github.io/bhsa/features/trailer_utf8\" title=\"C:\\Users\\Oliver Glanz/text-fabric-data/etcbc/bhsa/tf/c/trailer_utf8.tf\">trailer_utf8</a>  <a target=\"_blank\" href=\"https://etcbc.github.io/bhsa/features/txt\" title=\"C:\\Users\\Oliver Glanz/text-fabric-data/etcbc/bhsa/tf/c/txt.tf\">txt</a>  <a target=\"_blank\" href=\"https://etcbc.github.io/bhsa/features/typ\" title=\"C:\\Users\\Oliver Glanz/text-fabric-data/etcbc/bhsa/tf/c/typ.tf\">typ</a>  <a target=\"_blank\" href=\"https://etcbc.github.io/bhsa/features/verse\" title=\"C:\\Users\\Oliver Glanz/text-fabric-data/etcbc/bhsa/tf/c/verse.tf\">verse</a>  <a target=\"_blank\" href=\"https://etcbc.github.io/bhsa/features/voc_lex\" title=\"C:\\Users\\Oliver Glanz/text-fabric-data/etcbc/bhsa/tf/c/voc_lex.tf\">voc_lex</a>  <a target=\"_blank\" href=\"https://etcbc.github.io/bhsa/features/voc_lex_utf8\" title=\"C:\\Users\\Oliver Glanz/text-fabric-data/etcbc/bhsa/tf/c/voc_lex_utf8.tf\">voc_lex_utf8</a>  <a target=\"_blank\" href=\"https://etcbc.github.io/bhsa/features/vs\" title=\"C:\\Users\\Oliver Glanz/text-fabric-data/etcbc/bhsa/tf/c/vs.tf\">vs</a>  <a target=\"_blank\" href=\"https://etcbc.github.io/bhsa/features/vt\" title=\"C:\\Users\\Oliver Glanz/text-fabric-data/etcbc/bhsa/tf/c/vt.tf\">vt</a>  <b><i><a target=\"_blank\" href=\"https://etcbc.github.io/bhsa/features/mother\" title=\"C:\\Users\\Oliver Glanz/text-fabric-data/etcbc/bhsa/tf/c/mother.tf\">mother</a></i></b>  <b><i><a target=\"_blank\" href=\"https://etcbc.github.io/bhsa/features/oslots\" title=\"C:\\Users\\Oliver Glanz/text-fabric-data/etcbc/bhsa/tf/c/oslots.tf\">oslots</a></i></b> </p><p><b>Parallel Passages</b>: <b><i><a target=\"_blank\" href=\"https://nbviewer.jupyter.org/github/etcbc/parallels/blob/master/programs/parallels.ipynb\" title=\"C:\\Users\\Oliver Glanz/text-fabric-data/etcbc/parallels/tf/c/crossref.tf\">crossref</a></i></b> </p><p><b>Phonetic Transcriptions</b>: <a target=\"_blank\" href=\"https://nbviewer.jupyter.org/github/etcbc/phono/blob/master/programs/phono.ipynb\" title=\"C:\\Users\\Oliver Glanz/text-fabric-data/etcbc/phono/tf/c/phono.tf\">phono</a>  <a target=\"_blank\" href=\"https://nbviewer.jupyter.org/github/etcbc/phono/blob/master/programs/phono.ipynb\" title=\"C:\\Users\\Oliver Glanz/text-fabric-data/etcbc/phono/tf/c/phono_trailer.tf\">phono_trailer</a> </p></details>"
      ],
      "text/plain": [
       "<IPython.core.display.HTML object>"
      ]
     },
     "metadata": {},
     "output_type": "display_data"
    },
    {
     "data": {
      "text/html": [
       "<style>\n",
       "@font-face {\n",
       "  font-family: \"Ezra SIL\";\n",
       "  src:\n",
       "    local(\"SILEOT.ttf\"),\n",
       "    url(\"https://github.com/annotation/text-fabric/blob/master/tf/server/static/fonts/SILEOT.woff?raw=true\");\n",
       "}\n",
       ".features {\n",
       "    font-family: monospace;\n",
       "    font-size: medium;\n",
       "    font-weight: bold;\n",
       "    color: #0a6611;\n",
       "    display: flex;\n",
       "    flex-flow: column nowrap;\n",
       "    padding: 0.1em;\n",
       "    margin: 0.1em;\n",
       "    direction: ltr;\n",
       "}\n",
       ".features div,.features span {\n",
       "    padding: 0;\n",
       "    margin: -0.1rem 0;\n",
       "}\n",
       ".features .f {\n",
       "    font-family: sans-serif;\n",
       "    font-size: x-small;\n",
       "    font-weight: normal;\n",
       "    color: #5555bb;\n",
       "}\n",
       ".features .xft {\n",
       "  color: #000000;\n",
       "  background-color: #eeeeee;\n",
       "  font-size: medium;\n",
       "  margin: 0.1em 0em;\n",
       "}\n",
       ".features .xft .f {\n",
       "  color: #000000;\n",
       "  background-color: #eeeeee;\n",
       "  font-style: italic;\n",
       "  font-size: small;\n",
       "  font-weight: normal;\n",
       "}\n",
       ".ltr {\n",
       "    direction: ltr ! important;\n",
       "}\n",
       ".verse {\n",
       "    display: flex;\n",
       "    flex-flow: row wrap;\n",
       "    direction: rtl;\n",
       "}\n",
       ".vl {\n",
       "    display: flex;\n",
       "    flex-flow: column nowrap;\n",
       "    justify-content: flex-end;\n",
       "    align-items: flex-end;\n",
       "    direction: ltr;\n",
       "    width: 100%;\n",
       "}\n",
       ".outeritem {\n",
       "    display: flex;\n",
       "    flex-flow: row wrap;\n",
       "    direction: rtl;\n",
       "}\n",
       ".sentence,.clause,.phrase {\n",
       "    margin-top: -1.2em;\n",
       "    margin-left: 1em;\n",
       "    background: #ffffff none repeat scroll 0 0;\n",
       "    padding: 0 0.3em;\n",
       "    border-style: solid;\n",
       "    border-radius: 0.2em;\n",
       "    font-size: small;\n",
       "    display: block;\n",
       "    width: fit-content;\n",
       "    max-width: fit-content;\n",
       "    direction: ltr;\n",
       "}\n",
       ".atoms {\n",
       "    display: flex;\n",
       "    flex-flow: row wrap;\n",
       "    margin: 0.3em;\n",
       "    padding: 0.3em;\n",
       "    direction: rtl;\n",
       "    background-color: #ffffff;\n",
       "}\n",
       ".satom,.catom,.patom {\n",
       "    margin: 0.3em;\n",
       "    padding: 0.3em;\n",
       "    border-radius: 0.3em;\n",
       "    border-style: solid;\n",
       "    display: flex;\n",
       "    flex-flow: column nowrap;\n",
       "    direction: rtl;\n",
       "    background-color: #ffffff;\n",
       "}\n",
       ".sentence {\n",
       "    border-color: #aa3333;\n",
       "    border-width: 1px;\n",
       "}\n",
       ".clause {\n",
       "    border-color: #aaaa33;\n",
       "    border-width: 1px;\n",
       "}\n",
       ".phrase {\n",
       "    border-color: #33aaaa;\n",
       "    border-width: 1px;\n",
       "}\n",
       ".satom {\n",
       "    border-color: #aa3333;\n",
       "    border-width: 4px;\n",
       "}\n",
       ".catom {\n",
       "    border-color: #aaaa33;\n",
       "    border-width: 3px;\n",
       "}\n",
       ".patom {\n",
       "    border-color: #33aaaa;\n",
       "    border-width: 3px;\n",
       "}\n",
       ".word {\n",
       "    padding: 0.1em;\n",
       "    margin: 0.1em;\n",
       "    border-radius: 0.1em;\n",
       "    border: 1px solid #cccccc;\n",
       "    display: flex;\n",
       "    flex-flow: column nowrap;\n",
       "    direction: rtl;\n",
       "    background-color: #ffffff;\n",
       "}\n",
       ".lextp {\n",
       "    padding: 0.1em;\n",
       "    margin: 0.1em;\n",
       "    border-radius: 0.1em;\n",
       "    border: 2px solid #888888;\n",
       "    width: fit-content;\n",
       "    display: flex;\n",
       "    flex-flow: column nowrap;\n",
       "    direction: rtl;\n",
       "    background-color: #ffffff;\n",
       "}\n",
       ".occs {\n",
       "    font-size: x-small;\n",
       "}\n",
       ".satom.l,.catom.l,.patom.l {\n",
       "    border-left-style: dotted\n",
       "}\n",
       ".satom.r,.catom.r,.patom.r {\n",
       "    border-right-style: dotted\n",
       "}\n",
       ".satom.lno,.catom.lno,.patom.lno {\n",
       "    border-left-style: none\n",
       "}\n",
       ".satom.rno,.catom.rno,.patom.rno {\n",
       "    border-right-style: none\n",
       "}\n",
       ".tr,.tr a:visited,.tr a:link {\n",
       "    font-family: sans-serif;\n",
       "    font-size: large;\n",
       "    color: #000044;\n",
       "    direction: ltr;\n",
       "    text-decoration: none;\n",
       "}\n",
       ".trb,.trb a:visited,.trb a:link {\n",
       "    font-family: sans-serif;\n",
       "    font-size: normal;\n",
       "    direction: ltr;\n",
       "    text-decoration: none;\n",
       "}\n",
       ".prb,.prb a:visited,.prb a:link {\n",
       "    font-family: sans-serif;\n",
       "    font-size: large;\n",
       "    direction: ltr;\n",
       "    text-decoration: none;\n",
       "}\n",
       ".h,.h a:visited,.h a:link {\n",
       "    font-family: \"Ezra SIL\", \"SBL Hebrew\", sans-serif;\n",
       "    font-size: large;\n",
       "    color: #000044;\n",
       "    direction: rtl;\n",
       "    text-decoration: none;\n",
       "}\n",
       ".hb,.hb a:visited,.hb a:link {\n",
       "    font-family: \"Ezra SIL\", \"SBL Hebrew\", sans-serif;\n",
       "    font-size: large;\n",
       "    line-height: 2;\n",
       "    direction: rtl;\n",
       "    text-decoration: none;\n",
       "}\n",
       ".vn {\n",
       "  font-size: small !important;\n",
       "  padding-right: 1em;\n",
       "}\n",
       ".rela,.function,.typ {\n",
       "    font-family: monospace;\n",
       "    font-size: small;\n",
       "    color: #0000bb;\n",
       "}\n",
       ".pdp,.pdp a:visited,.pdp a:link {\n",
       "    font-family: monospace;\n",
       "    font-size: medium;\n",
       "    color: #0000bb;\n",
       "    text-decoration: none;\n",
       "}\n",
       ".voc_lex {\n",
       "    font-family: monospace;\n",
       "    font-size: medium;\n",
       "    color: #0000bb;\n",
       "}\n",
       ".vs {\n",
       "    font-family: monospace;\n",
       "    font-size: medium;\n",
       "    font-weight: bold;\n",
       "    color: #0000bb;\n",
       "}\n",
       ".vt {\n",
       "    font-family: monospace;\n",
       "    font-size: medium;\n",
       "    font-weight: bold;\n",
       "    color: #0000bb;\n",
       "}\n",
       ".gloss {\n",
       "    font-family: sans-serif;\n",
       "    font-size: small;\n",
       "    font-weight: normal;\n",
       "    color: #444444;\n",
       "}\n",
       ".vrs {\n",
       "    font-family: sans-serif;\n",
       "    font-size: small;\n",
       "    font-weight: bold;\n",
       "    color: #444444;\n",
       "}\n",
       ".nd {\n",
       "    font-family: monospace;\n",
       "    font-size: x-small;\n",
       "    color: #999999;\n",
       "}\n",
       ".hl {\n",
       "    background-color: #ffee66;\n",
       "}\n",
       "\n",
       "tr.tf, td.tf, th.tf {\n",
       "  text-align: left;\n",
       "}\n",
       "\n",
       "span.hldot {\n",
       "\tbackground-color: var(--hl-strong);\n",
       "\tborder: 0.2rem solid var(--hl-rim);\n",
       "\tborder-radius: 0.4rem;\n",
       "\t/*\n",
       "\tdisplay: inline-block;\n",
       "\twidth: 0.8rem;\n",
       "\theight: 0.8rem;\n",
       "\t*/\n",
       "}\n",
       "span.hl {\n",
       "\tbackground-color: var(--hl-strong);\n",
       "\tborder-width: 0;\n",
       "\tborder-radius: 0.1rem;\n",
       "\tborder-style: solid;\n",
       "}\n",
       "\n",
       "span.hlup {\n",
       "\tborder-color: var(--hl-dark);\n",
       "\tborder-width: 0.1rem;\n",
       "\tborder-style: solid;\n",
       "\tborder-radius: 0.2rem;\n",
       "  padding: 0.2rem;\n",
       "}\n",
       "\n",
       ":root {\n",
       "\t--hl-strong:        hsla( 60, 100%,  70%, 0.9  );\n",
       "\t--hl-rim:           hsla( 55, 100%,  60%, 0.9  );\n",
       "\t--hl-dark:          hsla( 55, 100%,  40%, 0.9  );\n",
       "}\n",
       "</style>"
      ],
      "text/plain": [
       "<IPython.core.display.HTML object>"
      ]
     },
     "metadata": {},
     "output_type": "display_data"
    },
    {
     "data": {
      "text/html": [
       "<details open><summary><b>API members</b>:</summary>\n",
       "<a target=\"_blank\" href=\"https://annotation.github.io/text-fabric/Api/Computed/#computed-data\" title=\"doc\">C Computed</a>, <a target=\"_blank\" href=\"https://annotation.github.io/text-fabric/Api/Computed/#computed-data\" title=\"doc\">Call AllComputeds</a>, <a target=\"_blank\" href=\"https://annotation.github.io/text-fabric/Api/Computed/#computed-data\" title=\"doc\">Cs ComputedString</a><br/>\n",
       "<a target=\"_blank\" href=\"https://annotation.github.io/text-fabric/Api/Features/#edge-features\" title=\"doc\">E Edge</a>, <a target=\"_blank\" href=\"https://annotation.github.io/text-fabric/Api/Features/#edge-features\" title=\"doc\">Eall AllEdges</a>, <a target=\"_blank\" href=\"https://annotation.github.io/text-fabric/Api/Features/#edge-features\" title=\"doc\">Es EdgeString</a><br/>\n",
       "<a target=\"_blank\" href=\"https://annotation.github.io/text-fabric/Api/Fabric/#loading\" title=\"doc\">ensureLoaded</a>, <a target=\"_blank\" href=\"https://annotation.github.io/text-fabric/Api/Fabric/#loading\" title=\"doc\">TF</a>, <a target=\"_blank\" href=\"https://annotation.github.io/text-fabric/Api/Fabric/#loading\" title=\"doc\">ignored</a>, <a target=\"_blank\" href=\"https://annotation.github.io/text-fabric/Api/Fabric/#loading\" title=\"doc\">loadLog</a><br/>\n",
       "<a target=\"_blank\" href=\"https://annotation.github.io/text-fabric/Api/Locality/#locality\" title=\"doc\">L Locality</a><br/>\n",
       "<a target=\"_blank\" href=\"https://annotation.github.io/text-fabric/Api/Misc/#messaging\" title=\"doc\">cache</a>, <a target=\"_blank\" href=\"https://annotation.github.io/text-fabric/Api/Misc/#messaging\" title=\"doc\">error</a>, <a target=\"_blank\" href=\"https://annotation.github.io/text-fabric/Api/Misc/#messaging\" title=\"doc\">indent</a>, <a target=\"_blank\" href=\"https://annotation.github.io/text-fabric/Api/Misc/#messaging\" title=\"doc\">info</a>, <a target=\"_blank\" href=\"https://annotation.github.io/text-fabric/Api/Misc/#messaging\" title=\"doc\">reset</a><br/>\n",
       "<a target=\"_blank\" href=\"https://annotation.github.io/text-fabric/Api/Nodes/#navigating-nodes\" title=\"doc\">N Nodes</a>, <a target=\"_blank\" href=\"https://annotation.github.io/text-fabric/Api/Nodes/#navigating-nodes\" title=\"doc\">sortKey</a>, <a target=\"_blank\" href=\"https://annotation.github.io/text-fabric/Api/Nodes/#navigating-nodes\" title=\"doc\">sortKeyTuple</a>, <a target=\"_blank\" href=\"https://annotation.github.io/text-fabric/Api/Nodes/#navigating-nodes\" title=\"doc\">otypeRank</a>, <a target=\"_blank\" href=\"https://annotation.github.io/text-fabric/Api/Nodes/#navigating-nodes\" title=\"doc\">sortNodes</a><br/>\n",
       "<a target=\"_blank\" href=\"https://annotation.github.io/text-fabric/Api/Features/#node-features\" title=\"doc\">F Feature</a>, <a target=\"_blank\" href=\"https://annotation.github.io/text-fabric/Api/Features/#node-features\" title=\"doc\">Fall AllFeatures</a>, <a target=\"_blank\" href=\"https://annotation.github.io/text-fabric/Api/Features/#node-features\" title=\"doc\">Fs FeatureString</a><br/>\n",
       "<a target=\"_blank\" href=\"https://annotation.github.io/text-fabric/Api/Search/#search\" title=\"doc\">S Search</a><br/>\n",
       "<a target=\"_blank\" href=\"https://annotation.github.io/text-fabric/Api/Text/#text\" title=\"doc\">T Text</a></details>"
      ],
      "text/plain": [
       "<IPython.core.display.HTML object>"
      ]
     },
     "metadata": {},
     "output_type": "display_data"
    }
   ],
   "source": [
    "A = use('bhsa', hoist=globals())"
   ]
  },
  {
   "cell_type": "markdown",
   "metadata": {},
   "source": [
    "# TF-BHS Queries\n",
    "## Building Simple Queries\n",
    "### Searching on the WORD-level\n",
    "#### Simple Word Search\n",
    "It follows a simple search for the word “Abraham” in the book of Genesis in the chapter 17-22.\n",
    "Some principles:\n",
    "1. each query has to start with `Queryname = ```` and needs to end with ` ````.\n",
    "2. *Indentation* plays an important role! In the following we are searching a word (YHWH) within a specific book (Genesis):\n",
    "```\n",
    "book=Genesis\n",
    "    word=JHWH/\n",
    "```\n",
    "3. After the query has been written it needs to be executed with the command `A.search(Queryname)`. Its best to give the results of the query a particular name (e.g. AbrahamSearchFindings).\n",
    "4. Finally, you want to choose for a proper representation of the data Here you can either choose for `A.show(QueryResults)` or for `A.table(QueryResults)`. Both have their specific advantages.\n",
    "5. There are several parameters that can be used to specify what one wants to see in the query result showing. These will be discussed in a later cell. For now, we only make use of `start`, `end`, and `condensed`. With `start=1` we define that we want to have the 1st query result being shown to us. With `end=7` we define that the last query result that we want to have shown to us is the 7th query result. With `condensed` we define that we want to see only one verse in the result showing, even if that one verse contains two query results (cf Gen 17:23 for the query below)."
   ]
  },
  {
   "cell_type": "code",
   "execution_count": 5,
   "metadata": {},
   "outputs": [
    {
     "name": "stdout",
     "output_type": "stream",
     "text": [
      "  0.40s 63 results\n"
     ]
    },
    {
     "data": {
      "text/html": [
       "<table>\n",
       "<tr class=\"tf\">\n",
       "  <th class=\"tf\">n</th><th class=\"tf\">p</th>\n",
       "  <th class=\"tf\">verse</th><th>word</th>\n",
       "</tr>\n",
       "\n",
       "<tr class=\"tf\"><td class=\"tf\">1</td><td class=\"tf\"> <a href=\"https://shebanq.ancient-data.org/hebrew/text?book=Genesis&amp;chapter=17&amp;verse=5&amp;version=c&amp;mr=m&amp;qw=q&amp;tp=txt_p&amp;tr=hb&amp;wget=v&amp;qget=v&amp;nget=vt\" title=\"show this passage in SHEBANQ\" sec=\"Genesis 17:5\">Genesis 17:5</a></td><td class=\"tf\"><span class=\"hb\"><a class=\"vn\" href=\"https://shebanq.ancient-data.org/hebrew/text?book=Genesis&amp;chapter=17&amp;verse=5&amp;version=c&amp;mr=m&amp;qw=q&amp;tp=txt_p&amp;tr=hb&amp;wget=v&amp;qget=v&amp;nget=vt\" title=\"Genesis 17:5\" sec=\"Genesis 17:5\"></a>וְלֹא־יִקָּרֵ֥א עֹ֛וד אֶת־שִׁמְךָ֖ אַבְרָ֑ם וְהָיָ֤ה שִׁמְךָ֙ <span  class=\"hl\" >אַבְרָהָ֔ם </span>כִּ֛י אַב־הֲמֹ֥ון גֹּויִ֖ם נְתַתִּֽיךָ׃ </span></td><td class=\"tf\"><span class=\"hb\"><span  class=\"hl\" >אַבְרָהָ֔ם </span></span></td></tr>\n",
       "<tr class=\"tf\"><td class=\"tf\">2</td><td class=\"tf\"> <a href=\"https://shebanq.ancient-data.org/hebrew/text?book=Genesis&amp;chapter=17&amp;verse=9&amp;version=c&amp;mr=m&amp;qw=q&amp;tp=txt_p&amp;tr=hb&amp;wget=v&amp;qget=v&amp;nget=vt\" title=\"show this passage in SHEBANQ\" sec=\"Genesis 17:9\">Genesis 17:9</a></td><td class=\"tf\"><span class=\"hb\"><a class=\"vn\" href=\"https://shebanq.ancient-data.org/hebrew/text?book=Genesis&amp;chapter=17&amp;verse=9&amp;version=c&amp;mr=m&amp;qw=q&amp;tp=txt_p&amp;tr=hb&amp;wget=v&amp;qget=v&amp;nget=vt\" title=\"Genesis 17:9\" sec=\"Genesis 17:9\"></a>וַיֹּ֤אמֶר אֱלֹהִים֙ אֶל־<span  class=\"hl\" >אַבְרָהָ֔ם </span>וְאַתָּ֖ה אֶת־בְּרִיתִ֣י תִשְׁמֹ֑ר אַתָּ֛ה וְזַרְעֲךָ֥ אַֽחֲרֶ֖יךָ לְדֹרֹתָֽם׃ </span></td><td class=\"tf\"><span class=\"hb\"><span  class=\"hl\" >אַבְרָהָ֔ם </span></span></td></tr>\n",
       "<tr class=\"tf\"><td class=\"tf\">3</td><td class=\"tf\"> <a href=\"https://shebanq.ancient-data.org/hebrew/text?book=Genesis&amp;chapter=17&amp;verse=15&amp;version=c&amp;mr=m&amp;qw=q&amp;tp=txt_p&amp;tr=hb&amp;wget=v&amp;qget=v&amp;nget=vt\" title=\"show this passage in SHEBANQ\" sec=\"Genesis 17:15\">Genesis 17:15</a></td><td class=\"tf\"><span class=\"hb\"><a class=\"vn\" href=\"https://shebanq.ancient-data.org/hebrew/text?book=Genesis&amp;chapter=17&amp;verse=15&amp;version=c&amp;mr=m&amp;qw=q&amp;tp=txt_p&amp;tr=hb&amp;wget=v&amp;qget=v&amp;nget=vt\" title=\"Genesis 17:15\" sec=\"Genesis 17:15\"></a>וַיֹּ֤אמֶר אֱלֹהִים֙ אֶל־<span  class=\"hl\" >אַבְרָהָ֔ם </span>שָׂרַ֣י אִשְׁתְּךָ֔ לֹא־תִקְרָ֥א אֶת־שְׁמָ֖הּ שָׂרָ֑י כִּ֥י שָׂרָ֖ה שְׁמָֽהּ׃ </span></td><td class=\"tf\"><span class=\"hb\"><span  class=\"hl\" >אַבְרָהָ֔ם </span></span></td></tr>\n",
       "<tr class=\"tf\"><td class=\"tf\">4</td><td class=\"tf\"> <a href=\"https://shebanq.ancient-data.org/hebrew/text?book=Genesis&amp;chapter=17&amp;verse=17&amp;version=c&amp;mr=m&amp;qw=q&amp;tp=txt_p&amp;tr=hb&amp;wget=v&amp;qget=v&amp;nget=vt\" title=\"show this passage in SHEBANQ\" sec=\"Genesis 17:17\">Genesis 17:17</a></td><td class=\"tf\"><span class=\"hb\"><a class=\"vn\" href=\"https://shebanq.ancient-data.org/hebrew/text?book=Genesis&amp;chapter=17&amp;verse=17&amp;version=c&amp;mr=m&amp;qw=q&amp;tp=txt_p&amp;tr=hb&amp;wget=v&amp;qget=v&amp;nget=vt\" title=\"Genesis 17:17\" sec=\"Genesis 17:17\"></a>וַיִּפֹּ֧ל <span  class=\"hl\" >אַבְרָהָ֛ם </span>עַל־פָּנָ֖יו וַיִּצְחָ֑ק וַיֹּ֣אמֶר בְּלִבֹּ֗ו הַלְּבֶ֤ן מֵאָֽה־שָׁנָה֙ יִוָּלֵ֔ד וְאִ֨ם־שָׂרָ֔ה הֲבַת־תִּשְׁעִ֥ים שָׁנָ֖ה תֵּלֵֽד׃ </span></td><td class=\"tf\"><span class=\"hb\"><span  class=\"hl\" >אַבְרָהָ֛ם </span></span></td></tr>\n",
       "<tr class=\"tf\"><td class=\"tf\">5</td><td class=\"tf\"> <a href=\"https://shebanq.ancient-data.org/hebrew/text?book=Genesis&amp;chapter=17&amp;verse=18&amp;version=c&amp;mr=m&amp;qw=q&amp;tp=txt_p&amp;tr=hb&amp;wget=v&amp;qget=v&amp;nget=vt\" title=\"show this passage in SHEBANQ\" sec=\"Genesis 17:18\">Genesis 17:18</a></td><td class=\"tf\"><span class=\"hb\"><a class=\"vn\" href=\"https://shebanq.ancient-data.org/hebrew/text?book=Genesis&amp;chapter=17&amp;verse=18&amp;version=c&amp;mr=m&amp;qw=q&amp;tp=txt_p&amp;tr=hb&amp;wget=v&amp;qget=v&amp;nget=vt\" title=\"Genesis 17:18\" sec=\"Genesis 17:18\"></a>וַיֹּ֥אמֶר <span  class=\"hl\" >אַבְרָהָ֖ם </span>אֶל־הָֽאֱלֹהִ֑ים ל֥וּ יִשְׁמָעֵ֖אל יִחְיֶ֥ה לְפָנֶֽיךָ׃ </span></td><td class=\"tf\"><span class=\"hb\"><span  class=\"hl\" >אַבְרָהָ֖ם </span></span></td></tr>\n",
       "<tr class=\"tf\"><td class=\"tf\">6</td><td class=\"tf\"> <a href=\"https://shebanq.ancient-data.org/hebrew/text?book=Genesis&amp;chapter=17&amp;verse=22&amp;version=c&amp;mr=m&amp;qw=q&amp;tp=txt_p&amp;tr=hb&amp;wget=v&amp;qget=v&amp;nget=vt\" title=\"show this passage in SHEBANQ\" sec=\"Genesis 17:22\">Genesis 17:22</a></td><td class=\"tf\"><span class=\"hb\"><a class=\"vn\" href=\"https://shebanq.ancient-data.org/hebrew/text?book=Genesis&amp;chapter=17&amp;verse=22&amp;version=c&amp;mr=m&amp;qw=q&amp;tp=txt_p&amp;tr=hb&amp;wget=v&amp;qget=v&amp;nget=vt\" title=\"Genesis 17:22\" sec=\"Genesis 17:22\"></a>וַיְכַ֖ל לְדַבֵּ֣ר אִתֹּ֑ו וַיַּ֣עַל אֱלֹהִ֔ים מֵעַ֖ל <span  class=\"hl\" >אַבְרָהָֽם׃ </span></span></td><td class=\"tf\"><span class=\"hb\"><span  class=\"hl\" >אַבְרָהָֽם׃ </span></span></td></tr>\n",
       "<tr class=\"tf\"><td class=\"tf\">7</td><td class=\"tf\"> <a href=\"https://shebanq.ancient-data.org/hebrew/text?book=Genesis&amp;chapter=17&amp;verse=23&amp;version=c&amp;mr=m&amp;qw=q&amp;tp=txt_p&amp;tr=hb&amp;wget=v&amp;qget=v&amp;nget=vt\" title=\"show this passage in SHEBANQ\" sec=\"Genesis 17:23\">Genesis 17:23</a></td><td class=\"tf\"><span class=\"hb\"><a class=\"vn\" href=\"https://shebanq.ancient-data.org/hebrew/text?book=Genesis&amp;chapter=17&amp;verse=23&amp;version=c&amp;mr=m&amp;qw=q&amp;tp=txt_p&amp;tr=hb&amp;wget=v&amp;qget=v&amp;nget=vt\" title=\"Genesis 17:23\" sec=\"Genesis 17:23\"></a>וַיִּקַּ֨ח <span  class=\"hl\" >אַבְרָהָ֜ם </span>אֶת־יִשְׁמָעֵ֣אל בְּנֹ֗ו וְאֵ֨ת כָּל־יְלִידֵ֤י בֵיתֹו֙ וְאֵת֙ כָּל־מִקְנַ֣ת כַּסְפֹּ֔ו כָּל־זָכָ֕ר בְּאַנְשֵׁ֖י בֵּ֣ית <span  class=\"hl\" >אַבְרָהָ֑ם </span>וַיָּ֜מָל אֶת־בְּשַׂ֣ר עָרְלָתָ֗ם בְּעֶ֨צֶם֙ הַיֹּ֣ום הַזֶּ֔ה כַּאֲשֶׁ֛ר דִּבֶּ֥ר אִתֹּ֖ו אֱלֹהִֽים׃ </span></td><td class=\"tf\"><span class=\"hb\"><span  class=\"hl\" >אַבְרָהָ֜ם </span></span></td><td class=\"tf\"><span class=\"hb\"><span  class=\"hl\" >אַבְרָהָ֑ם </span></span></td></tr></table>"
      ],
      "text/plain": [
       "<IPython.core.display.HTML object>"
      ]
     },
     "metadata": {},
     "output_type": "display_data"
    }
   ],
   "source": [
    "AbrahamSearch = '''\n",
    "verse book=Genesis chapter=17|18|19|10|21|22\n",
    "    word lex=>BRHM/\n",
    "'''\n",
    "AbrahamSearchFindings  = A.search(AbrahamSearch)\n",
    "A.table(AbrahamSearchFindings, start=1, end=7, condensed=True)\n",
    "\n",
    "## see SHEBANQ query results here: https://shebanq.ancient-data.org/hebrew/query?version=4b&id=1365 "
   ]
  },
  {
   "cell_type": "markdown",
   "metadata": {},
   "source": [
    "As you can see above, I used the latin transliteration for the word אברהם=>BRHM/.\n",
    "I prefer this as it allows me type quicker and not have to switch my keyboard back and forward. You can find the transliteration table here: https://annotation.github.io/text-fabric/Writing/Hebrew\n",
    "\n",
    "You can of course also choose to write in Hebrew script. \n",
    "\n",
    "```\n",
    "AbrahamSearch = '''\n",
    "verse book=Genesis chapter=17|18|19|10|21|22\n",
    "    word lex_utf8=אברהם\n",
    "'''\n",
    "```\n",
    "\n",
    "This will render the same results.\n",
    "\n",
    "With \"/\" at the end of >BRHM you define that word as a noun.\n",
    "\n",
    "With \"[\" at the end of a word you define that word as a verb.\n",
    "\n",
    "=> When you search for nouns you have to add “/” behind the word: \"DBR/\" (word)\n",
    "\n",
    "=> When you search for verbs you have to add “[“ behind the word. \"DBR[\" (to speak)\n",
    "\n",
    "If you want to save time with typing Hebrew words or transliterated words, you can just copy/paste them from a concrete text. For example:\n",
    "\n",
    "![alt text](https://e7kfoa.dm.files.1drv.com/y4pL_0Ui8KINjU_VpveK9fJwcZV7CSujp6bv7th8GjHOK739975f6dVWJU2Gftv0X4uTruoqUTZKM9tCNXsseyn8w6E87WfgiGfsPzHzvZVLloVHfHoKjgQ_dLDML3yLFhzxxWiydh80JJRdYdLs_TN9VbqzoNCWLrFPtCcVG_ijp6hEpkXq9nAWkgD-9kfD4WyJLtX6gYbgVHoz2LaCSS3Pw/Annotation%202019-06-09%20165506.jpg?psid=1 \"SHEBANQ Syntax visualiation\")"
   ]
  },
  {
   "cell_type": "markdown",
   "metadata": {},
   "source": [
    "#### Advanced Word Search\n",
    "Searching “Abraham” in clauses that contain a predicate in qatal(perfect) tense in the book of Genesis."
   ]
  },
  {
   "cell_type": "code",
   "execution_count": 6,
   "metadata": {},
   "outputs": [
    {
     "ename": "SyntaxError",
     "evalue": "invalid syntax (<ipython-input-6-2b3f081bf022>, line 9)",
     "output_type": "error",
     "traceback": [
      "\u001b[1;36m  File \u001b[1;32m\"<ipython-input-6-2b3f081bf022>\"\u001b[1;36m, line \u001b[1;32m9\u001b[0m\n\u001b[1;33m    A full list of verbal tenses can be found here:\u001b[0m\n\u001b[1;37m         ^\u001b[0m\n\u001b[1;31mSyntaxError\u001b[0m\u001b[1;31m:\u001b[0m invalid syntax\n"
     ]
    }
   ],
   "source": [
    "Abraham2='''\n",
    "book book=Genesis\n",
    "    clause\n",
    "        word vt=perf\n",
    "        word lex=>BRHM/\n",
    "'''\n",
    "Abraham2  = A.search(Abraham2)\n",
    "##### Codes for verbal tenses (vt)\n",
    "A full list of verbal tenses can be found here: \n",
    "https://etcbc.github.io/bhsa/features/vt/\n",
    "\n",
    "code|description\n",
    "---|---\n",
    "`perf` |perfect\n",
    "`impf` |imperfect\n",
    "`wayq` |wayyiqtol\n",
    "`impv` |imperative\n",
    "`infa` |infinitive (absolute)\n",
    "`infc` |infinitive (construct)\n",
    "`ptca` |participle\n",
    "`ptcp` |participle (passive)A.show(Abraham2, start=3, end=4, condensed=True)"
   ]
  },
  {
   "cell_type": "markdown",
   "metadata": {},
   "source": [
    "##### Codes for BHS books (books)\n",
    "A full list of verbal tenses can be found here: \n",
    "https://etcbc.github.io/bhsa/features/book/\n",
    "\n",
    "book | #chapters\n",
    "---|---\n",
    "`Genesis`      | 50\n",
    "`Exodus`       | 40\n",
    "`Leviticus`    | 27\n",
    "`Numeri`       | 36\n",
    "`Deuteronomium`| 34\n",
    "`Josua`        | 24\n",
    "`Judices`      | 21\n",
    "`Samuel_I`     | 31\n",
    "`Samuel_II`    | 24\n",
    "`Reges_I`      | 22\n",
    "`Reges_II`     | 25\n",
    "`Jesaia`       | 66\n",
    "`Jeremia`      | 52\n",
    "`Ezechiel`     | 48\n",
    "`Hosea`        | 14\n",
    "`Joel`         |  4\n",
    "`Amos`         |  9\n",
    "`Obadia`       |  1\n",
    "`Jona`         |  4\n",
    "`Micha`        |  7\n",
    "`Nahum`        |  3\n",
    "`Habakuk`      |  3\n",
    "`Zephania`     |  3\n",
    "`Haggai`       |  2\n",
    "`Sacharia`     | 14\n",
    "`Maleachi`     |  3\n",
    "`Psalmi`       |150\n",
    "`Iob`          | 42\n",
    "`Proverbia`    | 31\n",
    "`Ruth`         |  4\n",
    "`Canticum`     |  8\n",
    "`Ecclesiastes` | 12\n",
    "`Threni`       |  5\n",
    "`Esther`       | 10\n",
    "`Daniel`       | 12\n",
    "`Esra`         | 10\n",
    "`Nehemia`      | 13\n",
    "`Chronica_I`   | 29\n",
    "`Chronica_II`  | 35  \n",
    "\n",
    "##### Codes for verbal tenses (vt)\n",
    "A full list of verbal tenses can be found here: \n",
    "https://etcbc.github.io/bhsa/features/vt/\n",
    "\n",
    "code|description\n",
    "---|---\n",
    "`perf` |perfect\n",
    "`impf` |imperfect\n",
    "`wayq` |wayyiqtol\n",
    "`impv` |imperative\n",
    "`infa` |infinitive (absolute)\n",
    "`infc` |infinitive (construct)\n",
    "`ptca` |participle\n",
    "`ptcp` |participle (passive)"
   ]
  },
  {
   "cell_type": "markdown",
   "metadata": {},
   "source": [
    "#### Node Relations\n",
    "As one can see in the results the first case has first Abraham and then the yiqtol tense, while the second case has first the yiqtol tense and then Abraham. \n",
    "We can specify the relations between the elements by the following operators."
   ]
  },
  {
   "cell_type": "code",
   "execution_count": null,
   "metadata": {},
   "outputs": [],
   "source": [
    "S.relationsLegend()"
   ]
  },
  {
   "cell_type": "markdown",
   "metadata": {},
   "source": [
    "Lets now run the same query but define that the qatal (perfect tense) needs to **follow right after** the word Abraham."
   ]
  },
  {
   "cell_type": "code",
   "execution_count": null,
   "metadata": {},
   "outputs": [],
   "source": [
    "Abraham3='''\n",
    "book book=Genesis\n",
    "    clause\n",
    "        word vt=perf\n",
    "        :> word lex=>BRHM/\n",
    "'''\n",
    "Abraham3  = A.search(Abraham3)\n",
    "A.show(Abraham3, start=1, end=2, condensed=True)"
   ]
  },
  {
   "cell_type": "markdown",
   "metadata": {},
   "source": [
    "One could of course also write:"
   ]
  },
  {
   "cell_type": "code",
   "execution_count": null,
   "metadata": {},
   "outputs": [],
   "source": [
    "Abraham4='''\n",
    "book book=Genesis\n",
    "    clause\n",
    "        word lex=>BRHM/\n",
    "        <: word vt=perf\n",
    "\n",
    "'''\n",
    "Abraham4  = A.search(Abraham4)\n",
    "A.table(Abraham4, start=1, end=2, condensed=True)"
   ]
  },
  {
   "cell_type": "markdown",
   "metadata": {},
   "source": [
    "### Searching on the PHRASE-level\n",
    "#### Simple Phrase search: YHWH as syntactical subject\n",
    "Lets search for all cases in which YHWH is subject in the Pentateuch."
   ]
  },
  {
   "cell_type": "code",
   "execution_count": null,
   "metadata": {},
   "outputs": [],
   "source": [
    "YHWH1='''\n",
    "book book=Genesis|Exodus|Leviticus|Numeri|Deuteronomium\n",
    "    clause\n",
    "        phrase function=Subj\n",
    "            word lex=JHWH/\n",
    "'''\n",
    "YHWH1  = A.search(YHWH1)\n",
    "A.table(YHWH1, start=1, end=2, condensed=True)\n",
    "\n",
    "## SHEBANQ query result: https://shebanq.ancient-data.org/hebrew/query?version=4b&id=1367"
   ]
  },
  {
   "cell_type": "markdown",
   "metadata": {},
   "source": [
    "We can now see all cases in which YHWH is the subject of a clause. But we might be more interested in what YHWH is actually doing!"
   ]
  },
  {
   "cell_type": "markdown",
   "metadata": {},
   "source": [
    "#### Advanced Phrase search: YHWH as subject of predicates\n",
    "So lets search for the predicates of which YHWH is the subject and in which YHWH fills the enitre subject phrase (excluding cases like \"YHWH, Elohim\" by the relation code ```::```). We use the same `::` in order to make sure that there is only one verb filling the predicate function. \n",
    "\n",
    "For visualiation purposes we are going to look for the transliterated characters with `lex` and the un-transliterated Hebrew characters with `lex_utf8`\n",
    "\n",
    "Finally, in order to see the predicates better, we are going to highlight them with a specified ```colorMap```."
   ]
  },
  {
   "cell_type": "code",
   "execution_count": null,
   "metadata": {},
   "outputs": [],
   "source": [
    "YHWH2='''\n",
    "book book=Genesis|Exodus|Leviticus|Numeri|Deuteronomium\n",
    "    clause\n",
    "        phrase function=Subj\n",
    "            :: word lex=JHWH/\n",
    "        phrase function=Pred\n",
    "            :: word lex_utf8* lex*\n",
    "'''\n",
    "YHWH2  = A.search(YHWH2)\n",
    "A.table(YHWH2, start=1, end=2, condensed=True, colorMap={1: 'magenta', 2: 'blue', 3: 'cyan', 4: 'blue'})"
   ]
  },
  {
   "cell_type": "markdown",
   "metadata": {},
   "source": [
    "##### Codes for phrase functions (function)\n",
    "A full list of phrase functions can be found here: \n",
    "https://etcbc.github.io/bhsa/features/function/\n",
    "\n",
    "code|description|examples\n",
    "---|---|---\n",
    "`Adju`|Adjunct\n",
    "`Cmpl`|Complement\n",
    "`Conj`|Conjunction\n",
    "`EPPr`|Enclitic personal pronoun                 |!\n",
    "`ExsS`|Existence with subject suffix\n",
    "`Exst`|Existence\n",
    "`Frnt`|Fronted element\n",
    "`Intj`|Interjection\n",
    "`IntS`|Interjection with subject suffix\n",
    "`Loca`|Locative\n",
    "`Modi`|Modifier\n",
    "`ModS`|Modifier with subject suffix\n",
    "`NCop`|Negative copula\n",
    "`NCoS`|Negative copula with subject suffix\n",
    "`Nega`|Negation\n",
    "`Objc`|Object\n",
    "`PrAd`|Predicative adjunct\n",
    "`PrcS`|Predicate complement with subject suffix\n",
    "`PreC`|Predicate complement\n",
    "`Pred`|Predicate\n",
    "`PreO`|Predicate with object suffix\n",
    "`PreS`|Predicate with subject suffix\n",
    "`PtcO`|Participle with object suffix\n",
    "`Ques`|Question\n",
    "`Rela`|Relative\n",
    "`Subj`|Subject\n",
    "`Supp`|Supplementary constituent\n",
    "`Time`|Time reference\n",
    "`Unkn`|Unknown\n",
    "`Voct`|Vocative"
   ]
  },
  {
   "cell_type": "markdown",
   "metadata": {},
   "source": [
    "### Exporting => ```pandas dataframe``` => Plotting\n",
    "Now, lest unleash the power of phython's data analysis tools, by exporting our TF results with ```A.export``` and load it into a ```pandas``` dataframe. That will allow us to do some powerful data analysis and data visualization!"
   ]
  },
  {
   "cell_type": "code",
   "execution_count": null,
   "metadata": {},
   "outputs": [],
   "source": [
    "A.export(YHWH2, toDir='D:/OneDrive/1200_AUS-research/Fabric-TEXT', toFile='YHWH2.tsv')"
   ]
  },
  {
   "cell_type": "code",
   "execution_count": null,
   "metadata": {},
   "outputs": [],
   "source": [
    "YHWH2=pd.read_csv('D:/OneDrive/1200_AUS-research/Fabric-TEXT/YHWH2.tsv',delimiter='\\t',encoding='utf-16')\n",
    "pd.set_option('display.max_columns', 50)\n",
    "YHWH2.head()"
   ]
  },
  {
   "cell_type": "markdown",
   "metadata": {},
   "source": [
    "The code cell below shows that there are 573 clauses in which we find a verbal predicate with YHWH as subject."
   ]
  },
  {
   "cell_type": "code",
   "execution_count": null,
   "metadata": {},
   "outputs": [],
   "source": [
    "YHWH2.describe()"
   ]
  },
  {
   "cell_type": "markdown",
   "metadata": {},
   "source": [
    "Its in the last column \"lex_utf86\" where we can find the verbs used for predicating YHWH. Lets see which verbs are mostly used to describe YHWH's actions with the function `count_values` (this function does the same as `size().sort_values(ascending=False)` would do)."
   ]
  },
  {
   "cell_type": "code",
   "execution_count": null,
   "metadata": {},
   "outputs": [],
   "source": [
    "YHWH2[\"lex_utf86\"].value_counts()"
   ]
  },
  {
   "cell_type": "markdown",
   "metadata": {},
   "source": [
    "There are many verbs used only once as predicate. For our plotting purposes below, lets delete all verbs that appear less frequently than 5 times. We do this by creating a new dataframe \"YHWH2reduced\" that filters out all the verbs with low frequency by using the `lambda` function."
   ]
  },
  {
   "cell_type": "code",
   "execution_count": null,
   "metadata": {},
   "outputs": [],
   "source": [
    "YHWH2reduced = YHWH2.groupby(\"lex_utf86\").filter(lambda x: len(x) >6)\n",
    "YHWH2reduced[\"lex_utf86\"].value_counts()"
   ]
  },
  {
   "cell_type": "markdown",
   "metadata": {},
   "source": [
    "The upper `value_count`shows that we have 10 verbs left. That is an excellent amount for plotting."
   ]
  },
  {
   "cell_type": "markdown",
   "metadata": {},
   "source": [
    "#### Bar Plot\n",
    "Lets graph it out by different plotting options.\n",
    "\n",
    "Since matplot does not know that Hebrew is written from Right-to-Left (it would display the Hebrew words with its consonants being written from Left-to-Right!) we are going to use the `lex` feature instead of the `lex_utf8` feature."
   ]
  },
  {
   "cell_type": "code",
   "execution_count": null,
   "metadata": {},
   "outputs": [],
   "source": [
    "figure(num=None, figsize=(5, 5), dpi=80, facecolor='w', edgecolor='k')\n",
    "YHWH2reduced.groupby(\"lex6\").size().sort_values(ascending=True).plot.barh()\n",
    "plt.xlabel('occurence of verb')\n",
    "plt.ylabel('lexemes used as predicates for the subject \"YHWH\"')\n",
    "plt.title('YHWH and his acting')\n",
    "plt.show()"
   ]
  },
  {
   "cell_type": "markdown",
   "metadata": {},
   "source": [
    "#### Pie Chart"
   ]
  },
  {
   "cell_type": "code",
   "execution_count": null,
   "metadata": {},
   "outputs": [],
   "source": [
    "YHWH2reduced.lex6.value_counts(sort=False).plot.pie(autopct='%1.0f%%', shadow=True, startangle=140)\n",
    "plt.show()"
   ]
  },
  {
   "cell_type": "markdown",
   "metadata": {},
   "source": [
    "#### Scatter Plot"
   ]
  },
  {
   "cell_type": "code",
   "execution_count": null,
   "metadata": {},
   "outputs": [],
   "source": [
    "fig, ax = plt.subplots()\n",
    "fig.set_size_inches(5, 5)\n",
    "\n",
    "for S1, df in YHWH2reduced.groupby('lex6'):\n",
    "    ax.scatter(x=\"S1\", y=\"lex6\", data=df, label=S1)\n",
    "\n",
    "ax.set_xlabel(\"predicates used by YHWH as subject\")\n",
    "ax.set_ylabel(\"book\")\n",
    "ax.legend();"
   ]
  },
  {
   "cell_type": "markdown",
   "metadata": {},
   "source": [
    "#### Seaborn Implot (sophisticated scatter plot)"
   ]
  },
  {
   "cell_type": "code",
   "execution_count": null,
   "metadata": {},
   "outputs": [],
   "source": [
    "sns.lmplot(x=\"S1\", y=\"R\", data=YHWH2reduced, hue='lex6', height=20, aspect=1/3, fit_reg=False, scatter_kws={\"s\": 200})\n",
    "ax = plt.gca()\n",
    "ax.set_ylabel('Number of occurence of ImpChainType')\n",
    "ax.set_xlabel('OT books')"
   ]
  },
  {
   "cell_type": "markdown",
   "metadata": {},
   "source": [
    "### Searching on the CLAUSE-level\n",
    "#### Simple sentence search\n",
    "Lets search for a sentence that contains two clauses in Genesis 20."
   ]
  },
  {
   "cell_type": "code",
   "execution_count": null,
   "metadata": {},
   "outputs": [],
   "source": [
    "ClausesinSentence1='''\n",
    "chapter book=Genesis chapter=20\n",
    "    sentence\n",
    "        clause\n",
    "        <: clause\n",
    "'''\n",
    "ClausesinSentence1 = A.search(ClausesinSentence1)\n",
    "A.show(ClausesinSentence1, start=1, end=2, condensed=True, colorMap={1: 'yellow', 2: 'yellow', 3: 'cyan', 4: 'magenta'})\n",
    "\n",
    "## SHEBANQ query result: https://shebanq.ancient-data.org/hebrew/query?version=4b&id=1369"
   ]
  },
  {
   "cell_type": "markdown",
   "metadata": {},
   "source": [
    "#### Advanced sentence search\n",
    "Now we are searching for a sentence that contains an independent clause and a dependent attributive/relative clause in Gen 20."
   ]
  },
  {
   "cell_type": "code",
   "execution_count": null,
   "metadata": {},
   "outputs": [],
   "source": [
    "ClausesinSentence2='''\n",
    "chapter book=Genesis chapter=20\n",
    "    sentence\n",
    "        clause\n",
    "        <: clause rela=Attr\n",
    "'''\n",
    "ClausesinSentence2 = A.search(ClausesinSentence2)\n",
    "A.show(ClausesinSentence2, start=1, end=2, condensed=True, colorMap={1: 'yellow', 2: 'yellow', 3: 'cyan', 4: 'magenta'})\n",
    "\n",
    "## SHEBANQ query result: https://shebanq.ancient-data.org/hebrew/query?version=4b&id=1370 "
   ]
  },
  {
   "cell_type": "markdown",
   "metadata": {},
   "source": [
    "##### Codes for clause relations (rela)\n",
    "A full list of clause relations can be found here: \n",
    "https://etcbc.github.io/bhsa/features/rela/\n",
    "\n",
    "code|description\n",
    "---|---\n",
    "`Adju`|Adjunctive clause\n",
    "`Attr`|Attributive clause\n",
    "`Cmpl`|Complement clause\n",
    "`Coor`|Coordinated clause\n",
    "`Objc`|Object clause\n",
    "`PrAd`|Predicative adjunct clause\n",
    "`PreC`|Predicative complement clause\n",
    "`ReVo`|Referral to the vocative\n",
    "`Resu`|Resumptive clause\n",
    "`RgRc`|Regens/rectum connection\n",
    "`Spec`|Specification clause\n",
    "`Subj`|Subject clause"
   ]
  },
  {
   "cell_type": "markdown",
   "metadata": {},
   "source": [
    "# What codes? What abbreviations?\n",
    "As the above examples have shown, one cannot run any queries succesfully without knowing 2 things:\n",
    "1. What is the database model (what are clauses, phrases, words, etc.)?\n",
    "2. What are the codes used for signifying tenses, stems, part of speech, etc.?\n",
    "\n",
    "While we will tackle the the first question in our next session the second question can be answered in the ETBCB's online version of its features doc: https://etcbc.github.io/bhsa/features/0_home/"
   ]
  },
  {
   "cell_type": "markdown",
   "metadata": {},
   "source": [
    "# In Class Tasks\n",
    "For all assignments listed below I advise you to use https://shebanq.ancient-data.org/hebrew/text to inspect the text, copy/paste codes and words into your TF search cells.\n",
    "1. Find all cases in which David appears in 2 Samuel 1-5.\n",
    "2. Find all cases in which David appears as subject in 2 Samuel 1-5.\n",
    "4. Find all cases in which David does something to somebody/something, i.e. you need to find the object phrase within a clause in which David is subject and does (predicate) something."
   ]
  },
  {
   "cell_type": "code",
   "execution_count": null,
   "metadata": {},
   "outputs": [],
   "source": []
  }
 ],
 "metadata": {
  "kernelspec": {
   "display_name": "Python 3",
   "language": "python",
   "name": "python3"
  },
  "language_info": {
   "codemirror_mode": {
    "name": "ipython",
    "version": 3
   },
   "file_extension": ".py",
   "mimetype": "text/x-python",
   "name": "python",
   "nbconvert_exporter": "python",
   "pygments_lexer": "ipython3",
   "version": "3.7.0"
  },
  "toc": {
   "base_numbering": 1,
   "nav_menu": {},
   "number_sections": true,
   "sideBar": true,
   "skip_h1_title": false,
   "title_cell": "Table of Contents",
   "title_sidebar": "Contents",
   "toc_cell": false,
   "toc_position": {
    "height": "calc(100% - 180px)",
    "left": "10px",
    "top": "150px",
    "width": "325px"
   },
   "toc_section_display": true,
   "toc_window_display": true
  }
 },
 "nbformat": 4,
 "nbformat_minor": 2
}

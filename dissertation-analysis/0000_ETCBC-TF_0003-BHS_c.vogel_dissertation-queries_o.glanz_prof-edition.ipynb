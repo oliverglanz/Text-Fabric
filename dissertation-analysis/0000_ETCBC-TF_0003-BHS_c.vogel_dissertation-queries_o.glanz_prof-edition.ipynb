{
 "cells": [
  {
   "cell_type": "markdown",
   "metadata": {},
   "source": [
    "# Response to Christian Vogel's Dissertation"
   ]
  },
  {
   "cell_type": "markdown",
   "metadata": {},
   "source": [
    "# Prelude"
   ]
  },
  {
   "cell_type": "code",
   "execution_count": 7,
   "metadata": {},
   "outputs": [
    {
     "name": "stdout",
     "output_type": "stream",
     "text": [
      "The autoreload extension is already loaded. To reload it, use:\n",
      "  %reload_ext autoreload\n"
     ]
    }
   ],
   "source": [
    "%load_ext autoreload\n",
    "%autoreload 2"
   ]
  },
  {
   "cell_type": "code",
   "execution_count": 8,
   "metadata": {},
   "outputs": [],
   "source": [
    "# First, I have to laod different modules that I use for analyzing the data and for plotting:\n",
    "import sys, os, collections\n",
    "import pandas as pd\n",
    "import numpy as np\n",
    "import seaborn as sns\n",
    "import matplotlib.pyplot as plt; plt.rcdefaults()\n",
    "from matplotlib.pyplot import figure\n",
    "from collections import Counter\n",
    "\n",
    "# Second, I have to load the Text Fabric app\n",
    "from tf.fabric import Fabric\n",
    "from tf.app import use"
   ]
  },
  {
   "cell_type": "code",
   "execution_count": 9,
   "metadata": {},
   "outputs": [
    {
     "name": "stdout",
     "output_type": "stream",
     "text": [
      "\tconnecting to online GitHub repo annotation/app-bhsa ... failed\n",
      "GitHub says: 403 {\"message\": \"API rate limit exceeded for 73.44.71.21. (But here's the good news: Authenticated requests get a higher rate limit. Check out the documentation for more details.)\", \"documentation_url\": \"https://developer.github.com/v3/#rate-limiting\"}\n",
      "The offline TF-app may not be the latest\n",
      "Using TF-app in C:\\Users\\Oliver Glanz/text-fabric-data/annotation/app-bhsa/code:\n",
      "\trv1.2=#5fdf1778d51d938bfe80b37b415e36618e50190c (latest? release)\n",
      "\tconnecting to online GitHub repo etcbc/bhsa ... failed\n",
      "GitHub says: 403 {\"message\": \"API rate limit exceeded for 73.44.71.21. (But here's the good news: Authenticated requests get a higher rate limit. Check out the documentation for more details.)\", \"documentation_url\": \"https://developer.github.com/v3/#rate-limiting\"}\n",
      "The offline data may not be the latest\n",
      "Using data in C:\\Users\\Oliver Glanz/text-fabric-data/etcbc/bhsa/tf/c:\n",
      "\trv1.6=#bac4a9f5a2bbdede96ba6caea45e762fe88f88c5 (latest? release)\n",
      "\tconnecting to online GitHub repo etcbc/phono ... failed\n",
      "GitHub says: 403 {\"message\": \"API rate limit exceeded for 73.44.71.21. (But here's the good news: Authenticated requests get a higher rate limit. Check out the documentation for more details.)\", \"documentation_url\": \"https://developer.github.com/v3/#rate-limiting\"}\n",
      "The offline data may not be the latest\n",
      "Using data in C:\\Users\\Oliver Glanz/text-fabric-data/etcbc/phono/tf/c:\n",
      "\tr1.2=#1ac68e976ee4a7f23eb6bb4c6f401a033d0ec169 (latest? release)\n",
      "\tconnecting to online GitHub repo etcbc/parallels ... failed\n",
      "GitHub says: 403 {\"message\": \"API rate limit exceeded for 73.44.71.21. (But here's the good news: Authenticated requests get a higher rate limit. Check out the documentation for more details.)\", \"documentation_url\": \"https://developer.github.com/v3/#rate-limiting\"}\n",
      "The offline data may not be the latest\n",
      "Using data in C:\\Users\\Oliver Glanz/text-fabric-data/etcbc/parallels/tf/c:\n",
      "\tr1.2=#395dfe2cb69c261862fab9f0289e594a52121d5c (latest? release)\n",
      "   |     0.00s No structure info in otext, the structure part of the T-API cannot be used\n"
     ]
    },
    {
     "data": {
      "text/html": [
       "<b>Documentation:</b> <a target=\"_blank\" href=\"https://etcbc.github.io/bhsa\" title=\"provenance of BHSA = Biblia Hebraica Stuttgartensia Amstelodamensis\">BHSA</a> <a target=\"_blank\" href=\"https://annotation.github.io/text-fabric/Writing/Hebrew\" title=\"('Hebrew characters and transcriptions',)\">Character table</a> <a target=\"_blank\" href=\"https://etcbc.github.io/bhsa/features/0_home\" title=\"BHSA feature documentation\">Feature docs</a> <a target=\"_blank\" href=\"https://github.com/annotation/app-bhsa\" title=\"bhsa API documentation\">bhsa API</a> <a target=\"_blank\" href=\"https://annotation.github.io/text-fabric/Api/Fabric/\" title=\"text-fabric-api\">Text-Fabric API 7.8.12</a> <a target=\"_blank\" href=\"https://annotation.github.io/text-fabric/Use/Search/\" title=\"Search Templates Introduction and Reference\">Search Reference</a><details open><summary><b>Loaded features</b>:</summary>\n",
       "<p><b>BHSA = Biblia Hebraica Stuttgartensia Amstelodamensis</b>: <a target=\"_blank\" href=\"https://etcbc.github.io/bhsa/features/book\" title=\"C:\\Users\\Oliver Glanz/text-fabric-data/etcbc/bhsa/tf/c/book.tf\">book</a>  <a target=\"_blank\" href=\"https://etcbc.github.io/bhsa/features/book@ll\" title=\"C:\\Users\\Oliver Glanz/text-fabric-data/etcbc/bhsa/tf/c/book@am.tf\">book@ll</a>  <a target=\"_blank\" href=\"https://etcbc.github.io/bhsa/features/chapter\" title=\"C:\\Users\\Oliver Glanz/text-fabric-data/etcbc/bhsa/tf/c/chapter.tf\">chapter</a>  <a target=\"_blank\" href=\"https://etcbc.github.io/bhsa/features/code\" title=\"C:\\Users\\Oliver Glanz/text-fabric-data/etcbc/bhsa/tf/c/code.tf\">code</a>  <a target=\"_blank\" href=\"https://etcbc.github.io/bhsa/features/det\" title=\"C:\\Users\\Oliver Glanz/text-fabric-data/etcbc/bhsa/tf/c/det.tf\">det</a>  <a target=\"_blank\" href=\"https://etcbc.github.io/bhsa/features/domain\" title=\"C:\\Users\\Oliver Glanz/text-fabric-data/etcbc/bhsa/tf/c/domain.tf\">domain</a>  <a target=\"_blank\" href=\"https://etcbc.github.io/bhsa/features/freq_lex\" title=\"C:\\Users\\Oliver Glanz/text-fabric-data/etcbc/bhsa/tf/c/freq_lex.tf\">freq_lex</a>  <a target=\"_blank\" href=\"https://etcbc.github.io/bhsa/features/function\" title=\"C:\\Users\\Oliver Glanz/text-fabric-data/etcbc/bhsa/tf/c/function.tf\">function</a>  <a target=\"_blank\" href=\"https://etcbc.github.io/bhsa/features/g_cons\" title=\"C:\\Users\\Oliver Glanz/text-fabric-data/etcbc/bhsa/tf/c/g_cons.tf\">g_cons</a>  <a target=\"_blank\" href=\"https://etcbc.github.io/bhsa/features/g_cons_utf8\" title=\"C:\\Users\\Oliver Glanz/text-fabric-data/etcbc/bhsa/tf/c/g_cons_utf8.tf\">g_cons_utf8</a>  <a target=\"_blank\" href=\"https://etcbc.github.io/bhsa/features/g_lex\" title=\"C:\\Users\\Oliver Glanz/text-fabric-data/etcbc/bhsa/tf/c/g_lex.tf\">g_lex</a>  <a target=\"_blank\" href=\"https://etcbc.github.io/bhsa/features/g_lex_utf8\" title=\"C:\\Users\\Oliver Glanz/text-fabric-data/etcbc/bhsa/tf/c/g_lex_utf8.tf\">g_lex_utf8</a>  <a target=\"_blank\" href=\"https://etcbc.github.io/bhsa/features/g_word\" title=\"C:\\Users\\Oliver Glanz/text-fabric-data/etcbc/bhsa/tf/c/g_word.tf\">g_word</a>  <a target=\"_blank\" href=\"https://etcbc.github.io/bhsa/features/g_word_utf8\" title=\"C:\\Users\\Oliver Glanz/text-fabric-data/etcbc/bhsa/tf/c/g_word_utf8.tf\">g_word_utf8</a>  <a target=\"_blank\" href=\"https://etcbc.github.io/bhsa/features/gloss\" title=\"C:\\Users\\Oliver Glanz/text-fabric-data/etcbc/bhsa/tf/c/gloss.tf\">gloss</a>  <a target=\"_blank\" href=\"https://etcbc.github.io/bhsa/features/gn\" title=\"C:\\Users\\Oliver Glanz/text-fabric-data/etcbc/bhsa/tf/c/gn.tf\">gn</a>  <a target=\"_blank\" href=\"https://etcbc.github.io/bhsa/features/label\" title=\"C:\\Users\\Oliver Glanz/text-fabric-data/etcbc/bhsa/tf/c/label.tf\">label</a>  <a target=\"_blank\" href=\"https://etcbc.github.io/bhsa/features/language\" title=\"C:\\Users\\Oliver Glanz/text-fabric-data/etcbc/bhsa/tf/c/language.tf\">language</a>  <a target=\"_blank\" href=\"https://etcbc.github.io/bhsa/features/lex\" title=\"C:\\Users\\Oliver Glanz/text-fabric-data/etcbc/bhsa/tf/c/lex.tf\">lex</a>  <a target=\"_blank\" href=\"https://etcbc.github.io/bhsa/features/lex_utf8\" title=\"C:\\Users\\Oliver Glanz/text-fabric-data/etcbc/bhsa/tf/c/lex_utf8.tf\">lex_utf8</a>  <a target=\"_blank\" href=\"https://etcbc.github.io/bhsa/features/ls\" title=\"C:\\Users\\Oliver Glanz/text-fabric-data/etcbc/bhsa/tf/c/ls.tf\">ls</a>  <a target=\"_blank\" href=\"https://etcbc.github.io/bhsa/features/nametype\" title=\"C:\\Users\\Oliver Glanz/text-fabric-data/etcbc/bhsa/tf/c/nametype.tf\">nametype</a>  <a target=\"_blank\" href=\"https://etcbc.github.io/bhsa/features/nme\" title=\"C:\\Users\\Oliver Glanz/text-fabric-data/etcbc/bhsa/tf/c/nme.tf\">nme</a>  <a target=\"_blank\" href=\"https://etcbc.github.io/bhsa/features/nu\" title=\"C:\\Users\\Oliver Glanz/text-fabric-data/etcbc/bhsa/tf/c/nu.tf\">nu</a>  <a target=\"_blank\" href=\"https://etcbc.github.io/bhsa/features/number\" title=\"C:\\Users\\Oliver Glanz/text-fabric-data/etcbc/bhsa/tf/c/number.tf\">number</a>  <a target=\"_blank\" href=\"https://etcbc.github.io/bhsa/features/otype\" title=\"C:\\Users\\Oliver Glanz/text-fabric-data/etcbc/bhsa/tf/c/otype.tf\">otype</a>  <a target=\"_blank\" href=\"https://etcbc.github.io/bhsa/features/pargr\" title=\"C:\\Users\\Oliver Glanz/text-fabric-data/etcbc/bhsa/tf/c/pargr.tf\">pargr</a>  <a target=\"_blank\" href=\"https://etcbc.github.io/bhsa/features/pdp\" title=\"C:\\Users\\Oliver Glanz/text-fabric-data/etcbc/bhsa/tf/c/pdp.tf\">pdp</a>  <a target=\"_blank\" href=\"https://etcbc.github.io/bhsa/features/pfm\" title=\"C:\\Users\\Oliver Glanz/text-fabric-data/etcbc/bhsa/tf/c/pfm.tf\">pfm</a>  <a target=\"_blank\" href=\"https://etcbc.github.io/bhsa/features/prs\" title=\"C:\\Users\\Oliver Glanz/text-fabric-data/etcbc/bhsa/tf/c/prs.tf\">prs</a>  <a target=\"_blank\" href=\"https://etcbc.github.io/bhsa/features/prs_gn\" title=\"C:\\Users\\Oliver Glanz/text-fabric-data/etcbc/bhsa/tf/c/prs_gn.tf\">prs_gn</a>  <a target=\"_blank\" href=\"https://etcbc.github.io/bhsa/features/prs_nu\" title=\"C:\\Users\\Oliver Glanz/text-fabric-data/etcbc/bhsa/tf/c/prs_nu.tf\">prs_nu</a>  <a target=\"_blank\" href=\"https://etcbc.github.io/bhsa/features/prs_ps\" title=\"C:\\Users\\Oliver Glanz/text-fabric-data/etcbc/bhsa/tf/c/prs_ps.tf\">prs_ps</a>  <a target=\"_blank\" href=\"https://etcbc.github.io/bhsa/features/ps\" title=\"C:\\Users\\Oliver Glanz/text-fabric-data/etcbc/bhsa/tf/c/ps.tf\">ps</a>  <a target=\"_blank\" href=\"https://etcbc.github.io/bhsa/features/qere\" title=\"C:\\Users\\Oliver Glanz/text-fabric-data/etcbc/bhsa/tf/c/qere.tf\">qere</a>  <a target=\"_blank\" href=\"https://etcbc.github.io/bhsa/features/qere_trailer\" title=\"C:\\Users\\Oliver Glanz/text-fabric-data/etcbc/bhsa/tf/c/qere_trailer.tf\">qere_trailer</a>  <a target=\"_blank\" href=\"https://etcbc.github.io/bhsa/features/qere_trailer_utf8\" title=\"C:\\Users\\Oliver Glanz/text-fabric-data/etcbc/bhsa/tf/c/qere_trailer_utf8.tf\">qere_trailer_utf8</a>  <a target=\"_blank\" href=\"https://etcbc.github.io/bhsa/features/qere_utf8\" title=\"C:\\Users\\Oliver Glanz/text-fabric-data/etcbc/bhsa/tf/c/qere_utf8.tf\">qere_utf8</a>  <a target=\"_blank\" href=\"https://etcbc.github.io/bhsa/features/rank_lex\" title=\"C:\\Users\\Oliver Glanz/text-fabric-data/etcbc/bhsa/tf/c/rank_lex.tf\">rank_lex</a>  <a target=\"_blank\" href=\"https://etcbc.github.io/bhsa/features/rela\" title=\"C:\\Users\\Oliver Glanz/text-fabric-data/etcbc/bhsa/tf/c/rela.tf\">rela</a>  <a target=\"_blank\" href=\"https://etcbc.github.io/bhsa/features/sp\" title=\"C:\\Users\\Oliver Glanz/text-fabric-data/etcbc/bhsa/tf/c/sp.tf\">sp</a>  <a target=\"_blank\" href=\"https://etcbc.github.io/bhsa/features/st\" title=\"C:\\Users\\Oliver Glanz/text-fabric-data/etcbc/bhsa/tf/c/st.tf\">st</a>  <a target=\"_blank\" href=\"https://etcbc.github.io/bhsa/features/tab\" title=\"C:\\Users\\Oliver Glanz/text-fabric-data/etcbc/bhsa/tf/c/tab.tf\">tab</a>  <a target=\"_blank\" href=\"https://etcbc.github.io/bhsa/features/trailer\" title=\"C:\\Users\\Oliver Glanz/text-fabric-data/etcbc/bhsa/tf/c/trailer.tf\">trailer</a>  <a target=\"_blank\" href=\"https://etcbc.github.io/bhsa/features/trailer_utf8\" title=\"C:\\Users\\Oliver Glanz/text-fabric-data/etcbc/bhsa/tf/c/trailer_utf8.tf\">trailer_utf8</a>  <a target=\"_blank\" href=\"https://etcbc.github.io/bhsa/features/txt\" title=\"C:\\Users\\Oliver Glanz/text-fabric-data/etcbc/bhsa/tf/c/txt.tf\">txt</a>  <a target=\"_blank\" href=\"https://etcbc.github.io/bhsa/features/typ\" title=\"C:\\Users\\Oliver Glanz/text-fabric-data/etcbc/bhsa/tf/c/typ.tf\">typ</a>  <a target=\"_blank\" href=\"https://etcbc.github.io/bhsa/features/uvf\" title=\"C:\\Users\\Oliver Glanz/text-fabric-data/etcbc/bhsa/tf/c/uvf.tf\">uvf</a>  <a target=\"_blank\" href=\"https://etcbc.github.io/bhsa/features/vbe\" title=\"C:\\Users\\Oliver Glanz/text-fabric-data/etcbc/bhsa/tf/c/vbe.tf\">vbe</a>  <a target=\"_blank\" href=\"https://etcbc.github.io/bhsa/features/vbs\" title=\"C:\\Users\\Oliver Glanz/text-fabric-data/etcbc/bhsa/tf/c/vbs.tf\">vbs</a>  <a target=\"_blank\" href=\"https://etcbc.github.io/bhsa/features/verse\" title=\"C:\\Users\\Oliver Glanz/text-fabric-data/etcbc/bhsa/tf/c/verse.tf\">verse</a>  <a target=\"_blank\" href=\"https://etcbc.github.io/bhsa/features/voc_lex\" title=\"C:\\Users\\Oliver Glanz/text-fabric-data/etcbc/bhsa/tf/c/voc_lex.tf\">voc_lex</a>  <a target=\"_blank\" href=\"https://etcbc.github.io/bhsa/features/voc_lex_utf8\" title=\"C:\\Users\\Oliver Glanz/text-fabric-data/etcbc/bhsa/tf/c/voc_lex_utf8.tf\">voc_lex_utf8</a>  <a target=\"_blank\" href=\"https://etcbc.github.io/bhsa/features/vs\" title=\"C:\\Users\\Oliver Glanz/text-fabric-data/etcbc/bhsa/tf/c/vs.tf\">vs</a>  <a target=\"_blank\" href=\"https://etcbc.github.io/bhsa/features/vt\" title=\"C:\\Users\\Oliver Glanz/text-fabric-data/etcbc/bhsa/tf/c/vt.tf\">vt</a>  <b><i><a target=\"_blank\" href=\"https://etcbc.github.io/bhsa/features/mother\" title=\"C:\\Users\\Oliver Glanz/text-fabric-data/etcbc/bhsa/tf/c/mother.tf\">mother</a></i></b>  <b><i><a target=\"_blank\" href=\"https://etcbc.github.io/bhsa/features/oslots\" title=\"C:\\Users\\Oliver Glanz/text-fabric-data/etcbc/bhsa/tf/c/oslots.tf\">oslots</a></i></b> </p><p><b>Parallel Passages</b>: <b><i><a target=\"_blank\" href=\"https://nbviewer.jupyter.org/github/etcbc/parallels/blob/master/programs/parallels.ipynb\" title=\"C:\\Users\\Oliver Glanz/text-fabric-data/etcbc/parallels/tf/c/crossref.tf\">crossref</a></i></b> </p><p><b>Phonetic Transcriptions</b>: <a target=\"_blank\" href=\"https://nbviewer.jupyter.org/github/etcbc/phono/blob/master/programs/phono.ipynb\" title=\"C:\\Users\\Oliver Glanz/text-fabric-data/etcbc/phono/tf/c/phono.tf\">phono</a>  <a target=\"_blank\" href=\"https://nbviewer.jupyter.org/github/etcbc/phono/blob/master/programs/phono.ipynb\" title=\"C:\\Users\\Oliver Glanz/text-fabric-data/etcbc/phono/tf/c/phono_trailer.tf\">phono_trailer</a> </p></details>"
      ],
      "text/plain": [
       "<IPython.core.display.HTML object>"
      ]
     },
     "metadata": {},
     "output_type": "display_data"
    },
    {
     "data": {
      "text/html": [
       "<style>\n",
       "@font-face {\n",
       "  font-family: \"Ezra SIL\";\n",
       "  src:\n",
       "    local(\"SILEOT.ttf\"),\n",
       "    url(\"https://github.com/annotation/text-fabric/blob/master/tf/server/static/fonts/SILEOT.woff?raw=true\");\n",
       "}\n",
       ".features {\n",
       "    font-family: monospace;\n",
       "    font-size: medium;\n",
       "    font-weight: bold;\n",
       "    color: #0a6611;\n",
       "    display: flex;\n",
       "    flex-flow: column nowrap;\n",
       "    padding: 0.1em;\n",
       "    margin: 0.1em;\n",
       "    direction: ltr;\n",
       "}\n",
       ".features div,.features span {\n",
       "    padding: 0;\n",
       "    margin: -0.1rem 0;\n",
       "}\n",
       ".features .f {\n",
       "    font-family: sans-serif;\n",
       "    font-size: x-small;\n",
       "    font-weight: normal;\n",
       "    color: #5555bb;\n",
       "}\n",
       ".features .xft {\n",
       "  color: #000000;\n",
       "  background-color: #eeeeee;\n",
       "  font-size: medium;\n",
       "  margin: 0.1em 0em;\n",
       "}\n",
       ".features .xft .f {\n",
       "  color: #000000;\n",
       "  background-color: #eeeeee;\n",
       "  font-style: italic;\n",
       "  font-size: small;\n",
       "  font-weight: normal;\n",
       "}\n",
       ".ltr {\n",
       "    direction: ltr ! important;\n",
       "}\n",
       ".verse {\n",
       "    display: flex;\n",
       "    flex-flow: row wrap;\n",
       "    direction: rtl;\n",
       "}\n",
       ".vl {\n",
       "    display: flex;\n",
       "    flex-flow: column nowrap;\n",
       "    justify-content: flex-end;\n",
       "    align-items: flex-end;\n",
       "    direction: ltr;\n",
       "    width: 100%;\n",
       "}\n",
       ".outeritem {\n",
       "    display: flex;\n",
       "    flex-flow: row wrap;\n",
       "    direction: rtl;\n",
       "}\n",
       ".sentence,.clause,.phrase {\n",
       "    margin-top: -1.2em;\n",
       "    margin-left: 1em;\n",
       "    background: #ffffff none repeat scroll 0 0;\n",
       "    padding: 0 0.3em;\n",
       "    border-style: solid;\n",
       "    border-radius: 0.2em;\n",
       "    font-size: small;\n",
       "    display: block;\n",
       "    width: fit-content;\n",
       "    max-width: fit-content;\n",
       "    direction: ltr;\n",
       "}\n",
       ".atoms {\n",
       "    display: flex;\n",
       "    flex-flow: row wrap;\n",
       "    margin: 0.3em;\n",
       "    padding: 0.3em;\n",
       "    direction: rtl;\n",
       "    background-color: #ffffff;\n",
       "}\n",
       ".satom,.catom,.patom {\n",
       "    margin: 0.3em;\n",
       "    padding: 0.3em;\n",
       "    border-radius: 0.3em;\n",
       "    border-style: solid;\n",
       "    display: flex;\n",
       "    flex-flow: column nowrap;\n",
       "    direction: rtl;\n",
       "    background-color: #ffffff;\n",
       "}\n",
       ".sentence {\n",
       "    border-color: #aa3333;\n",
       "    border-width: 1px;\n",
       "}\n",
       ".clause {\n",
       "    border-color: #aaaa33;\n",
       "    border-width: 1px;\n",
       "}\n",
       ".phrase {\n",
       "    border-color: #33aaaa;\n",
       "    border-width: 1px;\n",
       "}\n",
       ".satom {\n",
       "    border-color: #aa3333;\n",
       "    border-width: 4px;\n",
       "}\n",
       ".catom {\n",
       "    border-color: #aaaa33;\n",
       "    border-width: 3px;\n",
       "}\n",
       ".patom {\n",
       "    border-color: #33aaaa;\n",
       "    border-width: 3px;\n",
       "}\n",
       ".word {\n",
       "    padding: 0.1em;\n",
       "    margin: 0.1em;\n",
       "    border-radius: 0.1em;\n",
       "    border: 1px solid #cccccc;\n",
       "    display: flex;\n",
       "    flex-flow: column nowrap;\n",
       "    direction: rtl;\n",
       "    background-color: #ffffff;\n",
       "}\n",
       ".lextp {\n",
       "    padding: 0.1em;\n",
       "    margin: 0.1em;\n",
       "    border-radius: 0.1em;\n",
       "    border: 2px solid #888888;\n",
       "    width: fit-content;\n",
       "    display: flex;\n",
       "    flex-flow: column nowrap;\n",
       "    direction: rtl;\n",
       "    background-color: #ffffff;\n",
       "}\n",
       ".occs {\n",
       "    font-size: x-small;\n",
       "}\n",
       ".satom.l,.catom.l,.patom.l {\n",
       "    border-left-style: dotted\n",
       "}\n",
       ".satom.r,.catom.r,.patom.r {\n",
       "    border-right-style: dotted\n",
       "}\n",
       ".satom.lno,.catom.lno,.patom.lno {\n",
       "    border-left-style: none\n",
       "}\n",
       ".satom.rno,.catom.rno,.patom.rno {\n",
       "    border-right-style: none\n",
       "}\n",
       ".tr,.tr a:visited,.tr a:link {\n",
       "    font-family: sans-serif;\n",
       "    font-size: large;\n",
       "    color: #000044;\n",
       "    direction: ltr;\n",
       "    text-decoration: none;\n",
       "}\n",
       ".trb,.trb a:visited,.trb a:link {\n",
       "    font-family: sans-serif;\n",
       "    font-size: normal;\n",
       "    direction: ltr;\n",
       "    text-decoration: none;\n",
       "}\n",
       ".prb,.prb a:visited,.prb a:link {\n",
       "    font-family: sans-serif;\n",
       "    font-size: large;\n",
       "    direction: ltr;\n",
       "    text-decoration: none;\n",
       "}\n",
       ".h,.h a:visited,.h a:link {\n",
       "    font-family: \"Ezra SIL\", \"SBL Hebrew\", sans-serif;\n",
       "    font-size: large;\n",
       "    color: #000044;\n",
       "    direction: rtl;\n",
       "    text-decoration: none;\n",
       "}\n",
       ".hb,.hb a:visited,.hb a:link {\n",
       "    font-family: \"Ezra SIL\", \"SBL Hebrew\", sans-serif;\n",
       "    font-size: large;\n",
       "    line-height: 2;\n",
       "    direction: rtl;\n",
       "    text-decoration: none;\n",
       "}\n",
       ".vn {\n",
       "  font-size: small !important;\n",
       "  padding-right: 1em;\n",
       "}\n",
       ".rela,.function,.typ {\n",
       "    font-family: monospace;\n",
       "    font-size: small;\n",
       "    color: #0000bb;\n",
       "}\n",
       ".pdp,.pdp a:visited,.pdp a:link {\n",
       "    font-family: monospace;\n",
       "    font-size: medium;\n",
       "    color: #0000bb;\n",
       "    text-decoration: none;\n",
       "}\n",
       ".voc_lex {\n",
       "    font-family: monospace;\n",
       "    font-size: medium;\n",
       "    color: #0000bb;\n",
       "}\n",
       ".vs {\n",
       "    font-family: monospace;\n",
       "    font-size: medium;\n",
       "    font-weight: bold;\n",
       "    color: #0000bb;\n",
       "}\n",
       ".vt {\n",
       "    font-family: monospace;\n",
       "    font-size: medium;\n",
       "    font-weight: bold;\n",
       "    color: #0000bb;\n",
       "}\n",
       ".gloss {\n",
       "    font-family: sans-serif;\n",
       "    font-size: small;\n",
       "    font-weight: normal;\n",
       "    color: #444444;\n",
       "}\n",
       ".vrs {\n",
       "    font-family: sans-serif;\n",
       "    font-size: small;\n",
       "    font-weight: bold;\n",
       "    color: #444444;\n",
       "}\n",
       ".nd {\n",
       "    font-family: monospace;\n",
       "    font-size: x-small;\n",
       "    color: #999999;\n",
       "}\n",
       ".hl {\n",
       "    background-color: #ffee66;\n",
       "}\n",
       "\n",
       "tr.tf, td.tf, th.tf {\n",
       "  text-align: left;\n",
       "}\n",
       "\n",
       "span.hldot {\n",
       "\tbackground-color: var(--hl-strong);\n",
       "\tborder: 0.2rem solid var(--hl-rim);\n",
       "\tborder-radius: 0.4rem;\n",
       "\t/*\n",
       "\tdisplay: inline-block;\n",
       "\twidth: 0.8rem;\n",
       "\theight: 0.8rem;\n",
       "\t*/\n",
       "}\n",
       "span.hl {\n",
       "\tbackground-color: var(--hl-strong);\n",
       "\tborder-width: 0;\n",
       "\tborder-radius: 0.1rem;\n",
       "\tborder-style: solid;\n",
       "}\n",
       "\n",
       "span.hlup {\n",
       "\tborder-color: var(--hl-dark);\n",
       "\tborder-width: 0.1rem;\n",
       "\tborder-style: solid;\n",
       "\tborder-radius: 0.2rem;\n",
       "  padding: 0.2rem;\n",
       "}\n",
       "\n",
       ":root {\n",
       "\t--hl-strong:        hsla( 60, 100%,  70%, 0.9  );\n",
       "\t--hl-rim:           hsla( 55, 100%,  60%, 0.9  );\n",
       "\t--hl-dark:          hsla( 55, 100%,  40%, 0.9  );\n",
       "}\n",
       "</style>"
      ],
      "text/plain": [
       "<IPython.core.display.HTML object>"
      ]
     },
     "metadata": {},
     "output_type": "display_data"
    },
    {
     "data": {
      "text/html": [
       "<details open><summary><b>API members</b>:</summary>\n",
       "<a target=\"_blank\" href=\"https://annotation.github.io/text-fabric/Api/Computed/#computed-data\" title=\"doc\">C Computed</a>, <a target=\"_blank\" href=\"https://annotation.github.io/text-fabric/Api/Computed/#computed-data\" title=\"doc\">Call AllComputeds</a>, <a target=\"_blank\" href=\"https://annotation.github.io/text-fabric/Api/Computed/#computed-data\" title=\"doc\">Cs ComputedString</a><br/>\n",
       "<a target=\"_blank\" href=\"https://annotation.github.io/text-fabric/Api/Features/#edge-features\" title=\"doc\">E Edge</a>, <a target=\"_blank\" href=\"https://annotation.github.io/text-fabric/Api/Features/#edge-features\" title=\"doc\">Eall AllEdges</a>, <a target=\"_blank\" href=\"https://annotation.github.io/text-fabric/Api/Features/#edge-features\" title=\"doc\">Es EdgeString</a><br/>\n",
       "<a target=\"_blank\" href=\"https://annotation.github.io/text-fabric/Api/Fabric/#loading\" title=\"doc\">ensureLoaded</a>, <a target=\"_blank\" href=\"https://annotation.github.io/text-fabric/Api/Fabric/#loading\" title=\"doc\">TF</a>, <a target=\"_blank\" href=\"https://annotation.github.io/text-fabric/Api/Fabric/#loading\" title=\"doc\">ignored</a>, <a target=\"_blank\" href=\"https://annotation.github.io/text-fabric/Api/Fabric/#loading\" title=\"doc\">loadLog</a><br/>\n",
       "<a target=\"_blank\" href=\"https://annotation.github.io/text-fabric/Api/Locality/#locality\" title=\"doc\">L Locality</a><br/>\n",
       "<a target=\"_blank\" href=\"https://annotation.github.io/text-fabric/Api/Misc/#messaging\" title=\"doc\">cache</a>, <a target=\"_blank\" href=\"https://annotation.github.io/text-fabric/Api/Misc/#messaging\" title=\"doc\">error</a>, <a target=\"_blank\" href=\"https://annotation.github.io/text-fabric/Api/Misc/#messaging\" title=\"doc\">indent</a>, <a target=\"_blank\" href=\"https://annotation.github.io/text-fabric/Api/Misc/#messaging\" title=\"doc\">info</a>, <a target=\"_blank\" href=\"https://annotation.github.io/text-fabric/Api/Misc/#messaging\" title=\"doc\">isSilent</a>, <a target=\"_blank\" href=\"https://annotation.github.io/text-fabric/Api/Misc/#messaging\" title=\"doc\">reset</a>, <a target=\"_blank\" href=\"https://annotation.github.io/text-fabric/Api/Misc/#messaging\" title=\"doc\">setSilent</a>, <a target=\"_blank\" href=\"https://annotation.github.io/text-fabric/Api/Misc/#messaging\" title=\"doc\">silentOff</a>, <a target=\"_blank\" href=\"https://annotation.github.io/text-fabric/Api/Misc/#messaging\" title=\"doc\">silentOn</a>, <a target=\"_blank\" href=\"https://annotation.github.io/text-fabric/Api/Misc/#messaging\" title=\"doc\">warning</a><br/>\n",
       "<a target=\"_blank\" href=\"https://annotation.github.io/text-fabric/Api/Nodes/#navigating-nodes\" title=\"doc\">N Nodes</a>, <a target=\"_blank\" href=\"https://annotation.github.io/text-fabric/Api/Nodes/#navigating-nodes\" title=\"doc\">sortKey</a>, <a target=\"_blank\" href=\"https://annotation.github.io/text-fabric/Api/Nodes/#navigating-nodes\" title=\"doc\">sortKeyTuple</a>, <a target=\"_blank\" href=\"https://annotation.github.io/text-fabric/Api/Nodes/#navigating-nodes\" title=\"doc\">otypeRank</a>, <a target=\"_blank\" href=\"https://annotation.github.io/text-fabric/Api/Nodes/#navigating-nodes\" title=\"doc\">sortNodes</a><br/>\n",
       "<a target=\"_blank\" href=\"https://annotation.github.io/text-fabric/Api/Features/#node-features\" title=\"doc\">F Feature</a>, <a target=\"_blank\" href=\"https://annotation.github.io/text-fabric/Api/Features/#node-features\" title=\"doc\">Fall AllFeatures</a>, <a target=\"_blank\" href=\"https://annotation.github.io/text-fabric/Api/Features/#node-features\" title=\"doc\">Fs FeatureString</a><br/>\n",
       "<a target=\"_blank\" href=\"https://annotation.github.io/text-fabric/Api/Search/#search\" title=\"doc\">S Search</a><br/>\n",
       "<a target=\"_blank\" href=\"https://annotation.github.io/text-fabric/Api/Text/#text\" title=\"doc\">T Text</a></details>"
      ],
      "text/plain": [
       "<IPython.core.display.HTML object>"
      ]
     },
     "metadata": {},
     "output_type": "display_data"
    }
   ],
   "source": [
    "A = use('bhsa', hoist=globals())"
   ]
  },
  {
   "cell_type": "markdown",
   "metadata": {},
   "source": [
    "## Introduction and Laudatio\n",
    "1.\tThis defense is for me like a continuation of a long conversation about exegetical methodology that Chris and I started several years ago. In the last couple of days, Chris and I have enjoyed continuing this tradition by talking and discussing his dissertation quite a bit. It has been a good, fruitful, and thought-provoking dialogue among friends, colleagues, and brethren of faith. Your openness, vulnerability, passion for the word and the exegetical task always inspire me!\n",
    "2.\tBut this is a formal defense of your dissertation and so I will try to do my best, to undergo a temporal metamorphosis from being your friend to becoming your academic opponent.  😉\n",
    "3.\tBut before I share some of my questions and disagreements, let me say again that it was a delight and pleasure to read through your book. I wish my English proficiency and your eloquent writing skill could be easily transferred to me. \n",
    "4.\tAnd your dissertation makes me proud of this building (seminary) and the OT department, allowing and stimulating dissertations like yours! \n",
    "5.\tChris, thank you for your hard work with the biblical text, allowing me to see things that I have not seen before and to establish connections that I would not have made before.\n",
    "6.\tBut the fact that I am not able to see some things that you see raises a methodological question. Why do you see things that I do not see, and why are you making connections that I cannot make? Some of the answers may have to do with reading skills, biography, and spirituality. And there is much to learn on that front. But some of the answers have to do with the scholarly exercise of exegetical methodology. Your dissertation has helped me to (re)formulate the quest for objectivity on the one hand (think of Christof Hardmeier’s “empirische Textpragmatik”), and the quest for legitimate subjectivity on the other hand (think of Paul Riceour’s “surplus of meaning”).\n",
    "7.\tTo me, your dissertation reads like the digital post-processing of an old Qumran fragment (2 Sam 2-5) with photoshop. You are playing with the color values, contrast, light spectra in such a way that you can make things visible that got lost through the ages (in your case: the tradition of reading). But at the same time, we all know from image processing, that you can over-process an image to such extents that the image gets distorted. When one does that you can see things in the image, that the original image did not show. You can make an image differ significantly from its original by making them look much brighter and sharper than they were in reality. The irony, of course is, that texts themselves function like image processors as they sharpen the contrasts, colors, and dynamics of history’s bruta facta (and yes, I am aware of the complications of that term… [cf. Nagel’s “What is it like to be a bat”]). Exegetical method, then, seeks to recover the textual product of post-processed historical events. \n",
    "To me, however, your dissertation, reads often as a post-processing of the text’s post-processing of the historical datum. It’s like interpretation on steroids.\n",
    "8.\tSo, let me first start with 2-3 concrete examples of your interpretation that I am methodologically challenged by, before asking the larger methodological question. Here comes the inductive approach:\n"
   ]
  },
  {
   "cell_type": "markdown",
   "metadata": {},
   "source": [
    "## Chris’ Method in Practice"
   ]
  },
  {
   "cell_type": "markdown",
   "metadata": {},
   "source": [
    "### \"who were with him\": detecting significance...\n",
    "\n",
    "You often detect phenomena as “significant”. In this way you seek to registers intentionality (in fact: authorial intent). But how do you measure whether something is significant (a method chapter is missing!)? For example, on p75 you argue that it “is not coincidental, for the phrases אִ֣ישׁ וּבֵיתֹ֑ו and אֲשֶׁר־עִמֹּ֛ו” to occur together. However, is this really significant? You can find anywhere a combination of two phrases in a clause that appear only once together in the OT. Why does it have significance here and not elsewhere? You might want to argue that אִ֣ישׁ וּבֵיתֹ֑ו is actually more significant as it appear only in the Davidic cycle (1 Sam 27:3, 2 Sam 2:3) and the opening of Ex 1:1 (still the questions that would have to be answered is “in what way would it be significant?”). For example: If you just look at the next clause in 2 Sam 2:3 (וַיֵּשְׁב֖וּ בְּעָרֵ֥י חֶבְרֹֽון) a pl wayyiqtol followed by a prepositional complement phrase (בְּ with a pl construct of עִיר [which cities belong to Hebron?]) only appears here in v3 and nowhere else in the TNK. I think this has no significance and thus you rightly do not discuss it. But then, what justifies the previous phenomenon (phrases אִ֣ישׁ וּבֵיתֹ֑ו and אֲשֶׁר־עִמֹּ֛ו”) to have significance when its singularity cannot be used as an argument? Every day is individual and unrepeated (as well as unrepeatable). But that does not yet make it a special day… And if one would really want to argue for the equation of “singularity = significance”, then the text would be inflated with significance to such extent, that the whole concept of rhetoric and textual intentionality would collapse."
   ]
  },
  {
   "cell_type": "code",
   "execution_count": 10,
   "metadata": {},
   "outputs": [
    {
     "name": "stdout",
     "output_type": "stream",
     "text": [
      "  0.81s 16 results\n"
     ]
    },
    {
     "data": {
      "text/html": [
       "<table>\n",
       "<tr class=\"tf\">\n",
       "  <th class=\"tf\">n</th><th class=\"tf\">p</th>\n",
       "  <th class=\"tf\">verse</th><th>word</th><th>word</th>\n",
       "</tr>\n",
       "\n",
       "<tr class=\"tf\"><td class=\"tf\">1</td><td class=\"tf\"> <a href=\"https://shebanq.ancient-data.org/hebrew/text?book=Genesis&amp;chapter=24&amp;verse=54&amp;version=c&amp;mr=m&amp;qw=q&amp;tp=txt_p&amp;tr=hb&amp;wget=v&amp;qget=v&amp;nget=vt\" title=\"show this passage in SHEBANQ\" sec=\"Genesis 24:54\">Genesis 24:54</a></td><td class=\"tf\"><span class=\"hb\"><a class=\"vn\" href=\"https://shebanq.ancient-data.org/hebrew/text?book=Genesis&amp;chapter=24&amp;verse=54&amp;version=c&amp;mr=m&amp;qw=q&amp;tp=txt_p&amp;tr=hb&amp;wget=v&amp;qget=v&amp;nget=vt\" title=\"Genesis 24:54\" sec=\"Genesis 24:54\"></a>וַיֹּאכְל֣וּ וַיִּשְׁתּ֗וּ ה֛וּא וְהָאֲנָשִׁ֥ים <span  class=\"hl\" >אֲשֶׁר־</span><span  class=\"hl\" >עִמֹּ֖ו </span>וַיָּלִ֑ינוּ וַיָּק֣וּמוּ בַבֹּ֔קֶר וַיֹּ֖אמֶר שַׁלְּחֻ֥נִי לַֽאדֹנִֽי׃ </span></td><td class=\"tf\"><span class=\"hb\"><span  class=\"hl\" >אֲשֶׁר־</span></span></td><td class=\"tf\"><span class=\"hb\"><span  class=\"hl\" >עִמֹּ֖ו </span></span></td></tr>\n",
       "<tr class=\"tf\"><td class=\"tf\">2</td><td class=\"tf\"> <a href=\"https://shebanq.ancient-data.org/hebrew/text?book=Genesis&amp;chapter=35&amp;verse=2&amp;version=c&amp;mr=m&amp;qw=q&amp;tp=txt_p&amp;tr=hb&amp;wget=v&amp;qget=v&amp;nget=vt\" title=\"show this passage in SHEBANQ\" sec=\"Genesis 35:2\">Genesis 35:2</a></td><td class=\"tf\"><span class=\"hb\"><a class=\"vn\" href=\"https://shebanq.ancient-data.org/hebrew/text?book=Genesis&amp;chapter=35&amp;verse=2&amp;version=c&amp;mr=m&amp;qw=q&amp;tp=txt_p&amp;tr=hb&amp;wget=v&amp;qget=v&amp;nget=vt\" title=\"Genesis 35:2\" sec=\"Genesis 35:2\"></a>וַיֹּ֤אמֶר יַעֲקֹב֙ אֶל־בֵּיתֹ֔ו וְאֶ֖ל כָּל־<span  class=\"hl\" >אֲשֶׁ֣ר </span><span  class=\"hl\" >עִמֹּ֑ו </span>הָסִ֜רוּ אֶת־אֱלֹהֵ֤י הַנֵּכָר֙ אֲשֶׁ֣ר בְּתֹכְכֶ֔ם וְהִֽטַּהֲר֔וּ וְהַחֲלִ֖יפוּ שִׂמְלֹתֵיכֶֽם׃ </span></td><td class=\"tf\"><span class=\"hb\"><span  class=\"hl\" >אֲשֶׁ֣ר </span></span></td><td class=\"tf\"><span class=\"hb\"><span  class=\"hl\" >עִמֹּ֑ו </span></span></td></tr>\n",
       "<tr class=\"tf\"><td class=\"tf\">3</td><td class=\"tf\"> <a href=\"https://shebanq.ancient-data.org/hebrew/text?book=Genesis&amp;chapter=35&amp;verse=6&amp;version=c&amp;mr=m&amp;qw=q&amp;tp=txt_p&amp;tr=hb&amp;wget=v&amp;qget=v&amp;nget=vt\" title=\"show this passage in SHEBANQ\" sec=\"Genesis 35:6\">Genesis 35:6</a></td><td class=\"tf\"><span class=\"hb\"><a class=\"vn\" href=\"https://shebanq.ancient-data.org/hebrew/text?book=Genesis&amp;chapter=35&amp;verse=6&amp;version=c&amp;mr=m&amp;qw=q&amp;tp=txt_p&amp;tr=hb&amp;wget=v&amp;qget=v&amp;nget=vt\" title=\"Genesis 35:6\" sec=\"Genesis 35:6\"></a>וַיָּבֹ֨א יַעֲקֹ֜ב ל֗וּזָה אֲשֶׁר֙ בְּאֶ֣רֶץ כְּנַ֔עַן הִ֖וא בֵּֽית־אֵ֑ל ה֖וּא וְכָל־הָעָ֥ם <span  class=\"hl\" >אֲשֶׁר־</span><span  class=\"hl\" >עִמֹּֽו׃ </span></span></td><td class=\"tf\"><span class=\"hb\"><span  class=\"hl\" >אֲשֶׁר־</span></span></td><td class=\"tf\"><span class=\"hb\"><span  class=\"hl\" >עִמֹּֽו׃ </span></span></td></tr>\n",
       "<tr class=\"tf\"><td class=\"tf\">4</td><td class=\"tf\"> <a href=\"https://shebanq.ancient-data.org/hebrew/text?book=Deuteronomium&amp;chapter=29&amp;verse=16&amp;version=c&amp;mr=m&amp;qw=q&amp;tp=txt_p&amp;tr=hb&amp;wget=v&amp;qget=v&amp;nget=vt\" title=\"show this passage in SHEBANQ\" sec=\"Deuteronomy 29:16\">Deuteronomy 29:16</a></td><td class=\"tf\"><span class=\"hb\"><a class=\"vn\" href=\"https://shebanq.ancient-data.org/hebrew/text?book=Deuteronomium&amp;chapter=29&amp;verse=16&amp;version=c&amp;mr=m&amp;qw=q&amp;tp=txt_p&amp;tr=hb&amp;wget=v&amp;qget=v&amp;nget=vt\" title=\"Deuteronomy 29:16\" sec=\"Deuteronomy 29:16\"></a>וַתִּרְאוּ֙ אֶת־שִׁקּ֣וּצֵיהֶ֔ם וְאֵ֖ת גִּלֻּלֵיהֶ֑ם עֵ֣ץ וָאֶ֔בֶן כֶּ֥סֶף וְזָהָ֖ב <span  class=\"hl\" >אֲשֶׁ֥ר </span><span  class=\"hl\" >עִמָּהֶֽם׃ </span></span></td><td class=\"tf\"><span class=\"hb\"><span  class=\"hl\" >עִמָּהֶֽם׃ </span></span></td><td class=\"tf\"><span class=\"hb\"><span  class=\"hl\" >אֲשֶׁ֥ר </span></span></td></tr>\n",
       "<tr class=\"tf\"><td class=\"tf\">5</td><td class=\"tf\"> <a href=\"https://shebanq.ancient-data.org/hebrew/text?book=Judices&amp;chapter=9&amp;verse=34&amp;version=c&amp;mr=m&amp;qw=q&amp;tp=txt_p&amp;tr=hb&amp;wget=v&amp;qget=v&amp;nget=vt\" title=\"show this passage in SHEBANQ\" sec=\"Judges 9:34\">Judges 9:34</a></td><td class=\"tf\"><span class=\"hb\"><a class=\"vn\" href=\"https://shebanq.ancient-data.org/hebrew/text?book=Judices&amp;chapter=9&amp;verse=34&amp;version=c&amp;mr=m&amp;qw=q&amp;tp=txt_p&amp;tr=hb&amp;wget=v&amp;qget=v&amp;nget=vt\" title=\"Judges 9:34\" sec=\"Judges 9:34\"></a>וַיָּ֧קָם אֲבִימֶ֛לֶךְ וְכָל־הָעָ֥ם <span  class=\"hl\" >אֲשֶׁר־</span><span  class=\"hl\" >עִמֹּ֖ו </span>לָ֑יְלָה וַיֶּאֶרְב֣וּ עַל־שְׁכֶ֔ם אַרְבָּעָ֖ה רָאשִֽׁים׃ </span></td><td class=\"tf\"><span class=\"hb\"><span  class=\"hl\" >אֲשֶׁר־</span></span></td><td class=\"tf\"><span class=\"hb\"><span  class=\"hl\" >עִמֹּ֖ו </span></span></td></tr>\n",
       "<tr class=\"tf\"><td class=\"tf\">6</td><td class=\"tf\"> <a href=\"https://shebanq.ancient-data.org/hebrew/text?book=Judices&amp;chapter=9&amp;verse=44&amp;version=c&amp;mr=m&amp;qw=q&amp;tp=txt_p&amp;tr=hb&amp;wget=v&amp;qget=v&amp;nget=vt\" title=\"show this passage in SHEBANQ\" sec=\"Judges 9:44\">Judges 9:44</a></td><td class=\"tf\"><span class=\"hb\"><a class=\"vn\" href=\"https://shebanq.ancient-data.org/hebrew/text?book=Judices&amp;chapter=9&amp;verse=44&amp;version=c&amp;mr=m&amp;qw=q&amp;tp=txt_p&amp;tr=hb&amp;wget=v&amp;qget=v&amp;nget=vt\" title=\"Judges 9:44\" sec=\"Judges 9:44\"></a>וַאֲבִימֶ֗לֶךְ וְהָרָאשִׁים֙ <span  class=\"hl\" >אֲשֶׁ֣ר </span><span  class=\"hl\" >עִמֹּ֔ו </span>פָּשְׁט֕וּ וַיַּ֣עַמְד֔וּ פֶּ֖תַח שַׁ֣עַר הָעִ֑יר וּשְׁנֵ֣י הָֽרָאשִׁ֗ים פָּֽשְׁט֛וּ עַֽל־כָּל־אֲשֶׁ֥ר בַּשָּׂדֶ֖ה וַיַּכּֽוּם׃ </span></td><td class=\"tf\"><span class=\"hb\"><span  class=\"hl\" >אֲשֶׁ֣ר </span></span></td><td class=\"tf\"><span class=\"hb\"><span  class=\"hl\" >עִמֹּ֔ו </span></span></td></tr>\n",
       "<tr class=\"tf\"><td class=\"tf\">7</td><td class=\"tf\"> <a href=\"https://shebanq.ancient-data.org/hebrew/text?book=Judices&amp;chapter=9&amp;verse=48&amp;version=c&amp;mr=m&amp;qw=q&amp;tp=txt_p&amp;tr=hb&amp;wget=v&amp;qget=v&amp;nget=vt\" title=\"show this passage in SHEBANQ\" sec=\"Judges 9:48\">Judges 9:48</a></td><td class=\"tf\"><span class=\"hb\"><a class=\"vn\" href=\"https://shebanq.ancient-data.org/hebrew/text?book=Judices&amp;chapter=9&amp;verse=48&amp;version=c&amp;mr=m&amp;qw=q&amp;tp=txt_p&amp;tr=hb&amp;wget=v&amp;qget=v&amp;nget=vt\" title=\"Judges 9:48\" sec=\"Judges 9:48\"></a>וַיַּ֨עַל אֲבִימֶ֜לֶךְ הַר־צַלְמֹ֗ון הוּא֮ וְכָל־הָעָ֣ם אֲשֶׁר־אִתֹּו֒ וַיִּקַּח֩ אֲבִימֶ֨לֶךְ אֶת־הַקַּרְדֻּמֹּ֜ות בְּיָדֹ֗ו וַיִּכְרֹת֙ שֹׂוכַ֣ת עֵצִ֔ים וַיִּ֨שָּׂאֶ֔הָ וַיָּ֖שֶׂם עַל־שִׁכְמֹ֑ו וַיֹּ֜אמֶר אֶל־הָעָ֣ם <span  class=\"hl\" >אֲשֶׁר־</span><span  class=\"hl\" >עִמֹּ֗ו </span>מָ֤ה רְאִיתֶם֙ עָשִׂ֔יתִי מַהֲר֖וּ עֲשׂ֥וּ כָמֹֽונִי׃ </span></td><td class=\"tf\"><span class=\"hb\"><span  class=\"hl\" >אֲשֶׁר־</span></span></td><td class=\"tf\"><span class=\"hb\"><span  class=\"hl\" >עִמֹּ֗ו </span></span></td></tr>\n",
       "<tr class=\"tf\"><td class=\"tf\">8</td><td class=\"tf\"> <a href=\"https://shebanq.ancient-data.org/hebrew/text?book=Samuel_I&amp;chapter=9&amp;verse=5&amp;version=c&amp;mr=m&amp;qw=q&amp;tp=txt_p&amp;tr=hb&amp;wget=v&amp;qget=v&amp;nget=vt\" title=\"show this passage in SHEBANQ\" sec=\"1_Samuel 9:5\">1_Samuel 9:5</a></td><td class=\"tf\"><span class=\"hb\"><a class=\"vn\" href=\"https://shebanq.ancient-data.org/hebrew/text?book=Samuel_I&amp;chapter=9&amp;verse=5&amp;version=c&amp;mr=m&amp;qw=q&amp;tp=txt_p&amp;tr=hb&amp;wget=v&amp;qget=v&amp;nget=vt\" title=\"1_Samuel 9:5\" sec=\"1_Samuel 9:5\"></a>הֵ֗מָּה בָּ֚אוּ בְּאֶ֣רֶץ צ֔וּף וְשָׁא֥וּל אָמַ֛ר לְנַעֲרֹ֥ו <span  class=\"hl\" >אֲשֶׁר־</span><span  class=\"hl\" >עִמֹּ֖ו </span>לְכָ֣ה וְנָשׁ֑וּבָה פֶּן־יֶחְדַּ֥ל אָבִ֛י מִן־הָאֲתֹנֹ֖ות וְדָ֥אַג לָֽנוּ׃ </span></td><td class=\"tf\"><span class=\"hb\"><span  class=\"hl\" >אֲשֶׁר־</span></span></td><td class=\"tf\"><span class=\"hb\"><span  class=\"hl\" >עִמֹּ֖ו </span></span></td></tr>\n",
       "<tr class=\"tf\"><td class=\"tf\">9</td><td class=\"tf\"> <a href=\"https://shebanq.ancient-data.org/hebrew/text?book=Samuel_I&amp;chapter=14&amp;verse=2&amp;version=c&amp;mr=m&amp;qw=q&amp;tp=txt_p&amp;tr=hb&amp;wget=v&amp;qget=v&amp;nget=vt\" title=\"show this passage in SHEBANQ\" sec=\"1_Samuel 14:2\">1_Samuel 14:2</a></td><td class=\"tf\"><span class=\"hb\"><a class=\"vn\" href=\"https://shebanq.ancient-data.org/hebrew/text?book=Samuel_I&amp;chapter=14&amp;verse=2&amp;version=c&amp;mr=m&amp;qw=q&amp;tp=txt_p&amp;tr=hb&amp;wget=v&amp;qget=v&amp;nget=vt\" title=\"1_Samuel 14:2\" sec=\"1_Samuel 14:2\"></a>וְשָׁא֗וּל יֹושֵׁב֙ בִּקְצֵ֣ה הַגִּבְעָ֔ה תַּ֥חַת הָרִמֹּ֖ון אֲשֶׁ֣ר בְּמִגְרֹ֑ון וְהָעָם֙ <span  class=\"hl\" >אֲשֶׁ֣ר </span><span  class=\"hl\" >עִמֹּ֔ו </span>כְּשֵׁ֥שׁ מֵאֹ֖ות אִֽישׁ׃ </span></td><td class=\"tf\"><span class=\"hb\"><span  class=\"hl\" >אֲשֶׁ֣ר </span></span></td><td class=\"tf\"><span class=\"hb\"><span  class=\"hl\" >עִמֹּ֔ו </span></span></td></tr>\n",
       "<tr class=\"tf\"><td class=\"tf\">10</td><td class=\"tf\"> <a href=\"https://shebanq.ancient-data.org/hebrew/text?book=Samuel_I&amp;chapter=27&amp;verse=2&amp;version=c&amp;mr=m&amp;qw=q&amp;tp=txt_p&amp;tr=hb&amp;wget=v&amp;qget=v&amp;nget=vt\" title=\"show this passage in SHEBANQ\" sec=\"1_Samuel 27:2\">1_Samuel 27:2</a></td><td class=\"tf\"><span class=\"hb\"><a class=\"vn\" href=\"https://shebanq.ancient-data.org/hebrew/text?book=Samuel_I&amp;chapter=27&amp;verse=2&amp;version=c&amp;mr=m&amp;qw=q&amp;tp=txt_p&amp;tr=hb&amp;wget=v&amp;qget=v&amp;nget=vt\" title=\"1_Samuel 27:2\" sec=\"1_Samuel 27:2\"></a>וַיָּ֣קָם דָּוִ֔ד וַיַּעֲבֹ֣ר ה֔וּא וְשֵׁשׁ־מֵאֹ֥ות אִ֖ישׁ <span  class=\"hl\" >אֲשֶׁ֣ר </span><span  class=\"hl\" >עִמֹּ֑ו </span>אֶל־אָכִ֥ישׁ בֶּן־מָעֹ֖וךְ מֶ֥לֶךְ גַּֽת׃ </span></td><td class=\"tf\"><span class=\"hb\"><span  class=\"hl\" >אֲשֶׁ֣ר </span></span></td><td class=\"tf\"><span class=\"hb\"><span  class=\"hl\" >עִמֹּ֑ו </span></span></td></tr>\n",
       "<tr class=\"tf\"><td class=\"tf\">11</td><td class=\"tf\"> <a href=\"https://shebanq.ancient-data.org/hebrew/text?book=Samuel_II&amp;chapter=2&amp;verse=3&amp;version=c&amp;mr=m&amp;qw=q&amp;tp=txt_p&amp;tr=hb&amp;wget=v&amp;qget=v&amp;nget=vt\" title=\"show this passage in SHEBANQ\" sec=\"2_Samuel 2:3\">2_Samuel 2:3</a></td><td class=\"tf\"><span class=\"hb\"><a class=\"vn\" href=\"https://shebanq.ancient-data.org/hebrew/text?book=Samuel_II&amp;chapter=2&amp;verse=3&amp;version=c&amp;mr=m&amp;qw=q&amp;tp=txt_p&amp;tr=hb&amp;wget=v&amp;qget=v&amp;nget=vt\" title=\"2_Samuel 2:3\" sec=\"2_Samuel 2:3\"></a>וַאֲנָשָׁ֧יו <span  class=\"hl\" >אֲשֶׁר־</span><span  class=\"hl\" >עִמֹּ֛ו </span>הֶעֱלָ֥ה דָוִ֖ד אִ֣ישׁ וּבֵיתֹ֑ו וַיֵּשְׁב֖וּ בְּעָרֵ֥י חֶבְרֹֽון׃ </span></td><td class=\"tf\"><span class=\"hb\"><span  class=\"hl\" >אֲשֶׁר־</span></span></td><td class=\"tf\"><span class=\"hb\"><span  class=\"hl\" >עִמֹּ֛ו </span></span></td></tr>\n",
       "<tr class=\"tf\"><td class=\"tf\">12</td><td class=\"tf\"> <a href=\"https://shebanq.ancient-data.org/hebrew/text?book=Samuel_II&amp;chapter=10&amp;verse=13&amp;version=c&amp;mr=m&amp;qw=q&amp;tp=txt_p&amp;tr=hb&amp;wget=v&amp;qget=v&amp;nget=vt\" title=\"show this passage in SHEBANQ\" sec=\"2_Samuel 10:13\">2_Samuel 10:13</a></td><td class=\"tf\"><span class=\"hb\"><a class=\"vn\" href=\"https://shebanq.ancient-data.org/hebrew/text?book=Samuel_II&amp;chapter=10&amp;verse=13&amp;version=c&amp;mr=m&amp;qw=q&amp;tp=txt_p&amp;tr=hb&amp;wget=v&amp;qget=v&amp;nget=vt\" title=\"2_Samuel 10:13\" sec=\"2_Samuel 10:13\"></a>וַיִּגַּ֣שׁ יֹואָ֗ב וְהָעָם֙ <span  class=\"hl\" >אֲשֶׁ֣ר </span><span  class=\"hl\" >עִמֹּ֔ו </span>לַמִּלְחָמָ֖ה בַּֽאֲרָ֑ם וַיָּנֻ֖סוּ מִפָּנָֽיו׃ </span></td><td class=\"tf\"><span class=\"hb\"><span  class=\"hl\" >אֲשֶׁ֣ר </span></span></td><td class=\"tf\"><span class=\"hb\"><span  class=\"hl\" >עִמֹּ֔ו </span></span></td></tr>\n",
       "<tr class=\"tf\"><td class=\"tf\">13</td><td class=\"tf\"> <a href=\"https://shebanq.ancient-data.org/hebrew/text?book=Chronica_I&amp;chapter=19&amp;verse=14&amp;version=c&amp;mr=m&amp;qw=q&amp;tp=txt_p&amp;tr=hb&amp;wget=v&amp;qget=v&amp;nget=vt\" title=\"show this passage in SHEBANQ\" sec=\"1_Chronicles 19:14\">1_Chronicles 19:14</a></td><td class=\"tf\"><span class=\"hb\"><a class=\"vn\" href=\"https://shebanq.ancient-data.org/hebrew/text?book=Chronica_I&amp;chapter=19&amp;verse=14&amp;version=c&amp;mr=m&amp;qw=q&amp;tp=txt_p&amp;tr=hb&amp;wget=v&amp;qget=v&amp;nget=vt\" title=\"1_Chronicles 19:14\" sec=\"1_Chronicles 19:14\"></a>וַיִּגַּ֨שׁ יֹואָ֜ב וְהָעָ֧ם <span  class=\"hl\" >אֲשֶׁר־</span><span  class=\"hl\" >עִמֹּ֛ו </span>לִפְנֵ֥י אֲרָ֖ם לַמִּלְחָמָ֑ה וַיָּנ֖וּסוּ מִפָּנָֽיו׃ </span></td><td class=\"tf\"><span class=\"hb\"><span  class=\"hl\" >אֲשֶׁר־</span></span></td><td class=\"tf\"><span class=\"hb\"><span  class=\"hl\" >עִמֹּ֛ו </span></span></td></tr>\n",
       "<tr class=\"tf\"><td class=\"tf\">14</td><td class=\"tf\"> <a href=\"https://shebanq.ancient-data.org/hebrew/text?book=Chronica_II&amp;chapter=14&amp;verse=12&amp;version=c&amp;mr=m&amp;qw=q&amp;tp=txt_p&amp;tr=hb&amp;wget=v&amp;qget=v&amp;nget=vt\" title=\"show this passage in SHEBANQ\" sec=\"2_Chronicles 14:12\">2_Chronicles 14:12</a></td><td class=\"tf\"><span class=\"hb\"><a class=\"vn\" href=\"https://shebanq.ancient-data.org/hebrew/text?book=Chronica_II&amp;chapter=14&amp;verse=12&amp;version=c&amp;mr=m&amp;qw=q&amp;tp=txt_p&amp;tr=hb&amp;wget=v&amp;qget=v&amp;nget=vt\" title=\"2_Chronicles 14:12\" sec=\"2_Chronicles 14:12\"></a>וַיִּרְדְּפֵ֨ם אָסָ֜א וְהָעָ֣ם <span  class=\"hl\" >אֲשֶׁר־</span><span  class=\"hl\" >עִמֹּו֮ </span>עַד־לִגְרָר֒ וַיִּפֹּ֤ל מִכּוּשִׁים֙ לְאֵ֣ין לָהֶ֣ם מִֽחְיָ֔ה כִּֽי־נִשְׁבְּר֥וּ לִפְנֵֽי־יְהוָ֖ה וְלִפְנֵ֣י מַחֲנֵ֑הוּ וַיִּשְׂא֥וּ שָׁלָ֖ל הַרְבֵּ֥ה מְאֹֽד׃ </span></td><td class=\"tf\"><span class=\"hb\"><span  class=\"hl\" >אֲשֶׁר־</span></span></td><td class=\"tf\"><span class=\"hb\"><span  class=\"hl\" >עִמֹּו֮ </span></span></td></tr>\n",
       "<tr class=\"tf\"><td class=\"tf\">15</td><td class=\"tf\"> <a href=\"https://shebanq.ancient-data.org/hebrew/text?book=Chronica_II&amp;chapter=18&amp;verse=2&amp;version=c&amp;mr=m&amp;qw=q&amp;tp=txt_p&amp;tr=hb&amp;wget=v&amp;qget=v&amp;nget=vt\" title=\"show this passage in SHEBANQ\" sec=\"2_Chronicles 18:2\">2_Chronicles 18:2</a></td><td class=\"tf\"><span class=\"hb\"><a class=\"vn\" href=\"https://shebanq.ancient-data.org/hebrew/text?book=Chronica_II&amp;chapter=18&amp;verse=2&amp;version=c&amp;mr=m&amp;qw=q&amp;tp=txt_p&amp;tr=hb&amp;wget=v&amp;qget=v&amp;nget=vt\" title=\"2_Chronicles 18:2\" sec=\"2_Chronicles 18:2\"></a>וַיֵּרֶד֩ לְקֵ֨ץ שָׁנִ֤ים אֶל־אַחְאָב֙ לְשֹׁ֣מְרֹ֔ון וַיִּֽזְבַּֽח־לֹ֨ו אַחְאָ֜ב צֹ֤אן וּבָקָר֙ לָרֹ֔ב וְלָעָ֖ם <span  class=\"hl\" >אֲשֶׁ֣ר </span><span  class=\"hl\" >עִמֹּ֑ו </span>וַיְסִיתֵ֕הוּ לַעֲלֹ֖ות אֶל־רָמֹ֥ות גִּלְעָֽד׃ </span></td><td class=\"tf\"><span class=\"hb\"><span  class=\"hl\" >אֲשֶׁ֣ר </span></span></td><td class=\"tf\"><span class=\"hb\"><span  class=\"hl\" >עִמֹּ֑ו </span></span></td></tr>\n",
       "<tr class=\"tf\"><td class=\"tf\">16</td><td class=\"tf\"> <a href=\"https://shebanq.ancient-data.org/hebrew/text?book=Chronica_II&amp;chapter=32&amp;verse=7&amp;version=c&amp;mr=m&amp;qw=q&amp;tp=txt_p&amp;tr=hb&amp;wget=v&amp;qget=v&amp;nget=vt\" title=\"show this passage in SHEBANQ\" sec=\"2_Chronicles 32:7\">2_Chronicles 32:7</a></td><td class=\"tf\"><span class=\"hb\"><a class=\"vn\" href=\"https://shebanq.ancient-data.org/hebrew/text?book=Chronica_II&amp;chapter=32&amp;verse=7&amp;version=c&amp;mr=m&amp;qw=q&amp;tp=txt_p&amp;tr=hb&amp;wget=v&amp;qget=v&amp;nget=vt\" title=\"2_Chronicles 32:7\" sec=\"2_Chronicles 32:7\"></a>חִזְק֣וּ וְאִמְצ֔וּ אַל־תִּֽירְא֣וּ וְאַל־תֵּחַ֗תּוּ מִפְּנֵי֙ מֶ֣לֶךְ אַשּׁ֔וּר וּמִלִּפְנֵ֖י כָּל־הֶהָמֹ֣ון <span  class=\"hl\" >אֲשֶׁר־</span><span  class=\"hl\" >עִמֹּ֑ו </span>כִּֽי־עִמָּ֥נוּ רַ֖ב מֵעִמֹּֽו׃ </span></td><td class=\"tf\"><span class=\"hb\"><span  class=\"hl\" >עִמֹּ֑ו </span></span></td><td class=\"tf\"><span class=\"hb\"><span  class=\"hl\" >אֲשֶׁר־</span></span></td></tr></table>"
      ],
      "text/plain": [
       "<IPython.core.display.HTML object>"
      ]
     },
     "metadata": {},
     "output_type": "display_data"
    }
   ],
   "source": [
    "WithHim = '''\n",
    "verse\n",
    "        w1:word lex=>CR\n",
    "        <: w2:word lex=<M prs_ps=p3\n",
    "'''\n",
    "WithHim  = A.search(WithHim)\n",
    "A.table(WithHim, start=1, end=48, condensed=True)"
   ]
  },
  {
   "cell_type": "markdown",
   "metadata": {},
   "source": [
    "### נגד as \"significant\"\n",
    "נגד: You argue that the term נגד “provides an interesting link between David and Saul” (p81, 1 Sam 11 => 2 Sam 2:4). However, the term appears 52x in 1 Sam and not just in 1 Sam 11:9. Consequently, נגד does not establish any strong link, really. Now, it must be said, that you do create another link with 1 Sam 11: Jabesh-Gilead. And this is the real strong link. But the fact that you first mention the word-usage based link (נגד) is representative for much of your approach. It seems that for your argumentation verbal repetition – even when insignificant – are prioritized over stronger textual phenomena (Jabesh-Gilead). Thus, for the reader there seems to be a wrong order of arguments present. This order potentially shows your methodological bias: lexical-connections are receiving preference over those phenomena that weigh heavier in the actual process (see cognitive linguistics, cognitive literary studies)."
   ]
  },
  {
   "cell_type": "code",
   "execution_count": 11,
   "metadata": {},
   "outputs": [
    {
     "name": "stdout",
     "output_type": "stream",
     "text": [
      "  0.87s 120 results\n"
     ]
    },
    {
     "data": {
      "text/html": [
       "<table>\n",
       "<tr class=\"tf\">\n",
       "  <th class=\"tf\">n</th><th class=\"tf\">p</th>\n",
       "  <th class=\"tf\">verse</th><th>clause</th><th>word</th><th>word</th>\n",
       "</tr>\n",
       "\n",
       "<tr class=\"tf\"><td class=\"tf\">1</td><td class=\"tf\"> <a href=\"https://shebanq.ancient-data.org/hebrew/text?book=Genesis&amp;chapter=9&amp;verse=22&amp;version=c&amp;mr=m&amp;qw=q&amp;tp=txt_p&amp;tr=hb&amp;wget=v&amp;qget=v&amp;nget=vt\" title=\"show this passage in SHEBANQ\" sec=\"Genesis 9:22\">Genesis 9:22</a></td><td class=\"tf\"><span class=\"hb\"><a class=\"vn\" href=\"https://shebanq.ancient-data.org/hebrew/text?book=Genesis&amp;chapter=9&amp;verse=22&amp;version=c&amp;mr=m&amp;qw=q&amp;tp=txt_p&amp;tr=hb&amp;wget=v&amp;qget=v&amp;nget=vt\" title=\"Genesis 9:22\" sec=\"Genesis 9:22\"></a>וַיַּ֗רְא חָ֚ם אֲבִ֣י כְנַ֔עַן אֵ֖ת עֶרְוַ֣ת אָבִ֑יו <span  class=\"hlup\" >וַ</span><span  class=\"hl hlup\" >יַּגֵּ֥ד </span><span  class=\"hl hlup\" >לִ</span><span  class=\"hlup\" >שְׁנֵֽי־</span><span  class=\"hlup\" >אֶחָ֖יו </span><span  class=\"hlup\" >בַּ</span><span  class=\"hlup\" ></span><span  class=\"hlup\" >חֽוּץ׃ </span></span></td><td class=\"tf\"><span class=\"hb\"><span  class=\"hlup\" >וַ</span><span  class=\"hl hlup\" >יַּגֵּ֥ד </span><span  class=\"hl hlup\" >לִ</span><span  class=\"hlup\" >שְׁנֵֽי־</span><span  class=\"hlup\" >אֶחָ֖יו </span><span  class=\"hlup\" >בַּ</span><span  class=\"hlup\" ></span><span  class=\"hlup\" >חֽוּץ׃ </span></span></td><td class=\"tf\"><span class=\"hb\"><span  class=\"hl hlup\" >יַּגֵּ֥ד </span></span></td><td class=\"tf\"><span class=\"hb\"><span  class=\"hl hlup\" >לִ</span></span></td></tr>\n",
       "<tr class=\"tf\"><td class=\"tf\">2</td><td class=\"tf\"> <a href=\"https://shebanq.ancient-data.org/hebrew/text?book=Genesis&amp;chapter=14&amp;verse=13&amp;version=c&amp;mr=m&amp;qw=q&amp;tp=txt_p&amp;tr=hb&amp;wget=v&amp;qget=v&amp;nget=vt\" title=\"show this passage in SHEBANQ\" sec=\"Genesis 14:13\">Genesis 14:13</a></td><td class=\"tf\"><span class=\"hb\"><a class=\"vn\" href=\"https://shebanq.ancient-data.org/hebrew/text?book=Genesis&amp;chapter=14&amp;verse=13&amp;version=c&amp;mr=m&amp;qw=q&amp;tp=txt_p&amp;tr=hb&amp;wget=v&amp;qget=v&amp;nget=vt\" title=\"Genesis 14:13\" sec=\"Genesis 14:13\"></a>וַיָּבֹא֙ הַפָּלִ֔יט <span  class=\"hlup\" >וַ</span><span  class=\"hl hlup\" >יַּגֵּ֖ד </span><span  class=\"hl hlup\" >לְ</span><span  class=\"hlup\" >אַבְרָ֣ם </span><span  class=\"hlup\" >הָ</span><span  class=\"hlup\" >עִבְרִ֑י </span>וְהוּא֩ שֹׁכֵ֨ן בְּאֵֽלֹנֵ֜י מַמְרֵ֣א הָאֱמֹרִ֗י אֲחִ֤י אֶשְׁכֹּל֙ וַאֲחִ֣י עָנֵ֔ר וְהֵ֖ם בַּעֲלֵ֥י בְרִית־אַבְרָֽם׃ </span></td><td class=\"tf\"><span class=\"hb\"><span  class=\"hlup\" >וַ</span><span  class=\"hl hlup\" >יַּגֵּ֖ד </span><span  class=\"hl hlup\" >לְ</span><span  class=\"hlup\" >אַבְרָ֣ם </span><span  class=\"hlup\" >הָ</span><span  class=\"hlup\" >עִבְרִ֑י </span></span></td><td class=\"tf\"><span class=\"hb\"><span  class=\"hl hlup\" >יַּגֵּ֖ד </span></span></td><td class=\"tf\"><span class=\"hb\"><span  class=\"hl hlup\" >לְ</span></span></td></tr>\n",
       "<tr class=\"tf\"><td class=\"tf\">3</td><td class=\"tf\"> <a href=\"https://shebanq.ancient-data.org/hebrew/text?book=Genesis&amp;chapter=22&amp;verse=20&amp;version=c&amp;mr=m&amp;qw=q&amp;tp=txt_p&amp;tr=hb&amp;wget=v&amp;qget=v&amp;nget=vt\" title=\"show this passage in SHEBANQ\" sec=\"Genesis 22:20\">Genesis 22:20</a></td><td class=\"tf\"><span class=\"hb\"><a class=\"vn\" href=\"https://shebanq.ancient-data.org/hebrew/text?book=Genesis&amp;chapter=22&amp;verse=20&amp;version=c&amp;mr=m&amp;qw=q&amp;tp=txt_p&amp;tr=hb&amp;wget=v&amp;qget=v&amp;nget=vt\" title=\"Genesis 22:20\" sec=\"Genesis 22:20\"></a>וַיְהִ֗י אַחֲרֵי֙ הַדְּבָרִ֣ים הָאֵ֔לֶּה <span  class=\"hlup\" >וַ</span><span  class=\"hl hlup\" >יֻּגַּ֥ד </span><span  class=\"hl hlup\" >לְ</span><span  class=\"hlup\" >אַבְרָהָ֖ם </span>לֵאמֹ֑ר הִ֠נֵּה יָלְדָ֨ה מִלְכָּ֥ה גַם־הִ֛וא בָּנִ֖ים לְנָחֹ֥ור אָחִֽיךָ׃ </span></td><td class=\"tf\"><span class=\"hb\"><span  class=\"hl hlup\" >יֻּגַּ֥ד </span></span></td><td class=\"tf\"><span class=\"hb\"><span  class=\"hl hlup\" >לְ</span></span></td><td class=\"tf\"><span class=\"hb\"><span  class=\"hlup\" >וַ</span><span  class=\"hl hlup\" >יֻּגַּ֥ד </span><span  class=\"hl hlup\" >לְ</span><span  class=\"hlup\" >אַבְרָהָ֖ם </span></span></td></tr>\n",
       "<tr class=\"tf\"><td class=\"tf\">4</td><td class=\"tf\"> <a href=\"https://shebanq.ancient-data.org/hebrew/text?book=Genesis&amp;chapter=24&amp;verse=28&amp;version=c&amp;mr=m&amp;qw=q&amp;tp=txt_p&amp;tr=hb&amp;wget=v&amp;qget=v&amp;nget=vt\" title=\"show this passage in SHEBANQ\" sec=\"Genesis 24:28\">Genesis 24:28</a></td><td class=\"tf\"><span class=\"hb\"><a class=\"vn\" href=\"https://shebanq.ancient-data.org/hebrew/text?book=Genesis&amp;chapter=24&amp;verse=28&amp;version=c&amp;mr=m&amp;qw=q&amp;tp=txt_p&amp;tr=hb&amp;wget=v&amp;qget=v&amp;nget=vt\" title=\"Genesis 24:28\" sec=\"Genesis 24:28\"></a>וַתָּ֨רָץ֙ הַֽנַּעֲרָ֔ <span  class=\"hlup\" >וַ</span><span  class=\"hl hlup\" >תַּגֵּ֖ד </span><span  class=\"hl hlup\" >לְ</span><span  class=\"hlup\" >בֵ֣ית </span><span  class=\"hlup\" >אִמָּ֑הּ </span><span  class=\"hlup\" >כַּ</span><span  class=\"hlup\" ></span><span  class=\"hlup\" >דְּבָרִ֖ים </span><span  class=\"hlup\" >הָ</span><span  class=\"hlup\" >אֵֽלֶּה׃ </span></span></td><td class=\"tf\"><span class=\"hb\"><span  class=\"hl hlup\" >תַּגֵּ֖ד </span></span></td><td class=\"tf\"><span class=\"hb\"><span  class=\"hl hlup\" >לְ</span></span></td><td class=\"tf\"><span class=\"hb\"><span  class=\"hlup\" >וַ</span><span  class=\"hl hlup\" >תַּגֵּ֖ד </span><span  class=\"hl hlup\" >לְ</span><span  class=\"hlup\" >בֵ֣ית </span><span  class=\"hlup\" >אִמָּ֑הּ </span><span  class=\"hlup\" >כַּ</span><span  class=\"hlup\" ></span><span  class=\"hlup\" >דְּבָרִ֖ים </span><span  class=\"hlup\" >הָ</span><span  class=\"hlup\" >אֵֽלֶּה׃ </span></span></td></tr>\n",
       "<tr class=\"tf\"><td class=\"tf\">5</td><td class=\"tf\"> <a href=\"https://shebanq.ancient-data.org/hebrew/text?book=Genesis&amp;chapter=26&amp;verse=32&amp;version=c&amp;mr=m&amp;qw=q&amp;tp=txt_p&amp;tr=hb&amp;wget=v&amp;qget=v&amp;nget=vt\" title=\"show this passage in SHEBANQ\" sec=\"Genesis 26:32\">Genesis 26:32</a></td><td class=\"tf\"><span class=\"hb\"><a class=\"vn\" href=\"https://shebanq.ancient-data.org/hebrew/text?book=Genesis&amp;chapter=26&amp;verse=32&amp;version=c&amp;mr=m&amp;qw=q&amp;tp=txt_p&amp;tr=hb&amp;wget=v&amp;qget=v&amp;nget=vt\" title=\"Genesis 26:32\" sec=\"Genesis 26:32\"></a>וַיְהִ֣י׀ בַּיֹּ֣ום הַה֗וּא וַיָּבֹ֨אוּ֙ עַבְדֵ֣י יִצְחָ֔ק <span  class=\"hlup\" >וַ</span><span  class=\"hl hlup\" >יַּגִּ֣דוּ </span><span  class=\"hl hlup\" >לֹ֔ו </span><span  class=\"hlup\" >עַל־</span><span  class=\"hlup\" >אֹדֹ֥ות </span><span  class=\"hlup\" >הַ</span><span  class=\"hlup\" >בְּאֵ֖ר </span>אֲשֶׁ֣ר חָפָ֑רוּ וַיֹּ֥אמְרוּ לֹ֖ו מָצָ֥אנוּ מָֽיִם׃ </span></td><td class=\"tf\"><span class=\"hb\"><span  class=\"hl hlup\" >לֹ֔ו </span></span></td><td class=\"tf\"><span class=\"hb\"><span  class=\"hlup\" >וַ</span><span  class=\"hl hlup\" >יַּגִּ֣דוּ </span><span  class=\"hl hlup\" >לֹ֔ו </span><span  class=\"hlup\" >עַל־</span><span  class=\"hlup\" >אֹדֹ֥ות </span><span  class=\"hlup\" >הַ</span><span  class=\"hlup\" >בְּאֵ֖ר </span></span></td><td class=\"tf\"><span class=\"hb\"><span  class=\"hl hlup\" >יַּגִּ֣דוּ </span></span></td></tr></table>"
      ],
      "text/plain": [
       "<IPython.core.display.HTML object>"
      ]
     },
     "metadata": {},
     "output_type": "display_data"
    }
   ],
   "source": [
    "NGD = '''\n",
    "clause typ=Way0|WayX\n",
    "    word lex=NGD[\n",
    "    word lex=L\n",
    "'''\n",
    "NGD  = A.search(NGD)\n",
    "A.table(NGD, start=1, end=5, condensed=True)"
   ]
  },
  {
   "cell_type": "markdown",
   "metadata": {},
   "source": [
    "### \"lets make strong your hand\"\n",
    "תֶּחֱזַ֣קְנָה יְדֵיכֶ֗ם: The phraseological link between 2 Sam 2:7 and Judg 7:11 is – in my eyes – quite problematic and asks for an inquiry into the method of “link establishment” (you say “It does not seem accidental, for example, that the almost identical phrase occurs only one time previously in the Old Testament, namely in Judg 7:11”, p89). What is presented as a very rare phrase appears in the TNK as valence construction at least 46x. Yes, there are variations of this valence regarding tense and pronominal suffix but those do not contribute to the essential meaning of the valence. Therefore, how can a very normal expression be of strong interpretative significance, when its specialty is marked by a tense and pronominal suffix? As an example, the phrase “had raised hands” has not more significance in a text in which the construction “to raise” + “hand” appears multiple times but not in a perfect tense."
   ]
  },
  {
   "cell_type": "code",
   "execution_count": 12,
   "metadata": {},
   "outputs": [
    {
     "name": "stdout",
     "output_type": "stream",
     "text": [
      "  1.57s 3 results\n"
     ]
    },
    {
     "data": {
      "text/html": [
       "<table>\n",
       "<tr class=\"tf\">\n",
       "  <th class=\"tf\">n</th><th class=\"tf\">p</th>\n",
       "  <th class=\"tf\">verse</th><th>word</th><th>clause</th><th>word</th><th>word</th><th>phrase</th><th>phrase</th>\n",
       "</tr>\n",
       "\n",
       "<tr class=\"tf\"><td class=\"tf\">1</td><td class=\"tf\"> <a href=\"https://shebanq.ancient-data.org/hebrew/text?book=Numeri&amp;chapter=9&amp;verse=20&amp;version=c&amp;mr=m&amp;qw=q&amp;tp=txt_p&amp;tr=hb&amp;wget=v&amp;qget=v&amp;nget=vt\" title=\"show this passage in SHEBANQ\" sec=\"Numbers 9:20\">Numbers 9:20</a></td><td class=\"tf\"><span class=\"hb\"><a class=\"vn\" href=\"https://shebanq.ancient-data.org/hebrew/text?book=Numeri&amp;chapter=9&amp;verse=20&amp;version=c&amp;mr=m&amp;qw=q&amp;tp=txt_p&amp;tr=hb&amp;wget=v&amp;qget=v&amp;nget=vt\" title=\"Numbers 9:20\" sec=\"Numbers 9:20\"></a>וְיֵ֞שׁ <span  class=\"hlup\" >אֲשֶׁ֨ר </span><span  class=\"hl hlup\" >יִהְיֶ֧ה </span><span  class=\"hlup\" >הֶֽ</span><span  class=\"hlup\" >עָנָ֛ן </span><span  class=\"hl hlup\" >יָמִ֥ים </span><span  class=\"hl hlup\" >מִסְפָּ֖ר </span><span  class=\"hlup\" >עַל־</span><span  class=\"hlup\" >הַ</span><span  class=\"hlup\" >מִּשְׁכָּ֑ן </span>עַל־פִּ֤י יְהוָה֙ יַחֲנ֔וּ וְעַל־פִּ֥י יְהוָ֖ה יִסָּֽעוּ׃ </span></td><td class=\"tf\"><span class=\"hb\"><span  class=\"hl hlup\" >יִהְיֶ֧ה </span></span></td><td class=\"tf\"><span class=\"hb\"><span  class=\"hlup\" >אֲשֶׁ֨ר </span><span  class=\"hl hlup\" >יִהְיֶ֧ה </span><span  class=\"hlup\" >הֶֽ</span><span  class=\"hlup\" >עָנָ֛ן </span><span  class=\"hl hlup\" >יָמִ֥ים </span><span  class=\"hl hlup\" >מִסְפָּ֖ר </span><span  class=\"hlup\" >עַל־</span><span  class=\"hlup\" >הַ</span><span  class=\"hlup\" >מִּשְׁכָּ֑ן </span></span></td><td class=\"tf\"><span class=\"hb\"><span  class=\"hl hlup\" >יָמִ֥ים </span></span></td><td class=\"tf\"><span class=\"hb\"><span  class=\"hl hlup\" >מִסְפָּ֖ר </span></span></td><td class=\"tf\"><span class=\"hb\"><span  class=\"hl hlup\" >יִהְיֶ֧ה </span></span></td><td class=\"tf\"><span class=\"hb\"><span  class=\"hl hlup\" >יָמִ֥ים </span><span  class=\"hl hlup\" >מִסְפָּ֖ר </span></span></td></tr>\n",
       "<tr class=\"tf\"><td class=\"tf\">2</td><td class=\"tf\"> <a href=\"https://shebanq.ancient-data.org/hebrew/text?book=Samuel_I&amp;chapter=27&amp;verse=7&amp;version=c&amp;mr=m&amp;qw=q&amp;tp=txt_p&amp;tr=hb&amp;wget=v&amp;qget=v&amp;nget=vt\" title=\"show this passage in SHEBANQ\" sec=\"1_Samuel 27:7\">1_Samuel 27:7</a></td><td class=\"tf\"><span class=\"hb\"><a class=\"vn\" href=\"https://shebanq.ancient-data.org/hebrew/text?book=Samuel_I&amp;chapter=27&amp;verse=7&amp;version=c&amp;mr=m&amp;qw=q&amp;tp=txt_p&amp;tr=hb&amp;wget=v&amp;qget=v&amp;nget=vt\" title=\"1_Samuel 27:7\" sec=\"1_Samuel 27:7\"></a><span  class=\"hlup\" >וַֽ</span><span  class=\"hl hlup\" >יְהִי֙ </span><span  class=\"hl hlup\" >מִסְפַּ֣ר </span><span  class=\"hlup\" >הַ</span><span  class=\"hl hlup\" >יָּמִ֔ים </span>אֲשֶׁר־יָשַׁ֥ב דָּוִ֖ד בִּשְׂדֵ֣ה פְלִשְׁתִּ֑ים <span  class=\"hlup\" >יָמִ֖ים </span><span  class=\"hlup\" >וְ</span><span  class=\"hlup\" >אַרְבָּעָ֥ה </span><span  class=\"hlup\" >חֳדָשִֽׁים׃ </span></span></td><td class=\"tf\"><span class=\"hb\"><span  class=\"hl hlup\" >יְהִי֙ </span></span></td><td class=\"tf\"><span class=\"hb\"><span  class=\"hl hlup\" >מִסְפַּ֣ר </span><span  class=\"hlup\" >הַ</span><span  class=\"hl hlup\" >יָּמִ֔ים </span></span></td><td class=\"tf\"><span class=\"hb\"><span  class=\"hl hlup\" >יְהִי֙ </span></span></td><td class=\"tf\"><span class=\"hb\"><span  class=\"hl hlup\" >מִסְפַּ֣ר </span></span></td><td class=\"tf\"><span class=\"hb\"><span  class=\"hl hlup\" >יָּמִ֔ים </span></span></td><td class=\"tf\"><span class=\"hb\"><span  class=\"hlup\" >וַֽ</span><span  class=\"hl hlup\" >יְהִי֙ </span><span  class=\"hl hlup\" >מִסְפַּ֣ר </span><span  class=\"hlup\" >הַ</span><span  class=\"hl hlup\" >יָּמִ֔ים </span><span  class=\"hlup\" >יָמִ֖ים </span><span  class=\"hlup\" >וְ</span><span  class=\"hlup\" >אַרְבָּעָ֥ה </span><span  class=\"hlup\" >חֳדָשִֽׁים׃ </span></span></td></tr>\n",
       "<tr class=\"tf\"><td class=\"tf\">3</td><td class=\"tf\"> <a href=\"https://shebanq.ancient-data.org/hebrew/text?book=Samuel_II&amp;chapter=2&amp;verse=11&amp;version=c&amp;mr=m&amp;qw=q&amp;tp=txt_p&amp;tr=hb&amp;wget=v&amp;qget=v&amp;nget=vt\" title=\"show this passage in SHEBANQ\" sec=\"2_Samuel 2:11\">2_Samuel 2:11</a></td><td class=\"tf\"><span class=\"hb\"><a class=\"vn\" href=\"https://shebanq.ancient-data.org/hebrew/text?book=Samuel_II&amp;chapter=2&amp;verse=11&amp;version=c&amp;mr=m&amp;qw=q&amp;tp=txt_p&amp;tr=hb&amp;wget=v&amp;qget=v&amp;nget=vt\" title=\"2_Samuel 2:11\" sec=\"2_Samuel 2:11\"></a><span  class=\"hlup\" >וַֽ</span><span  class=\"hl hlup\" >יְהִי֙ </span><span  class=\"hl hlup\" >מִסְפַּ֣ר </span><span  class=\"hlup\" >הַ</span><span  class=\"hl hlup\" >יָּמִ֔ים </span>אֲשֶׁר֩ הָיָ֨ה דָוִ֥ד מֶ֛לֶךְ בְּחֶבְרֹ֖ון עַל־בֵּ֣ית יְהוּדָ֑ה <span  class=\"hlup\" >שֶׁ֥בַע </span><span  class=\"hlup\" >שָׁנִ֖ים </span><span  class=\"hlup\" >וְ</span><span  class=\"hlup\" >שִׁשָּׁ֥ה </span><span  class=\"hlup\" >חֳדָשִֽׁים׃ ס </span></span></td><td class=\"tf\"><span class=\"hb\"><span  class=\"hl hlup\" >יָּמִ֔ים </span></span></td><td class=\"tf\"><span class=\"hb\"><span  class=\"hlup\" >וַֽ</span><span  class=\"hl hlup\" >יְהִי֙ </span><span  class=\"hl hlup\" >מִסְפַּ֣ר </span><span  class=\"hlup\" >הַ</span><span  class=\"hl hlup\" >יָּמִ֔ים </span><span  class=\"hlup\" >שֶׁ֥בַע </span><span  class=\"hlup\" >שָׁנִ֖ים </span><span  class=\"hlup\" >וְ</span><span  class=\"hlup\" >שִׁשָּׁ֥ה </span><span  class=\"hlup\" >חֳדָשִֽׁים׃ ס </span></span></td><td class=\"tf\"><span class=\"hb\"><span  class=\"hl hlup\" >יְהִי֙ </span></span></td><td class=\"tf\"><span class=\"hb\"><span  class=\"hl hlup\" >מִסְפַּ֣ר </span><span  class=\"hlup\" >הַ</span><span  class=\"hl hlup\" >יָּמִ֔ים </span></span></td><td class=\"tf\"><span class=\"hb\"><span  class=\"hl hlup\" >יְהִי֙ </span></span></td><td class=\"tf\"><span class=\"hb\"><span  class=\"hl hlup\" >מִסְפַּ֣ר </span></span></td></tr></table>"
      ],
      "text/plain": [
       "<IPython.core.display.HTML object>"
      ]
     },
     "metadata": {},
     "output_type": "display_data"
    }
   ],
   "source": [
    "StrongHand = '''\n",
    "clause\n",
    "    phrase\n",
    "        word lex=HJH[\n",
    "    phrase \n",
    "        word lex=MSPR/\n",
    "        word lex=JWM/\n",
    "'''\n",
    "StrongHand  = A.search(StrongHand)\n",
    "A.table(StrongHand, start=1, end=45, condensed=True)"
   ]
  },
  {
   "cell_type": "markdown",
   "metadata": {},
   "source": [
    "### \"His Firstborn\"\n",
    "בְכֹורֹו֙ (p166, 2 Sam 3:2): You argue that the “designation ‘his firstborn’ (בְכֹורֹו֙) occurs only twice previously in the Old Testament” (firstborn of Gideon [Judg 8:20], firstborn of Judah [Gen 38:6]). You then state “The verbal link to Judg 8 connects David with Gideon at the very point in the Gideon narrative where the issue of kingship first comes up […]” (p166). However, the very formulation does not appear just 3 times in total but at least 20 times. With 3sgM suffix it appears 13 times. And with 3sgM suffix + apposition to a proper name (as in 2 Sam 3:2) 9 times. Basically, the phrase is very normal, and regularly used.  Consequently, the phrase does not create a specific connection to Gideon and Judah. Are there some analogies to the account in Gideon? Yes, I think one could argue that. But are these analogies intentional? That is, in my opinion, not to be determined on objective grounds – and definitely not with the help of a phrase that is used often and generally…"
   ]
  },
  {
   "cell_type": "code",
   "execution_count": 13,
   "metadata": {},
   "outputs": [
    {
     "name": "stdout",
     "output_type": "stream",
     "text": [
      "  0.59s 9 results\n"
     ]
    },
    {
     "data": {
      "text/html": [
       "<table>\n",
       "<tr class=\"tf\">\n",
       "  <th class=\"tf\">n</th><th class=\"tf\">p</th>\n",
       "  <th class=\"tf\">verse</th><th>phrase_atom</th><th>word</th>\n",
       "</tr>\n",
       "\n",
       "<tr class=\"tf\"><td class=\"tf\">1</td><td class=\"tf\"> <a href=\"https://shebanq.ancient-data.org/hebrew/text?book=Genesis&amp;chapter=10&amp;verse=15&amp;version=c&amp;mr=m&amp;qw=q&amp;tp=txt_p&amp;tr=hb&amp;wget=v&amp;qget=v&amp;nget=vt\" title=\"show this passage in SHEBANQ\" sec=\"Genesis 10:15\">Genesis 10:15</a></td><td class=\"tf\"><span class=\"hb\"><a class=\"vn\" href=\"https://shebanq.ancient-data.org/hebrew/text?book=Genesis&amp;chapter=10&amp;verse=15&amp;version=c&amp;mr=m&amp;qw=q&amp;tp=txt_p&amp;tr=hb&amp;wget=v&amp;qget=v&amp;nget=vt\" title=\"Genesis 10:15\" sec=\"Genesis 10:15\"></a>וּכְנַ֗עַן יָלַ֛ד אֶת־צִידֹ֥ן <span  class=\"hl hlup\" >בְּכֹרֹ֖ו </span>וְאֶת־חֵֽת׃ </span></td><td class=\"tf\"><span class=\"hb\"><span  class=\"hl hlup\" >בְּכֹרֹ֖ו </span></span></td><td class=\"tf\"><span class=\"hb\"><span  class=\"hl hlup\" >בְּכֹרֹ֖ו </span></span></td></tr>\n",
       "<tr class=\"tf\"><td class=\"tf\">2</td><td class=\"tf\"> <a href=\"https://shebanq.ancient-data.org/hebrew/text?book=Genesis&amp;chapter=22&amp;verse=21&amp;version=c&amp;mr=m&amp;qw=q&amp;tp=txt_p&amp;tr=hb&amp;wget=v&amp;qget=v&amp;nget=vt\" title=\"show this passage in SHEBANQ\" sec=\"Genesis 22:21\">Genesis 22:21</a></td><td class=\"tf\"><span class=\"hb\"><a class=\"vn\" href=\"https://shebanq.ancient-data.org/hebrew/text?book=Genesis&amp;chapter=22&amp;verse=21&amp;version=c&amp;mr=m&amp;qw=q&amp;tp=txt_p&amp;tr=hb&amp;wget=v&amp;qget=v&amp;nget=vt\" title=\"Genesis 22:21\" sec=\"Genesis 22:21\"></a>אֶת־ע֥וּץ <span  class=\"hl hlup\" >בְּכֹרֹ֖ו </span>וְאֶת־בּ֣וּז אָחִ֑יו וְאֶת־קְמוּאֵ֖ל אֲבִ֥י אֲרָֽם׃ </span></td><td class=\"tf\"><span class=\"hb\"><span  class=\"hl hlup\" >בְּכֹרֹ֖ו </span></span></td><td class=\"tf\"><span class=\"hb\"><span  class=\"hl hlup\" >בְּכֹרֹ֖ו </span></span></td></tr>\n",
       "<tr class=\"tf\"><td class=\"tf\">3</td><td class=\"tf\"> <a href=\"https://shebanq.ancient-data.org/hebrew/text?book=Genesis&amp;chapter=38&amp;verse=6&amp;version=c&amp;mr=m&amp;qw=q&amp;tp=txt_p&amp;tr=hb&amp;wget=v&amp;qget=v&amp;nget=vt\" title=\"show this passage in SHEBANQ\" sec=\"Genesis 38:6\">Genesis 38:6</a></td><td class=\"tf\"><span class=\"hb\"><a class=\"vn\" href=\"https://shebanq.ancient-data.org/hebrew/text?book=Genesis&amp;chapter=38&amp;verse=6&amp;version=c&amp;mr=m&amp;qw=q&amp;tp=txt_p&amp;tr=hb&amp;wget=v&amp;qget=v&amp;nget=vt\" title=\"Genesis 38:6\" sec=\"Genesis 38:6\"></a>וַיִּקַּ֧ח יְהוּדָ֛ה אִשָּׁ֖ה לְעֵ֣ר <span  class=\"hl hlup\" >בְּכֹורֹ֑ו </span>וּשְׁמָ֖הּ תָּמָֽר׃ </span></td><td class=\"tf\"><span class=\"hb\"><span  class=\"hl hlup\" >בְּכֹורֹ֑ו </span></span></td><td class=\"tf\"><span class=\"hb\"><span  class=\"hl hlup\" >בְּכֹורֹ֑ו </span></span></td></tr>\n",
       "<tr class=\"tf\"><td class=\"tf\">4</td><td class=\"tf\"> <a href=\"https://shebanq.ancient-data.org/hebrew/text?book=Judices&amp;chapter=8&amp;verse=20&amp;version=c&amp;mr=m&amp;qw=q&amp;tp=txt_p&amp;tr=hb&amp;wget=v&amp;qget=v&amp;nget=vt\" title=\"show this passage in SHEBANQ\" sec=\"Judges 8:20\">Judges 8:20</a></td><td class=\"tf\"><span class=\"hb\"><a class=\"vn\" href=\"https://shebanq.ancient-data.org/hebrew/text?book=Judices&amp;chapter=8&amp;verse=20&amp;version=c&amp;mr=m&amp;qw=q&amp;tp=txt_p&amp;tr=hb&amp;wget=v&amp;qget=v&amp;nget=vt\" title=\"Judges 8:20\" sec=\"Judges 8:20\"></a>וַיֹּ֨אמֶר֙ לְיֶ֣תֶר <span  class=\"hl hlup\" >בְּכֹורֹ֔ו </span>ק֖וּם הֲרֹ֣ג אֹותָ֑ם וְלֹא־שָׁלַ֨ף הַנַּ֤עַר חַרְבֹּו֙ כִּ֣י יָרֵ֔א כִּ֥י עֹודֶ֖נּוּ נָֽעַר׃ </span></td><td class=\"tf\"><span class=\"hb\"><span  class=\"hl hlup\" >בְּכֹורֹ֔ו </span></span></td><td class=\"tf\"><span class=\"hb\"><span  class=\"hl hlup\" >בְּכֹורֹ֔ו </span></span></td></tr>\n",
       "<tr class=\"tf\"><td class=\"tf\">5</td><td class=\"tf\"> <a href=\"https://shebanq.ancient-data.org/hebrew/text?book=Reges_I&amp;chapter=16&amp;verse=34&amp;version=c&amp;mr=m&amp;qw=q&amp;tp=txt_p&amp;tr=hb&amp;wget=v&amp;qget=v&amp;nget=vt\" title=\"show this passage in SHEBANQ\" sec=\"1_Kings 16:34\">1_Kings 16:34</a></td><td class=\"tf\"><span class=\"hb\"><a class=\"vn\" href=\"https://shebanq.ancient-data.org/hebrew/text?book=Reges_I&amp;chapter=16&amp;verse=34&amp;version=c&amp;mr=m&amp;qw=q&amp;tp=txt_p&amp;tr=hb&amp;wget=v&amp;qget=v&amp;nget=vt\" title=\"1_Kings 16:34\" sec=\"1_Kings 16:34\"></a>בְּיָמָ֞יו בָּנָ֥ה חִיאֵ֛ל בֵּ֥ית הָאֱלִ֖י אֶת־יְרִיחֹ֑ה בַּאֲבִירָ֨ם <span  class=\"hl hlup\" >בְּכֹרֹ֜ו </span>יִסְּדָ֗הּ וּבִשְׂג֤וּב צְעִירֹו֙ הִצִּ֣יב דְּלָתֶ֔יהָ כִּדְבַ֣ר יְהוָ֔ה אֲשֶׁ֣ר דִּבֶּ֔ר בְּיַ֖ד יְהֹושֻׁ֥עַ בִּן־נֽוּן׃ ס </span></td><td class=\"tf\"><span class=\"hb\"><span  class=\"hl hlup\" >בְּכֹרֹ֜ו </span></span></td><td class=\"tf\"><span class=\"hb\"><span  class=\"hl hlup\" >בְּכֹרֹ֜ו </span></span></td></tr>\n",
       "<tr class=\"tf\"><td class=\"tf\">6</td><td class=\"tf\"> <a href=\"https://shebanq.ancient-data.org/hebrew/text?book=Chronica_I&amp;chapter=1&amp;verse=13&amp;version=c&amp;mr=m&amp;qw=q&amp;tp=txt_p&amp;tr=hb&amp;wget=v&amp;qget=v&amp;nget=vt\" title=\"show this passage in SHEBANQ\" sec=\"1_Chronicles 1:13\">1_Chronicles 1:13</a></td><td class=\"tf\"><span class=\"hb\"><a class=\"vn\" href=\"https://shebanq.ancient-data.org/hebrew/text?book=Chronica_I&amp;chapter=1&amp;verse=13&amp;version=c&amp;mr=m&amp;qw=q&amp;tp=txt_p&amp;tr=hb&amp;wget=v&amp;qget=v&amp;nget=vt\" title=\"1_Chronicles 1:13\" sec=\"1_Chronicles 1:13\"></a>וּכְנַ֗עַן יָלַ֛ד אֶת־צִידֹ֥ון <span  class=\"hl hlup\" >בְּכֹרֹ֖ו </span>וְאֶת־חֵֽת׃ </span></td><td class=\"tf\"><span class=\"hb\"><span  class=\"hl hlup\" >בְּכֹרֹ֖ו </span></span></td><td class=\"tf\"><span class=\"hb\"><span  class=\"hl hlup\" >בְּכֹרֹ֖ו </span></span></td></tr>\n",
       "<tr class=\"tf\"><td class=\"tf\">7</td><td class=\"tf\"> <a href=\"https://shebanq.ancient-data.org/hebrew/text?book=Chronica_I&amp;chapter=2&amp;verse=42&amp;version=c&amp;mr=m&amp;qw=q&amp;tp=txt_p&amp;tr=hb&amp;wget=v&amp;qget=v&amp;nget=vt\" title=\"show this passage in SHEBANQ\" sec=\"1_Chronicles 2:42\">1_Chronicles 2:42</a></td><td class=\"tf\"><span class=\"hb\"><a class=\"vn\" href=\"https://shebanq.ancient-data.org/hebrew/text?book=Chronica_I&amp;chapter=2&amp;verse=42&amp;version=c&amp;mr=m&amp;qw=q&amp;tp=txt_p&amp;tr=hb&amp;wget=v&amp;qget=v&amp;nget=vt\" title=\"1_Chronicles 2:42\" sec=\"1_Chronicles 2:42\"></a>וּבְנֵ֤י כָלֵב֙ אֲחִ֣י יְרַחְמְאֵ֔ל מֵישָׁ֥ע <span  class=\"hl hlup\" >בְּכֹרֹ֖ו </span>ה֣וּא אֲבִי־זִ֑יף וּבְנֵ֥י מָרֵשָׁ֖ה אֲבִ֥י חֶבְרֹֽון׃ </span></td><td class=\"tf\"><span class=\"hb\"><span  class=\"hl hlup\" >בְּכֹרֹ֖ו </span></span></td><td class=\"tf\"><span class=\"hb\"><span  class=\"hl hlup\" >בְּכֹרֹ֖ו </span></span></td></tr>\n",
       "<tr class=\"tf\"><td class=\"tf\">8</td><td class=\"tf\"> <a href=\"https://shebanq.ancient-data.org/hebrew/text?book=Chronica_I&amp;chapter=8&amp;verse=1&amp;version=c&amp;mr=m&amp;qw=q&amp;tp=txt_p&amp;tr=hb&amp;wget=v&amp;qget=v&amp;nget=vt\" title=\"show this passage in SHEBANQ\" sec=\"1_Chronicles 8:1\">1_Chronicles 8:1</a></td><td class=\"tf\"><span class=\"hb\"><a class=\"vn\" href=\"https://shebanq.ancient-data.org/hebrew/text?book=Chronica_I&amp;chapter=8&amp;verse=1&amp;version=c&amp;mr=m&amp;qw=q&amp;tp=txt_p&amp;tr=hb&amp;wget=v&amp;qget=v&amp;nget=vt\" title=\"1_Chronicles 8:1\" sec=\"1_Chronicles 8:1\"></a>וּבִ֨נְיָמִ֔ן הֹולִ֖יד אֶת־בֶּ֣לַע <span  class=\"hl hlup\" >בְּכֹרֹ֑ו </span>אַשְׁבֵּל֙ הַשֵּׁנִ֔י וְאַחְרַ֖ח הַשְּׁלִישִֽׁי׃ </span></td><td class=\"tf\"><span class=\"hb\"><span  class=\"hl hlup\" >בְּכֹרֹ֑ו </span></span></td><td class=\"tf\"><span class=\"hb\"><span  class=\"hl hlup\" >בְּכֹרֹ֑ו </span></span></td></tr>\n",
       "<tr class=\"tf\"><td class=\"tf\">9</td><td class=\"tf\"> <a href=\"https://shebanq.ancient-data.org/hebrew/text?book=Chronica_I&amp;chapter=8&amp;verse=39&amp;version=c&amp;mr=m&amp;qw=q&amp;tp=txt_p&amp;tr=hb&amp;wget=v&amp;qget=v&amp;nget=vt\" title=\"show this passage in SHEBANQ\" sec=\"1_Chronicles 8:39\">1_Chronicles 8:39</a></td><td class=\"tf\"><span class=\"hb\"><a class=\"vn\" href=\"https://shebanq.ancient-data.org/hebrew/text?book=Chronica_I&amp;chapter=8&amp;verse=39&amp;version=c&amp;mr=m&amp;qw=q&amp;tp=txt_p&amp;tr=hb&amp;wget=v&amp;qget=v&amp;nget=vt\" title=\"1_Chronicles 8:39\" sec=\"1_Chronicles 8:39\"></a>וּבְנֵ֖י עֵ֣שֶׁק אָחִ֑יו אוּלָ֣ם <span  class=\"hl hlup\" >בְּכֹרֹ֔ו </span>יְעוּשׁ֙ הַשֵּׁנִ֔י וֶֽאֱלִיפֶ֖לֶט הַשְּׁלִשִֽׁי׃ </span></td><td class=\"tf\"><span class=\"hb\"><span  class=\"hl hlup\" >בְּכֹרֹ֔ו </span></span></td><td class=\"tf\"><span class=\"hb\"><span  class=\"hl hlup\" >בְּכֹרֹ֔ו </span></span></td></tr></table>"
      ],
      "text/plain": [
       "<IPython.core.display.HTML object>"
      ]
     },
     "metadata": {},
     "output_type": "display_data"
    }
   ],
   "source": [
    "FirstBorn = '''\n",
    "phrase_atom rela=Appo\n",
    "    word lex=BKR/ prs_ps=p3\n",
    "'''\n",
    "FirstBorn  = A.search(FirstBorn)\n",
    "A.table(FirstBorn, start=1, end=95, condensed=True)"
   ]
  },
  {
   "cell_type": "markdown",
   "metadata": {},
   "source": [
    "### Hebron as \"Paradise\"?\n",
    "Another example is your important suggestion that Hebron is functioning as a new paradise (p77-79). Besides mentioning the city of Hebron (no appositions, no attributive clauses are used), the text in 2 Sam 2:1 does nowhere make a single explicit link to the narratives in Gen 13 (and you seem to acknowledge that in your discussion of 2 Sam 2:1). The idea of Hebron representing the garden of Eden is potentially present in Gen 13 – I agree with that – but importing the presence of that meaning-connecting into 2 Sam 2:1 without a single explicit allusion is problematic. The only implicit possible connection that you seek to establish is the connection between Hebron as a refugee city and David as a priestly figure (p79, but that connection is not present in 2 Sam 2:1). But even this connection is a difficult one, since (a) Hebron does not receive any distinct prominence in Josh 20-21 (it appears in a list of many cities neither at the beginning nor end) and (b) none of this connection is made when Hebron is introduced in the narration. Although, your statements on pp78-79 are cautious (“raises the possibility”, “seems to be associated”) these “possibilities” are transformed into “obviousness” at the end of your book (cf. pp301, 314, 316 [“it is significant that David reigns at Hebron, which was both a city of refuge and a place of worship linked to the original garden sanctuary”]). Your “garden” interpretation - considering the fact that Gen 2-3, 13 allusions are absent (see my discussion on “Bones and Flesh” below) and at most meager - could be taken as a product of eisegesis. Let me be clear: I would love to see the garden connection with Hebron, my theology wants it, but scholarly methodology prohibits it – at least a strong statement about it."
   ]
  },
  {
   "cell_type": "markdown",
   "metadata": {},
   "source": [
    "### \"Number of Days\"\n",
    "וַֽיְהִי֙ מִסְפַּ֣ר הַיָּמִ֔ים: You seek to establish a connection between 1 Sam 27:9 and  2 Sam 2:1-11 with the help of the phrase וַֽיְהִי֙ מִסְפַּ֣ר הַיָּמִ֔ים  by arguing for it significance (“does not seem accidental”, p103) on the basis of it appearing only twice in the TNK (1 Sam 27:7 and 2 Sam 2:11). But, again, this clause/formulation is rather standard. From a cognitive perspective, what is more important is the relative clause following אֲשֶׁר֩ הָיָ֨ה דָוִ֥ד מֶ֛לֶךְ בְּחֶבְרֹ֖ון עַל־בֵּ֣ית יְהוּדָ֑ה שֶׁ֥בַע שָׁנִ֖ים וְשִׁשָּׁ֥ה חֳדָשִֽׁים. And it is that information that contrasts David’s time in Ziklag with that in Hebron. While I do not have a problem with וַֽיְהִי֙ מִסְפַּ֣ר הַיָּמִ֔ים being used as a comparative connector with 1 Sam 27:9, I do have a problem with the prioritization of the word usage over information that is of more cognitive value. I think a reordering of the argumentative chain would be helpful. This will help prevent the impression that you choose word connections naively."
   ]
  },
  {
   "cell_type": "markdown",
   "metadata": {},
   "source": [
    "### \"Son of\" [Saul] without a proper name following\n",
    "בֶּן־שָׁא֗וּל (p254, 2 Sam 4:1): It is not initially clear to the reader whether you are discussing the lexical realization of the construct “Son of Saul” or the grammatical phenomenon “Son of [proper name]”. Since you detect only 2 occurrences the reader can disambiguate your claim quickly. However, interestingly the grammatical construction “Son of [proper name]” appears regularly (not just twice). This raises the methodological question, why lexical connections are dominating over grammatical constructions. It this method reduction a way to create (artificial – I would say) significance? If grammatical constructions would have been included in your “close reading” approach you could have seen that the only cases in which the construction is used in the Samuel books outside of 2 Sam 4:1 is in connection with David “Son of Isai” (1 Sam 20:27; 20:31; 22:7; 25:10). In all cases it is negatively used by either Saul or Nabal, as they prevent to put into their mouth the word “David”…. I would say, that this is a more significant (because well-distributed) observation that could indicate authorial intent, compared to the lexical realization of the single grammatical construction with “Saul” (“Son of Saul” vs “Son of Isai”). With this as background one could disagree with your functional analysis of the phrase “Son of Saul” on p259 when you argue that it indicates “his weakness […] merely the son of another)”, and rather suggest, that the author’s bias becomes visible here, as he (the author) treats Ish-Boshet the same way as Saul treats David."
   ]
  },
  {
   "cell_type": "code",
   "execution_count": 14,
   "metadata": {},
   "outputs": [
    {
     "name": "stdout",
     "output_type": "stream",
     "text": [
      "  1.15s 20 results\n"
     ]
    },
    {
     "data": {
      "text/html": [
       "<table>\n",
       "<tr class=\"tf\">\n",
       "  <th class=\"tf\">n</th><th class=\"tf\">p</th>\n",
       "  <th class=\"tf\">book</th><th>clause</th><th>phrase</th><th>word</th><th>word</th>\n",
       "</tr>\n",
       "\n",
       "<tr class=\"tf\"><td class=\"tf\">1</td><td class=\"tf\"> <a href=\"https://shebanq.ancient-data.org/hebrew/text?book=Samuel_I&amp;chapter=20&amp;verse=27&amp;version=c&amp;mr=m&amp;qw=q&amp;tp=txt_p&amp;tr=hb&amp;wget=v&amp;qget=v&amp;nget=vt\" title=\"show this passage in SHEBANQ\" sec=\"1_Samuel 20:27\">1_Samuel 20:27</a></td><td class=\"tf\"><span class=\"trb\"><a href=\"https://shebanq.ancient-data.org/hebrew/text?book=Samuel_I&amp;chapter=1&amp;verse=1&amp;version=c&amp;mr=m&amp;qw=q&amp;tp=txt_p&amp;tr=hb&amp;wget=v&amp;qget=v&amp;nget=vt\" title=\"1_Samuel\" sec=\"1_Samuel\"></a></span></td><td class=\"tf\"><span class=\"hb\"><span  class=\"hlup\" >מַדּ֜וּעַ </span><span  class=\"hlup\" >לֹא־</span><span  class=\"hlup\" >בָ֧א </span><span  class=\"hl hlup\" >בֶן־</span><span  class=\"hl hlup\" >יִשַׁ֛י </span><span  class=\"hlup\" >גַּם־</span><span  class=\"hlup\" >תְּמֹ֥ול </span><span  class=\"hlup\" >גַּם־</span><span  class=\"hlup\" >הַ</span><span  class=\"hlup\" >יֹּ֖ום </span><span  class=\"hlup\" >אֶל־</span><span  class=\"hlup\" >הַ</span><span  class=\"hlup\" >לָּֽחֶם׃ </span></span></td><td class=\"tf\"><span class=\"hb\"><span  class=\"hl hlup\" >בֶן־</span><span  class=\"hl hlup\" >יִשַׁ֛י </span></span></td><td class=\"tf\"><span class=\"hb\"><span  class=\"hl hlup\" >בֶן־</span></span></td><td class=\"tf\"><span class=\"hb\"><span  class=\"hl hlup\" >יִשַׁ֛י </span></span></td></tr>\n",
       "<tr class=\"tf\"><td class=\"tf\">2</td><td class=\"tf\"> <a href=\"https://shebanq.ancient-data.org/hebrew/text?book=Samuel_I&amp;chapter=20&amp;verse=31&amp;version=c&amp;mr=m&amp;qw=q&amp;tp=txt_p&amp;tr=hb&amp;wget=v&amp;qget=v&amp;nget=vt\" title=\"show this passage in SHEBANQ\" sec=\"1_Samuel 20:31\">1_Samuel 20:31</a></td><td class=\"tf\"><span class=\"trb\"><a href=\"https://shebanq.ancient-data.org/hebrew/text?book=Samuel_I&amp;chapter=1&amp;verse=1&amp;version=c&amp;mr=m&amp;qw=q&amp;tp=txt_p&amp;tr=hb&amp;wget=v&amp;qget=v&amp;nget=vt\" title=\"1_Samuel\" sec=\"1_Samuel\"></a></span></td><td class=\"tf\"><span class=\"hb\"><span  class=\"hlup\" >אֲשֶׁ֤ר </span><span  class=\"hl hlup\" >בֶּן־</span><span  class=\"hl hlup\" >יִשַׁי֙ </span><span  class=\"hlup\" >חַ֣י </span><span  class=\"hlup\" >עַל־</span><span  class=\"hlup\" >הָ</span><span  class=\"hlup\" >אֲדָמָ֔ה </span></span></td><td class=\"tf\"><span class=\"hb\"><span  class=\"hl hlup\" >בֶּן־</span><span  class=\"hl hlup\" >יִשַׁי֙ </span></span></td><td class=\"tf\"><span class=\"hb\"><span  class=\"hl hlup\" >בֶּן־</span></span></td><td class=\"tf\"><span class=\"hb\"><span  class=\"hl hlup\" >יִשַׁי֙ </span></span></td></tr>\n",
       "<tr class=\"tf\"><td class=\"tf\">3</td><td class=\"tf\"> <a href=\"https://shebanq.ancient-data.org/hebrew/text?book=Samuel_I&amp;chapter=22&amp;verse=7&amp;version=c&amp;mr=m&amp;qw=q&amp;tp=txt_p&amp;tr=hb&amp;wget=v&amp;qget=v&amp;nget=vt\" title=\"show this passage in SHEBANQ\" sec=\"1_Samuel 22:7\">1_Samuel 22:7</a></td><td class=\"tf\"><span class=\"trb\"><a href=\"https://shebanq.ancient-data.org/hebrew/text?book=Samuel_I&amp;chapter=1&amp;verse=1&amp;version=c&amp;mr=m&amp;qw=q&amp;tp=txt_p&amp;tr=hb&amp;wget=v&amp;qget=v&amp;nget=vt\" title=\"1_Samuel\" sec=\"1_Samuel\"></a></span></td><td class=\"tf\"><span class=\"hb\"><span  class=\"hlup\" >גַּם־</span><span  class=\"hlup\" >לְ</span><span  class=\"hlup\" >כֻלְּכֶ֗ם </span><span  class=\"hlup\" >יִתֵּ֤ן </span><span  class=\"hl hlup\" >בֶּן־</span><span  class=\"hl hlup\" >יִשַׁי֙ </span><span  class=\"hlup\" >שָׂדֹ֣ות </span><span  class=\"hlup\" >וּ</span><span  class=\"hlup\" >כְרָמִ֔ים </span></span></td><td class=\"tf\"><span class=\"hb\"><span  class=\"hl hlup\" >בֶּן־</span><span  class=\"hl hlup\" >יִשַׁי֙ </span></span></td><td class=\"tf\"><span class=\"hb\"><span  class=\"hl hlup\" >בֶּן־</span></span></td><td class=\"tf\"><span class=\"hb\"><span  class=\"hl hlup\" >יִשַׁי֙ </span></span></td></tr>\n",
       "<tr class=\"tf\"><td class=\"tf\">4</td><td class=\"tf\"> <a href=\"https://shebanq.ancient-data.org/hebrew/text?book=Samuel_I&amp;chapter=25&amp;verse=10&amp;version=c&amp;mr=m&amp;qw=q&amp;tp=txt_p&amp;tr=hb&amp;wget=v&amp;qget=v&amp;nget=vt\" title=\"show this passage in SHEBANQ\" sec=\"1_Samuel 25:10\">1_Samuel 25:10</a></td><td class=\"tf\"><span class=\"trb\"><a href=\"https://shebanq.ancient-data.org/hebrew/text?book=Samuel_I&amp;chapter=1&amp;verse=1&amp;version=c&amp;mr=m&amp;qw=q&amp;tp=txt_p&amp;tr=hb&amp;wget=v&amp;qget=v&amp;nget=vt\" title=\"1_Samuel\" sec=\"1_Samuel\"></a></span></td><td class=\"tf\"><span class=\"hb\"><span  class=\"hlup\" >וּ</span><span  class=\"hlup\" >מִ֣י </span><span  class=\"hl hlup\" >בֶן־</span><span  class=\"hl hlup\" >יִשָׁ֑י </span></span></td><td class=\"tf\"><span class=\"hb\"><span  class=\"hl hlup\" >בֶן־</span><span  class=\"hl hlup\" >יִשָׁ֑י </span></span></td><td class=\"tf\"><span class=\"hb\"><span  class=\"hl hlup\" >בֶן־</span></span></td><td class=\"tf\"><span class=\"hb\"><span  class=\"hl hlup\" >יִשָׁ֑י </span></span></td></tr>\n",
       "<tr class=\"tf\"><td class=\"tf\">5</td><td class=\"tf\"> <a href=\"https://shebanq.ancient-data.org/hebrew/text?book=Samuel_II&amp;chapter=4&amp;verse=1&amp;version=c&amp;mr=m&amp;qw=q&amp;tp=txt_p&amp;tr=hb&amp;wget=v&amp;qget=v&amp;nget=vt\" title=\"show this passage in SHEBANQ\" sec=\"2_Samuel 4:1\">2_Samuel 4:1</a></td><td class=\"tf\"><span class=\"trb\"><a href=\"https://shebanq.ancient-data.org/hebrew/text?book=Samuel_II&amp;chapter=1&amp;verse=1&amp;version=c&amp;mr=m&amp;qw=q&amp;tp=txt_p&amp;tr=hb&amp;wget=v&amp;qget=v&amp;nget=vt\" title=\"2_Samuel\" sec=\"2_Samuel\"></a></span></td><td class=\"tf\"><span class=\"hb\"><span  class=\"hlup\" >וַ</span><span  class=\"hlup\" >יִּשְׁמַ֣ע </span><span  class=\"hl hlup\" >בֶּן־</span><span  class=\"hl hlup\" >שָׁא֗וּל </span></span></td><td class=\"tf\"><span class=\"hb\"><span  class=\"hl hlup\" >בֶּן־</span><span  class=\"hl hlup\" >שָׁא֗וּל </span></span></td><td class=\"tf\"><span class=\"hb\"><span  class=\"hl hlup\" >בֶּן־</span></span></td><td class=\"tf\"><span class=\"hb\"><span  class=\"hl hlup\" >שָׁא֗וּל </span></span></td></tr>\n",
       "<tr class=\"tf\"><td class=\"tf\">6</td><td class=\"tf\"> <a href=\"https://shebanq.ancient-data.org/hebrew/text?book=Reges_I&amp;chapter=4&amp;verse=8&amp;version=c&amp;mr=m&amp;qw=q&amp;tp=txt_p&amp;tr=hb&amp;wget=v&amp;qget=v&amp;nget=vt\" title=\"show this passage in SHEBANQ\" sec=\"1_Kings 4:8\">1_Kings 4:8</a></td><td class=\"tf\"><span class=\"trb\"><a href=\"https://shebanq.ancient-data.org/hebrew/text?book=Reges_I&amp;chapter=1&amp;verse=1&amp;version=c&amp;mr=m&amp;qw=q&amp;tp=txt_p&amp;tr=hb&amp;wget=v&amp;qget=v&amp;nget=vt\" title=\"1_Kings\" sec=\"1_Kings\"></a></span></td><td class=\"tf\"><span class=\"hb\"><span  class=\"hl hlup\" >בֶּן־</span><span  class=\"hl hlup\" >ח֖וּר </span><span  class=\"hlup\" >בְּ</span><span  class=\"hlup\" >הַ֥ר </span><span  class=\"hlup\" >אֶפְרָֽיִם׃ ס </span></span></td><td class=\"tf\"><span class=\"hb\"><span  class=\"hl hlup\" >בֶּן־</span><span  class=\"hl hlup\" >ח֖וּר </span></span></td><td class=\"tf\"><span class=\"hb\"><span  class=\"hl hlup\" >בֶּן־</span></span></td><td class=\"tf\"><span class=\"hb\"><span  class=\"hl hlup\" >ח֖וּר </span></span></td></tr>\n",
       "<tr class=\"tf\"><td class=\"tf\">7</td><td class=\"tf\"> <a href=\"https://shebanq.ancient-data.org/hebrew/text?book=Reges_I&amp;chapter=4&amp;verse=9&amp;version=c&amp;mr=m&amp;qw=q&amp;tp=txt_p&amp;tr=hb&amp;wget=v&amp;qget=v&amp;nget=vt\" title=\"show this passage in SHEBANQ\" sec=\"1_Kings 4:9\">1_Kings 4:9</a></td><td class=\"tf\"><span class=\"trb\"><a href=\"https://shebanq.ancient-data.org/hebrew/text?book=Reges_I&amp;chapter=1&amp;verse=1&amp;version=c&amp;mr=m&amp;qw=q&amp;tp=txt_p&amp;tr=hb&amp;wget=v&amp;qget=v&amp;nget=vt\" title=\"1_Kings\" sec=\"1_Kings\"></a></span></td><td class=\"tf\"><span class=\"hb\"><span  class=\"hl hlup\" >בֶּן־</span><span  class=\"hl hlup\" >דֶּ֛קֶר </span><span  class=\"hlup\" >בְּ</span><span  class=\"hlup\" >מָקַ֥ץ </span><span  class=\"hlup\" >וּ</span><span  class=\"hlup\" >בְ</span><span  class=\"hlup\" >שַֽׁעַלְבִ֖ים </span><span  class=\"hlup\" >וּ</span><span  class=\"hlup\" >בֵ֣ית שָׁ֑מֶשׁ </span><span  class=\"hlup\" >וְ</span><span  class=\"hlup\" >אֵילֹ֖ון </span><span  class=\"hlup\" >בֵּ֥ית חָנָֽן׃ ס </span></span></td><td class=\"tf\"><span class=\"hb\"><span  class=\"hl hlup\" >בֶּן־</span><span  class=\"hl hlup\" >דֶּ֛קֶר </span></span></td><td class=\"tf\"><span class=\"hb\"><span  class=\"hl hlup\" >בֶּן־</span></span></td><td class=\"tf\"><span class=\"hb\"><span  class=\"hl hlup\" >דֶּ֛קֶר </span></span></td></tr>\n",
       "<tr class=\"tf\"><td class=\"tf\">8</td><td class=\"tf\"> <a href=\"https://shebanq.ancient-data.org/hebrew/text?book=Reges_I&amp;chapter=4&amp;verse=10&amp;version=c&amp;mr=m&amp;qw=q&amp;tp=txt_p&amp;tr=hb&amp;wget=v&amp;qget=v&amp;nget=vt\" title=\"show this passage in SHEBANQ\" sec=\"1_Kings 4:10\">1_Kings 4:10</a></td><td class=\"tf\"><span class=\"trb\"><a href=\"https://shebanq.ancient-data.org/hebrew/text?book=Reges_I&amp;chapter=1&amp;verse=1&amp;version=c&amp;mr=m&amp;qw=q&amp;tp=txt_p&amp;tr=hb&amp;wget=v&amp;qget=v&amp;nget=vt\" title=\"1_Kings\" sec=\"1_Kings\"></a></span></td><td class=\"tf\"><span class=\"hb\"><span  class=\"hl hlup\" >בֶּן־</span><span  class=\"hl hlup\" >חֶ֖סֶד </span><span  class=\"hlup\" >בָּֽ</span><span  class=\"hlup\" ></span><span  class=\"hlup\" >אֲרֻבֹּ֑ות </span></span></td><td class=\"tf\"><span class=\"hb\"><span  class=\"hl hlup\" >בֶּן־</span><span  class=\"hl hlup\" >חֶ֖סֶד </span></span></td><td class=\"tf\"><span class=\"hb\"><span  class=\"hl hlup\" >בֶּן־</span></span></td><td class=\"tf\"><span class=\"hb\"><span  class=\"hl hlup\" >חֶ֖סֶד </span></span></td></tr>\n",
       "<tr class=\"tf\"><td class=\"tf\">9</td><td class=\"tf\"> <a href=\"https://shebanq.ancient-data.org/hebrew/text?book=Reges_I&amp;chapter=4&amp;verse=11&amp;version=c&amp;mr=m&amp;qw=q&amp;tp=txt_p&amp;tr=hb&amp;wget=v&amp;qget=v&amp;nget=vt\" title=\"show this passage in SHEBANQ\" sec=\"1_Kings 4:11\">1_Kings 4:11</a></td><td class=\"tf\"><span class=\"trb\"><a href=\"https://shebanq.ancient-data.org/hebrew/text?book=Reges_I&amp;chapter=1&amp;verse=1&amp;version=c&amp;mr=m&amp;qw=q&amp;tp=txt_p&amp;tr=hb&amp;wget=v&amp;qget=v&amp;nget=vt\" title=\"1_Kings\" sec=\"1_Kings\"></a></span></td><td class=\"tf\"><span class=\"hb\"><span  class=\"hl hlup\" >בֶּן־</span><span  class=\"hl hlup\" >אֲבִֽינָדָ֖ב </span><span  class=\"hlup\" >כָּל־</span><span  class=\"hlup\" >נָ֣פַת </span><span  class=\"hlup\" >דֹּ֑אר </span></span></td><td class=\"tf\"><span class=\"hb\"><span  class=\"hl hlup\" >בֶּן־</span><span  class=\"hl hlup\" >אֲבִֽינָדָ֖ב </span></span></td><td class=\"tf\"><span class=\"hb\"><span  class=\"hl hlup\" >בֶּן־</span></span></td><td class=\"tf\"><span class=\"hb\"><span  class=\"hl hlup\" >אֲבִֽינָדָ֖ב </span></span></td></tr>\n",
       "<tr class=\"tf\"><td class=\"tf\">10</td><td class=\"tf\"> <a href=\"https://shebanq.ancient-data.org/hebrew/text?book=Reges_I&amp;chapter=4&amp;verse=13&amp;version=c&amp;mr=m&amp;qw=q&amp;tp=txt_p&amp;tr=hb&amp;wget=v&amp;qget=v&amp;nget=vt\" title=\"show this passage in SHEBANQ\" sec=\"1_Kings 4:13\">1_Kings 4:13</a></td><td class=\"tf\"><span class=\"trb\"><a href=\"https://shebanq.ancient-data.org/hebrew/text?book=Reges_I&amp;chapter=1&amp;verse=1&amp;version=c&amp;mr=m&amp;qw=q&amp;tp=txt_p&amp;tr=hb&amp;wget=v&amp;qget=v&amp;nget=vt\" title=\"1_Kings\" sec=\"1_Kings\"></a></span></td><td class=\"tf\"><span class=\"hb\"><span  class=\"hl hlup\" >בֶּן־</span><span  class=\"hl hlup\" >גֶּ֖בֶר </span><span  class=\"hlup\" >בְּ</span><span  class=\"hlup\" >רָמֹ֣ת </span><span  class=\"hlup\" >גִּלְעָ֑ד </span></span></td><td class=\"tf\"><span class=\"hb\"><span  class=\"hl hlup\" >בֶּן־</span><span  class=\"hl hlup\" >גֶּ֖בֶר </span></span></td><td class=\"tf\"><span class=\"hb\"><span  class=\"hl hlup\" >בֶּן־</span></span></td><td class=\"tf\"><span class=\"hb\"><span  class=\"hl hlup\" >גֶּ֖בֶר </span></span></td></tr>\n",
       "<tr class=\"tf\"><td class=\"tf\">11</td><td class=\"tf\"> <a href=\"https://shebanq.ancient-data.org/hebrew/text?book=Esra&amp;chapter=8&amp;verse=5&amp;version=c&amp;mr=m&amp;qw=q&amp;tp=txt_p&amp;tr=hb&amp;wget=v&amp;qget=v&amp;nget=vt\" title=\"show this passage in SHEBANQ\" sec=\"Ezra 8:5\">Ezra 8:5</a></td><td class=\"tf\"><span class=\"trb\"><a href=\"https://shebanq.ancient-data.org/hebrew/text?book=Esra&amp;chapter=1&amp;verse=1&amp;version=c&amp;mr=m&amp;qw=q&amp;tp=txt_p&amp;tr=hb&amp;wget=v&amp;qget=v&amp;nget=vt\" title=\"Ezra\" sec=\"Ezra\"></a></span></td><td class=\"tf\"><span class=\"hb\"><span  class=\"hlup\" >מִ</span><span  class=\"hlup\" >בְּנֵ֥י </span><span  class=\"hlup\" >שְׁכַנְיָ֖ה </span><span  class=\"hl hlup\" >בֶּן־</span><span  class=\"hl hlup\" >יַחֲזִיאֵ֑ל </span></span></td><td class=\"tf\"><span class=\"hb\"><span  class=\"hl hlup\" >בֶּן־</span><span  class=\"hl hlup\" >יַחֲזִיאֵ֑ל </span></span></td><td class=\"tf\"><span class=\"hb\"><span  class=\"hl hlup\" >בֶּן־</span></span></td><td class=\"tf\"><span class=\"hb\"><span  class=\"hl hlup\" >יַחֲזִיאֵ֑ל </span></span></td></tr>\n",
       "<tr class=\"tf\"><td class=\"tf\">12</td><td class=\"tf\"> <a href=\"https://shebanq.ancient-data.org/hebrew/text?book=Esra&amp;chapter=8&amp;verse=10&amp;version=c&amp;mr=m&amp;qw=q&amp;tp=txt_p&amp;tr=hb&amp;wget=v&amp;qget=v&amp;nget=vt\" title=\"show this passage in SHEBANQ\" sec=\"Ezra 8:10\">Ezra 8:10</a></td><td class=\"tf\"><span class=\"trb\"><a href=\"https://shebanq.ancient-data.org/hebrew/text?book=Esra&amp;chapter=1&amp;verse=1&amp;version=c&amp;mr=m&amp;qw=q&amp;tp=txt_p&amp;tr=hb&amp;wget=v&amp;qget=v&amp;nget=vt\" title=\"Ezra\" sec=\"Ezra\"></a></span></td><td class=\"tf\"><span class=\"hb\"><span  class=\"hlup\" >וּ</span><span  class=\"hlup\" >מִ</span><span  class=\"hlup\" >בְּנֵ֥י </span><span  class=\"hlup\" >שְׁלֹומִ֖ית </span><span  class=\"hl hlup\" >בֶּן־</span><span  class=\"hl hlup\" >יֹוסִפְיָ֑ה </span></span></td><td class=\"tf\"><span class=\"hb\"><span  class=\"hl hlup\" >בֶּן־</span><span  class=\"hl hlup\" >יֹוסִפְיָ֑ה </span></span></td><td class=\"tf\"><span class=\"hb\"><span  class=\"hl hlup\" >בֶּן־</span></span></td><td class=\"tf\"><span class=\"hb\"><span  class=\"hl hlup\" >יֹוסִפְיָ֑ה </span></span></td></tr>\n",
       "<tr class=\"tf\"><td class=\"tf\">13</td><td class=\"tf\"> <a href=\"https://shebanq.ancient-data.org/hebrew/text?book=Chronica_I&amp;chapter=2&amp;verse=45&amp;version=c&amp;mr=m&amp;qw=q&amp;tp=txt_p&amp;tr=hb&amp;wget=v&amp;qget=v&amp;nget=vt\" title=\"show this passage in SHEBANQ\" sec=\"1_Chronicles 2:45\">1_Chronicles 2:45</a></td><td class=\"tf\"><span class=\"trb\"><a href=\"https://shebanq.ancient-data.org/hebrew/text?book=Chronica_I&amp;chapter=1&amp;verse=1&amp;version=c&amp;mr=m&amp;qw=q&amp;tp=txt_p&amp;tr=hb&amp;wget=v&amp;qget=v&amp;nget=vt\" title=\"1_Chronicles\" sec=\"1_Chronicles\"></a></span></td><td class=\"tf\"><span class=\"hb\"><span  class=\"hlup\" >וּ</span><span  class=\"hl hlup\" >בֶן־</span><span  class=\"hl hlup\" >שַׁמַּ֖י </span><span  class=\"hlup\" >מָעֹ֑ון </span></span></td><td class=\"tf\"><span class=\"hb\"><span  class=\"hl hlup\" >בֶן־</span><span  class=\"hl hlup\" >שַׁמַּ֖י </span></span></td><td class=\"tf\"><span class=\"hb\"><span  class=\"hl hlup\" >בֶן־</span></span></td><td class=\"tf\"><span class=\"hb\"><span  class=\"hl hlup\" >שַׁמַּ֖י </span></span></td></tr>\n",
       "<tr class=\"tf\"><td class=\"tf\">14</td><td class=\"tf\"> <a href=\"https://shebanq.ancient-data.org/hebrew/text?book=Chronica_I&amp;chapter=3&amp;verse=10&amp;version=c&amp;mr=m&amp;qw=q&amp;tp=txt_p&amp;tr=hb&amp;wget=v&amp;qget=v&amp;nget=vt\" title=\"show this passage in SHEBANQ\" sec=\"1_Chronicles 3:10\">1_Chronicles 3:10</a></td><td class=\"tf\"><span class=\"trb\"><a href=\"https://shebanq.ancient-data.org/hebrew/text?book=Chronica_I&amp;chapter=1&amp;verse=1&amp;version=c&amp;mr=m&amp;qw=q&amp;tp=txt_p&amp;tr=hb&amp;wget=v&amp;qget=v&amp;nget=vt\" title=\"1_Chronicles\" sec=\"1_Chronicles\"></a></span></td><td class=\"tf\"><span class=\"hb\"><span  class=\"hlup\" >וּ</span><span  class=\"hl hlup\" >בֶן־</span><span  class=\"hl hlup\" >שְׁלֹמֹ֖ה </span><span  class=\"hlup\" >רְחַבְעָ֑ם </span></span></td><td class=\"tf\"><span class=\"hb\"><span  class=\"hl hlup\" >בֶן־</span><span  class=\"hl hlup\" >שְׁלֹמֹ֖ה </span></span></td><td class=\"tf\"><span class=\"hb\"><span  class=\"hl hlup\" >בֶן־</span></span></td><td class=\"tf\"><span class=\"hb\"><span  class=\"hl hlup\" >שְׁלֹמֹ֖ה </span></span></td></tr>\n",
       "<tr class=\"tf\"><td class=\"tf\">15</td><td class=\"tf\"> <a href=\"https://shebanq.ancient-data.org/hebrew/text?book=Chronica_I&amp;chapter=3&amp;verse=19&amp;version=c&amp;mr=m&amp;qw=q&amp;tp=txt_p&amp;tr=hb&amp;wget=v&amp;qget=v&amp;nget=vt\" title=\"show this passage in SHEBANQ\" sec=\"1_Chronicles 3:19\">1_Chronicles 3:19</a></td><td class=\"tf\"><span class=\"trb\"><a href=\"https://shebanq.ancient-data.org/hebrew/text?book=Chronica_I&amp;chapter=1&amp;verse=1&amp;version=c&amp;mr=m&amp;qw=q&amp;tp=txt_p&amp;tr=hb&amp;wget=v&amp;qget=v&amp;nget=vt\" title=\"1_Chronicles\" sec=\"1_Chronicles\"></a></span></td><td class=\"tf\"><span class=\"hb\"><span  class=\"hlup\" >וּ</span><span  class=\"hl hlup\" >בֶן־</span><span  class=\"hl hlup\" >זְרֻבָּבֶל֙ </span><span  class=\"hlup\" >מְשֻׁלָּ֣ם </span><span  class=\"hlup\" >וַ</span><span  class=\"hlup\" >חֲנַנְיָ֔ה </span></span></td><td class=\"tf\"><span class=\"hb\"><span  class=\"hl hlup\" >בֶן־</span><span  class=\"hl hlup\" >זְרֻבָּבֶל֙ </span></span></td><td class=\"tf\"><span class=\"hb\"><span  class=\"hl hlup\" >בֶן־</span></span></td><td class=\"tf\"><span class=\"hb\"><span  class=\"hl hlup\" >זְרֻבָּבֶל֙ </span></span></td></tr>\n",
       "<tr class=\"tf\"><td class=\"tf\">16</td><td class=\"tf\"> <a href=\"https://shebanq.ancient-data.org/hebrew/text?book=Chronica_I&amp;chapter=3&amp;verse=21&amp;version=c&amp;mr=m&amp;qw=q&amp;tp=txt_p&amp;tr=hb&amp;wget=v&amp;qget=v&amp;nget=vt\" title=\"show this passage in SHEBANQ\" sec=\"1_Chronicles 3:21\">1_Chronicles 3:21</a></td><td class=\"tf\"><span class=\"trb\"><a href=\"https://shebanq.ancient-data.org/hebrew/text?book=Chronica_I&amp;chapter=1&amp;verse=1&amp;version=c&amp;mr=m&amp;qw=q&amp;tp=txt_p&amp;tr=hb&amp;wget=v&amp;qget=v&amp;nget=vt\" title=\"1_Chronicles\" sec=\"1_Chronicles\"></a></span></td><td class=\"tf\"><span class=\"hb\"><span  class=\"hlup\" >וּ</span><span  class=\"hl hlup\" >בֶן־</span><span  class=\"hl hlup\" >חֲנַנְיָ֖ה </span><span  class=\"hlup\" >פְּלַטְיָ֣ה </span><span  class=\"hlup\" >וִ</span><span  class=\"hlup\" >ישַֽׁעְיָ֑ה </span></span></td><td class=\"tf\"><span class=\"hb\"><span  class=\"hl hlup\" >בֶן־</span><span  class=\"hl hlup\" >חֲנַנְיָ֖ה </span></span></td><td class=\"tf\"><span class=\"hb\"><span  class=\"hl hlup\" >בֶן־</span></span></td><td class=\"tf\"><span class=\"hb\"><span  class=\"hl hlup\" >חֲנַנְיָ֖ה </span></span></td></tr>\n",
       "<tr class=\"tf\"><td class=\"tf\">17</td><td class=\"tf\"> <a href=\"https://shebanq.ancient-data.org/hebrew/text?book=Chronica_I&amp;chapter=3&amp;verse=23&amp;version=c&amp;mr=m&amp;qw=q&amp;tp=txt_p&amp;tr=hb&amp;wget=v&amp;qget=v&amp;nget=vt\" title=\"show this passage in SHEBANQ\" sec=\"1_Chronicles 3:23\">1_Chronicles 3:23</a></td><td class=\"tf\"><span class=\"trb\"><a href=\"https://shebanq.ancient-data.org/hebrew/text?book=Chronica_I&amp;chapter=1&amp;verse=1&amp;version=c&amp;mr=m&amp;qw=q&amp;tp=txt_p&amp;tr=hb&amp;wget=v&amp;qget=v&amp;nget=vt\" title=\"1_Chronicles\" sec=\"1_Chronicles\"></a></span></td><td class=\"tf\"><span class=\"hb\"><span  class=\"hlup\" >וּ</span><span  class=\"hl hlup\" >בֶן־</span><span  class=\"hl hlup\" >נְעַרְיָ֗ה </span><span  class=\"hlup\" >אֶלְיֹועֵינַ֧י </span><span  class=\"hlup\" >וְ</span><span  class=\"hlup\" >חִזְקִיָּ֛ה </span><span  class=\"hlup\" >וְ</span><span  class=\"hlup\" >עַזְרִיקָ֖ם </span><span  class=\"hlup\" >שְׁלֹשָֽׁה׃ </span></span></td><td class=\"tf\"><span class=\"hb\"><span  class=\"hl hlup\" >בֶן־</span><span  class=\"hl hlup\" >נְעַרְיָ֗ה </span></span></td><td class=\"tf\"><span class=\"hb\"><span  class=\"hl hlup\" >בֶן־</span></span></td><td class=\"tf\"><span class=\"hb\"><span  class=\"hl hlup\" >נְעַרְיָ֗ה </span></span></td></tr>\n",
       "<tr class=\"tf\"><td class=\"tf\">18</td><td class=\"tf\"> <a href=\"https://shebanq.ancient-data.org/hebrew/text?book=Chronica_I&amp;chapter=4&amp;verse=17&amp;version=c&amp;mr=m&amp;qw=q&amp;tp=txt_p&amp;tr=hb&amp;wget=v&amp;qget=v&amp;nget=vt\" title=\"show this passage in SHEBANQ\" sec=\"1_Chronicles 4:17\">1_Chronicles 4:17</a></td><td class=\"tf\"><span class=\"trb\"><a href=\"https://shebanq.ancient-data.org/hebrew/text?book=Chronica_I&amp;chapter=1&amp;verse=1&amp;version=c&amp;mr=m&amp;qw=q&amp;tp=txt_p&amp;tr=hb&amp;wget=v&amp;qget=v&amp;nget=vt\" title=\"1_Chronicles\" sec=\"1_Chronicles\"></a></span></td><td class=\"tf\"><span class=\"hb\"><span  class=\"hlup\" >וּ</span><span  class=\"hl hlup\" >בֶן־</span><span  class=\"hl hlup\" >עֶזְרָ֔ה </span><span  class=\"hlup\" >יֶ֥תֶר </span><span  class=\"hlup\" >וּ</span><span  class=\"hlup\" >מֶ֖רֶד </span><span  class=\"hlup\" >וְ</span><span  class=\"hlup\" >עֵ֣פֶר </span><span  class=\"hlup\" >וְ</span><span  class=\"hlup\" >יָלֹ֑ון </span></span></td><td class=\"tf\"><span class=\"hb\"><span  class=\"hl hlup\" >בֶן־</span><span  class=\"hl hlup\" >עֶזְרָ֔ה </span></span></td><td class=\"tf\"><span class=\"hb\"><span  class=\"hl hlup\" >בֶן־</span></span></td><td class=\"tf\"><span class=\"hb\"><span  class=\"hl hlup\" >עֶזְרָ֔ה </span></span></td></tr>\n",
       "<tr class=\"tf\"><td class=\"tf\">19</td><td class=\"tf\"> <a href=\"https://shebanq.ancient-data.org/hebrew/text?book=Chronica_I&amp;chapter=8&amp;verse=34&amp;version=c&amp;mr=m&amp;qw=q&amp;tp=txt_p&amp;tr=hb&amp;wget=v&amp;qget=v&amp;nget=vt\" title=\"show this passage in SHEBANQ\" sec=\"1_Chronicles 8:34\">1_Chronicles 8:34</a></td><td class=\"tf\"><span class=\"trb\"><a href=\"https://shebanq.ancient-data.org/hebrew/text?book=Chronica_I&amp;chapter=1&amp;verse=1&amp;version=c&amp;mr=m&amp;qw=q&amp;tp=txt_p&amp;tr=hb&amp;wget=v&amp;qget=v&amp;nget=vt\" title=\"1_Chronicles\" sec=\"1_Chronicles\"></a></span></td><td class=\"tf\"><span class=\"hb\"><span  class=\"hlup\" >וּ</span><span  class=\"hl hlup\" >בֶן־</span><span  class=\"hl hlup\" >יְהֹונָתָ֖ן </span><span  class=\"hlup\" >מְרִ֣יב בָּ֑עַל </span></span></td><td class=\"tf\"><span class=\"hb\"><span  class=\"hl hlup\" >בֶן־</span><span  class=\"hl hlup\" >יְהֹונָתָ֖ן </span></span></td><td class=\"tf\"><span class=\"hb\"><span  class=\"hl hlup\" >בֶן־</span></span></td><td class=\"tf\"><span class=\"hb\"><span  class=\"hl hlup\" >יְהֹונָתָ֖ן </span></span></td></tr>\n",
       "<tr class=\"tf\"><td class=\"tf\">20</td><td class=\"tf\"> <a href=\"https://shebanq.ancient-data.org/hebrew/text?book=Chronica_I&amp;chapter=9&amp;verse=40&amp;version=c&amp;mr=m&amp;qw=q&amp;tp=txt_p&amp;tr=hb&amp;wget=v&amp;qget=v&amp;nget=vt\" title=\"show this passage in SHEBANQ\" sec=\"1_Chronicles 9:40\">1_Chronicles 9:40</a></td><td class=\"tf\"><span class=\"trb\"><a href=\"https://shebanq.ancient-data.org/hebrew/text?book=Chronica_I&amp;chapter=1&amp;verse=1&amp;version=c&amp;mr=m&amp;qw=q&amp;tp=txt_p&amp;tr=hb&amp;wget=v&amp;qget=v&amp;nget=vt\" title=\"1_Chronicles\" sec=\"1_Chronicles\"></a></span></td><td class=\"tf\"><span class=\"hb\"><span  class=\"hlup\" >וּ</span><span  class=\"hl hlup\" >בֶן־</span><span  class=\"hl hlup\" >יְהֹונָתָ֖ן </span><span  class=\"hlup\" >מְרִ֣יב בָּ֑עַל </span></span></td><td class=\"tf\"><span class=\"hb\"><span  class=\"hl hlup\" >בֶן־</span><span  class=\"hl hlup\" >יְהֹונָתָ֖ן </span></span></td><td class=\"tf\"><span class=\"hb\"><span  class=\"hl hlup\" >בֶן־</span></span></td><td class=\"tf\"><span class=\"hb\"><span  class=\"hl hlup\" >יְהֹונָתָ֖ן </span></span></td></tr></table>"
      ],
      "text/plain": [
       "<IPython.core.display.HTML object>"
      ]
     },
     "metadata": {},
     "output_type": "display_data"
    }
   ],
   "source": [
    "SonSaul = '''\n",
    "book\n",
    "  clause\n",
    "    p1:phrase function=Subj|Objc\n",
    "        w1:word lex=BN/ st=c nu=sg\n",
    "        w2:word sp=nmpr\n",
    "\n",
    "p1 =: w1\n",
    "p1 := w2\n",
    "w1 <: w2\n",
    "\n",
    "'''\n",
    "SonSaul  = A.search(SonSaul)\n",
    "A.table(SonSaul, start=1, end=48)"
   ]
  },
  {
   "cell_type": "markdown",
   "metadata": {},
   "source": [
    "### \"your Bones and your Flesh\"\n",
    "עַצְמְךָ֥ וּֽבְשָׂרְךָ֖ (p287-288, 2 Sam 5:1): You discuss the construction at length and argue for a connection with Gen 2. But should the discussion about potential idiomatic usage not have priority over the designation of textual connection? Looking not only at previous usages of the construction but also at those appearances after 2 Sam 5 suggests an idiomatic usage of the phrase. If that is the case, Gen 2 could have used the phrase idiomatically as well. In that case no significant connection with Gen 2 would be established by 2 Sam 5:2. Of course, one could also argue that the idiomatic use of the construction was initiated by the non-idiomatic appearance in Gen 2. Whatever position one takes, a discussion of idioms needs to be included in order to prevent the accusation of interpretative naivete."
   ]
  },
  {
   "cell_type": "code",
   "execution_count": 15,
   "metadata": {},
   "outputs": [
    {
     "name": "stdout",
     "output_type": "stream",
     "text": [
      "  0.90s 14 results\n"
     ]
    },
    {
     "data": {
      "text/html": [
       "<table>\n",
       "<tr class=\"tf\">\n",
       "  <th class=\"tf\">n</th><th class=\"tf\">p</th>\n",
       "  <th class=\"tf\">verse</th><th>word</th><th>word</th><th>word</th><th>word</th><th>clause</th>\n",
       "</tr>\n",
       "\n",
       "<tr class=\"tf\"><td class=\"tf\">1</td><td class=\"tf\"> <a href=\"https://shebanq.ancient-data.org/hebrew/text?book=Genesis&amp;chapter=2&amp;verse=23&amp;version=c&amp;mr=m&amp;qw=q&amp;tp=txt_p&amp;tr=hb&amp;wget=v&amp;qget=v&amp;nget=vt\" title=\"show this passage in SHEBANQ\" sec=\"Genesis 2:23\">Genesis 2:23</a></td><td class=\"tf\"><span class=\"hb\"><a class=\"vn\" href=\"https://shebanq.ancient-data.org/hebrew/text?book=Genesis&amp;chapter=2&amp;verse=23&amp;version=c&amp;mr=m&amp;qw=q&amp;tp=txt_p&amp;tr=hb&amp;wget=v&amp;qget=v&amp;nget=vt\" title=\"Genesis 2:23\" sec=\"Genesis 2:23\"></a>וַיֹּאמֶר֮ הָֽאָדָם֒ <span  class=\"hlup\" >זֹ֣את </span><span  class=\"hlup\" >הַ</span><span  class=\"hlup\" >פַּ֗עַם </span><span  class=\"hl hlup\" >עֶ֚צֶם </span><span  class=\"hlup\" >מֵֽ</span><span  class=\"hl hlup\" >עֲצָמַ֔י </span><span  class=\"hlup\" >וּ</span><span  class=\"hl hlup\" >בָשָׂ֖ר </span><span  class=\"hlup\" >מִ</span><span  class=\"hl hlup\" >בְּשָׂרִ֑י </span>לְזֹאת֙ יִקָּרֵ֣א אִשָּׁ֔ה כִּ֥י מֵאִ֖ישׁ לֻֽקֳחָה־זֹּֽאת׃ </span></td><td class=\"tf\"><span class=\"hb\"><span  class=\"hl hlup\" >עֶ֚צֶם </span></span></td><td class=\"tf\"><span class=\"hb\"><span  class=\"hl hlup\" >עֲצָמַ֔י </span></span></td><td class=\"tf\"><span class=\"hb\"><span  class=\"hl hlup\" >בָשָׂ֖ר </span></span></td><td class=\"tf\"><span class=\"hb\"><span  class=\"hl hlup\" >בְּשָׂרִ֑י </span></span></td><td class=\"tf\"><span class=\"hb\"><span  class=\"hlup\" >זֹ֣את </span><span  class=\"hlup\" >הַ</span><span  class=\"hlup\" >פַּ֗עַם </span><span  class=\"hl hlup\" >עֶ֚צֶם </span><span  class=\"hlup\" >מֵֽ</span><span  class=\"hl hlup\" >עֲצָמַ֔י </span><span  class=\"hlup\" >וּ</span><span  class=\"hl hlup\" >בָשָׂ֖ר </span><span  class=\"hlup\" >מִ</span><span  class=\"hl hlup\" >בְּשָׂרִ֑י </span></span></td></tr>\n",
       "<tr class=\"tf\"><td class=\"tf\">2</td><td class=\"tf\"> <a href=\"https://shebanq.ancient-data.org/hebrew/text?book=Genesis&amp;chapter=17&amp;verse=23&amp;version=c&amp;mr=m&amp;qw=q&amp;tp=txt_p&amp;tr=hb&amp;wget=v&amp;qget=v&amp;nget=vt\" title=\"show this passage in SHEBANQ\" sec=\"Genesis 17:23\">Genesis 17:23</a></td><td class=\"tf\"><span class=\"hb\"><a class=\"vn\" href=\"https://shebanq.ancient-data.org/hebrew/text?book=Genesis&amp;chapter=17&amp;verse=23&amp;version=c&amp;mr=m&amp;qw=q&amp;tp=txt_p&amp;tr=hb&amp;wget=v&amp;qget=v&amp;nget=vt\" title=\"Genesis 17:23\" sec=\"Genesis 17:23\"></a>וַיִּקַּ֨ח אַבְרָהָ֜ם אֶת־יִשְׁמָעֵ֣אל בְּנֹ֗ו וְאֵ֨ת כָּל־יְלִידֵ֤י בֵיתֹו֙ וְאֵת֙ כָּל־מִקְנַ֣ת כַּסְפֹּ֔ו כָּל־זָכָ֕ר בְּאַנְשֵׁ֖י בֵּ֣ית אַבְרָהָ֑ם <span  class=\"hlup\" >וַ</span><span  class=\"hlup\" >יָּ֜מָל </span><span  class=\"hlup\" >אֶת־</span><span  class=\"hl hlup\" >בְּשַׂ֣ר </span><span  class=\"hlup\" >עָרְלָתָ֗ם </span><span  class=\"hlup\" >בְּ</span><span  class=\"hl hlup\" >עֶ֨צֶם֙ </span><span  class=\"hlup\" >הַ</span><span  class=\"hlup\" >יֹּ֣ום </span><span  class=\"hlup\" >הַ</span><span  class=\"hlup\" >זֶּ֔ה </span>כַּאֲשֶׁ֛ר דִּבֶּ֥ר אִתֹּ֖ו אֱלֹהִֽים׃ </span></td><td class=\"tf\"><span class=\"hb\"><span  class=\"hlup\" >וַ</span><span  class=\"hlup\" >יָּ֜מָל </span><span  class=\"hlup\" >אֶת־</span><span  class=\"hl hlup\" >בְּשַׂ֣ר </span><span  class=\"hlup\" >עָרְלָתָ֗ם </span><span  class=\"hlup\" >בְּ</span><span  class=\"hl hlup\" >עֶ֨צֶם֙ </span><span  class=\"hlup\" >הַ</span><span  class=\"hlup\" >יֹּ֣ום </span><span  class=\"hlup\" >הַ</span><span  class=\"hlup\" >זֶּ֔ה </span></span></td><td class=\"tf\"><span class=\"hb\"><span  class=\"hl hlup\" >בְּשַׂ֣ר </span></span></td><td class=\"tf\"><span class=\"hb\"><span  class=\"hl hlup\" >עֶ֨צֶם֙ </span></span></td></tr>\n",
       "<tr class=\"tf\"><td class=\"tf\">3</td><td class=\"tf\"> <a href=\"https://shebanq.ancient-data.org/hebrew/text?book=Genesis&amp;chapter=29&amp;verse=14&amp;version=c&amp;mr=m&amp;qw=q&amp;tp=txt_p&amp;tr=hb&amp;wget=v&amp;qget=v&amp;nget=vt\" title=\"show this passage in SHEBANQ\" sec=\"Genesis 29:14\">Genesis 29:14</a></td><td class=\"tf\"><span class=\"hb\"><a class=\"vn\" href=\"https://shebanq.ancient-data.org/hebrew/text?book=Genesis&amp;chapter=29&amp;verse=14&amp;version=c&amp;mr=m&amp;qw=q&amp;tp=txt_p&amp;tr=hb&amp;wget=v&amp;qget=v&amp;nget=vt\" title=\"Genesis 29:14\" sec=\"Genesis 29:14\"></a>וַיֹּ֤אמֶר לֹו֙ לָבָ֔ן <span  class=\"hlup\" >אַ֛ךְ </span><span  class=\"hl hlup\" >עַצְמִ֥י </span><span  class=\"hlup\" >וּ</span><span  class=\"hl hlup\" >בְשָׂרִ֖י </span><span  class=\"hlup\" >אָ֑תָּה </span>וַיֵּ֥שֶׁב עִמֹּ֖ו חֹ֥דֶשׁ יָמִֽים׃ </span></td><td class=\"tf\"><span class=\"hb\"><span  class=\"hl hlup\" >בְשָׂרִ֖י </span></span></td><td class=\"tf\"><span class=\"hb\"><span  class=\"hlup\" >אַ֛ךְ </span><span  class=\"hl hlup\" >עַצְמִ֥י </span><span  class=\"hlup\" >וּ</span><span  class=\"hl hlup\" >בְשָׂרִ֖י </span><span  class=\"hlup\" >אָ֑תָּה </span></span></td><td class=\"tf\"><span class=\"hb\"><span  class=\"hl hlup\" >עַצְמִ֥י </span></span></td></tr>\n",
       "<tr class=\"tf\"><td class=\"tf\">4</td><td class=\"tf\"> <a href=\"https://shebanq.ancient-data.org/hebrew/text?book=Judices&amp;chapter=9&amp;verse=2&amp;version=c&amp;mr=m&amp;qw=q&amp;tp=txt_p&amp;tr=hb&amp;wget=v&amp;qget=v&amp;nget=vt\" title=\"show this passage in SHEBANQ\" sec=\"Judges 9:2\">Judges 9:2</a></td><td class=\"tf\"><span class=\"hb\"><a class=\"vn\" href=\"https://shebanq.ancient-data.org/hebrew/text?book=Judices&amp;chapter=9&amp;verse=2&amp;version=c&amp;mr=m&amp;qw=q&amp;tp=txt_p&amp;tr=hb&amp;wget=v&amp;qget=v&amp;nget=vt\" title=\"Judges 9:2\" sec=\"Judges 9:2\"></a>דַּבְּרוּ־נָ֞א בְּאָזְנֵ֨י כָל־בַּעֲלֵ֣י שְׁכֶם֮ מַה־טֹּ֣וב לָכֶם֒ הַמְשֹׁ֨ל בָּכֶ֜ם שִׁבְעִ֣ים אִ֗ישׁ כֹּ֚ל בְּנֵ֣י יְרֻבַּ֔עַל אִם־מְשֹׁ֥ל בָּכֶ֖ם אִ֣ישׁ אֶחָ֑ד וּזְכַרְתֶּ֕ם <span  class=\"hlup\" >כִּֽי־</span><span  class=\"hl hlup\" >עַצְמֵכֶ֥ם </span><span  class=\"hlup\" >וּ</span><span  class=\"hl hlup\" >בְשַׂרְכֶ֖ם </span><span  class=\"hlup\" >אָנִֽי׃ </span></span></td><td class=\"tf\"><span class=\"hb\"><span  class=\"hlup\" >כִּֽי־</span><span  class=\"hl hlup\" >עַצְמֵכֶ֥ם </span><span  class=\"hlup\" >וּ</span><span  class=\"hl hlup\" >בְשַׂרְכֶ֖ם </span><span  class=\"hlup\" >אָנִֽי׃ </span></span></td><td class=\"tf\"><span class=\"hb\"><span  class=\"hl hlup\" >עַצְמֵכֶ֥ם </span></span></td><td class=\"tf\"><span class=\"hb\"><span  class=\"hl hlup\" >בְשַׂרְכֶ֖ם </span></span></td></tr>\n",
       "<tr class=\"tf\"><td class=\"tf\">5</td><td class=\"tf\"> <a href=\"https://shebanq.ancient-data.org/hebrew/text?book=Samuel_II&amp;chapter=5&amp;verse=1&amp;version=c&amp;mr=m&amp;qw=q&amp;tp=txt_p&amp;tr=hb&amp;wget=v&amp;qget=v&amp;nget=vt\" title=\"show this passage in SHEBANQ\" sec=\"2_Samuel 5:1\">2_Samuel 5:1</a></td><td class=\"tf\"><span class=\"hb\"><a class=\"vn\" href=\"https://shebanq.ancient-data.org/hebrew/text?book=Samuel_II&amp;chapter=5&amp;verse=1&amp;version=c&amp;mr=m&amp;qw=q&amp;tp=txt_p&amp;tr=hb&amp;wget=v&amp;qget=v&amp;nget=vt\" title=\"2_Samuel 5:1\" sec=\"2_Samuel 5:1\"></a>וַיָּבֹ֜אוּ כָּל־שִׁבְטֵ֧י יִשְׂרָאֵ֛ל אֶל־דָּוִ֖ד חֶבְרֹ֑ונָה וַיֹּאמְר֣וּ לֵאמֹ֔ר הִנְנ֛וּ <span  class=\"hl hlup\" >עַצְמְךָ֥ </span><span  class=\"hlup\" >וּֽ</span><span  class=\"hl hlup\" >בְשָׂרְךָ֖ </span><span  class=\"hlup\" >אֲנָֽחְנוּ׃ </span></span></td><td class=\"tf\"><span class=\"hb\"><span  class=\"hl hlup\" >עַצְמְךָ֥ </span><span  class=\"hlup\" >וּֽ</span><span  class=\"hl hlup\" >בְשָׂרְךָ֖ </span><span  class=\"hlup\" >אֲנָֽחְנוּ׃ </span></span></td><td class=\"tf\"><span class=\"hb\"><span  class=\"hl hlup\" >עַצְמְךָ֥ </span></span></td><td class=\"tf\"><span class=\"hb\"><span  class=\"hl hlup\" >בְשָׂרְךָ֖ </span></span></td></tr>\n",
       "<tr class=\"tf\"><td class=\"tf\">6</td><td class=\"tf\"> <a href=\"https://shebanq.ancient-data.org/hebrew/text?book=Samuel_II&amp;chapter=19&amp;verse=13&amp;version=c&amp;mr=m&amp;qw=q&amp;tp=txt_p&amp;tr=hb&amp;wget=v&amp;qget=v&amp;nget=vt\" title=\"show this passage in SHEBANQ\" sec=\"2_Samuel 19:13\">2_Samuel 19:13</a></td><td class=\"tf\"><span class=\"hb\"><a class=\"vn\" href=\"https://shebanq.ancient-data.org/hebrew/text?book=Samuel_II&amp;chapter=19&amp;verse=13&amp;version=c&amp;mr=m&amp;qw=q&amp;tp=txt_p&amp;tr=hb&amp;wget=v&amp;qget=v&amp;nget=vt\" title=\"2_Samuel 19:13\" sec=\"2_Samuel 19:13\"></a>אַחַ֣י אַתֶּ֔ם <span  class=\"hl hlup\" >עַצְמִ֥י </span><span  class=\"hlup\" >וּ</span><span  class=\"hl hlup\" >בְשָׂרִ֖י </span><span  class=\"hlup\" >אַתֶּ֑ם </span>וְלָ֧מָּה תִהְי֛וּ אַחֲרֹנִ֖ים לְהָשִׁ֥יב אֶת־הַמֶּֽלֶךְ׃ </span></td><td class=\"tf\"><span class=\"hb\"><span  class=\"hl hlup\" >עַצְמִ֥י </span><span  class=\"hlup\" >וּ</span><span  class=\"hl hlup\" >בְשָׂרִ֖י </span><span  class=\"hlup\" >אַתֶּ֑ם </span></span></td><td class=\"tf\"><span class=\"hb\"><span  class=\"hl hlup\" >בְשָׂרִ֖י </span></span></td><td class=\"tf\"><span class=\"hb\"><span  class=\"hl hlup\" >עַצְמִ֥י </span></span></td></tr>\n",
       "<tr class=\"tf\"><td class=\"tf\">7</td><td class=\"tf\"> <a href=\"https://shebanq.ancient-data.org/hebrew/text?book=Samuel_II&amp;chapter=19&amp;verse=14&amp;version=c&amp;mr=m&amp;qw=q&amp;tp=txt_p&amp;tr=hb&amp;wget=v&amp;qget=v&amp;nget=vt\" title=\"show this passage in SHEBANQ\" sec=\"2_Samuel 19:14\">2_Samuel 19:14</a></td><td class=\"tf\"><span class=\"hb\"><a class=\"vn\" href=\"https://shebanq.ancient-data.org/hebrew/text?book=Samuel_II&amp;chapter=19&amp;verse=14&amp;version=c&amp;mr=m&amp;qw=q&amp;tp=txt_p&amp;tr=hb&amp;wget=v&amp;qget=v&amp;nget=vt\" title=\"2_Samuel 19:14\" sec=\"2_Samuel 19:14\"></a>וְלַֽעֲמָשָׂא֙ תֹּֽמְר֔וּ <span  class=\"hlup\" >הֲ</span><span  class=\"hlup\" >לֹ֛וא </span><span  class=\"hl hlup\" >עַצְמִ֥י </span><span  class=\"hlup\" >וּ</span><span  class=\"hl hlup\" >בְשָׂרִ֖י </span><span  class=\"hlup\" >אָ֑תָּה </span>כֹּ֣ה יַֽעֲשֶׂה־לִּ֤י אֱלֹהִים֙ וְכֹ֣ה יֹוסִ֔יף אִם־לֹ֠א שַׂר־צָבָ֞א תִּהְיֶ֧ה לְפָנַ֛י כָּל־הַיָּמִ֖ים תַּ֥חַת יֹואָֽב׃ </span></td><td class=\"tf\"><span class=\"hb\"><span  class=\"hl hlup\" >עַצְמִ֥י </span></span></td><td class=\"tf\"><span class=\"hb\"><span  class=\"hl hlup\" >בְשָׂרִ֖י </span></span></td><td class=\"tf\"><span class=\"hb\"><span  class=\"hlup\" >הֲ</span><span  class=\"hlup\" >לֹ֛וא </span><span  class=\"hl hlup\" >עַצְמִ֥י </span><span  class=\"hlup\" >וּ</span><span  class=\"hl hlup\" >בְשָׂרִ֖י </span><span  class=\"hlup\" >אָ֑תָּה </span></span></td></tr>\n",
       "<tr class=\"tf\"><td class=\"tf\">8</td><td class=\"tf\"> <a href=\"https://shebanq.ancient-data.org/hebrew/text?book=Psalmi&amp;chapter=102&amp;verse=6&amp;version=c&amp;mr=m&amp;qw=q&amp;tp=txt_p&amp;tr=hb&amp;wget=v&amp;qget=v&amp;nget=vt\" title=\"show this passage in SHEBANQ\" sec=\"Psalms 102:6\">Psalms 102:6</a></td><td class=\"tf\"><span class=\"hb\"><a class=\"vn\" href=\"https://shebanq.ancient-data.org/hebrew/text?book=Psalmi&amp;chapter=102&amp;verse=6&amp;version=c&amp;mr=m&amp;qw=q&amp;tp=txt_p&amp;tr=hb&amp;wget=v&amp;qget=v&amp;nget=vt\" title=\"Psalms 102:6\" sec=\"Psalms 102:6\"><span  class=\"hlup\" ></span></a><span  class=\"hlup\" >מִ</span><span  class=\"hlup\" >קֹּ֥ול </span><span  class=\"hlup\" >אַנְחָתִ֑י </span><span  class=\"hlup\" >דָּבְקָ֥ה </span><span  class=\"hl hlup\" >עַ֝צְמִ֗י </span><span  class=\"hlup\" >לִ</span><span  class=\"hl hlup\" >בְשָׂרִֽי׃ </span></span></td><td class=\"tf\"><span class=\"hb\"><span  class=\"hlup\" >מִ</span><span  class=\"hlup\" >קֹּ֥ול </span><span  class=\"hlup\" >אַנְחָתִ֑י </span><span  class=\"hlup\" >דָּבְקָ֥ה </span><span  class=\"hl hlup\" >עַ֝צְמִ֗י </span><span  class=\"hlup\" >לִ</span><span  class=\"hl hlup\" >בְשָׂרִֽי׃ </span></span></td><td class=\"tf\"><span class=\"hb\"><span  class=\"hl hlup\" >עַ֝צְמִ֗י </span></span></td><td class=\"tf\"><span class=\"hb\"><span  class=\"hl hlup\" >בְשָׂרִֽי׃ </span></span></td></tr>\n",
       "<tr class=\"tf\"><td class=\"tf\">9</td><td class=\"tf\"> <a href=\"https://shebanq.ancient-data.org/hebrew/text?book=Iob&amp;chapter=2&amp;verse=5&amp;version=c&amp;mr=m&amp;qw=q&amp;tp=txt_p&amp;tr=hb&amp;wget=v&amp;qget=v&amp;nget=vt\" title=\"show this passage in SHEBANQ\" sec=\"Job 2:5\">Job 2:5</a></td><td class=\"tf\"><span class=\"hb\"><a class=\"vn\" href=\"https://shebanq.ancient-data.org/hebrew/text?book=Iob&amp;chapter=2&amp;verse=5&amp;version=c&amp;mr=m&amp;qw=q&amp;tp=txt_p&amp;tr=hb&amp;wget=v&amp;qget=v&amp;nget=vt\" title=\"Job 2:5\" sec=\"Job 2:5\"></a>אוּלָם֙ שְֽׁלַֽח־נָ֣א יָֽדְךָ֔ <span  class=\"hlup\" >וְ</span><span  class=\"hlup\" >גַ֥ע </span><span  class=\"hlup\" >אֶל־</span><span  class=\"hl hlup\" >עַצְמֹ֖ו </span><span  class=\"hlup\" >וְ</span><span  class=\"hlup\" >אֶל־</span><span  class=\"hl hlup\" >בְּשָׂרֹ֑ו </span>אִם־לֹ֥א אֶל־פָּנֶ֖יךָ יְבָרֲכֶֽךָּ׃ </span></td><td class=\"tf\"><span class=\"hb\"><span  class=\"hl hlup\" >עַצְמֹ֖ו </span></span></td><td class=\"tf\"><span class=\"hb\"><span  class=\"hl hlup\" >בְּשָׂרֹ֑ו </span></span></td><td class=\"tf\"><span class=\"hb\"><span  class=\"hlup\" >וְ</span><span  class=\"hlup\" >גַ֥ע </span><span  class=\"hlup\" >אֶל־</span><span  class=\"hl hlup\" >עַצְמֹ֖ו </span><span  class=\"hlup\" >וְ</span><span  class=\"hlup\" >אֶל־</span><span  class=\"hl hlup\" >בְּשָׂרֹ֑ו </span></span></td></tr>\n",
       "<tr class=\"tf\"><td class=\"tf\">10</td><td class=\"tf\"> <a href=\"https://shebanq.ancient-data.org/hebrew/text?book=Iob&amp;chapter=19&amp;verse=20&amp;version=c&amp;mr=m&amp;qw=q&amp;tp=txt_p&amp;tr=hb&amp;wget=v&amp;qget=v&amp;nget=vt\" title=\"show this passage in SHEBANQ\" sec=\"Job 19:20\">Job 19:20</a></td><td class=\"tf\"><span class=\"hb\"><a class=\"vn\" href=\"https://shebanq.ancient-data.org/hebrew/text?book=Iob&amp;chapter=19&amp;verse=20&amp;version=c&amp;mr=m&amp;qw=q&amp;tp=txt_p&amp;tr=hb&amp;wget=v&amp;qget=v&amp;nget=vt\" title=\"Job 19:20\" sec=\"Job 19:20\"></a><span  class=\"hlup\" >בְּ</span><span  class=\"hlup\" >עֹורִ֣י </span><span  class=\"hlup\" >וּ֭</span><span  class=\"hlup\" >בִ</span><span  class=\"hl hlup\" >בְשָׂרִי </span><span  class=\"hlup\" >דָּבְקָ֣ה </span><span  class=\"hl hlup\" >עַצְמִ֑י </span>וָ֝אֶתְמַלְּטָ֗ה בְּעֹ֣ור שִׁנָּֽי׃ </span></td><td class=\"tf\"><span class=\"hb\"><span  class=\"hlup\" >בְּ</span><span  class=\"hlup\" >עֹורִ֣י </span><span  class=\"hlup\" >וּ֭</span><span  class=\"hlup\" >בִ</span><span  class=\"hl hlup\" >בְשָׂרִי </span><span  class=\"hlup\" >דָּבְקָ֣ה </span><span  class=\"hl hlup\" >עַצְמִ֑י </span></span></td><td class=\"tf\"><span class=\"hb\"><span  class=\"hl hlup\" >בְשָׂרִי </span></span></td><td class=\"tf\"><span class=\"hb\"><span  class=\"hl hlup\" >עַצְמִ֑י </span></span></td></tr>\n",
       "<tr class=\"tf\"><td class=\"tf\">11</td><td class=\"tf\"> <a href=\"https://shebanq.ancient-data.org/hebrew/text?book=Chronica_I&amp;chapter=11&amp;verse=1&amp;version=c&amp;mr=m&amp;qw=q&amp;tp=txt_p&amp;tr=hb&amp;wget=v&amp;qget=v&amp;nget=vt\" title=\"show this passage in SHEBANQ\" sec=\"1_Chronicles 11:1\">1_Chronicles 11:1</a></td><td class=\"tf\"><span class=\"hb\"><a class=\"vn\" href=\"https://shebanq.ancient-data.org/hebrew/text?book=Chronica_I&amp;chapter=11&amp;verse=1&amp;version=c&amp;mr=m&amp;qw=q&amp;tp=txt_p&amp;tr=hb&amp;wget=v&amp;qget=v&amp;nget=vt\" title=\"1_Chronicles 11:1\" sec=\"1_Chronicles 11:1\"></a>וַיִּקָּבְצ֧וּ כָֽל־יִשְׂרָאֵ֛ל אֶל־דָּוִ֖יד חֶבְרֹ֣ונָה לֵאמֹ֑ר <span  class=\"hlup\" >הִנֵּ֛ה </span><span  class=\"hl hlup\" >עַצְמְךָ֥ </span><span  class=\"hlup\" >וּֽ</span><span  class=\"hl hlup\" >בְשָׂרְךָ֖ </span><span  class=\"hlup\" >אֲנָֽחְנוּ׃ </span></span></td><td class=\"tf\"><span class=\"hb\"><span  class=\"hl hlup\" >בְשָׂרְךָ֖ </span></span></td><td class=\"tf\"><span class=\"hb\"><span  class=\"hl hlup\" >עַצְמְךָ֥ </span></span></td><td class=\"tf\"><span class=\"hb\"><span  class=\"hlup\" >הִנֵּ֛ה </span><span  class=\"hl hlup\" >עַצְמְךָ֥ </span><span  class=\"hlup\" >וּֽ</span><span  class=\"hl hlup\" >בְשָׂרְךָ֖ </span><span  class=\"hlup\" >אֲנָֽחְנוּ׃ </span></span></td></tr></table>"
      ],
      "text/plain": [
       "<IPython.core.display.HTML object>"
      ]
     },
     "metadata": {},
     "output_type": "display_data"
    }
   ],
   "source": [
    "BoneFlesh = '''\n",
    "book\n",
    "  clause\n",
    "        w1:word lex=BFR/\n",
    "        w2:word lex=<YM/\n",
    "\n",
    "'''\n",
    "BoneFlesh  = A.search(BoneFlesh)\n",
    "A.table(BoneFlesh, start=1, end=48, condensed=True)"
   ]
  },
  {
   "cell_type": "markdown",
   "metadata": {},
   "source": [
    "### the \"Amelekite man\"\n",
    "The Amelekite man (p80): You state that the Amalekite man was lying but this is not clear on the basis of the textual account. One could match the account of the Amalekite man in 2 Sam 1 with the account of Saul’s death in 1 Sam 31 (see particularly the expression אַחֲרֵ֣י נִפְלֹ֑ו in 2 Sam 1:10). This, then, would have effects on our claim that David is represented as a righteous judge…"
   ]
  },
  {
   "cell_type": "markdown",
   "metadata": {},
   "source": [
    "### grammatical codes trigger functions\n",
    "“by parenthesis in v4” (p262): Why not mentioning the grammatical codes (e.g. fronting of the subject and interrupting the wayyiqtol chain) that belong to the triggering of a parenthesis?"
   ]
  },
  {
   "cell_type": "markdown",
   "metadata": {},
   "source": [
    "### With his House"
   ]
  },
  {
   "cell_type": "code",
   "execution_count": 16,
   "metadata": {},
   "outputs": [
    {
     "name": "stdout",
     "output_type": "stream",
     "text": [
      "  1.09s 3 results\n"
     ]
    },
    {
     "data": {
      "text/html": [
       "<table>\n",
       "<tr class=\"tf\">\n",
       "  <th class=\"tf\">n</th><th class=\"tf\">p</th>\n",
       "  <th class=\"tf\">verse</th><th>word</th><th>word</th><th>word</th>\n",
       "</tr>\n",
       "\n",
       "<tr class=\"tf\"><td class=\"tf\">1</td><td class=\"tf\"> <a href=\"https://shebanq.ancient-data.org/hebrew/text?book=Exodus&amp;chapter=1&amp;verse=1&amp;version=c&amp;mr=m&amp;qw=q&amp;tp=txt_p&amp;tr=hb&amp;wget=v&amp;qget=v&amp;nget=vt\" title=\"show this passage in SHEBANQ\" sec=\"Exodus 1:1\">Exodus 1:1</a></td><td class=\"tf\"><span class=\"hb\"><a class=\"vn\" href=\"https://shebanq.ancient-data.org/hebrew/text?book=Exodus&amp;chapter=1&amp;verse=1&amp;version=c&amp;mr=m&amp;qw=q&amp;tp=txt_p&amp;tr=hb&amp;wget=v&amp;qget=v&amp;nget=vt\" title=\"Exodus 1:1\" sec=\"Exodus 1:1\"></a>וְאֵ֗לֶּה שְׁמֹות֙ בְּנֵ֣י יִשְׂרָאֵ֔ל הַבָּאִ֖ים מִצְרָ֑יְמָה אֵ֣ת יַעֲקֹ֔ב <span  class=\"hl\" >אִ֥ישׁ </span><span  class=\"hl\" >וּ</span><span  class=\"hl\" >בֵיתֹ֖ו </span>בָּֽאוּ׃ </span></td><td class=\"tf\"><span class=\"hb\"><span  class=\"hl\" >בֵיתֹ֖ו </span></span></td><td class=\"tf\"><span class=\"hb\"><span  class=\"hl\" >אִ֥ישׁ </span></span></td><td class=\"tf\"><span class=\"hb\"><span  class=\"hl\" >וּ</span></span></td></tr>\n",
       "<tr class=\"tf\"><td class=\"tf\">2</td><td class=\"tf\"> <a href=\"https://shebanq.ancient-data.org/hebrew/text?book=Samuel_I&amp;chapter=27&amp;verse=3&amp;version=c&amp;mr=m&amp;qw=q&amp;tp=txt_p&amp;tr=hb&amp;wget=v&amp;qget=v&amp;nget=vt\" title=\"show this passage in SHEBANQ\" sec=\"1_Samuel 27:3\">1_Samuel 27:3</a></td><td class=\"tf\"><span class=\"hb\"><a class=\"vn\" href=\"https://shebanq.ancient-data.org/hebrew/text?book=Samuel_I&amp;chapter=27&amp;verse=3&amp;version=c&amp;mr=m&amp;qw=q&amp;tp=txt_p&amp;tr=hb&amp;wget=v&amp;qget=v&amp;nget=vt\" title=\"1_Samuel 27:3\" sec=\"1_Samuel 27:3\"></a>וַיֵּשֶׁב֩ דָּוִ֨ד עִם־אָכִ֥ישׁ בְּגַ֛ת ה֥וּא וַאֲנָשָׁ֖יו <span  class=\"hl\" >אִ֣ישׁ </span><span  class=\"hl\" >וּ</span><span  class=\"hl\" >בֵיתֹ֑ו </span>דָּוִד֙ וּשְׁתֵּ֣י נָשָׁ֔יו אֲחִינֹ֨עַם֙ הַיִּזְרְעֵאלִ֔ית וַאֲבִיגַ֥יִל אֵֽשֶׁת־נָבָ֖ל הַֽכַּרְמְלִֽית׃ </span></td><td class=\"tf\"><span class=\"hb\"><span  class=\"hl\" >אִ֣ישׁ </span></span></td><td class=\"tf\"><span class=\"hb\"><span  class=\"hl\" >וּ</span></span></td><td class=\"tf\"><span class=\"hb\"><span  class=\"hl\" >בֵיתֹ֑ו </span></span></td></tr>\n",
       "<tr class=\"tf\"><td class=\"tf\">3</td><td class=\"tf\"> <a href=\"https://shebanq.ancient-data.org/hebrew/text?book=Samuel_II&amp;chapter=2&amp;verse=3&amp;version=c&amp;mr=m&amp;qw=q&amp;tp=txt_p&amp;tr=hb&amp;wget=v&amp;qget=v&amp;nget=vt\" title=\"show this passage in SHEBANQ\" sec=\"2_Samuel 2:3\">2_Samuel 2:3</a></td><td class=\"tf\"><span class=\"hb\"><a class=\"vn\" href=\"https://shebanq.ancient-data.org/hebrew/text?book=Samuel_II&amp;chapter=2&amp;verse=3&amp;version=c&amp;mr=m&amp;qw=q&amp;tp=txt_p&amp;tr=hb&amp;wget=v&amp;qget=v&amp;nget=vt\" title=\"2_Samuel 2:3\" sec=\"2_Samuel 2:3\"></a>וַאֲנָשָׁ֧יו אֲשֶׁר־עִמֹּ֛ו הֶעֱלָ֥ה דָוִ֖ד <span  class=\"hl\" >אִ֣ישׁ </span><span  class=\"hl\" >וּ</span><span  class=\"hl\" >בֵיתֹ֑ו </span>וַיֵּשְׁב֖וּ בְּעָרֵ֥י חֶבְרֹֽון׃ </span></td><td class=\"tf\"><span class=\"hb\"><span  class=\"hl\" >בֵיתֹ֑ו </span></span></td><td class=\"tf\"><span class=\"hb\"><span  class=\"hl\" >אִ֣ישׁ </span></span></td><td class=\"tf\"><span class=\"hb\"><span  class=\"hl\" >וּ</span></span></td></tr></table>"
      ],
      "text/plain": [
       "<IPython.core.display.HTML object>"
      ]
     },
     "metadata": {},
     "output_type": "display_data"
    }
   ],
   "source": [
    "WithHouse = '''\n",
    "verse\n",
    "        w1:word lex=>JC/\n",
    "        <: w2:word lex=W\n",
    "        <: w3:word lex=BJT/ prs_ps=p3|p2|p1\n",
    "'''\n",
    "WithHouse  = A.search(WithHouse)\n",
    "A.table(WithHouse, start=1, end=48, condensed=True)"
   ]
  },
  {
   "cell_type": "markdown",
   "metadata": {},
   "source": [
    "### And the sat in the cities of..."
   ]
  },
  {
   "cell_type": "code",
   "execution_count": 17,
   "metadata": {},
   "outputs": [
    {
     "name": "stdout",
     "output_type": "stream",
     "text": [
      "  1.74s 1 result\n"
     ]
    },
    {
     "data": {
      "text/html": [
       "<table>\n",
       "<tr class=\"tf\">\n",
       "  <th class=\"tf\">n</th><th class=\"tf\">p</th>\n",
       "  <th class=\"tf\">verse</th><th>phrase</th><th>phrase</th><th>clause</th><th>word</th><th>word</th><th>word</th>\n",
       "</tr>\n",
       "\n",
       "<tr class=\"tf\"><td class=\"tf\">1</td><td class=\"tf\"> <a href=\"https://shebanq.ancient-data.org/hebrew/text?book=Samuel_II&amp;chapter=2&amp;verse=3&amp;version=c&amp;mr=m&amp;qw=q&amp;tp=txt_p&amp;tr=hb&amp;wget=v&amp;qget=v&amp;nget=vt\" title=\"show this passage in SHEBANQ\" sec=\"2_Samuel 2:3\">2_Samuel 2:3</a></td><td class=\"tf\"><span class=\"hb\"><a class=\"vn\" href=\"https://shebanq.ancient-data.org/hebrew/text?book=Samuel_II&amp;chapter=2&amp;verse=3&amp;version=c&amp;mr=m&amp;qw=q&amp;tp=txt_p&amp;tr=hb&amp;wget=v&amp;qget=v&amp;nget=vt\" title=\"2_Samuel 2:3\" sec=\"2_Samuel 2:3\"></a>וַאֲנָשָׁ֧יו אֲשֶׁר־עִמֹּ֛ו הֶעֱלָ֥ה דָוִ֖ד אִ֣ישׁ וּבֵיתֹ֑ו <span  class=\"hlup\" >וַ</span><span  class=\"hl hlup\" >יֵּשְׁב֖וּ </span><span  class=\"hl hlup\" >בְּ</span><span  class=\"hl hlup\" >עָרֵ֥י </span><span  class=\"hlup\" >חֶבְרֹֽון׃ </span></span></td><td class=\"tf\"><span class=\"hb\"><span  class=\"hl hlup\" >יֵּשְׁב֖וּ </span></span></td><td class=\"tf\"><span class=\"hb\"><span  class=\"hl hlup\" >בְּ</span><span  class=\"hl hlup\" >עָרֵ֥י </span><span  class=\"hlup\" >חֶבְרֹֽון׃ </span></span></td><td class=\"tf\"><span class=\"hb\"><span  class=\"hlup\" >וַ</span><span  class=\"hl hlup\" >יֵּשְׁב֖וּ </span><span  class=\"hl hlup\" >בְּ</span><span  class=\"hl hlup\" >עָרֵ֥י </span><span  class=\"hlup\" >חֶבְרֹֽון׃ </span></span></td><td class=\"tf\"><span class=\"hb\"><span  class=\"hl hlup\" >יֵּשְׁב֖וּ </span></span></td><td class=\"tf\"><span class=\"hb\"><span  class=\"hl hlup\" >בְּ</span></span></td><td class=\"tf\"><span class=\"hb\"><span  class=\"hl hlup\" >עָרֵ֥י </span></span></td></tr></table>"
      ],
      "text/plain": [
       "<IPython.core.display.HTML object>"
      ]
     },
     "metadata": {},
     "output_type": "display_data"
    }
   ],
   "source": [
    "SatinCities = '''\n",
    "clause typ=Way0\n",
    "    phrase function=Pred\n",
    "        word lex=JCB[ nu=pl\n",
    "    <: phrase\n",
    "        word lex=B\n",
    "        word lex=<JR/ nu=pl st=c\n",
    "'''\n",
    "SatinCities  = A.search(SatinCities)\n",
    "A.table(SatinCities, start=1, end=5, condensed=True)"
   ]
  },
  {
   "cell_type": "markdown",
   "metadata": {},
   "source": [
    "### Misc\n",
    "- “heard that he had died” p259)\n",
    "- Mahanaim (p98). Correlation – Causation. Death Metaphors…\n",
    "- “Going up to Hebron”: Well that is a normal reality since Hebron lies on crest of the Judean mountain ridge."
   ]
  },
  {
   "cell_type": "markdown",
   "metadata": {},
   "source": [
    "## Chris’ Method in Theory\n",
    "1.\tYou often use the term “close reading” (cf. p69) and at times it reads as a contrast to the historical critical attitude towards the text. However, nowhere do you really define what “close reading” in contrast to other methods actually means. Many readers would expect with the use of the term “close reading” a methodological reflection on Riceour (think of “surplus of meaning”) and Gadamer (think of “Wirkungsgeschichte”) in order to protect oneself from scholarly critique by relativizing and contextualizing one’s own claims and understanding of “close reading”. This is, however, missing, and thus the often-used declarative statements (e.g. “very intentional”, “obvious parallels”, “obvious contrast” etc.) in the dissertation can be taken as reflecting a hermeneutical naivete. You could protect yourself by using more of the subjunctive language like “increasing the likelihood that the author is intentionally alluding to…” (p70).\n",
    "2.\tYou use quite often the phrase “intention” (or similar phrases) and often operate with the idea of “author’s intent” (cf. p1 “showing their intentional design”, p165 “intentionally placed”, “intentionally ambiguous”, …). This is, of course, a risky approach in the world of critical biblical scholarship. While I think we can and must uphold the concept as such we cannot do so without defining what it means and how subjective intentionality (of the author/editor) is objectively materialized in the text. I miss such a discussion and framework. Without defining such relationship, it becomes difficult to test an interpretative approach like the one you take. How can I measure, test, and when needed disagree with an interpretation if you do not provide a framework by which you allow yourself to be tested by… Only pieces of art evade themselves from the controls of the scientific method. But you want to contribute to the academic realm. Thus a discussion of art and method is necessary.\n",
    "3.\tWhile you are eager to detect intentionality in the text it seems that you remain very much on the lexical and general thematic level (word usage [“verbal repetition”, p65], allusion, phrases, themes) but do not take fully into account matters of syntax (e.g. fronting) and text-syntaxis (narrative background, interruption of wayyqitol chains, etc.) which contribute to the guiding of interpretation and speech acts on an even more foundational level (think of cognitive linguistics, cognitive literary studies). Reader’s conclusions are fundamentally generated by the general cognitive process (“linguistic system”) rather than by rhetorical means (“literary design”).\n",
    "4.\tIf “close reading” means to observe closely all textual elements. Why do we, for example, not find a discussion of the interesting use of Qal Passive forms being rendered by the Masoretes as Niphal/Pual forms (cf. 2 Sam 3:2 [ketiv: וילדו; qere:  וַיִּוָּלְד֧וּ, compare with 4QSama: ויולד - representing obviously a later stage in the language development]; 2 Sam 3:5 [יֻלְּד֥וּ], obviously the Masoretes try to create a passive stem form that is used in their own times by changing an old Qal passive either into a Niphal or into a Pual)? Is this not part of a close reading, where we pick up materialized hints that suggest a very old age of the text? I understand that you want to stay away from matters of textual reconstruction, but such forms should not be neglected as you can still protect yourself form historical speculation. One could (and should) make an argument for that the dichotomy between “close reading” and “textual criticism” is false.\n",
    "5.\tSince you explain that you will be working with the final text, you should have explained how you relate to the Masoretic traces within the final text (Qere – Ketib). You ignore the final text’s divisions markers (Setumas, Petuchas, etc.) while one can make a good argument that these text-dividers are not just part of the final text but even pre-Masoretic. Are they excluded from your definition of the “final text”? For example, on p282-283 you discuss the different options for dividing the text into meaningful units. You disagree with those scholars who see the end of the section in 2 Sam 5:3 (Petucha) and 2 Sam 5:12 (Setuma) and rather suggest to end with 2 Sam 5:5. But by doing so, you override the Setumas and Petuchas that are placed right there where several scholars see the demarcations of the textual units.\n",
    "\n"
   ]
  },
  {
   "cell_type": "markdown",
   "metadata": {},
   "source": [
    "## In Sum...\n",
    "\n",
    "In sum: What I miss methodologically is your definition of intentionality and its workings:\n",
    "1.\tWhat is authorial intent (think of the work of speech act theory)?\n",
    "2.\tHow do textual intentionality and authorial intent relate, since they are not identical?\n",
    "3.\tHow is the author’s intentionality textually materialized and encoded? What of that materialization can be generalized and thus objectively/scientifically traced and measured, and what cannot be generalized and thus remains in the sphere of the “surplus of meaning” that can only be subjectively excavated with - if one decides to do so - the necessary help of the Holy Spirit. This is an important discussion if our works are intended not only for the community of faith but the community of scholars. \n",
    "4.\tThere do not seem to be dead metaphors in your approach to the text. Each word, place name, name is metaphorical (e.g. Mechanaim) and has meaning. The meaning of proper names can, however, only be suggested strongly after the discussion of dead metaphors (Today, “Frankfurt” as most city names are dead metaphors. Nobody thinks of the place where the franks had their fort over the Main river. “Redbud” is a dead metaphor for 11 months of the year. Only in the springtime, one realizes why the road is called “Redbud”. Throughout 11 months people do not know – when one asks – what the meaning of the road is. But the metaphor resurrects in spring…)\n",
    "5.\tWhat does 2 Sam 2-5 tell us about the author? Would you say that he made his comparative links very visible or would you say his links a very subtle, inviting the reader to investigate potential comparative links (think of the “lying Amalekite”)? \n"
   ]
  },
  {
   "cell_type": "markdown",
   "metadata": {},
   "source": [
    "## And on a more general level...\n",
    "1. How is the reader’s intentionality when he/she decides matters of textual ambiguity and surplus of meaning to be “benchmarked” in a community of faith (denomination, tradition, etc.) that seeks to embrace the idea of sola, tota, prima scriptura?\n",
    "2. If we categorize your book as a product of the university (the humanities), how would a Christian university have to position the humanities between the spectrum of the arts and sciences?\n"
   ]
  },
  {
   "cell_type": "code",
   "execution_count": null,
   "metadata": {},
   "outputs": [],
   "source": []
  }
 ],
 "metadata": {
  "kernelspec": {
   "display_name": "Python 3",
   "language": "python",
   "name": "python3"
  },
  "language_info": {
   "codemirror_mode": {
    "name": "ipython",
    "version": 3
   },
   "file_extension": ".py",
   "mimetype": "text/x-python",
   "name": "python",
   "nbconvert_exporter": "python",
   "pygments_lexer": "ipython3",
   "version": "3.7.4"
  },
  "toc": {
   "base_numbering": 1,
   "nav_menu": {},
   "number_sections": true,
   "sideBar": true,
   "skip_h1_title": false,
   "title_cell": "Table of Contents",
   "title_sidebar": "Contents",
   "toc_cell": false,
   "toc_position": {
    "height": "calc(100% - 180px)",
    "left": "10px",
    "top": "150px",
    "width": "325px"
   },
   "toc_section_display": true,
   "toc_window_display": true
  }
 },
 "nbformat": 4,
 "nbformat_minor": 2
}

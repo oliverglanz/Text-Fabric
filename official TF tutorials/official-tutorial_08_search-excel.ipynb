{
 "cells": [
  {
   "cell_type": "markdown",
   "metadata": {},
   "source": [
    "<img align=\"right\" src=\"images/tf-small.png\" width=\"128\"/>\n",
    "<img align=\"right\" src=\"images/etcbc.png\"/>\n",
    "<img align=\"right\" src=\"images/dans-small.png\"/>\n",
    "\n",
    "# Export to Excel\n",
    "\n",
    "In a notebook, you can perform searches and view them in a tabular display and zoom in on items with\n",
    "pretty displays.\n",
    "\n",
    "But there are times that you want to take your results outside Text-Fabric, outside a notebook, outside Python, and just\n",
    "work with them in other programs, such as Excel.\n",
    "\n",
    "You want to do that not only with query results, but with all kinds of lists of tuples of nodes.\n",
    "\n",
    "There is a function for that, `A.export()`, and here we show what it can do."
   ]
  },
  {
   "cell_type": "code",
   "execution_count": 2,
   "metadata": {},
   "outputs": [],
   "source": [
    "%load_ext autoreload\n",
    "%autoreload 2"
   ]
  },
  {
   "cell_type": "markdown",
   "metadata": {},
   "source": [
    "# Incantation\n",
    "\n",
    "The ins and outs of installing Text-Fabric, getting the corpus, and initializing a notebook are\n",
    "explained in the [start tutorial](start.ipynb)."
   ]
  },
  {
   "cell_type": "code",
   "execution_count": 3,
   "metadata": {
    "ExecuteTime": {
     "end_time": "2018-05-24T10:06:39.818664Z",
     "start_time": "2018-05-24T10:06:39.796588Z"
    }
   },
   "outputs": [],
   "source": [
    "import os\n",
    "from tf.app import use"
   ]
  },
  {
   "cell_type": "code",
   "execution_count": 4,
   "metadata": {},
   "outputs": [
    {
     "name": "stdout",
     "output_type": "stream",
     "text": [
      "Using etcbc/bhsa/tf - c r1.5 in /Users/dirk/text-fabric-data\n",
      "Using etcbc/phono/tf - c r1.2 in /Users/dirk/text-fabric-data\n",
      "Using etcbc/parallels/tf - c r1.2 in /Users/dirk/text-fabric-data\n"
     ]
    },
    {
     "data": {
      "text/markdown": [
       "**Documentation:** <a target=\"_blank\" href=\"https://etcbc.github.io/bhsa\" title=\"provenance of BHSA = Biblia Hebraica Stuttgartensia Amstelodamensis\">BHSA</a> <a target=\"_blank\" href=\"https://dans-labs.github.io/text-fabric/Writing/Hebrew\" title=\"('Hebrew characters and transcriptions',)\">Character table</a> <a target=\"_blank\" href=\"https://etcbc.github.io/bhsa/features/hebrew/c/0_home.html\" title=\"BHSA feature documentation\">Feature docs</a> <a target=\"_blank\" href=\"https://dans-labs.github.io/text-fabric/Apps/Bhsa/\" title=\"bhsa API documentation\">bhsa API</a> <a target=\"_blank\" href=\"https://dans-labs.github.io/text-fabric/Api/General/\" title=\"text-fabric-api\">Text-Fabric API 7.2.3</a> <a target=\"_blank\" href=\"https://dans-labs.github.io/text-fabric/Use/Search/\" title=\"Search Templates Introduction and Reference\">Search Reference</a>"
      ],
      "text/plain": [
       "<IPython.core.display.Markdown object>"
      ]
     },
     "metadata": {},
     "output_type": "display_data"
    },
    {
     "data": {
      "text/html": [
       "<details open><summary><b>Loaded features</b>:</summary>\n",
       "<p><b>BHSA = Biblia Hebraica Stuttgartensia Amstelodamensis</b>: <a target=\"_blank\" href=\"https://etcbc.github.io/bhsa/features/hebrew/c/book.html\" title=\"/Users/dirk/text-fabric-data/etcbc/bhsa/tf/c/book.tf\">book</a>  <a target=\"_blank\" href=\"https://etcbc.github.io/bhsa/features/hebrew/c/book@ll.html\" title=\"/Users/dirk/text-fabric-data/etcbc/bhsa/tf/c/book@am.tf\">book@ll</a>  <a target=\"_blank\" href=\"https://etcbc.github.io/bhsa/features/hebrew/c/chapter.html\" title=\"/Users/dirk/text-fabric-data/etcbc/bhsa/tf/c/chapter.tf\">chapter</a>  <a target=\"_blank\" href=\"https://etcbc.github.io/bhsa/features/hebrew/c/code.html\" title=\"/Users/dirk/text-fabric-data/etcbc/bhsa/tf/c/code.tf\">code</a>  <a target=\"_blank\" href=\"https://etcbc.github.io/bhsa/features/hebrew/c/det.html\" title=\"/Users/dirk/text-fabric-data/etcbc/bhsa/tf/c/det.tf\">det</a>  <a target=\"_blank\" href=\"https://etcbc.github.io/bhsa/features/hebrew/c/freq_lex.html\" title=\"/Users/dirk/text-fabric-data/etcbc/bhsa/tf/c/freq_lex.tf\">freq_lex</a>  <a target=\"_blank\" href=\"https://etcbc.github.io/bhsa/features/hebrew/c/function.html\" title=\"/Users/dirk/text-fabric-data/etcbc/bhsa/tf/c/function.tf\">function</a>  <a target=\"_blank\" href=\"https://etcbc.github.io/bhsa/features/hebrew/c/g_word.html\" title=\"/Users/dirk/text-fabric-data/etcbc/bhsa/tf/c/g_word.tf\">g_word</a>  <a target=\"_blank\" href=\"https://etcbc.github.io/bhsa/features/hebrew/c/g_word_utf8.html\" title=\"/Users/dirk/text-fabric-data/etcbc/bhsa/tf/c/g_word_utf8.tf\">g_word_utf8</a>  <a target=\"_blank\" href=\"https://etcbc.github.io/bhsa/features/hebrew/c/gloss.html\" title=\"/Users/dirk/text-fabric-data/etcbc/bhsa/tf/c/gloss.tf\">gloss</a>  <a target=\"_blank\" href=\"https://etcbc.github.io/bhsa/features/hebrew/c/gn.html\" title=\"/Users/dirk/text-fabric-data/etcbc/bhsa/tf/c/gn.tf\">gn</a>  <a target=\"_blank\" href=\"https://etcbc.github.io/bhsa/features/hebrew/c/label.html\" title=\"/Users/dirk/text-fabric-data/etcbc/bhsa/tf/c/label.tf\">label</a>  <a target=\"_blank\" href=\"https://etcbc.github.io/bhsa/features/hebrew/c/language.html\" title=\"/Users/dirk/text-fabric-data/etcbc/bhsa/tf/c/language.tf\">language</a>  <a target=\"_blank\" href=\"https://etcbc.github.io/bhsa/features/hebrew/c/lex.html\" title=\"/Users/dirk/text-fabric-data/etcbc/bhsa/tf/c/lex.tf\">lex</a>  <a target=\"_blank\" href=\"https://etcbc.github.io/bhsa/features/hebrew/c/lex_utf8.html\" title=\"/Users/dirk/text-fabric-data/etcbc/bhsa/tf/c/lex_utf8.tf\">lex_utf8</a>  <a target=\"_blank\" href=\"https://etcbc.github.io/bhsa/features/hebrew/c/ls.html\" title=\"/Users/dirk/text-fabric-data/etcbc/bhsa/tf/c/ls.tf\">ls</a>  <a target=\"_blank\" href=\"https://etcbc.github.io/bhsa/features/hebrew/c/nametype.html\" title=\"/Users/dirk/text-fabric-data/etcbc/bhsa/tf/c/nametype.tf\">nametype</a>  <a target=\"_blank\" href=\"https://etcbc.github.io/bhsa/features/hebrew/c/nu.html\" title=\"/Users/dirk/text-fabric-data/etcbc/bhsa/tf/c/nu.tf\">nu</a>  <a target=\"_blank\" href=\"https://etcbc.github.io/bhsa/features/hebrew/c/number.html\" title=\"/Users/dirk/text-fabric-data/etcbc/bhsa/tf/c/number.tf\">number</a>  <a target=\"_blank\" href=\"https://etcbc.github.io/bhsa/features/hebrew/c/otype.html\" title=\"/Users/dirk/text-fabric-data/etcbc/bhsa/tf/c/otype.tf\">otype</a>  <a target=\"_blank\" href=\"https://etcbc.github.io/bhsa/features/hebrew/c/pdp.html\" title=\"/Users/dirk/text-fabric-data/etcbc/bhsa/tf/c/pdp.tf\">pdp</a>  <a target=\"_blank\" href=\"https://etcbc.github.io/bhsa/features/hebrew/c/prs_gn.html\" title=\"/Users/dirk/text-fabric-data/etcbc/bhsa/tf/c/prs_gn.tf\">prs_gn</a>  <a target=\"_blank\" href=\"https://etcbc.github.io/bhsa/features/hebrew/c/prs_nu.html\" title=\"/Users/dirk/text-fabric-data/etcbc/bhsa/tf/c/prs_nu.tf\">prs_nu</a>  <a target=\"_blank\" href=\"https://etcbc.github.io/bhsa/features/hebrew/c/prs_ps.html\" title=\"/Users/dirk/text-fabric-data/etcbc/bhsa/tf/c/prs_ps.tf\">prs_ps</a>  <a target=\"_blank\" href=\"https://etcbc.github.io/bhsa/features/hebrew/c/ps.html\" title=\"/Users/dirk/text-fabric-data/etcbc/bhsa/tf/c/ps.tf\">ps</a>  <a target=\"_blank\" href=\"https://etcbc.github.io/bhsa/features/hebrew/c/qere.html\" title=\"/Users/dirk/text-fabric-data/etcbc/bhsa/tf/c/qere.tf\">qere</a>  <a target=\"_blank\" href=\"https://etcbc.github.io/bhsa/features/hebrew/c/qere_trailer.html\" title=\"/Users/dirk/text-fabric-data/etcbc/bhsa/tf/c/qere_trailer.tf\">qere_trailer</a>  <a target=\"_blank\" href=\"https://etcbc.github.io/bhsa/features/hebrew/c/qere_trailer_utf8.html\" title=\"/Users/dirk/text-fabric-data/etcbc/bhsa/tf/c/qere_trailer_utf8.tf\">qere_trailer_utf8</a>  <a target=\"_blank\" href=\"https://etcbc.github.io/bhsa/features/hebrew/c/qere_utf8.html\" title=\"/Users/dirk/text-fabric-data/etcbc/bhsa/tf/c/qere_utf8.tf\">qere_utf8</a>  <a target=\"_blank\" href=\"https://etcbc.github.io/bhsa/features/hebrew/c/rank_lex.html\" title=\"/Users/dirk/text-fabric-data/etcbc/bhsa/tf/c/rank_lex.tf\">rank_lex</a>  <a target=\"_blank\" href=\"https://etcbc.github.io/bhsa/features/hebrew/c/rela.html\" title=\"/Users/dirk/text-fabric-data/etcbc/bhsa/tf/c/rela.tf\">rela</a>  <a target=\"_blank\" href=\"https://etcbc.github.io/bhsa/features/hebrew/c/sp.html\" title=\"/Users/dirk/text-fabric-data/etcbc/bhsa/tf/c/sp.tf\">sp</a>  <a target=\"_blank\" href=\"https://etcbc.github.io/bhsa/features/hebrew/c/st.html\" title=\"/Users/dirk/text-fabric-data/etcbc/bhsa/tf/c/st.tf\">st</a>  <a target=\"_blank\" href=\"https://etcbc.github.io/bhsa/features/hebrew/c/trailer.html\" title=\"/Users/dirk/text-fabric-data/etcbc/bhsa/tf/c/trailer.tf\">trailer</a>  <a target=\"_blank\" href=\"https://etcbc.github.io/bhsa/features/hebrew/c/trailer_utf8.html\" title=\"/Users/dirk/text-fabric-data/etcbc/bhsa/tf/c/trailer_utf8.tf\">trailer_utf8</a>  <a target=\"_blank\" href=\"https://etcbc.github.io/bhsa/features/hebrew/c/txt.html\" title=\"/Users/dirk/text-fabric-data/etcbc/bhsa/tf/c/txt.tf\">txt</a>  <a target=\"_blank\" href=\"https://etcbc.github.io/bhsa/features/hebrew/c/typ.html\" title=\"/Users/dirk/text-fabric-data/etcbc/bhsa/tf/c/typ.tf\">typ</a>  <a target=\"_blank\" href=\"https://etcbc.github.io/bhsa/features/hebrew/c/verse.html\" title=\"/Users/dirk/text-fabric-data/etcbc/bhsa/tf/c/verse.tf\">verse</a>  <a target=\"_blank\" href=\"https://etcbc.github.io/bhsa/features/hebrew/c/voc_lex.html\" title=\"/Users/dirk/text-fabric-data/etcbc/bhsa/tf/c/voc_lex.tf\">voc_lex</a>  <a target=\"_blank\" href=\"https://etcbc.github.io/bhsa/features/hebrew/c/voc_lex_utf8.html\" title=\"/Users/dirk/text-fabric-data/etcbc/bhsa/tf/c/voc_lex_utf8.tf\">voc_lex_utf8</a>  <a target=\"_blank\" href=\"https://etcbc.github.io/bhsa/features/hebrew/c/vs.html\" title=\"/Users/dirk/text-fabric-data/etcbc/bhsa/tf/c/vs.tf\">vs</a>  <a target=\"_blank\" href=\"https://etcbc.github.io/bhsa/features/hebrew/c/vt.html\" title=\"/Users/dirk/text-fabric-data/etcbc/bhsa/tf/c/vt.tf\">vt</a>  <b><i><a target=\"_blank\" href=\"https://etcbc.github.io/bhsa/features/hebrew/c/mother.html\" title=\"/Users/dirk/text-fabric-data/etcbc/bhsa/tf/c/mother.tf\">mother</a></i></b>  <b><i><a target=\"_blank\" href=\"https://etcbc.github.io/bhsa/features/hebrew/c/oslots.html\" title=\"/Users/dirk/text-fabric-data/etcbc/bhsa/tf/c/oslots.tf\">oslots</a></i></b> </p><p><b>Parallel Passages</b>: <b><i><a target=\"_blank\" href=\"https://nbviewer.jupyter.org/github/etcbc/parallels/blob/master/programs/parallels.ipynb\" title=\"/Users/dirk/text-fabric-data/etcbc/parallels/tf/c/crossref.tf\">crossref</a></i></b> </p><p><b>Phonetic Transcriptions</b>: <a target=\"_blank\" href=\"https://nbviewer.jupyter.org/github/etcbc/phono/blob/master/programs/phono.ipynb\" title=\"/Users/dirk/text-fabric-data/etcbc/phono/tf/c/phono.tf\">phono</a>  <a target=\"_blank\" href=\"https://nbviewer.jupyter.org/github/etcbc/phono/blob/master/programs/phono.ipynb\" title=\"/Users/dirk/text-fabric-data/etcbc/phono/tf/c/phono_trailer.tf\">phono_trailer</a> </p></details>"
      ],
      "text/plain": [
       "<IPython.core.display.HTML object>"
      ]
     },
     "metadata": {},
     "output_type": "display_data"
    },
    {
     "data": {
      "text/html": [
       "<style>\n",
       "@font-face {\n",
       "  font-family: \"Ezra SIL\";\n",
       "  src: url('https://github.com/Dans-labs/text-fabric/blob/master/tf/server/static/fonts/SILEOT.ttf?raw=true');\n",
       "  src: url('https://github.com/Dans-labs/text-fabric/blob/master/tf/server/static/fonts/SILEOT.woff?raw=true') format('woff');\n",
       "}\n",
       ".features {\n",
       "    font-family: monospace;\n",
       "    font-size: medium;\n",
       "    font-weight: bold;\n",
       "    color: #0a6611;\n",
       "    display: flex;\n",
       "    flex-flow: column nowrap;\n",
       "    padding: 0.1em;\n",
       "    margin: 0.1em;\n",
       "    direction: ltr;\n",
       "}\n",
       ".features div,.features span {\n",
       "    padding: 0;\n",
       "    margin: -0.1rem 0;\n",
       "}\n",
       ".features .f {\n",
       "    font-family: sans-serif;\n",
       "    font-size: x-small;\n",
       "    font-weight: normal;\n",
       "    color: #5555bb;\n",
       "}\n",
       ".features .xft {\n",
       "  color: #000000;\n",
       "  background-color: #eeeeee;\n",
       "  font-size: medium;\n",
       "  margin: 0.1em 0em;\n",
       "}\n",
       ".features .xft .f {\n",
       "  color: #000000;\n",
       "  background-color: #eeeeee;\n",
       "  font-style: italic;\n",
       "  font-size: small;\n",
       "  font-weight: normal;\n",
       "}\n",
       ".verse {\n",
       "    display: flex;\n",
       "    flex-flow: row wrap;\n",
       "    direction: rtl;\n",
       "}\n",
       ".vl {\n",
       "    display: flex;\n",
       "    flex-flow: column nowrap;\n",
       "    justify-content: flex-end;\n",
       "    align-items: flex-end;\n",
       "    direction: ltr;\n",
       "    width: 100%;\n",
       "}\n",
       ".outeritem {\n",
       "    display: flex;\n",
       "    flex-flow: row wrap;\n",
       "    direction: rtl;\n",
       "}\n",
       ".sentence,.clause,.phrase {\n",
       "    margin-top: -1.2em;\n",
       "    margin-left: 1em;\n",
       "    background: #ffffff none repeat scroll 0 0;\n",
       "    padding: 0 0.3em;\n",
       "    border-style: solid;\n",
       "    border-radius: 0.2em;\n",
       "    font-size: small;\n",
       "    display: block;\n",
       "    width: fit-content;\n",
       "    max-width: fit-content;\n",
       "    direction: ltr;\n",
       "}\n",
       ".atoms {\n",
       "    display: flex;\n",
       "    flex-flow: row wrap;\n",
       "    margin: 0.3em;\n",
       "    padding: 0.3em;\n",
       "    direction: rtl;\n",
       "    background-color: #ffffff;\n",
       "}\n",
       ".satom,.catom,.patom {\n",
       "    margin: 0.3em;\n",
       "    padding: 0.3em;\n",
       "    border-radius: 0.3em;\n",
       "    border-style: solid;\n",
       "    display: flex;\n",
       "    flex-flow: column nowrap;\n",
       "    direction: rtl;\n",
       "    background-color: #ffffff;\n",
       "}\n",
       ".sentence {\n",
       "    border-color: #aa3333;\n",
       "    border-width: 1px;\n",
       "}\n",
       ".clause {\n",
       "    border-color: #aaaa33;\n",
       "    border-width: 1px;\n",
       "}\n",
       ".phrase {\n",
       "    border-color: #33aaaa;\n",
       "    border-width: 1px;\n",
       "}\n",
       ".satom {\n",
       "    border-color: #aa3333;\n",
       "    border-width: 4px;\n",
       "}\n",
       ".catom {\n",
       "    border-color: #aaaa33;\n",
       "    border-width: 3px;\n",
       "}\n",
       ".patom {\n",
       "    border-color: #33aaaa;\n",
       "    border-width: 3px;\n",
       "}\n",
       ".word {\n",
       "    padding: 0.1em;\n",
       "    margin: 0.1em;\n",
       "    border-radius: 0.1em;\n",
       "    border: 1px solid #cccccc;\n",
       "    display: flex;\n",
       "    flex-flow: column nowrap;\n",
       "    direction: rtl;\n",
       "    background-color: #ffffff;\n",
       "}\n",
       ".lextp {\n",
       "    padding: 0.1em;\n",
       "    margin: 0.1em;\n",
       "    border-radius: 0.1em;\n",
       "    border: 2px solid #888888;\n",
       "    width: fit-content;\n",
       "    display: flex;\n",
       "    flex-flow: column nowrap;\n",
       "    direction: rtl;\n",
       "    background-color: #ffffff;\n",
       "}\n",
       ".occs {\n",
       "    font-size: x-small;\n",
       "}\n",
       ".satom.l,.catom.l,.patom.l {\n",
       "    border-left-style: dotted\n",
       "}\n",
       ".satom.r,.catom.r,.patom.r {\n",
       "    border-right-style: dotted\n",
       "}\n",
       ".satom.lno,.catom.lno,.patom.lno {\n",
       "    border-left-style: none\n",
       "}\n",
       ".satom.rno,.catom.rno,.patom.rno {\n",
       "    border-right-style: none\n",
       "}\n",
       ".tr,.tr a:visited,.tr a:link {\n",
       "    font-family: sans-serif;\n",
       "    font-size: large;\n",
       "    color: #000044;\n",
       "    direction: ltr;\n",
       "    text-decoration: none;\n",
       "}\n",
       ".trb,.trb a:visited,.trb a:link {\n",
       "    font-family: sans-serif;\n",
       "    font-size: normal;\n",
       "    direction: ltr;\n",
       "    text-decoration: none;\n",
       "}\n",
       ".prb,.prb a:visited,.prb a:link {\n",
       "    font-family: sans-serif;\n",
       "    font-size: large;\n",
       "    direction: ltr;\n",
       "    text-decoration: none;\n",
       "}\n",
       ".h,.h a:visited,.h a:link {\n",
       "    font-family: \"Ezra SIL\", \"SBL Hebrew\", sans-serif;\n",
       "    font-size: large;\n",
       "    color: #000044;\n",
       "    direction: rtl;\n",
       "    text-decoration: none;\n",
       "}\n",
       ".hb,.hb a:visited,.hb a:link {\n",
       "    font-family: \"Ezra SIL\", \"SBL Hebrew\", sans-serif;\n",
       "    font-size: large;\n",
       "    line-height: 1.8;\n",
       "    direction: rtl;\n",
       "    text-decoration: none;\n",
       "}\n",
       ".vn {\n",
       "  font-size: small !important;\n",
       "  padding-right: 1em;\n",
       "}\n",
       ".rela,.function,.typ {\n",
       "    font-family: monospace;\n",
       "    font-size: small;\n",
       "    color: #0000bb;\n",
       "}\n",
       ".pdp,.pdp a:visited,.pdp a:link {\n",
       "    font-family: monospace;\n",
       "    font-size: medium;\n",
       "    color: #0000bb;\n",
       "    text-decoration: none;\n",
       "}\n",
       ".voc_lex {\n",
       "    font-family: monospace;\n",
       "    font-size: medium;\n",
       "    color: #0000bb;\n",
       "}\n",
       ".vs {\n",
       "    font-family: monospace;\n",
       "    font-size: medium;\n",
       "    font-weight: bold;\n",
       "    color: #0000bb;\n",
       "}\n",
       ".vt {\n",
       "    font-family: monospace;\n",
       "    font-size: medium;\n",
       "    font-weight: bold;\n",
       "    color: #0000bb;\n",
       "}\n",
       ".gloss {\n",
       "    font-family: sans-serif;\n",
       "    font-size: small;\n",
       "    font-weight: normal;\n",
       "    color: #444444;\n",
       "}\n",
       ".vrs {\n",
       "    font-family: sans-serif;\n",
       "    font-size: small;\n",
       "    font-weight: bold;\n",
       "    color: #444444;\n",
       "}\n",
       ".nd {\n",
       "    font-family: monospace;\n",
       "    font-size: x-small;\n",
       "    color: #999999;\n",
       "}\n",
       ".hl {\n",
       "    background-color: #ffee66;\n",
       "}\n",
       "span.hldot {\n",
       "\tbackground-color: var(--hl-strong);\n",
       "\tborder: 0.2rem solid var(--hl-rim);\n",
       "\tborder-radius: 0.4rem;\n",
       "\t/*\n",
       "\tdisplay: inline-block;\n",
       "\twidth: 0.8rem;\n",
       "\theight: 0.8rem;\n",
       "\t*/\n",
       "}\n",
       "span.hl {\n",
       "\tbackground-color: var(--hl-strong);\n",
       "\tborder-width: 0;\n",
       "\tborder-radius: 0.1rem;\n",
       "\tborder-style: solid;\n",
       "}\n",
       "\n",
       "span.hlup {\n",
       "\tborder-color: var(--hl-dark);\n",
       "\tborder-width: 0.1rem;\n",
       "\tborder-style: solid;\n",
       "\tborder-radius: 0.2rem;\n",
       "  padding: 0.2rem;\n",
       "}\n",
       "\n",
       ":root {\n",
       "\t--hl-strong:        hsla( 60, 100%,  70%, 0.9  );\n",
       "\t--hl-rim:           hsla( 55, 100%,  60%, 0.9  );\n",
       "\t--hl-dark:          hsla( 55, 100%,  40%, 0.9  );\n",
       "}\n",
       "</style>"
      ],
      "text/plain": [
       "<IPython.core.display.HTML object>"
      ]
     },
     "metadata": {},
     "output_type": "display_data"
    },
    {
     "data": {
      "text/html": [
       "<details open><summary><b>API members</b>:</summary>\n",
       "<a target=\"_blank\" href=\"https://dans-labs.github.io/text-fabric/Api/Computed/#computed-data\" title=\"doc\">C Computed</a>, <a target=\"_blank\" href=\"https://dans-labs.github.io/text-fabric/Api/Computed/#computed-data\" title=\"doc\">Call AllComputeds</a>, <a target=\"_blank\" href=\"https://dans-labs.github.io/text-fabric/Api/Computed/#computed-data\" title=\"doc\">Cs ComputedString</a><br/>\n",
       "<a target=\"_blank\" href=\"https://dans-labs.github.io/text-fabric/Api/Features/#edge-features\" title=\"doc\">E Edge</a>, <a target=\"_blank\" href=\"https://dans-labs.github.io/text-fabric/Api/Features/#edge-features\" title=\"doc\">Eall AllEdges</a>, <a target=\"_blank\" href=\"https://dans-labs.github.io/text-fabric/Api/Features/#edge-features\" title=\"doc\">Es EdgeString</a><br/>\n",
       "<a target=\"_blank\" href=\"https://dans-labs.github.io/text-fabric/Api/Fabric/#loading\" title=\"doc\">ensureLoaded</a>, <a target=\"_blank\" href=\"https://dans-labs.github.io/text-fabric/Api/Fabric/#loading\" title=\"doc\">TF</a>, <a target=\"_blank\" href=\"https://dans-labs.github.io/text-fabric/Api/Fabric/#loading\" title=\"doc\">ignored</a>, <a target=\"_blank\" href=\"https://dans-labs.github.io/text-fabric/Api/Fabric/#loading\" title=\"doc\">loadLog</a><br/>\n",
       "<a target=\"_blank\" href=\"https://dans-labs.github.io/text-fabric/Api/Locality/#locality\" title=\"doc\">L Locality</a><br/>\n",
       "<a target=\"_blank\" href=\"https://dans-labs.github.io/text-fabric/Api/Misc/#messaging\" title=\"doc\">cache</a>, <a target=\"_blank\" href=\"https://dans-labs.github.io/text-fabric/Api/Misc/#messaging\" title=\"doc\">error</a>, <a target=\"_blank\" href=\"https://dans-labs.github.io/text-fabric/Api/Misc/#messaging\" title=\"doc\">indent</a>, <a target=\"_blank\" href=\"https://dans-labs.github.io/text-fabric/Api/Misc/#messaging\" title=\"doc\">info</a>, <a target=\"_blank\" href=\"https://dans-labs.github.io/text-fabric/Api/Misc/#messaging\" title=\"doc\">reset</a><br/>\n",
       "<a target=\"_blank\" href=\"https://dans-labs.github.io/text-fabric/Api/Nodes/#navigating-nodes\" title=\"doc\">N Nodes</a>, <a target=\"_blank\" href=\"https://dans-labs.github.io/text-fabric/Api/Nodes/#navigating-nodes\" title=\"doc\">sortKey</a>, <a target=\"_blank\" href=\"https://dans-labs.github.io/text-fabric/Api/Nodes/#navigating-nodes\" title=\"doc\">sortKeyTuple</a>, <a target=\"_blank\" href=\"https://dans-labs.github.io/text-fabric/Api/Nodes/#navigating-nodes\" title=\"doc\">otypeRank</a>, <a target=\"_blank\" href=\"https://dans-labs.github.io/text-fabric/Api/Nodes/#navigating-nodes\" title=\"doc\">sortNodes</a><br/>\n",
       "<a target=\"_blank\" href=\"https://dans-labs.github.io/text-fabric/Api/Features/#node-features\" title=\"doc\">F Feature</a>, <a target=\"_blank\" href=\"https://dans-labs.github.io/text-fabric/Api/Features/#node-features\" title=\"doc\">Fall AllFeatures</a>, <a target=\"_blank\" href=\"https://dans-labs.github.io/text-fabric/Api/Features/#node-features\" title=\"doc\">Fs FeatureString</a><br/>\n",
       "<a target=\"_blank\" href=\"https://dans-labs.github.io/text-fabric/Api/Search/#search\" title=\"doc\">S Search</a><br/>\n",
       "<a target=\"_blank\" href=\"https://dans-labs.github.io/text-fabric/Api/Text/#text\" title=\"doc\">T Text</a></details>"
      ],
      "text/plain": [
       "<IPython.core.display.HTML object>"
      ]
     },
     "metadata": {},
     "output_type": "display_data"
    }
   ],
   "source": [
    "A = use('bhsa', hoist=globals())"
   ]
  },
  {
   "cell_type": "markdown",
   "metadata": {},
   "source": [
    "# Inspect the contents of a file\n",
    "We write a function that can peek into file on your system, and show the first few lines.\n",
    "We'll use it to inspect the exported files that we are going to produce."
   ]
  },
  {
   "cell_type": "code",
   "execution_count": 5,
   "metadata": {},
   "outputs": [],
   "source": [
    "EXPORT_FILE = os.path.expanduser('~/Downloads/results.tsv')\n",
    "UPTO = 10\n",
    "\n",
    "def checkout():\n",
    "    with open(EXPORT_FILE, encoding='utf_16') as fh:\n",
    "        for (i, line) in enumerate(fh):\n",
    "            if i >= UPTO:\n",
    "                break\n",
    "            print(line)"
   ]
  },
  {
   "cell_type": "markdown",
   "metadata": {},
   "source": [
    "# Encoding\n",
    "\n",
    "Our exported `.tsv` files open in Excel without hassle, even if they contain non-latin characters.\n",
    "That is because TF writes such files in an\n",
    "encoding that works well with Excel: `utf_16_le`.\n",
    "You can just open them in Excel, there is no need for conversion before or after opening these files.\n",
    "\n",
    "Should you want to process these files by means of a (Python) program, \n",
    "take care to read them with encoding `utf_16`."
   ]
  },
  {
   "cell_type": "markdown",
   "metadata": {},
   "source": [
    "# Example query\n",
    "\n",
    "We first run a query in order to export the results."
   ]
  },
  {
   "cell_type": "code",
   "execution_count": 6,
   "metadata": {
    "ExecuteTime": {
     "end_time": "2018-05-24T07:46:55.998382Z",
     "start_time": "2018-05-24T07:46:55.137956Z"
    }
   },
   "outputs": [
    {
     "name": "stdout",
     "output_type": "stream",
     "text": [
      "  0.47s 1868 results\n"
     ]
    }
   ],
   "source": [
    "query = '''\n",
    "book book=Samuel_I\n",
    "  clause\n",
    "    word sp=nmpr\n",
    "'''\n",
    "results = A.search(query)"
   ]
  },
  {
   "cell_type": "markdown",
   "metadata": {},
   "source": [
    "# Bare export\n",
    "\n",
    "You can export the table of results to Excel.\n",
    "\n",
    "The following command writes a tab-separated file `results.tsv` to your downloads directory.\n",
    "\n",
    "You can specify arguments `toDir=directory` and `toFile=file name` to write to a different file.\n",
    "If the directory does not exist, it will be created.\n",
    "\n",
    "We stick to the default, however."
   ]
  },
  {
   "cell_type": "code",
   "execution_count": 7,
   "metadata": {},
   "outputs": [],
   "source": [
    "A.export(results)"
   ]
  },
  {
   "cell_type": "markdown",
   "metadata": {},
   "source": [
    "Check out the contents:"
   ]
  },
  {
   "cell_type": "code",
   "execution_count": 8,
   "metadata": {},
   "outputs": [
    {
     "name": "stdout",
     "output_type": "stream",
     "text": [
      "R\tS1\tS2\tS3\tNODE1\tTYPE1\tbook1\tNODE2\tTYPE2\tTEXT2\tNODE3\tTYPE3\tTEXT3\tsp3\n",
      "\n",
      "1\t1_Samuel\t1\t1\t426592\tbook\tSamuel_I\t453942\tclause\tוַיְהִי֩ אִ֨ישׁ אֶחָ֜ד מִן־הָרָמָתַ֛יִם צֹופִ֖ים מֵהַ֣ר אֶפְרָ֑יִם \t141547\tword\tאֶפְרָ֑יִם \tnmpr\n",
      "\n",
      "2\t1_Samuel\t1\t1\t426592\tbook\tSamuel_I\t453943\tclause\tוּשְׁמֹ֡ו אֶ֠לְקָנָה בֶּן־יְרֹחָ֧ם בֶּן־אֱלִיה֛וּא בֶּן־תֹּ֥חוּ בֶן־צ֖וּף אֶפְרָתִֽי׃ \t141550\tword\tאֶ֠לְקָנָה \tnmpr\n",
      "\n",
      "3\t1_Samuel\t1\t1\t426592\tbook\tSamuel_I\t453943\tclause\tוּשְׁמֹ֡ו אֶ֠לְקָנָה בֶּן־יְרֹחָ֧ם בֶּן־אֱלִיה֛וּא בֶּן־תֹּ֥חוּ בֶן־צ֖וּף אֶפְרָתִֽי׃ \t141552\tword\tיְרֹחָ֧ם \tnmpr\n",
      "\n",
      "4\t1_Samuel\t1\t1\t426592\tbook\tSamuel_I\t453943\tclause\tוּשְׁמֹ֡ו אֶ֠לְקָנָה בֶּן־יְרֹחָ֧ם בֶּן־אֱלִיה֛וּא בֶּן־תֹּ֥חוּ בֶן־צ֖וּף אֶפְרָתִֽי׃ \t141554\tword\tאֱלִיה֛וּא \tnmpr\n",
      "\n",
      "5\t1_Samuel\t1\t1\t426592\tbook\tSamuel_I\t453943\tclause\tוּשְׁמֹ֡ו אֶ֠לְקָנָה בֶּן־יְרֹחָ֧ם בֶּן־אֱלִיה֛וּא בֶּן־תֹּ֥חוּ בֶן־צ֖וּף אֶפְרָתִֽי׃ \t141556\tword\tתֹּ֥חוּ \tnmpr\n",
      "\n",
      "6\t1_Samuel\t1\t1\t426592\tbook\tSamuel_I\t453943\tclause\tוּשְׁמֹ֡ו אֶ֠לְקָנָה בֶּן־יְרֹחָ֧ם בֶּן־אֱלִיה֛וּא בֶּן־תֹּ֥חוּ בֶן־צ֖וּף אֶפְרָתִֽי׃ \t141558\tword\tצ֖וּף \tnmpr\n",
      "\n",
      "7\t1_Samuel\t1\t2\t426592\tbook\tSamuel_I\t453945\tclause\tשֵׁ֤ם אַחַת֙ חַנָּ֔ה \t141566\tword\tחַנָּ֔ה \tnmpr\n",
      "\n",
      "8\t1_Samuel\t1\t2\t426592\tbook\tSamuel_I\t453946\tclause\tוְשֵׁ֥ם הַשֵּׁנִ֖ית פְּנִנָּ֑ה \t141571\tword\tפְּנִנָּ֑ה \tnmpr\n",
      "\n",
      "9\t1_Samuel\t1\t2\t426592\tbook\tSamuel_I\t453948\tclause\tלִפְנִנָּה֙ יְלָדִ֔ים \t141575\tword\tפְנִנָּה֙ \tnmpr\n",
      "\n"
     ]
    }
   ],
   "source": [
    "checkout()"
   ]
  },
  {
   "cell_type": "markdown",
   "metadata": {},
   "source": [
    "You see the following columns:\n",
    "\n",
    "* **R** the sequence number of the result tuple in the result list\n",
    "* **S1 S2 S3** the section as book, chapter, verse, in separate columns\n",
    "* **NODEi TYPEi** the node and its type, for each node **i** in the result tuple\n",
    "* **TEXTi** the full text of node **i**, if the node type admits a concise text representation\n",
    "* **sp3** the value of feature **3**, since our query mentions the feature `sp` on node 3"
   ]
  },
  {
   "cell_type": "markdown",
   "metadata": {},
   "source": [
    "# Richer exports\n",
    "\n",
    "If we want to see the clause type (feature `typ`) and the word gender (feature `gn`) as well, we must mention them\n",
    "in the query. \n",
    "\n",
    "We can do so as follows:"
   ]
  },
  {
   "cell_type": "code",
   "execution_count": 9,
   "metadata": {
    "ExecuteTime": {
     "end_time": "2018-05-24T07:46:55.998382Z",
     "start_time": "2018-05-24T07:46:55.137956Z"
    }
   },
   "outputs": [
    {
     "name": "stdout",
     "output_type": "stream",
     "text": [
      "  0.98s 1868 results\n"
     ]
    }
   ],
   "source": [
    "query = '''\n",
    "book book=Samuel_I\n",
    "  clause typ*\n",
    "    word sp=nmpr gn*\n",
    "'''\n",
    "results = A.search(query)"
   ]
  },
  {
   "cell_type": "markdown",
   "metadata": {},
   "source": [
    "The same number of results as before. \n",
    "The `*` is a trivial condition, it is always true.\n",
    "\n",
    "We do the export again and peek at the results."
   ]
  },
  {
   "cell_type": "code",
   "execution_count": 10,
   "metadata": {},
   "outputs": [
    {
     "name": "stdout",
     "output_type": "stream",
     "text": [
      "R\tS1\tS2\tS3\tNODE1\tTYPE1\tbook1\tNODE2\tTYPE2\tTEXT2\ttyp2\tNODE3\tTYPE3\tTEXT3\tgn3\tsp3\n",
      "\n",
      "1\t1_Samuel\t1\t1\t426592\tbook\tSamuel_I\t453942\tclause\tוַיְהִי֩ אִ֨ישׁ אֶחָ֜ד מִן־הָרָמָתַ֛יִם צֹופִ֖ים מֵהַ֣ר אֶפְרָ֑יִם \tWayX\t141547\tword\tאֶפְרָ֑יִם \tunknown\tnmpr\n",
      "\n",
      "2\t1_Samuel\t1\t1\t426592\tbook\tSamuel_I\t453943\tclause\tוּשְׁמֹ֡ו אֶ֠לְקָנָה בֶּן־יְרֹחָ֧ם בֶּן־אֱלִיה֛וּא בֶּן־תֹּ֥חוּ בֶן־צ֖וּף אֶפְרָתִֽי׃ \tNmCl\t141550\tword\tאֶ֠לְקָנָה \tm\tnmpr\n",
      "\n",
      "3\t1_Samuel\t1\t1\t426592\tbook\tSamuel_I\t453943\tclause\tוּשְׁמֹ֡ו אֶ֠לְקָנָה בֶּן־יְרֹחָ֧ם בֶּן־אֱלִיה֛וּא בֶּן־תֹּ֥חוּ בֶן־צ֖וּף אֶפְרָתִֽי׃ \tNmCl\t141552\tword\tיְרֹחָ֧ם \tm\tnmpr\n",
      "\n",
      "4\t1_Samuel\t1\t1\t426592\tbook\tSamuel_I\t453943\tclause\tוּשְׁמֹ֡ו אֶ֠לְקָנָה בֶּן־יְרֹחָ֧ם בֶּן־אֱלִיה֛וּא בֶּן־תֹּ֥חוּ בֶן־צ֖וּף אֶפְרָתִֽי׃ \tNmCl\t141554\tword\tאֱלִיה֛וּא \tm\tnmpr\n",
      "\n",
      "5\t1_Samuel\t1\t1\t426592\tbook\tSamuel_I\t453943\tclause\tוּשְׁמֹ֡ו אֶ֠לְקָנָה בֶּן־יְרֹחָ֧ם בֶּן־אֱלִיה֛וּא בֶּן־תֹּ֥חוּ בֶן־צ֖וּף אֶפְרָתִֽי׃ \tNmCl\t141556\tword\tתֹּ֥חוּ \tm\tnmpr\n",
      "\n",
      "6\t1_Samuel\t1\t1\t426592\tbook\tSamuel_I\t453943\tclause\tוּשְׁמֹ֡ו אֶ֠לְקָנָה בֶּן־יְרֹחָ֧ם בֶּן־אֱלִיה֛וּא בֶּן־תֹּ֥חוּ בֶן־צ֖וּף אֶפְרָתִֽי׃ \tNmCl\t141558\tword\tצ֖וּף \tm\tnmpr\n",
      "\n",
      "7\t1_Samuel\t1\t2\t426592\tbook\tSamuel_I\t453945\tclause\tשֵׁ֤ם אַחַת֙ חַנָּ֔ה \tNmCl\t141566\tword\tחַנָּ֔ה \tf\tnmpr\n",
      "\n",
      "8\t1_Samuel\t1\t2\t426592\tbook\tSamuel_I\t453946\tclause\tוְשֵׁ֥ם הַשֵּׁנִ֖ית פְּנִנָּ֑ה \tNmCl\t141571\tword\tפְּנִנָּ֑ה \tf\tnmpr\n",
      "\n",
      "9\t1_Samuel\t1\t2\t426592\tbook\tSamuel_I\t453948\tclause\tלִפְנִנָּה֙ יְלָדִ֔ים \tNmCl\t141575\tword\tפְנִנָּה֙ \tf\tnmpr\n",
      "\n"
     ]
    }
   ],
   "source": [
    "A.export(results)\n",
    "checkout()"
   ]
  },
  {
   "cell_type": "markdown",
   "metadata": {},
   "source": [
    "As you see, you have an extra column **typ2** and **gn3**.\n",
    "\n",
    "This gives you a lot of control over the generation of spreadsheets."
   ]
  },
  {
   "cell_type": "markdown",
   "metadata": {},
   "source": [
    "# Not from queries\n",
    "\n",
    "You can also export lists of node tuples that are not obtained by a query:"
   ]
  },
  {
   "cell_type": "code",
   "execution_count": 11,
   "metadata": {},
   "outputs": [
    {
     "data": {
      "text/plain": [
       "((453942, 141547), (453943, 141550))"
      ]
     },
     "execution_count": 11,
     "metadata": {},
     "output_type": "execute_result"
    }
   ],
   "source": [
    "tuples = (\n",
    "    tuple(results[0][1:3]),\n",
    "    tuple(results[1][1:3]),\n",
    ")\n",
    "\n",
    "tuples"
   ]
  },
  {
   "cell_type": "markdown",
   "metadata": {},
   "source": [
    "Two rows, each row has a clause node and a word node.\n",
    "\n",
    "Let's do a bare export:"
   ]
  },
  {
   "cell_type": "code",
   "execution_count": 12,
   "metadata": {},
   "outputs": [
    {
     "name": "stdout",
     "output_type": "stream",
     "text": [
      "R\tS1\tS2\tS3\tNODE1\tTYPE1\tTEXT1\tbook1\tNODE2\tTYPE2\tTEXT2\ttyp2\n",
      "\n",
      "1\t1_Samuel\t1\t1\t453942\tclause\tוַיְהִי֩ אִ֨ישׁ אֶחָ֜ד מִן־הָרָמָתַ֛יִם צֹופִ֖ים מֵהַ֣ר אֶפְרָ֑יִם \t\t141547\tword\tאֶפְרָ֑יִם \t\n",
      "\n",
      "2\t1_Samuel\t1\t1\t453943\tclause\tוּשְׁמֹ֡ו אֶ֠לְקָנָה בֶּן־יְרֹחָ֧ם בֶּן־אֱלִיה֛וּא בֶּן־תֹּ֥חוּ בֶן־צ֖וּף אֶפְרָתִֽי׃ \t\t141550\tword\tאֶ֠לְקָנָה \t\n",
      "\n"
     ]
    }
   ],
   "source": [
    "A.export(tuples)\n",
    "checkout()"
   ]
  },
  {
   "cell_type": "markdown",
   "metadata": {},
   "source": [
    "Wait a minute: why is the `typ2` there?\n",
    "\n",
    "It is because we have run a query before where we asked for `typ`.\n",
    "\n",
    "If we do not want to be influenced by previous things we've run, we need to reset the display:"
   ]
  },
  {
   "cell_type": "code",
   "execution_count": 13,
   "metadata": {},
   "outputs": [],
   "source": [
    "A.displayReset('tupleFeatures')"
   ]
  },
  {
   "cell_type": "markdown",
   "metadata": {},
   "source": [
    "Again:"
   ]
  },
  {
   "cell_type": "code",
   "execution_count": 14,
   "metadata": {},
   "outputs": [
    {
     "name": "stdout",
     "output_type": "stream",
     "text": [
      "R\tS1\tS2\tS3\tNODE1\tTYPE1\tTEXT1\tNODE2\tTYPE2\tTEXT2\n",
      "\n",
      "1\t1_Samuel\t1\t1\t453942\tclause\tוַיְהִי֩ אִ֨ישׁ אֶחָ֜ד מִן־הָרָמָתַ֛יִם צֹופִ֖ים מֵהַ֣ר אֶפְרָ֑יִם \t141547\tword\tאֶפְרָ֑יִם \n",
      "\n",
      "2\t1_Samuel\t1\t1\t453943\tclause\tוּשְׁמֹ֡ו אֶ֠לְקָנָה בֶּן־יְרֹחָ֧ם בֶּן־אֱלִיה֛וּא בֶּן־תֹּ֥חוּ בֶן־צ֖וּף אֶפְרָתִֽי׃ \t141550\tword\tאֶ֠לְקָנָה \n",
      "\n"
     ]
    }
   ],
   "source": [
    "A.export(tuples)\n",
    "checkout()"
   ]
  },
  {
   "cell_type": "markdown",
   "metadata": {},
   "source": [
    "# Display setup\n",
    "\n",
    "We can get richer exports by means of\n",
    "`A.displaySetup()`, using the parameter `tupleFeatures`:"
   ]
  },
  {
   "cell_type": "code",
   "execution_count": 15,
   "metadata": {},
   "outputs": [],
   "source": [
    "A.displaySetup(tupleFeatures=(\n",
    "    (0, 'typ rela'),\n",
    "    (1, 'sp gn nu pdp'),\n",
    "))"
   ]
  },
  {
   "cell_type": "markdown",
   "metadata": {},
   "source": [
    "We assign extra features per member of the tuple.\n",
    "\n",
    "In the above case:\n",
    "\n",
    "* the first (`0`) member (the clause node), gets feature `typ`;\n",
    "* the second (`1`) member (the word node), gets features `sp` and `gn`."
   ]
  },
  {
   "cell_type": "code",
   "execution_count": 16,
   "metadata": {},
   "outputs": [
    {
     "name": "stdout",
     "output_type": "stream",
     "text": [
      "R\tS1\tS2\tS3\tNODE1\tTYPE1\tTEXT1\ttyp1\trela1\tNODE2\tTYPE2\tTEXT2\tsp2\tgn2\tnu2\tpdp2\n",
      "\n",
      "1\t1_Samuel\t1\t1\t453942\tclause\tוַיְהִי֩ אִ֨ישׁ אֶחָ֜ד מִן־הָרָמָתַ֛יִם צֹופִ֖ים מֵהַ֣ר אֶפְרָ֑יִם \tWayX\tNA\t141547\tword\tאֶפְרָ֑יִם \tnmpr\tunknown\tsg\tnmpr\n",
      "\n",
      "2\t1_Samuel\t1\t1\t453943\tclause\tוּשְׁמֹ֡ו אֶ֠לְקָנָה בֶּן־יְרֹחָ֧ם בֶּן־אֱלִיה֛וּא בֶּן־תֹּ֥חוּ בֶן־צ֖וּף אֶפְרָתִֽי׃ \tNmCl\tNA\t141550\tword\tאֶ֠לְקָנָה \tnmpr\tm\tsg\tnmpr\n",
      "\n"
     ]
    }
   ],
   "source": [
    "A.export(tuples)\n",
    "checkout()"
   ]
  },
  {
   "cell_type": "markdown",
   "metadata": {},
   "source": [
    "Talking about display setup: other parameters also have effect, e.g. the text format.\n",
    "\n",
    "Let's change it to the phomnetic representation."
   ]
  },
  {
   "cell_type": "code",
   "execution_count": 17,
   "metadata": {},
   "outputs": [
    {
     "name": "stdout",
     "output_type": "stream",
     "text": [
      "R\tS1\tS2\tS3\tNODE1\tTYPE1\tTEXT1\ttyp1\trela1\tNODE2\tTYPE2\tTEXT2\tsp2\tgn2\tnu2\tpdp2\n",
      "\n",
      "1\t1_Samuel\t1\t1\t453942\tclause\twayᵊhˌî ʔˌîš ʔeḥˈāḏ min-hārāmāṯˈayim ṣôfˌîm mēhˈar ʔefrˈāyim \tWayX\tNA\t141547\tword\tʔefrˈāyim \tnmpr\tunknown\tsg\tnmpr\n",
      "\n",
      "2\t1_Samuel\t1\t1\t453943\tclause\tûšᵊmˈô ʔelqānˌā ben-yᵊrōḥˈām ben-ʔᵉlîhˈû ben-tˌōḥû ven-ṣˌûf ʔefrāṯˈî . \tNmCl\tNA\t141550\tword\tʔelqānˌā \tnmpr\tm\tsg\tnmpr\n",
      "\n"
     ]
    }
   ],
   "source": [
    "A.export(tuples, fmt='text-phono-full')\n",
    "checkout()"
   ]
  },
  {
   "cell_type": "markdown",
   "metadata": {},
   "source": [
    "# Chained queries\n",
    "\n",
    "You can chain queries like this:"
   ]
  },
  {
   "cell_type": "code",
   "execution_count": 18,
   "metadata": {},
   "outputs": [
    {
     "name": "stdout",
     "output_type": "stream",
     "text": [
      "  0.46s 6 results\n",
      "  0.56s 1 result\n"
     ]
    }
   ],
   "source": [
    "results = (\n",
    "    A.search('''\n",
    "book book=Samuel_I\n",
    "  chapter chapter=1\n",
    "    verse verse=1\n",
    "      clause\n",
    "        word sp=nmpr\n",
    "''')\n",
    "    +\n",
    "    A.search('''\n",
    "book book=Samuel_I\n",
    "  chapter chapter=1\n",
    "    verse verse=1\n",
    "      clause\n",
    "        word sp=verb nu=pl\n",
    "''')\n",
    ")"
   ]
  },
  {
   "cell_type": "markdown",
   "metadata": {},
   "source": [
    "In such cases, it is better to setup the features yourself:"
   ]
  },
  {
   "cell_type": "code",
   "execution_count": 19,
   "metadata": {},
   "outputs": [],
   "source": [
    "A.displaySetup(\n",
    "    tupleFeatures=(\n",
    "        (3, 'typ rela'),\n",
    "        (4, 'sp gn vt vs'),\n",
    "    ),\n",
    "    fmt='text-phono-full',\n",
    ")"
   ]
  },
  {
   "cell_type": "markdown",
   "metadata": {},
   "source": [
    "Now we can do a fine export:"
   ]
  },
  {
   "cell_type": "code",
   "execution_count": 20,
   "metadata": {},
   "outputs": [
    {
     "name": "stdout",
     "output_type": "stream",
     "text": [
      "R\tS1\tS2\tS3\tNODE1\tTYPE1\tNODE2\tTYPE2\tNODE3\tTYPE3\tNODE4\tTYPE4\tTEXT4\ttyp4\trela4\tNODE5\tTYPE5\tTEXT5\tsp5\tgn5\tvt5\tvs5\n",
      "\n",
      "1\t1_Samuel\t1\t1\t426592\tbook\t426856\tchapter\t1421483\tverse\t453942\tclause\twayᵊhˌî ʔˌîš ʔeḥˈāḏ min-hārāmāṯˈayim ṣôfˌîm mēhˈar ʔefrˈāyim \tWayX\tNA\t141547\tword\tʔefrˈāyim \tnmpr\tunknown\tNA\tNA\n",
      "\n",
      "2\t1_Samuel\t1\t1\t426592\tbook\t426856\tchapter\t1421483\tverse\t453943\tclause\tûšᵊmˈô ʔelqānˌā ben-yᵊrōḥˈām ben-ʔᵉlîhˈû ben-tˌōḥû ven-ṣˌûf ʔefrāṯˈî . \tNmCl\tNA\t141550\tword\tʔelqānˌā \tnmpr\tm\tNA\tNA\n",
      "\n",
      "3\t1_Samuel\t1\t1\t426592\tbook\t426856\tchapter\t1421483\tverse\t453943\tclause\tûšᵊmˈô ʔelqānˌā ben-yᵊrōḥˈām ben-ʔᵉlîhˈû ben-tˌōḥû ven-ṣˌûf ʔefrāṯˈî . \tNmCl\tNA\t141552\tword\tyᵊrōḥˈām \tnmpr\tm\tNA\tNA\n",
      "\n",
      "4\t1_Samuel\t1\t1\t426592\tbook\t426856\tchapter\t1421483\tverse\t453943\tclause\tûšᵊmˈô ʔelqānˌā ben-yᵊrōḥˈām ben-ʔᵉlîhˈû ben-tˌōḥû ven-ṣˌûf ʔefrāṯˈî . \tNmCl\tNA\t141554\tword\tʔᵉlîhˈû \tnmpr\tm\tNA\tNA\n",
      "\n",
      "5\t1_Samuel\t1\t1\t426592\tbook\t426856\tchapter\t1421483\tverse\t453943\tclause\tûšᵊmˈô ʔelqānˌā ben-yᵊrōḥˈām ben-ʔᵉlîhˈû ben-tˌōḥû ven-ṣˌûf ʔefrāṯˈî . \tNmCl\tNA\t141556\tword\ttˌōḥû \tnmpr\tm\tNA\tNA\n",
      "\n",
      "6\t1_Samuel\t1\t1\t426592\tbook\t426856\tchapter\t1421483\tverse\t453943\tclause\tûšᵊmˈô ʔelqānˌā ben-yᵊrōḥˈām ben-ʔᵉlîhˈû ben-tˌōḥû ven-ṣˌûf ʔefrāṯˈî . \tNmCl\tNA\t141558\tword\tṣˌûf \tnmpr\tm\tNA\tNA\n",
      "\n",
      "7\t1_Samuel\t1\t1\t426592\tbook\t426856\tchapter\t1421483\tverse\t453942\tclause\twayᵊhˌî ʔˌîš ʔeḥˈāḏ min-hārāmāṯˈayim ṣôfˌîm mēhˈar ʔefrˈāyim \tWayX\tNA\t141544\tword\tṣôfˌîm \tverb\tm\tptca\tqal\n",
      "\n"
     ]
    }
   ],
   "source": [
    "A.export(results)\n",
    "checkout()"
   ]
  },
  {
   "cell_type": "markdown",
   "metadata": {},
   "source": [
    "# Next steps\n",
    "\n",
    "Now you now how to escape from Text-Fabric.\n",
    "\n",
    "We hope that this makes your stay in TF more comfortable.\n",
    "It's not a *Hotel California*.\n",
    "\n",
    "* **[display](display.ipynb)** become an expert in creating pretty displays of your text structures\n",
    "* **[search](search.ipynb)** turbo charge your hand-coding with search templates\n",
    "* **[share](share.ipynb)** draw in other people's data and let them use yours\n",
    "* **[export](export.ipynb)** export your dataset as an Emdros database"
   ]
  }
 ],
 "metadata": {
  "kernelspec": {
   "display_name": "Python 3",
   "language": "python",
   "name": "python3"
  },
  "language_info": {
   "codemirror_mode": {
    "name": "ipython",
    "version": 3
   },
   "file_extension": ".py",
   "mimetype": "text/x-python",
   "name": "python",
   "nbconvert_exporter": "python",
   "pygments_lexer": "ipython3",
   "version": "3.7.1"
  }
 },
 "nbformat": 4,
 "nbformat_minor": 2
}